{
 "metadata": {
  "name": "",
  "signature": "sha256:e99f1fe03cb85e32c2a648c2ba752c12ecdabb7e5780c3301f4e217c17b319c5"
 },
 "nbformat": 3,
 "nbformat_minor": 0,
 "worksheets": [
  {
   "cells": [
    {
     "cell_type": "code",
     "collapsed": false,
     "input": [
      "%matplotlib inline\n",
      "from matplotlib import pyplot as plt\n",
      "import pandas as pd\n",
      "import tables\n",
      "import screed\n",
      "import numpy as np\n",
      "import seaborn\n",
      "from matplotlib_venn import venn3, venn3_circles"
     ],
     "language": "python",
     "metadata": {},
     "outputs": [],
     "prompt_number": 1
    },
    {
     "cell_type": "heading",
     "level": 2,
     "metadata": {},
     "source": [
      "Making sense of the calculations, before starting!"
     ]
    },
    {
     "cell_type": "code",
     "collapsed": false,
     "input": [
      "v = venn3((1,1,1,1,1,1,1), set_labels=('Ref', 'MSU', 'RNA'))\n",
      "v.get_label_by_id('100').set_text('Only in ref')\n",
      "v.get_label_by_id('010').set_text('Only in MSU')\n",
      "v.get_label_by_id('001').set_text('Only in RNA')\n",
      "\n",
      "v.get_label_by_id('011').set_text('*')\n",
      "v.get_label_by_id('101').set_text('A')\n",
      "v.get_label_by_id('110').set_text('B')\n",
      "\n",
      "v.get_label_by_id('111').set_text('C')"
     ],
     "language": "python",
     "metadata": {},
     "outputs": [
      {
       "metadata": {},
       "output_type": "display_data",
       "png": "[encoded data removed]",
       "text": [
        "<matplotlib.figure.Figure at 0x2b9ba8970ad0>"
       ]
      }
     ],
     "prompt_number": 2
    },
    {
     "cell_type": "markdown",
     "metadata": {},
     "source": [
      "Blat ref/rna $= A + C$ \n",
      "\n",
      "Blat MSU/rna $= C + *$\n",
      "\n",
      "BWA mem ref/MSU $= B + C$ \n",
      "\n",
      "$C = (A + C) \\cap (C + *)$\n",
      "\n",
      "$* = $ Blat MSU/rna $ - C$\n",
      "\n",
      "$A = $ Blat ref/rna $-C$"
     ]
    },
    {
     "cell_type": "code",
     "collapsed": false,
     "input": [
      "! cd .. && make outputs/reference/galGal4.fa_screed\n",
      "! cd .. && make outputs/msu/galGal4.latest.unmapped_reads\n",
      "! cd .. && make workdirs/blat/msu_latest_minlen200.h5"
     ],
     "language": "python",
     "metadata": {},
     "outputs": [
      {
       "output_type": "stream",
       "stream": "stdout",
       "text": [
        "make: `outputs/reference/galGal4.fa_screed' is up to date.\r\n"
       ]
      },
      {
       "output_type": "stream",
       "stream": "stdout",
       "text": [
        "make: `outputs/msu/galGal4.latest.unmapped_reads' is up to date.\r\n"
       ]
      },
      {
       "output_type": "stream",
       "stream": "stdout",
       "text": [
        "make: `workdirs/blat/msu_latest_minlen200.h5' is up to date.\r\n"
       ]
      }
     ],
     "prompt_number": 6
    },
    {
     "cell_type": "code",
     "collapsed": false,
     "input": [
      "ALIGNMENTS_HDF5 = '../workdirs/blat/msu_latest_minlen200.h5'\n",
      "\n",
      "with pd.get_store(ALIGNMENTS_HDF5, mode='r') as store:\n",
      "    print(store)"
     ],
     "language": "python",
     "metadata": {},
     "outputs": [
      {
       "output_type": "stream",
       "stream": "stdout",
       "text": [
        "<class 'pandas.io.pytables.HDFStore'>\n",
        "File path: ../workdirs/blat/msu_latest_minlen200.h5\n",
        "/msu_latest                   frame        (shape->[881304,13]) \n",
        "/reference_galGal4            frame        (shape->[1469272,13])\n"
       ]
      }
     ],
     "prompt_number": 7
    },
    {
     "cell_type": "code",
     "collapsed": false,
     "input": [
      "# Load chick mRNA data from Likit\n",
      "with open('../inputs/chicken_transcripts/global_merged.fa.clean.nr') as seqfile:\n",
      "    rna = {seq['name'] for seq in screed.fasta.fasta_iter(seqfile)}\n",
      "\n",
      "# Load mRNA data to a DataFrame\n",
      "with open('../inputs/chicken_transcripts/global_merged.fa.clean.nr') as seqfile:\n",
      "    chick_rna_df = pd.DataFrame(index=rna)\n",
      "    chick_rna_df['sequence'] = pd.Series({seq['name']: str(seq['sequence'])\n",
      "                                         for seq in screed.fasta.fasta_iter(seqfile)})"
     ],
     "language": "python",
     "metadata": {},
     "outputs": [],
     "prompt_number": 12
    },
    {
     "cell_type": "heading",
     "level": 2,
     "metadata": {},
     "source": [
      "Load msu/rna reads and calculate intersection (C)"
     ]
    },
    {
     "cell_type": "code",
     "collapsed": false,
     "input": [
      "def calc_intersection(ref_rna_set, ref_rna_90_set):\n",
      "    intersection = set()\n",
      "    intersection_90 = set()\n",
      "    \n",
      "    msu_reads = pd.read_hdf(ALIGNMENTS_HDF5, '/msu_latest', mode='r')\n",
      "    intersection |= ref_rna_set & set(msu_reads['Query id'])\n",
      "\n",
      "    msu_reads = msu_reads[msu_reads['% identity'] > 90]\n",
      "    intersection_90 |= ref_rna_set & set(msu_reads['Query id'])\n",
      "\n",
      "    return intersection, intersection_90"
     ],
     "language": "python",
     "metadata": {},
     "outputs": [],
     "prompt_number": 13
    },
    {
     "cell_type": "heading",
     "level": 2,
     "metadata": {},
     "source": [
      "$* = $ Blat msu/rna $- C = $ only_rna_msu"
     ]
    },
    {
     "cell_type": "code",
     "collapsed": false,
     "input": [
      "def calc_only_rna_msu(intersection, intersection_90):\n",
      "    only_rna_msu = set()\n",
      "    only_rna_msu_90 = set()\n",
      "\n",
      "    msu_reads = pd.read_hdf(ALIGNMENTS_HDF5, '/msu_latest', mode='r')\n",
      "    only_rna_msu |= set(msu_reads['Query id']) - intersection\n",
      "\n",
      "    msu_reads = msu_reads[msu_reads['% identity'] > 90]\n",
      "    only_rna_msu_90 |= set(msu_reads['Query id']) - intersection_90\n",
      "\n",
      "    #msu_matches = msu_reads[~(msu_reads['Query id'].isin(ref_matches['Query id']))]\n",
      "    return only_rna_msu, only_rna_msu_90\n",
      "\n",
      "def calc_only_in_msu(unmapped_reads):\n",
      "    only_in_msu = unmapped_reads.copy()\n",
      "    only_in_msu_90 = unmapped_reads.copy()\n",
      "\n",
      "    msu_reads = pd.read_hdf(ALIGNMENTS_HDF5, '/msu_latest', mode='r')\n",
      "    only_in_msu -= set(msu_reads['Subject id'])\n",
      "\n",
      "    msu_reads = msu_reads[msu_reads['% identity'] > 90]\n",
      "    only_in_msu_90 -= set(msu_reads['Subject id'])\n",
      "\n",
      "    msu_reads = None\n",
      "    #msu_matches = msu_reads[~(msu_reads['Query id'].isin(ref_matches['Query id']))]\n",
      "    return only_in_msu, only_in_msu_90"
     ],
     "language": "python",
     "metadata": {},
     "outputs": [],
     "prompt_number": 14
    },
    {
     "cell_type": "heading",
     "level": 2,
     "metadata": {},
     "source": [
      "galGal4 data"
     ]
    },
    {
     "cell_type": "code",
     "collapsed": false,
     "input": [
      "# Load galGal4 data\n",
      "chick_galGal4 = screed.ScreedDB('../outputs/galGal4/galGal4.fa_screed')\n",
      "galGal4 = {chick_galGal4[seq]['name'] for seq in chick_galGal4}\n",
      "\n",
      "# Load galGal4 data to a DataFrame\n",
      "chick_galGal4_df = pd.DataFrame(index=galGal4)\n",
      "chick_galGal4_df['sequence'] = pd.Series({seq: str(chick_galGal4[seq]['sequence']) for seq in chick_galGal4})\n",
      "\n",
      "# Load all alignments for galGal4.x.mrnaseq\n",
      "galGal4_rna = pd.read_hdf(ALIGNMENTS_HDF5, \"/reference_galGal4\", mode='r')\n",
      "galGal4_rna_set = set(galGal4_rna['Query id'])\n",
      "\n",
      "# Select only alignments with % identity > 90\n",
      "galGal4_rna_90 = galGal4_rna[galGal4_rna['% identity'] > 90]\n",
      "galGal4_rna_set_90 = set(galGal4_rna_90['Query id'])\n",
      "\n",
      "# Load unmapped msu reads (to galGal4)\n",
      "with open('../outputs/msu/galGal4.unmapped_reads', 'r') as f:\n",
      "    unmapped_reads_galGal4 = {line.strip() for line in f if line.startswith('>')}"
     ],
     "language": "python",
     "metadata": {},
     "outputs": [],
     "prompt_number": 15
    },
    {
     "cell_type": "code",
     "collapsed": false,
     "input": [
      "def summarize(rna, ref, ref_rna_set, ref_rna_set_90, unmapped_reads):\n",
      "    intersection, intersection_90 = calc_intersection(ref_rna_set, ref_rna_set_90)\n",
      "    only_rna_msu, only_rna_msu_90 = calc_only_rna_msu(intersection, intersection_90)\n",
      "    only_in_msu, only_in_msu_90 = calc_only_in_msu(unmapped_reads)\n",
      "    \n",
      "    # $A = $ Blat ref/rna $-C =$ only_rna_ref\n",
      "    only_rna_ref = ref_rna_set - intersection\n",
      "    only_rna_ref_90 = ref_rna_set - intersection_90\n",
      "    \n",
      "    only_rna = rna - only_rna_ref - only_rna_msu - intersection\n",
      "    only_ref = ref - only_rna_ref - intersection # - only_msu_ref\n",
      "    \n",
      "    return only_rna, only_rna_msu, only_rna_ref, intersection\n",
      "\n",
      "def create_dataframes(chick_rna_df, only_rna_msu, only_rna_msu_90, only_rna_ref, only_rna_ref_90):\n",
      "    # Create new DataFrames with only_rna_msu\\* sequences\n",
      "    only_rna_msu_90_df = chick_rna_df[chick_rna_df.index.isin(only_rna_msu_90)]\n",
      "    only_rna_msu_df = chick_rna_df[chick_rna_df.index.isin(only_rna_msu)]\n",
      "    \n",
      "    # Create new DataFrames with only_rna_ref\\* sequences\n",
      "    only_rna_ref_90_df = chick_rna_df[chick_rna_df.index.isin(only_rna_ref_90)]\n",
      "    only_rna_ref_df = chick_rna_df[chick_rna_df.index.isin(only_rna_ref)]\n",
      "    \n",
      "    # Checking sequences lengths\n",
      "    lens_all = chick_rna_df['sequence'].apply(len)\n",
      "    lens_only_rna_msu = only_rna_msu_df['sequence'].apply(len)\n",
      "    lens_only_rna_msu_90 = only_rna_msu_90_df['sequence'].apply(len)\n",
      "    lens_only_rna_ref = only_rna_ref_df['sequence'].apply(len)\n",
      "    lens_only_rna_ref_90 = only_rna_ref_90_df['sequence'].apply(len)\n",
      "\n",
      "    lens_df = pd.DataFrame({\n",
      "      'mRNAseq': {\n",
      "        'total': lens_all.size,\n",
      "        'mean': lens_all.mean(),\n",
      "        'max': lens_all.max(),\n",
      "        'min': lens_all.min()\n",
      "      },\n",
      "      'in MSU and not in reference (min len >= 200)' : {\n",
      "        'total': lens_only_rna_msu.size,\n",
      "        'mean': lens_only_rna_msu.mean(),\n",
      "        'max': lens_only_rna_msu.max(),\n",
      "        'min': lens_only_rna_msu.min()\n",
      "      },\n",
      "      'in MSU and not in reference (min len >= 200, min align size > 90% contig or MSU read)': {\n",
      "        'total': lens_only_rna_msu_90.size,\n",
      "        'mean': lens_only_rna_msu_90.mean(),\n",
      "        'max': lens_only_rna_msu_90.max(),\n",
      "        'min': lens_only_rna_msu_90.min(),\n",
      "      },\n",
      "      'in reference and not in MSU (min len >= 200)': {\n",
      "        'total': lens_only_rna_ref.size,\n",
      "        'mean': lens_only_rna_ref.mean(),\n",
      "        'max': lens_only_rna_ref.max(),\n",
      "        'min': lens_only_rna_ref.min()\n",
      "      },\n",
      "      'in reference and not in MSU (min len >= 200, min align size > 90% contig or MSU read))': {\n",
      "        'total': lens_only_rna_ref_90.size,\n",
      "        'mean': lens_only_rna_ref_90.mean(),\n",
      "        'max': lens_only_rna_ref_90.max(),\n",
      "        'min': lens_only_rna_ref_90.min()\n",
      "      }\n",
      "    })\n",
      "\n",
      "    return lens_df.T\n",
      "\n",
      "def plot_histograms():\n",
      "    plt.figure()\n",
      "    lens_all.hist(bins=range(0, 5000, 500), label='all')\n",
      "    lens_only_rna_msu.hist(bins=range(0, 5000, 500), label='RNA seqs in msu and not in reference')\n",
      "    lens_only_rna_msu_90.hist(bins=range(0, 5000, 500), label='RNA seqs in msu and not in reference > 90%')\n",
      "    plt.legend()\n",
      "\n",
      "    plt.figure()\n",
      "    lens_only_rna_msu.hist(bins=range(0, 5000, 500), label='RNA seqs in msu and not in reference')\n",
      "    lens_only_rna_msu_90.hist(bins=range(0, 5000, 500), label='RNA seqs in msu and not in reference > 90%')\n",
      "    plt.legend()\n",
      "\n",
      "    plt.figure()\n",
      "    lens_all.hist(bins=range(0, 5000, 500), label='all')\n",
      "    lens_only_rna_ref.hist(bins=range(0, 5000, 500), label='RNA seqs in reference and not in msu')\n",
      "    lens_only_rna_ref_90.hist(bins=range(0, 5000, 500), label='RNA seqs in reference and not in msu > 90%')\n",
      "    plt.legend()\n",
      "    \n",
      "    plt.figure()\n",
      "    lens_only_rna_msu.hist(bins=range(0, 5000, 500), label='RNA seqs in reference and not in msu')\n",
      "    lens_only_rna_msu_90.hist(bins=range(0, 5000, 500), label='RNA seqs in reference and not in msu > 90%')\n",
      "    plt.legend()"
     ],
     "language": "python",
     "metadata": {},
     "outputs": [],
     "prompt_number": 16
    },
    {
     "cell_type": "code",
     "collapsed": false,
     "input": [
      "def venn_diagram(only_rna, only_rna_msu, only_rna_ref, intersection, refname=\"galGal4\"):\n",
      "    v = venn3((1,1,1,1,1,1,1), set_labels=(refname, 'MSU', 'RNA'))\n",
      "    v.get_label_by_id('100').set_text('') # 'Only in ref', len(only_ref)\n",
      "    v.get_label_by_id('010').set_text('') # 'Only in msu', len(only_in_msu)\n",
      "    v.get_label_by_id('001').set_text('D\\n%.1fK' % (float(only_rna) / 1000)) # 121.3K\n",
      "\n",
      "    v.get_label_by_id('011').set_text('C\\n%.1fK' % (float(only_rna_msu) / 1000)) # 14.4K\n",
      "    v.get_label_by_id('101').set_text('A\\n%.1fK' % (float(only_rna_ref) / 1000)) # 35.2K\n",
      "    v.get_label_by_id('110').set_text('')\n",
      "\n",
      "    v.get_label_by_id('111').set_text('B\\n%.1fK' % (float(intersection) / 1000)) # 248.2K"
     ],
     "language": "python",
     "metadata": {},
     "outputs": [],
     "prompt_number": 17
    },
    {
     "cell_type": "heading",
     "level": 2,
     "metadata": {},
     "source": [
      "galGal4 diagram"
     ]
    },
    {
     "cell_type": "code",
     "collapsed": false,
     "input": [
      "galGal4_summary = summarize(rna, galGal4, galGal4_rna_set, galGal4_rna_set_90, unmapped_reads_galGal4)\n",
      "#create_dataframes()\n",
      "#plot_histograms()"
     ],
     "language": "python",
     "metadata": {},
     "outputs": [],
     "prompt_number": 18
    },
    {
     "cell_type": "code",
     "collapsed": false,
     "input": [
      "venn_diagram(len(galGal4_summary[0]), len(galGal4_summary[1]), len(galGal4_summary[2]), len(galGal4_summary[3]), refname=\"galGal4\")"
     ],
     "language": "python",
     "metadata": {},
     "outputs": [
      {
       "metadata": {},
       "output_type": "display_data",
       "png": "[encoded data removed]",
       "text": [
        "<matplotlib.figure.Figure at 0x2b9becedad90>"
       ]
      }
     ],
     "prompt_number": 19
    },
    {
     "cell_type": "code",
     "collapsed": false,
     "input": [
      "def save_sequences(chick_rna_df, only_rna, only_rna_msu, only_rna_ref, intersection, ref='galGal4'):\n",
      "    !mkdir -p ../outputs/rna/msu/${ref}\n",
      "\n",
      "    with open('../outputs/rna/msu/%s/only_rna.fa' % ref, 'w') as f:\n",
      "        for name, seq in chick_rna_df[chick_rna_df.index.isin(only_rna)]['sequence'].iteritems():\n",
      "            f.write(\">%s\\n%s\\n\" % (name, \"\\n\".join(seq[60 * i: 60 * i + 60]\n",
      "                                                   for i in range(0, (len(seq) / 60) + 1))))\n",
      "    with open('../outputs/rna/msu/%s/only_rna_msu.fa' % ref, 'w') as f:\n",
      "        for name, seq in chick_rna_df[chick_rna_df.index.isin(only_rna_msu)]['sequence'].iteritems():\n",
      "            f.write(\">%s\\n%s\\n\" % (name, \"\\n\".join(seq[60 * i: 60 * i + 60]\n",
      "                                                   for i in range(0, (len(seq) / 60) + 1))))\n",
      "    with open('../outputs/rna/msu/%s/only_rna_ref.fa' % ref, 'w') as f:\n",
      "        for name, seq in chick_rna_df[chick_rna_df.index.isin(only_rna_ref)]['sequence'].iteritems():\n",
      "            f.write(\">%s\\n%s\\n\" % (name, \"\\n\".join(seq[60 * i: 60 * i + 60]\n",
      "                                                   for i in range(0, (len(seq) / 60) + 1))))\n",
      "    with open('../outputs/rna/msu/%s/intersection.fa' % ref, 'w') as f:\n",
      "        for name, seq in chick_rna_df[chick_rna_df.index.isin(intersection)]['sequence'].iteritems():\n",
      "            f.write(\">%s\\n%s\\n\" % (name, \"\\n\".join(seq[60 * i: 60 * i + 60]\n",
      "                                                   for i in range(0, (len(seq) / 60) + 1))))"
     ],
     "language": "python",
     "metadata": {},
     "outputs": [],
     "prompt_number": 53
    },
    {
     "cell_type": "code",
     "collapsed": false,
     "input": [
      "save_sequences(chick_rna_df, *galGal4_summary, ref='galGal4')"
     ],
     "language": "python",
     "metadata": {},
     "outputs": [],
     "prompt_number": 54
    }
   ],
   "metadata": {}
  }
 ]
}