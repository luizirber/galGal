{
 "metadata": {
  "name": "",
  "signature": "sha256:05cc96fd5210998d5784ebc9ed6626e6d2e70059647cb94caf1f581b364d77d8"
 },
 "nbformat": 3,
 "nbformat_minor": 0,
 "worksheets": [
  {
   "cells": [
    {
     "cell_type": "heading",
     "level": 1,
     "metadata": {},
     "source": [
      "Exploring PacBio"
     ]
    },
    {
     "cell_type": "markdown",
     "metadata": {},
     "source": [
      "Pacbio seq reads were mapped to the current version of the reference genome (galGal4).\n",
      "\n",
      "Important details:\n",
      "  - All reference genomes are soft masked. At first it was inconclusive how BWA behaved in this case,\n",
      "    so I ran it with both soft masks and replacing 'agct' with 'AGCT'. The results were the same."
     ]
    },
    {
     "cell_type": "code",
     "collapsed": false,
     "input": [
      "%matplotlib inline\n",
      "from matplotlib import pyplot as plt\n",
      "from glob import glob\n",
      "import os"
     ],
     "language": "python",
     "metadata": {},
     "outputs": [],
     "prompt_number": 1
    },
    {
     "cell_type": "code",
     "collapsed": false,
     "input": [
      "!cd .. && make pacbio_galGal4"
     ],
     "language": "python",
     "metadata": {},
     "outputs": [
      {
       "output_type": "stream",
       "stream": "stdout",
       "text": [
        "make: Nothing to be done for `pacbio_galGal4'.\r\n"
       ]
      }
     ],
     "prompt_number": 3
    },
    {
     "cell_type": "heading",
     "level": 2,
     "metadata": {},
     "source": [
      "Counting unmapped reads"
     ]
    },
    {
     "cell_type": "markdown",
     "metadata": {},
     "source": [
      "There are 11,666,999 reads in the input files.\n",
      "\n",
      "There are 627,636 (5.37%) **unmapped reads** to galGal4.\n",
      "\n",
      "Reference for using samtools to count reads:\n",
      "  - http://picard.sourceforge.net/explain-flags.html\n",
      "  - http://left.subtree.org/2012/04/13/counting-the-number-of-reads-in-a-bam-file/"
     ]
    },
    {
     "cell_type": "heading",
     "level": 3,
     "metadata": {},
     "source": [
      "galGal4"
     ]
    },
    {
     "cell_type": "code",
     "collapsed": false,
     "input": [
      "print \"Total: \",\n",
      "! samtools view -c ../outputs/pacbio/galGal4.pacbio.sorted.bam"
     ],
     "language": "python",
     "metadata": {},
     "outputs": [
      {
       "output_type": "stream",
       "stream": "stdout",
       "text": [
        "Total: "
       ]
      },
      {
       "output_type": "stream",
       "stream": "stdout",
       "text": [
        "11666999\r\n"
       ]
      },
      {
       "output_type": "stream",
       "stream": "stdout",
       "text": [
        "\n"
       ]
      }
     ],
     "prompt_number": 6
    },
    {
     "cell_type": "code",
     "collapsed": false,
     "input": [
      "print \"Unmapped \",\n",
      "! samtools view -c -f 4 ../outputs/pacbio/galGal4.pacbio.sorted.bam"
     ],
     "language": "python",
     "metadata": {},
     "outputs": [
      {
       "output_type": "stream",
       "stream": "stdout",
       "text": [
        "Unmapped "
       ]
      },
      {
       "output_type": "stream",
       "stream": "stdout",
       "text": [
        "627636\r\n"
       ]
      },
      {
       "output_type": "stream",
       "stream": "stdout",
       "text": [
        "\n"
       ]
      }
     ],
     "prompt_number": 7
    },
    {
     "cell_type": "code",
     "collapsed": false,
     "input": [
      "total_N = !grep -F -o N ../outputs/reference/galGal4.fa |wc -l\n",
      "total_bases = !grep -v \">\" ../outputs/reference/galGal4.fa |wc -c\n",
      "print float(total_N[0]) / float(total_bases[0])"
     ],
     "language": "python",
     "metadata": {},
     "outputs": [
      {
       "output_type": "stream",
       "stream": "stdout",
       "text": [
        "0.0131960026036\n"
       ]
      }
     ],
     "prompt_number": 2
    },
    {
     "cell_type": "heading",
     "level": 1,
     "metadata": {},
     "source": [
      "k-mer assembly stats"
     ]
    },
    {
     "cell_type": "code",
     "collapsed": false,
     "input": [
      "!python ~/khmer/sandbox/assemstats3.py 100 ../outputs/pacbio_assembly/Chicken_10Kb20Kb_40X_Filtered_Subreads.fastq > ../outputs/pacbio_assembly/assemstats_output"
     ],
     "language": "python",
     "metadata": {},
     "outputs": [],
     "prompt_number": 10
    },
    {
     "cell_type": "code",
     "collapsed": false,
     "input": [
      "import pandas as pd\n",
      "pd.read_table(\"../outputs/pacbio_assembly/assemstats_output\", sep=\" \")"
     ],
     "language": "python",
     "metadata": {},
     "outputs": [
      {
       "html": [
        "<div style=\"max-height:1000px;max-width:1500px;overflow:auto;\">\n",
        "<table border=\"1\" class=\"dataframe\">\n",
        "  <thead>\n",
        "    <tr style=\"text-align: right;\">\n",
        "      <th></th>\n",
        "      <th>**</th>\n",
        "      <th>cutoff:</th>\n",
        "      <th>100</th>\n",
        "    </tr>\n",
        "  </thead>\n",
        "  <tbody>\n",
        "    <tr>\n",
        "      <th>0</th>\n",
        "      <td>                             N\\tsum\\tmax\\tfilename</td>\n",
        "      <td>NaN</td>\n",
        "      <td>NaN</td>\n",
        "    </tr>\n",
        "    <tr>\n",
        "      <th>1</th>\n",
        "      <td> 8935637\\t43071775702\\t37722\\t../outputs/pacbio...</td>\n",
        "      <td>NaN</td>\n",
        "      <td>NaN</td>\n",
        "    </tr>\n",
        "  </tbody>\n",
        "</table>\n",
        "</div>"
       ],
       "metadata": {},
       "output_type": "pyout",
       "prompt_number": 11,
       "text": [
        "                                                  **  cutoff:  100\n",
        "0                              N\\tsum\\tmax\\tfilename      NaN  NaN\n",
        "1  8935637\\t43071775702\\t37722\\t../outputs/pacbio...      NaN  NaN"
       ]
      }
     ],
     "prompt_number": 11
    },
    {
     "cell_type": "code",
     "collapsed": false,
     "input": [
      "!cat ../outputs/pacbio_assembly/assemstats_output"
     ],
     "language": "python",
     "metadata": {},
     "outputs": [
      {
       "output_type": "stream",
       "stream": "stdout",
       "text": [
        "** cutoff: 100\r\n",
        "N\tsum\tmax\tfilename\r\n",
        "8935637\t43071775702\t37722\t../outputs/pacbio_assembly/Chicken_10Kb20Kb_40X_Filtered_Subreads.fastq\r\n"
       ]
      }
     ],
     "prompt_number": 12
    },
    {
     "cell_type": "code",
     "collapsed": false,
     "input": [],
     "language": "python",
     "metadata": {},
     "outputs": []
    }
   ],
   "metadata": {}
  }
 ]
}