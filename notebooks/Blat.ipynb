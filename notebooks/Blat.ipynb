{
 "metadata": {
  "name": ""
 },
 "nbformat": 3,
 "nbformat_minor": 0,
 "worksheets": [
  {
   "cells": [
    {
     "cell_type": "code",
     "collapsed": false,
     "input": [
      "#!scp hpcc:/mnt/scratch/irberlui/biodata/galGal/scripts/minlen200.h5 .\n",
      "!scp hpcc:/mnt/scratch/irberlui/biodata/galGal/inputs/chicken_transcripts/global_merged.fa.clean.nr_screed ."
     ],
     "language": "python",
     "metadata": {},
     "outputs": [
      {
       "output_type": "stream",
       "stream": "stdout",
       "text": [
        "/mnt/home/irberlui/.bashrc: line 18: virtualenvwrapper.sh: No such file or directory\r\n"
       ]
      },
      {
       "output_type": "stream",
       "stream": "stdout",
       "text": [
        "\r",
        "global_merged.fa.clean.nr_screed                0%    0     0.0KB/s   --:-- ETA"
       ]
      },
      {
       "output_type": "stream",
       "stream": "stdout",
       "text": [
        "\r",
        "global_merged.fa.clean.nr_screed                1% 8432KB   8.2MB/s   01:35 ETA"
       ]
      },
      {
       "output_type": "stream",
       "stream": "stdout",
       "text": [
        "\r",
        "global_merged.fa.clean.nr_screed                2%   19MB   8.5MB/s   01:31 ETA"
       ]
      },
      {
       "output_type": "stream",
       "stream": "stdout",
       "text": [
        "\r",
        "global_merged.fa.clean.nr_screed                3%   31MB   8.8MB/s   01:26 ETA"
       ]
      },
      {
       "output_type": "stream",
       "stream": "stdout",
       "text": [
        "\r",
        "global_merged.fa.clean.nr_screed                5%   42MB   9.0MB/s   01:23 ETA"
       ]
      },
      {
       "output_type": "stream",
       "stream": "stdout",
       "text": [
        "\r",
        "global_merged.fa.clean.nr_screed                6%   53MB   9.3MB/s   01:20 ETA"
       ]
      },
      {
       "output_type": "stream",
       "stream": "stdout",
       "text": [
        "\r",
        "global_merged.fa.clean.nr_screed                8%   64MB   9.5MB/s   01:17 ETA"
       ]
      },
      {
       "output_type": "stream",
       "stream": "stdout",
       "text": [
        "\r",
        "global_merged.fa.clean.nr_screed                9%   75MB   9.6MB/s   01:14 ETA"
       ]
      },
      {
       "output_type": "stream",
       "stream": "stdout",
       "text": [
        "\r",
        "global_merged.fa.clean.nr_screed               10%   87MB   9.8MB/s   01:12 ETA"
       ]
      },
      {
       "output_type": "stream",
       "stream": "stdout",
       "text": [
        "\r",
        "global_merged.fa.clean.nr_screed               12%   98MB   9.9MB/s   01:10 ETA"
       ]
      },
      {
       "output_type": "stream",
       "stream": "stdout",
       "text": [
        "\r",
        "global_merged.fa.clean.nr_screed               13%  109MB  10.1MB/s   01:08 ETA"
       ]
      },
      {
       "output_type": "stream",
       "stream": "stdout",
       "text": [
        "\r",
        "global_merged.fa.clean.nr_screed               15%  120MB  10.2MB/s   01:06 ETA"
       ]
      },
      {
       "output_type": "stream",
       "stream": "stdout",
       "text": [
        "\r",
        "global_merged.fa.clean.nr_screed               16%  132MB  10.3MB/s   01:04 ETA"
       ]
      },
      {
       "output_type": "stream",
       "stream": "stdout",
       "text": [
        "\r",
        "global_merged.fa.clean.nr_screed               17%  143MB  10.4MB/s   01:02 ETA"
       ]
      },
      {
       "output_type": "stream",
       "stream": "stdout",
       "text": [
        "\r",
        "global_merged.fa.clean.nr_screed               19%  154MB  10.4MB/s   01:01 ETA"
       ]
      },
      {
       "output_type": "stream",
       "stream": "stdout",
       "text": [
        "\r",
        "global_merged.fa.clean.nr_screed               20%  165MB  10.5MB/s   00:59 ETA"
       ]
      },
      {
       "output_type": "stream",
       "stream": "stdout",
       "text": [
        "\r",
        "global_merged.fa.clean.nr_screed               22%  176MB  10.6MB/s   00:58 ETA"
       ]
      },
      {
       "output_type": "stream",
       "stream": "stdout",
       "text": [
        "\r",
        "global_merged.fa.clean.nr_screed               23%  188MB  10.7MB/s   00:57 ETA"
       ]
      },
      {
       "output_type": "stream",
       "stream": "stdout",
       "text": [
        "\r",
        "global_merged.fa.clean.nr_screed               24%  199MB  10.7MB/s   00:55 ETA"
       ]
      },
      {
       "output_type": "stream",
       "stream": "stdout",
       "text": [
        "\r",
        "global_merged.fa.clean.nr_screed               26%  210MB  10.8MB/s   00:54 ETA"
       ]
      },
      {
       "output_type": "stream",
       "stream": "stdout",
       "text": [
        "\r",
        "global_merged.fa.clean.nr_screed               27%  221MB  10.8MB/s   00:53 ETA"
       ]
      },
      {
       "output_type": "stream",
       "stream": "stdout",
       "text": [
        "\r",
        "global_merged.fa.clean.nr_screed               29%  232MB  10.9MB/s   00:51 ETA"
       ]
      },
      {
       "output_type": "stream",
       "stream": "stdout",
       "text": [
        "\r",
        "global_merged.fa.clean.nr_screed               30%  244MB  10.9MB/s   00:50 ETA"
       ]
      },
      {
       "output_type": "stream",
       "stream": "stdout",
       "text": [
        "\r",
        "global_merged.fa.clean.nr_screed               32%  255MB  10.9MB/s   00:49 ETA"
       ]
      },
      {
       "output_type": "stream",
       "stream": "stdout",
       "text": [
        "\r",
        "global_merged.fa.clean.nr_screed               33%  266MB  10.9MB/s   00:48 ETA"
       ]
      },
      {
       "output_type": "stream",
       "stream": "stdout",
       "text": [
        "\r",
        "global_merged.fa.clean.nr_screed               34%  277MB  11.0MB/s   00:47 ETA"
       ]
      },
      {
       "output_type": "stream",
       "stream": "stdout",
       "text": [
        "\r",
        "global_merged.fa.clean.nr_screed               36%  288MB  11.0MB/s   00:46 ETA"
       ]
      },
      {
       "output_type": "stream",
       "stream": "stdout",
       "text": [
        "\r",
        "global_merged.fa.clean.nr_screed               37%  299MB  11.0MB/s   00:45 ETA"
       ]
      },
      {
       "output_type": "stream",
       "stream": "stdout",
       "text": [
        "\r",
        "global_merged.fa.clean.nr_screed               39%  311MB  11.0MB/s   00:44 ETA"
       ]
      },
      {
       "output_type": "stream",
       "stream": "stdout",
       "text": [
        "\r",
        "global_merged.fa.clean.nr_screed               40%  322MB  11.0MB/s   00:42 ETA"
       ]
      },
      {
       "output_type": "stream",
       "stream": "stdout",
       "text": [
        "\r",
        "global_merged.fa.clean.nr_screed               41%  333MB  11.1MB/s   00:41 ETA"
       ]
      },
      {
       "output_type": "stream",
       "stream": "stdout",
       "text": [
        "\r",
        "global_merged.fa.clean.nr_screed               43%  344MB  11.1MB/s   00:40 ETA"
       ]
      },
      {
       "output_type": "stream",
       "stream": "stdout",
       "text": [
        "\r",
        "global_merged.fa.clean.nr_screed               44%  355MB  11.1MB/s   00:39 ETA"
       ]
      },
      {
       "output_type": "stream",
       "stream": "stdout",
       "text": [
        "\r",
        "global_merged.fa.clean.nr_screed               46%  367MB  11.1MB/s   00:38 ETA"
       ]
      },
      {
       "output_type": "stream",
       "stream": "stdout",
       "text": [
        "\r",
        "global_merged.fa.clean.nr_screed               47%  378MB  11.1MB/s   00:37 ETA"
       ]
      },
      {
       "output_type": "stream",
       "stream": "stdout",
       "text": [
        "\r",
        "global_merged.fa.clean.nr_screed               48%  389MB  11.1MB/s   00:36 ETA"
       ]
      },
      {
       "output_type": "stream",
       "stream": "stdout",
       "text": [
        "\r",
        "global_merged.fa.clean.nr_screed               50%  400MB  11.1MB/s   00:35 ETA"
       ]
      },
      {
       "output_type": "stream",
       "stream": "stdout",
       "text": [
        "\r",
        "global_merged.fa.clean.nr_screed               51%  411MB  11.1MB/s   00:34 ETA"
       ]
      },
      {
       "output_type": "stream",
       "stream": "stdout",
       "text": [
        "\r",
        "global_merged.fa.clean.nr_screed               53%  423MB  11.1MB/s   00:33 ETA"
       ]
      },
      {
       "output_type": "stream",
       "stream": "stdout",
       "text": [
        "\r",
        "global_merged.fa.clean.nr_screed               54%  434MB  11.2MB/s   00:32 ETA"
       ]
      },
      {
       "output_type": "stream",
       "stream": "stdout",
       "text": [
        "\r",
        "global_merged.fa.clean.nr_screed               55%  445MB  11.2MB/s   00:31 ETA"
       ]
      },
      {
       "output_type": "stream",
       "stream": "stdout",
       "text": [
        "\r",
        "global_merged.fa.clean.nr_screed               57%  456MB  11.2MB/s   00:30 ETA"
       ]
      },
      {
       "output_type": "stream",
       "stream": "stdout",
       "text": [
        "\r",
        "global_merged.fa.clean.nr_screed               58%  468MB  11.2MB/s   00:29 ETA"
       ]
      },
      {
       "output_type": "stream",
       "stream": "stdout",
       "text": [
        "\r",
        "global_merged.fa.clean.nr_screed               60%  479MB  11.2MB/s   00:28 ETA"
       ]
      },
      {
       "output_type": "stream",
       "stream": "stdout",
       "text": [
        "\r",
        "global_merged.fa.clean.nr_screed               61%  490MB  11.2MB/s   00:27 ETA"
       ]
      },
      {
       "output_type": "stream",
       "stream": "stdout",
       "text": [
        "\r",
        "global_merged.fa.clean.nr_screed               62%  501MB  11.2MB/s   00:26 ETA"
       ]
      },
      {
       "output_type": "stream",
       "stream": "stdout",
       "text": [
        "\r",
        "global_merged.fa.clean.nr_screed               64%  512MB  11.2MB/s   00:25 ETA"
       ]
      },
      {
       "output_type": "stream",
       "stream": "stdout",
       "text": [
        "\r",
        "global_merged.fa.clean.nr_screed               65%  523MB  11.2MB/s   00:24 ETA"
       ]
      },
      {
       "output_type": "stream",
       "stream": "stdout",
       "text": [
        "\r",
        "global_merged.fa.clean.nr_screed               67%  534MB  11.2MB/s   00:23 ETA"
       ]
      },
      {
       "output_type": "stream",
       "stream": "stdout",
       "text": [
        "\r",
        "global_merged.fa.clean.nr_screed               68%  546MB  11.2MB/s   00:22 ETA"
       ]
      },
      {
       "output_type": "stream",
       "stream": "stdout",
       "text": [
        "\r",
        "global_merged.fa.clean.nr_screed               69%  557MB  11.2MB/s   00:21 ETA"
       ]
      },
      {
       "output_type": "stream",
       "stream": "stdout",
       "text": [
        "\r",
        "global_merged.fa.clean.nr_screed               71%  568MB  11.2MB/s   00:20 ETA"
       ]
      },
      {
       "output_type": "stream",
       "stream": "stdout",
       "text": [
        "\r",
        "global_merged.fa.clean.nr_screed               72%  579MB  11.1MB/s   00:19 ETA"
       ]
      },
      {
       "output_type": "stream",
       "stream": "stdout",
       "text": [
        "\r",
        "global_merged.fa.clean.nr_screed               74%  590MB  11.1MB/s   00:18 ETA"
       ]
      },
      {
       "output_type": "stream",
       "stream": "stdout",
       "text": [
        "\r",
        "global_merged.fa.clean.nr_screed               75%  601MB  11.2MB/s   00:17 ETA"
       ]
      },
      {
       "output_type": "stream",
       "stream": "stdout",
       "text": [
        "\r",
        "global_merged.fa.clean.nr_screed               76%  611MB  11.0MB/s   00:16 ETA"
       ]
      },
      {
       "output_type": "stream",
       "stream": "stdout",
       "text": [
        "\r",
        "global_merged.fa.clean.nr_screed               78%  622MB  11.0MB/s   00:15 ETA"
       ]
      },
      {
       "output_type": "stream",
       "stream": "stdout",
       "text": [
        "\r",
        "global_merged.fa.clean.nr_screed               79%  633MB  11.0MB/s   00:14 ETA"
       ]
      },
      {
       "output_type": "stream",
       "stream": "stdout",
       "text": [
        "\r",
        "global_merged.fa.clean.nr_screed               80%  644MB  11.1MB/s   00:13 ETA"
       ]
      },
      {
       "output_type": "stream",
       "stream": "stdout",
       "text": [
        "\r",
        "global_merged.fa.clean.nr_screed               82%  655MB  11.0MB/s   00:12 ETA"
       ]
      },
      {
       "output_type": "stream",
       "stream": "stdout",
       "text": [
        "\r",
        "global_merged.fa.clean.nr_screed               83%  667MB  11.1MB/s   00:11 ETA"
       ]
      },
      {
       "output_type": "stream",
       "stream": "stdout",
       "text": [
        "\r",
        "global_merged.fa.clean.nr_screed               85%  678MB  11.1MB/s   00:10 ETA"
       ]
      },
      {
       "output_type": "stream",
       "stream": "stdout",
       "text": [
        "\r",
        "global_merged.fa.clean.nr_screed               86%  689MB  11.1MB/s   00:09 ETA"
       ]
      },
      {
       "output_type": "stream",
       "stream": "stdout",
       "text": [
        "\r",
        "global_merged.fa.clean.nr_screed               87%  700MB  11.1MB/s   00:08 ETA"
       ]
      },
      {
       "output_type": "stream",
       "stream": "stdout",
       "text": [
        "\r",
        "global_merged.fa.clean.nr_screed               89%  711MB  11.1MB/s   00:07 ETA"
       ]
      },
      {
       "output_type": "stream",
       "stream": "stdout",
       "text": [
        "\r",
        "global_merged.fa.clean.nr_screed               90%  723MB  11.1MB/s   00:06 ETA"
       ]
      },
      {
       "output_type": "stream",
       "stream": "stdout",
       "text": [
        "\r",
        "global_merged.fa.clean.nr_screed               92%  734MB  11.1MB/s   00:05 ETA"
       ]
      },
      {
       "output_type": "stream",
       "stream": "stdout",
       "text": [
        "\r",
        "global_merged.fa.clean.nr_screed               93%  744MB  11.1MB/s   00:04 ETA"
       ]
      },
      {
       "output_type": "stream",
       "stream": "stdout",
       "text": [
        "\r",
        "global_merged.fa.clean.nr_screed               94%  755MB  11.0MB/s   00:03 ETA"
       ]
      },
      {
       "output_type": "stream",
       "stream": "stdout",
       "text": [
        "\r",
        "global_merged.fa.clean.nr_screed               96%  766MB  11.0MB/s   00:02 ETA"
       ]
      },
      {
       "output_type": "stream",
       "stream": "stdout",
       "text": [
        "\r",
        "global_merged.fa.clean.nr_screed               97%  777MB  11.0MB/s   00:01 ETA"
       ]
      },
      {
       "output_type": "stream",
       "stream": "stdout",
       "text": [
        "\r",
        "global_merged.fa.clean.nr_screed               99%  788MB  11.1MB/s   00:00 ETA"
       ]
      },
      {
       "output_type": "stream",
       "stream": "stdout",
       "text": [
        "\r",
        "global_merged.fa.clean.nr_screed              100%  796MB  11.2MB/s   01:11    \r\n"
       ]
      }
     ],
     "prompt_number": 151
    },
    {
     "cell_type": "code",
     "collapsed": false,
     "input": [
      "import pandas as pd\n",
      "import tables\n",
      "import screed\n",
      "import numpy as np"
     ],
     "language": "python",
     "metadata": {},
     "outputs": [],
     "prompt_number": 1
    },
    {
     "cell_type": "code",
     "collapsed": false,
     "input": [
      "with pd.get_store('minlen200.h5', mode='r') as store:\n",
      "    print(store)"
     ],
     "language": "python",
     "metadata": {},
     "outputs": [
      {
       "output_type": "stream",
       "stream": "stdout",
       "text": [
        "<class 'pandas.io.pytables.HDFStore'>\n",
        "File path: minlen200.h5\n",
        "/1_LongRead                       frame        (shape->[1924965,13])\n",
        "/1_LongRead_500_1499nt            frame        (shape->[219885,13]) \n",
        "/2_LongRead                       frame        (shape->[1941357,13])\n",
        "/2_LongRead_500_1499nt            frame        (shape->[209420,13]) \n",
        "/3_LongRead                       frame        (shape->[1922250,13])\n",
        "/3_LongRead_500_1499nt            frame        (shape->[220515,13]) \n",
        "/4_LongRead                       frame        (shape->[1951840,13])\n",
        "/4_LongRead_500_1499nt            frame        (shape->[215055,13]) \n",
        "/5_LongRead                       frame        (shape->[1853730,13])\n",
        "/5_LongRead_500_1499nt            frame        (shape->[226370,13]) \n",
        "/reference                        frame        (shape->[726744,13]) \n"
       ]
      }
     ],
     "prompt_number": 2
    },
    {
     "cell_type": "code",
     "collapsed": false,
     "input": [
      "ref = pd.read_hdf(\"minlen200.h5\", \"/reference\", mode='r')\n",
      "ref_90 = ref[ref['% identity'] > 90]"
     ],
     "language": "python",
     "metadata": {},
     "outputs": [],
     "prompt_number": 3
    },
    {
     "cell_type": "code",
     "collapsed": false,
     "input": [
      "chick_rna = screed.ScreedDB('global_merged.fa.clean.nr_screed')\n",
      "rna = {chick_rna[seq]['name'] for seq in chick_rna}"
     ],
     "language": "python",
     "metadata": {},
     "outputs": [],
     "prompt_number": 43
    },
    {
     "cell_type": "code",
     "collapsed": false,
     "input": [
      "chick_rna_df = pd.DataFrame(index=rna)\n",
      "chick_rna_df['sequence'] = pd.Series({seq: str(chick_rna[seq]['sequence']) for seq in chick_rna})"
     ],
     "language": "python",
     "metadata": {},
     "outputs": [],
     "prompt_number": 9
    },
    {
     "cell_type": "code",
     "collapsed": false,
     "input": [
      "not_in_ref = rna - set(ref['Query id'].values)\n",
      "not_in_ref_90 = rna - set(ref_90['Query id'].values)"
     ],
     "language": "python",
     "metadata": {},
     "outputs": [],
     "prompt_number": 49
    },
    {
     "cell_type": "code",
     "collapsed": false,
     "input": [
      "print len(rna)\n",
      "print len(not_in_ref)\n",
      "print len(not_in_ref_90)"
     ],
     "language": "python",
     "metadata": {},
     "outputs": [
      {
       "output_type": "stream",
       "stream": "stdout",
       "text": [
        "419277\n",
        "135752\n",
        "238029\n"
       ]
      }
     ],
     "prompt_number": 50
    },
    {
     "cell_type": "code",
     "collapsed": false,
     "input": [
      "outputs = pd.DataFrame()\n",
      "\n",
      "for f in range(1, 6):\n",
      "    for file_format in (\"/%d_LongRead_500_1499nt\", \"/%d_LongRead\"):\n",
      "        mol_reads = pd.read_hdf(\"minlen200.h5\", file_format % f, mode='r')\n",
      "        not_in_ref = not_in_ref - set(mol_reads['Query id'])\n",
      "        \n",
      "        mol_reads = mol_reads[mol_reads['% identity'] > 90]\n",
      "        not_in_ref_90 = not_in_ref_90 - set(mol_reads['Query id'])\n",
      "        \n",
      "        #mol_matches = mol_reads[~(mol_reads['Query id'].isin(ref_matches['Query id']))]\n",
      "        #outputs = pd.concat([outputs, mol_matches])"
     ],
     "language": "python",
     "metadata": {},
     "outputs": [],
     "prompt_number": 52
    },
    {
     "cell_type": "code",
     "collapsed": false,
     "input": [
      "print len(rna)\n",
      "print len(not_in_ref)\n",
      "print len(not_in_ref_90)"
     ],
     "language": "python",
     "metadata": {},
     "outputs": [
      {
       "output_type": "stream",
       "stream": "stdout",
       "text": [
        "419277\n",
        "121301\n",
        "136242\n"
       ]
      }
     ],
     "prompt_number": 53
    },
    {
     "cell_type": "code",
     "collapsed": false,
     "input": [
      "not_in_ref_90_df = chick_rna_df[chick_rna_df.index.isin(not_in_ref_90)]\n",
      "not_in_ref_df = chick_rna_df[chick_rna_df.index.isin(not_in_ref)]"
     ],
     "language": "python",
     "metadata": {},
     "outputs": [],
     "prompt_number": 55
    },
    {
     "cell_type": "code",
     "collapsed": false,
     "input": [
      "str(chick_rna['global_global_29-81464']['sequence']) == chick_rna_df['sequence']['global_global_29-81464']"
     ],
     "language": "python",
     "metadata": {},
     "outputs": [
      {
       "metadata": {},
       "output_type": "pyout",
       "prompt_number": 56,
       "text": [
        "True"
       ]
      }
     ],
     "prompt_number": 56
    },
    {
     "cell_type": "code",
     "collapsed": false,
     "input": [
      "lens = chick_rna_df['sequence'].apply(len)\n",
      "print 'Total RNA seqs:', lens.size\n",
      "print 'Mean len:', lens.mean()\n",
      "print 'Max len:', lens.max()\n",
      "print 'Min len:', lens.min()"
     ],
     "language": "python",
     "metadata": {},
     "outputs": [
      {
       "output_type": "stream",
       "stream": "stdout",
       "text": [
        "Total RNA seqs: 419277\n",
        "Mean len: 1766.04933254\n",
        "Max len: 29691\n",
        "Min len: 100\n"
       ]
      }
     ],
     "prompt_number": 57
    },
    {
     "cell_type": "code",
     "collapsed": false,
     "input": [
      "lens = not_in_ref_df['sequence'].apply(len)\n",
      "print 'Total RNA seqs not in reference or moleculo (min len >= 200):', lens.size\n",
      "print 'Mean len:', lens.mean()\n",
      "print 'Max len:', lens.max()\n",
      "print 'Min len:', lens.min()"
     ],
     "language": "python",
     "metadata": {},
     "outputs": [
      {
       "output_type": "stream",
       "stream": "stdout",
       "text": [
        "Total RNA seqs not in reference or moleculo (min len >= 200): 121301\n",
        "Mean len: 362.916464003\n",
        "Max len: 14999\n",
        "Min len: 100\n"
       ]
      }
     ],
     "prompt_number": 58
    },
    {
     "cell_type": "code",
     "collapsed": false,
     "input": [
      "lens = not_in_ref_90_df['sequence'].apply(len)\n",
      "print 'RNA seqs not in reference or moleculo (min len >= 200, min align size > 90% contig or moleculo read)'\n",
      "print '# seqs:', lens.size\n",
      "print 'Mean len:', lens.mean()\n",
      "print 'Max len:', lens.max()\n",
      "print 'Min len:', lens.min()"
     ],
     "language": "python",
     "metadata": {},
     "outputs": [
      {
       "output_type": "stream",
       "stream": "stdout",
       "text": [
        "RNA seqs not in reference or moleculo (min len >= 200, min align size > 90% contig or moleculo read)\n",
        "# seqs: 136242\n",
        "Mean len: 452.760896053\n",
        "Max len: 14999\n",
        "Min len: 100\n"
       ]
      }
     ],
     "prompt_number": 63
    },
    {
     "cell_type": "code",
     "collapsed": false,
     "input": [
      "lens.argmax()"
     ],
     "language": "python",
     "metadata": {},
     "outputs": [
      {
       "metadata": {},
       "output_type": "pyout",
       "prompt_number": 65,
       "text": [
        "'global_global_21-46363'"
       ]
      }
     ],
     "prompt_number": 65
    },
    {
     "cell_type": "code",
     "collapsed": false,
     "input": [
      "chick_rna_df['sequence']['global_global_21-46363']"
     ],
     "language": "python",
     "metadata": {},
     "outputs": [
      {
       "metadata": {},
       "output_type": "pyout",
       "prompt_number": 66,
       "text": [
        "'ATGTTGTATTTTATTCATTATTAACGCACGTACATTCGGACTCTTAAGGGACAACTCATCACTTGTCGGGTCTCATCATATGATCATACTCTAATGGGGGCAAATGCCATATCGGGAATGTGTGCGGATATATACACTGCCATTGTTAATGCCACAACAGTATCATCATTACCTCCTTTTTTTCCAGAAAATGTTCTAGTGCATGTTGGTCCAGTAACTACTTCCGAGATGTTAGTAAGTTGTTTTGTTAAATATTCCACCGGATCTGTGGTAAGACTCACTGTGGTAGAAACTAAATCTTGCGATGCCAAGACTCTCCCCGAATTAAACTGGGCGATAAAGAAATCAAAAGCTGTAGTTTTTTGGCGTTGCAGTAGAAAATAGGGATATTCAACATCCGTTCCATTCGATTTGCTGTGGTAAAACGAGACATTATGTGGTGTAGGTGCCACTGCAGCTTTCATATATGATATCATTTCGATTGCAATTCTAGTAGCGATCGCAACCGCAGAATCTTGATTGCTATTGCCTTCGATGGCTATTTTTATCACTCCAAATCGCTTCCTATGGATCGCACATATTTGTATAAGGCACTGTGCAACACAATAGCCTATAGAATCGGAGGATTCCCCTGTCAAGGCTCGCAAAAAATAATGCTCTAGACCGAAAACTATATAATCTGTACCATATTTACCAATTACCGCGACACCCGTCCCAGATGCTTTAGTGTTGGCCGTAAACGCTGGATCTACATAAACGTATAGATCTTGTGAGAATGGATCTTGATTGTTCACAGTAGACGGTCTATATATAAGAAACCGATCTATTGCAGAAGCCGTAAAAATACTTCGATCACCTTGACAGATGGTTCTATCCACCACACCACCACCAATAATCTCCTGCATAAACGAATCCGGAAGAAACATTTCGGCCGTTCTTCTCATTGCCCCATCCATGGTGATGAAAACAGGCTTGTTCAATACATAACAGGAACATGATGTCGCATTTGTATAATCTGTTACATGCTTCATATGTTCGTCACATATATAAGTTACCACATTAAGAAGATCATCAGCCGATCCTTTAAGACCATATAAAAAACTTGTGCTTGCCTTACCACTGTTCGTAGAGGAAACGAAAATTATTTTGCAAGTAGCTTGATTCAAAAACCCTATGATCGTCTGAACTGCATCCGGACGTATAAAATTCGCTTCGTCGACAAATAGTAAGTTGAAATCTTGTCCACGAATGCTGTTCGTGTTATGGCTAGATGCAAACGTGACTGTACTTTTCAATCCACTGGGAAATGAAAACGTTATGGTTTCTCCTTTGACATGATCCACGCGATGGGCACCAAACCATCGCCTAAGACGGTCCCCAATGTCTTCAAATACAGGTTCGATTGCTTTACGGATATGTGATGTATATCCAATGCGTATACCTTCGAATGAAGACATTGCAAGAGCAATCAATGGAACCAAAAACCAAGTTTTTCCATGCCTCCTCGGAACCAAAAAAACAGTAGCCCTTTGACGGAAATGTCTAGTAACTATATCTGAGAAATGGGGGGTATCAAAGGCAACACGAAGCAAACGTTCGGCACGCTCTGCGTGATCTCCAAGTAAAACAGAAGTTACAAAATAAGTGGCATGCATCAATATCATTTTTTGAAAGAGCTCGAGAGTTCCGTGAAGTTTATCATAGGATGGCGCGTCGATTCTTGCACGTTTTTTAACTGTGTGATCATCTAATTTATTTACATCTCGGAACGAAGCGATTAATAATTTCGAAAAACGACTAATGAAAACAGTTAACTGCTTAAATGCATCAGATGTTCGCATTGATATAAAAGAATTCATTGTACTGTAATATGCATTGCGATGGGCTGCACATTCCATCTCGTCATATTCTTGAAATATTATGGAATTCGCCACACGCATCATCATCGGAGATAGGAAAGCCTGTGCATTTGTAATACGTGGATAACATCTAGGTACCGAATCACGACGTAGTTCATCAAATTCACTACAAGCAATGCTGCTATACAACATACGAGTAGTAATCGCAGAATAAATACCCAAACTATCGCAGCAGTTATGTAATATGCCTATGGCAGGCATCACTGTCTGATGTCGTCTGGGCACCGGAATTGCAAAATTTAAAAAGGGGGCGTCAACCATATCACCGTCTCGTATTGACCGTTCATTTCTATGACTCGCGCCTAAACGATCGTTCTTAGTTTTCATTAGCCGTTCGAAGTGCCTCTTCGTCTCTTCGCCAAGTAAACCACCAAACATCTCAACACTTGACCAAGAATCGACAAGATAATGTTTGCAGTGAGCGCAATGCGCAGGCGGAGGCGACGGATTTTAGCGGAATGCCGAACACGAGAAGCTGTTTATAAAGAACGGACTCTCGAACTTTTGTCTCAAGGTGTAGAAACTGATGATCCAGAATTTATAGAAGTGTTCACGTCAGCTAGAAACGCCCATAGTGACTACAAAGCACAGCTGCGTTCAAACATGAGACTCGAAGCGACCGATAGAAAGACAAAGATTATACAGCGTCATATAGATGAGCAGCTAGATCGCCGTCTCATACTTGATATAAATAGGAAATTGCTGAACCCCAAACTTCAGTTACAATTAGATCAGACCGAAGAAGCTATTCTCGAAAAGGAGGACATTCTAGCACAAACCATTGATGATATAACACTTAACGATTCCATTACAAACACCGATGAATTAGATGAAGAATCCGAGGCTTTACTGACAAAATGGATACTGAATCAAAAAACAAAAAAACGACCAACGGTGGCGAAAACAGCAATTGCTCCCACAGCACACGGACTCCAGACAAAAGTATCGAGGAACGTTTTTATAACTGGGAAAGACGATCTCGTACAACCAACAGATTTGGGACAACCGTCAACTCACGAAGTTATAACATGTACTTCCAGGGAACGCATAATACATCCCGACGGCATACATACGGAAATATACACCACAGAAGACGTTTCTCCGACAATATTAGACGATGTCTCAGACAGCTGTGTATGAAGCGCAAAACACCGGCTAAAAAAAGGAGCGACAAGCTTGTATCCAGACCGTCCTTACCGGAACATGTATTTACATTGGCGCGTATAAAGAATGTGACTACATTTATTTTCAATGTAACTTCGGAGCTACATTATAGCCATATCGATCTGAAAGAGATGCCAATATATGCTGGGAGTGGCAGCTACGGAGTAGTTAAAATATTTAAGAAGACGGACATAGCCGTCAAAAAAGTATTGGAATGTTTTAAAACTGAGTTACTTATGACATTGATAGCCGGTGAATGTGCATTACGGGCGAAATCCACTTTAAGAATAAATAATATCATTCCACTATTGGCCTTTTCGATACCATCCAAAGAACTAGTATTTCCAGCATATCATATGGATATGGATTCATATTATCATCGATTGGCAAGAATCGATAAAACAGTGCAACATTGGAAAGCAATAGAGAAAACGTTCATGGATCTCGGCAAAGCAGTTGTGTTTCTAAACGTGTCTTGTGGGTTGACTCATTTGGATATCAAATGTGGGAATATCTTTGTTAACGTCACCGAGGGTCCTAATCCCATTTTAGTAGATGCTGTAATTGGTGATTTTAGTCTAGCATTGCTTAACACAAACTCTACCATCCTGAAATCCAGGTTCGATGTGAATATAAGTTCTGATAAAATCCAGTCATTAAAAGTTTGTAGAGGAAATATTAAACCCGTGTTCGATTTAGTTTTGGGACATGGGCAAACACAGCCCTGTGAACTGATGATAAAGGCCTTAAATGGAGTAGGTTTCGAACGACGTTCGACACCATTGACTAGTGACGAAGGAGTTTCAATTGATATGTACGCATTGGGCCAATCGCTTATGGAAGTGATTCTAGCAGCCGGTATGAATTTTACACACCGATTCGGGATTTCCAGTAATCCACTACACTTTTATTATCATAGACTGATGAGGGCAGATTATCTTTTAGATATACTAGCATACAGATGCATGCTCTACCAGCATCTATTTCCAATGACCCCCTTAACTAGTAAAAATGGCATCCCATGGGAACGGGCAGAAAAGATTCGTCTGCAATTGCACAGCTCGCGCCACAGAGCCGAGTTTGATAAATATTTGGAAGCGTATGACATCACACATAGAAAGCTATTTGATTCGTTAAACATTTTTCCCTATTTAAACAACCTGTTGGAGCTTGCGGCTCTCTATTGTCACGCAAACCCAGTAGCAAGAACGGCTGATTTGTTGTTATGGAACTAGGAACCAAGTTTCCACTCTCCAAATCTTGCAAAGATGAGTCCCGAAAACGAAAGAGGGGCATTACGATCGACTGTGATTCACAAATCCTTGTAGGAGATGAACAATCTAACTCAACTAAGACAAAACCTTACGATGAAATATGTGAAAATATTGTACCAAATTATACCTTCGGCAACTACATATTACAGAAGATCGATCCAAATGATTGCAGACACTCGCTTCATCCTTTGTATCACCGGCTATTCTACATAGCGGATGTAATCAAACAAGGCATTTCGGAGGGAAGTTTGCTCGAAAATAAGTATTCATATATACTTGAGACTGAACATATCCTCCTAGATGAATCGCGTATAAATAATTTGTCACCATCAATTCATGCTTCTCGCTGGTGCAAAATGGTGGAATCGTTAACTAGACTACAAGCGAACAGTGAATTGTGGCACATATTTAGACAATGTTTGCTGACAGCATCATCGGTAAAGTGGAGCCCCAATGGAACAATCAACACGGCTGGACTTATTACCAATGACCTACCATCGCGGGGACAAACTGAGAGTATACTATTTGGAACACGCAATGAATCATTGGCAAAATCACTCATCGCAGCACTCTGTGTCAGCCAATCTTCCGTCCGAACAATTGACAACTCTGATAAGAAAAACGAATTCGATAATACAACTACCGGTATTTTAGACATAGAGAAATATTCTTGTGGTCTGATGATAGATATTAGAACTGGAATGTTGGGAGCGTCCCTTGATATGGTGATGTGTAACCGCAATAGACATGGAATATTGGCGCCTTGTCTTACCGATAATAATATCGAAACATATGAAATAAAATGTAGATTTAAATATGCATTTTGTCCAGAAATGAGAAGTGAACTATCCCAGTGCTACGAACGTTTGATGGCAACGAAAACAGTGCAATGGTTTCGGAGGTTTTTATATACAATCGACTGTCCCTGTGTAGACTACTTTCGACCCGATAATTACCCTAGGGCAAAGGAAGCATTAATTACTTCTGATGATGATTGGAAAGTAGGCCATTCTGCATACCATGCCGCACAGTCAAGAATTAAATGTAATGAATTTGAGATGCATCACTTGACGTTGAATAAGAACATGAGTTCCCGCGTATGGTTATTTGGGGAGCCCGACCTCCAAACTAACAGTATATATCCACTCTTATGGAATACCGGTGAACGAGTTTTGAGTATACCCATATTTGCAAATCCCCGCCATCAAAACTTTAAACAGATTTTTCTTCAATCCTATGTAGCTTCTGGATACTTCGGAAACAGAAAGATTGTTCCATTTCTAGCTACATTTATAGGTCGCCATAGACGACAAACCGAATTGGGTCGGTGCTTTTCATTGTTCGTCGATGATACCGAAGCTTCGGAAGTCGTTTATGAAATAACTCCCGAACAAGCAATCCCTGTCATTCTAATCATCACTCCTGTGATCATAGATAATACTTTCTACGTTGGGATAGAAGAATCTGGATATCGGGCATTTGGAGAACTTGTGGATCATTTATGGGCCAAGCAGTGTCGTATTTAACATACACACTTAGACGATGTTGCAAGAAAAACACACTGACGACCGAATCTGGAGAAGTAATCGAACTGGATGATGAACATTATGATACGGTCGACTTGGATGATTTGAGATGTTCCGATCCTCTCATGCAACCCAAGTTTGTATTACTAAAAAATGGCCGTAGAGGAAAAAGAAATAGGGAATATGATAACGATCATGAAAAGTATGTTATGATGTTTAATAAAGAATGAGACAATCATTAAGTCTTATGGTTCATTTTATTATATCGGTTTCACAGTTTTTCCTAATCATCCCATTCGCTCTCAGATCCTGAATAGACTCGATCATATATTGTATCCTCATCCGATGCTTCAGCAGAACGGGATTGTGTAAGTGCACGTTCATCCTCGGATTGACTACCCCGCTGTTTATAACTCCGTCTCAATTGTCTTAGTCTGTGTTTTACATTTTGTTGTAACTTCATCGCTTTGGCATATGCTCGCGTAGATCGTCGACGATGATATAAACTGGCCCGAATAAGACGAACTACCATAGCTAATAAAATTAACACTGTAAAGACGGCTAGGACGCTATGACATGCAATACGCAAATTGCTTGCATTTGCACCCATTGCATAATAGAATCGATTTACATAATCACATGTTGTGGTCCACAGCATACCATACCCAATTAGAAGACCTATATATGCCCCCAAAATAATGTGTACATACCGTGCGATTAAGAACTCGATGACAAGAAGATATATCAGGGTTAAAACGGAAGTCGTTATTAGAACAGTGACAATTACATGCCAAAATTTTAATGTAAAACTATTTGCTAAGAGCATTCCGAACATTAGCGACGACATGATCAAAATTATGCTATACACAATTGATAGTAAGTTCACCATCATTGCTCGAACATTACCAATTAATTTGTGCAAACTACCGTCGATATCCTTAGCAGATGAAATATCCTCAGCGTAGACCTTACTATCTACACCTCTACCACAGAAATACCCATAAAAAAATGTTATCGTTGAAAAATGGACAAGATAAACCGCAGCTGCTAGTACGATCAGCTTATGGGCAAGAACTATAACAACTGCTTGTAGAAGCCATATAGAAACGGTACCCAATAGGATTGTCAGAGGCGACGCCATAAGAGAAAACACAAATGCACCACTCCCCATGTATGCCGCACCCACATGTTTCTTGCTCGATATAATGGCACCAACAGTAATATAACATACGAGAAACACGAAAACAATACTCGTTGCATAGAAGAAAAAAACTACCGCCTTTGTCTGGAAGAATAATACTGGAACCACGCCCCCCAGCCTGGGATAGGTGAGACCCGTGTGCACTAGTGTCGTATTAACTGTTCTATAATCTACAACGGCTGCGAAGAAGCACGGGAAACCCTCAGTTAAATTTATAGACGCGGCAACAAGTGTTCCAAAGAATACCAGTACGGCGATCCCGAAGCACACCGCTTGGACTACCCACATCTTTTTGTGCACGTAGTCTATGTGACTCAGTCCTCTGTAATTCCGCTCCATTCGTGCTCGACTGGCCATAGCGACGACCGCCGGTAGTTTTCTGATCAGTGTTATACGATAGACACTCAGCCAGGGCGACTTTCTTCCGTAACGTTAGTAATCAGAGACAACTCAAAATGATAGACTATGCATCCAGCGCCTCCTTGTCTAGAATGTTATATGGAGAGGATCTTATAGACTGGATTATCAAGAACAGACCGGGAATAACAACAGAGCGTCAATCCGACGGTCCCGTTACTTTTCCGTCACCTTTGTACCCGAGAACGCGCAATGTCCTTATAGTACGTGCACCTATGGGATCTGGCAAGACAACTGCTCTCATGAACTGGTTGCAGTGTATTTTATGCAATTCAAATATGAGCGTTTTGATTGTGTCTTGTAGACGCAGTTTTACCAATACATTATCCGAAAAAATTAATAGGGCTGGCATGTCAGGATTTTGTACCTATCTGTCATCCAGCGATTATATTATGCGAGGTAGAGAGTTTTCTAGACTCTTAGTACAAATTGAATCTCTACATCGCGTAGATTCGAAACTTCTTGATAATTATGACATCGTTATATTGGATGAAATCATGTCGACCATCGGCCAGCTTTTCTCTCCAACTATGAAACATTTATGTCAGGTCGATAATATATTGACATCTCTTCTCAGATATCGTCCGAAGATTGTAGCAATGGACGCTACTATAAATACTCAATTGATAGATATGTTAGCCATCATGAGAGGTGAAGAAAATATACATGTTATCGTAGGTGAATATGCAGCATCCGGGTTTTCTAGAAGGTCATGTACGATCCTCCGTAGTTTGGGAACTAATATCCTTCTTTCGGTGATGAATGAATTCAAACAACTTCCATCTCATACTCAGCCTATATTTAAACAGAGTACAGGCGTCAACGGTTCTTTGGATATAAGTCTCCATGATCGGACGTTTTTTTCAGAACTCACTAGACGGCTTGAGGGGGGGTTGAATATTTGTTTGTTTTCCTCAACTATATCATTTTCAGAGATTGTGGCACGTTTCTGCCTCGCATACACGGATTCGGTTTTAGTGTTAAATTCCACAAGAAATACGCCAATAGATATAAATTCATGGTCTAACTACCGCGTCGTAATTTATACTACCGTAGTAACCGTTGGTCTTAGTTTTAACGATTCCCATTTTCATAGTATGTTTGCATACATCAAGCCTACGATAAATGGTCCCGAAATGGTATCGGTTTACCAATCTTTGGGTCGAATTAGATCACTGCGTCTTAATGAAGTGCTAATTTATATCGATGCATCGGGAGCTGGGTCGGAGCCGGTTTTTACGCCCATGCTACTAAATCACGTAATCGCCAATGGAGGAGGATGGCCAACGCGCTTTTCTCAAGTTACCAATATGTTGTGTCACAATTTCAGAAGAGATTGTATACCAACGTTCAGAGCCGCTGATGCATTATACATATTCCCACGATTTAAGTACAAACATTTATTTGAGCGATGTACACTAAACAATGTAAGTGATAGTATTAATATTCTACATGCTCTCCTTGAATCAAATTTAATACACGTGCGCTTCGATGGCTGTGATCTCCAATTAAATGCTGAAGCCTTCTGTGATTTTTTAGTAATTCTTAGAGCAGATTCTATAACTGCCCAACGCGATATGAAAACTCTGCGCAAAAATGCTACCTGCCCTTTACCGGTAGAGGTCGACGTAATTGATAGTGATGCGGTAGCGTGTTTTGTTCAGAAATATCTAAGACCTACTGTGCTCGCCAATGATCTCACAGAACTCCTAACAAAATTAGCGGAACCCATTACTAGAGAACAGTTCATAAACATCACTATGCTGGAAGCATGTCGTGCAACCCCGGCGGCTCTTTACAGTGAAGCGGTATTTTGTCGTATATATGATTATTATGCATCTGGAAATATACCTATAATTGGACCAAGTGGAACCTTAGATACAACGATACTGACATGCGATTTTAATACATCTGGAAGATGGGACTTATACAGGGTATGTTGTAAATGGGCCGAATTATTGGGCATCAACCCTTTAGAAGGACCCAATGCTGATATAGATCCAACAAAACTGTTGCACGTCATGAAAGACGACTATGATATTTATGCTCGTTCTGTGCTGGAAATTGCGCGATGTTACTTGATTGACGCCCAAACTGCCTTAAAACGCCCTGTGCGAGCAACAAAATGTGCCTTGAGTGGGATCCAAAATTCTCACCATAGTCAACCATCCACTCAGAGCCATGCAGTGTCTTTATTTAAAGTCACATGGGAGATTCTCTTCGGACTCCGCCTCACAAAGAGTACAACAACATTTCCGGGTAGAACAAAAGTAAAGAATTTACGGAAGGCGGAGATAGAAGCTCTGTTAGACGGAGCGGGTATTGATAGAACGTCATGCAAAACTCACAAGGATCTCTACACCCTCTTGATGAAAAGCAAGTCATTATTTCGCAATATGCGCTATGATATTCGACGCCCGAAGTGGTACGACCTATTAAGATCTCGTTTAGACAAAGAGTTGGGTATATATCATGATCTGGTAGATTTGGAATCTGTGTTGGCGGAAATTCCGTCAGCACTCTGGCCACGCGTAGAAGGTGCTGTAGATTTTCATCGTTTATAATTATTGGAACCGAATGCGTCAAACCATATCAACGATGGCAGCATCGTCAAAAACTAATATGATGCAGATAATGCGAGGATGTATTTGTTATACGACTGTGTATAGAATTTGGACTAATAAAAATCGTACCGAAGGACTCACTGCATTATGCTATCTACTTTTTCGAAATACATGCGGTCAATACTCGGCACAATATTCTACAGTAAACCTCTCCGGAAAATCCATGGCTAAACTTTGGGGCCTGAACCCAGATATGATTACTGATACAATGTTAGCAGGTATGACCAATTCCGCATCTGTAACCGGATTATGGCCATCTTGCCCTTCGGACCAACACATGCTATGGAAAGCGTTACTCACTACGACTCTAGCAAAATTAAGACACCGTCTGGGATATCATGCTTATTATACACCTGTAACCATCTATATCGACAGTCAAACTGGGTTAGTTACAGCTTGCGAACCGGTATCAGGAGAAAGATCTATCCCTCGCCCCGGATTATTGAAAACGGACGGAATGATCAGCGTTGAAGAGTCATGTCTTATCTCGACTGCCATGAAGCATGCGGAGGGTGCACCCCTGGCCCACATTAAACTGTCAGCCCTTAAACGTACCCGTCAAATTCCAGAGTTTGACATGAGAATTGAAATACAGACAAAAGAAGAACGATTTCTTCGTGAATATAAAAAAGTGAACAGCCCATATAAGAAATTTAAATGTGACAACAATTCAAATACAATATTTAAAGTTGTGGACAATACGTTGGTTTTAGACCATTTACAGCCTCCGGTAAGAGCATTGTCTCTCGTCCCCACGTCTTTTGACTGTTTAGTTACAACCCCCGCCGAATTTTCGCTTGTTGCTCTATTAGCTACTTATGCAAAATGGCATGAGAAACTATACTCTTGTGATAACGAATCGACAAATATTTTGGTACCTATATTAATGTACATCGGTCCTGAAACTAATCCCCGAGGTGAAGATGTAGACTATAGTTGTATCATCGGGTTTCCAGGCTGGCCAATTGTGAAATCCTCCACCGCAAATCAAACAGCTATAAAAGATGCGATAGATGCCTATGTAGATACGGACGGCCTGTGGCCATTAGCTGGGCCTAGAACATTTCATCTATTAGCTCCGTGGTCTCCCGAAAACCATCCGTTCCCCATGATAGACACGTCCCACATTTTATCTGTACATTCTACGGATATCAGACACAAAGCAGCCGATGAATGGACAACAGGACGAATAACTTGTATTTTACGCGATCCGACCCTAATAGAAAATGCAGCGATCGCCAAATTTGACTTCAGTGCATTTTTTGCAACTTTATATCTTGGCCTCTTTCCCACCCATTCTCGATTACATGATGTAGTGAAGGCAAGGTTAAAACGCGAAAAACCATGGCTCAAACGGCCTATCTTAGAATTTGGAGGTTTGCTTAAAAAACTTAATGAAGATGTATATCAATCTATCATCTCCATTGGGAATCATATTAGTATTGAGGTTGAGGCTACCGCATCTTCTCTTATGTTTGCTCCCTGTACTTACATCAAAGACGGGATGTGGGGCACATTCATGGACAAATCAAAAAATGTCCCACGTCCGCCAATGGATGATGAGCGCGACTTTAATATATTGCGGAACGCGTGTGCTGAGAGCGCTAATAATTTCGCCGCGACAATAGGGCTGCAGTTTCCCGACGAAATTCTACTAGATCTGCGTTTGGAAGGCATTTATACACATGCAATGTCATGGAATGCCAACTGTTACTGGCTGTGGAATAAATCCAATCATCATAAGGATTTTGTAGGGTTTCCTAACCAACCTAGATTTGCAAGTTATGCAAAACATGGTCTTTCTACTCTTCTGGAAAAAATATGCATAAGCAATGATACTGACGAATCTCTTCAAACGGTTCGGGAAAAAACCCATGAAGTGTTCGAAGAGCTGCTCTCCATAGCGTTTGATCACCGCAGTGATGTGTCCTTTTGGAGCTGTCCTACAGAATTGTATGATGACACTCAATACATTGCTGCTCTAGGAATGAAGGCAGCAGCTAGATTTGATACCAGTGGTTTCAATCGCGAGACTGTCCAAACTGTGACAGCAGATGGAAAAATAGTTTCTGTTACATGCTCTCTTTTTGAAGGAGAAATAATCCTTCCTGCCATAGATTGTATCGATTATATGAAACCAATACTGGCTGCATTTTCTAGATTATTAATCAATGTTCTGTCTTCTAAATGGGACAATGTTAACAGAGATGATTTTACGTTCGATATTGAGTCGTATAGGTTTATGTTTATTAATAATAAATGACATAAAGTTCTGTTTGCATTATATTTTTTATTTTCATTTTTGGTATGTGTGAAATAAACATTCCTCCCCCCTTAAATTGTTTCGTCCATAATGCCACCAATCACATATTATATCACTTAACCATTTTTGTTGGAAAGCTCCATTCAACAAGCCTTTGTTGATTACGATAGAACATTTTCCTCGCGTAGAAACTGGTACCTGGAACGCCTCACCTAAATTGTTACATTCATATAAAGATATTAACACATCACAAACTCCATTAGTAGAACTTAAATGTTTGTATATAATGTAGTGAGGAAGAACATGATTACTATCGAATGGACTAATAGAACTCAGTTCCATTAGGGTATTTAGTAACCAAGTATTTGTAATACATAAAAATCTACGCATTTTGCGCATCGGCGTTACTGTCGACCATGCATATTTCAGAAAACTTTGAAGTTGAACATATAGTGACGGGTCGGATGAGCTGACGTTCCGGTTTTCCAAATATGAGATGAGCAAACAAAGGGCAAAATCCAAAGGTTCTGCTGGATGGTACGACACAAATCTATATTTTAGAAGTGGGGGCGGTATTCCTATCGTTTTCACCACGTCCTCCATAGCCGTGAGAATCATAAATATGAAACCTTTGAACGCAGGGTTAGCTATACATTGCGTGTAATATATATCACTGCTTATTTCTTCGTCAGTTTCAGTTCCTGCTAAAATCAAATGTAAGCGTCTAATGCAGTTCGCTACTCGAAGTTTATAGACGGAGACACCTGTAAACTGGGTGGGGACTCCATTAATCTCTCTGACTTCCATCATCATCCTCGCCATTGGTTGTCGACTGAGTTCTTCGATAATCGCGTCTCGATTCCCTGTTCCATCTATGGCGTTTATAACCAGAGCGTCTAGAGTATCGCTCACGTCGAGAGGATGGAGAATGGAAGTCATTTCTTCTTCCATGATGGCCGTCAGGCAAATCTTCTGCCTCGCGTTGCCTTCCCGAATTATTTCTGACGAGGAAATATTTCGCGATGGCTCTTTTTACATCGGCATTAAAGATTAGTGCTAAATCATCCAGATAAACGTGAATACGTGTCTTTTCAAATACCGAATTGCATAACTCCTCCTCTGATTTATAAACCTCGTGATTCGTTACTATTGGCCCAATATCATAAATATTCAATACGGAAAAAAAGTAAGGAGCGAGTAGTAAAGTTATCGCACTGTTCGAGTAGGAAATTGAAACCTCATGACCCTGATTATTGGTAGCTCGTGTCAATTTAAAACATCGCAGCATTTCCTGTTCCCAAAGTTCAGAAAGTCTTTTCAAGTCTACATCATACGCAGGTATATATCTTGACTGAAAACTATTAGCAACATAGGAATCATCATCCATAACTTCACCTACATCAATAACATCATGTTTAAGGTCACGCGCCAAAGTTTCTAATGTCGGGCTGTACTGAGAATTGCCCATATCAGTGTGTGCCTGTTTTGAGATAAGATGTTCAGTACGAACTCTGTCGAGTTCTAATTCTTTGGAACAAAGTTTTGCTAGCAAATCTTTATTGGCAGCTTTCAAGCCTTCAACGGTGTTAAACAATTTATTCACATAGCCTTCTAGCATCTCGTTTATACTTGTTACAACAGACGAATGGAATGCATCCCGAATTTTAATGGTATTACGTCGAGTTTCCTCGGTTGTAGAAGCTTGTGCCCGATTGGATTGGCCGAAACCCGGCTGAGATGTATCGATCGAAGCAGCATCCAATAAATGCCCGCTCGTTTCTTCCAAATAGTCTCGAACCGTGTCAGTAATATCTCCCACATGACGCATACCTTTAAGACCAATAATCAGTTTGACTAATCTGGATGCAGCAGAACTTGCTGCATTTTCTGGTTGATCTCCCAAAACTTTGTCGATGACTCGTTGGGCCCCTGCTACCCCCTTACATCCATCATCGCGTTTTGCAATAAGAACTTTTACAGGAGCCGTGTTGACAAGTCGACATAAAGTTGCATGTTGACGCAAATCATGACATTCAATAATCTCCTTGTATATTCGTTGCATTGGCGAATCAAAAATAACTCCGCCATCGTTCATTACTGGCCTCCAGATAACAATACATTCCCCACGCTCACCACTCAATATATCCTTTACCCGAAGTTCTCGTTTAAAGAAATTATATTCTATCAATGTTCTGTCATATTCGAGAATGCTTACTGCCGACATCGAATTCGATAAGTAATTCACAATTTGTTTTCCACGAGCCATAACACTATCGACGACTCGAAGTCTACTGGAGGCATCATGAAATGCCCAGTTTGGAAAAACAGTTGATCTGCCTGCGCATGTAGGTATAGAACTTGTTGCCCTTGCAGAACGATCATGTCTAACAACTGGAACGATACCAAGGCAACAAATCCAATCTATATATTTGGAAAAACTGGAAGTGTTTATATTGGCCGTAGTAAAGCAAGAAATTAGCTGACGAGCCAAATTTATCAATGTAGTTTGCAGAGTTTTGCGCCATGTTACAAAAACATTTTCTGCTACCTTAACAGCTTCTGCTTCACTATGCATACCATATGTTCTGGCAAGTTTTTTTGCTGACATCCC'"
       ]
      }
     ],
     "prompt_number": 66
    },
    {
     "cell_type": "code",
     "collapsed": false,
     "input": [],
     "language": "python",
     "metadata": {},
     "outputs": []
    }
   ],
   "metadata": {}
  }
 ]
}