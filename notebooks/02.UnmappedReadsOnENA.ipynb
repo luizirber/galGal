{
 "metadata": {
  "name": "",
  "signature": "sha256:696998efbdf2c331b12ca3aaeb2c2dc2b6b083eb27bcd474635445a322f4a71d"
 },
 "nbformat": 3,
 "nbformat_minor": 0,
 "worksheets": [
  {
   "cells": [
    {
     "cell_type": "code",
     "collapsed": false,
     "input": [
      "import pandas as pd"
     ],
     "language": "python",
     "metadata": {},
     "outputs": [],
     "prompt_number": 2
    },
    {
     "cell_type": "code",
     "collapsed": false,
     "input": [
      "import requests\n",
      "import time"
     ],
     "language": "python",
     "metadata": {},
     "outputs": [],
     "prompt_number": 3
    },
    {
     "cell_type": "code",
     "collapsed": false,
     "input": [
      "def ena_collections():\n",
      "    resp = requests.get(\"http://www.ebi.ac.uk/ena/search/showQueryCollections\", params={'type': 'sensitive'})\n",
      "    available_collections = {}\n",
      "    for line in resp.content.split('\\r\\n')[:-1]:\n",
      "        collection_id, collection_name, display_name, collection = line.split('\\t')\n",
      "        available_collections[int(collection_id)] = {\n",
      "            'collection_id': int(collection_id),\n",
      "            'collection_name': collection_name,\n",
      "            'display_name': display_name,\n",
      "            'collection': collection,\n",
      "        }\n",
      "    return available_collections\n",
      "\n",
      "def search_ena(seq):\n",
      "    resp = requests.get(\"http://www.ebi.ac.uk/ena/search/executeSearch\",\n",
      "                        params={'Sequence': seq,\n",
      "                                'type': 'sensitive'})\n",
      "    jobid = resp.content.strip().split('job_id=')[-1]\n",
      "    \n",
      "    resp_s = requests.get(resp.content.strip(), cookies=resp.cookies)\n",
      "    search_response = dict('status', 'space', 'servers completed', 'total servers', 'alignments available'),\n",
      "                           resp_s.content.strip().split('\\t')))\n",
      "\n",
      "    while search_response['status'] == 'SEARCHING':\n",
      "        #print search_response['servers completed'], search_response['total servers'], '\\r',\n",
      "        time.sleep(5)\n",
      "        resp_s = requests.get(resp.content.strip(), cookies=resp.cookies)\n",
      "        search_response = dict(zip(('status', 'space', 'servers completed', 'total servers', 'alignments available'),\n",
      "                               resp_s.content.strip().split('\\t')))\n",
      "\n",
      "    resp_r = requests.get('http://www.ebi.ac.uk/ena/search/searchResults',\n",
      "                      params={'job_id': jobid,\n",
      "                              'fields': 'accession,data_source,description,e_value,identity,target_length,organism'},\n",
      "                      cookies=resp.cookies)\n",
      "\n",
      "    alignments_dict = {}\n",
      "    for line in resp_r.content.split('\\r\\n')[:-1]:\n",
      "        data = line.split('\\t')\n",
      "        alignments_dict[data[0]] = {'accession': data[0],\n",
      "                                    'data_source': data[1],\n",
      "                                    'description': data[2],\n",
      "                                    'e_value': float(data[3]),\n",
      "                                    'identity': int(data[4]),\n",
      "                                    'target_length': int(data[5]),\n",
      "                                    'organism': data[6]}\n",
      "    \n",
      "    alignments = pd.DataFrame.from_dict(alignments_dict).T\n",
      "    sorted_alignments = alignments[alignments.target_length <= len(ena_seq)].sort(columns=['target_length', 'identity'], ascending=False)\n",
      "    \n",
      "    return sorted_alignments"
     ],
     "language": "python",
     "metadata": {},
     "outputs": [],
     "prompt_number": 45
    },
    {
     "cell_type": "code",
     "collapsed": false,
     "input": [
      "ena_seq = 'TATTCAATAAGTCAATATCATGCCGTTAATATGTTGCCATCCGTGGCAATCATGCTGCTAACGTGTGACCGCATTCAAAATGTTGTCTGCGATTGACTCTTCTTTGTGGCATTGCACCACCAGAGCGTCATACAGCGGCTTAACAGTGCGTGACCAGGTGGGTTGGGTAAGGTTTGGGGTTAGCATCGTCACAGCGCGATATGCTGCGCTTGCTGGCATCCTTGAATAGCCGACGCCTTTGCATCTTCCGCACTCTTTCTCGACAACTCTCCCCCACAGCTCTGTTTTGGCAATATCAACCGCACGGCCTGTACCATGACAATCTCTGCATCTTGCCCCCGGCGTCGCGGCACTACGGCAATAATCCGCATAAGCGAATGTTGCGAGCACTTGCAGTACCTTTGCCTTAGTATTTCCTTCAAGCTTTGCCACACCACGGTATTTCCCCGATACCTTGTGTGCAAATTGCATCAGATAGTTGATAGCCTTTTGTTTGTCGTTCTGGCTGAGTTCGTGCTTACCGCAGAATGCAGCCATACCGAATCCG'"
     ],
     "language": "python",
     "metadata": {},
     "outputs": [],
     "prompt_number": 46
    },
    {
     "cell_type": "code",
     "collapsed": false,
     "input": [
      "sorted_alignments = search_ena(ena_seq)"
     ],
     "language": "python",
     "metadata": {},
     "outputs": [],
     "prompt_number": 47
    },
    {
     "cell_type": "code",
     "collapsed": false,
     "input": [
      "(sorted_alignments\n",
      "    .organism\n",
      "    .head(100)\n",
      "    .apply(lambda x: \" \".join(x.split()[:2]))\n",
      "    .value_counts())"
     ],
     "language": "python",
     "metadata": {},
     "outputs": [
      {
       "metadata": {},
       "output_type": "pyout",
       "prompt_number": 48,
       "text": [
        "Escherichia coli            57\n",
        "Enterobacteria phage         9\n",
        "Cloning vector               7\n",
        "null                         6\n",
        "Mus musculus                 5\n",
        "Shigella flexneri            5\n",
        "synthetic construct          3\n",
        "Arachis hypogaea             2\n",
        "Bombyx mori                  1\n",
        "Streptomyces vinaceus        1\n",
        "Rhodococcus erythropolis     1\n",
        "[Kitasatospora] papulosa     1\n",
        "Enterobacterial phage        1\n",
        "Malus domestica              1\n",
        "dtype: int64"
       ]
      }
     ],
     "prompt_number": 48
    },
    {
     "cell_type": "code",
     "collapsed": false,
     "input": [],
     "language": "python",
     "metadata": {},
     "outputs": []
    }
   ],
   "metadata": {}
  }
 ]
}