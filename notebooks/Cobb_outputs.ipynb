{
 "metadata": {
  "name": "",
  "signature": "sha256:a4e3c062508d3454eb7222f7a31a297cd1f6e1fa40835017f16179b6a7fa3ff9"
 },
 "nbformat": 3,
 "nbformat_minor": 0,
 "worksheets": [
  {
   "cells": [
    {
     "cell_type": "code",
     "collapsed": false,
     "input": [
      "from screed.fasta import fasta_iter"
     ],
     "language": "python",
     "metadata": {},
     "outputs": [],
     "prompt_number": 30
    },
    {
     "cell_type": "code",
     "collapsed": false,
     "input": [
      "with open(\"../outputs/rna/match_ortho.rna.moleculo.txt\") as rna_mol_match:\n",
      "    rna_mol_set = set([line.split(' ')[0] for line in rna_mol_match if line.strip()])\n",
      "\n",
      "with open(\"../outputs/rna/match_ortho.rna.ref.txt\") as rna_ref_match:\n",
      "    rna_ref_set = set([line.split(' ')[0] for line in rna_ref_match if line.strip()])\n",
      "    \n",
      "with open(\"../outputs/rna/ortho.fa\") as ortho_file:\n",
      "    E = set([line.split(' ')[0][1:] for line in ortho_file if line.startswith('>')])    "
     ],
     "language": "python",
     "metadata": {},
     "outputs": [],
     "prompt_number": 18
    },
    {
     "cell_type": "code",
     "collapsed": false,
     "input": [
      "B = rna_mol_set & rna_ref_set"
     ],
     "language": "python",
     "metadata": {},
     "outputs": [],
     "prompt_number": 20
    },
    {
     "cell_type": "code",
     "collapsed": false,
     "input": [
      "C = rna_mol_set - B"
     ],
     "language": "python",
     "metadata": {},
     "outputs": [],
     "prompt_number": 21
    },
    {
     "cell_type": "code",
     "collapsed": false,
     "input": [
      "A = rna_ref_set - B"
     ],
     "language": "python",
     "metadata": {},
     "outputs": [],
     "prompt_number": 22
    },
    {
     "cell_type": "code",
     "collapsed": false,
     "input": [
      "D = E - A - C - B"
     ],
     "language": "python",
     "metadata": {},
     "outputs": [],
     "prompt_number": 24
    },
    {
     "cell_type": "code",
     "collapsed": false,
     "input": [
      "def write_output_fasta(outfile, seqfile, keys):\n",
      "    n_written = 0\n",
      "    with open(outfile, 'w') as output:\n",
      "        with open(seqfile, 'r') as sequences:\n",
      "            for seq in fasta_iter(sequences):\n",
      "                if seq['name'] in keys:\n",
      "                    output.write(\">{name} {description}\\n{sequence}\\n\".format(**seq))\n",
      "                    n_written += 1\n",
      "    return n_written"
     ],
     "language": "python",
     "metadata": {},
     "outputs": [],
     "prompt_number": 53
    },
    {
     "cell_type": "code",
     "collapsed": false,
     "input": [
      "write_output_fasta(\"../outputs/rna/cobb/A-ref_rna.fa\", \"../outputs/rna/ortho.fa\", A)\n",
      "write_output_fasta(\"../outputs/rna/cobb/B-ref_rna_mol.fa\", \"../outputs/rna/ortho.fa\", B)\n",
      "write_output_fasta(\"../outputs/rna/cobb/C-mol_rna.fa\", \"../outputs/rna/ortho.fa\", C)\n",
      "write_output_fasta(\"../outputs/rna/cobb/D-only_rna.fa\", \"../outputs/rna/ortho.fa\", D)"
     ],
     "language": "python",
     "metadata": {},
     "outputs": [
      {
       "metadata": {},
       "output_type": "pyout",
       "prompt_number": 54,
       "text": [
        "3682"
       ]
      }
     ],
     "prompt_number": 54
    },
    {
     "cell_type": "code",
     "collapsed": false,
     "input": [],
     "language": "python",
     "metadata": {},
     "outputs": []
    }
   ],
   "metadata": {}
  }
 ]
}