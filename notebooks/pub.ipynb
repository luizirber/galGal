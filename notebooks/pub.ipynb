{
 "metadata": {
  "name": "",
  "signature": "sha256:cacdb834bc90ee5f8e19632627dcc8785830fc506c2853af1a4ca6aeebaba0d3"
 },
 "nbformat": 3,
 "nbformat_minor": 0,
 "worksheets": [
  {
   "cells": [
    {
     "cell_type": "markdown",
     "metadata": {},
     "source": [
      "From [1]:\n",
      "Pretty much everything mapped to galGal4, only 661 reads out of 500k\n",
      "didn't (0.13%)\n",
      "I sampled 5 reads from these 661 and checked on ENA: two matches\n",
      "E.coli, one matched turkey and two didn't match anything, which is\n",
      "curious.\n",
      "\n",
      "From [2]:\n",
      "The reads cover ~30% of the reference genome\n",
      "\n",
      "From [3]:\n",
      "The sequences only in RNA are about the same as from the Moleculo data\n",
      "diagram [4], but there are less in the intersection. I think this is\n",
      "expected, since the coverage is way lower (30% against 88% on\n",
      "Moleculo).\n",
      "\n",
      "From [5]:\n",
      "I'm still doing this one, the goal is to check if it captures more\n",
      "orthologs than Moleculo did. My guess is that it probably won't (since\n",
      "both are Illumina sequencing), but let's see.\n",
      "\n",
      "--\n",
      "\n",
      "[1]: http://nbviewer.ipython.org/github/luizirber/galGal/blob/1af9535637dc027dda2cec3cbaffb44b23bdf765/notebooks/Exploring_msu_seq-take2.ipynb\n",
      "[2]: http://nbviewer.ipython.org/github/luizirber/galGal/blob/e05cad0e908fedc4d2da75a0e0f2d1ea70ac1c2c/notebooks/MSU_coverage-take_two.ipynb\n",
      "[3]: http://nbviewer.ipython.org/github/luizirber/galGal/blob/e05cad0e908fedc4d2da75a0e0f2d1ea70ac1c2c/notebooks/rna_msu_ref-take_two.ipynb#galGal4-diagram\n",
      "[4]: http://nbviewer.ipython.org/github/luizirber/galGal/blob/e05cad0e908fedc4d2da75a0e0f2d1ea70ac1c2c/notebooks/04.rna_mol_ref.ipynb\n",
      "[5]: http://nbviewer.ipython.org/github/luizirber/galGal/blob/master/notebooks/Refining_RNA_data-take_two.ipynb"
     ]
    },
    {
     "cell_type": "code",
     "collapsed": false,
     "input": [
      "!samtools view -c -f 4 ../outputs/moleculo/galGal4.LR6000017-DNA_A01-LRAAA-AllReads.sorted.bam\n",
      "!samtools view -c ../outputs/moleculo/galGal4.LR6000017-DNA_A01-LRAAA-AllReads.sorted.bam"
     ],
     "language": "python",
     "metadata": {},
     "outputs": [
      {
       "output_type": "stream",
       "stream": "stdout",
       "text": [
        "326\r\n"
       ]
      },
      {
       "output_type": "stream",
       "stream": "stdout",
       "text": [
        "1683294\r\n"
       ]
      }
     ],
     "prompt_number": 10
    },
    {
     "cell_type": "code",
     "collapsed": false,
     "input": [
      "import pandas as pd"
     ],
     "language": "python",
     "metadata": {},
     "outputs": [],
     "prompt_number": 3
    },
    {
     "cell_type": "code",
     "collapsed": false,
     "input": [
      "!python ~/khmer/sandbox/assemstats.py 100 ../outputs/msu/latest.fasta > ../outputs/msu/assemstats_output_latest"
     ],
     "language": "python",
     "metadata": {},
     "outputs": []
    },
    {
     "cell_type": "code",
     "collapsed": false,
     "input": [
      "msu_reads = pd.read_table(\"../outputs/msu/assemstats_output_latest\", sep=\" \")"
     ],
     "language": "python",
     "metadata": {},
     "outputs": [],
     "prompt_number": 30
    },
    {
     "cell_type": "code",
     "collapsed": false,
     "input": [
      "!python ~/khmer/sandbox/assemstats.py 100 ../outputs/moleculo/LR6000017-DNA_A01-LRAAA-AllReads.fasta > ../outputs/moleculo/assemstats"
     ],
     "language": "python",
     "metadata": {},
     "outputs": [],
     "prompt_number": 13
    },
    {
     "cell_type": "code",
     "collapsed": false,
     "input": [
      "mol_reads = pd.read_table(\"../outputs/moleculo/assemstats\", sep=\" \")"
     ],
     "language": "python",
     "metadata": {},
     "outputs": [],
     "prompt_number": 31
    },
    {
     "cell_type": "markdown",
     "metadata": {},
     "source": [
      "No problem. Any progress on a figure or table showing alignment quality, and a methods paragraph?"
     ]
    },
    {
     "cell_type": "code",
     "collapsed": false,
     "input": [
      "both_reads = msu_reads.append(mol_reads, ignore_index=True)\n",
      "both_reads"
     ],
     "language": "python",
     "metadata": {},
     "outputs": [
      {
       "html": [
        "<div style=\"max-height:1000px;max-width:1500px;overflow:auto;\">\n",
        "<table border=\"1\" class=\"dataframe\">\n",
        "  <thead>\n",
        "    <tr style=\"text-align: right;\">\n",
        "      <th></th>\n",
        "      <th>filename</th>\n",
        "      <th>sum</th>\n",
        "      <th>n</th>\n",
        "      <th>trim_n</th>\n",
        "      <th>min</th>\n",
        "      <th>med</th>\n",
        "      <th>mean</th>\n",
        "      <th>max</th>\n",
        "      <th>n50</th>\n",
        "      <th>n50_len</th>\n",
        "      <th>n90</th>\n",
        "      <th>n90_len</th>\n",
        "    </tr>\n",
        "  </thead>\n",
        "  <tbody>\n",
        "    <tr>\n",
        "      <th>0</th>\n",
        "      <td>                       ../outputs/msu/latest.fasta</td>\n",
        "      <td>  470397190</td>\n",
        "      <td>  492527</td>\n",
        "      <td>  492526</td>\n",
        "      <td> 128</td>\n",
        "      <td>  639</td>\n",
        "      <td>  955</td>\n",
        "      <td>  6607</td>\n",
        "      <td> 112009</td>\n",
        "      <td> 1273</td>\n",
        "      <td> 377893</td>\n",
        "      <td>  459</td>\n",
        "    </tr>\n",
        "    <tr>\n",
        "      <th>1</th>\n",
        "      <td> ../outputs/moleculo/LR6000017-DNA_A01-LRAAA-Al...</td>\n",
        "      <td> 5979144764</td>\n",
        "      <td> 1579060</td>\n",
        "      <td> 1579060</td>\n",
        "      <td> 500</td>\n",
        "      <td> 2514</td>\n",
        "      <td> 3786</td>\n",
        "      <td> 17521</td>\n",
        "      <td> 347311</td>\n",
        "      <td> 7374</td>\n",
        "      <td> 954271</td>\n",
        "      <td> 1729</td>\n",
        "    </tr>\n",
        "  </tbody>\n",
        "</table>\n",
        "</div>"
       ],
       "metadata": {},
       "output_type": "pyout",
       "prompt_number": 32,
       "text": [
        "                                            filename         sum        n  \\\n",
        "0                        ../outputs/msu/latest.fasta   470397190   492527   \n",
        "1  ../outputs/moleculo/LR6000017-DNA_A01-LRAAA-Al...  5979144764  1579060   \n",
        "\n",
        "    trim_n  min   med  mean    max     n50  n50_len     n90  n90_len  \n",
        "0   492526  128   639   955   6607  112009     1273  377893      459  \n",
        "1  1579060  500  2514  3786  17521  347311     7374  954271     1729  "
       ]
      }
     ],
     "prompt_number": 32
    },
    {
     "cell_type": "code",
     "collapsed": false,
     "input": [
      "subset = (both_reads[['sum', 'n', 'min', 'mean', 'med', 'max']]\n",
      "            .rename(\n",
      "              index={\n",
      "                0: 'MSU',\n",
      "                1: 'Moleculo'},\n",
      "              columns={\n",
      "                'sum': 'Total bases',\n",
      "                'n': \"Number of reads\",\n",
      "                'min': 'Minimum read length',\n",
      "                'mean': 'Mean read length',\n",
      "                'med': 'Median read length',\n",
      "                'max': 'Maximum read length'\n",
      "              }))\n",
      "subset['Unmapped reads to galGal4'] = [661, 326]\n",
      "subset['Percentage of galGal4 covered by reads'] = [28.9, 88.4]"
     ],
     "language": "python",
     "metadata": {},
     "outputs": [],
     "prompt_number": 55
    },
    {
     "cell_type": "code",
     "collapsed": false,
     "input": [
      "subset"
     ],
     "language": "python",
     "metadata": {},
     "outputs": [
      {
       "html": [
        "<div style=\"max-height:1000px;max-width:1500px;overflow:auto;\">\n",
        "<table border=\"1\" class=\"dataframe\">\n",
        "  <thead>\n",
        "    <tr style=\"text-align: right;\">\n",
        "      <th></th>\n",
        "      <th>Total bases</th>\n",
        "      <th>Number of reads</th>\n",
        "      <th>Minimum read length</th>\n",
        "      <th>Mean read length</th>\n",
        "      <th>Median read length</th>\n",
        "      <th>Maximum read length</th>\n",
        "      <th>Unmapped reads to galGal4</th>\n",
        "      <th>Percentage of galGal4 covered by reads</th>\n",
        "    </tr>\n",
        "  </thead>\n",
        "  <tbody>\n",
        "    <tr>\n",
        "      <th>MSU</th>\n",
        "      <td>  470397190</td>\n",
        "      <td>  492527</td>\n",
        "      <td> 128</td>\n",
        "      <td>  955</td>\n",
        "      <td>  639</td>\n",
        "      <td>  6607</td>\n",
        "      <td> 661</td>\n",
        "      <td> 28.9</td>\n",
        "    </tr>\n",
        "    <tr>\n",
        "      <th>Moleculo</th>\n",
        "      <td> 5979144764</td>\n",
        "      <td> 1579060</td>\n",
        "      <td> 500</td>\n",
        "      <td> 3786</td>\n",
        "      <td> 2514</td>\n",
        "      <td> 17521</td>\n",
        "      <td> 326</td>\n",
        "      <td> 88.4</td>\n",
        "    </tr>\n",
        "  </tbody>\n",
        "</table>\n",
        "</div>"
       ],
       "metadata": {},
       "output_type": "pyout",
       "prompt_number": 54,
       "text": [
        "          Total bases  Number of reads  Minimum read length  Mean read length  \\\n",
        "MSU         470397190           492527                  128               955   \n",
        "Moleculo   5979144764          1579060                  500              3786   \n",
        "\n",
        "          Median read length  Maximum read length  Unmapped reads to galGal4  \\\n",
        "MSU                      639                 6607                        661   \n",
        "Moleculo                2514                17521                        326   \n",
        "\n",
        "          Percentage of galGal4 covered by reads  \n",
        "MSU                                         28.9  \n",
        "Moleculo                                    88.4  "
       ]
      }
     ],
     "prompt_number": 54
    },
    {
     "cell_type": "code",
     "collapsed": false,
     "input": [
      "subset.to_csv('../outputs/pub.csv')"
     ],
     "language": "python",
     "metadata": {},
     "outputs": [],
     "prompt_number": 57
    },
    {
     "cell_type": "markdown",
     "metadata": {},
     "source": []
    }
   ],
   "metadata": {}
  }
 ]
}