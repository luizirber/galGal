{
 "metadata": {
  "name": "",
  "signature": "sha256:9c9339a31736f0e03bccd946cba7dc8180640f5c745425667981efb9e2038812"
 },
 "nbformat": 3,
 "nbformat_minor": 0,
 "worksheets": [
  {
   "cells": [
    {
     "cell_type": "heading",
     "level": 1,
     "metadata": {},
     "source": [
      "RNAseq, Moleculo and reference overlaps"
     ]
    },
    {
     "cell_type": "markdown",
     "metadata": {},
     "source": [
      " - scripts/split_fasta.py  \n",
      "    * filter Un and random contigs from galGal4\n",
      " - scripts/submit_blat.pbs\n",
      "    * db: galGal4.filtered\n",
      "    * query: RNA\n",
      " - scripts/submit_blat_mol.pbs\n",
      "    * db: moleculo\n",
      "    * query: RNA\n",
      " - scripts/blat_merge_outputs.py\n",
      "    * look for transc_* files and merge them in a HDF5 file"
     ]
    },
    {
     "cell_type": "code",
     "collapsed": false,
     "input": [
      "%matplotlib inline\n",
      "from matplotlib import pyplot as plt\n",
      "import pandas as pd\n",
      "import tables\n",
      "import screed\n",
      "import numpy as np\n",
      "import seaborn\n",
      "from matplotlib_venn import venn3, venn3_circles"
     ],
     "language": "python",
     "metadata": {},
     "outputs": [],
     "prompt_number": 1
    },
    {
     "cell_type": "heading",
     "level": 2,
     "metadata": {},
     "source": [
      "Making sense of the calculations, before starting!"
     ]
    },
    {
     "cell_type": "code",
     "collapsed": false,
     "input": [
      "v = venn3((1,1,1,1,1,1,1), set_labels=('Ref', 'Moleculo', 'RNA'))\n",
      "v.get_label_by_id('100').set_text('Only in ref')\n",
      "v.get_label_by_id('010').set_text('Only in mol')\n",
      "v.get_label_by_id('001').set_text('Only in RNA')\n",
      "\n",
      "v.get_label_by_id('011').set_text('*')\n",
      "v.get_label_by_id('101').set_text('A')\n",
      "v.get_label_by_id('110').set_text('B')\n",
      "\n",
      "v.get_label_by_id('111').set_text('C')"
     ],
     "language": "python",
     "metadata": {},
     "outputs": [
      {
       "output_type": "stream",
       "stream": "stderr",
       "text": [
        "/opt/software/ged-software/anaconda/lib/python2.7/site-packages/matplotlib/font_manager.py:1236: UserWarning: findfont: Font family ['Arial'] not found. Falling back to Bitstream Vera Sans\n",
        "  (prop.get_family(), self.defaultFamily[fontext]))\n"
       ]
      },
      {
       "metadata": {},
       "output_type": "display_data",
       "png": "[encoded data removed]",
       "text": [
        "<matplotlib.figure.Figure at 0x2aef1a522910>"
       ]
      }
     ],
     "prompt_number": 2
    },
    {
     "cell_type": "markdown",
     "metadata": {},
     "source": [
      "Blat ref/rna $= A + C$ \n",
      "\n",
      "Blat mol/rna $= C + *$\n",
      "\n",
      "BWA mem ref/moleculo $= B + C$ \n",
      "\n",
      "$C = (A + C) \\cap (C + *)$\n",
      "\n",
      "$* = $ Blat mol/rna $ - C$\n",
      "\n",
      "$A = $ Blat ref/rna $-C$"
     ]
    },
    {
     "cell_type": "code",
     "collapsed": false,
     "input": [
      "! cd .. && make outputs/galGal4/galGal4.fa_screed outputs/galGal5/galGal5.fa_screed \n",
      "! cd .. && make outputs/moleculo/galGal5.unmapped_reads outputs/moleculo/galGal4.unmapped_reads"
     ],
     "language": "python",
     "metadata": {},
     "outputs": [
      {
       "output_type": "stream",
       "stream": "stdout",
       "text": [
        "make: `outputs/galGal4/galGal4.fa_screed' is up to date.\r\n"
       ]
      },
      {
       "output_type": "stream",
       "stream": "stdout",
       "text": [
        "make: `outputs/galGal5/galGal5.fa_screed' is up to date.\r\n"
       ]
      },
      {
       "output_type": "stream",
       "stream": "stdout",
       "text": [
        "make: `outputs/moleculo/galGal5.unmapped_reads' is up to date.\r\n",
        "make: `outputs/moleculo/galGal4.unmapped_reads' is up to date.\r\n"
       ]
      }
     ],
     "prompt_number": 3
    },
    {
     "cell_type": "code",
     "collapsed": false,
     "input": [
      "ALIGNMENTS_HDF5 = '../workdirs/blat/minlen200.h5'\n",
      "\n",
      "with pd.get_store(ALIGNMENTS_HDF5, mode='r') as store:\n",
      "    print(store)"
     ],
     "language": "python",
     "metadata": {},
     "outputs": [
      {
       "output_type": "stream",
       "stream": "stdout",
       "text": [
        "<class 'pandas.io.pytables.HDFStore'>\n",
        "File path: ../workdirs/blat/minlen200.h5\n",
        "/moleculo_1_LongRead                       frame        (shape->[1924965,13])\n",
        "/moleculo_1_LongRead_500_1499nt            frame        (shape->[219885,13]) \n",
        "/moleculo_2_LongRead                       frame        (shape->[1941357,13])\n",
        "/moleculo_2_LongRead_500_1499nt            frame        (shape->[209420,13]) \n",
        "/moleculo_3_LongRead                       frame        (shape->[1922250,13])\n",
        "/moleculo_3_LongRead_500_1499nt            frame        (shape->[220515,13]) \n",
        "/moleculo_4_LongRead                       frame        (shape->[1951840,13])\n",
        "/moleculo_4_LongRead_500_1499nt            frame        (shape->[215055,13]) \n",
        "/moleculo_5_LongRead                       frame        (shape->[1853730,13])\n",
        "/moleculo_5_LongRead_500_1499nt            frame        (shape->[226370,13]) \n",
        "/reference_galGal4                         frame        (shape->[1469272,13])\n",
        "/reference_galGal5                         frame        (shape->[1597565,13])\n"
       ]
      }
     ],
     "prompt_number": 4
    },
    {
     "cell_type": "code",
     "collapsed": false,
     "input": [
      "# Load chick mRNA data from Likit\n",
      "chick_rna = screed.ScreedDB('../inputs/chicken_transcripts/global_merged.fa.clean.nr_screed')\n",
      "rna = {chick_rna[seq]['name'] for seq in chick_rna}\n",
      "\n",
      "# Load mRNA data to a DataFrame\n",
      "chick_rna_df = pd.DataFrame(index=rna)\n",
      "chick_rna_df['sequence'] = pd.Series({seq: str(chick_rna[seq]['sequence']) for seq in chick_rna})"
     ],
     "language": "python",
     "metadata": {},
     "outputs": [],
     "prompt_number": 6
    },
    {
     "cell_type": "heading",
     "level": 2,
     "metadata": {},
     "source": [
      "Load mol/rna reads and calculate intersection (C)"
     ]
    },
    {
     "cell_type": "code",
     "collapsed": false,
     "input": [
      "def calc_intersection(ref_rna_set, ref_rna_90_set):\n",
      "    intersection = set()\n",
      "    intersection_90 = set()\n",
      "\n",
      "    for f in range(1, 6):\n",
      "        for file_format in (\"/moleculo_%d_LongRead_500_1499nt\", \"/moleculo_%d_LongRead\"):\n",
      "            mol_reads = pd.read_hdf(ALIGNMENTS_HDF5, file_format % f, mode='r')\n",
      "            intersection |= ref_rna_set & set(mol_reads['Query id'])\n",
      "\n",
      "            mol_reads = mol_reads[mol_reads['% identity'] > 90]\n",
      "            intersection_90 |= ref_rna_set & set(mol_reads['Query id'])\n",
      "\n",
      "            mol_reads = None\n",
      "\n",
      "    return intersection, intersection_90"
     ],
     "language": "python",
     "metadata": {},
     "outputs": [],
     "prompt_number": 10
    },
    {
     "cell_type": "heading",
     "level": 2,
     "metadata": {},
     "source": [
      "$* = $ Blat mol/rna $- C = $ only_rna_mol"
     ]
    },
    {
     "cell_type": "code",
     "collapsed": false,
     "input": [
      "def calc_only_rna_mol(intersection, intersection_90):\n",
      "    only_rna_mol = set()\n",
      "    only_rna_mol_90 = set()\n",
      "\n",
      "    for f in range(1, 6):\n",
      "        for file_format in (\"/moleculo_%d_LongRead_500_1499nt\", \"/moleculo_%d_LongRead\"):\n",
      "            mol_reads = pd.read_hdf(ALIGNMENTS_HDF5, file_format % f, mode='r')\n",
      "            only_rna_mol |= set(mol_reads['Query id']) - intersection\n",
      "\n",
      "            mol_reads = mol_reads[mol_reads['% identity'] > 90]\n",
      "            only_rna_mol_90 |= set(mol_reads['Query id']) - intersection_90\n",
      "\n",
      "            mol_reads = None\n",
      "            #mol_matches = mol_reads[~(mol_reads['Query id'].isin(ref_matches['Query id']))]\n",
      "    return only_rna_mol, only_rna_mol_90\n",
      "\n",
      "def calc_only_in_mol(unmapped_reads):\n",
      "    only_in_mol = unmapped_reads.copy()\n",
      "    only_in_mol_90 = unmapped_reads.copy()\n",
      "\n",
      "    for f in range(1, 6):\n",
      "        for file_format in (\"/moleculo_%d_LongRead_500_1499nt\", \"/moleculo_%d_LongRead\"):\n",
      "            mol_reads = pd.read_hdf(ALIGNMENTS_HDF5, file_format % f, mode='r')\n",
      "            only_in_mol -= set(mol_reads['Subject id'])\n",
      "\n",
      "            mol_reads = mol_reads[mol_reads['% identity'] > 90]\n",
      "            only_in_mol_90 -= set(mol_reads['Subject id'])\n",
      "\n",
      "            mol_reads = None\n",
      "            #mol_matches = mol_reads[~(mol_reads['Query id'].isin(ref_matches['Query id']))]\n",
      "    return only_in_mol, only_in_mol_90"
     ],
     "language": "python",
     "metadata": {},
     "outputs": [],
     "prompt_number": 17
    },
    {
     "cell_type": "heading",
     "level": 2,
     "metadata": {},
     "source": [
      "galGal4 data"
     ]
    },
    {
     "cell_type": "code",
     "collapsed": false,
     "input": [
      "# Load galGal4 data\n",
      "chick_galGal4 = screed.ScreedDB('../outputs/galGal4/galGal4.fa_screed')\n",
      "galGal4 = {chick_galGal4[seq]['name'] for seq in chick_galGal4}\n",
      "\n",
      "# Load galGal4 data to a DataFrame\n",
      "chick_galGal4_df = pd.DataFrame(index=galGal4)\n",
      "chick_galGal4_df['sequence'] = pd.Series({seq: str(chick_galGal4[seq]['sequence']) for seq in chick_galGal4})\n",
      "\n",
      "# Load all alignments for galGal4.x.mrnaseq\n",
      "galGal4_rna = pd.read_hdf(ALIGNMENTS_HDF5, \"/reference_galGal4\", mode='r')\n",
      "galGal4_rna_set = set(galGal4_rna['Query id'])\n",
      "\n",
      "# Select only alignments with % identity > 90\n",
      "galGal4_rna_90 = galGal4_rna[galGal4_rna['% identity'] > 90]\n",
      "galGal4_rna_set_90 = set(galGal4_rna_90['Query id'])\n",
      "\n",
      "# Load unmapped moleculo reads (to galGal4)\n",
      "with open('../outputs/moleculo/galGal4.unmapped_reads', 'r') as f:\n",
      "    unmapped_reads_galGal4 = {line.strip() for line in f if line.startswith('>')}"
     ],
     "language": "python",
     "metadata": {},
     "outputs": [],
     "prompt_number": 8
    },
    {
     "cell_type": "heading",
     "level": 2,
     "metadata": {},
     "source": [
      "galGal5 data"
     ]
    },
    {
     "cell_type": "code",
     "collapsed": false,
     "input": [
      "# Load galGal5 data\n",
      "chick_galGal5 = screed.ScreedDB('../outputs/galGal5/galGal5.fa_screed')\n",
      "galGal5 = {chick_galGal5[seq]['name'] for seq in chick_galGal5}\n",
      "\n",
      "# Load galGal5 data to a DataFrame\n",
      "chick_galGal5_df = pd.DataFrame(index=galGal5)\n",
      "chick_galGal5_df['sequence'] = pd.Series({seq: str(chick_galGal5[seq]['sequence']) for seq in chick_galGal5})\n",
      "\n",
      "# Load all alignments for galGal5.x.mrnaseq\n",
      "galGal5_rna = pd.read_hdf(ALIGNMENTS_HDF5, \"/reference_galGal5\", mode='r')\n",
      "galGal5_rna_set = set(galGal5_rna['Query id'])\n",
      "\n",
      "# Select only alignments with % identity > 90\n",
      "galGal5_rna_90 = galGal5_rna[galGal5_rna['% identity'] > 90]\n",
      "galGal5_rna_set_90 = set(galGal5_rna_90['Query id'])\n",
      "\n",
      "# Load unmapped moleculo reads (to galGal5)\n",
      "with open('../outputs/moleculo/galGal5.unmapped_reads', 'r') as f:\n",
      "    unmapped_reads_galGal5 = {line.strip() for line in f}"
     ],
     "language": "python",
     "metadata": {},
     "outputs": [],
     "prompt_number": 9
    },
    {
     "cell_type": "code",
     "collapsed": false,
     "input": [
      "def summarize(rna, ref_rna_set, ref_rna_set_90, unmapped_reads, chick_rna_df):\n",
      "    intersection, intersection_90 = calc_intersection(ref_rna_set, ref_rna_set_90)\n",
      "    only_rna_mol, only_rna_mol_90 = calc_only_rna_mol(intersection, intersection_90)\n",
      "    only_in_mol, only_in_mol_90 = calc_only_in_mol(unmapped_reads)\n",
      "    \n",
      "    # $A = $ Blat ref/rna $-C =$ only_rna_ref\n",
      "    only_rna_ref = ref_rna_set - intersection\n",
      "    only_rna_ref_90 = ref_rna_set - intersection_90\n",
      "    \n",
      "    print len(rna)\n",
      "    print len(ref_rna_set)\n",
      "\n",
      "    print len(intersection)\n",
      "    print len(intersection_90)\n",
      "\n",
      "    print len(only_rna_mol)\n",
      "    print len(only_rna_mol_90)\n",
      "\n",
      "    print len(only_rna_ref)\n",
      "    print len(only_rna_ref_90)\n",
      "\n",
      "    print len(only_in_mol)\n",
      "    print len(only_in_mol_90)\n",
      "\n",
      "    print len(unmapped_reads)\n",
      "    \n",
      "    # Create new DataFrames with only_rna_mol\\* sequences\n",
      "    only_rna_mol_90_df = chick_rna_df[chick_rna_df.index.isin(only_rna_mol_90)]\n",
      "    only_rna_mol_df = chick_rna_df[chick_rna_df.index.isin(only_rna_mol)]\n",
      "    \n",
      "    # Create new DataFrames with only_rna_ref\\* sequences\n",
      "    only_rna_ref_90_df = chick_rna_df[chick_rna_df.index.isin(only_rna_ref_90)]\n",
      "    only_rna_ref_df = chick_rna_df[chick_rna_df.index.isin(only_rna_ref)]\n",
      "    \n",
      "    # Checking sequences lengths\n",
      "    lens_all = chick_rna_df['sequence'].apply(len)\n",
      "    lens_only_rna_mol = only_rna_mol_df['sequence'].apply(len)\n",
      "    lens_only_rna_mol_90 = only_rna_mol_90_df['sequence'].apply(len)\n",
      "    lens_only_rna_ref = only_rna_ref_df['sequence'].apply(len)\n",
      "    lens_only_rna_ref_90 = only_rna_ref_90_df['sequence'].apply(len)\n",
      "\n",
      "    lens_df = pd.DataFrame({\n",
      "      'mRNAseq': {\n",
      "        'total': lens_all.size,\n",
      "        'mean': lens_all.mean(),\n",
      "        'max': lens_all.max(),\n",
      "        'min': lens_all.min()\n",
      "      },\n",
      "      'in moleculo and not in reference (min len >= 200)' : {\n",
      "        'total': lens_only_rna_mol.size,\n",
      "        'mean': lens_only_rna_mol.mean(),\n",
      "        'max': lens_only_rna_mol.max(),\n",
      "        'min': lens_only_rna_mol.min()\n",
      "      },\n",
      "      'in moleculo and not in reference (min len >= 200, min align size > 90% contig or moleculo read)': {\n",
      "        'total': lens_only_rna_mol_90.size,\n",
      "        'mean': lens_only_rna_mol_90.mean(),\n",
      "        'max': lens_only_rna_mol_90.max(),\n",
      "        'min': lens_only_rna_mol_90.min(),\n",
      "      },\n",
      "      'in reference and not in moleculo (min len >= 200)': {\n",
      "        'total': lens_only_rna_ref.size,\n",
      "        'mean': lens_only_rna_ref.mean(),\n",
      "        'max': lens_only_rna_ref.max(),\n",
      "        'min': lens_only_rna_ref.min()\n",
      "      },\n",
      "      'in reference and not in moleculo (min len >= 200, min align size > 90% contig or moleculo read))': {\n",
      "        'total': lens_only_rna_ref_90.size,\n",
      "        'mean': lens_only_rna_ref_90.mean(),\n",
      "        'max': lens_only_rna_ref_90.max(),\n",
      "        'min': lens_only_rna_ref_90.min()\n",
      "      }\n",
      "    })\n",
      "\n",
      "    plt.figure()\n",
      "    lens_all.hist(bins=range(0, 5000, 500), label='all')\n",
      "    lens_only_rna_mol.hist(bins=range(0, 5000, 500), label='RNA seqs in moleculo and not in reference')\n",
      "    lens_only_rna_mol_90.hist(bins=range(0, 5000, 500), label='RNA seqs in moleculo and not in reference > 90%')\n",
      "    plt.legend()\n",
      "\n",
      "    plt.figure()\n",
      "    lens_only_rna_mol.hist(bins=range(0, 5000, 500), label='RNA seqs in moleculo and not in reference')\n",
      "    lens_only_rna_mol_90.hist(bins=range(0, 5000, 500), label='RNA seqs in moleculo and not in reference > 90%')\n",
      "    plt.legend()\n",
      "\n",
      "    plt.figure()\n",
      "    lens_all.hist(bins=range(0, 5000, 500), label='all')\n",
      "    lens_only_rna_ref.hist(bins=range(0, 5000, 500), label='RNA seqs in reference and not in moleculo')\n",
      "    lens_only_rna_ref_90.hist(bins=range(0, 5000, 500), label='RNA seqs in reference and not in moleculo > 90%')\n",
      "    plt.legend()\n",
      "    \n",
      "    plt.figure()\n",
      "    lens_only_rna_mol.hist(bins=range(0, 5000, 500), label='RNA seqs in reference and not in moleculo')\n",
      "    lens_only_rna_mol_90.hist(bins=range(0, 5000, 500), label='RNA seqs in reference and not in moleculo > 90%')\n",
      "    plt.legend()\n",
      "    \n",
      "    return lens_df.T"
     ],
     "language": "python",
     "metadata": {},
     "outputs": [],
     "prompt_number": 31
    },
    {
     "cell_type": "code",
     "collapsed": false,
     "input": [
      "lens_df = summarize(rna, galGal4_rna_set, galGal4_rna_set_90, unmapped_reads_galGal4, chick_rna_df)"
     ],
     "language": "python",
     "metadata": {},
     "outputs": [
      {
       "output_type": "stream",
       "stream": "stdout",
       "text": [
        "419277\n",
        "308360\n",
        "262154\n",
        "260486\n",
        "578\n",
        "445\n",
        "46206\n",
        "47874\n",
        "326\n",
        "326\n",
        "326\n"
       ]
      },
      {
       "metadata": {},
       "output_type": "display_data",
       "png": "[encoded data removed]",
       "text": [
        "<matplotlib.figure.Figure at 0x2aefb9a96e10>"
       ]
      },
      {
       "metadata": {},
       "output_type": "display_data",
       "png": "[encoded data removed]",
       "text": [
        "<matplotlib.figure.Figure at 0x2aefd96ca3d0>"
       ]
      },
      {
       "metadata": {},
       "output_type": "display_data",
       "png": "[encoded data removed]",
       "text": [
        "<matplotlib.figure.Figure at 0x2aef1f928450>"
       ]
      },
      {
       "metadata": {},
       "output_type": "display_data",
       "png": "[encoded data removed]",
       "text": [
        "<matplotlib.figure.Figure at 0x2aefd139c610>"
       ]
      }
     ],
     "prompt_number": 32
    },
    {
     "cell_type": "code",
     "collapsed": false,
     "input": [
      "lens_df"
     ],
     "language": "python",
     "metadata": {},
     "outputs": [
      {
       "html": [
        "<div style=\"max-height:1000px;max-width:1500px;overflow:auto;\">\n",
        "<table border=\"1\" class=\"dataframe\">\n",
        "  <thead>\n",
        "    <tr style=\"text-align: right;\">\n",
        "      <th></th>\n",
        "      <th>max</th>\n",
        "      <th>mean</th>\n",
        "      <th>min</th>\n",
        "      <th>total</th>\n",
        "    </tr>\n",
        "  </thead>\n",
        "  <tbody>\n",
        "    <tr>\n",
        "      <th>in moleculo and not in reference (min len &gt;= 200)</th>\n",
        "      <td>  3385</td>\n",
        "      <td>  558.647059</td>\n",
        "      <td> 185</td>\n",
        "      <td>    578</td>\n",
        "    </tr>\n",
        "    <tr>\n",
        "      <th>in moleculo and not in reference (min len &gt;= 200, min align size &gt; 90% contig or moleculo read)</th>\n",
        "      <td>  3385</td>\n",
        "      <td>  591.622472</td>\n",
        "      <td> 193</td>\n",
        "      <td>    445</td>\n",
        "    </tr>\n",
        "    <tr>\n",
        "      <th>in reference and not in moleculo (min len &gt;= 200)</th>\n",
        "      <td>  7988</td>\n",
        "      <td> 1314.016838</td>\n",
        "      <td> 193</td>\n",
        "      <td>  46206</td>\n",
        "    </tr>\n",
        "    <tr>\n",
        "      <th>in reference and not in moleculo (min len &gt;= 200, min align size &gt; 90% contig or moleculo read))</th>\n",
        "      <td>  7988</td>\n",
        "      <td> 1320.036638</td>\n",
        "      <td> 192</td>\n",
        "      <td>  47874</td>\n",
        "    </tr>\n",
        "    <tr>\n",
        "      <th>mRNAseq</th>\n",
        "      <td> 29691</td>\n",
        "      <td> 1766.049333</td>\n",
        "      <td> 100</td>\n",
        "      <td> 419277</td>\n",
        "    </tr>\n",
        "  </tbody>\n",
        "</table>\n",
        "</div>"
       ],
       "metadata": {},
       "output_type": "pyout",
       "prompt_number": 33,
       "text": [
        "                                                                                                    max  \\\n",
        "in moleculo and not in reference (min len >= 200)                                                  3385   \n",
        "in moleculo and not in reference (min len >= 200, min align size > 90% contig or moleculo read)    3385   \n",
        "in reference and not in moleculo (min len >= 200)                                                  7988   \n",
        "in reference and not in moleculo (min len >= 200, min align size > 90% contig or moleculo read))   7988   \n",
        "mRNAseq                                                                                           29691   \n",
        "\n",
        "                                                                                                         mean  \\\n",
        "in moleculo and not in reference (min len >= 200)                                                  558.647059   \n",
        "in moleculo and not in reference (min len >= 200, min align size > 90% contig or moleculo read)    591.622472   \n",
        "in reference and not in moleculo (min len >= 200)                                                 1314.016838   \n",
        "in reference and not in moleculo (min len >= 200, min align size > 90% contig or moleculo read))  1320.036638   \n",
        "mRNAseq                                                                                           1766.049333   \n",
        "\n",
        "                                                                                                  min  \\\n",
        "in moleculo and not in reference (min len >= 200)                                                 185   \n",
        "in moleculo and not in reference (min len >= 200, min align size > 90% contig or moleculo read)   193   \n",
        "in reference and not in moleculo (min len >= 200)                                                 193   \n",
        "in reference and not in moleculo (min len >= 200, min align size > 90% contig or moleculo read))  192   \n",
        "mRNAseq                                                                                           100   \n",
        "\n",
        "                                                                                                   total  \n",
        "in moleculo and not in reference (min len >= 200)                                                    578  \n",
        "in moleculo and not in reference (min len >= 200, min align size > 90% contig or moleculo read)      445  \n",
        "in reference and not in moleculo (min len >= 200)                                                  46206  \n",
        "in reference and not in moleculo (min len >= 200, min align size > 90% contig or moleculo read))   47874  \n",
        "mRNAseq                                                                                           419277  "
       ]
      }
     ],
     "prompt_number": 33
    },
    {
     "cell_type": "code",
     "collapsed": false,
     "input": [
      "only_rna = rna - only_rna_ref - only_rna_mol - intersection\n",
      "print len(only_rna)\n",
      "\n",
      "only_ref = ref - only_rna_ref - intersection # - only_mol_ref\n",
      "print len(only_ref)"
     ],
     "language": "python",
     "metadata": {},
     "outputs": []
    },
    {
     "cell_type": "markdown",
     "metadata": {},
     "source": [
      "## A: only in RNA and reference (not in moleculo)"
     ]
    },
    {
     "cell_type": "code",
     "collapsed": false,
     "input": [
      "lens_only_rna_ref = only_rna_ref_df['sequence'].apply(len)\n",
      "print 'Total RNA seqs in reference and not in moleculo (min len >= 200):', lens_only_rna_ref.size\n",
      "print 'Mean len:', lens_only_rna_ref.mean()\n",
      "print 'Max len:', lens_only_rna_ref.max()\n",
      "print 'Min len:', lens_only_rna_ref.min()"
     ],
     "language": "python",
     "metadata": {},
     "outputs": []
    },
    {
     "cell_type": "markdown",
     "metadata": {},
     "source": [
      "## B: intersection"
     ]
    },
    {
     "cell_type": "code",
     "collapsed": false,
     "input": [
      "print len(intersection)"
     ],
     "language": "python",
     "metadata": {},
     "outputs": []
    },
    {
     "cell_type": "markdown",
     "metadata": {},
     "source": [
      "## C: only in RNA and moleculo (not in reference)"
     ]
    },
    {
     "cell_type": "code",
     "collapsed": false,
     "input": [
      "lens_only_rna_mol = only_rna_mol_df['sequence'].apply(len)\n",
      "print 'Total RNA seqs in moleculo and not in reference (min len >= 200):', lens_only_rna_mol.size\n",
      "print 'Mean len:', lens_only_rna_mol.mean()\n",
      "print 'Max len:', lens_only_rna_mol.max()\n",
      "print 'Min len:', lens_only_rna_mol.min()"
     ],
     "language": "python",
     "metadata": {},
     "outputs": []
    },
    {
     "cell_type": "markdown",
     "metadata": {},
     "source": [
      "## D: only in RNA"
     ]
    },
    {
     "cell_type": "code",
     "collapsed": false,
     "input": [
      "only_rna = rna - only_rna_ref - only_rna_mol - intersection\n",
      "print len(only_rna)"
     ],
     "language": "python",
     "metadata": {},
     "outputs": []
    },
    {
     "cell_type": "code",
     "collapsed": false,
     "input": [
      "v = venn3((1,1,1,1,1,1,1), set_labels=('Ref', 'Moleculo', 'RNA'))\n",
      "v.get_label_by_id('100').set_text('') # 'Only in ref', len(only_ref)\n",
      "v.get_label_by_id('010').set_text('') # 'Only in mol', len(only_in_mol)\n",
      "v.get_label_by_id('001').set_text('D\\n121.3K') # len(only_rna)\n",
      "\n",
      "v.get_label_by_id('011').set_text('C\\n14.4K') # lens_only_rna_mol.size\n",
      "v.get_label_by_id('101').set_text('A\\n35.2K') # lens_only_rna_ref.size\n",
      "v.get_label_by_id('110').set_text('')\n",
      "\n",
      "v.get_label_by_id('111').set_text('B\\n248.2K') # print len(intersection)"
     ],
     "language": "python",
     "metadata": {},
     "outputs": [
      {
       "output_type": "stream",
       "stream": "stderr",
       "text": [
        "/mnt/scratch/tg/software/anaconda/lib/python2.7/site-packages/matplotlib/font_manager.py:1236: UserWarning: findfont: Font family ['Arial'] not found. Falling back to Bitstream Vera Sans\n",
        "  (prop.get_family(), self.defaultFamily[fontext]))\n"
       ]
      },
      {
       "metadata": {},
       "output_type": "display_data",
       "png": "[encoded data removed]",
       "text": [
        "<matplotlib.figure.Figure at 0x4743450>"
       ]
      }
     ],
     "prompt_number": 4
    },
    {
     "cell_type": "markdown",
     "metadata": {},
     "source": [
      "## TODO: Did you do the subsampling, too?"
     ]
    },
    {
     "cell_type": "code",
     "collapsed": false,
     "input": [
      "!mkdir -p ../outputs/rna"
     ],
     "language": "python",
     "metadata": {},
     "outputs": []
    },
    {
     "cell_type": "code",
     "collapsed": false,
     "input": [
      "with open('../outputs/rna/only_rna.fa', 'w') as f:\n",
      "    for name, seq in chick_rna_df[chick_rna_df.index.isin(only_rna)]['sequence'].iteritems():\n",
      "        f.write(\">%s\\n%s\\n\" % (name, \"\\n\".join(seq[60 * i: 60 * i + 60]\n",
      "                                               for i in range(0, (len(seq) / 60) + 1))))"
     ],
     "language": "python",
     "metadata": {},
     "outputs": []
    },
    {
     "cell_type": "code",
     "collapsed": false,
     "input": [
      "with open('../outputs/rna/only_rna_mol.fa', 'w') as f:\n",
      "    for name, seq in chick_rna_df[chick_rna_df.index.isin(only_rna_mol)]['sequence'].iteritems():\n",
      "        f.write(\">%s\\n%s\\n\" % (name, \"\\n\".join(seq[60 * i: 60 * i + 60]\n",
      "                                               for i in range(0, (len(seq) / 60) + 1))))"
     ],
     "language": "python",
     "metadata": {},
     "outputs": []
    },
    {
     "cell_type": "code",
     "collapsed": false,
     "input": [
      "with open('../outputs/rna/only_rna_ref.fa', 'w') as f:\n",
      "    for name, seq in chick_rna_df[chick_rna_df.index.isin(only_rna_ref)]['sequence'].iteritems():\n",
      "        f.write(\">%s\\n%s\\n\" % (name, \"\\n\".join(seq[60 * i: 60 * i + 60]\n",
      "                                               for i in range(0, (len(seq) / 60) + 1))))"
     ],
     "language": "python",
     "metadata": {},
     "outputs": []
    },
    {
     "cell_type": "code",
     "collapsed": false,
     "input": [
      "with open('../outputs/rna/intersection.fa', 'w') as f:\n",
      "    for name, seq in chick_rna_df[chick_rna_df.index.isin(intersection)]['sequence'].iteritems():\n",
      "        f.write(\">%s\\n%s\\n\" % (name, \"\\n\".join(seq[60 * i: 60 * i + 60]\n",
      "                                               for i in range(0, (len(seq) / 60) + 1))))"
     ],
     "language": "python",
     "metadata": {},
     "outputs": []
    }
   ],
   "metadata": {}
  }
 ]
}