{
 "metadata": {
  "name": "",
  "signature": "sha256:8ec3749169e77f46d20f39a7427301b8b42be04af61387fd50c329335ac58313"
 },
 "nbformat": 3,
 "nbformat_minor": 0,
 "worksheets": [
  {
   "cells": [
    {
     "cell_type": "code",
     "collapsed": false,
     "input": [
      "%matplotlib inline\n",
      "from matplotlib import pyplot as plt\n",
      "import pandas as pd\n",
      "import tables\n",
      "import screed\n",
      "import numpy as np\n",
      "import seaborn\n",
      "from matplotlib_venn import venn3, venn3_circles"
     ],
     "language": "python",
     "metadata": {},
     "outputs": [],
     "prompt_number": 1
    },
    {
     "cell_type": "heading",
     "level": 2,
     "metadata": {},
     "source": [
      "Making sense of the calculations, before starting!"
     ]
    },
    {
     "cell_type": "code",
     "collapsed": false,
     "input": [
      "v = venn3((1,1,1,1,1,1,1), set_labels=('Ref', 'Moleculo', 'RNA'))\n",
      "v.get_label_by_id('100').set_text('Only in ref')\n",
      "v.get_label_by_id('010').set_text('Only in mol')\n",
      "v.get_label_by_id('001').set_text('Only in RNA')\n",
      "\n",
      "v.get_label_by_id('011').set_text('*')\n",
      "v.get_label_by_id('101').set_text('A')\n",
      "v.get_label_by_id('110').set_text('B')\n",
      "\n",
      "v.get_label_by_id('111').set_text('C')"
     ],
     "language": "python",
     "metadata": {},
     "outputs": [
      {
       "metadata": {},
       "output_type": "display_data",
       "png": "[encoded data removed]",
       "text": [
        "<matplotlib.figure.Figure at 0x2ad128337210>"
       ]
      }
     ],
     "prompt_number": 10
    },
    {
     "cell_type": "markdown",
     "metadata": {},
     "source": [
      "Blat ref/rna $= A + C$ \n",
      "\n",
      "Blat mol/rna $= C + *$\n",
      "\n",
      "BWA mem ref/moleculo $= B + C$ \n",
      "\n",
      "$C = (A + C) \\cap (C + *)$\n",
      "\n",
      "$* = $ Blat mol/rna $ - C$\n",
      "\n",
      "$A = $ Blat ref/rna $-C$"
     ]
    },
    {
     "cell_type": "code",
     "collapsed": false,
     "input": [
      "! cd .. && make outputs/reference/galGal4.fa_screed outputs/reference/galGal5.fa_screed \n",
      "! cd .. && make -j10 outputs/moleculo/galGal5.unmapped_reads outputs/moleculo/galGal4.unmapped_reads\n",
      "! cd .. && make -j10 workdirs/blat/minlen200.h5"
     ],
     "language": "python",
     "metadata": {},
     "outputs": [
      {
       "output_type": "stream",
       "stream": "stdout",
       "text": [
        "make: `outputs/reference/galGal4.fa_screed' is up to date.\r\n",
        "make: `outputs/reference/galGal5.fa_screed' is up to date.\r\n"
       ]
      },
      {
       "output_type": "stream",
       "stream": "stdout",
       "text": [
        "make: `outputs/moleculo/galGal5.unmapped_reads' is up to date.\r\n",
        "make: `outputs/moleculo/galGal4.unmapped_reads' is up to date.\r\n"
       ]
      },
      {
       "output_type": "stream",
       "stream": "stdout",
       "text": [
        "make: `workdirs/blat/minlen200.h5' is up to date.\r\n"
       ]
      }
     ],
     "prompt_number": 11
    },
    {
     "cell_type": "code",
     "collapsed": false,
     "input": [
      "ALIGNMENTS_HDF5 = '../workdirs/blat/minlen200.h5'\n",
      "\n",
      "with pd.get_store(ALIGNMENTS_HDF5, mode='r') as store:\n",
      "    print(store)"
     ],
     "language": "python",
     "metadata": {},
     "outputs": [
      {
       "output_type": "stream",
       "stream": "stdout",
       "text": [
        "<class 'pandas.io.pytables.HDFStore'>\n",
        "File path: ../workdirs/blat/minlen200.h5\n",
        "/moleculo_1_LongRead                       frame        (shape->[1924965,13])\n",
        "/moleculo_1_LongRead_500_1499nt            frame        (shape->[219885,13]) \n",
        "/moleculo_2_LongRead                       frame        (shape->[1941357,13])\n",
        "/moleculo_2_LongRead_500_1499nt            frame        (shape->[209420,13]) \n",
        "/moleculo_3_LongRead                       frame        (shape->[1922250,13])\n",
        "/moleculo_3_LongRead_500_1499nt            frame        (shape->[220515,13]) \n",
        "/moleculo_4_LongRead                       frame        (shape->[1951840,13])\n",
        "/moleculo_4_LongRead_500_1499nt            frame        (shape->[215055,13]) \n",
        "/moleculo_5_LongRead                       frame        (shape->[1853730,13])\n",
        "/moleculo_5_LongRead_500_1499nt            frame        (shape->[226370,13]) \n",
        "/reference_galGal4                         frame        (shape->[1469272,13])\n",
        "/reference_galGal5                         frame        (shape->[1597565,13])\n"
       ]
      }
     ],
     "prompt_number": 2
    },
    {
     "cell_type": "code",
     "collapsed": false,
     "input": [
      "# Load chick mRNA data from Likit\n",
      "chick_rna = screed.ScreedDB('../inputs/chicken_transcripts/global_merged.fa.clean.nr_screed')\n",
      "rna = {chick_rna[seq]['name'] for seq in chick_rna}\n",
      "\n",
      "# Load mRNA data to a DataFrame\n",
      "chick_rna_df = pd.DataFrame(index=rna)\n",
      "chick_rna_df['sequence'] = pd.Series({seq: str(chick_rna[seq]['sequence']) for seq in chick_rna})"
     ],
     "language": "python",
     "metadata": {},
     "outputs": [
      {
       "ename": "ValueError",
       "evalue": "No such file: ../inputs/chicken_transcripts/global_merged.fa.clean.nr_screed",
       "output_type": "pyerr",
       "traceback": [
        "\u001b[1;31m---------------------------------------------------------------------------\u001b[0m\n\u001b[1;31mValueError\u001b[0m                                Traceback (most recent call last)",
        "\u001b[1;32m<ipython-input-3-7e771291dc8d>\u001b[0m in \u001b[0;36m<module>\u001b[1;34m()\u001b[0m\n\u001b[0;32m      1\u001b[0m \u001b[1;31m# Load chick mRNA data from Likit\u001b[0m\u001b[1;33m\u001b[0m\u001b[1;33m\u001b[0m\u001b[0m\n\u001b[1;32m----> 2\u001b[1;33m \u001b[0mchick_rna\u001b[0m \u001b[1;33m=\u001b[0m \u001b[0mscreed\u001b[0m\u001b[1;33m.\u001b[0m\u001b[0mScreedDB\u001b[0m\u001b[1;33m(\u001b[0m\u001b[1;34m'../inputs/chicken_transcripts/global_merged.fa.clean.nr_screed'\u001b[0m\u001b[1;33m)\u001b[0m\u001b[1;33m\u001b[0m\u001b[0m\n\u001b[0m\u001b[0;32m      3\u001b[0m \u001b[0mrna\u001b[0m \u001b[1;33m=\u001b[0m \u001b[1;33m{\u001b[0m\u001b[0mchick_rna\u001b[0m\u001b[1;33m[\u001b[0m\u001b[0mseq\u001b[0m\u001b[1;33m]\u001b[0m\u001b[1;33m[\u001b[0m\u001b[1;34m'name'\u001b[0m\u001b[1;33m]\u001b[0m \u001b[1;32mfor\u001b[0m \u001b[0mseq\u001b[0m \u001b[1;32min\u001b[0m \u001b[0mchick_rna\u001b[0m\u001b[1;33m}\u001b[0m\u001b[1;33m\u001b[0m\u001b[0m\n\u001b[0;32m      4\u001b[0m \u001b[1;33m\u001b[0m\u001b[0m\n\u001b[0;32m      5\u001b[0m \u001b[1;31m# Load mRNA data to a DataFrame\u001b[0m\u001b[1;33m\u001b[0m\u001b[1;33m\u001b[0m\u001b[0m\n",
        "\u001b[1;32m/mnt/home/irberlui/.local/lib/python2.7/site-packages/screed/openscreed.pyc\u001b[0m in \u001b[0;36m__init__\u001b[1;34m(self, filepath)\u001b[0m\n\u001b[0;32m     67\u001b[0m \u001b[1;33m\u001b[0m\u001b[0m\n\u001b[0;32m     68\u001b[0m         \u001b[1;32mif\u001b[0m \u001b[1;32mnot\u001b[0m \u001b[0mos\u001b[0m\u001b[1;33m.\u001b[0m\u001b[0mpath\u001b[0m\u001b[1;33m.\u001b[0m\u001b[0mexists\u001b[0m\u001b[1;33m(\u001b[0m\u001b[0mself\u001b[0m\u001b[1;33m.\u001b[0m\u001b[0m_filepath\u001b[0m\u001b[1;33m)\u001b[0m\u001b[1;33m:\u001b[0m\u001b[1;33m\u001b[0m\u001b[0m\n\u001b[1;32m---> 69\u001b[1;33m             \u001b[1;32mraise\u001b[0m \u001b[0mValueError\u001b[0m\u001b[1;33m(\u001b[0m\u001b[1;34m'No such file: %s'\u001b[0m \u001b[1;33m%\u001b[0m \u001b[0mself\u001b[0m\u001b[1;33m.\u001b[0m\u001b[0m_filepath\u001b[0m\u001b[1;33m)\u001b[0m\u001b[1;33m\u001b[0m\u001b[0m\n\u001b[0m\u001b[0;32m     70\u001b[0m \u001b[1;33m\u001b[0m\u001b[0m\n\u001b[0;32m     71\u001b[0m         \u001b[0mself\u001b[0m\u001b[1;33m.\u001b[0m\u001b[0m_db\u001b[0m \u001b[1;33m=\u001b[0m \u001b[0msqlite3\u001b[0m\u001b[1;33m.\u001b[0m\u001b[0mconnect\u001b[0m\u001b[1;33m(\u001b[0m\u001b[0mself\u001b[0m\u001b[1;33m.\u001b[0m\u001b[0m_filepath\u001b[0m\u001b[1;33m)\u001b[0m\u001b[1;33m\u001b[0m\u001b[0m\n",
        "\u001b[1;31mValueError\u001b[0m: No such file: ../inputs/chicken_transcripts/global_merged.fa.clean.nr_screed"
       ]
      }
     ],
     "prompt_number": 3
    },
    {
     "cell_type": "heading",
     "level": 2,
     "metadata": {},
     "source": [
      "Load mol/rna reads and calculate intersection (C)"
     ]
    },
    {
     "cell_type": "code",
     "collapsed": false,
     "input": [
      "def calc_intersection(ref_rna_set, ref_rna_90_set):\n",
      "    intersection = set()\n",
      "    intersection_90 = set()\n",
      "\n",
      "    for f in range(1, 6):\n",
      "        for file_format in (\"/moleculo_%d_LongRead_500_1499nt\", \"/moleculo_%d_LongRead\"):\n",
      "            mol_reads = pd.read_hdf(ALIGNMENTS_HDF5, file_format % f, mode='r')\n",
      "            intersection |= ref_rna_set & set(mol_reads['Query id'])\n",
      "\n",
      "            mol_reads = mol_reads[mol_reads['% identity'] > 90]\n",
      "            intersection_90 |= ref_rna_set & set(mol_reads['Query id'])\n",
      "\n",
      "            mol_reads = None\n",
      "\n",
      "    return intersection, intersection_90"
     ],
     "language": "python",
     "metadata": {},
     "outputs": [],
     "prompt_number": 14
    },
    {
     "cell_type": "heading",
     "level": 2,
     "metadata": {},
     "source": [
      "$* = $ Blat mol/rna $- C = $ only_rna_mol"
     ]
    },
    {
     "cell_type": "code",
     "collapsed": false,
     "input": [
      "def calc_only_rna_mol(intersection, intersection_90):\n",
      "    only_rna_mol = set()\n",
      "    only_rna_mol_90 = set()\n",
      "\n",
      "    for f in range(1, 6):\n",
      "        for file_format in (\"/moleculo_%d_LongRead_500_1499nt\", \"/moleculo_%d_LongRead\"):\n",
      "            mol_reads = pd.read_hdf(ALIGNMENTS_HDF5, file_format % f, mode='r')\n",
      "            only_rna_mol |= set(mol_reads['Query id']) - intersection\n",
      "\n",
      "            mol_reads = mol_reads[mol_reads['% identity'] > 90]\n",
      "            only_rna_mol_90 |= set(mol_reads['Query id']) - intersection_90\n",
      "\n",
      "            mol_reads = None\n",
      "            #mol_matches = mol_reads[~(mol_reads['Query id'].isin(ref_matches['Query id']))]\n",
      "    return only_rna_mol, only_rna_mol_90\n",
      "\n",
      "def calc_only_in_mol(unmapped_reads):\n",
      "    only_in_mol = unmapped_reads.copy()\n",
      "    only_in_mol_90 = unmapped_reads.copy()\n",
      "\n",
      "    for f in range(1, 6):\n",
      "        for file_format in (\"/moleculo_%d_LongRead_500_1499nt\", \"/moleculo_%d_LongRead\"):\n",
      "            mol_reads = pd.read_hdf(ALIGNMENTS_HDF5, file_format % f, mode='r')\n",
      "            only_in_mol -= set(mol_reads['Subject id'])\n",
      "\n",
      "            mol_reads = mol_reads[mol_reads['% identity'] > 90]\n",
      "            only_in_mol_90 -= set(mol_reads['Subject id'])\n",
      "\n",
      "            mol_reads = None\n",
      "            #mol_matches = mol_reads[~(mol_reads['Query id'].isin(ref_matches['Query id']))]\n",
      "    return only_in_mol, only_in_mol_90"
     ],
     "language": "python",
     "metadata": {},
     "outputs": [],
     "prompt_number": 15
    },
    {
     "cell_type": "heading",
     "level": 2,
     "metadata": {},
     "source": [
      "galGal4 data"
     ]
    },
    {
     "cell_type": "code",
     "collapsed": false,
     "input": [
      "# Load galGal4 data\n",
      "chick_galGal4 = screed.ScreedDB('../outputs/galGal4/galGal4.fa_screed')\n",
      "galGal4 = {chick_galGal4[seq]['name'] for seq in chick_galGal4}\n",
      "\n",
      "# Load galGal4 data to a DataFrame\n",
      "chick_galGal4_df = pd.DataFrame(index=galGal4)\n",
      "chick_galGal4_df['sequence'] = pd.Series({seq: str(chick_galGal4[seq]['sequence']) for seq in chick_galGal4})\n",
      "\n",
      "# Load all alignments for galGal4.x.mrnaseq\n",
      "galGal4_rna = pd.read_hdf(ALIGNMENTS_HDF5, \"/reference_galGal4\", mode='r')\n",
      "galGal4_rna_set = set(galGal4_rna['Query id'])\n",
      "\n",
      "# Select only alignments with % identity > 90\n",
      "galGal4_rna_90 = galGal4_rna[galGal4_rna['% identity'] > 90]\n",
      "galGal4_rna_set_90 = set(galGal4_rna_90['Query id'])\n",
      "\n",
      "# Load unmapped moleculo reads (to galGal4)\n",
      "with open('../outputs/moleculo/galGal4.unmapped_reads', 'r') as f:\n",
      "    unmapped_reads_galGal4 = {line.strip() for line in f if line.startswith('>')}"
     ],
     "language": "python",
     "metadata": {},
     "outputs": [],
     "prompt_number": 16
    },
    {
     "cell_type": "heading",
     "level": 2,
     "metadata": {},
     "source": [
      "galGal5 data"
     ]
    },
    {
     "cell_type": "code",
     "collapsed": false,
     "input": [
      "# Load galGal5 data\n",
      "chick_galGal5 = screed.ScreedDB('../outputs/galGal5/galGal5.fa_screed')\n",
      "galGal5 = {chick_galGal5[seq]['name'] for seq in chick_galGal5}\n",
      "\n",
      "# Load galGal5 data to a DataFrame\n",
      "chick_galGal5_df = pd.DataFrame(index=galGal5)\n",
      "chick_galGal5_df['sequence'] = pd.Series({seq: str(chick_galGal5[seq]['sequence']) for seq in chick_galGal5})\n",
      "\n",
      "# Load all alignments for galGal5.x.mrnaseq\n",
      "galGal5_rna = pd.read_hdf(ALIGNMENTS_HDF5, \"/reference_galGal5\", mode='r')\n",
      "galGal5_rna_set = set(galGal5_rna['Query id'])\n",
      "\n",
      "# Select only alignments with % identity > 90\n",
      "galGal5_rna_90 = galGal5_rna[galGal5_rna['% identity'] > 90]\n",
      "galGal5_rna_set_90 = set(galGal5_rna_90['Query id'])\n",
      "\n",
      "# Load unmapped moleculo reads (to galGal5)\n",
      "with open('../outputs/moleculo/galGal5.unmapped_reads', 'r') as f:\n",
      "    unmapped_reads_galGal5 = {line.strip() for line in f}"
     ],
     "language": "python",
     "metadata": {},
     "outputs": [],
     "prompt_number": 17
    },
    {
     "cell_type": "code",
     "collapsed": false,
     "input": [
      "def summarize(rna, ref, ref_rna_set, ref_rna_set_90, unmapped_reads):\n",
      "    intersection, intersection_90 = calc_intersection(ref_rna_set, ref_rna_set_90)\n",
      "    only_rna_mol, only_rna_mol_90 = calc_only_rna_mol(intersection, intersection_90)\n",
      "    only_in_mol, only_in_mol_90 = calc_only_in_mol(unmapped_reads)\n",
      "    \n",
      "    # $A = $ Blat ref/rna $-C =$ only_rna_ref\n",
      "    only_rna_ref = ref_rna_set - intersection\n",
      "    only_rna_ref_90 = ref_rna_set - intersection_90\n",
      "    \n",
      "    only_rna = rna - only_rna_ref - only_rna_mol - intersection\n",
      "    only_ref = ref - only_rna_ref - intersection # - only_mol_ref\n",
      "    \n",
      "    return only_rna, only_rna_mol, only_rna_ref, intersection\n",
      "\n",
      "def create_dataframes(chick_rna_df, only_rna_mol, only_rna_mol_90, only_rna_ref, only_rna_ref_90):\n",
      "    # Create new DataFrames with only_rna_mol\\* sequences\n",
      "    only_rna_mol_90_df = chick_rna_df[chick_rna_df.index.isin(only_rna_mol_90)]\n",
      "    only_rna_mol_df = chick_rna_df[chick_rna_df.index.isin(only_rna_mol)]\n",
      "    \n",
      "    # Create new DataFrames with only_rna_ref\\* sequences\n",
      "    only_rna_ref_90_df = chick_rna_df[chick_rna_df.index.isin(only_rna_ref_90)]\n",
      "    only_rna_ref_df = chick_rna_df[chick_rna_df.index.isin(only_rna_ref)]\n",
      "    \n",
      "    # Checking sequences lengths\n",
      "    lens_all = chick_rna_df['sequence'].apply(len)\n",
      "    lens_only_rna_mol = only_rna_mol_df['sequence'].apply(len)\n",
      "    lens_only_rna_mol_90 = only_rna_mol_90_df['sequence'].apply(len)\n",
      "    lens_only_rna_ref = only_rna_ref_df['sequence'].apply(len)\n",
      "    lens_only_rna_ref_90 = only_rna_ref_90_df['sequence'].apply(len)\n",
      "\n",
      "    lens_df = pd.DataFrame({\n",
      "      'mRNAseq': {\n",
      "        'total': lens_all.size,\n",
      "        'mean': lens_all.mean(),\n",
      "        'max': lens_all.max(),\n",
      "        'min': lens_all.min()\n",
      "      },\n",
      "      'in moleculo and not in reference (min len >= 200)' : {\n",
      "        'total': lens_only_rna_mol.size,\n",
      "        'mean': lens_only_rna_mol.mean(),\n",
      "        'max': lens_only_rna_mol.max(),\n",
      "        'min': lens_only_rna_mol.min()\n",
      "      },\n",
      "      'in moleculo and not in reference (min len >= 200, min align size > 90% contig or moleculo read)': {\n",
      "        'total': lens_only_rna_mol_90.size,\n",
      "        'mean': lens_only_rna_mol_90.mean(),\n",
      "        'max': lens_only_rna_mol_90.max(),\n",
      "        'min': lens_only_rna_mol_90.min(),\n",
      "      },\n",
      "      'in reference and not in moleculo (min len >= 200)': {\n",
      "        'total': lens_only_rna_ref.size,\n",
      "        'mean': lens_only_rna_ref.mean(),\n",
      "        'max': lens_only_rna_ref.max(),\n",
      "        'min': lens_only_rna_ref.min()\n",
      "      },\n",
      "      'in reference and not in moleculo (min len >= 200, min align size > 90% contig or moleculo read))': {\n",
      "        'total': lens_only_rna_ref_90.size,\n",
      "        'mean': lens_only_rna_ref_90.mean(),\n",
      "        'max': lens_only_rna_ref_90.max(),\n",
      "        'min': lens_only_rna_ref_90.min()\n",
      "      }\n",
      "    })\n",
      "\n",
      "    return lens_df.T\n",
      "\n",
      "def plot_histograms():\n",
      "    plt.figure()\n",
      "    lens_all.hist(bins=range(0, 5000, 500), label='all')\n",
      "    lens_only_rna_mol.hist(bins=range(0, 5000, 500), label='RNA seqs in moleculo and not in reference')\n",
      "    lens_only_rna_mol_90.hist(bins=range(0, 5000, 500), label='RNA seqs in moleculo and not in reference > 90%')\n",
      "    plt.legend()\n",
      "\n",
      "    plt.figure()\n",
      "    lens_only_rna_mol.hist(bins=range(0, 5000, 500), label='RNA seqs in moleculo and not in reference')\n",
      "    lens_only_rna_mol_90.hist(bins=range(0, 5000, 500), label='RNA seqs in moleculo and not in reference > 90%')\n",
      "    plt.legend()\n",
      "\n",
      "    plt.figure()\n",
      "    lens_all.hist(bins=range(0, 5000, 500), label='all')\n",
      "    lens_only_rna_ref.hist(bins=range(0, 5000, 500), label='RNA seqs in reference and not in moleculo')\n",
      "    lens_only_rna_ref_90.hist(bins=range(0, 5000, 500), label='RNA seqs in reference and not in moleculo > 90%')\n",
      "    plt.legend()\n",
      "    \n",
      "    plt.figure()\n",
      "    lens_only_rna_mol.hist(bins=range(0, 5000, 500), label='RNA seqs in reference and not in moleculo')\n",
      "    lens_only_rna_mol_90.hist(bins=range(0, 5000, 500), label='RNA seqs in reference and not in moleculo > 90%')\n",
      "    plt.legend()"
     ],
     "language": "python",
     "metadata": {},
     "outputs": [],
     "prompt_number": 18
    },
    {
     "cell_type": "code",
     "collapsed": false,
     "input": [
      "def venn_diagram(only_rna, only_rna_mol, only_rna_ref, intersection, refname=\"galGal4\"):\n",
      "    v = venn3((1,1,1,1,1,1,1), set_labels=(refname, 'Moleculo', 'RNA'))\n",
      "    v.get_label_by_id('100').set_text('') # 'Only in ref', len(only_ref)\n",
      "    v.get_label_by_id('010').set_text('') # 'Only in mol', len(only_in_mol)\n",
      "    v.get_label_by_id('001').set_text('D\\n%.1fK' % (float(only_rna) / 1000)) # 121.3K\n",
      "\n",
      "    v.get_label_by_id('011').set_text('C\\n%.1fK' % (float(only_rna_mol) / 1000)) # 14.4K\n",
      "    v.get_label_by_id('101').set_text('A\\n%.1fK' % (float(only_rna_ref) / 1000)) # 35.2K\n",
      "    v.get_label_by_id('110').set_text('')\n",
      "\n",
      "    v.get_label_by_id('111').set_text('B\\n%.1fK' % (float(intersection) / 1000)) # 248.2K"
     ],
     "language": "python",
     "metadata": {},
     "outputs": [],
     "prompt_number": 19
    },
    {
     "cell_type": "heading",
     "level": 2,
     "metadata": {},
     "source": [
      "galGal4 diagram"
     ]
    },
    {
     "cell_type": "code",
     "collapsed": false,
     "input": [
      "galGal4_summary = summarize(rna, galGal4, galGal4_rna_set, galGal4_rna_set_90, unmapped_reads_galGal4)\n",
      "#create_dataframes()\n",
      "#plot_histograms()"
     ],
     "language": "python",
     "metadata": {},
     "outputs": [],
     "prompt_number": 20
    },
    {
     "cell_type": "code",
     "collapsed": false,
     "input": [
      "venn_diagram(len(galGal4_summary[0]), len(galGal4_summary[1]), len(galGal4_summary[2]), len(galGal4_summary[3]), refname=\"galGal4\")"
     ],
     "language": "python",
     "metadata": {},
     "outputs": [
      {
       "metadata": {},
       "output_type": "display_data",
       "png": "[encoded data removed]",
       "text": [
        "<matplotlib.figure.Figure at 0x2ad1230be090>"
       ]
      }
     ],
     "prompt_number": 21
    },
    {
     "cell_type": "heading",
     "level": 2,
     "metadata": {},
     "source": [
      "galGal5 diagram"
     ]
    },
    {
     "cell_type": "code",
     "collapsed": false,
     "input": [
      "galGal5_summary = summarize(rna, galGal5, galGal5_rna_set, galGal5_rna_set_90, unmapped_reads_galGal5)"
     ],
     "language": "python",
     "metadata": {},
     "outputs": [],
     "prompt_number": 22
    },
    {
     "cell_type": "code",
     "collapsed": false,
     "input": [
      "venn_diagram(len(galGal5_summary[0]), len(galGal5_summary[1]), len(galGal5_summary[2]), len(galGal5_summary[3]), refname=\"galGal5\")"
     ],
     "language": "python",
     "metadata": {},
     "outputs": [
      {
       "metadata": {},
       "output_type": "display_data",
       "png": "[encoded data removed]",
       "text": [
        "<matplotlib.figure.Figure at 0x2ad1c8f40650>"
       ]
      }
     ],
     "prompt_number": 23
    },
    {
     "cell_type": "code",
     "collapsed": false,
     "input": [
      "def save_sequences(chick_rna_df, only_rna, only_rna_moleculo, only_rna_ref, intersection, ref='galGal4'):\n",
      "    !mkdir -p ../outputs/rna/moleculo/${ref}\n",
      "\n",
      "    with open('../outputs/rna/moleculo/%s/only_rna.fa' % ref, 'w') as f:\n",
      "        for name, seq in chick_rna_df[chick_rna_df.index.isin(only_rna)]['sequence'].iteritems():\n",
      "            f.write(\">%s\\n%s\\n\" % (name, \"\\n\".join(seq[60 * i: 60 * i + 60]\n",
      "                                                   for i in range(0, (len(seq) / 60) + 1))))\n",
      "    with open('../outputs/rna/moleculo/%s/only_rna_mol.fa' % ref, 'w') as f:\n",
      "        for name, seq in chick_rna_df[chick_rna_df.index.isin(only_rna_moleculo)]['sequence'].iteritems():\n",
      "            f.write(\">%s\\n%s\\n\" % (name, \"\\n\".join(seq[60 * i: 60 * i + 60]\n",
      "                                                   for i in range(0, (len(seq) / 60) + 1))))\n",
      "    with open('../outputs/rna/moleculo/%s/only_rna_ref.fa' % ref, 'w') as f:\n",
      "        for name, seq in chick_rna_df[chick_rna_df.index.isin(only_rna_ref)]['sequence'].iteritems():\n",
      "            f.write(\">%s\\n%s\\n\" % (name, \"\\n\".join(seq[60 * i: 60 * i + 60]\n",
      "                                                   for i in range(0, (len(seq) / 60) + 1))))\n",
      "    with open('../outputs/rna/moleculo/%s/intersection.fa' % ref, 'w') as f:\n",
      "        for name, seq in chick_rna_df[chick_rna_df.index.isin(intersection)]['sequence'].iteritems():\n",
      "            f.write(\">%s\\n%s\\n\" % (name, \"\\n\".join(seq[60 * i: 60 * i + 60]\n",
      "                                                   for i in range(0, (len(seq) / 60) + 1))))"
     ],
     "language": "python",
     "metadata": {},
     "outputs": [],
     "prompt_number": 34
    },
    {
     "cell_type": "code",
     "collapsed": false,
     "input": [
      "save_sequences(chick_rna_df, *galGal4_summary, ref='galGal4')\n",
      "save_sequences(chick_rna_df, *galGal5_summary, ref='galGal4')"
     ],
     "language": "python",
     "metadata": {},
     "outputs": [],
     "prompt_number": 35
    }
   ],
   "metadata": {}
  }
 ]
}