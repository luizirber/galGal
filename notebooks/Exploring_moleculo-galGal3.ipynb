{
 "metadata": {
  "name": ""
 },
 "nbformat": 3,
 "nbformat_minor": 0,
 "worksheets": [
  {
   "cells": [
    {
     "cell_type": "raw",
     "metadata": {},
     "source": [
      "%pylab inline"
     ]
    },
    {
     "cell_type": "code",
     "collapsed": false,
     "input": [
      "cd galGal3/"
     ],
     "language": "python",
     "metadata": {},
     "outputs": [
      {
       "output_type": "stream",
       "stream": "stdout",
       "text": [
        "/Users/luizirber/biodata/galGal3\n"
       ]
      }
     ],
     "prompt_number": 2
    },
    {
     "cell_type": "code",
     "collapsed": false,
     "input": [
      "!wget -c http://hgdownload.soe.ucsc.edu/goldenPath/galGal3/bigZips/galGal3.2bit"
     ],
     "language": "python",
     "metadata": {},
     "outputs": [
      {
       "output_type": "stream",
       "stream": "stdout",
       "text": [
        "--2014-02-07 16:23:16--  http://hgdownload.soe.ucsc.edu/goldenPath/galGal3/bigZips/galGal3.2bit\r\n",
        "Resolving hgdownload.soe.ucsc.edu... "
       ]
      },
      {
       "output_type": "stream",
       "stream": "stdout",
       "text": [
        "128.114.119.163\r\n",
        "Connecting to hgdownload.soe.ucsc.edu|128.114.119.163|:80... "
       ]
      },
      {
       "output_type": "stream",
       "stream": "stdout",
       "text": [
        "connected.\r\n",
        "HTTP request sent, awaiting response... "
       ]
      },
      {
       "output_type": "stream",
       "stream": "stdout",
       "text": [
        "200 OK\r\n",
        "Length: 279914199 (267M) [text/plain]\r\n",
        "Saving to: \u2018galGal3.2bit\u2019\r\n",
        "\r\n",
        "\r",
        " 0% [                                       ] 0           --.-K/s              "
       ]
      },
      {
       "output_type": "stream",
       "stream": "stdout",
       "text": [
        "\r",
        " 0% [                                       ] 35,806       168KB/s             "
       ]
      },
      {
       "output_type": "stream",
       "stream": "stdout",
       "text": [
        "\r",
        " 0% [                                       ] 95,174       224KB/s             "
       ]
      },
      {
       "output_type": "stream",
       "stream": "stdout",
       "text": [
        "\r",
        " 0% [                                       ] 276,174      429KB/s             "
       ]
      },
      {
       "output_type": "stream",
       "stream": "stdout",
       "text": [
        "\r",
        " 0% [                                       ] 407,446      468KB/s             "
       ]
      },
      {
       "output_type": "stream",
       "stream": "stdout",
       "text": [
        "\r",
        " 0% [                                       ] 525,230      485KB/s             "
       ]
      },
      {
       "output_type": "stream",
       "stream": "stdout",
       "text": [
        "\r",
        " 0% [                                       ] 536,814      414KB/s             "
       ]
      },
      {
       "output_type": "stream",
       "stream": "stdout",
       "text": [
        "\r",
        " 0% [                                       ] 561,430      372KB/s             "
       ]
      },
      {
       "output_type": "stream",
       "stream": "stdout",
       "text": [
        "\r",
        " 0% [                                       ] 626,590      362KB/s             "
       ]
      },
      {
       "output_type": "stream",
       "stream": "stdout",
       "text": [
        "\r",
        " 0% [                                       ] 742,430      381KB/s             "
       ]
      },
      {
       "output_type": "stream",
       "stream": "stdout",
       "text": [
        "\r",
        " 0% [                                       ] 859,718      396KB/s             "
       ]
      },
      {
       "output_type": "stream",
       "stream": "stdout",
       "text": [
        "\r",
        " 0% [                                       ] 988,590      414KB/s             "
       ]
      },
      {
       "output_type": "stream",
       "stream": "stdout",
       "text": [
        "\r",
        " 0% [                                       ] 1,126,150    432KB/s             "
       ]
      },
      {
       "output_type": "stream",
       "stream": "stdout",
       "text": [
        "\r",
        " 0% [                                       ] 1,311,494    462KB/s             "
       ]
      },
      {
       "output_type": "stream",
       "stream": "stdout",
       "text": [
        "\r",
        " 0% [                                       ] 1,512,766    492KB/s  eta 9m 12s "
       ]
      },
      {
       "output_type": "stream",
       "stream": "stdout",
       "text": [
        "\r",
        " 0% [                                       ] 1,715,486    520KB/s  eta 9m 12s "
       ]
      },
      {
       "output_type": "stream",
       "stream": "stdout",
       "text": [
        "\r",
        " 0% [                                       ] 1,909,518    541KB/s  eta 9m 12s "
       ]
      },
      {
       "output_type": "stream",
       "stream": "stdout",
       "text": [
        "\r",
        " 0% [                                       ] 2,112,238    564KB/s  eta 9m 12s "
       ]
      },
      {
       "output_type": "stream",
       "stream": "stdout",
       "text": [
        "\r",
        " 0% [                                       ] 2,358,398    597KB/s  eta 9m 12s "
       ]
      },
      {
       "output_type": "stream",
       "stream": "stdout",
       "text": [
        "\r",
        " 0% [                                       ] 2,516,230    603KB/s  eta 7m 29s "
       ]
      },
      {
       "output_type": "stream",
       "stream": "stdout",
       "text": [
        "\r",
        " 0% [                                       ] 2,776,870    657KB/s  eta 7m 29s "
       ]
      },
      {
       "output_type": "stream",
       "stream": "stdout",
       "text": [
        "\r",
        " 1% [                                       ] 3,037,510    705KB/s  eta 7m 29s "
       ]
      },
      {
       "output_type": "stream",
       "stream": "stdout",
       "text": [
        "\r",
        " 1% [                                       ] 3,298,150    723KB/s  eta 7m 29s "
       ]
      },
      {
       "output_type": "stream",
       "stream": "stdout",
       "text": [
        "\r",
        " 1% [                                       ] 3,623,950    781KB/s  eta 7m 29s "
       ]
      },
      {
       "output_type": "stream",
       "stream": "stdout",
       "text": [
        "\r",
        " 1% [                                       ] 4,014,910    877KB/s  eta 5m 53s "
       ]
      },
      {
       "output_type": "stream",
       "stream": "stdout",
       "text": [
        "\r",
        " 1% [                                       ] 4,471,030    984KB/s  eta 5m 53s "
       ]
      },
      {
       "output_type": "stream",
       "stream": "stdout",
       "text": [
        "\r",
        " 1% [                                       ] 4,927,150   1.09MB/s  eta 5m 53s "
       ]
      },
      {
       "output_type": "stream",
       "stream": "stdout",
       "text": [
        "\r",
        " 1% [                                       ] 5,448,430   1.20MB/s  eta 5m 53s "
       ]
      },
      {
       "output_type": "stream",
       "stream": "stdout",
       "text": [
        "\r",
        " 2% [                                       ] 6,039,214   1.32MB/s  eta 5m 53s "
       ]
      },
      {
       "output_type": "stream",
       "stream": "stdout",
       "text": [
        "\r",
        " 2% [                                       ] 6,686,470   1.49MB/s  eta 4m 13s "
       ]
      },
      {
       "output_type": "stream",
       "stream": "stdout",
       "text": [
        "\r",
        " 2% [>                                      ] 7,338,070   1.59MB/s  eta 4m 13s "
       ]
      },
      {
       "output_type": "stream",
       "stream": "stdout",
       "text": [
        "\r",
        " 2% [>                                      ] 8,119,990   1.76MB/s  eta 4m 13s "
       ]
      },
      {
       "output_type": "stream",
       "stream": "stdout",
       "text": [
        "\r",
        " 3% [>                                      ] 8,967,070   1.97MB/s  eta 4m 13s "
       ]
      },
      {
       "output_type": "stream",
       "stream": "stdout",
       "text": [
        "\r",
        " 3% [>                                      ] 9,817,046   2.16MB/s  eta 4m 13s "
       ]
      },
      {
       "output_type": "stream",
       "stream": "stdout",
       "text": [
        "\r",
        " 3% [>                                      ] 10,635,166  2.33MB/s  eta 3m 4s  "
       ]
      },
      {
       "output_type": "stream",
       "stream": "stdout",
       "text": [
        "\r",
        " 4% [>                                      ] 11,577,814  2.63MB/s  eta 3m 4s  "
       ]
      },
      {
       "output_type": "stream",
       "stream": "stdout",
       "text": [
        "\r",
        " 4% [>                                      ] 12,482,318  2.79MB/s  eta 3m 4s  "
       ]
      },
      {
       "output_type": "stream",
       "stream": "stdout",
       "text": [
        "\r",
        " 4% [>                                      ] 13,402,294  2.98MB/s  eta 3m 4s  "
       ]
      },
      {
       "output_type": "stream",
       "stream": "stdout",
       "text": [
        "\r",
        " 5% [>                                      ] 14,118,558  3.09MB/s  eta 3m 4s  "
       ]
      },
      {
       "output_type": "stream",
       "stream": "stdout",
       "text": [
        "\r",
        " 5% [=>                                     ] 15,026,950  3.29MB/s  eta 2m 26s "
       ]
      },
      {
       "output_type": "stream",
       "stream": "stdout",
       "text": [
        "\r",
        " 5% [=>                                     ] 15,888,510  3.43MB/s  eta 2m 26s "
       ]
      },
      {
       "output_type": "stream",
       "stream": "stdout",
       "text": [
        "\r",
        " 5% [=>                                     ] 16,786,270  3.60MB/s  eta 2m 26s "
       ]
      },
      {
       "output_type": "stream",
       "stream": "stdout",
       "text": [
        "\r",
        " 6% [=>                                     ] 16,987,046  3.40MB/s  eta 2m 26s "
       ]
      },
      {
       "output_type": "stream",
       "stream": "stdout",
       "text": [
        "\r",
        " 6% [=>                                     ] 17,129,446  3.29MB/s  eta 2m 26s "
       ]
      },
      {
       "output_type": "stream",
       "stream": "stdout",
       "text": [
        "\r",
        " 6% [=>                                     ] 17,429,182  3.19MB/s  eta 2m 22s "
       ]
      },
      {
       "output_type": "stream",
       "stream": "stdout",
       "text": [
        "\r",
        " 6% [=>                                     ] 17,507,374  3.03MB/s  eta 2m 22s "
       ]
      },
      {
       "output_type": "stream",
       "stream": "stdout",
       "text": [
        "\r",
        " 6% [=>                                     ] 17,516,062  2.87MB/s  eta 2m 22s "
       ]
      },
      {
       "output_type": "stream",
       "stream": "stdout",
       "text": [
        "\r",
        " 6% [=>                                     ] 17,526,198  2.68MB/s  eta 2m 22s "
       ]
      },
      {
       "output_type": "stream",
       "stream": "stdout",
       "text": [
        "\r",
        " 6% [=>                                     ] 17,534,886  2.48MB/s  eta 2m 22s "
       ]
      },
      {
       "output_type": "stream",
       "stream": "stdout",
       "text": [
        "\r",
        " 6% [=>                                     ] 17,543,574  2.28MB/s  eta 2m 36s "
       ]
      },
      {
       "output_type": "stream",
       "stream": "stdout",
       "text": [
        "\r",
        " 6% [=>                                     ] 17,558,054  2.10MB/s  eta 2m 36s "
       ]
      },
      {
       "output_type": "stream",
       "stream": "stdout",
       "text": [
        "\r",
        " 6% [=>                                     ] 17,572,534  1.90MB/s  eta 2m 36s "
       ]
      },
      {
       "output_type": "stream",
       "stream": "stdout",
       "text": [
        "\r",
        " 6% [=>                                     ] 17,591,358  1.71MB/s  eta 2m 36s "
       ]
      },
      {
       "output_type": "stream",
       "stream": "stdout",
       "text": [
        "\r",
        " 6% [=>                                     ] 17,607,286  1.52MB/s  eta 2m 36s "
       ]
      },
      {
       "output_type": "stream",
       "stream": "stdout",
       "text": [
        "\r",
        " 6% [=>                                     ] 17,626,110  1.33MB/s  eta 2m 51s "
       ]
      },
      {
       "output_type": "stream",
       "stream": "stdout",
       "text": [
        "\r",
        " 6% [=>                                     ] 17,650,726  1.15MB/s  eta 2m 51s "
       ]
      },
      {
       "output_type": "stream",
       "stream": "stdout",
       "text": [
        "\r",
        " 6% [=>                                     ] 17,673,894  1014KB/s  eta 2m 51s "
       ]
      },
      {
       "output_type": "stream",
       "stream": "stdout",
       "text": [
        "\r",
        " 6% [=>                                     ] 17,698,510   865KB/s  eta 2m 51s "
       ]
      },
      {
       "output_type": "stream",
       "stream": "stdout",
       "text": [
        "\r",
        " 6% [=>                                     ] 17,733,262   702KB/s  eta 2m 51s "
       ]
      },
      {
       "output_type": "stream",
       "stream": "stdout",
       "text": [
        "\r",
        " 6% [=>                                     ] 17,763,670   541KB/s  eta 3m 5s  "
       ]
      },
      {
       "output_type": "stream",
       "stream": "stdout",
       "text": [
        "\r",
        " 6% [=>                                     ] 17,798,422   374KB/s  eta 3m 5s  "
       ]
      },
      {
       "output_type": "stream",
       "stream": "stdout",
       "text": [
        "\r",
        " 6% [=>                                     ] 17,840,414   244KB/s  eta 3m 5s  "
       ]
      },
      {
       "output_type": "stream",
       "stream": "stdout",
       "text": [
        "\r",
        " 6% [=>                                     ] 17,893,990   210KB/s  eta 3m 5s  "
       ]
      },
      {
       "output_type": "stream",
       "stream": "stdout",
       "text": [
        "\r",
        " 6% [=>                                     ] 17,959,150   191KB/s  eta 3m 5s  "
       ]
      },
      {
       "output_type": "stream",
       "stream": "stdout",
       "text": [
        "\r",
        " 6% [=>                                     ] 18,031,550   173KB/s  eta 3m 17s "
       ]
      },
      {
       "output_type": "stream",
       "stream": "stdout",
       "text": [
        "\r",
        " 6% [=>                                     ] 18,118,430   141KB/s  eta 3m 17s "
       ]
      },
      {
       "output_type": "stream",
       "stream": "stdout",
       "text": [
        "\r",
        " 6% [=>                                     ] 18,213,998   161KB/s  eta 3m 17s "
       ]
      },
      {
       "output_type": "stream",
       "stream": "stdout",
       "text": [
        "\r",
        " 6% [=>                                     ] 18,331,286   186KB/s  eta 3m 17s "
       ]
      },
      {
       "output_type": "stream",
       "stream": "stdout",
       "text": [
        "\r",
        " 6% [=>                                     ] 18,434,094   207KB/s  eta 3m 17s "
       ]
      },
      {
       "output_type": "stream",
       "stream": "stdout",
       "text": [
        "\r",
        " 6% [=>                                     ] 18,584,686   240KB/s  eta 3m 25s "
       ]
      },
      {
       "output_type": "stream",
       "stream": "stdout",
       "text": [
        "\r",
        " 6% [=>                                     ] 18,741,070   273KB/s  eta 3m 25s "
       ]
      },
      {
       "output_type": "stream",
       "stream": "stdout",
       "text": [
        "\r",
        " 6% [=>                                     ] 18,890,214   303KB/s  eta 3m 25s "
       ]
      },
      {
       "output_type": "stream",
       "stream": "stdout",
       "text": [
        "\r",
        " 6% [=>                                     ] 19,117,550   350KB/s  eta 3m 25s "
       ]
      },
      {
       "output_type": "stream",
       "stream": "stdout",
       "text": [
        "\r",
        " 6% [=>                                     ] 19,327,510   393KB/s  eta 3m 25s "
       ]
      },
      {
       "output_type": "stream",
       "stream": "stdout",
       "text": [
        "\r",
        " 6% [=>                                     ] 19,588,150   448KB/s  eta 3m 28s "
       ]
      },
      {
       "output_type": "stream",
       "stream": "stdout",
       "text": [
        "\r",
        " 7% [=>                                     ] 19,848,790   502KB/s  eta 3m 28s "
       ]
      },
      {
       "output_type": "stream",
       "stream": "stdout",
       "text": [
        "\r",
        " 7% [=>                                     ] 20,109,430   555KB/s  eta 3m 28s "
       ]
      },
      {
       "output_type": "stream",
       "stream": "stdout",
       "text": [
        "\r",
        " 7% [=>                                     ] 20,435,230   623KB/s  eta 3m 28s "
       ]
      },
      {
       "output_type": "stream",
       "stream": "stdout",
       "text": [
        "\r",
        " 7% [=>                                     ] 20,826,190   732KB/s  eta 3m 28s "
       ]
      },
      {
       "output_type": "stream",
       "stream": "stdout",
       "text": [
        "\r",
        " 7% [=>                                     ] 21,217,150   817KB/s  eta 3m 24s "
       ]
      },
      {
       "output_type": "stream",
       "stream": "stdout",
       "text": [
        "\r",
        " 7% [==>                                    ] 21,673,270   914KB/s  eta 3m 24s "
       ]
      },
      {
       "output_type": "stream",
       "stream": "stdout",
       "text": [
        "\r",
        " 7% [==>                                    ] 22,194,550  1.04MB/s  eta 3m 24s "
       ]
      },
      {
       "output_type": "stream",
       "stream": "stdout",
       "text": [
        "\r",
        " 8% [==>                                    ] 22,780,990  1.16MB/s  eta 3m 24s "
       ]
      },
      {
       "output_type": "stream",
       "stream": "stdout",
       "text": [
        "\r",
        " 8% [==>                                    ] 23,432,590  1.30MB/s  eta 3m 24s "
       ]
      },
      {
       "output_type": "stream",
       "stream": "stdout",
       "text": [
        "\r",
        " 8% [==>                                    ] 24,084,190  1.48MB/s  eta 3m 9s  "
       ]
      },
      {
       "output_type": "stream",
       "stream": "stdout",
       "text": [
        "\r",
        " 8% [==>                                    ] 24,835,702  1.64MB/s  eta 3m 9s  "
       ]
      },
      {
       "output_type": "stream",
       "stream": "stdout",
       "text": [
        "\r",
        " 9% [==>                                    ] 25,584,318  1.80MB/s  eta 3m 9s  "
       ]
      },
      {
       "output_type": "stream",
       "stream": "stdout",
       "text": [
        "\r",
        " 9% [==>                                    ] 26,440,086  2.06MB/s  eta 3m 9s  "
       ]
      },
      {
       "output_type": "stream",
       "stream": "stdout",
       "text": [
        "\r",
        " 9% [==>                                    ] 27,308,886  2.25MB/s  eta 3m 9s  "
       ]
      },
      {
       "output_type": "stream",
       "stream": "stdout",
       "text": [
        "\r",
        "10% [==>                                    ] 28,152,574  2.43MB/s  eta 2m 48s "
       ]
      },
      {
       "output_type": "stream",
       "stream": "stdout",
       "text": [
        "\r",
        "10% [===>                                   ] 28,944,630  2.69MB/s  eta 2m 48s "
       ]
      },
      {
       "output_type": "stream",
       "stream": "stdout",
       "text": [
        "\r",
        "10% [===>                                   ] 29,864,606  2.87MB/s  eta 2m 48s "
       ]
      },
      {
       "output_type": "stream",
       "stream": "stdout",
       "text": [
        "\r",
        "10% [===>                                   ] 30,761,870  3.07MB/s  eta 2m 48s "
       ]
      },
      {
       "output_type": "stream",
       "stream": "stdout",
       "text": [
        "\r",
        "11% [===>                                   ] 31,663,974  3.28MB/s  eta 2m 48s "
       ]
      },
      {
       "output_type": "stream",
       "stream": "stdout",
       "text": [
        "\r",
        "11% [===>                                   ] 32,593,590  3.43MB/s  eta 2m 31s "
       ]
      },
      {
       "output_type": "stream",
       "stream": "stdout",
       "text": [
        "\r",
        "11% [===>                                   ] 33,481,214  3.56MB/s  eta 2m 31s "
       ]
      },
      {
       "output_type": "stream",
       "stream": "stdout",
       "text": [
        "\r",
        "12% [===>                                   ] 34,386,710  3.74MB/s  eta 2m 31s "
       ]
      },
      {
       "output_type": "stream",
       "stream": "stdout",
       "text": [
        "\r",
        "12% [===>                                   ] 35,283,974  3.82MB/s  eta 2m 31s "
       ]
      },
      {
       "output_type": "stream",
       "stream": "stdout",
       "text": [
        "\r",
        "12% [====>                                  ] 36,146,982  3.90MB/s  eta 2m 31s "
       ]
      },
      {
       "output_type": "stream",
       "stream": "stdout",
       "text": [
        "\r",
        "13% [====>                                  ] 37,057,774  4.04MB/s  eta 2m 17s "
       ]
      },
      {
       "output_type": "stream",
       "stream": "stdout",
       "text": [
        "\r",
        "13% [====>                                  ] 37,508,598  3.93MB/s  eta 2m 17s "
       ]
      },
      {
       "output_type": "stream",
       "stream": "stdout",
       "text": [
        "\r",
        "13% [====>                                  ] 37,664,486  3.75MB/s  eta 2m 17s "
       ]
      },
      {
       "output_type": "stream",
       "stream": "stdout",
       "text": [
        "\r",
        "13% [====>                                  ] 37,808,334  3.58MB/s  eta 2m 17s "
       ]
      },
      {
       "output_type": "stream",
       "stream": "stdout",
       "text": [
        "\r",
        "13% [====>                                  ] 38,032,774  3.38MB/s  eta 2m 17s "
       ]
      },
      {
       "output_type": "stream",
       "stream": "stdout",
       "text": [
        "\r",
        "13% [====>                                  ] 38,040,014  3.15MB/s  eta 2m 19s "
       ]
      },
      {
       "output_type": "stream",
       "stream": "stdout",
       "text": [
        "\r",
        "13% [====>                                  ] 38,047,254  2.91MB/s  eta 2m 19s "
       ]
      },
      {
       "output_type": "stream",
       "stream": "stdout",
       "text": [
        "\r",
        "13% [====>                                  ] 38,057,390  2.68MB/s  eta 2m 19s "
       ]
      },
      {
       "output_type": "stream",
       "stream": "stdout",
       "text": [
        "\r",
        "13% [====>                                  ] 38,066,078  2.49MB/s  eta 2m 19s "
       ]
      },
      {
       "output_type": "stream",
       "stream": "stdout",
       "text": [
        "\r",
        "13% [====>                                  ] 38,076,214  2.26MB/s  eta 2m 19s "
       ]
      },
      {
       "output_type": "stream",
       "stream": "stdout",
       "text": [
        "\r",
        "13% [====>                                  ] 38,093,590  2.06MB/s  eta 2m 26s "
       ]
      },
      {
       "output_type": "stream",
       "stream": "stdout",
       "text": [
        "\r",
        "13% [====>                                  ] 38,112,414  1.87MB/s  eta 2m 26s "
       ]
      },
      {
       "output_type": "stream",
       "stream": "stdout",
       "text": [
        "\r",
        "13% [====>                                  ] 38,131,238  1.67MB/s  eta 2m 26s "
       ]
      },
      {
       "output_type": "stream",
       "stream": "stdout",
       "text": [
        "\r",
        "13% [====>                                  ] 38,151,510  1.49MB/s  eta 2m 26s "
       ]
      },
      {
       "output_type": "stream",
       "stream": "stdout",
       "text": [
        "\r",
        "13% [====>                                  ] 38,177,574  1.30MB/s  eta 2m 26s "
       ]
      },
      {
       "output_type": "stream",
       "stream": "stdout",
       "text": [
        "\r",
        "13% [====>                                  ] 38,200,742  1.12MB/s  eta 2m 32s "
       ]
      },
      {
       "output_type": "stream",
       "stream": "stdout",
       "text": [
        "\r",
        "13% [====>                                  ] 38,229,702   966KB/s  eta 2m 32s "
       ]
      },
      {
       "output_type": "stream",
       "stream": "stdout",
       "text": [
        "\r",
        "13% [====>                                  ] 38,263,006   792KB/s  eta 2m 32s "
       ]
      },
      {
       "output_type": "stream",
       "stream": "stdout",
       "text": [
        "\r",
        "13% [====>                                  ] 38,289,070   641KB/s  eta 2m 32s "
       ]
      },
      {
       "output_type": "stream",
       "stream": "stdout",
       "text": [
        "\r",
        "13% [====>                                  ] 38,322,374   471KB/s  eta 2m 32s "
       ]
      },
      {
       "output_type": "stream",
       "stream": "stdout",
       "text": [
        "\r",
        "13% [====>                                  ] 38,364,366   321KB/s  eta 2m 38s "
       ]
      },
      {
       "output_type": "stream",
       "stream": "stdout",
       "text": [
        "\r",
        "13% [====>                                  ] 38,410,206   212KB/s  eta 2m 38s "
       ]
      },
      {
       "output_type": "stream",
       "stream": "stdout",
       "text": [
        "\r",
        "13% [====>                                  ] 38,441,110   183KB/s  eta 2m 38s "
       ]
      },
      {
       "output_type": "stream",
       "stream": "stdout",
       "text": [
        "\r",
        "13% [====>                                  ] 38,451,246   151KB/s  eta 2m 38s "
       ]
      },
      {
       "output_type": "stream",
       "stream": "stdout",
       "text": [
        "\r",
        "13% [====>                                  ] 38,477,310   105KB/s  eta 2m 38s "
       ]
      },
      {
       "output_type": "stream",
       "stream": "stdout",
       "text": [
        "\r",
        "13% [====>                                  ] 38,512,062   111KB/s  eta 2m 43s "
       ]
      },
      {
       "output_type": "stream",
       "stream": "stdout",
       "text": [
        "\r",
        "13% [====>                                  ] 38,556,950   120KB/s  eta 2m 43s "
       ]
      },
      {
       "output_type": "stream",
       "stream": "stdout",
       "text": [
        "\r",
        "13% [====>                                  ] 38,604,734   129KB/s  eta 2m 43s "
       ]
      },
      {
       "output_type": "stream",
       "stream": "stdout",
       "text": [
        "\r",
        "13% [====>                                  ] 38,661,206   140KB/s  eta 2m 43s "
       ]
      },
      {
       "output_type": "stream",
       "stream": "stdout",
       "text": [
        "\r",
        "13% [====>                                  ] 38,723,470   152KB/s  eta 2m 43s "
       ]
      },
      {
       "output_type": "stream",
       "stream": "stdout",
       "text": [
        "\r",
        "13% [====>                                  ] 38,800,214   166KB/s  eta 2m 49s "
       ]
      },
      {
       "output_type": "stream",
       "stream": "stdout",
       "text": [
        "\r",
        "13% [====>                                  ] 38,875,510   179KB/s  eta 2m 49s "
       ]
      },
      {
       "output_type": "stream",
       "stream": "stdout",
       "text": [
        "\r",
        "13% [====>                                  ] 38,955,150   193KB/s  eta 2m 49s "
       ]
      },
      {
       "output_type": "stream",
       "stream": "stdout",
       "text": [
        "\r",
        "13% [====>                                  ] 39,052,166   211KB/s  eta 2m 49s "
       ]
      },
      {
       "output_type": "stream",
       "stream": "stdout",
       "text": [
        "\r",
        "13% [====>                                  ] 39,146,286   227KB/s  eta 2m 49s "
       ]
      },
      {
       "output_type": "stream",
       "stream": "stdout",
       "text": [
        "\r",
        "14% [====>                                  ] 39,266,470   249KB/s  eta 2m 53s "
       ]
      },
      {
       "output_type": "stream",
       "stream": "stdout",
       "text": [
        "\r",
        "14% [====>                                  ] 39,396,790   273KB/s  eta 2m 53s "
       ]
      },
      {
       "output_type": "stream",
       "stream": "stdout",
       "text": [
        "\r",
        "14% [====>                                  ] 39,527,110   295KB/s  eta 2m 53s "
       ]
      },
      {
       "output_type": "stream",
       "stream": "stdout",
       "text": [
        "\r",
        "14% [====>                                  ] 39,657,430   320KB/s  eta 2m 53s "
       ]
      },
      {
       "output_type": "stream",
       "stream": "stdout",
       "text": [
        "\r",
        "14% [====>                                  ] 39,787,750   342KB/s  eta 2m 53s "
       ]
      },
      {
       "output_type": "stream",
       "stream": "stdout",
       "text": [
        "\r",
        "14% [====>                                  ] 39,952,822   371KB/s  eta 2m 55s "
       ]
      },
      {
       "output_type": "stream",
       "stream": "stdout",
       "text": [
        "\r",
        "14% [====>                                  ] 40,113,550   397KB/s  eta 2m 55s "
       ]
      },
      {
       "output_type": "stream",
       "stream": "stdout",
       "text": [
        "\r",
        "14% [====>                                  ] 40,281,518   428KB/s  eta 2m 55s "
       ]
      },
      {
       "output_type": "stream",
       "stream": "stdout",
       "text": [
        "\r",
        "14% [====>                                  ] 40,481,342   472KB/s  eta 2m 55s "
       ]
      },
      {
       "output_type": "stream",
       "stream": "stdout",
       "text": [
        "\r",
        "14% [====>                                  ] 40,678,270   511KB/s  eta 2m 55s "
       ]
      },
      {
       "output_type": "stream",
       "stream": "stdout",
       "text": [
        "\r",
        "14% [====>                                  ] 40,895,470   552KB/s  eta 2m 57s "
       ]
      },
      {
       "output_type": "stream",
       "stream": "stdout",
       "text": [
        "\r",
        "14% [====>                                  ] 41,156,110   603KB/s  eta 2m 57s "
       ]
      },
      {
       "output_type": "stream",
       "stream": "stdout",
       "text": [
        "\r",
        "14% [====>                                  ] 41,418,198   652KB/s  eta 2m 57s "
       ]
      },
      {
       "output_type": "stream",
       "stream": "stdout",
       "text": [
        "\r",
        "14% [====>                                  ] 41,677,390   718KB/s  eta 2m 57s "
       ]
      },
      {
       "output_type": "stream",
       "stream": "stdout",
       "text": [
        "\r",
        "15% [====>                                  ] 42,003,190   778KB/s  eta 2m 57s "
       ]
      },
      {
       "output_type": "stream",
       "stream": "stdout",
       "text": [
        "\r",
        "15% [====>                                  ] 42,300,486   822KB/s  eta 2m 57s "
       ]
      },
      {
       "output_type": "stream",
       "stream": "stdout",
       "text": [
        "\r",
        "15% [====>                                  ] 43,045,750   979KB/s  eta 2m 57s "
       ]
      },
      {
       "output_type": "stream",
       "stream": "stdout",
       "text": [
        "\r",
        "15% [=====>                                 ] 43,501,870  1.04MB/s  eta 2m 57s "
       ]
      },
      {
       "output_type": "stream",
       "stream": "stdout",
       "text": [
        "\r",
        "15% [=====>                                 ] 43,724,366  1.06MB/s  eta 2m 57s "
       ]
      },
      {
       "output_type": "stream",
       "stream": "stdout",
       "text": [
        "\r",
        "15% [=====>                                 ] 43,865,318  1.06MB/s  eta 2m 57s "
       ]
      },
      {
       "output_type": "stream",
       "stream": "stdout",
       "text": [
        "\r",
        "15% [=====>                                 ] 43,876,902  1.03MB/s  eta 2m 55s "
       ]
      },
      {
       "output_type": "stream",
       "stream": "stdout",
       "text": [
        "\r",
        "15% [=====>                                 ] 43,907,310  1.01MB/s  eta 2m 55s "
       ]
      },
      {
       "output_type": "stream",
       "stream": "stdout",
       "text": [
        "\r",
        "15% [=====>                                 ] 43,973,918  1017KB/s  eta 2m 55s "
       ]
      },
      {
       "output_type": "stream",
       "stream": "stdout",
       "text": [
        "\r",
        "15% [=====>                                 ] 44,153,470  1018KB/s  eta 2m 55s "
       ]
      },
      {
       "output_type": "stream",
       "stream": "stdout",
       "text": [
        "\r",
        "15% [=====>                                 ] 44,479,270  1.03MB/s  eta 2m 55s "
       ]
      },
      {
       "output_type": "stream",
       "stream": "stdout",
       "text": [
        "\r",
        "16% [=====>                                 ] 44,874,078  1.09MB/s  eta 2m 57s "
       ]
      },
      {
       "output_type": "stream",
       "stream": "stdout",
       "text": [
        "\r",
        "16% [=====>                                 ] 45,071,502  1.09MB/s  eta 2m 57s "
       ]
      },
      {
       "output_type": "stream",
       "stream": "stdout",
       "text": [
        "\r",
        "16% [=====>                                 ] 45,078,742  1.04MB/s  eta 2m 57s "
       ]
      },
      {
       "output_type": "stream",
       "stream": "stdout",
       "text": [
        "\r",
        "16% [=====>                                 ] 45,093,222  1014KB/s  eta 2m 57s "
       ]
      },
      {
       "output_type": "stream",
       "stream": "stdout",
       "text": [
        "\r",
        "16% [=====>                                 ] 45,130,870   953KB/s  eta 2m 57s "
       ]
      },
      {
       "output_type": "stream",
       "stream": "stdout",
       "text": [
        "\r",
        "16% [=====>                                 ] 45,219,198   921KB/s  eta 3m 0s  "
       ]
      },
      {
       "output_type": "stream",
       "stream": "stdout",
       "text": [
        "\r",
        "16% [=====>                                 ] 45,391,510   899KB/s  eta 3m 0s  "
       ]
      },
      {
       "output_type": "stream",
       "stream": "stdout",
       "text": [
        "\r",
        "16% [=====>                                 ] 45,652,150   901KB/s  eta 3m 0s  "
       ]
      },
      {
       "output_type": "stream",
       "stream": "stdout",
       "text": [
        "\r",
        "16% [=====>                                 ] 45,891,070   872KB/s  eta 3m 0s  "
       ]
      },
      {
       "output_type": "stream",
       "stream": "stdout",
       "text": [
        "\r",
        "16% [=====>                                 ] 46,124,198   915KB/s  eta 3m 0s  "
       ]
      },
      {
       "output_type": "stream",
       "stream": "stdout",
       "text": [
        "\r",
        "16% [=====>                                 ] 46,368,910   801KB/s  eta 3m 0s  "
       ]
      },
      {
       "output_type": "stream",
       "stream": "stdout",
       "text": [
        "\r",
        "16% [=====>                                 ] 46,575,478   776KB/s  eta 3m 0s  "
       ]
      },
      {
       "output_type": "stream",
       "stream": "stdout",
       "text": [
        "\r",
        "16% [=====>                                 ] 46,719,326   736KB/s  eta 3m 0s  "
       ]
      },
      {
       "output_type": "stream",
       "stream": "stdout",
       "text": [
        "\r",
        "16% [=====>                                 ] 46,726,566   671KB/s  eta 3m 0s  "
       ]
      },
      {
       "output_type": "stream",
       "stream": "stdout",
       "text": [
        "\r",
        "16% [=====>                                 ] 46,741,046   673KB/s  eta 3m 0s  "
       ]
      },
      {
       "output_type": "stream",
       "stream": "stdout",
       "text": [
        "\r",
        "16% [=====>                                 ] 46,778,694   678KB/s  eta 3m 4s  "
       ]
      },
      {
       "output_type": "stream",
       "stream": "stdout",
       "text": [
        "\r",
        "16% [=====>                                 ] 46,865,574   687KB/s  eta 3m 4s  "
       ]
      },
      {
       "output_type": "stream",
       "stream": "stdout",
       "text": [
        "\r",
        "16% [=====>                                 ] 47,058,158   707KB/s  eta 3m 4s  "
       ]
      },
      {
       "output_type": "stream",
       "stream": "stdout",
       "text": [
        "\r",
        "16% [=====>                                 ] 47,239,158   695KB/s  eta 3m 4s  "
       ]
      },
      {
       "output_type": "stream",
       "stream": "stdout",
       "text": [
        "\r",
        "16% [=====>                                 ] 47,433,190   640KB/s  eta 3m 4s  "
       ]
      },
      {
       "output_type": "stream",
       "stream": "stdout",
       "text": [
        "\r",
        "17% [=====>                                 ] 47,688,038   650KB/s  eta 3m 5s  "
       ]
      },
      {
       "output_type": "stream",
       "stream": "stdout",
       "text": [
        "\r",
        "17% [=====>                                 ] 47,890,758   651KB/s  eta 3m 5s  "
       ]
      },
      {
       "output_type": "stream",
       "stream": "stdout",
       "text": [
        "\r",
        "17% [=====>                                 ] 48,063,070   689KB/s  eta 3m 5s  "
       ]
      },
      {
       "output_type": "stream",
       "stream": "stdout",
       "text": [
        "\r",
        "17% [=====>                                 ] 48,236,830   726KB/s  eta 3m 5s  "
       ]
      },
      {
       "output_type": "stream",
       "stream": "stdout",
       "text": [
        "\r",
        "17% [=====>                                 ] 48,399,006   753KB/s  eta 3m 5s  "
       ]
      },
      {
       "output_type": "stream",
       "stream": "stdout",
       "text": [
        "\r",
        "17% [=====>                                 ] 48,584,350   775KB/s  eta 3m 6s  "
       ]
      },
      {
       "output_type": "stream",
       "stream": "stdout",
       "text": [
        "\r",
        "17% [=====>                                 ] 48,779,830   780KB/s  eta 3m 6s  "
       ]
      },
      {
       "output_type": "stream",
       "stream": "stdout",
       "text": [
        "\r",
        "17% [=====>                                 ] 48,975,310   763KB/s  eta 3m 6s  "
       ]
      },
      {
       "output_type": "stream",
       "stream": "stdout",
       "text": [
        "\r",
        "17% [=====>                                 ] 49,170,790   752KB/s  eta 3m 6s  "
       ]
      },
      {
       "output_type": "stream",
       "stream": "stdout",
       "text": [
        "\r",
        "17% [=====>                                 ] 49,366,270   744KB/s  eta 3m 6s  "
       ]
      },
      {
       "output_type": "stream",
       "stream": "stdout",
       "text": [
        "\r",
        "17% [=====>                                 ] 49,561,750   733KB/s  eta 3m 6s  "
       ]
      },
      {
       "output_type": "stream",
       "stream": "stdout",
       "text": [
        "\r",
        "17% [=====>                                 ] 49,757,230   731KB/s  eta 3m 6s  "
       ]
      },
      {
       "output_type": "stream",
       "stream": "stdout",
       "text": [
        "\r",
        "17% [=====>                                 ] 49,952,710   742KB/s  eta 3m 6s  "
       ]
      },
      {
       "output_type": "stream",
       "stream": "stdout",
       "text": [
        "\r",
        "17% [=====>                                 ] 50,148,190   785KB/s  eta 3m 6s  "
       ]
      },
      {
       "output_type": "stream",
       "stream": "stdout",
       "text": [
        "\r",
        "17% [======>                                ] 50,343,670   826KB/s  eta 3m 6s  "
       ]
      },
      {
       "output_type": "stream",
       "stream": "stdout",
       "text": [
        "\r",
        "18% [======>                                ] 50,539,150   862KB/s  eta 3m 7s  "
       ]
      },
      {
       "output_type": "stream",
       "stream": "stdout",
       "text": [
        "\r",
        "18% [======>                                ] 50,734,630   887KB/s  eta 3m 7s  "
       ]
      },
      {
       "output_type": "stream",
       "stream": "stdout",
       "text": [
        "\r",
        "18% [======>                                ] 50,892,462   863KB/s  eta 3m 7s  "
       ]
      },
      {
       "output_type": "stream",
       "stream": "stdout",
       "text": [
        "\r",
        "18% [======>                                ] 50,899,702   820KB/s  eta 3m 7s  "
       ]
      },
      {
       "output_type": "stream",
       "stream": "stdout",
       "text": [
        "\r",
        "18% [======>                                ] 50,914,182   765KB/s  eta 3m 7s  "
       ]
      },
      {
       "output_type": "stream",
       "stream": "stdout",
       "text": [
        "\r",
        "18% [======>                                ] 50,956,174   727KB/s  eta 3m 10s "
       ]
      },
      {
       "output_type": "stream",
       "stream": "stdout",
       "text": [
        "\r",
        "18% [======>                                ] 51,060,430   710KB/s  eta 3m 10s "
       ]
      },
      {
       "output_type": "stream",
       "stream": "stdout",
       "text": [
        "\r",
        "18% [======>                                ] 51,190,750   701KB/s  eta 3m 10s "
       ]
      },
      {
       "output_type": "stream",
       "stream": "stdout",
       "text": [
        "\r",
        "18% [======>                                ] 51,325,414   695KB/s  eta 3m 10s "
       ]
      },
      {
       "output_type": "stream",
       "stream": "stdout",
       "text": [
        "\r",
        "18% [======>                                ] 51,516,550   695KB/s  eta 3m 10s "
       ]
      },
      {
       "output_type": "stream",
       "stream": "stdout",
       "text": [
        "\r",
        "18% [======>                                ] 51,712,030   696KB/s  eta 3m 11s "
       ]
      },
      {
       "output_type": "stream",
       "stream": "stdout",
       "text": [
        "\r",
        "18% [======>                                ] 51,907,510   699KB/s  eta 3m 11s "
       ]
      },
      {
       "output_type": "stream",
       "stream": "stdout",
       "text": [
        "\r",
        "18% [======>                                ] 52,116,022   702KB/s  eta 3m 11s "
       ]
      },
      {
       "output_type": "stream",
       "stream": "stdout",
       "text": [
        "\r",
        "18% [======>                                ] 52,363,630   714KB/s  eta 3m 11s "
       ]
      },
      {
       "output_type": "stream",
       "stream": "stdout",
       "text": [
        "\r",
        "18% [======>                                ] 52,624,270   729KB/s  eta 3m 11s "
       ]
      },
      {
       "output_type": "stream",
       "stream": "stdout",
       "text": [
        "\r",
        "18% [======>                                ] 52,884,910   749KB/s  eta 3m 10s "
       ]
      },
      {
       "output_type": "stream",
       "stream": "stdout",
       "text": [
        "\r",
        "19% [======>                                ] 53,210,710   779KB/s  eta 3m 10s "
       ]
      },
      {
       "output_type": "stream",
       "stream": "stdout",
       "text": [
        "\r",
        "19% [======>                                ] 53,495,966   800KB/s  eta 3m 10s "
       ]
      },
      {
       "output_type": "stream",
       "stream": "stdout",
       "text": [
        "\r",
        "19% [======>                                ] 53,888,374   849KB/s  eta 3m 10s "
       ]
      },
      {
       "output_type": "stream",
       "stream": "stdout",
       "text": [
        "\r",
        "19% [======>                                ] 54,253,270   885KB/s  eta 3m 10s "
       ]
      },
      {
       "output_type": "stream",
       "stream": "stdout",
       "text": [
        "\r",
        "19% [======>                                ] 54,678,982   946KB/s  eta 3m 7s  "
       ]
      },
      {
       "output_type": "stream",
       "stream": "stdout",
       "text": [
        "\r",
        "19% [======>                                ] 55,165,510  1002KB/s  eta 3m 7s  "
       ]
      },
      {
       "output_type": "stream",
       "stream": "stdout",
       "text": [
        "\r",
        "19% [======>                                ] 55,686,790  1.11MB/s  eta 3m 7s  "
       ]
      },
      {
       "output_type": "stream",
       "stream": "stdout",
       "text": [
        "\r",
        "20% [======>                                ] 56,229,790  1.23MB/s  eta 3m 7s  "
       ]
      },
      {
       "output_type": "stream",
       "stream": "stdout",
       "text": [
        "\r",
        "20% [======>                                ] 56,859,670  1.36MB/s  eta 3m 7s  "
       ]
      },
      {
       "output_type": "stream",
       "stream": "stdout",
       "text": [
        "\r",
        "20% [=======>                               ] 57,576,430  1.56MB/s  eta 3m 0s  "
       ]
      },
      {
       "output_type": "stream",
       "stream": "stdout",
       "text": [
        "\r",
        "20% [=======>                               ] 58,362,694  1.71MB/s  eta 3m 0s  "
       ]
      },
      {
       "output_type": "stream",
       "stream": "stdout",
       "text": [
        "\r",
        "21% [=======>                               ] 59,244,030  1.89MB/s  eta 3m 0s  "
       ]
      },
      {
       "output_type": "stream",
       "stream": "stdout",
       "text": [
        "\r",
        "21% [=======>                               ] 59,438,062  1.91MB/s  eta 3m 0s  "
       ]
      },
      {
       "output_type": "stream",
       "stream": "stdout",
       "text": [
        "\r",
        "21% [=======>                               ] 59,587,206  1.90MB/s  eta 3m 0s  "
       ]
      },
      {
       "output_type": "stream",
       "stream": "stdout",
       "text": [
        "\r",
        "21% [=======>                               ] 59,739,246  1.88MB/s  eta 2m 56s "
       ]
      },
      {
       "output_type": "stream",
       "stream": "stdout",
       "text": [
        "\r",
        "21% [=======>                               ] 59,891,286  1.85MB/s  eta 2m 56s "
       ]
      },
      {
       "output_type": "stream",
       "stream": "stdout",
       "text": [
        "\r",
        "21% [=======>                               ] 59,943,910  1.80MB/s  eta 2m 56s "
       ]
      },
      {
       "output_type": "stream",
       "stream": "stdout",
       "text": [
        "\r",
        "21% [=======>                               ] 59,954,046  1.74MB/s  eta 2m 56s "
       ]
      },
      {
       "output_type": "stream",
       "stream": "stdout",
       "text": [
        "\r",
        "21% [=======>                               ] 59,964,182  1.66MB/s  eta 2m 56s "
       ]
      },
      {
       "output_type": "stream",
       "stream": "stdout",
       "text": [
        "\r",
        "21% [=======>                               ] 59,972,870  1.58MB/s  eta 2m 59s "
       ]
      },
      {
       "output_type": "stream",
       "stream": "stdout",
       "text": [
        "\r",
        "21% [=======>                               ] 59,987,350  1.50MB/s  eta 2m 59s "
       ]
      },
      {
       "output_type": "stream",
       "stream": "stdout",
       "text": [
        "\r",
        "21% [=======>                               ] 60,006,174  1.40MB/s  eta 2m 59s "
       ]
      },
      {
       "output_type": "stream",
       "stream": "stdout",
       "text": [
        "\r",
        "21% [=======>                               ] 60,023,550  1.29MB/s  eta 2m 59s "
       ]
      },
      {
       "output_type": "stream",
       "stream": "stdout",
       "text": [
        "\r",
        "21% [=======>                               ] 60,045,270  1.16MB/s  eta 2m 59s "
       ]
      },
      {
       "output_type": "stream",
       "stream": "stdout",
       "text": [
        "\r",
        "21% [=======>                               ] 60,062,646  1.08MB/s  eta 3m 2s  "
       ]
      },
      {
       "output_type": "stream",
       "stream": "stdout",
       "text": [
        "\r",
        "21% [=======>                               ] 60,088,710   966KB/s  eta 3m 2s  "
       ]
      },
      {
       "output_type": "stream",
       "stream": "stdout",
       "text": [
        "\r",
        "21% [=======>                               ] 60,113,326   878KB/s  eta 3m 2s  "
       ]
      },
      {
       "output_type": "stream",
       "stream": "stdout",
       "text": [
        "\r",
        "21% [=======>                               ] 60,136,494   734KB/s  eta 3m 2s  "
       ]
      },
      {
       "output_type": "stream",
       "stream": "stdout",
       "text": [
        "\r",
        "21% [=======>                               ] 60,164,006   626KB/s  eta 3m 2s  "
       ]
      },
      {
       "output_type": "stream",
       "stream": "stdout",
       "text": [
        "\r",
        "21% [=======>                               ] 60,204,550   485KB/s  eta 3m 5s  "
       ]
      },
      {
       "output_type": "stream",
       "stream": "stdout",
       "text": [
        "\r",
        "21% [=======>                               ] 60,247,990   345KB/s  eta 3m 5s  "
       ]
      },
      {
       "output_type": "stream",
       "stream": "stdout",
       "text": [
        "\r",
        "21% [=======>                               ] 60,297,222   232KB/s  eta 3m 5s  "
       ]
      },
      {
       "output_type": "stream",
       "stream": "stdout",
       "text": [
        "\r",
        "21% [=======>                               ] 60,350,798   214KB/s  eta 3m 5s  "
       ]
      },
      {
       "output_type": "stream",
       "stream": "stdout",
       "text": [
        "\r",
        "21% [=======>                               ] 60,413,062   193KB/s  eta 3m 5s  "
       ]
      },
      {
       "output_type": "stream",
       "stream": "stdout",
       "text": [
        "\r",
        "21% [=======>                               ] 60,475,326   172KB/s  eta 3m 8s  "
       ]
      },
      {
       "output_type": "stream",
       "stream": "stdout",
       "text": [
        "\r",
        "21% [=======>                               ] 60,556,414   156KB/s  eta 3m 8s  "
       ]
      },
      {
       "output_type": "stream",
       "stream": "stdout",
       "text": [
        "\r",
        "21% [=======>                               ] 60,638,950   163KB/s  eta 3m 8s  "
       ]
      },
      {
       "output_type": "stream",
       "stream": "stdout",
       "text": [
        "\r",
        "21% [=======>                               ] 60,751,894   186KB/s  eta 3m 8s  "
       ]
      },
      {
       "output_type": "stream",
       "stream": "stdout",
       "text": [
        "\r",
        "21% [=======>                               ] 60,870,630   212KB/s  eta 3m 8s  "
       ]
      },
      {
       "output_type": "stream",
       "stream": "stdout",
       "text": [
        "\r",
        "21% [=======>                               ] 60,986,470   236KB/s  eta 3m 10s "
       ]
      },
      {
       "output_type": "stream",
       "stream": "stdout",
       "text": [
        "\r",
        "21% [=======>                               ] 61,122,582   264KB/s  eta 3m 10s "
       ]
      },
      {
       "output_type": "stream",
       "stream": "stdout",
       "text": [
        "\r",
        "21% [=======>                               ] 61,290,550   299KB/s  eta 3m 10s "
       ]
      },
      {
       "output_type": "stream",
       "stream": "stdout",
       "text": [
        "\r",
        "21% [=======>                               ] 61,486,030   339KB/s  eta 3m 10s "
       ]
      },
      {
       "output_type": "stream",
       "stream": "stdout",
       "text": [
        "\r",
        "22% [=======>                               ] 61,681,510   379KB/s  eta 3m 10s "
       ]
      },
      {
       "output_type": "stream",
       "stream": "stdout",
       "text": [
        "\r",
        "22% [=======>                               ] 61,843,190   411KB/s  eta 3m 10s "
       ]
      },
      {
       "output_type": "stream",
       "stream": "stdout",
       "text": [
        "\r",
        "22% [=======>                               ] 61,968,214   434KB/s  eta 3m 10s "
       ]
      },
      {
       "output_type": "stream",
       "stream": "stdout",
       "text": [
        "\r",
        "22% [=======>                               ] 61,979,798   431KB/s  eta 3m 10s "
       ]
      },
      {
       "output_type": "stream",
       "stream": "stdout",
       "text": [
        "\r",
        "22% [=======>                               ] 62,001,518   431KB/s  eta 3m 10s "
       ]
      },
      {
       "output_type": "stream",
       "stream": "stdout",
       "text": [
        "\r",
        "22% [=======>                               ] 62,063,782   438KB/s  eta 3m 10s "
       ]
      },
      {
       "output_type": "stream",
       "stream": "stdout",
       "text": [
        "\r",
        "22% [=======>                               ] 62,202,790   462KB/s  eta 3m 13s "
       ]
      },
      {
       "output_type": "stream",
       "stream": "stdout",
       "text": [
        "\r",
        "22% [=======>                               ] 62,347,590   485KB/s  eta 3m 13s "
       ]
      },
      {
       "output_type": "stream",
       "stream": "stdout",
       "text": [
        "\r",
        "22% [=======>                               ] 62,528,590   515KB/s  eta 3m 13s "
       ]
      },
      {
       "output_type": "stream",
       "stream": "stdout",
       "text": [
        "\r",
        "22% [=======>                               ] 62,724,070   548KB/s  eta 3m 13s "
       ]
      },
      {
       "output_type": "stream",
       "stream": "stdout",
       "text": [
        "\r",
        "22% [=======>                               ] 62,919,550   578KB/s  eta 3m 13s "
       ]
      },
      {
       "output_type": "stream",
       "stream": "stdout",
       "text": [
        "\r",
        "22% [=======>                               ] 63,130,958   612KB/s  eta 3m 12s "
       ]
      },
      {
       "output_type": "stream",
       "stream": "stdout",
       "text": [
        "\r",
        "22% [=======>                               ] 63,375,670   649KB/s  eta 3m 12s "
       ]
      },
      {
       "output_type": "stream",
       "stream": "stdout",
       "text": [
        "\r",
        "22% [=======>                               ] 63,636,310   688KB/s  eta 3m 12s "
       ]
      },
      {
       "output_type": "stream",
       "stream": "stdout",
       "text": [
        "\r",
        "22% [=======>                               ] 63,896,950   723KB/s  eta 3m 12s "
       ]
      },
      {
       "output_type": "stream",
       "stream": "stdout",
       "text": [
        "\r",
        "22% [=======>                               ] 64,157,590   754KB/s  eta 3m 12s "
       ]
      },
      {
       "output_type": "stream",
       "stream": "stdout",
       "text": [
        "\r",
        "23% [=======>                               ] 64,483,390   802KB/s  eta 3m 11s "
       ]
      },
      {
       "output_type": "stream",
       "stream": "stdout",
       "text": [
        "\r",
        "23% [========>                              ] 64,874,350   860KB/s  eta 3m 11s "
       ]
      },
      {
       "output_type": "stream",
       "stream": "stdout",
       "text": [
        "\r",
        "23% [========>                              ] 65,265,310   912KB/s  eta 3m 11s "
       ]
      },
      {
       "output_type": "stream",
       "stream": "stdout",
       "text": [
        "\r",
        "23% [========>                              ] 65,656,270   962KB/s  eta 3m 11s "
       ]
      },
      {
       "output_type": "stream",
       "stream": "stdout",
       "text": [
        "\r",
        "23% [========>                              ] 66,112,390  1.01MB/s  eta 3m 11s "
       ]
      },
      {
       "output_type": "stream",
       "stream": "stdout",
       "text": [
        "\r",
        "23% [========>                              ] 66,633,670  1.10MB/s  eta 3m 6s  "
       ]
      },
      {
       "output_type": "stream",
       "stream": "stdout",
       "text": [
        "\r",
        "23% [========>                              ] 67,139,974  1.24MB/s  eta 3m 6s  "
       ]
      },
      {
       "output_type": "stream",
       "stream": "stdout",
       "text": [
        "\r",
        "24% [========>                              ] 67,435,366  1.30MB/s  eta 3m 6s  "
       ]
      },
      {
       "output_type": "stream",
       "stream": "stdout",
       "text": [
        "\r",
        "24% [========>                              ] 67,469,166  1.27MB/s  eta 3m 6s  "
       ]
      },
      {
       "output_type": "stream",
       "stream": "stdout",
       "text": [
        "\r",
        "24% [========>                              ] 67,487,990  1.24MB/s  eta 3m 6s  "
       ]
      },
      {
       "output_type": "stream",
       "stream": "stdout",
       "text": [
        "\r",
        "24% [========>                              ] 67,531,430  1.21MB/s  eta 3m 7s  "
       ]
      },
      {
       "output_type": "stream",
       "stream": "stdout",
       "text": [
        "\r",
        "24% [========>                              ] 67,645,822  1.19MB/s  eta 3m 7s  "
       ]
      },
      {
       "output_type": "stream",
       "stream": "stdout",
       "text": [
        "\r",
        "24% [========>                              ] 67,770,350  1.17MB/s  eta 3m 7s  "
       ]
      },
      {
       "output_type": "stream",
       "stream": "stdout",
       "text": [
        "\r",
        "24% [========>                              ] 68,067,190  1.19MB/s  eta 3m 7s  "
       ]
      },
      {
       "output_type": "stream",
       "stream": "stdout",
       "text": [
        "\r",
        "24% [========>                              ] 68,458,150  1.23MB/s  eta 3m 7s  "
       ]
      },
      {
       "output_type": "stream",
       "stream": "stdout",
       "text": [
        "\r",
        "24% [========>                              ] 68,849,110  1.27MB/s  eta 3m 5s  "
       ]
      },
      {
       "output_type": "stream",
       "stream": "stdout",
       "text": [
        "\r",
        "24% [========>                              ] 69,240,070  1.30MB/s  eta 3m 5s  "
       ]
      },
      {
       "output_type": "stream",
       "stream": "stdout",
       "text": [
        "\r",
        "24% [========>                              ] 69,631,030  1.30MB/s  eta 3m 5s  "
       ]
      },
      {
       "output_type": "stream",
       "stream": "stdout",
       "text": [
        "\r",
        "25% [========>                              ] 70,021,990  1.31MB/s  eta 3m 5s  "
       ]
      },
      {
       "output_type": "stream",
       "stream": "stdout",
       "text": [
        "\r",
        "25% [========>                              ] 70,412,950  1.31MB/s  eta 3m 5s  "
       ]
      },
      {
       "output_type": "stream",
       "stream": "stdout",
       "text": [
        "\r",
        "25% [========>                              ] 70,803,910  1.28MB/s  eta 3m 2s  "
       ]
      },
      {
       "output_type": "stream",
       "stream": "stdout",
       "text": [
        "\r",
        "25% [========>                              ] 71,194,870  1.29MB/s  eta 3m 2s  "
       ]
      },
      {
       "output_type": "stream",
       "stream": "stdout",
       "text": [
        "\r",
        "25% [========>                              ] 71,585,830  1.27MB/s  eta 3m 2s  "
       ]
      },
      {
       "output_type": "stream",
       "stream": "stdout",
       "text": [
        "\r",
        "25% [=========>                             ] 71,919,822  1.26MB/s  eta 3m 2s  "
       ]
      },
      {
       "output_type": "stream",
       "stream": "stdout",
       "text": [
        "\r",
        "25% [=========>                             ] 72,432,910  1.34MB/s  eta 3m 2s  "
       ]
      },
      {
       "output_type": "stream",
       "stream": "stdout",
       "text": [
        "\r",
        "26% [=========>                             ] 72,823,870  1.44MB/s  eta 2m 58s "
       ]
      },
      {
       "output_type": "stream",
       "stream": "stdout",
       "text": [
        "\r",
        "26% [=========>                             ] 73,002,926  1.48MB/s  eta 2m 58s "
       ]
      },
      {
       "output_type": "stream",
       "stream": "stdout",
       "text": [
        "\r",
        "26% [=========>                             ] 73,062,790  1.48MB/s  eta 2m 58s "
       ]
      },
      {
       "output_type": "stream",
       "stream": "stdout",
       "text": [
        "\r",
        "26% [=========>                             ] 73,074,374  1.45MB/s  eta 2m 58s "
       ]
      },
      {
       "output_type": "stream",
       "stream": "stdout",
       "text": [
        "\r",
        "26% [=========>                             ] 73,103,334  1.42MB/s  eta 2m 58s "
       ]
      },
      {
       "output_type": "stream",
       "stream": "stdout",
       "text": [
        "\r",
        "26% [=========>                             ] 73,184,422  1.31MB/s  eta 3m 0s  "
       ]
      },
      {
       "output_type": "stream",
       "stream": "stdout",
       "text": [
        "\r",
        "26% [=========>                             ] 73,345,150  1.28MB/s  eta 3m 0s  "
       ]
      },
      {
       "output_type": "stream",
       "stream": "stdout",
       "text": [
        "\r",
        "26% [=========>                             ] 73,605,790  1.26MB/s  eta 3m 0s  "
       ]
      },
      {
       "output_type": "stream",
       "stream": "stdout",
       "text": [
        "\r",
        "26% [=========>                             ] 73,880,910  1.23MB/s  eta 3m 0s  "
       ]
      },
      {
       "output_type": "stream",
       "stream": "stdout",
       "text": [
        "\r",
        "26% [=========>                             ] 74,192,230  1.22MB/s  eta 3m 0s  "
       ]
      },
      {
       "output_type": "stream",
       "stream": "stdout",
       "text": [
        "\r",
        "26% [=========>                             ] 74,480,382  1.18MB/s  eta 2m 58s "
       ]
      },
      {
       "output_type": "stream",
       "stream": "stdout",
       "text": [
        "\r",
        "26% [=========>                             ] 74,843,830  1.18MB/s  eta 2m 58s "
       ]
      },
      {
       "output_type": "stream",
       "stream": "stdout",
       "text": [
        "\r",
        "26% [=========>                             ] 75,253,614  1.20MB/s  eta 2m 58s "
       ]
      },
      {
       "output_type": "stream",
       "stream": "stdout",
       "text": [
        "\r",
        "26% [=========>                             ] 75,514,254  1.15MB/s  eta 2m 58s "
       ]
      },
      {
       "output_type": "stream",
       "stream": "stdout",
       "text": [
        "\r",
        "27% [=========>                             ] 75,821,230  1.13MB/s  eta 2m 58s "
       ]
      },
      {
       "output_type": "stream",
       "stream": "stdout",
       "text": [
        "\r",
        "27% [=========>                             ] 76,147,030  1.12MB/s  eta 2m 56s "
       ]
      },
      {
       "output_type": "stream",
       "stream": "stdout",
       "text": [
        "\r",
        "27% [=========>                             ] 76,433,734  1.07MB/s  eta 2m 56s "
       ]
      },
      {
       "output_type": "stream",
       "stream": "stdout",
       "text": [
        "\r",
        "27% [=========>                             ] 76,798,630  1.06MB/s  eta 2m 56s "
       ]
      },
      {
       "output_type": "stream",
       "stream": "stdout",
       "text": [
        "\r",
        "27% [=========>                             ] 77,072,302  1.07MB/s  eta 2m 56s "
       ]
      },
      {
       "output_type": "stream",
       "stream": "stdout",
       "text": [
        "\r",
        "27% [=========>                             ] 77,450,230  1.11MB/s  eta 2m 56s "
       ]
      },
      {
       "output_type": "stream",
       "stream": "stdout",
       "text": [
        "\r",
        "27% [=========>                             ] 77,841,190  1.28MB/s  eta 2m 54s "
       ]
      },
      {
       "output_type": "stream",
       "stream": "stdout",
       "text": [
        "\r",
        "27% [=========>                             ] 78,232,150  1.37MB/s  eta 2m 54s "
       ]
      },
      {
       "output_type": "stream",
       "stream": "stdout",
       "text": [
        "\r",
        "28% [=========>                             ] 78,623,110  1.45MB/s  eta 2m 54s "
       ]
      },
      {
       "output_type": "stream",
       "stream": "stdout",
       "text": [
        "\r",
        "28% [==========>                            ] 79,014,070  1.51MB/s  eta 2m 54s "
       ]
      },
      {
       "output_type": "stream",
       "stream": "stdout",
       "text": [
        "\r",
        "28% [==========>                            ] 79,405,030  1.53MB/s  eta 2m 54s "
       ]
      },
      {
       "output_type": "stream",
       "stream": "stdout",
       "text": [
        "\r",
        "28% [==========>                            ] 79,795,990  1.54MB/s  eta 2m 50s "
       ]
      },
      {
       "output_type": "stream",
       "stream": "stdout",
       "text": [
        "\r",
        "28% [==========>                            ] 80,186,950  1.57MB/s  eta 2m 50s "
       ]
      },
      {
       "output_type": "stream",
       "stream": "stdout",
       "text": [
        "\r",
        "28% [==========>                            ] 80,577,910  1.59MB/s  eta 2m 50s "
       ]
      },
      {
       "output_type": "stream",
       "stream": "stdout",
       "text": [
        "\r",
        "28% [==========>                            ] 80,968,870  1.59MB/s  eta 2m 50s "
       ]
      },
      {
       "output_type": "stream",
       "stream": "stdout",
       "text": [
        "\r",
        "29% [==========>                            ] 81,359,830  1.62MB/s  eta 2m 50s "
       ]
      },
      {
       "output_type": "stream",
       "stream": "stdout",
       "text": [
        "\r",
        "29% [==========>                            ] 81,768,166  1.65MB/s  eta 2m 47s "
       ]
      },
      {
       "output_type": "stream",
       "stream": "stdout",
       "text": [
        "\r",
        "29% [==========>                            ] 82,159,126  1.67MB/s  eta 2m 47s "
       ]
      },
      {
       "output_type": "stream",
       "stream": "stdout",
       "text": [
        "\r",
        "29% [==========>                            ] 82,545,742  1.71MB/s  eta 2m 47s "
       ]
      },
      {
       "output_type": "stream",
       "stream": "stdout",
       "text": [
        "\r",
        "29% [==========>                            ] 82,923,670  1.73MB/s  eta 2m 47s "
       ]
      },
      {
       "output_type": "stream",
       "stream": "stdout",
       "text": [
        "\r",
        "29% [==========>                            ] 83,314,630  1.75MB/s  eta 2m 47s "
       ]
      },
      {
       "output_type": "stream",
       "stream": "stdout",
       "text": [
        "\r",
        "29% [==========>                            ] 83,705,590  1.75MB/s  eta 2m 44s "
       ]
      },
      {
       "output_type": "stream",
       "stream": "stdout",
       "text": [
        "\r",
        "30% [==========>                            ] 84,096,550  1.75MB/s  eta 2m 44s "
       ]
      },
      {
       "output_type": "stream",
       "stream": "stdout",
       "text": [
        "\r",
        "30% [==========>                            ] 84,487,510  1.75MB/s  eta 2m 44s "
       ]
      },
      {
       "output_type": "stream",
       "stream": "stdout",
       "text": [
        "\r",
        "30% [==========>                            ] 84,878,470  1.74MB/s  eta 2m 44s "
       ]
      },
      {
       "output_type": "stream",
       "stream": "stdout",
       "text": [
        "\r",
        "30% [==========>                            ] 85,269,430  1.75MB/s  eta 2m 44s "
       ]
      },
      {
       "output_type": "stream",
       "stream": "stdout",
       "text": [
        "\r",
        "30% [==========>                            ] 85,660,390  1.74MB/s  eta 2m 41s "
       ]
      },
      {
       "output_type": "stream",
       "stream": "stdout",
       "text": [
        "\r",
        "30% [==========>                            ] 86,052,798  1.74MB/s  eta 2m 41s "
       ]
      },
      {
       "output_type": "stream",
       "stream": "stdout",
       "text": [
        "\r",
        "30% [===========>                           ] 86,456,790  1.76MB/s  eta 2m 41s "
       ]
      },
      {
       "output_type": "stream",
       "stream": "stdout",
       "text": [
        "\r",
        "31% [===========>                           ] 86,854,990  1.76MB/s  eta 2m 41s "
       ]
      },
      {
       "output_type": "stream",
       "stream": "stdout",
       "text": [
        "\r",
        "31% [===========>                           ] 87,202,510  1.77MB/s  eta 2m 41s "
       ]
      },
      {
       "output_type": "stream",
       "stream": "stdout",
       "text": [
        "\r",
        "31% [===========>                           ] 87,621,934  1.78MB/s  eta 2m 38s "
       ]
      },
      {
       "output_type": "stream",
       "stream": "stdout",
       "text": [
        "\r",
        "31% [===========>                           ] 88,010,494  1.77MB/s  eta 2m 38s "
       ]
      },
      {
       "output_type": "stream",
       "stream": "stdout",
       "text": [
        "\r",
        "31% [===========>                           ] 88,418,830  1.77MB/s  eta 2m 38s "
       ]
      },
      {
       "output_type": "stream",
       "stream": "stdout",
       "text": [
        "\r",
        "31% [===========>                           ] 88,797,710  1.78MB/s  eta 2m 38s "
       ]
      },
      {
       "output_type": "stream",
       "stream": "stdout",
       "text": [
        "\r",
        "31% [===========>                           ] 89,124,006  1.76MB/s  eta 2m 38s "
       ]
      },
      {
       "output_type": "stream",
       "stream": "stdout",
       "text": [
        "\r",
        "32% [===========>                           ] 89,574,334  1.79MB/s  eta 2m 36s "
       ]
      },
      {
       "output_type": "stream",
       "stream": "stdout",
       "text": [
        "\r",
        "32% [===========>                           ] 89,966,742  1.78MB/s  eta 2m 36s "
       ]
      },
      {
       "output_type": "stream",
       "stream": "stdout",
       "text": [
        "\r",
        "32% [===========>                           ] 90,369,286  1.78MB/s  eta 2m 36s "
       ]
      },
      {
       "output_type": "stream",
       "stream": "stdout",
       "text": [
        "\r",
        "32% [===========>                           ] 90,873,190  1.80MB/s  eta 2m 36s "
       ]
      },
      {
       "output_type": "stream",
       "stream": "stdout",
       "text": [
        "\r",
        "32% [===========>                           ] 91,400,262  1.83MB/s  eta 2m 36s "
       ]
      },
      {
       "output_type": "stream",
       "stream": "stdout",
       "text": [
        "\r",
        "32% [===========>                           ] 91,917,198  1.85MB/s  eta 2m 32s "
       ]
      },
      {
       "output_type": "stream",
       "stream": "stdout",
       "text": [
        "\r",
        "33% [===========>                           ] 92,439,926  1.89MB/s  eta 2m 32s "
       ]
      },
      {
       "output_type": "stream",
       "stream": "stdout",
       "text": [
        "\r",
        "33% [===========>                           ] 92,827,990  1.89MB/s  eta 2m 32s "
       ]
      },
      {
       "output_type": "stream",
       "stream": "stdout",
       "text": [
        "\r",
        "33% [============>                          ] 93,352,166  1.91MB/s  eta 2m 32s "
       ]
      },
      {
       "output_type": "stream",
       "stream": "stdout",
       "text": [
        "\r",
        "33% [============>                          ] 93,876,342  1.94MB/s  eta 2m 32s "
       ]
      },
      {
       "output_type": "stream",
       "stream": "stdout",
       "text": [
        "\r",
        "33% [============>                          ] 94,398,574  1.97MB/s  eta 2m 28s "
       ]
      },
      {
       "output_type": "stream",
       "stream": "stdout",
       "text": [
        "\r",
        "33% [============>                          ] 94,984,062  2.03MB/s  eta 2m 28s "
       ]
      },
      {
       "output_type": "stream",
       "stream": "stdout",
       "text": [
        "\r",
        "34% [============>                          ] 95,634,214  2.08MB/s  eta 2m 28s "
       ]
      },
      {
       "output_type": "stream",
       "stream": "stdout",
       "text": [
        "\r",
        "34% [============>                          ] 96,285,814  2.16MB/s  eta 2m 28s "
       ]
      },
      {
       "output_type": "stream",
       "stream": "stdout",
       "text": [
        "\r",
        "34% [============>                          ] 96,875,150  2.22MB/s  eta 2m 28s "
       ]
      },
      {
       "output_type": "stream",
       "stream": "stdout",
       "text": [
        "\r",
        "34% [============>                          ] 97,460,142  2.28MB/s  eta 2m 23s "
       ]
      },
      {
       "output_type": "stream",
       "stream": "stdout",
       "text": [
        "\r",
        "35% [============>                          ] 98,200,070  2.36MB/s  eta 2m 23s "
       ]
      },
      {
       "output_type": "stream",
       "stream": "stdout",
       "text": [
        "\r",
        "35% [============>                          ] 98,990,678  2.48MB/s  eta 2m 23s "
       ]
      },
      {
       "output_type": "stream",
       "stream": "stdout",
       "text": [
        "\r",
        "35% [============>                          ] 99,804,454  2.59MB/s  eta 2m 23s "
       ]
      },
      {
       "output_type": "stream",
       "stream": "stdout",
       "text": [
        "\r",
        "35% [=============>                         ] 100,659,726 2.71MB/s  eta 2m 23s "
       ]
      },
      {
       "output_type": "stream",
       "stream": "stdout",
       "text": [
        "\r",
        "36% [=============>                         ] 101,500,062 2.85MB/s  eta 2m 16s "
       ]
      },
      {
       "output_type": "stream",
       "stream": "stdout",
       "text": [
        "\r",
        "36% [=============>                         ] 102,394,430 2.96MB/s  eta 2m 16s "
       ]
      },
      {
       "output_type": "stream",
       "stream": "stdout",
       "text": [
        "\r",
        "36% [=============>                         ] 103,288,342 3.10MB/s  eta 2m 16s "
       ]
      },
      {
       "output_type": "stream",
       "stream": "stdout",
       "text": [
        "\r",
        "37% [=============>                         ] 104,167,278 3.27MB/s  eta 2m 16s "
       ]
      },
      {
       "output_type": "stream",
       "stream": "stdout",
       "text": [
        "\r",
        "37% [=============>                         ] 105,025,942 3.34MB/s  eta 2m 16s "
       ]
      },
      {
       "output_type": "stream",
       "stream": "stdout",
       "text": [
        "\r",
        "37% [=============>                         ] 105,994,654 3.50MB/s  eta 2m 9s  "
       ]
      },
      {
       "output_type": "stream",
       "stream": "stdout",
       "text": [
        "\r",
        "38% [=============>                         ] 106,932,462 3.68MB/s  eta 2m 9s  "
       ]
      },
      {
       "output_type": "stream",
       "stream": "stdout",
       "text": [
        "\r",
        "38% [==============>                        ] 107,821,534 3.72MB/s  eta 2m 9s  "
       ]
      },
      {
       "output_type": "stream",
       "stream": "stdout",
       "text": [
        "\r",
        "38% [==============>                        ] 108,712,550 3.80MB/s  eta 2m 9s  "
       ]
      },
      {
       "output_type": "stream",
       "stream": "stdout",
       "text": [
        "\r",
        "39% [==============>                        ] 109,648,910 3.91MB/s  eta 2m 9s  "
       ]
      },
      {
       "output_type": "stream",
       "stream": "stdout",
       "text": [
        "\r",
        "39% [==============>                        ] 110,500,830 4.03MB/s  eta 2m 2s  "
       ]
      },
      {
       "output_type": "stream",
       "stream": "stdout",
       "text": [
        "\r",
        "39% [==============>                        ] 111,331,982 4.07MB/s  eta 2m 2s  "
       ]
      },
      {
       "output_type": "stream",
       "stream": "stdout",
       "text": [
        "\r",
        "40% [==============>                        ] 112,250,014 4.15MB/s  eta 2m 2s  "
       ]
      },
      {
       "output_type": "stream",
       "stream": "stdout",
       "text": [
        "\r",
        "40% [==============>                        ] 112,404,950 3.93MB/s  eta 2m 2s  "
       ]
      },
      {
       "output_type": "stream",
       "stream": "stdout",
       "text": [
        "\r",
        "40% [==============>                        ] 112,555,542 3.71MB/s  eta 2m 2s  "
       ]
      },
      {
       "output_type": "stream",
       "stream": "stdout",
       "text": [
        "\r",
        "40% [==============>                        ] 112,707,582 3.52MB/s  eta 2m 0s  "
       ]
      },
      {
       "output_type": "stream",
       "stream": "stdout",
       "text": [
        "\r",
        "40% [==============>                        ] 112,765,502 3.29MB/s  eta 2m 0s  "
       ]
      },
      {
       "output_type": "stream",
       "stream": "stdout",
       "text": [
        "\r",
        "40% [==============>                        ] 112,781,430 3.04MB/s  eta 2m 0s  "
       ]
      },
      {
       "output_type": "stream",
       "stream": "stdout",
       "text": [
        "\r",
        "40% [==============>                        ] 112,807,494 2.81MB/s  eta 2m 0s  "
       ]
      },
      {
       "output_type": "stream",
       "stream": "stdout",
       "text": [
        "\r",
        "40% [==============>                        ] 112,874,102 2.61MB/s  eta 2m 0s  "
       ]
      },
      {
       "output_type": "stream",
       "stream": "stdout",
       "text": [
        "\r",
        "40% [==============>                        ] 113,027,590 2.43MB/s  eta 2m 1s  "
       ]
      },
      {
       "output_type": "stream",
       "stream": "stdout",
       "text": [
        "\r",
        "40% [==============>                        ] 113,418,550 2.30MB/s  eta 2m 1s  "
       ]
      },
      {
       "output_type": "stream",
       "stream": "stdout",
       "text": [
        "\r",
        "40% [==============>                        ] 113,939,830 2.22MB/s  eta 2m 1s  "
       ]
      },
      {
       "output_type": "stream",
       "stream": "stdout",
       "text": [
        "\r",
        "40% [==============>                        ] 114,488,622 2.16MB/s  eta 2m 1s  "
       ]
      },
      {
       "output_type": "stream",
       "stream": "stdout",
       "text": [
        "\r",
        "41% [===============>                       ] 115,147,462 2.02MB/s  eta 2m 1s  "
       ]
      },
      {
       "output_type": "stream",
       "stream": "stdout",
       "text": [
        "\r",
        "41% [===============>                       ] 115,699,150 1.94MB/s  eta 1m 57s "
       ]
      },
      {
       "output_type": "stream",
       "stream": "stdout",
       "text": [
        "\r",
        "41% [===============>                       ] 116,189,526 1.86MB/s  eta 1m 57s "
       ]
      },
      {
       "output_type": "stream",
       "stream": "stdout",
       "text": [
        "\r",
        "41% [===============>                       ] 116,759,086 1.71MB/s  eta 1m 57s "
       ]
      },
      {
       "output_type": "stream",
       "stream": "stdout",
       "text": [
        "\r",
        "41% [===============>                       ] 117,235,478 1.63MB/s  eta 1m 57s "
       ]
      },
      {
       "output_type": "stream",
       "stream": "stdout",
       "text": [
        "\r",
        "42% [===============>                       ] 117,749,022 1.55MB/s  eta 1m 57s "
       ]
      },
      {
       "output_type": "stream",
       "stream": "stdout",
       "text": [
        "\r",
        "42% [===============>                       ] 118,309,894 1.57MB/s  eta 1m 54s "
       ]
      },
      {
       "output_type": "stream",
       "stream": "stdout",
       "text": [
        "\r",
        "42% [===============>                       ] 118,787,238 1.66MB/s  eta 1m 54s "
       ]
      },
      {
       "output_type": "stream",
       "stream": "stdout",
       "text": [
        "\r",
        "42% [===============>                       ] 119,352,454 1.80MB/s  eta 1m 54s "
       ]
      },
      {
       "output_type": "stream",
       "stream": "stdout",
       "text": [
        "\r",
        "42% [===============>                       ] 119,869,390 2.00MB/s  eta 1m 54s "
       ]
      },
      {
       "output_type": "stream",
       "stream": "stdout",
       "text": [
        "\r",
        "43% [===============>                       ] 120,395,014 2.13MB/s  eta 1m 54s "
       ]
      },
      {
       "output_type": "stream",
       "stream": "stdout",
       "text": [
        "\r",
        "43% [===============>                       ] 120,972,270 2.28MB/s  eta 1m 51s "
       ]
      },
      {
       "output_type": "stream",
       "stream": "stdout",
       "text": [
        "\r",
        "43% [===============>                       ] 121,305,806 2.37MB/s  eta 1m 51s "
       ]
      },
      {
       "output_type": "stream",
       "stream": "stdout",
       "text": [
        "\r",
        "43% [===============>                       ] 121,830,934 2.35MB/s  eta 1m 51s "
       ]
      },
      {
       "output_type": "stream",
       "stream": "stdout",
       "text": [
        "\r",
        "43% [================>                      ] 122,348,366 2.37MB/s  eta 1m 51s "
       ]
      },
      {
       "output_type": "stream",
       "stream": "stdout",
       "text": [
        "\r",
        "43% [================>                      ] 122,866,750 2.33MB/s  eta 1m 51s "
       ]
      },
      {
       "output_type": "stream",
       "stream": "stdout",
       "text": [
        "\r",
        "44% [================>                      ] 123,388,030 2.31MB/s  eta 1m 49s "
       ]
      },
      {
       "output_type": "stream",
       "stream": "stdout",
       "text": [
        "\r",
        "44% [================>                      ] 123,848,494 2.31MB/s  eta 1m 49s "
       ]
      },
      {
       "output_type": "stream",
       "stream": "stdout",
       "text": [
        "\r",
        "44% [================>                      ] 124,311,358 2.31MB/s  eta 1m 49s "
       ]
      },
      {
       "output_type": "stream",
       "stream": "stdout",
       "text": [
        "\r",
        "44% [================>                      ] 124,827,342 2.28MB/s  eta 1m 49s "
       ]
      },
      {
       "output_type": "stream",
       "stream": "stdout",
       "text": [
        "\r",
        "44% [================>                      ] 125,344,278 2.30MB/s  eta 1m 49s "
       ]
      },
      {
       "output_type": "stream",
       "stream": "stdout",
       "text": [
        "\r",
        "44% [================>                      ] 125,618,406 2.20MB/s  eta 1m 47s "
       ]
      },
      {
       "output_type": "stream",
       "stream": "stdout",
       "text": [
        "\r",
        "45% [================>                      ] 126,415,798 2.22MB/s  eta 1m 47s "
       ]
      },
      {
       "output_type": "stream",
       "stream": "stdout",
       "text": [
        "\r",
        "45% [================>                      ] 126,911,014 2.23MB/s  eta 1m 47s "
       ]
      },
      {
       "output_type": "stream",
       "stream": "stdout",
       "text": [
        "\r",
        "45% [================>                      ] 127,179,846 2.15MB/s  eta 1m 47s "
       ]
      },
      {
       "output_type": "stream",
       "stream": "stdout",
       "text": [
        "\r",
        "45% [================>                      ] 127,792,350 2.12MB/s  eta 1m 47s "
       ]
      },
      {
       "output_type": "stream",
       "stream": "stdout",
       "text": [
        "\r",
        "45% [================>                      ] 127,800,542 1.96MB/s  eta 1m 45s "
       ]
      },
      {
       "output_type": "stream",
       "stream": "stdout",
       "text": [
        "\r",
        "45% [================>                      ] 128,040,454 1.87MB/s  eta 1m 45s "
       ]
      },
      {
       "output_type": "stream",
       "stream": "stdout",
       "text": [
        "\r",
        "45% [================>                      ] 128,062,174 1.78MB/s  eta 1m 45s "
       ]
      },
      {
       "output_type": "stream",
       "stream": "stdout",
       "text": [
        "\r",
        "45% [================>                      ] 128,124,438 1.64MB/s  eta 1m 45s "
       ]
      },
      {
       "output_type": "stream",
       "stream": "stdout",
       "text": [
        "\r",
        "45% [================>                      ] 128,240,278 1.55MB/s  eta 1m 45s "
       ]
      },
      {
       "output_type": "stream",
       "stream": "stdout",
       "text": [
        "\r",
        "45% [================>                      ] 128,535,670 1.50MB/s  eta 1m 45s "
       ]
      },
      {
       "output_type": "stream",
       "stream": "stdout",
       "text": [
        "\r",
        "45% [================>                      ] 128,742,238 1.42MB/s  eta 1m 45s "
       ]
      },
      {
       "output_type": "stream",
       "stream": "stdout",
       "text": [
        "\r",
        "46% [=================>                     ] 129,196,910 1.42MB/s  eta 1m 45s "
       ]
      },
      {
       "output_type": "stream",
       "stream": "stdout",
       "text": [
        "\r",
        "46% [=================>                     ] 129,663,662 1.43MB/s  eta 1m 45s "
       ]
      },
      {
       "output_type": "stream",
       "stream": "stdout",
       "text": [
        "\r",
        "46% [=================>                     ] 130,056,070 1.41MB/s  eta 1m 45s "
       ]
      },
      {
       "output_type": "stream",
       "stream": "stdout",
       "text": [
        "\r",
        "46% [=================>                     ] 130,512,190 1.38MB/s  eta 1m 43s "
       ]
      },
      {
       "output_type": "stream",
       "stream": "stdout",
       "text": [
        "\r",
        "46% [=================>                     ] 131,034,918 1.38MB/s  eta 1m 43s "
       ]
      },
      {
       "output_type": "stream",
       "stream": "stdout",
       "text": [
        "\r",
        "46% [=================>                     ] 131,550,406 1.46MB/s  eta 1m 43s "
       ]
      },
      {
       "output_type": "stream",
       "stream": "stdout",
       "text": [
        "\r",
        "47% [=================>                     ] 131,954,398 1.41MB/s  eta 1m 43s "
       ]
      },
      {
       "output_type": "stream",
       "stream": "stdout",
       "text": [
        "\r",
        "47% [=================>                     ] 132,343,910 1.37MB/s  eta 1m 43s "
       ]
      },
      {
       "output_type": "stream",
       "stream": "stdout",
       "text": [
        "\r",
        "47% [=================>                     ] 132,771,070 1.41MB/s  eta 1m 41s "
       ]
      },
      {
       "output_type": "stream",
       "stream": "stdout",
       "text": [
        "\r",
        "47% [=================>                     ] 133,162,030 1.48MB/s  eta 1m 41s "
       ]
      },
      {
       "output_type": "stream",
       "stream": "stdout",
       "text": [
        "\r",
        "47% [=================>                     ] 133,618,150 1.53MB/s  eta 1m 41s "
       ]
      },
      {
       "output_type": "stream",
       "stream": "stdout",
       "text": [
        "\r",
        "47% [=================>                     ] 134,074,270 1.63MB/s  eta 1m 41s "
       ]
      },
      {
       "output_type": "stream",
       "stream": "stdout",
       "text": [
        "\r",
        "48% [=================>                     ] 134,595,550 1.80MB/s  eta 1m 41s "
       ]
      },
      {
       "output_type": "stream",
       "stream": "stdout",
       "text": [
        "\r",
        "48% [=================>                     ] 135,005,334 1.88MB/s  eta 99s    "
       ]
      },
      {
       "output_type": "stream",
       "stream": "stdout",
       "text": [
        "\r",
        "48% [=================>                     ] 135,471,510 1.95MB/s  eta 99s    "
       ]
      },
      {
       "output_type": "stream",
       "stream": "stdout",
       "text": [
        "\r",
        "48% [=================>                     ] 135,969,702 2.03MB/s  eta 99s    "
       ]
      },
      {
       "output_type": "stream",
       "stream": "stdout",
       "text": [
        "\r",
        "48% [==================>                    ] 136,429,670 2.04MB/s  eta 99s    "
       ]
      },
      {
       "output_type": "stream",
       "stream": "stdout",
       "text": [
        "\r",
        "48% [==================>                    ] 136,950,950 2.07MB/s  eta 99s    "
       ]
      },
      {
       "output_type": "stream",
       "stream": "stdout",
       "text": [
        "\r",
        "49% [==================>                    ] 137,462,590 2.11MB/s  eta 97s    "
       ]
      },
      {
       "output_type": "stream",
       "stream": "stdout",
       "text": [
        "\r",
        "49% [==================>                    ] 137,983,870 2.13MB/s  eta 97s    "
       ]
      },
      {
       "output_type": "stream",
       "stream": "stdout",
       "text": [
        "\r",
        "49% [==================>                    ] 138,182,246 1.99MB/s  eta 97s    "
       ]
      },
      {
       "output_type": "stream",
       "stream": "stdout",
       "text": [
        "\r",
        "49% [==================>                    ] 138,327,046 1.93MB/s  eta 97s    "
       ]
      },
      {
       "output_type": "stream",
       "stream": "stdout",
       "text": [
        "\r",
        "49% [==================>                    ] 138,338,630 1.79MB/s  eta 97s    "
       ]
      },
      {
       "output_type": "stream",
       "stream": "stdout",
       "text": [
        "\r",
        "49% [==================>                    ] 138,361,798 1.71MB/s  eta 97s    "
       ]
      },
      {
       "output_type": "stream",
       "stream": "stdout",
       "text": [
        "\r",
        "49% [==================>                    ] 138,416,822 1.61MB/s  eta 97s    "
       ]
      },
      {
       "output_type": "stream",
       "stream": "stdout",
       "text": [
        "\r",
        "49% [==================>                    ] 138,521,078 1.54MB/s  eta 97s    "
       ]
      },
      {
       "output_type": "stream",
       "stream": "stdout",
       "text": [
        "\r",
        "49% [==================>                    ] 138,830,950 1.52MB/s  eta 97s    "
       ]
      },
      {
       "output_type": "stream",
       "stream": "stdout",
       "text": [
        "\r",
        "49% [==================>                    ] 139,221,910 1.52MB/s  eta 97s    "
       ]
      },
      {
       "output_type": "stream",
       "stream": "stdout",
       "text": [
        "\r",
        "49% [==================>                    ] 139,612,870 1.51MB/s  eta 96s    "
       ]
      },
      {
       "output_type": "stream",
       "stream": "stdout",
       "text": [
        "\r",
        "49% [==================>                    ] 139,770,206 1.45MB/s  eta 96s    "
       ]
      },
      {
       "output_type": "stream",
       "stream": "stdout",
       "text": [
        "\r",
        "49% [==================>                    ] 139,817,038 1.32MB/s  eta 96s    "
       ]
      },
      {
       "output_type": "stream",
       "stream": "stdout",
       "text": [
        "\r",
        "49% [==================>                    ] 139,827,174 1.24MB/s  eta 96s    "
       ]
      },
      {
       "output_type": "stream",
       "stream": "stdout",
       "text": [
        "\r",
        "49% [==================>                    ] 139,853,238 1.14MB/s  eta 96s    "
       ]
      },
      {
       "output_type": "stream",
       "stream": "stdout",
       "text": [
        "\r",
        "49% [==================>                    ] 139,915,502 1.04MB/s  eta 97s    "
       ]
      },
      {
       "output_type": "stream",
       "stream": "stdout",
       "text": [
        "\r",
        "50% [==================>                    ] 140,003,830  982KB/s  eta 97s    "
       ]
      },
      {
       "output_type": "stream",
       "stream": "stdout",
       "text": [
        "\r",
        "50% [==================>                    ] 140,170,350  916KB/s  eta 97s    "
       ]
      },
      {
       "output_type": "stream",
       "stream": "stdout",
       "text": [
        "\r",
        "50% [==================>                    ] 140,394,790  862KB/s  eta 97s    "
       ]
      },
      {
       "output_type": "stream",
       "stream": "stdout",
       "text": [
        "\r",
        "50% [==================>                    ] 140,655,430  822KB/s  eta 97s    "
       ]
      },
      {
       "output_type": "stream",
       "stream": "stdout",
       "text": [
        "\r",
        "50% [==================>                    ] 140,916,070  781KB/s  eta 96s    "
       ]
      },
      {
       "output_type": "stream",
       "stream": "stdout",
       "text": [
        "\r",
        "50% [==================>                    ] 141,176,710  738KB/s  eta 96s    "
       ]
      },
      {
       "output_type": "stream",
       "stream": "stdout",
       "text": [
        "\r",
        "50% [==================>                    ] 141,437,350  766KB/s  eta 96s    "
       ]
      },
      {
       "output_type": "stream",
       "stream": "stdout",
       "text": [
        "\r",
        "50% [==================>                    ] 141,697,990  827KB/s  eta 96s    "
       ]
      },
      {
       "output_type": "stream",
       "stream": "stdout",
       "text": [
        "\r",
        "50% [==================>                    ] 141,958,630  919KB/s  eta 96s    "
       ]
      },
      {
       "output_type": "stream",
       "stream": "stdout",
       "text": [
        "\r",
        "50% [==================>                    ] 141,984,198  886KB/s  eta 96s    "
       ]
      },
      {
       "output_type": "stream",
       "stream": "stdout",
       "text": [
        "\r",
        "50% [==================>                    ] 142,494,390  939KB/s  eta 96s    "
       ]
      },
      {
       "output_type": "stream",
       "stream": "stdout",
       "text": [
        "\r",
        "51% [==================>                    ] 142,757,926  906KB/s  eta 96s    "
       ]
      },
      {
       "output_type": "stream",
       "stream": "stdout",
       "text": [
        "\r",
        "51% [==================>                    ] 143,024,358  899KB/s  eta 96s    "
       ]
      },
      {
       "output_type": "stream",
       "stream": "stdout",
       "text": [
        "\r",
        "51% [==================>                    ] 143,280,654  915KB/s  eta 96s    "
       ]
      },
      {
       "output_type": "stream",
       "stream": "stdout",
       "text": [
        "\r",
        "51% [===================>                   ] 143,549,982  982KB/s  eta 95s    "
       ]
      },
      {
       "output_type": "stream",
       "stream": "stdout",
       "text": [
        "\r",
        "51% [===================>                   ] 143,807,726 1.02MB/s  eta 95s    "
       ]
      },
      {
       "output_type": "stream",
       "stream": "stdout",
       "text": [
        "\r",
        "51% [===================>                   ] 144,081,398 1.08MB/s  eta 95s    "
       ]
      },
      {
       "output_type": "stream",
       "stream": "stdout",
       "text": [
        "\r",
        "51% [===================>                   ] 144,360,862 1.13MB/s  eta 95s    "
       ]
      },
      {
       "output_type": "stream",
       "stream": "stdout",
       "text": [
        "\r",
        "51% [===================>                   ] 144,539,918 1.16MB/s  eta 95s    "
       ]
      },
      {
       "output_type": "stream",
       "stream": "stdout",
       "text": [
        "\r",
        "51% [===================>                   ] 144,897,574 1.18MB/s  eta 94s    "
       ]
      },
      {
       "output_type": "stream",
       "stream": "stdout",
       "text": [
        "\r",
        "51% [===================>                   ] 145,167,398 1.18MB/s  eta 94s    "
       ]
      },
      {
       "output_type": "stream",
       "stream": "stdout",
       "text": [
        "\r",
        "51% [===================>                   ] 145,477,270 1.20MB/s  eta 94s    "
       ]
      },
      {
       "output_type": "stream",
       "stream": "stdout",
       "text": [
        "\r",
        "52% [===================>                   ] 145,803,070 1.21MB/s  eta 94s    "
       ]
      },
      {
       "output_type": "stream",
       "stream": "stdout",
       "text": [
        "\r",
        "52% [===================>                   ] 146,128,870 1.23MB/s  eta 94s    "
       ]
      },
      {
       "output_type": "stream",
       "stream": "stdout",
       "text": [
        "\r",
        "52% [===================>                   ] 146,470,598 1.25MB/s  eta 93s    "
       ]
      },
      {
       "output_type": "stream",
       "stream": "stdout",
       "text": [
        "\r",
        "52% [===================>                   ] 146,845,630 1.37MB/s  eta 93s    "
       ]
      },
      {
       "output_type": "stream",
       "stream": "stdout",
       "text": [
        "\r",
        "52% [===================>                   ] 147,236,590 1.32MB/s  eta 93s    "
       ]
      },
      {
       "output_type": "stream",
       "stream": "stdout",
       "text": [
        "\r",
        "52% [===================>                   ] 147,656,510 1.36MB/s  eta 93s    "
       ]
      },
      {
       "output_type": "stream",
       "stream": "stdout",
       "text": [
        "\r",
        "52% [===================>                   ] 147,964,934 1.38MB/s  eta 93s    "
       ]
      },
      {
       "output_type": "stream",
       "stream": "stdout",
       "text": [
        "\r",
        "52% [===================>                   ] 148,313,902 1.39MB/s  eta 91s    "
       ]
      },
      {
       "output_type": "stream",
       "stream": "stdout",
       "text": [
        "\r",
        "53% [===================>                   ] 148,604,950 1.42MB/s  eta 91s    "
       ]
      },
      {
       "output_type": "stream",
       "stream": "stdout",
       "text": [
        "\r",
        "53% [===================>                   ] 148,945,230 1.44MB/s  eta 91s    "
       ]
      },
      {
       "output_type": "stream",
       "stream": "stdout",
       "text": [
        "\r",
        "53% [===================>                   ] 149,321,710 1.47MB/s  eta 91s    "
       ]
      },
      {
       "output_type": "stream",
       "stream": "stdout",
       "text": [
        "\r",
        "53% [===================>                   ] 149,712,670 1.53MB/s  eta 91s    "
       ]
      },
      {
       "output_type": "stream",
       "stream": "stdout",
       "text": [
        "\r",
        "53% [===================>                   ] 150,103,630 1.54MB/s  eta 90s    "
       ]
      },
      {
       "output_type": "stream",
       "stream": "stdout",
       "text": [
        "\r",
        "53% [===================>                   ] 150,464,182 1.57MB/s  eta 90s    "
       ]
      },
      {
       "output_type": "stream",
       "stream": "stdout",
       "text": [
        "\r",
        "53% [====================>                  ] 150,820,390 1.58MB/s  eta 90s    "
       ]
      },
      {
       "output_type": "stream",
       "stream": "stdout",
       "text": [
        "\r",
        "54% [====================>                  ] 151,211,350 1.62MB/s  eta 90s    "
       ]
      },
      {
       "output_type": "stream",
       "stream": "stdout",
       "text": [
        "\r",
        "54% [====================>                  ] 151,602,310 1.63MB/s  eta 90s    "
       ]
      },
      {
       "output_type": "stream",
       "stream": "stdout",
       "text": [
        "\r",
        "54% [====================>                  ] 152,000,510 1.65MB/s  eta 89s    "
       ]
      },
      {
       "output_type": "stream",
       "stream": "stdout",
       "text": [
        "\r",
        "54% [====================>                  ] 152,214,318 1.59MB/s  eta 89s    "
       ]
      },
      {
       "output_type": "stream",
       "stream": "stdout",
       "text": [
        "\r",
        "54% [====================>                  ] 152,275,630 1.51MB/s  eta 89s    "
       ]
      },
      {
       "output_type": "stream",
       "stream": "stdout",
       "text": [
        "\r",
        "54% [====================>                  ] 152,285,766 1.42MB/s  eta 89s    "
       ]
      },
      {
       "output_type": "stream",
       "stream": "stdout",
       "text": [
        "\r",
        "54% [====================>                  ] 152,308,934 1.33MB/s  eta 89s    "
       ]
      },
      {
       "output_type": "stream",
       "stream": "stdout",
       "text": [
        "\r",
        "54% [====================>                  ] 152,339,342 1.23MB/s  eta 89s    "
       ]
      },
      {
       "output_type": "stream",
       "stream": "stdout",
       "text": [
        "\r",
        "54% [====================>                  ] 152,442,150 1.18MB/s  eta 89s    "
       ]
      },
      {
       "output_type": "stream",
       "stream": "stdout",
       "text": [
        "\r",
        "54% [====================>                  ] 152,644,870 1.15MB/s  eta 89s    "
       ]
      },
      {
       "output_type": "stream",
       "stream": "stdout",
       "text": [
        "\r",
        "54% [====================>                  ] 152,905,510 1.15MB/s  eta 89s    "
       ]
      },
      {
       "output_type": "stream",
       "stream": "stdout",
       "text": [
        "\r",
        "54% [====================>                  ] 153,174,838 1.14MB/s  eta 89s    "
       ]
      },
      {
       "output_type": "stream",
       "stream": "stdout",
       "text": [
        "\r",
        "54% [====================>                  ] 153,426,790 1.12MB/s  eta 88s    "
       ]
      },
      {
       "output_type": "stream",
       "stream": "stdout",
       "text": [
        "\r",
        "54% [====================>                  ] 153,687,430 1.11MB/s  eta 88s    "
       ]
      },
      {
       "output_type": "stream",
       "stream": "stdout",
       "text": [
        "\r",
        "55% [====================>                  ] 154,014,678 1.11MB/s  eta 88s    "
       ]
      },
      {
       "output_type": "stream",
       "stream": "stdout",
       "text": [
        "\r",
        "55% [====================>                  ] 154,404,190 1.09MB/s  eta 88s    "
       ]
      },
      {
       "output_type": "stream",
       "stream": "stdout",
       "text": [
        "\r",
        "55% [====================>                  ] 154,716,958 1.07MB/s  eta 88s    "
       ]
      },
      {
       "output_type": "stream",
       "stream": "stdout",
       "text": [
        "\r",
        "55% [====================>                  ] 154,990,630 1.06MB/s  eta 87s    "
       ]
      },
      {
       "output_type": "stream",
       "stream": "stdout",
       "text": [
        "\r",
        "55% [====================>                  ] 155,251,270 1.01MB/s  eta 87s    "
       ]
      },
      {
       "output_type": "stream",
       "stream": "stdout",
       "text": [
        "\r",
        "55% [====================>                  ] 155,549,558 1008KB/s  eta 87s    "
       ]
      },
      {
       "output_type": "stream",
       "stream": "stdout",
       "text": [
        "\r",
        "55% [====================>                  ] 155,837,710 1002KB/s  eta 87s    "
       ]
      },
      {
       "output_type": "stream",
       "stream": "stdout",
       "text": [
        "\r",
        "55% [====================>                  ] 156,131,654 1015KB/s  eta 87s    "
       ]
      },
      {
       "output_type": "stream",
       "stream": "stdout",
       "text": [
        "\r",
        "55% [====================>                  ] 156,424,150 1.07MB/s  eta 86s    "
       ]
      },
      {
       "output_type": "stream",
       "stream": "stdout",
       "text": [
        "\r",
        "55% [====================>                  ] 156,749,950 1.14MB/s  eta 86s    "
       ]
      },
      {
       "output_type": "stream",
       "stream": "stdout",
       "text": [
        "\r",
        "56% [====================>                  ] 157,075,750 1.22MB/s  eta 86s    "
       ]
      },
      {
       "output_type": "stream",
       "stream": "stdout",
       "text": [
        "\r",
        "56% [====================>                  ] 157,388,518 1.32MB/s  eta 86s    "
       ]
      },
      {
       "output_type": "stream",
       "stream": "stdout",
       "text": [
        "\r",
        "56% [====================>                  ] 157,712,870 1.34MB/s  eta 86s    "
       ]
      },
      {
       "output_type": "stream",
       "stream": "stdout",
       "text": [
        "\r",
        "56% [=====================>                 ] 158,006,814 1.35MB/s  eta 85s    "
       ]
      },
      {
       "output_type": "stream",
       "stream": "stdout",
       "text": [
        "\r",
        "56% [=====================>                 ] 158,228,358 1.36MB/s  eta 85s    "
       ]
      },
      {
       "output_type": "stream",
       "stream": "stdout",
       "text": [
        "\r",
        "56% [=====================>                 ] 158,461,486 1.35MB/s  eta 85s    "
       ]
      },
      {
       "output_type": "stream",
       "stream": "stdout",
       "text": [
        "\r",
        "56% [=====================>                 ] 158,722,126 1.30MB/s  eta 85s    "
       ]
      },
      {
       "output_type": "stream",
       "stream": "stdout",
       "text": [
        "\r",
        "56% [=====================>                 ] 158,984,214 1.29MB/s  eta 85s    "
       ]
      },
      {
       "output_type": "stream",
       "stream": "stdout",
       "text": [
        "\r",
        "56% [=====================>                 ] 159,250,646 1.28MB/s  eta 85s    "
       ]
      },
      {
       "output_type": "stream",
       "stream": "stdout",
       "text": [
        "\r",
        "56% [=====================>                 ] 159,509,838 1.28MB/s  eta 85s    "
       ]
      },
      {
       "output_type": "stream",
       "stream": "stdout",
       "text": [
        "\r",
        "57% [=====================>                 ] 159,766,134 1.27MB/s  eta 85s    "
       ]
      },
      {
       "output_type": "stream",
       "stream": "stdout",
       "text": [
        "\r",
        "57% [=====================>                 ] 160,028,222 1.26MB/s  eta 85s    "
       ]
      },
      {
       "output_type": "stream",
       "stream": "stdout",
       "text": [
        "\r",
        "57% [=====================>                 ] 160,298,998 1.26MB/s  eta 85s    "
       ]
      },
      {
       "output_type": "stream",
       "stream": "stdout",
       "text": [
        "\r",
        "57% [=====================>                 ] 160,550,950 1.24MB/s  eta 84s    "
       ]
      },
      {
       "output_type": "stream",
       "stream": "stdout",
       "text": [
        "\r",
        "57% [=====================>                 ] 160,815,934 1.24MB/s  eta 84s    "
       ]
      },
      {
       "output_type": "stream",
       "stream": "stdout",
       "text": [
        "\r",
        "57% [=====================>                 ] 161,083,814 1.21MB/s  eta 84s    "
       ]
      },
      {
       "output_type": "stream",
       "stream": "stdout",
       "text": [
        "\r",
        "57% [=====================>                 ] 161,343,006 1.20MB/s  eta 84s    "
       ]
      },
      {
       "output_type": "stream",
       "stream": "stdout",
       "text": [
        "\r",
        "57% [=====================>                 ] 161,609,438 1.18MB/s  eta 84s    "
       ]
      },
      {
       "output_type": "stream",
       "stream": "stdout",
       "text": [
        "\r",
        "57% [=====================>                 ] 161,768,222 1.13MB/s  eta 83s    "
       ]
      },
      {
       "output_type": "stream",
       "stream": "stdout",
       "text": [
        "\r",
        "57% [=====================>                 ] 161,912,070 1.11MB/s  eta 83s    "
       ]
      },
      {
       "output_type": "stream",
       "stream": "stdout",
       "text": [
        "\r",
        "57% [=====================>                 ] 161,919,310 1.04MB/s  eta 83s    "
       ]
      },
      {
       "output_type": "stream",
       "stream": "stdout",
       "text": [
        "\r",
        "57% [=====================>                 ] 161,933,790  992KB/s  eta 83s    "
       ]
      },
      {
       "output_type": "stream",
       "stream": "stdout",
       "text": [
        "\r",
        "57% [=====================>                 ] 161,974,334  933KB/s  eta 83s    "
       ]
      },
      {
       "output_type": "stream",
       "stream": "stdout",
       "text": [
        "\r",
        "57% [=====================>                 ] 162,068,454  888KB/s  eta 83s    "
       ]
      },
      {
       "output_type": "stream",
       "stream": "stdout",
       "text": [
        "\r",
        "57% [=====================>                 ] 162,262,486  880KB/s  eta 83s    "
       ]
      },
      {
       "output_type": "stream",
       "stream": "stdout",
       "text": [
        "\r",
        "58% [=====================>                 ] 162,446,382  857KB/s  eta 83s    "
       ]
      },
      {
       "output_type": "stream",
       "stream": "stdout",
       "text": [
        "\r",
        "58% [=====================>                 ] 162,679,510  862KB/s  eta 83s    "
       ]
      },
      {
       "output_type": "stream",
       "stream": "stdout",
       "text": [
        "\r",
        "58% [=====================>                 ] 162,940,150  863KB/s  eta 83s    "
       ]
      },
      {
       "output_type": "stream",
       "stream": "stdout",
       "text": [
        "\r",
        "58% [=====================>                 ] 163,200,790  875KB/s  eta 83s    "
       ]
      },
      {
       "output_type": "stream",
       "stream": "stdout",
       "text": [
        "\r",
        "58% [=====================>                 ] 163,461,430  879KB/s  eta 83s    "
       ]
      },
      {
       "output_type": "stream",
       "stream": "stdout",
       "text": [
        "\r",
        "58% [=====================>                 ] 163,740,894  884KB/s  eta 83s    "
       ]
      },
      {
       "output_type": "stream",
       "stream": "stdout",
       "text": [
        "\r",
        "58% [=====================>                 ] 164,047,870  890KB/s  eta 83s    "
       ]
      },
      {
       "output_type": "stream",
       "stream": "stdout",
       "text": [
        "\r",
        "58% [=====================>                 ] 164,438,830  918KB/s  eta 83s    "
       ]
      },
      {
       "output_type": "stream",
       "stream": "stdout",
       "text": [
        "\r",
        "58% [=====================>                 ] 164,829,790  962KB/s  eta 82s    "
       ]
      },
      {
       "output_type": "stream",
       "stream": "stdout",
       "text": [
        "\r",
        "59% [======================>                ] 165,220,750  991KB/s  eta 82s    "
       ]
      },
      {
       "output_type": "stream",
       "stream": "stdout",
       "text": [
        "\r",
        "59% [======================>                ] 165,585,646 1015KB/s  eta 82s    "
       ]
      },
      {
       "output_type": "stream",
       "stream": "stdout",
       "text": [
        "\r",
        "59% [======================>                ] 166,067,830 1.08MB/s  eta 82s    "
       ]
      },
      {
       "output_type": "stream",
       "stream": "stdout",
       "text": [
        "\r",
        "59% [======================>                ] 166,592,006 1.17MB/s  eta 82s    "
       ]
      },
      {
       "output_type": "stream",
       "stream": "stdout",
       "text": [
        "\r",
        "59% [======================>                ] 167,176,998 1.38MB/s  eta 80s    "
       ]
      },
      {
       "output_type": "stream",
       "stream": "stdout",
       "text": [
        "\r",
        "59% [======================>                ] 167,675,110 1.51MB/s  eta 80s    "
       ]
      },
      {
       "output_type": "stream",
       "stream": "stdout",
       "text": [
        "\r",
        "60% [======================>                ] 168,092,134 1.59MB/s  eta 80s    "
       ]
      },
      {
       "output_type": "stream",
       "stream": "stdout",
       "text": [
        "\r",
        "60% [======================>                ] 168,468,614 1.65MB/s  eta 80s    "
       ]
      },
      {
       "output_type": "stream",
       "stream": "stdout",
       "text": [
        "\r",
        "60% [======================>                ] 168,955,142 1.73MB/s  eta 80s    "
       ]
      },
      {
       "output_type": "stream",
       "stream": "stdout",
       "text": [
        "\r",
        "60% [======================>                ] 169,457,598 1.83MB/s  eta 78s    "
       ]
      },
      {
       "output_type": "stream",
       "stream": "stdout",
       "text": [
        "\r",
        "60% [======================>                ] 169,981,774 1.90MB/s  eta 78s    "
       ]
      },
      {
       "output_type": "stream",
       "stream": "stdout",
       "text": [
        "\r",
        "60% [======================>                ] 170,493,870 1.94MB/s  eta 78s    "
       ]
      },
      {
       "output_type": "stream",
       "stream": "stdout",
       "text": [
        "\r",
        "61% [======================>                ] 170,891,118 1.98MB/s  eta 78s    "
       ]
      },
      {
       "output_type": "stream",
       "stream": "stdout",
       "text": [
        "\r",
        "61% [======================>                ] 171,226,558 2.01MB/s  eta 78s    "
       ]
      },
      {
       "output_type": "stream",
       "stream": "stdout",
       "text": [
        "\r",
        "61% [======================>                ] 171,476,110 1.97MB/s  eta 76s    "
       ]
      },
      {
       "output_type": "stream",
       "stream": "stdout",
       "text": [
        "\r",
        "61% [======================>                ] 171,801,910 1.95MB/s  eta 76s    "
       ]
      },
      {
       "output_type": "stream",
       "stream": "stdout",
       "text": [
        "\r",
        "61% [======================>                ] 172,100,198 1.93MB/s  eta 76s    "
       ]
      },
      {
       "output_type": "stream",
       "stream": "stdout",
       "text": [
        "\r",
        "61% [=======================>               ] 172,454,958 1.91MB/s  eta 76s    "
       ]
      },
      {
       "output_type": "stream",
       "stream": "stdout",
       "text": [
        "\r",
        "61% [=======================>               ] 172,779,310 1.90MB/s  eta 76s    "
       ]
      },
      {
       "output_type": "stream",
       "stream": "stdout",
       "text": [
        "\r",
        "61% [=======================>               ] 173,170,270 1.87MB/s  eta 75s    "
       ]
      },
      {
       "output_type": "stream",
       "stream": "stdout",
       "text": [
        "\r",
        "61% [=======================>               ] 173,494,126 1.79MB/s  eta 75s    "
       ]
      },
      {
       "output_type": "stream",
       "stream": "stdout",
       "text": [
        "\r",
        "62% [=======================>               ] 173,567,022 1.67MB/s  eta 75s    "
       ]
      },
      {
       "output_type": "stream",
       "stream": "stdout",
       "text": [
        "\r",
        "62% [=======================>               ] 173,578,606 1.55MB/s  eta 75s    "
       ]
      },
      {
       "output_type": "stream",
       "stream": "stdout",
       "text": [
        "\r",
        "62% [=======================>               ] 173,600,326 1.44MB/s  eta 75s    "
       ]
      },
      {
       "output_type": "stream",
       "stream": "stdout",
       "text": [
        "\r",
        "62% [=======================>               ] 173,649,558 1.38MB/s  eta 75s    "
       ]
      },
      {
       "output_type": "stream",
       "stream": "stdout",
       "text": [
        "\r",
        "62% [=======================>               ] 173,756,710 1.28MB/s  eta 75s    "
       ]
      },
      {
       "output_type": "stream",
       "stream": "stdout",
       "text": [
        "\r",
        "62% [=======================>               ] 174,017,350 1.23MB/s  eta 75s    "
       ]
      },
      {
       "output_type": "stream",
       "stream": "stdout",
       "text": [
        "\r",
        "62% [=======================>               ] 174,295,366 1.19MB/s  eta 75s    "
       ]
      },
      {
       "output_type": "stream",
       "stream": "stdout",
       "text": [
        "\r",
        "62% [=======================>               ] 174,603,790 1.16MB/s  eta 75s    "
       ]
      },
      {
       "output_type": "stream",
       "stream": "stdout",
       "text": [
        "\r",
        "62% [=======================>               ] 174,848,502 1.07MB/s  eta 74s    "
       ]
      },
      {
       "output_type": "stream",
       "stream": "stdout",
       "text": [
        "\r",
        "62% [=======================>               ] 175,085,974 1.01MB/s  eta 74s    "
       ]
      },
      {
       "output_type": "stream",
       "stream": "stdout",
       "text": [
        "\r",
        "62% [=======================>               ] 175,340,822 1.02MB/s  eta 74s    "
       ]
      },
      {
       "output_type": "stream",
       "stream": "stdout",
       "text": [
        "\r",
        "62% [=======================>               ] 175,605,806 1.02MB/s  eta 74s    "
       ]
      },
      {
       "output_type": "stream",
       "stream": "stdout",
       "text": [
        "\r",
        "62% [=======================>               ] 175,876,582 1.01MB/s  eta 74s    "
       ]
      },
      {
       "output_type": "stream",
       "stream": "stdout",
       "text": [
        "\r",
        "62% [=======================>               ] 176,124,190 1022KB/s  eta 73s    "
       ]
      },
      {
       "output_type": "stream",
       "stream": "stdout",
       "text": [
        "\r",
        "63% [=======================>               ] 176,363,110  986KB/s  eta 73s    "
       ]
      },
      {
       "output_type": "stream",
       "stream": "stdout",
       "text": [
        "\r",
        "63% [=======================>               ] 176,623,750  998KB/s  eta 73s    "
       ]
      },
      {
       "output_type": "stream",
       "stream": "stdout",
       "text": [
        "\r",
        "63% [=======================>               ] 176,884,390  963KB/s  eta 73s    "
       ]
      },
      {
       "output_type": "stream",
       "stream": "stdout",
       "text": [
        "\r",
        "63% [=======================>               ] 177,145,030  957KB/s  eta 73s    "
       ]
      },
      {
       "output_type": "stream",
       "stream": "stdout",
       "text": [
        "\r",
        "63% [=======================>               ] 177,405,670  965KB/s  eta 72s    "
       ]
      },
      {
       "output_type": "stream",
       "stream": "stdout",
       "text": [
        "\r",
        "63% [=======================>               ] 177,666,310  975KB/s  eta 72s    "
       ]
      },
      {
       "output_type": "stream",
       "stream": "stdout",
       "text": [
        "\r",
        "63% [=======================>               ] 177,926,950 1.01MB/s  eta 72s    "
       ]
      },
      {
       "output_type": "stream",
       "stream": "stdout",
       "text": [
        "\r",
        "63% [=======================>               ] 178,187,590 1.06MB/s  eta 72s    "
       ]
      },
      {
       "output_type": "stream",
       "stream": "stdout",
       "text": [
        "\r",
        "63% [=======================>               ] 178,394,654 1.10MB/s  eta 72s    "
       ]
      },
      {
       "output_type": "stream",
       "stream": "stdout",
       "text": [
        "\r",
        "63% [=======================>               ] 178,401,894 1.09MB/s  eta 72s    "
       ]
      },
      {
       "output_type": "stream",
       "stream": "stdout",
       "text": [
        "\r",
        "63% [=======================>               ] 178,416,374 1.05MB/s  eta 72s    "
       ]
      },
      {
       "output_type": "stream",
       "stream": "stdout",
       "text": [
        "\r",
        "63% [=======================>               ] 178,456,918 1018KB/s  eta 72s    "
       ]
      },
      {
       "output_type": "stream",
       "stream": "stdout",
       "text": [
        "\r",
        "63% [=======================>               ] 178,556,830  965KB/s  eta 72s    "
       ]
      },
      {
       "output_type": "stream",
       "stream": "stdout",
       "text": [
        "\r",
        "63% [=======================>               ] 178,745,070  964KB/s  eta 72s    "
       ]
      },
      {
       "output_type": "stream",
       "stream": "stdout",
       "text": [
        "\r",
        "63% [=======================>               ] 178,927,518  942KB/s  eta 72s    "
       ]
      },
      {
       "output_type": "stream",
       "stream": "stdout",
       "text": [
        "\r",
        "64% [=======================>               ] 179,164,990  941KB/s  eta 72s    "
       ]
      },
      {
       "output_type": "stream",
       "stream": "stdout",
       "text": [
        "\r",
        "64% [=======================>               ] 179,325,718  918KB/s  eta 72s    "
       ]
      },
      {
       "output_type": "stream",
       "stream": "stdout",
       "text": [
        "\r",
        "64% [=======================>               ] 179,332,958  859KB/s  eta 72s    "
       ]
      },
      {
       "output_type": "stream",
       "stream": "stdout",
       "text": [
        "\r",
        "64% [=======================>               ] 179,347,438  801KB/s  eta 72s    "
       ]
      },
      {
       "output_type": "stream",
       "stream": "stdout",
       "text": [
        "\r",
        "64% [=======================>               ] 179,385,086  753KB/s  eta 72s    "
       ]
      },
      {
       "output_type": "stream",
       "stream": "stdout",
       "text": [
        "\r",
        "64% [========================>              ] 179,474,862  719KB/s  eta 72s    "
       ]
      },
      {
       "output_type": "stream",
       "stream": "stdout",
       "text": [
        "\r",
        "64% [========================>              ] 179,655,862  702KB/s  eta 72s    "
       ]
      },
      {
       "output_type": "stream",
       "stream": "stdout",
       "text": [
        "\r",
        "64% [========================>              ] 179,864,374  690KB/s  eta 72s    "
       ]
      },
      {
       "output_type": "stream",
       "stream": "stdout",
       "text": [
        "\r",
        "64% [========================>              ] 180,068,542  677KB/s  eta 72s    "
       ]
      },
      {
       "output_type": "stream",
       "stream": "stdout",
       "text": [
        "\r",
        "64% [========================>              ] 180,198,366  646KB/s  eta 72s    "
       ]
      },
      {
       "output_type": "stream",
       "stream": "stdout",
       "text": [
        "\r",
        "64% [========================>              ] 180,332,078  617KB/s  eta 72s    "
       ]
      },
      {
       "output_type": "stream",
       "stream": "stdout",
       "text": [
        "\r",
        "64% [========================>              ] 180,343,662  560KB/s  eta 72s    "
       ]
      },
      {
       "output_type": "stream",
       "stream": "stdout",
       "text": [
        "\r",
        "64% [========================>              ] 180,365,382  503KB/s  eta 72s    "
       ]
      },
      {
       "output_type": "stream",
       "stream": "stdout",
       "text": [
        "\r",
        "64% [========================>              ] 180,431,990  495KB/s  eta 72s    "
       ]
      },
      {
       "output_type": "stream",
       "stream": "stdout",
       "text": [
        "\r",
        "64% [========================>              ] 180,568,102  493KB/s  eta 72s    "
       ]
      },
      {
       "output_type": "stream",
       "stream": "stdout",
       "text": [
        "\r",
        "64% [========================>              ] 180,766,478  535KB/s  eta 72s    "
       ]
      },
      {
       "output_type": "stream",
       "stream": "stdout",
       "text": [
        "\r",
        "64% [========================>              ] 180,954,718  573KB/s  eta 72s    "
       ]
      },
      {
       "output_type": "stream",
       "stream": "stdout",
       "text": [
        "\r",
        "64% [========================>              ] 181,184,950  611KB/s  eta 72s    "
       ]
      },
      {
       "output_type": "stream",
       "stream": "stdout",
       "text": [
        "\r",
        "64% [========================>              ] 181,445,590  636KB/s  eta 72s    "
       ]
      },
      {
       "output_type": "stream",
       "stream": "stdout",
       "text": [
        "\r",
        "64% [========================>              ] 181,706,230  650KB/s  eta 71s    "
       ]
      },
      {
       "output_type": "stream",
       "stream": "stdout",
       "text": [
        "\r",
        "65% [========================>              ] 182,011,758  675KB/s  eta 71s    "
       ]
      },
      {
       "output_type": "stream",
       "stream": "stdout",
       "text": [
        "\r",
        "65% [========================>              ] 182,312,942  712KB/s  eta 71s    "
       ]
      },
      {
       "output_type": "stream",
       "stream": "stdout",
       "text": [
        "\r",
        "65% [========================>              ] 182,618,470  748KB/s  eta 71s    "
       ]
      },
      {
       "output_type": "stream",
       "stream": "stdout",
       "text": [
        "\r",
        "65% [========================>              ] 183,009,430  831KB/s  eta 71s    "
       ]
      },
      {
       "output_type": "stream",
       "stream": "stdout",
       "text": [
        "\r",
        "65% [========================>              ] 183,400,390  945KB/s  eta 70s    "
       ]
      },
      {
       "output_type": "stream",
       "stream": "stdout",
       "text": [
        "\r",
        "65% [========================>              ] 183,791,350 1004KB/s  eta 70s    "
       ]
      },
      {
       "output_type": "stream",
       "stream": "stdout",
       "text": [
        "\r",
        "65% [========================>              ] 184,247,470 1.04MB/s  eta 70s    "
       ]
      },
      {
       "output_type": "stream",
       "stream": "stdout",
       "text": [
        "\r",
        "66% [========================>              ] 184,768,750 1.12MB/s  eta 70s    "
       ]
      },
      {
       "output_type": "stream",
       "stream": "stdout",
       "text": [
        "\r",
        "66% [========================>              ] 185,290,030 1.21MB/s  eta 70s    "
       ]
      },
      {
       "output_type": "stream",
       "stream": "stdout",
       "text": [
        "\r",
        "66% [========================>              ] 185,876,470 1.34MB/s  eta 68s    "
       ]
      },
      {
       "output_type": "stream",
       "stream": "stdout",
       "text": [
        "\r",
        "66% [========================>              ] 186,532,414 1.57MB/s  eta 68s    "
       ]
      },
      {
       "output_type": "stream",
       "stream": "stdout",
       "text": [
        "\r",
        "66% [=========================>             ] 187,256,414 1.72MB/s  eta 68s    "
       ]
      },
      {
       "output_type": "stream",
       "stream": "stdout",
       "text": [
        "\r",
        "67% [=========================>             ] 188,032,542 1.87MB/s  eta 68s    "
       ]
      },
      {
       "output_type": "stream",
       "stream": "stdout",
       "text": [
        "\r",
        "67% [=========================>             ] 188,880,574 2.09MB/s  eta 68s    "
       ]
      },
      {
       "output_type": "stream",
       "stream": "stdout",
       "text": [
        "\r",
        "67% [=========================>             ] 188,921,614 2.02MB/s  eta 65s    "
       ]
      },
      {
       "output_type": "stream",
       "stream": "stdout",
       "text": [
        "\r",
        "67% [=========================>             ] 189,073,654 2.00MB/s  eta 65s    "
       ]
      },
      {
       "output_type": "stream",
       "stream": "stdout",
       "text": [
        "\r",
        "67% [=========================>             ] 189,077,998 1.92MB/s  eta 65s    "
       ]
      },
      {
       "output_type": "stream",
       "stream": "stdout",
       "text": [
        "\r",
        "67% [=========================>             ] 189,384,478 1.93MB/s  eta 65s    "
       ]
      },
      {
       "output_type": "stream",
       "stream": "stdout",
       "text": [
        "\r",
        "67% [=========================>             ] 189,415,382 1.85MB/s  eta 65s    "
       ]
      },
      {
       "output_type": "stream",
       "stream": "stdout",
       "text": [
        "\r",
        "67% [=========================>             ] 189,429,862 1.77MB/s  eta 65s    "
       ]
      },
      {
       "output_type": "stream",
       "stream": "stdout",
       "text": [
        "\r",
        "67% [=========================>             ] 189,445,790 1.66MB/s  eta 65s    "
       ]
      },
      {
       "output_type": "stream",
       "stream": "stdout",
       "text": [
        "\r",
        "67% [=========================>             ] 189,464,614 1.59MB/s  eta 65s    "
       ]
      },
      {
       "output_type": "stream",
       "stream": "stdout",
       "text": [
        "\r",
        "67% [=========================>             ] 189,483,438 1.48MB/s  eta 65s    "
       ]
      },
      {
       "output_type": "stream",
       "stream": "stdout",
       "text": [
        "\r",
        "67% [=========================>             ] 189,500,814 1.41MB/s  eta 65s    "
       ]
      },
      {
       "output_type": "stream",
       "stream": "stdout",
       "text": [
        "\r",
        "67% [=========================>             ] 189,523,982 1.28MB/s  eta 65s    "
       ]
      },
      {
       "output_type": "stream",
       "stream": "stdout",
       "text": [
        "\r",
        "67% [=========================>             ] 189,551,494 1.19MB/s  eta 65s    "
       ]
      },
      {
       "output_type": "stream",
       "stream": "stdout",
       "text": [
        "\r",
        "67% [=========================>             ] 189,574,662 1.09MB/s  eta 65s    "
       ]
      },
      {
       "output_type": "stream",
       "stream": "stdout",
       "text": [
        "\r",
        "67% [=========================>             ] 189,607,966 1011KB/s  eta 65s    "
       ]
      },
      {
       "output_type": "stream",
       "stream": "stdout",
       "text": [
        "\r",
        "67% [=========================>             ] 189,638,374  877KB/s  eta 65s    "
       ]
      },
      {
       "output_type": "stream",
       "stream": "stdout",
       "text": [
        "\r",
        "67% [=========================>             ] 189,677,470  765KB/s  eta 66s    "
       ]
      },
      {
       "output_type": "stream",
       "stream": "stdout",
       "text": [
        "\r",
        "67% [=========================>             ] 189,710,774  644KB/s  eta 66s    "
       ]
      },
      {
       "output_type": "stream",
       "stream": "stdout",
       "text": [
        "\r",
        "67% [=========================>             ] 189,748,422  505KB/s  eta 66s    "
       ]
      },
      {
       "output_type": "stream",
       "stream": "stdout",
       "text": [
        "\r",
        "67% [=========================>             ] 189,796,206  385KB/s  eta 66s    "
       ]
      },
      {
       "output_type": "stream",
       "stream": "stdout",
       "text": [
        "\r",
        "67% [=========================>             ] 189,839,646  234KB/s  eta 66s    "
       ]
      },
      {
       "output_type": "stream",
       "stream": "stdout",
       "text": [
        "\r",
        "67% [=========================>             ] 189,888,878  227KB/s  eta 66s    "
       ]
      },
      {
       "output_type": "stream",
       "stream": "stdout",
       "text": [
        "\r",
        "67% [=========================>             ] 189,951,142  206KB/s  eta 66s    "
       ]
      },
      {
       "output_type": "stream",
       "stream": "stdout",
       "text": [
        "\r",
        "67% [=========================>             ] 190,014,854  220KB/s  eta 66s    "
       ]
      },
      {
       "output_type": "stream",
       "stream": "stdout",
       "text": [
        "\r",
        "67% [=========================>             ] 190,093,046  166KB/s  eta 66s    "
       ]
      },
      {
       "output_type": "stream",
       "stream": "stdout",
       "text": [
        "\r",
        "67% [=========================>             ] 190,177,030  179KB/s  eta 66s    "
       ]
      },
      {
       "output_type": "stream",
       "stream": "stdout",
       "text": [
        "\r",
        "67% [=========================>             ] 190,261,014  195KB/s  eta 66s    "
       ]
      },
      {
       "output_type": "stream",
       "stream": "stdout",
       "text": [
        "\r",
        "68% [=========================>             ] 190,372,510  217KB/s  eta 66s    "
       ]
      },
      {
       "output_type": "stream",
       "stream": "stdout",
       "text": [
        "\r",
        "68% [=========================>             ] 190,502,830  243KB/s  eta 66s    "
       ]
      },
      {
       "output_type": "stream",
       "stream": "stdout",
       "text": [
        "\r",
        "68% [=========================>             ] 190,583,422  257KB/s  eta 66s    "
       ]
      },
      {
       "output_type": "stream",
       "stream": "stdout",
       "text": [
        "\r",
        "68% [=========================>             ] 190,678,038  275KB/s  eta 66s    "
       ]
      },
      {
       "output_type": "stream",
       "stream": "stdout",
       "text": [
        "\r",
        "68% [=========================>             ] 190,689,622  273KB/s  eta 66s    "
       ]
      },
      {
       "output_type": "stream",
       "stream": "stdout",
       "text": [
        "\r",
        "68% [=========================>             ] 190,711,342  271KB/s  eta 66s    "
       ]
      },
      {
       "output_type": "stream",
       "stream": "stdout",
       "text": [
        "\r",
        "68% [=========================>             ] 190,780,846  282KB/s  eta 66s    "
       ]
      },
      {
       "output_type": "stream",
       "stream": "stdout",
       "text": [
        "\r",
        "68% [=========================>             ] 190,893,790  300KB/s  eta 66s    "
       ]
      },
      {
       "output_type": "stream",
       "stream": "stdout",
       "text": [
        "\r",
        "68% [=========================>             ] 191,024,110  324KB/s  eta 66s    "
       ]
      },
      {
       "output_type": "stream",
       "stream": "stdout",
       "text": [
        "\r",
        "68% [=========================>             ] 191,154,430  345KB/s  eta 66s    "
       ]
      },
      {
       "output_type": "stream",
       "stream": "stdout",
       "text": [
        "\r",
        "68% [=========================>             ] 191,313,710  374KB/s  eta 66s    "
       ]
      },
      {
       "output_type": "stream",
       "stream": "stdout",
       "text": [
        "\r",
        "68% [=========================>             ] 191,480,230  405KB/s  eta 66s    "
       ]
      },
      {
       "output_type": "stream",
       "stream": "stdout",
       "text": [
        "\r",
        "68% [=========================>             ] 191,632,270  429KB/s  eta 66s    "
       ]
      },
      {
       "output_type": "stream",
       "stream": "stdout",
       "text": [
        "\r",
        "68% [=========================>             ] 191,823,406  463KB/s  eta 66s    "
       ]
      },
      {
       "output_type": "stream",
       "stream": "stdout",
       "text": [
        "\r",
        "68% [=========================>             ] 192,044,950  503KB/s  eta 66s    "
       ]
      },
      {
       "output_type": "stream",
       "stream": "stdout",
       "text": [
        "\r",
        "68% [=========================>             ] 192,273,734  541KB/s  eta 66s    "
       ]
      },
      {
       "output_type": "stream",
       "stream": "stdout",
       "text": [
        "\r",
        "68% [=========================>             ] 192,522,790  583KB/s  eta 66s    "
       ]
      },
      {
       "output_type": "stream",
       "stream": "stdout",
       "text": [
        "\r",
        "68% [=========================>             ] 192,783,430  625KB/s  eta 66s    "
       ]
      },
      {
       "output_type": "stream",
       "stream": "stdout",
       "text": [
        "\r",
        "68% [=========================>             ] 193,109,230  680KB/s  eta 66s    "
       ]
      },
      {
       "output_type": "stream",
       "stream": "stdout",
       "text": [
        "\r",
        "69% [=========================>             ] 193,435,030  736KB/s  eta 65s    "
       ]
      },
      {
       "output_type": "stream",
       "stream": "stdout",
       "text": [
        "\r",
        "69% [==========================>            ] 193,854,950  808KB/s  eta 65s    "
       ]
      },
      {
       "output_type": "stream",
       "stream": "stdout",
       "text": [
        "\r",
        "69% [==========================>            ] 194,298,038  880KB/s  eta 65s    "
       ]
      },
      {
       "output_type": "stream",
       "stream": "stdout",
       "text": [
        "\r",
        "69% [==========================>            ] 194,803,390 1008KB/s  eta 65s    "
       ]
      },
      {
       "output_type": "stream",
       "stream": "stdout",
       "text": [
        "\r",
        "69% [==========================>            ] 195,324,670 1.10MB/s  eta 65s    "
       ]
      },
      {
       "output_type": "stream",
       "stream": "stdout",
       "text": [
        "\r",
        "69% [==========================>            ] 195,718,030 1.17MB/s  eta 63s    "
       ]
      },
      {
       "output_type": "stream",
       "stream": "stdout",
       "text": [
        "\r",
        "69% [==========================>            ] 195,892,286 1.20MB/s  eta 63s    "
       ]
      },
      {
       "output_type": "stream",
       "stream": "stdout",
       "text": [
        "\r",
        "69% [==========================>            ] 195,903,870 1.18MB/s  eta 63s    "
       ]
      },
      {
       "output_type": "stream",
       "stream": "stdout",
       "text": [
        "\r",
        "69% [==========================>            ] 195,929,934 1.15MB/s  eta 63s    "
       ]
      },
      {
       "output_type": "stream",
       "stream": "stdout",
       "text": [
        "\r",
        "70% [==========================>            ] 195,990,750 1.13MB/s  eta 63s    "
       ]
      },
      {
       "output_type": "stream",
       "stream": "stdout",
       "text": [
        "\r",
        "70% [==========================>            ] 196,141,342 1.13MB/s  eta 63s    "
       ]
      },
      {
       "output_type": "stream",
       "stream": "stdout",
       "text": [
        "\r",
        "70% [==========================>            ] 196,497,550 1.17MB/s  eta 63s    "
       ]
      },
      {
       "output_type": "stream",
       "stream": "stdout",
       "text": [
        "\r",
        "70% [==========================>            ] 196,904,438 1.23MB/s  eta 63s    "
       ]
      },
      {
       "output_type": "stream",
       "stream": "stdout",
       "text": [
        "\r",
        "70% [==========================>            ] 197,409,790 1.31MB/s  eta 63s    "
       ]
      },
      {
       "output_type": "stream",
       "stream": "stdout",
       "text": [
        "\r",
        "70% [==========================>            ] 197,931,070 1.40MB/s  eta 63s    "
       ]
      },
      {
       "output_type": "stream",
       "stream": "stdout",
       "text": [
        "\r",
        "70% [==========================>            ] 198,452,350 1.46MB/s  eta 61s    "
       ]
      },
      {
       "output_type": "stream",
       "stream": "stdout",
       "text": [
        "\r",
        "71% [==========================>            ] 199,103,950 1.56MB/s  eta 61s    "
       ]
      },
      {
       "output_type": "stream",
       "stream": "stdout",
       "text": [
        "\r",
        "71% [==========================>            ] 199,755,550 1.65MB/s  eta 61s    "
       ]
      },
      {
       "output_type": "stream",
       "stream": "stdout",
       "text": [
        "\r",
        "71% [==========================>            ] 200,472,310 1.70MB/s  eta 61s    "
       ]
      },
      {
       "output_type": "stream",
       "stream": "stdout",
       "text": [
        "\r",
        "71% [===========================>           ] 201,254,230 1.81MB/s  eta 61s    "
       ]
      },
      {
       "output_type": "stream",
       "stream": "stdout",
       "text": [
        "\r",
        "72% [===========================>           ] 202,081,038 1.90MB/s  eta 57s    "
       ]
      },
      {
       "output_type": "stream",
       "stream": "stdout",
       "text": [
        "\r",
        "72% [===========================>           ] 202,837,846 1.96MB/s  eta 57s    "
       ]
      },
      {
       "output_type": "stream",
       "stream": "stdout",
       "text": [
        "\r",
        "72% [===========================>           ] 203,734,654 2.11MB/s  eta 57s    "
       ]
      },
      {
       "output_type": "stream",
       "stream": "stdout",
       "text": [
        "\r",
        "73% [===========================>           ] 204,465,398 2.36MB/s  eta 57s    "
       ]
      },
      {
       "output_type": "stream",
       "stream": "stdout",
       "text": [
        "\r",
        "73% [===========================>           ] 205,152,246 2.54MB/s  eta 57s    "
       ]
      },
      {
       "output_type": "stream",
       "stream": "stdout",
       "text": [
        "\r",
        "73% [===========================>           ] 205,784,526 2.71MB/s  eta 54s    "
       ]
      },
      {
       "output_type": "stream",
       "stream": "stdout",
       "text": [
        "\r",
        "73% [===========================>           ] 206,468,478 2.89MB/s  eta 54s    "
       ]
      },
      {
       "output_type": "stream",
       "stream": "stdout",
       "text": [
        "\r",
        "74% [===========================>           ] 207,146,142 3.09MB/s  eta 54s    "
       ]
      },
      {
       "output_type": "stream",
       "stream": "stdout",
       "text": [
        "\r",
        "74% [===========================>           ] 207,907,294 3.17MB/s  eta 54s    "
       ]
      },
      {
       "output_type": "stream",
       "stream": "stdout",
       "text": [
        "\r",
        "74% [============================>          ] 208,689,214 3.27MB/s  eta 54s    "
       ]
      },
      {
       "output_type": "stream",
       "stream": "stdout",
       "text": [
        "\r",
        "74% [============================>          ] 209,464,390 3.30MB/s  eta 51s    "
       ]
      },
      {
       "output_type": "stream",
       "stream": "stdout",
       "text": [
        "\r",
        "75% [============================>          ] 210,246,310 3.37MB/s  eta 51s    "
       ]
      },
      {
       "output_type": "stream",
       "stream": "stdout",
       "text": [
        "\r",
        "75% [============================>          ] 211,052,846 3.43MB/s  eta 51s    "
       ]
      },
      {
       "output_type": "stream",
       "stream": "stdout",
       "text": [
        "\r",
        "75% [============================>          ] 211,875,310 3.45MB/s  eta 51s    "
       ]
      },
      {
       "output_type": "stream",
       "stream": "stdout",
       "text": [
        "\r",
        "75% [============================>          ] 212,655,782 3.48MB/s  eta 51s    "
       ]
      },
      {
       "output_type": "stream",
       "stream": "stdout",
       "text": [
        "\r",
        "76% [============================>          ] 213,407,294 3.46MB/s  eta 47s    "
       ]
      },
      {
       "output_type": "stream",
       "stream": "stdout",
       "text": [
        "\r",
        "76% [============================>          ] 214,119,214 3.45MB/s  eta 47s    "
       ]
      },
      {
       "output_type": "stream",
       "stream": "stdout",
       "text": [
        "\r",
        "76% [============================>          ] 214,908,374 3.44MB/s  eta 47s    "
       ]
      },
      {
       "output_type": "stream",
       "stream": "stdout",
       "text": [
        "\r",
        "77% [=============================>         ] 215,786,358 3.45MB/s  eta 47s    "
       ]
      },
      {
       "output_type": "stream",
       "stream": "stdout",
       "text": [
        "\r",
        "77% [=============================>         ] 216,689,414 3.53MB/s  eta 47s    "
       ]
      },
      {
       "output_type": "stream",
       "stream": "stdout",
       "text": [
        "\r",
        "77% [=============================>         ] 217,539,886 3.58MB/s  eta 44s    "
       ]
      },
      {
       "output_type": "stream",
       "stream": "stdout",
       "text": [
        "\r",
        "78% [=============================>         ] 218,343,030 3.62MB/s  eta 44s    "
       ]
      },
      {
       "output_type": "stream",
       "stream": "stdout",
       "text": [
        "\r",
        "78% [=============================>         ] 219,166,942 3.65MB/s  eta 44s    "
       ]
      },
      {
       "output_type": "stream",
       "stream": "stdout",
       "text": [
        "\r",
        "78% [=============================>         ] 219,853,294 3.66MB/s  eta 44s    "
       ]
      },
      {
       "output_type": "stream",
       "stream": "stdout",
       "text": [
        "\r",
        "78% [=============================>         ] 220,850,014 3.71MB/s  eta 44s    "
       ]
      },
      {
       "output_type": "stream",
       "stream": "stdout",
       "text": [
        "\r",
        "79% [=============================>         ] 221,785,422 3.75MB/s  eta 40s    "
       ]
      },
      {
       "output_type": "stream",
       "stream": "stdout",
       "text": [
        "\r",
        "79% [==============================>        ] 222,499,286 3.75MB/s  eta 40s    "
       ]
      },
      {
       "output_type": "stream",
       "stream": "stdout",
       "text": [
        "\r",
        "79% [==============================>        ] 223,394,150 3.81MB/s  eta 40s    "
       ]
      },
      {
       "output_type": "stream",
       "stream": "stdout",
       "text": [
        "\r",
        "80% [==============================>        ] 224,190,550 3.83MB/s  eta 40s    "
       ]
      },
      {
       "output_type": "stream",
       "stream": "stdout",
       "text": [
        "\r",
        "80% [==============================>        ] 225,036,182 3.82MB/s  eta 40s    "
       ]
      },
      {
       "output_type": "stream",
       "stream": "stdout",
       "text": [
        "\r",
        "80% [==============================>        ] 225,884,710 3.85MB/s  eta 37s    "
       ]
      },
      {
       "output_type": "stream",
       "stream": "stdout",
       "text": [
        "\r",
        "81% [==============================>        ] 226,809,486 3.89MB/s  eta 37s    "
       ]
      },
      {
       "output_type": "stream",
       "stream": "stdout",
       "text": [
        "\r",
        "81% [==============================>        ] 227,722,222 3.92MB/s  eta 37s    "
       ]
      },
      {
       "output_type": "stream",
       "stream": "stdout",
       "text": [
        "\r",
        "81% [==============================>        ] 228,617,086 3.93MB/s  eta 37s    "
       ]
      },
      {
       "output_type": "stream",
       "stream": "stdout",
       "text": [
        "\r",
        "81% [==============================>        ] 229,411,542 3.91MB/s  eta 37s    "
       ]
      },
      {
       "output_type": "stream",
       "stream": "stdout",
       "text": [
        "\r",
        "82% [===============================>       ] 230,287,582 3.93MB/s  eta 34s    "
       ]
      },
      {
       "output_type": "stream",
       "stream": "stdout",
       "text": [
        "\r",
        "82% [===============================>       ] 231,165,566 3.92MB/s  eta 34s    "
       ]
      },
      {
       "output_type": "stream",
       "stream": "stdout",
       "text": [
        "\r",
        "82% [===============================>       ] 232,026,630 3.95MB/s  eta 34s    "
       ]
      },
      {
       "output_type": "stream",
       "stream": "stdout",
       "text": [
        "\r",
        "83% [===============================>       ] 232,862,622 3.93MB/s  eta 34s    "
       ]
      },
      {
       "output_type": "stream",
       "stream": "stdout",
       "text": [
        "\r",
        "83% [===============================>       ] 233,729,478 3.94MB/s  eta 34s    "
       ]
      },
      {
       "output_type": "stream",
       "stream": "stdout",
       "text": [
        "\r",
        "83% [===============================>       ] 234,501,262 3.98MB/s  eta 30s    "
       ]
      },
      {
       "output_type": "stream",
       "stream": "stdout",
       "text": [
        "\r",
        "84% [===============================>       ] 235,402,414 3.98MB/s  eta 30s    "
       ]
      },
      {
       "output_type": "stream",
       "stream": "stdout",
       "text": [
        "\r",
        "84% [===============================>       ] 236,203,158 3.97MB/s  eta 30s    "
       ]
      },
      {
       "output_type": "stream",
       "stream": "stdout",
       "text": [
        "\r",
        "84% [================================>      ] 237,157,390 4.00MB/s  eta 30s    "
       ]
      },
      {
       "output_type": "stream",
       "stream": "stdout",
       "text": [
        "\r",
        "85% [================================>      ] 238,071,078 4.01MB/s  eta 30s    "
       ]
      },
      {
       "output_type": "stream",
       "stream": "stdout",
       "text": [
        "\r",
        "85% [================================>      ] 238,983,318 4.00MB/s  eta 27s    "
       ]
      },
      {
       "output_type": "stream",
       "stream": "stdout",
       "text": [
        "\r",
        "85% [================================>      ] 239,713,110 3.85MB/s  eta 27s    "
       ]
      },
      {
       "output_type": "stream",
       "stream": "stdout",
       "text": [
        "\r",
        "85% [================================>      ] 239,862,254 3.65MB/s  eta 27s    "
       ]
      },
      {
       "output_type": "stream",
       "stream": "stdout",
       "text": [
        "\r",
        "85% [================================>      ] 240,012,846 3.44MB/s  eta 27s    "
       ]
      },
      {
       "output_type": "stream",
       "stream": "stdout",
       "text": [
        "\r",
        "85% [================================>      ] 240,164,886 3.24MB/s  eta 27s    "
       ]
      },
      {
       "output_type": "stream",
       "stream": "stdout",
       "text": [
        "\r",
        "85% [================================>      ] 240,215,566 3.03MB/s  eta 26s    "
       ]
      },
      {
       "output_type": "stream",
       "stream": "stdout",
       "text": [
        "\r",
        "85% [================================>      ] 240,227,150 2.82MB/s  eta 26s    "
       ]
      },
      {
       "output_type": "stream",
       "stream": "stdout",
       "text": [
        "\r",
        "85% [================================>      ] 240,253,214 2.61MB/s  eta 26s    "
       ]
      },
      {
       "output_type": "stream",
       "stream": "stdout",
       "text": [
        "\r",
        "85% [================================>      ] 240,298,102 2.41MB/s  eta 26s    "
       ]
      },
      {
       "output_type": "stream",
       "stream": "stdout",
       "text": [
        "\r",
        "85% [================================>      ] 240,415,390 2.24MB/s  eta 26s    "
       ]
      },
      {
       "output_type": "stream",
       "stream": "stdout",
       "text": [
        "\r",
        "85% [================================>      ] 240,676,030 2.11MB/s  eta 26s    "
       ]
      },
      {
       "output_type": "stream",
       "stream": "stdout",
       "text": [
        "\r",
        "86% [================================>      ] 241,262,470 2.07MB/s  eta 26s    "
       ]
      },
      {
       "output_type": "stream",
       "stream": "stdout",
       "text": [
        "\r",
        "86% [================================>      ] 241,914,070 2.03MB/s  eta 26s    "
       ]
      },
      {
       "output_type": "stream",
       "stream": "stdout",
       "text": [
        "\r",
        "86% [================================>      ] 242,702,734 1.98MB/s  eta 26s    "
       ]
      },
      {
       "output_type": "stream",
       "stream": "stdout",
       "text": [
        "\r",
        "86% [================================>      ] 243,477,910 1.96MB/s  eta 26s    "
       ]
      },
      {
       "output_type": "stream",
       "stream": "stdout",
       "text": [
        "\r",
        "87% [=================================>     ] 244,390,150 2.03MB/s  eta 23s    "
       ]
      },
      {
       "output_type": "stream",
       "stream": "stdout",
       "text": [
        "\r",
        "87% [=================================>     ] 245,041,750 1.90MB/s  eta 23s    "
       ]
      },
      {
       "output_type": "stream",
       "stream": "stdout",
       "text": [
        "\r",
        "87% [=================================>     ] 245,700,094 1.88MB/s  eta 23s    "
       ]
      },
      {
       "output_type": "stream",
       "stream": "stdout",
       "text": [
        "\r",
        "88% [=================================>     ] 246,350,742 1.84MB/s  eta 23s    "
       ]
      },
      {
       "output_type": "stream",
       "stream": "stdout",
       "text": [
        "\r",
        "88% [=================================>     ] 247,022,614 1.91MB/s  eta 23s    "
       ]
      },
      {
       "output_type": "stream",
       "stream": "stdout",
       "text": [
        "\r",
        "88% [=================================>     ] 247,496,110 2.00MB/s  eta 21s    "
       ]
      },
      {
       "output_type": "stream",
       "stream": "stdout",
       "text": [
        "\r",
        "88% [=================================>     ] 248,128,886 2.12MB/s  eta 21s    "
       ]
      },
      {
       "output_type": "stream",
       "stream": "stdout",
       "text": [
        "\r",
        "88% [=================================>     ] 248,825,374 2.39MB/s  eta 21s    "
       ]
      },
      {
       "output_type": "stream",
       "stream": "stdout",
       "text": [
        "\r",
        "89% [=================================>     ] 249,478,422 2.56MB/s  eta 21s    "
       ]
      },
      {
       "output_type": "stream",
       "stream": "stdout",
       "text": [
        "\r",
        "89% [=================================>     ] 250,130,022 2.73MB/s  eta 21s    "
       ]
      },
      {
       "output_type": "stream",
       "stream": "stdout",
       "text": [
        "\r",
        "89% [=================================>     ] 250,798,998 3.02MB/s  eta 19s    "
       ]
      },
      {
       "output_type": "stream",
       "stream": "stdout",
       "text": [
        "\r",
        "89% [==================================>    ] 251,495,486 3.10MB/s  eta 19s    "
       ]
      },
      {
       "output_type": "stream",
       "stream": "stdout",
       "text": [
        "\r",
        "90% [==================================>    ] 252,149,982 3.10MB/s  eta 19s    "
       ]
      },
      {
       "output_type": "stream",
       "stream": "stdout",
       "text": [
        "\r",
        "90% [==================================>    ] 252,797,238 3.04MB/s  eta 19s    "
       ]
      },
      {
       "output_type": "stream",
       "stream": "stdout",
       "text": [
        "\r",
        "90% [==================================>    ] 253,448,838 3.06MB/s  eta 19s    "
       ]
      },
      {
       "output_type": "stream",
       "stream": "stdout",
       "text": [
        "\r",
        "90% [==================================>    ] 254,104,782 2.99MB/s  eta 17s    "
       ]
      },
      {
       "output_type": "stream",
       "stream": "stdout",
       "text": [
        "\r",
        "91% [==================================>    ] 254,752,038 2.93MB/s  eta 17s    "
       ]
      },
      {
       "output_type": "stream",
       "stream": "stdout",
       "text": [
        "\r",
        "91% [==================================>    ] 255,429,702 2.94MB/s  eta 17s    "
       ]
      },
      {
       "output_type": "stream",
       "stream": "stdout",
       "text": [
        "\r",
        "91% [==================================>    ] 256,095,782 2.95MB/s  eta 17s    "
       ]
      },
      {
       "output_type": "stream",
       "stream": "stdout",
       "text": [
        "\r",
        "91% [==================================>    ] 256,771,998 2.93MB/s  eta 17s    "
       ]
      },
      {
       "output_type": "stream",
       "stream": "stdout",
       "text": [
        "\r",
        "91% [==================================>    ] 257,428,894 2.98MB/s  eta 14s    "
       ]
      },
      {
       "output_type": "stream",
       "stream": "stdout",
       "text": [
        "\r",
        "92% [==================================>    ] 258,124,430 3.03MB/s  eta 14s    "
       ]
      },
      {
       "output_type": "stream",
       "stream": "stdout",
       "text": [
        "\r",
        "92% [===================================>   ] 258,791,958 3.01MB/s  eta 14s    "
       ]
      },
      {
       "output_type": "stream",
       "stream": "stdout",
       "text": [
        "\r",
        "92% [===================================>   ] 259,320,478 2.93MB/s  eta 14s    "
       ]
      },
      {
       "output_type": "stream",
       "stream": "stdout",
       "text": [
        "\r",
        "92% [===================================>   ] 259,471,070 2.80MB/s  eta 14s    "
       ]
      },
      {
       "output_type": "stream",
       "stream": "stdout",
       "text": [
        "\r",
        "92% [===================================>   ] 259,475,414 2.61MB/s  eta 13s    "
       ]
      },
      {
       "output_type": "stream",
       "stream": "stdout",
       "text": [
        "\r",
        "92% [===================================>   ] 259,628,902 2.48MB/s  eta 13s    "
       ]
      },
      {
       "output_type": "stream",
       "stream": "stdout",
       "text": [
        "\r",
        "92% [===================================>   ] 259,698,406 2.32MB/s  eta 13s    "
       ]
      },
      {
       "output_type": "stream",
       "stream": "stdout",
       "text": [
        "\r",
        "92% [===================================>   ] 259,708,542 2.16MB/s  eta 13s    "
       ]
      },
      {
       "output_type": "stream",
       "stream": "stdout",
       "text": [
        "\r",
        "92% [===================================>   ] 259,720,126 2.04MB/s  eta 13s    "
       ]
      },
      {
       "output_type": "stream",
       "stream": "stdout",
       "text": [
        "\r",
        "92% [===================================>   ] 259,730,262 1.82MB/s  eta 13s    "
       ]
      },
      {
       "output_type": "stream",
       "stream": "stdout",
       "text": [
        "\r",
        "92% [===================================>   ] 259,747,638 1.67MB/s  eta 13s    "
       ]
      },
      {
       "output_type": "stream",
       "stream": "stdout",
       "text": [
        "\r",
        "92% [===================================>   ] 259,767,910 1.52MB/s  eta 13s    "
       ]
      },
      {
       "output_type": "stream",
       "stream": "stdout",
       "text": [
        "\r",
        "92% [===================================>   ] 259,785,286 1.38MB/s  eta 13s    "
       ]
      },
      {
       "output_type": "stream",
       "stream": "stdout",
       "text": [
        "\r",
        "92% [===================================>   ] 259,808,454 1.23MB/s  eta 13s    "
       ]
      },
      {
       "output_type": "stream",
       "stream": "stdout",
       "text": [
        "\r",
        "92% [===================================>   ] 259,833,070 1.11MB/s  eta 13s    "
       ]
      },
      {
       "output_type": "stream",
       "stream": "stdout",
       "text": [
        "\r",
        "92% [===================================>   ] 259,856,238  983KB/s  eta 13s    "
       ]
      },
      {
       "output_type": "stream",
       "stream": "stdout",
       "text": [
        "\r",
        "92% [===================================>   ] 259,886,646  864KB/s  eta 13s    "
       ]
      },
      {
       "output_type": "stream",
       "stream": "stdout",
       "text": [
        "\r",
        "92% [===================================>   ] 259,912,710  748KB/s  eta 13s    "
       ]
      },
      {
       "output_type": "stream",
       "stream": "stdout",
       "text": [
        "\r",
        "92% [===================================>   ] 259,948,910  618KB/s  eta 13s    "
       ]
      },
      {
       "output_type": "stream",
       "stream": "stdout",
       "text": [
        "\r",
        "92% [===================================>   ] 259,986,558  492KB/s  eta 13s    "
       ]
      },
      {
       "output_type": "stream",
       "stream": "stdout",
       "text": [
        "\r",
        "92% [===================================>   ] 260,021,310  371KB/s  eta 13s    "
       ]
      },
      {
       "output_type": "stream",
       "stream": "stdout",
       "text": [
        "\r",
        "92% [===================================>   ] 260,067,646  257KB/s  eta 13s    "
       ]
      },
      {
       "output_type": "stream",
       "stream": "stdout",
       "text": [
        "\r",
        "92% [===================================>   ] 260,122,670  190KB/s  eta 13s    "
       ]
      },
      {
       "output_type": "stream",
       "stream": "stdout",
       "text": [
        "\r",
        "92% [===================================>   ] 260,186,382  169KB/s  eta 13s    "
       ]
      },
      {
       "output_type": "stream",
       "stream": "stdout",
       "text": [
        "\r",
        "92% [===================================>   ] 260,257,334  185KB/s  eta 13s    "
       ]
      },
      {
       "output_type": "stream",
       "stream": "stdout",
       "text": [
        "\r",
        "93% [===================================>   ] 260,336,974  167KB/s  eta 13s    "
       ]
      },
      {
       "output_type": "stream",
       "stream": "stdout",
       "text": [
        "\r",
        "93% [===================================>   ] 260,431,094  173KB/s  eta 13s    "
       ]
      },
      {
       "output_type": "stream",
       "stream": "stdout",
       "text": [
        "\r",
        "93% [===================================>   ] 260,538,246  196KB/s  eta 13s    "
       ]
      },
      {
       "output_type": "stream",
       "stream": "stdout",
       "text": [
        "\r",
        "93% [===================================>   ] 260,630,918  215KB/s  eta 13s    "
       ]
      },
      {
       "output_type": "stream",
       "stream": "stdout",
       "text": [
        "\r",
        "93% [===================================>   ] 260,746,758  240KB/s  eta 13s    "
       ]
      },
      {
       "output_type": "stream",
       "stream": "stdout",
       "text": [
        "\r",
        "93% [===================================>   ] 260,875,630  266KB/s  eta 13s    "
       ]
      },
      {
       "output_type": "stream",
       "stream": "stdout",
       "text": [
        "\r",
        "93% [===================================>   ] 261,005,950  292KB/s  eta 13s    "
       ]
      },
      {
       "output_type": "stream",
       "stream": "stdout",
       "text": [
        "\r",
        "93% [===================================>   ] 261,160,886  325KB/s  eta 13s    "
       ]
      },
      {
       "output_type": "stream",
       "stream": "stdout",
       "text": [
        "\r",
        "93% [===================================>   ] 261,375,190  369KB/s  eta 13s    "
       ]
      },
      {
       "output_type": "stream",
       "stream": "stdout",
       "text": [
        "\r",
        "93% [===================================>   ] 261,589,494  413KB/s  eta 12s    "
       ]
      },
      {
       "output_type": "stream",
       "stream": "stdout",
       "text": [
        "\r",
        "93% [===================================>   ] 261,853,030  470KB/s  eta 12s    "
       ]
      },
      {
       "output_type": "stream",
       "stream": "stdout",
       "text": [
        "\r",
        "93% [===================================>   ] 262,113,670  524KB/s  eta 12s    "
       ]
      },
      {
       "output_type": "stream",
       "stream": "stdout",
       "text": [
        "\r",
        "93% [===================================>   ] 262,374,310  578KB/s  eta 12s    "
       ]
      },
      {
       "output_type": "stream",
       "stream": "stdout",
       "text": [
        "\r",
        "93% [===================================>   ] 262,704,454  647KB/s  eta 12s    "
       ]
      },
      {
       "output_type": "stream",
       "stream": "stdout",
       "text": [
        "\r",
        "93% [===================================>   ] 262,928,398  691KB/s  eta 11s    "
       ]
      },
      {
       "output_type": "stream",
       "stream": "stdout",
       "text": [
        "\r",
        "93% [===================================>   ] 263,108,446  724KB/s  eta 11s    "
       ]
      },
      {
       "output_type": "stream",
       "stream": "stdout",
       "text": [
        "\r",
        "94% [===================================>   ] 263,322,750  764KB/s  eta 11s    "
       ]
      },
      {
       "output_type": "stream",
       "stream": "stdout",
       "text": [
        "\r",
        "94% [===================================>   ] 263,524,974  798KB/s  eta 11s    "
       ]
      },
      {
       "output_type": "stream",
       "stream": "stdout",
       "text": [
        "\r",
        "94% [===================================>   ] 263,693,438  822KB/s  eta 11s    "
       ]
      },
      {
       "output_type": "stream",
       "stream": "stdout",
       "text": [
        "\r",
        "94% [===================================>   ] 263,938,150  862KB/s  eta 11s    "
       ]
      },
      {
       "output_type": "stream",
       "stream": "stdout",
       "text": [
        "\r",
        "94% [===================================>   ] 264,198,790  904KB/s  eta 11s    "
       ]
      },
      {
       "output_type": "stream",
       "stream": "stdout",
       "text": [
        "\r",
        "94% [===================================>   ] 264,459,430  944KB/s  eta 11s    "
       ]
      },
      {
       "output_type": "stream",
       "stream": "stdout",
       "text": [
        "\r",
        "94% [===================================>   ] 264,680,974  971KB/s  eta 11s    "
       ]
      },
      {
       "output_type": "stream",
       "stream": "stdout",
       "text": [
        "\r",
        "94% [===================================>   ] 264,915,550 1003KB/s  eta 11s    "
       ]
      },
      {
       "output_type": "stream",
       "stream": "stdout",
       "text": [
        "\r",
        "94% [===================================>   ] 265,176,190 1.01MB/s  eta 10s    "
       ]
      },
      {
       "output_type": "stream",
       "stream": "stdout",
       "text": [
        "\r",
        "94% [===================================>   ] 265,436,830 1.04MB/s  eta 10s    "
       ]
      },
      {
       "output_type": "stream",
       "stream": "stdout",
       "text": [
        "\r",
        "94% [====================================>  ] 265,698,918 1.07MB/s  eta 10s    "
       ]
      },
      {
       "output_type": "stream",
       "stream": "stdout",
       "text": [
        "\r",
        "95% [====================================>  ] 265,958,110 1.10MB/s  eta 10s    "
       ]
      },
      {
       "output_type": "stream",
       "stream": "stdout",
       "text": [
        "\r",
        "95% [====================================>  ] 266,218,750 1.11MB/s  eta 10s    "
       ]
      },
      {
       "output_type": "stream",
       "stream": "stdout",
       "text": [
        "\r",
        "95% [====================================>  ] 266,479,390 1.12MB/s  eta 9s     "
       ]
      },
      {
       "output_type": "stream",
       "stream": "stdout",
       "text": [
        "\r",
        "95% [====================================>  ] 266,740,030 1.12MB/s  eta 9s     "
       ]
      },
      {
       "output_type": "stream",
       "stream": "stdout",
       "text": [
        "\r",
        "95% [====================================>  ] 267,002,118 1.12MB/s  eta 9s     "
       ]
      },
      {
       "output_type": "stream",
       "stream": "stdout",
       "text": [
        "\r",
        "95% [====================================>  ] 267,261,310 1.12MB/s  eta 9s     "
       ]
      },
      {
       "output_type": "stream",
       "stream": "stdout",
       "text": [
        "\r",
        "95% [====================================>  ] 267,521,950 1.11MB/s  eta 9s     "
       ]
      },
      {
       "output_type": "stream",
       "stream": "stdout",
       "text": [
        "\r",
        "95% [====================================>  ] 267,782,590 1.12MB/s  eta 8s     "
       ]
      },
      {
       "output_type": "stream",
       "stream": "stdout",
       "text": [
        "\r",
        "95% [====================================>  ] 268,059,158 1.13MB/s  eta 8s     "
       ]
      },
      {
       "output_type": "stream",
       "stream": "stdout",
       "text": [
        "\r",
        "95% [====================================>  ] 268,303,870 1.15MB/s  eta 8s     "
       ]
      },
      {
       "output_type": "stream",
       "stream": "stdout",
       "text": [
        "\r",
        "95% [====================================>  ] 268,564,510 1.17MB/s  eta 8s     "
       ]
      },
      {
       "output_type": "stream",
       "stream": "stdout",
       "text": [
        "\r",
        "96% [====================================>  ] 268,825,150 1.18MB/s  eta 8s     "
       ]
      },
      {
       "output_type": "stream",
       "stream": "stdout",
       "text": [
        "\r",
        "96% [====================================>  ] 269,085,790 1.18MB/s  eta 7s     "
       ]
      },
      {
       "output_type": "stream",
       "stream": "stdout",
       "text": [
        "\r",
        "96% [====================================>  ] 269,346,430 1.18MB/s  eta 7s     "
       ]
      },
      {
       "output_type": "stream",
       "stream": "stdout",
       "text": [
        "\r",
        "96% [====================================>  ] 269,607,070 1.19MB/s  eta 7s     "
       ]
      },
      {
       "output_type": "stream",
       "stream": "stdout",
       "text": [
        "\r",
        "96% [====================================>  ] 269,867,710 1.19MB/s  eta 7s     "
       ]
      },
      {
       "output_type": "stream",
       "stream": "stdout",
       "text": [
        "\r",
        "96% [====================================>  ] 270,128,350 1.19MB/s  eta 7s     "
       ]
      },
      {
       "output_type": "stream",
       "stream": "stdout",
       "text": [
        "\r",
        "96% [====================================>  ] 270,388,990 1.19MB/s  eta 6s     "
       ]
      },
      {
       "output_type": "stream",
       "stream": "stdout",
       "text": [
        "\r",
        "96% [====================================>  ] 270,649,630 1.19MB/s  eta 6s     "
       ]
      },
      {
       "output_type": "stream",
       "stream": "stdout",
       "text": [
        "\r",
        "96% [====================================>  ] 270,910,270 1.19MB/s  eta 6s     "
       ]
      },
      {
       "output_type": "stream",
       "stream": "stdout",
       "text": [
        "\r",
        "96% [====================================>  ] 271,172,358 1.19MB/s  eta 6s     "
       ]
      },
      {
       "output_type": "stream",
       "stream": "stdout",
       "text": [
        "\r",
        "96% [====================================>  ] 271,431,550 1.19MB/s  eta 6s     "
       ]
      },
      {
       "output_type": "stream",
       "stream": "stdout",
       "text": [
        "\r",
        "97% [====================================>  ] 271,731,286 1.20MB/s  eta 5s     "
       ]
      },
      {
       "output_type": "stream",
       "stream": "stdout",
       "text": [
        "\r",
        "97% [====================================>  ] 272,017,990 1.20MB/s  eta 5s     "
       ]
      },
      {
       "output_type": "stream",
       "stream": "stdout",
       "text": [
        "\r",
        "97% [====================================>  ] 272,297,454 1.21MB/s  eta 5s     "
       ]
      },
      {
       "output_type": "stream",
       "stream": "stdout",
       "text": [
        "\r",
        "97% [====================================>  ] 272,604,430 1.21MB/s  eta 5s     "
       ]
      },
      {
       "output_type": "stream",
       "stream": "stdout",
       "text": [
        "\r",
        "97% [=====================================> ] 272,878,102 1.24MB/s  eta 5s     "
       ]
      },
      {
       "output_type": "stream",
       "stream": "stdout",
       "text": [
        "\r",
        "97% [=====================================> ] 273,245,894 1.27MB/s  eta 4s     "
       ]
      },
      {
       "output_type": "stream",
       "stream": "stdout",
       "text": [
        "\r",
        "97% [=====================================> ] 273,581,830 1.29MB/s  eta 4s     "
       ]
      },
      {
       "output_type": "stream",
       "stream": "stdout",
       "text": [
        "\r",
        "97% [=====================================> ] 273,972,790 1.32MB/s  eta 4s     "
       ]
      },
      {
       "output_type": "stream",
       "stream": "stdout",
       "text": [
        "\r",
        "98% [=====================================> ] 274,363,750 1.35MB/s  eta 4s     "
       ]
      },
      {
       "output_type": "stream",
       "stream": "stdout",
       "text": [
        "\r",
        "98% [=====================================> ] 274,761,950 1.41MB/s  eta 4s     "
       ]
      },
      {
       "output_type": "stream",
       "stream": "stdout",
       "text": [
        "\r",
        "98% [=====================================> ] 275,183,318 1.44MB/s  eta 3s     "
       ]
      },
      {
       "output_type": "stream",
       "stream": "stdout",
       "text": [
        "\r",
        "98% [=====================================> ] 275,601,790 1.49MB/s  eta 3s     "
       ]
      },
      {
       "output_type": "stream",
       "stream": "stdout",
       "text": [
        "\r",
        "98% [=====================================> ] 276,057,910 1.56MB/s  eta 3s     "
       ]
      },
      {
       "output_type": "stream",
       "stream": "stdout",
       "text": [
        "\r",
        "98% [=====================================> ] 276,579,190 1.62MB/s  eta 3s     "
       ]
      },
      {
       "output_type": "stream",
       "stream": "stdout",
       "text": [
        "\r",
        "99% [=====================================> ] 277,134,726 1.70MB/s  eta 3s     "
       ]
      },
      {
       "output_type": "stream",
       "stream": "stdout",
       "text": [
        "\r",
        "99% [=====================================> ] 277,686,910 1.80MB/s  eta 1s     "
       ]
      },
      {
       "output_type": "stream",
       "stream": "stdout",
       "text": [
        "\r",
        "99% [=====================================> ] 278,214,934 1.85MB/s  eta 1s     "
       ]
      },
      {
       "output_type": "stream",
       "stream": "stdout",
       "text": [
        "\r",
        "99% [=====================================> ] 278,599,150 1.86MB/s  eta 1s     "
       ]
      },
      {
       "output_type": "stream",
       "stream": "stdout",
       "text": [
        "\r",
        "99% [=====================================> ] 279,356,454 2.00MB/s  eta 1s     "
       ]
      },
      {
       "output_type": "stream",
       "stream": "stdout",
       "text": [
        "\r",
        "99% [=====================================> ] 279,835,742 2.04MB/s  eta 1s     "
       ]
      },
      {
       "output_type": "stream",
       "stream": "stdout",
       "text": [
        "\r",
        "100%[======================================>] 279,914,199 2.08MB/s   in 3m 5s  \r\n",
        "\r\n"
       ]
      },
      {
       "output_type": "stream",
       "stream": "stdout",
       "text": [
        "2014-02-07 16:26:21 (1.44 MB/s) - \u2018galGal3.2bit\u2019 saved [279914199/279914199]\r\n",
        "\r\n"
       ]
      }
     ],
     "prompt_number": 3
    },
    {
     "cell_type": "code",
     "collapsed": false,
     "input": [
      "!wget -c http://hgdownload.cse.ucsc.edu/admin/exe/macOSX.x86_64/twoBitToFa\n",
      "!chmod +x twoBitToFa\n",
      "!./twoBitToFa galGal3.2bit galGal3.fa"
     ],
     "language": "python",
     "metadata": {},
     "outputs": [
      {
       "output_type": "stream",
       "stream": "stdout",
       "text": [
        "--2014-02-07 16:29:36--  http://hgdownload.cse.ucsc.edu/admin/exe/macOSX.x86_64/twoBitToFa\r\n",
        "Resolving hgdownload.cse.ucsc.edu... 128.114.119.163\r\n",
        "Connecting to hgdownload.cse.ucsc.edu|128.114.119.163|:80... "
       ]
      },
      {
       "output_type": "stream",
       "stream": "stdout",
       "text": [
        "connected.\r\n",
        "HTTP request sent, awaiting response... "
       ]
      },
      {
       "output_type": "stream",
       "stream": "stdout",
       "text": [
        "416 Requested Range Not Satisfiable\r\n",
        "\r\n",
        "    The file is already fully retrieved; nothing to do.\r\n",
        "\r\n"
       ]
      }
     ],
     "prompt_number": 8
    },
    {
     "cell_type": "code",
     "collapsed": false,
     "input": [
      "#!bwa index galGal3.fa"
     ],
     "language": "python",
     "metadata": {},
     "outputs": [
      {
       "output_type": "stream",
       "stream": "stdout",
       "text": [
        "[bwa_index] Pack FASTA... "
       ]
      },
      {
       "output_type": "stream",
       "stream": "stdout",
       "text": [
        "11.12 sec\r\n",
        "[bwa_index] Construct BWT for the packed sequence...\r\n",
        "[BWTIncCreate] textLength=2200960882, availableWord=166867716\r\n"
       ]
      },
      {
       "output_type": "stream",
       "stream": "stdout",
       "text": [
        "[BWTIncConstructFromPacked] 10 iterations done. 99999986 characters processed.\r\n"
       ]
      },
      {
       "output_type": "stream",
       "stream": "stdout",
       "text": [
        "[BWTIncConstructFromPacked] 20 iterations done. 199999986 characters processed.\r\n"
       ]
      },
      {
       "output_type": "stream",
       "stream": "stdout",
       "text": [
        "[BWTIncConstructFromPacked] 30 iterations done. 299999986 characters processed.\r\n"
       ]
      },
      {
       "output_type": "stream",
       "stream": "stdout",
       "text": [
        "[BWTIncConstructFromPacked] 40 iterations done. 399999986 characters processed.\r\n"
       ]
      },
      {
       "output_type": "stream",
       "stream": "stdout",
       "text": [
        "[BWTIncConstructFromPacked] 50 iterations done. 499999986 characters processed.\r\n"
       ]
      },
      {
       "output_type": "stream",
       "stream": "stdout",
       "text": [
        "[BWTIncConstructFromPacked] 60 iterations done. 599999986 characters processed.\r\n"
       ]
      },
      {
       "output_type": "stream",
       "stream": "stdout",
       "text": [
        "[BWTIncConstructFromPacked] 70 iterations done. 699999986 characters processed.\r\n"
       ]
      },
      {
       "output_type": "stream",
       "stream": "stdout",
       "text": [
        "[BWTIncConstructFromPacked] 80 iterations done. 799999986 characters processed.\r\n"
       ]
      },
      {
       "output_type": "stream",
       "stream": "stdout",
       "text": [
        "[BWTIncConstructFromPacked] 90 iterations done. 899999986 characters processed.\r\n"
       ]
      },
      {
       "output_type": "stream",
       "stream": "stdout",
       "text": [
        "[BWTIncConstructFromPacked] 100 iterations done. 999999986 characters processed.\r\n"
       ]
      },
      {
       "output_type": "stream",
       "stream": "stdout",
       "text": [
        "[BWTIncConstructFromPacked] 110 iterations done. 1099999986 characters processed.\r\n"
       ]
      },
      {
       "output_type": "stream",
       "stream": "stdout",
       "text": [
        "[BWTIncConstructFromPacked] 120 iterations done. 1199999986 characters processed.\r\n"
       ]
      },
      {
       "output_type": "stream",
       "stream": "stdout",
       "text": [
        "[BWTIncConstructFromPacked] 130 iterations done. 1299999986 characters processed.\r\n"
       ]
      },
      {
       "output_type": "stream",
       "stream": "stdout",
       "text": [
        "[BWTIncConstructFromPacked] 140 iterations done. 1399999986 characters processed.\r\n"
       ]
      },
      {
       "output_type": "stream",
       "stream": "stdout",
       "text": [
        "[BWTIncConstructFromPacked] 150 iterations done. 1499999986 characters processed.\r\n"
       ]
      },
      {
       "output_type": "stream",
       "stream": "stdout",
       "text": [
        "[BWTIncConstructFromPacked] 160 iterations done. 1596734466 characters processed.\r\n"
       ]
      },
      {
       "output_type": "stream",
       "stream": "stdout",
       "text": [
        "[BWTIncConstructFromPacked] 170 iterations done. 1683012018 characters processed.\r\n"
       ]
      },
      {
       "output_type": "stream",
       "stream": "stdout",
       "text": [
        "[BWTIncConstructFromPacked] 180 iterations done. 1759691698 characters processed.\r\n"
       ]
      },
      {
       "output_type": "stream",
       "stream": "stdout",
       "text": [
        "[BWTIncConstructFromPacked] 190 iterations done. 1827840818 characters processed.\r\n"
       ]
      },
      {
       "output_type": "stream",
       "stream": "stdout",
       "text": [
        "[BWTIncConstructFromPacked] 200 iterations done. 1888407906 characters processed.\r\n"
       ]
      },
      {
       "output_type": "stream",
       "stream": "stdout",
       "text": [
        "[BWTIncConstructFromPacked] 210 iterations done. 1942236050 characters processed.\r\n"
       ]
      },
      {
       "output_type": "stream",
       "stream": "stdout",
       "text": [
        "[BWTIncConstructFromPacked] 220 iterations done. 1990074626 characters processed.\r\n"
       ]
      },
      {
       "output_type": "stream",
       "stream": "stdout",
       "text": [
        "[BWTIncConstructFromPacked] 230 iterations done. 2032589666 characters processed.\r\n"
       ]
      },
      {
       "output_type": "stream",
       "stream": "stdout",
       "text": [
        "[BWTIncConstructFromPacked] 240 iterations done. 2070373138 characters processed.\r\n"
       ]
      },
      {
       "output_type": "stream",
       "stream": "stdout",
       "text": [
        "[BWTIncConstructFromPacked] 250 iterations done. 2103951122 characters processed.\r\n"
       ]
      },
      {
       "output_type": "stream",
       "stream": "stdout",
       "text": [
        "[BWTIncConstructFromPacked] 260 iterations done. 2133791298 characters processed.\r\n"
       ]
      },
      {
       "output_type": "stream",
       "stream": "stdout",
       "text": [
        "[BWTIncConstructFromPacked] 270 iterations done. 2160309298 characters processed.\r\n"
       ]
      },
      {
       "output_type": "stream",
       "stream": "stdout",
       "text": [
        "[BWTIncConstructFromPacked] 280 iterations done. 2183874530 characters processed.\r\n"
       ]
      },
      {
       "output_type": "stream",
       "stream": "stdout",
       "text": [
        "[bwt_gen] Finished constructing BWT in 289 iterations.\r\n"
       ]
      },
      {
       "output_type": "stream",
       "stream": "stdout",
       "text": [
        "[bwa_index] 780.15 seconds elapse.\r\n",
        "[bwa_index] Update BWT... "
       ]
      },
      {
       "output_type": "stream",
       "stream": "stdout",
       "text": [
        "11.13 sec\r\n",
        "[bwa_index] Pack forward-only FASTA... "
       ]
      },
      {
       "output_type": "stream",
       "stream": "stdout",
       "text": [
        "7.48 sec\r\n",
        "[bwa_index] Construct SA from BWT and Occ... "
       ]
      },
      {
       "output_type": "stream",
       "stream": "stdout",
       "text": [
        "302.36 sec\r\n",
        "[main] Version: 0.7.5a-r405\r\n",
        "[main] CMD: bwa index galGal3.fa"
       ]
      },
      {
       "output_type": "stream",
       "stream": "stdout",
       "text": [
        "\r\n",
        "[main] Real time: 1226.073 sec; CPU: 1112.253 sec\r\n"
       ]
      }
     ],
     "prompt_number": 10
    },
    {
     "cell_type": "code",
     "collapsed": false,
     "input": [
      "!samtools faidx galGal3.fa"
     ],
     "language": "python",
     "metadata": {},
     "outputs": [],
     "prompt_number": 11
    },
    {
     "cell_type": "raw",
     "metadata": {},
     "source": [
      "%%bash \n",
      "for f in ../moleculo/LR6000017-DNA_A01-LRAAA-*LongRead*.fastq\n",
      "do\n",
      "  bwa mem galGal3.fa $f > $f.galGal3.sam\n",
      "  samtools import galGal4.fa.masked.fai $f.galGal3.sam $f.galGal3.bam\n",
      "  samtools sort $f.galGal3.bam $f.galGal3.sorted\n",
      "  samtools index $f.galGal3.sorted.bam\n",
      "done"
     ]
    },
    {
     "cell_type": "code",
     "collapsed": false,
     "input": [
      "!ls"
     ],
     "language": "python",
     "metadata": {},
     "outputs": [
      {
       "output_type": "stream",
       "stream": "stdout",
       "text": [
        "galGal3.2bit   galGal3.fa     galGal3.fa.amb galGal3.fa.ann galGal3.fa.bwt galGal3.fa.fai galGal3.fa.pac galGal3.fa.sa  \u001b[31mtwoBitToFa\u001b[m\u001b[m\r\n"
       ]
      }
     ],
     "prompt_number": 3
    },
    {
     "cell_type": "code",
     "collapsed": false,
     "input": [
      "%%bash\n",
      "for f in ../moleculo/*galGal3.sorted.bam\n",
      "do\n",
      "  echo $(basename $f)\n",
      "  samtools flagstat $f | grep \"mapped (\"\n",
      "  echo\n",
      "done"
     ],
     "language": "python",
     "metadata": {},
     "outputs": [
      {
       "output_type": "stream",
       "stream": "stdout",
       "text": [
        "../moleculo/LR6000017-DNA_A01-LRAAA-1_LongRead.fastq.sorted.bam\n",
        "***********\n",
        "678540 + 0 mapped (99.98%:nan%)\n",
        "\n",
        "../moleculo/LR6000017-DNA_A01-LRAAA-1_LongRead_500_1499nt.fastq.sorted.bam\n",
        "***********\n",
        "198271 + 0 mapped (99.34%:nan%)\n",
        "\n",
        "../moleculo/LR6000017-DNA_A01-LRAAA-2_LongRead.fastq.sorted.bam\n",
        "***********\n",
        "687033 + 0 mapped (99.98%:nan%)\n",
        "\n",
        "../moleculo/LR6000017-DNA_A01-LRAAA-2_LongRead_500_1499nt.fastq.sorted.bam\n",
        "***********\n",
        "184889 + 0 mapped (99.22%:nan%)\n",
        "\n",
        "../moleculo/LR6000017-DNA_A01-LRAAA-3_LongRead.fastq.sorted.bam\n",
        "***********\n",
        "691977 + 0 mapped (99.97%:nan%)\n",
        "\n",
        "../moleculo/LR6000017-DNA_A01-LRAAA-3_LongRead_500_1499nt.fastq.sorted.bam\n",
        "***********\n",
        "196101 + 0 mapped (99.22%:nan%)\n",
        "\n",
        "../moleculo/LR6000017-DNA_A01-LRAAA-4_LongRead.fastq.sorted.bam\n",
        "***********\n",
        "708416 + 0 mapped (99.98%:nan%)\n",
        "\n",
        "../moleculo/LR6000017-DNA_A01-LRAAA-4_LongRead_500_1499nt.fastq.sorted.bam\n",
        "***********\n",
        "188902 + 0 mapped (99.22%:nan%)\n",
        "\n",
        "../moleculo/LR6000017-DNA_A01-LRAAA-5_LongRead.fastq.sorted.bam\n",
        "***********\n",
        "667695 + 0 mapped (99.97%:nan%)\n",
        "\n",
        "../moleculo/LR6000017-DNA_A01-LRAAA-5_LongRead_500_1499nt.fastq.sorted.bam\n",
        "***********\n",
        "201571 + 0 mapped (99.32%:nan%)\n",
        "\n"
       ]
      }
     ],
     "prompt_number": 9
    },
    {
     "cell_type": "code",
     "collapsed": false,
     "input": [
      "%%bash\n",
      "grep \">\" galGal4.fa.masked|uniq -u|wc -l"
     ],
     "language": "python",
     "metadata": {},
     "outputs": [
      {
       "output_type": "stream",
       "stream": "stdout",
       "text": [
        "   15932\n"
       ]
      }
     ],
     "prompt_number": 14
    },
    {
     "cell_type": "code",
     "collapsed": false,
     "input": [
      "%%bash\n",
      "for f in ../moleculo/LR6000017-DNA_A01-LRAAA-*.sam\n",
      "do\n",
      "  echo -n \"$f: \"\n",
      "  #grep \"Read_\" $f | cut -f3 | grep chr | sort -u > $f.unique\n",
      "  wc -l $f.unique | sed 's/^ *//g' | cut -d \" \" -f1\n",
      "done"
     ],
     "language": "python",
     "metadata": {},
     "outputs": [
      {
       "output_type": "stream",
       "stream": "stdout",
       "text": [
        "../moleculo/LR6000017-DNA_A01-LRAAA-1_LongRead.fastq.sam: 4346\n",
        "../moleculo/LR6000017-DNA_A01-LRAAA-1_LongRead_500_1499nt.fastq.sam: 2814\n",
        "../moleculo/LR6000017-DNA_A01-LRAAA-2_LongRead.fastq.sam: 4279\n",
        "../moleculo/LR6000017-DNA_A01-LRAAA-2_LongRead_500_1499nt.fastq.sam: 2841\n",
        "../moleculo/LR6000017-DNA_A01-LRAAA-3_LongRead.fastq.sam: 4269\n",
        "../moleculo/LR6000017-DNA_A01-LRAAA-3_LongRead_500_1499nt.fastq.sam: 2911\n",
        "../moleculo/LR6000017-DNA_A01-LRAAA-4_LongRead.fastq.sam: 4230\n",
        "../moleculo/LR6000017-DNA_A01-LRAAA-4_LongRead_500_1499nt.fastq.sam: 2909\n",
        "../moleculo/LR6000017-DNA_A01-LRAAA-5_LongRead.fastq.sam: 4188\n",
        "../moleculo/LR6000017-DNA_A01-LRAAA-5_LongRead_500_1499nt.fastq.sam: 2811\n"
       ]
      }
     ],
     "prompt_number": 21
    },
    {
     "cell_type": "code",
     "collapsed": false,
     "input": [
      "%%bash\n",
      "cat ../moleculo/*.unique|sort -u|wc -l"
     ],
     "language": "python",
     "metadata": {},
     "outputs": [
      {
       "output_type": "stream",
       "stream": "stdout",
       "text": [
        "    8425\n"
       ]
      }
     ],
     "prompt_number": 20
    },
    {
     "cell_type": "code",
     "collapsed": false,
     "input": [
      "# unique reads mapped with bwa to the reference\n",
      "8425./15932"
     ],
     "language": "python",
     "metadata": {},
     "outputs": [
      {
       "metadata": {},
       "output_type": "pyout",
       "prompt_number": 32,
       "text": [
        "0.528809942254582"
       ]
      }
     ],
     "prompt_number": 32
    },
    {
     "cell_type": "code",
     "collapsed": false,
     "input": [
      "%%bash\n",
      "# http://picard.sourceforge.net/explain-flags.html\n",
      "# http://left.subtree.org/2012/04/13/counting-the-number-of-reads-in-a-bam-file/\n",
      "for bam in ../moleculo/LR6000017-DNA_A01-LRAAA-*.sorted.bam\n",
      "do\n",
      "  echo -n \"$bam: \"\n",
      "  samtools view -c -f 4 $bam\n",
      "done"
     ],
     "language": "python",
     "metadata": {},
     "outputs": [
      {
       "output_type": "stream",
       "stream": "stdout",
       "text": [
        "../moleculo/LR6000017-DNA_A01-LRAAA-1_LongRead.fastq.sorted.bam: 167\n",
        "../moleculo/LR6000017-DNA_A01-LRAAA-1_LongRead_500_1499nt.fastq.sorted.bam: 1320\n",
        "../moleculo/LR6000017-DNA_A01-LRAAA-2_LongRead.fastq.sorted.bam: 151\n",
        "../moleculo/LR6000017-DNA_A01-LRAAA-2_LongRead_500_1499nt.fastq.sorted.bam: 1446\n",
        "../moleculo/LR6000017-DNA_A01-LRAAA-3_LongRead.fastq.sorted.bam: 180\n",
        "../moleculo/LR6000017-DNA_A01-LRAAA-3_LongRead_500_1499nt.fastq.sorted.bam: 1535\n",
        "../moleculo/LR6000017-DNA_A01-LRAAA-4_LongRead.fastq.sorted.bam: 157\n",
        "../moleculo/LR6000017-DNA_A01-LRAAA-4_LongRead_500_1499nt.fastq.sorted.bam: 1476\n",
        "../moleculo/LR6000017-DNA_A01-LRAAA-5_LongRead.fastq.sorted.bam: 167\n",
        "../moleculo/LR6000017-DNA_A01-LRAAA-5_LongRead_500_1499nt.fastq.sorted.bam: 1386\n"
       ]
      }
     ],
     "prompt_number": 33
    },
    {
     "cell_type": "raw",
     "metadata": {},
     "source": [
      "Removing -c samtools output the reads, and so I took 25 from LR6000017-DNA_A01-LRAAA-1_LongRead"
     ]
    },
    {
     "cell_type": "code",
     "collapsed": false,
     "input": [
      "%%bash\n",
      "\n",
      "samtools view -f 4 ../moleculo/LR6000017-DNA_A01-LRAAA-1_LongRead.fastq.sorted.bam | head -25 | cut -f10 > reads"
     ],
     "language": "python",
     "metadata": {},
     "outputs": [],
     "prompt_number": 35
    },
    {
     "cell_type": "raw",
     "metadata": {},
     "source": [
      "And thrown in BLAT first 5 lines:\n",
      "\n",
      "GGTCAGGCAATGCCAGGCAAAGACAGGCCAGGCCAGGCCCAACTAGGCCAGTCTTTGCCAAGTCAGGCCAGGCCAGCCCAGGCCAGGCACGGCCTGGCCAGACAAGACCAGGTCAGGCCAGGCAAGGCCAGGCAAGGACAGGCCAGACAAGACAAGGCAAGACAAGTCAAGGCCAGGAAAGGCAAGGCCAGGCCAAGGCAGGACAGGTGAGGCAAGACTGTGCCAGCAAGGACAGGGCAGGCCAGACCAGGCCAGGGCAGACCAGGGAGTCCAGGGGAGTTTAGGCAAGTCACAGCAAGGCCACGCCAGGCCAGGCCAGGGAGGCCAGGCAGAGCCAGGGCAGGCCAGGTGAGACGAGGCGAGGCCTGGCCAGGGCAGGCCAGGCTAGACGAGACGGGTCCAGGACAGGCCAGGTGAGGCCAGGCCAGGCCAGGCAAGGCAAGGCATGCAAGACCTAGCCAGGCCATGCCAGGCCAGGCTAAGCCAGGACAGGTGAGGCAATGCCAGGCCAGGCAAGGACAAGCCTGGCCAGGCCAAGCAGGGACAAGGCCACGCCAGGAAAGGCCAGGCAAGACCAGGCCAAGCCAGGCCAGAGCAGGAAAGGCCAGGCAAGGCCAGGCCAGAGAATGCAAGGCCAGGGAAGGCCAGTACAGGCCAGGCAATGCAAGGCAAGGCAAGGCACGGCCAGGACAGGTCAGTGCAGTCCAGGCCAGGCATGGCAATGATAGGCCAGGCCAGGCCAGGCCAGGCAAGTCAAGGCAATGCAAAGCAAGGCAAGGCAAGGCAAGGCAAGGCAAGGCAAGGCAAGGCAAACCAGGCCAGGCTAATGAAGGCCAGGCAAGGTAAGGCCAGGCTGGGCAAGGCAAGGCAAGGCAAGGCAAGGCAAGGCCAGGGCAGTCCAGGCCATGCAAGGAAAGGCAAGGCCAGGCCATGAAAGGCCAGGCCAGGCCAGGCCAGGCAAGACCAGGCAAAGCCAGAAAAGGCAAGGCATGGTAAGGCCAGGCCAGGCCAGGCCAGGCCAGGGCAGGTAAGACAAGGCAATGCCAGGGAAGGCAAGGAAAGGCAAGGAAAGGCAAGGAAAGGCAAGGAAATGCAAGGCAAGACCAGGCCAGGCCTGGCCAGGCCAGGTCAGGAAAGAGCAGGCCAGGCACGGCAAGGCAGGCCAGGCAAGACAAGGCGAGGCCAGGCCAGGCCATGCTTGGCAAGGAAAGGCAAGGCCAGGTCAGGCAATGCCAGGCAAAGACAGGCCAGACAAGGCAAGGCAAGACAAGTCAAGGCCAGGAAAAGCAAGACCAGGTCAAGCCAGGACAGGTGAGGCAAGACCGTGCCAGCAAGGCCAGGGAAGGCCAGTACAGGCCAGGCAATGCAAGGCCAGGCAAGGCCAAGGAAGGCAAGGCAAGGTAAGGTAAGGCCAGGCCAGGCTAGCCAAGGATAGGCCAGGCCAGGCCAGGCTAATGAAGGCCAGGCAAGGCCAGGCCGGGCAAGGCAAGGCATGGAAAGGCAAGGCAAGGCAAAGCAAGGCAAGGCAAGGAAAAGGCAAGGCCAGGACAGGACAGGCAAGGAAAGGCCAGGGCAGGAAAGTCAAGGAAAGACAAGGCAAGGCCAGGCAAGGCAAGGCAAGGGAAGGCCAGGGAAGGCAATGCAAGCGAAGGCCAGGAAATGCCAGGCAAGGCAAGGCAAGTCATGGCAAGGCAAAGCCAGGCCACACAAGGCAAGGAATGGCAACGCATGGCCAGGAAAGGCCAGGCCAGGCCAGGCAAGGCGAGCCCAGGCATGACAAGGCAAGGCAAAGCAAGGGCAGGCAAGGCAAGACAAGGCAAGATATGGTAAGGCAAAACAAGGCCAGACAAGGCCAGGCCAGCAATGCGAGGCAAGGCAAAGCCAGGCAAAGCAAGGCCAGGCCAGGCCAGGCCAGGCCATGCCAGGCAAGACCAGGTCAGGCAAAGCCAGGCAAGGCAAGGCAAGGCAAGTCCAGGCAAGGCCAGGCCAGGCCAGGCCAGTCCAGGCACAGATGGGCAAGGGAAGGCCAGTCACGGCCAGGAAGGCCAGGCAATGAAGTCCAGGCCAGGCCAGGCCAGGCCACAGCAGGCAAAAAAAGGCAAGACCAGGAAGGCCATGGAAGGAAAGGCAAGGCCAGGCCAGACCAGGCAGGGCCTGGCAAGGCAAGGCCCGGCAAGGCAAAGCTTGGCAAGGCAAGCAGGGCAAGGCCAGGAAAGGCTAGGCTAGTCCAGGCATAGCCAGGCCAGGCAAGGCAAAGCCAGCACAGGAGAGGAAAGGCCAGGCACGGCTAGGCAAGGCAAAGCAAAGCAAGGCTGGGCAAGGCAAGGCAAGGCAAAGCCAGGCCAGGCCAGGCAAGGCGAGGCAAGGCAAGGCTGGGCCAGGAAAGGGAAGGAAGGCAAGGCAAGGCAAGGCAAGGCAGGGCCGTGCCAGGCCTGGCAAGGCCAGGCCAGGCCATGCAAGACACGACAAGGAAAGGCCAGGCAAGACAAGTCAAGGCTAGGCCAGTCCAGGCATAGCCAGGCCAGGCAAGGCAAAGCCAGGAGAGGAGAGGCAAGGCCAGGCACGGCAAGGCACGTCTTGGCAAGAATAGGCCAGGCCAGGCCAGGCAAGGCAAGGCAAGGCAAGGCAAGGCCAGACAAGGCAAGGCAAAGCAAAGCAAGGCTGGGCAAGGCAAGGCAAGGAAAGGCCAGGCAAGGCAAGAAGTGCATGTCAAGTCAAGTCAAGTCAAGGCCAGGTCAGGCCAGGCAAGGCAAGGCCAGGCCATGTCAGGCAAGGCCAGGCCAGGCCATGCAAGGCACAACAAGGAAAGGCATGGCCTGGCCAGGCAAGGA\n",
      "AGAGGCAAGGCCAGGGATGGCTAGGTACAGCATGGCAGGGCCAAGCCAGGCTAGCAACGCAAGGCAAGGCAAGGCAAGGCAAGGCCAGACAAGGCAAGGCCAAGCAAGGCAAGGCAAAGCAAAGCAAGGCTAGGCAAGGCAAGGCCAGACAAGGCCAGGCAAGTCAAGCAGGGCATGTCTAGTCAAGTCAAGGTCAGGCCAGGCAAGGCAACGCAAAGCCAGGCCAGGCTAGGCAAGGAAAGGCAAGGAAAGGCAAGTGTTGGACAGGCCAGGCTAGGCCAGGCAAGGCAATTCACGGTAACTCACAGCAACTCATGGCAAGGCAAAGCCAGGCAAGACAAGGAAAGGCAAGGCCAGGCAAGGTAAGGCCAGGCCAGGCCAGGCCCGGCAAGGCAATGCAAGGGATGGCCAGGCAAGGCCAGGGAAGGCAAGGCCAGGCAAGGCAAAGCAAGGCAAGTCATGGCAAGGCAAAGCCCAACTAAGCAAGGCAAGGCAAGTCCAGGAAAGGCCAGGCCAGGCCAGGCCACGTCAGGCAAGGCAAGGCTATGCCATGCAAGGCTAGGCAAGGCCAGACAAGACCAGGCAAGGCAAGGCAAGAGAAGGCCAGGCCAGGAAAGTCCAGGCAAGACAAGGACCGGACAGGCAAGGCAAGGAAAAGCAAGGCAAGGCCAGGCAAGGCCAGGCCAGGCACGGATGGACAAGGGAAGTCAAGGCAAGGCCTGGCAAGGCAAGGCAAGGCAAGTAAAAACCAGGCAAGGGTAGGCGAGTCAAGATGAGGAAGGCCATTCAAGGAAAGGCATGGCCAGGCCAGGCCAGGCCAGGCAAGGCAAGGCAAGGCAAAGACAGAAAAATCCAGGCCAGGCCAGGCCATGCCAGGCCATGCCAGGCAAGGCCAGGTCAGGCAAAGCAAAGCAAGTCCAGGCAAGGCAAGTCCAGGCAAGGCCAGGCCAGGCAAGGCCAGGCCAGGCCAGGCACAGATGGGCAAGGGAAGGCAAGTCACAGCCAGGAAAGCCAGACAAGGAAGCCCAGGCCAGGCCATGCCAGACAAAAAAAGGCAAGACCAGGAAGGCCATGGAAGGAAAGGCAAGGTCAGGCCAGGCCATGCAAGGAAAGGCAAGGACAGGGTAGGCCAGGCAAGGCAAAACAAGGCAAGGCAAGGCAAGGCAAGGCAAGGCTGGGCCAGGAAAGACAAGGCAGGCAAGGCAAGGCAAGGCAGGGCCATGCCAGGCCAGGTAAGGCCAGGCCTGGCCATGCAAGGCACGGCAAGGAAAGGCCAGGCAAGACAAGCAGGGCAAGGCAAGTCAAAGTTAGACCAATCCAGGTATAGCCAGGCCAGTAAAGGCAAAGCCAGGAGAGGAGAGGCAAGGCCAGGCACGGCTAGGCACAGCTTGGCAGGGCCAAGCCAGGCCAGCAATGCAAGGCAAGGCAAAGCAAGGCCAGACAAGGCAAGGGCAAGCAAGGCAAGGGCAAGCAAGGTCAAGCAACGCCAGTCTAGGCAACGTCAGGCAAGCAAGGCCAGGCATGGTCAGGCAAGGCAAGGCCAAACAAGGCAAGGAAAAGTAAGGCCAGTCAGGGCAAGGAAAGGAAAACAAGGCAAGGCCAGGCAAGGCAAGGCAAGGCCAGATGGGCAAAGCCATGCCAGTAAACCAAGGAAAGTCTAGGCCAGGCCAGGAAAGGCCAGGCAATGCAAGGCAAGGCCAGGCAAGGTCAGGCCAGGCAAAGCAAGGCCAGGCCAGGCCAGGCACAGCAACACCAGTCTAGGCAAGGCCAGGAAAGGTCATGCAACACCAGTCTAGGCAAGGTCAGGCAGGGCAAGGCCAGGCAAGGTCAGGCAAAGCAAGACCAGTCCAGGCCAGGTAAGGCAAGGACAGTTAAGGTGAGGAAAGGCAAGGCAAGGTAAGGCATGGCAAGGCATGGCAAGCACAGGTCAGGCCAAACTAGGCAAGGCGAGGCAAGCAAAGGCCAGGAAGACCCAGGCCATACAAGGCCAGGCCAGGCCAAGCCAGACAAGGCAAGGCCAGGCAAGGCAAGGCAGGGCAGGGCAAGGCAAGGCAAGAAATATTCCGTCAAGGCCAGGCCAGACAAGGCAATCCCAGGCAAGGCCATGTCAGGCCAGGCAAGGCCAGGCAAAGCCAGGCCAGGCCAGGCCAAACAACTCAAGGCAAAGGAAGGACAGGCAAGGCCAGGCATTGCAAAAAAGGCAAGGCAAGGCAAGGCAAGGCAAGGCCAGGCAGAGCAAGGCAAGGCCAAGCAAGGCAAGGCAAGGCAAGGCAAGGCAAAGCCAAGCAAGGCAAGGA\n",
      "AATTACCCTCTGATATCAAACGAAAATCTCACTCCTTTTATTTTAAAGCCATCCCACCTTGTCTTCTGACAATCCGTCCGTGCAAGAACTTGGTCTCCCTCCCATTTATAAGCTCCCCTTAAGTACATGAAGGCTGAAAACAGTACTGAAAATGCATGGCCAGGCCCAATTACCGCTCCTAAATCATTATGAGAGAGCACACGGCTGCTGTTCAACTGGATTTCCTTGTTCTGTAAAAATGGCAATCAGCAGGTGATGGTAGGCTGAACATAATAAAATTTCTCTCTGGCTACTTTCTAGGGCTCTTAAATACTACCAATCCCTTAAAAATCAAATAAACAAACAACAACACAAAATACATGGAAGTGCTCAAATATTTGCACTATGGGTTTACATGAGAAGATTCAAGAACTCAGAACTGCAGTCATCCATTATTTTTGTTATTGCTTTCATACTTCGAATGTAATTACTCAAAGGAAAAAAAAAACATTCACAAGCCATTTTTAAAATAAATATTTTTTGGGACTGTAAATTAACATCTGCCAAATATTGGTTAATAATCACTCTTTTCAACATTTTCTATTTTCTTGTACCCATACGTATCCCCCAACTAAAACTCCTGCATAGGATTATGCCTTTATTTTCATCAGCCACGTCAAAAGATGACACAATAGATATATAAATCTTTGTAATGCATTTTGCTTCTAGGAAAAGCTTTCAGGAAAGCACACATGCTCACCCCATGCATATTCAAAACTCAGCAGATGTATCATGATGAGTTGCCTTGATTTGGCTCCAGAATGACAAATTATAGCCATCAGCACACATCCTGCCAAGAACAGAGAATGAAACTCTGTTTAGTCCAATGATCTTGCTTTAGTTGCAGGCAGAATTTTGTGTCCATCATAGAAATATGTGCTTCTAAATGTACTCCACTAGCATTTGTTCATGTAGCTATTTTGAAATTACAAAGTAGGCCTTTTGTTTCCTCACAGTGCTTCCATCTCTCCCCAGATCTGATCATGCTGTTTATTACAGCAGATTGGAACTGAACTGATGAAACGACATTTCACTGTAGAAGGCAGGTTTCTGAGCCCAAAGGGTTTCACTGGAAATATCTGTGCTTGAAACGCCTCCACCAAATCCAAGGGATGGCTCCAATCTGACTGAACAAGGATTCCTGGCTAGTCTAATTCTAGATCTGGGAATGCAGGGAATGCAGCGGTTCACAGTGCAGGGTGATCCTGCCTCCTGACATTTTTTTCTTCTTTTCCTGAAATCATTAATCTGCAGTTCAATCTGTCCTACAGTTAAAATTTTCTTAAAGGCATGGAGCGAAAGTCCATCGATGAACTGGGAATGTTGATTTTAGGTGTTTATTGGAGCAATCTCTGTAAAGAAAGTTTAGTTCTTGAAGGTTCTTGAGTGGAAAAAATTATGAAGGCAATCTCTATGTAACATTTCATTTTGTTGTTTCCTTCCTGGAATGTAGCTAGAGATTTAGTTAGATGCCATAATGCAGGAATAAATGGCACAGACTTCTGAAAGACACTGATTTCATAAGATTGTTCTCCATCTGTATGAAAATCTGCAAAAAAAAAAAAAAACAAAAAACAAAAACAAAAAAACAAAAAACAAAAAAACCACCCAAACCCCAAACAAAACAAAAAACAAAACAACAACAACAACAGAAAAAACCCAAAACCAAAAACCCCAAAAAAGAAAACACCCACAGAAAAGGAGAAAAACCCAGAACAAACCCCCACACAGGAAACATGTTTGCAAGGTAATTTCAGAATAAAACTTGTTAGACTTCAATATATCAACTACCAATGGCATGACAAAGACAATGCTGTACTGCGGACCATTGTACTCTTTTTTTTTCTCAAAGTAAAGAATATTTTTTGATCATTTACTTCAGTAGATTTATCCCCAACTATTCTGTGAGTTTGGGATTTCCCCACTCAGATGACTAGAGTGTGGAAGGAACAGATCAGCATGGTTTCCTCTGAAGGAATCCTACTGCCCTTCTGTCCTTTTGTGTTCTCCTACAGCTGAAAGGAGGACTCCACATCATCAAAATTAAGCCAGCTCTCAGCACACTTCCATTCAAGAGATTAACAAGGAAACTGACTAATGGAAAGATAAAACGCAAGACAACATCATAGTTATAAAACCATCAACAATGCAGAAAATAGGGCAGAAAGCTGTAATCAGTGTAAAATTAAAGACACAGAGCAGTGAGTGTCTGCAGGACTCTGCTGTCTCAAGGGCCTCCTAGAAGGAAGCTCATGCCACAGTCACCCCTCCTTGAAGCAACCTTTGGATGGTATAGGCAATATGAAGCTGTTGGACTGGATCTTTTCCAACCTTGATGATTCTATGATTTTGCCAAGCAGCTCTGAGTACACAATGGTGCACACCAGCCTCAGCAAAGTTTCCATGTGTTTCAGGATTTTTTGGTGTTATGTGATCGCAATTAGGTCTTACTTATTTTTCCTGCCAAGATGCTCAGCATCCATTTCTACTAGGACTTCAGAAAAATATCTGCCAGGGCATTTGGATGCAACATATTGCACAAATGCCCTTAACAAGTTCATAATCAGACACGGCTTTGAAATTTTTGACAAGGTTCTATCTCCTTTCAGACTCACATTTATTTCAGTCACCTACCATTTTTGGTGCTGTTTGATGGCCCTTCAGGTATATGTGCAAAAACCTTGTATTTGATGCTGCTTTGACTCACTGACAGACATTCTCAGTGTATATAGTTATCAACTTTCTTCTTCCTGAAGAGTCCTTGTTCATAGGTAATAAATAAAATGTTTTCACTGGAAAGGATGCTTTGCCCTTTTTCAATATACTTTGCAGGATGAATGTTAACATATTAGCAAGGAAGATTCTGCCTATCCTTTACCAGACAAAGTGGGGAGTGATGGACAGGCAAAAGAAACCATTTCCCTACATGATCCCTACATTTTACTCTTAGGCAAGCCAATAGATTTAACTCAGTGTACTATTTTGGAACTTTCATGTTCTGGTTGAATGCAAGAAAAAGTAGGACAAGAGAGCACTTGTTTAAGGTGGAAATCAGGCTCCTACCATACAACTGGTTAGAAATACAATGCTGTATGTTTACTATTGCTATAATGTACTTTTCAATGAATCGTCTAGCCAGCATCCTACCATTGAGCAAATGACTGCAGTTTCATTTTGTGTGGCAATCGAAACCATTCAGTTTCAAAGAATGATTGAAGTCTAATAAAGCATTCCACTGTTAACCACCAAACAGTGTCAGATTTCCACCGGCAGGTTTAGACAAGAAAAACTCTTGCTTTTTCAAGACTAACTGAATCAGGGATGTGTCATCAAGAAGCAGCCTTTTTGTTTTAGCTTTACAGTCACTCTGTAACTGACTTGGAATGGCAGGTTGAATGTTCGTAAAGCAAACGGGTATTCAAATGCTGCTTACCATGGAAGGATTAGATCAACTTTCCAGAAGTGCGGCATGCAACCAAACCTTGTGTTTGTGAGATATTGGGACCTCAATGCATGTGTTTACACCATGCAAAAAAACCAAACAAACAAACAAAAAAAACCCCACCAACAACAAAACACCCAGAAGCTATGGAAGATTAGAACATGCACAGAGCCAAATGCCATGGGGTGTATTTGATTCACTGCCAGAGCAGATCCTAGGTTATAACCCTGAGTGGCACAGTCGACTCTGTTATACCTTCTACTGAGAAATACACAGATAGAAAGCAATGGTCATACAGTGGTCATGGCCCAACAGTCCTCTGGACTGCCTTCGACAACAAGCACCAGTAGGGTTAACATGGAGCCCAATCTAGATCATAACATCACTCTCCTCCGTGTCAAACTGTGGTGATAGGCTGATGGTTGGACTAGATGATCTTAGAGATCTTTGCCAACCTTAATGATTCTATGATTCTATGAAATGTAACTGAAAACAGATCGTGTTTCCATTTGTGCACCATCCTTAGAGCATGAGAGCTCACTGCAACACACAGACAGAAGTCTTCTGTCATAAATTCAGCTCAACACTGCAATTCATGCTTCTGGAGCTGGGGAGCATAGATCTTCAAACTCGTTCTCTAATGGACTGACATTACACAATAACAGATTTTTTTCACTTGAGAGTATGTGCTCCAAGTTCTCAGTAGAAGAACAAAGCAGTGTTTGGTGGATGGAACAGTTTACATACAATTCAAACAAAACCTAAGTAGCTGATGACTAACTTACAAAGCATAAAGATTCCAGTTTTGTGTTGCTGAAAAATGTAAAAACAAAACTGTTCTTGCTTGCTCCCCCAGGAATACATCACTGCCAGAAGCCAATTCAGAGGTTGGGAAAACTAAGGTCCATTTCAAAGTTAATTCTGGGGTTGCCCAGTGTAAATCTTATGAAACATACTGGAAAAAATCAAGATATGAGTCATTCACACCAATCTGTCAAGACATTGTGGGAATCTACTGCAACTGCCCTTTGGGCTAAATGACTTTGTGGAGAAATTCTATTGAAAGCAAAGCACAAGAGACTAATTTAGTCCTCTGTAGCTAGTTCTTTCCTTTTCTTCCTTTTCTATCTTGCTTGCTTTCTTG\n",
      "TGCTCACTCTCTCTCCATCTCTTCCTCCTTCCCCTTTTTCTTGTTCAATTGATTTTCAGTGCAATAGGAACAAAGGGCCCAGTCAAGGTCAGGGCACTGGTCTGAGTCTGCAACATGCCTTTAGAGGGGAGCAGTGACAAATATAATCAGTGGAGCAATAGACAGTGAGTGGCAGTGGTGGACTTAGGGAGCTTATGACATGCTTTACACAAAGCTGAGTAGAAAGGCATGTTGTAAGTCAATGAAGTGACAATTTCAGCATTTTTATCCTACCTTACAATTGAAGGATCAGACACAGAGTTTGTAGTCATGGAATCAAGCTGTAAGCATAATTACTCCATTTTCCATTCTCTCATCTCTGCCACCAGTTCTGTGCCACATACTGCCATTCCCCACCTTTCCAGTCTTTCTACCCTGGTTTTCTACCCTGAAAAAATGTGTTTTAAGAACGTCACAACAACACCACAATATACGAGTATCTTTAGCTTTTATGAGGATTGACAGAAAAATATTGATGGAAAGTATCTGAGGAGAAATTTGACCTCCAAATTTTATTTCTGCTCCCCAGACAACCTGATTACTTTCCATAGAAGTATTAATATTTTCTTCATGAGAATCTGATGCTTTGACGGTTCCATGACATCCACATAGGAGCCATAATATGTCTCTTTCCTTCTCCTGAAAAATAAGAAAGTGGTGTTTGCTGGATGCTTTGGCCCAAGAATGGGATCCAGACTGAACTGAAAAATGAGCGGGTCAGGAACTCAATTCTCCGGAAGGTTTTCACAAACACATTTCAGAACAAGATTTTTAATTTATCAATCTTTTCTAGGGGGAAAAATATTTTTTAAAAAAGATTTTATTAACATTTCTACAGTAACTTAGATTTTACGCTAGGGGGAATTCTGAGATGAGTAACAAAATAAAGAGCATCAGACATCTTCATTTTTTCAGTAACTGCCACTTAAAAGATGCAGAAAAACATTTATATGCATCAGTATATTACATTCAATAAGCATCCTCCTGAGAAGAAGAGGAGGGTAAAATCTCTGCAATCCTTCTCGTATTTCAAAACAAAACAGAAGGAAGCCTGCACTTGGTTTGTTGCTCTGATAAACAAACAAGTCTTACATCATCAACTTTGTGTATTCATCATATACAGCTAAAGATTGCTAAACACCAGATCTAAATTAATTATAAGCTATAATTTATTTATCTAGGAGTTAAGTCCTATTCCCCTATCACCCCACTGTTTCTGTCATCAGGAGCAATTCCTCCACAGATGAAATCTTTGTTCAGGGACCTCTTATAAGTTGTGGCAGCAGAGCTGGGCTTCCTCTGCTTGGACAAGCCAGTAGTGCTCCCCCTCTAGCCCTTACAGCACCTTCATACTCCTTCCATTCCCCTTCACCTCAAAGACAAATCTTTTCTTATGATGTAGGTGAATGCTACTTGAATGCTCTGATGACATGAGAGAGCTTGACTTTTTATTCTGCAGTTACAAGGTTTTAGAGAAAGAAGTCACTGTGAGTGAGTTCACACCTCACACTATACTAAGTTCCACTGCAAGGGAGATTTTAGGGAGGTCTCTCTCTAATACCTCCTGAAAGCTGCACAAGGCTTCAGATTACATCTGGTCTGCACATATGACAAAAGGACCTTCTATTTCAGCATGGCAATAGTCAGCAGTTTAAATTCTGCTCTCTGATAGATGTTTAGTCTGAAAATGTGGACTGAAAGGTACCATCATGCTCTTCTTCAGAAACTAAATCACATGAGGCCTCACCTGTAGATCCACCTGCAAAAGAAAACAGAAATCCTAGGGGACACAGGAGATTGGAGATGATTTTTTCTGTCACTGCAGAGTTTGGTTTTCTCAATCCAAACTGCAATGCTCTTTGAGTGACACTGTCTTTTAAATAATAAATACTTTATCACTTAACATTATCAAATAGATTTTTGTCACTTTACTGATGCTATGAAAGTTTCTTAACCACTAGAAATCAGATACATTTTAATAATTTGGATTTGTATTCACCTGCCAGAAAGGCAATTTGCCTAATACTTTTGTAATATTACCATAATTCACTGCTCCCAAAATTTTGGACTTTCTGTATTAACATCAACTTTCTGTCCTAACAATTGTCACAGACCATGTATGTTAGTACTTAGAGTGAGCTCATGATCCCAAAACACACATTTTCATTCCAAGACCTACATTTTACAGTCCAGAATGCTACTTCTATATGATGTGACTTCAGATTTGGTCTTCTTTCAGCCCTCTTTTGTGTCAAAAGCTTGTGTGACTTCTAATCCTCTGAAAAACAAAGGTGACATGCTACAGAAACTTACATTAGCCTACACCAAATGAGAGTTACAGACATTAGCTTCTCCCTCACTTCTACTTTTCAGGGCAGTTCATTGAGACTTCATGCATAGTGTGCTCCTCTGTGGTTACTAAGGAGGGGGTTCATATTTTCAGCATATCTTTAGTATATATTCTGCCTAGTGTGCTTCATCTGATAAGAATTCCAATGATTACAAAAAAAAAAAAATCTACAAACACTAATTGATTTTGGATTATTAAGACAACAGTTGAATGCCACGACTGCCACGGTGTGATGGGAAACATTACTGTCTGATGAGAGCAATTTCAAGATGGGGCTGGGGAAACTCAAAGAAGATAGGGCATAACTTGTTATTAAATACAACCAGTGAGATATGACATTCAGCTTAGGAAATTCCTAACCAACTGGCCATAAAAAATAGGAAGAGCAGAGTGGCTGGAGCATTTTGCAGTGCTTGTTCTCATTCTGACGTCCTTTGCCCACACATTTGCTGGTGGTCAGTGCAGGAGGAAAGATGTTATCTGGCCACTTCCAGCTATTCCTTTTTTCTTAGTGGCTCACTGAAACCACTTTCCTTTGTGAACTGCGTTTGTACTTGTTCTGAAGAGGTTAAAGTTATGACTGCCATAAAAACCCCACAACATAGTTGCTTCCTCCTTCCTGATTTTCTTAGAGCACTTCAGCAGAAGTAATGTACGGGGAGTGAGATTCTTATCTAAGTCATACTCCCTGAGTCTATCTCAAGTTCCTTGTTTTACAAGAGTTTTTGTAAGTGACTGAGAACAGCATGTAACC\n",
      "ACAGCTAAGAGGGAGGATCAGAAAGCAGCGGCACAGCCATCACAGTTCTGGGGGAGGTGCCGCACATCTCTCAGCCTTGCTTATTCGAACCACTGGAAAAAGAGGAGGTCAAAACCCTTTCATCAAGCTTCACCTGCATGCAAAACATCACCATGACAGGGACGGTTTTCTCATGCTCAACTTTGGGCTTGGACATTCTCCGCATCCAGCCACAGAGGATGCCATATTCTCACCTAAGCCCACAAATCAGTTGGCCCCTCGATAGCAAAAGCATATCTCAACAATCCTGGAGAAGGCCTGCATTTGATCAAGGTGTCTCATCAAGACAAAGCTCATGCAGGAAGACGCTCACCTGCTCCATCTCCGATGCATGACGTGGAGCGGGAGCAGAAGAGGACGTCGGTGTGGTTGATCAGGAACTCCACCACATCCGACTGCCTCTGAAGTTCCACGCAGGCAGCTCTTCCGCTGGCACAGGCAGCCTCGTTCTGCTGGGATCTGTAGAAAAGGCAGATTGGAGAAGTCATTGACCCGAGATCGTTTCCCCACGTTTGGGCATTTGGGCAGCCAAAGGCTGTCCAATTGGGCTCTGGAGACTTCCGCAGTGGGCAAGCAGTGATGCCACTGAAGACATTCTCCCGGGTGATCAAGGACACACCAGCCCCATCTGACAAAACCAAGAGAGCACAAATTGTCCTCCTCTCCAAAGTGTGCCCGTGGGGAGAACAGATCTAAGCCTTGTGCTGAGACGGAAAAAGAAGTTTACCTGAAGAGGTTGGGAGCCCACACAATTGCTAAGTTCTTAGCGGGCATGTTTGTGACGGAGCATCTCCCAGCGAGACAAGCCAAGTGTCTCATGAGGTACTCCAGCGTCCTGGAAATCAAGAGCCAAACCTTCAGCACCACTGAGCACGCCGTGCTCACATTCACCAAAAAAACCTCACTTCATGCCACTGCTTGTTCTTGCTACGGAATAGCAAGTAGATCACGCTTTCCCAAGTGCCACGCTGCCGCACCAAGCCCCAGCACAGCACAGCTGCAGCCATCAGCTGCACCAGCCGTGCCCCCGTGCCCAGGAGCTGACCCAATCCATTCACCCCACGCAGCCATCAACCACTTCAACACACACAGGCATCACGTAGCCAGTGTGAGACAAAGCCTGCCATCGCATCATCGCCCTCTGAAATGCAGCAGGGCTGAGCTCCCCAGACTGAGGGCAGCAGTTTTCTGACCTGTAGTGAGGTGCAGGCAGCTGCTGGATGACCTCCTGCACTCGGAGCAACCGCTCCTCATCTGTACCGGCACAAACAGCGTCCTGGAAGAAAGCAGAAAGGGAATGAGACACACATCATGCGAGTCAAGCGCATGGGGCTAACAGAAAAAGGGCCTCAGAGCTGCAGAGGGCACTGCTGCTCCCATCTCCCACATTTCCAATGGCAGGATGCACACACCAGGTGTTGTGGTGCACCCGGTGTGCAGGAAGCATGAGCTGCTTGTTGTACAGAGACACCCACTGGATGTCCATCAAAACCCCAAGTTCAACAGAAAAAAGACCAAAAAAAGGTGCGCAGGCGTGTGTGTGGATGGGACAGGGAAGAGGGACATGAAGGCCATTGCCTTGTGCTTACCGAGAACTTGCCATGCAGCTGCTCGGGCAGCAGAGGGCTCGGGAGCTCCCTGAAGTACATC"
     ]
    },
    {
     "cell_type": "markdown",
     "metadata": {},
     "source": [
      "Results (best score):\n",
      "\n",
      "1) http://genome.ucsc.edu/cgi-bin/hgTracks?db=galGal4&position=chr19%3A36756-37830\n",
      "\n",
      "2) http://genome.ucsc.edu/cgi-bin/hgTracks?db=galGal4&position=chr13%3A1121775-1124136\n",
      "\n",
      "3) http://genome.ucsc.edu/cgi-bin/hgTracks?db=galGal4&position=chr3%3A107513520-107513621\n",
      "\n",
      "4) http://genome.ucsc.edu/cgi-bin/hgTracks?db=galGal4&position=chr2%3A24098595-24098686\n",
      "\n",
      "5) http://genome.ucsc.edu/cgi-bin/hgTracks?db=galGal4&position=chrZ%3A78251989-78253677\n",
      "\n",
      "1, 3 and 5 looks normal, 2 and 4 are curious. But they seem to match.\n",
      "\n",
      "Then I tried Jared's suggestion and use the same sequences in\n",
      "http://www.ebi.ac.uk/ena/\n",
      "\n",
      "1) http://www.ebi.ac.uk/ena/data/view/AADN03007702&range=5653-6727\n",
      "\n",
      "2) http://www.ebi.ac.uk/ena/data/view/AADN03021613&range=1-1236\n",
      "\n",
      "3) http://www.ebi.ac.uk/ena/data/view/AC187113&range=18832-21204\n",
      "\n",
      "4) http://www.ebi.ac.uk/ena/data/view/AC187113&range=15651-18794\n",
      "\n",
      "5) Can't even choose one, lots of matches"
     ]
    },
    {
     "cell_type": "raw",
     "metadata": {},
     "source": [
      "%%bash\n",
      "for f in ../moleculo/LR6000017-DNA_A01-LRAAA-*.sorted.bam\n",
      "do\n",
      "  ORIGINAL=${f%.sorted.bam}\n",
      "  for read in $(samtools view -f 4 $f | cut -f1)\n",
      "  do\n",
      "    LINENUM=$(grep -m1 -n $read $ORIGINAL | cut -d\":\" -f1)\n",
      "    sed -n \"${LINENUM},$(( $LINENUM+3 ))p;$(( $LINENUM+3 ))q;\" ${ORIGINAL} >> ${ORIGINAL}.bwa_missed\n",
      "  done\n",
      "done"
     ]
    },
    {
     "cell_type": "code",
     "collapsed": false,
     "input": [
      "!python ~/work/khmer/sandbox/assemstats3.py 500 ../moleculo/*_LongRead_500_1499nt.fastq.gz ../moleculo/*Read.fastq.gz"
     ],
     "language": "python",
     "metadata": {},
     "outputs": [
      {
       "output_type": "stream",
       "stream": "stdout",
       "text": [
        "** cutoff: 500\r\n",
        "N\tsum\tmax\tfilename\r\n"
       ]
      },
      {
       "output_type": "stream",
       "stream": "stdout",
       "text": [
        "113891\t99849719\t1499\t../moleculo/LR6000017-DNA_A01-LRAAA-1_LongRead_500_1499nt.fastq.gz\r\n"
       ]
      },
      {
       "output_type": "stream",
       "stream": "stdout",
       "text": [
        "106123\t92951953\t1499\t../moleculo/LR6000017-DNA_A01-LRAAA-2_LongRead_500_1499nt.fastq.gz\r\n"
       ]
      },
      {
       "output_type": "stream",
       "stream": "stdout",
       "text": [
        "113180\t99945845\t1499\t../moleculo/LR6000017-DNA_A01-LRAAA-3_LongRead_500_1499nt.fastq.gz\r\n"
       ]
      },
      {
       "output_type": "stream",
       "stream": "stdout",
       "text": [
        "109141\t95940629\t1499\t../moleculo/LR6000017-DNA_A01-LRAAA-4_LongRead_500_1499nt.fastq.gz\r\n"
       ]
      },
      {
       "output_type": "stream",
       "stream": "stdout",
       "text": [
        "116223\t102481924\t1499\t../moleculo/LR6000017-DNA_A01-LRAAA-5_LongRead_500_1499nt.fastq.gz\r\n"
       ]
      },
      {
       "output_type": "stream",
       "stream": "stdout",
       "text": [
        "201746\t1076145062\t16667\t../moleculo/LR6000017-DNA_A01-LRAAA-1_LongRead.fastq.gz\r\n"
       ]
      },
      {
       "output_type": "stream",
       "stream": "stdout",
       "text": [
        "201798\t1098839146\t13962\t../moleculo/LR6000017-DNA_A01-LRAAA-2_LongRead.fastq.gz\r\n"
       ]
      },
      {
       "output_type": "stream",
       "stream": "stdout",
       "text": [
        "206979\t1108546510\t15889\t../moleculo/LR6000017-DNA_A01-LRAAA-3_LongRead.fastq.gz\r\n"
       ]
      },
      {
       "output_type": "stream",
       "stream": "stdout",
       "text": [
        "209393\t1140559896\t17521\t../moleculo/LR6000017-DNA_A01-LRAAA-4_LongRead.fastq.gz\r\n"
       ]
      },
      {
       "output_type": "stream",
       "stream": "stdout",
       "text": [
        "200586\t1063884080\t17401\t../moleculo/LR6000017-DNA_A01-LRAAA-5_LongRead.fastq.gz\r\n",
        "--\r\n"
       ]
      },
      {
       "output_type": "stream",
       "stream": "stdout",
       "text": [
        "TOTAL: 5.97914e+09 in 1579060 contigs (mean size 3787)\r\n"
       ]
      }
     ],
     "prompt_number": 10
    },
    {
     "cell_type": "code",
     "collapsed": false,
     "input": [
      "#!load-into-counting.py -x 1e9 -N 4 -k 32 galGal4.fa.masked.kh galGal4.fa.masked.gz"
     ],
     "language": "python",
     "metadata": {},
     "outputs": [
      {
       "output_type": "stream",
       "stream": "stdout",
       "text": [
        "galGal4.fa.masked        galGal4.fa.masked.gz     galGal4.fa.masked.gz.ann galGal4.fa.masked.gz.pac reads\r\n",
        "galGal4.fa.masked.fai    galGal4.fa.masked.gz.amb galGal4.fa.masked.gz.bwt galGal4.fa.masked.gz.sa\r\n"
       ]
      }
     ],
     "prompt_number": 8
    },
    {
     "cell_type": "code",
     "collapsed": false,
     "input": [
      "#!load-into-counting.py -x 1e9 -N 4 -k 32 ../moleculo/LR6000017-DNA_A01-LRAAA-AllReads.kh ../moleculo/*.fastq.gz"
     ],
     "language": "python",
     "metadata": {},
     "outputs": [],
     "prompt_number": 12
    },
    {
     "cell_type": "raw",
     "metadata": {},
     "source": []
    },
    {
     "cell_type": "code",
     "collapsed": false,
     "input": [
      "#!python ~/repos/khmer/scripts/count-overlap.py -k 32 -N 4 -x 1e9 moleculo/LR6000017-DNA_A01-LRAAA-AllReads.kh galGal4/galGal4.fa.masked overlap_report"
     ],
     "language": "python",
     "metadata": {},
     "outputs": [],
     "prompt_number": 13
    },
    {
     "cell_type": "code",
     "collapsed": false,
     "input": [
      "curve = np.loadtxt('../overlap_report.curve')"
     ],
     "language": "python",
     "metadata": {},
     "outputs": [],
     "prompt_number": 20
    },
    {
     "cell_type": "code",
     "collapsed": false,
     "input": [
      "figure()\n",
      "#title('Overlap')\n",
      "#plot(curve)"
     ],
     "language": "python",
     "metadata": {},
     "outputs": [
      {
       "metadata": {},
       "output_type": "pyout",
       "prompt_number": 34,
       "text": [
        "<matplotlib.figure.Figure at 0x1066cf950>"
       ]
      },
      {
       "metadata": {},
       "output_type": "display_data",
       "text": [
        "<matplotlib.figure.Figure at 0x1066cf950>"
       ]
      }
     ],
     "prompt_number": 34
    },
    {
     "cell_type": "code",
     "collapsed": false,
     "input": [
      "curve[:,1] - curve[:,0]"
     ],
     "language": "python",
     "metadata": {},
     "outputs": [
      {
       "metadata": {},
       "output_type": "pyout",
       "prompt_number": 41,
       "text": [
        "array([  4.67924001e+18,  -3.05695600e+06,  -4.71728458e+13,\n",
        "         4.84136960e+18,  -1.56116890e+07,  -4.71754615e+13,\n",
        "         4.60267882e+18,  -9.76562500e+06,   4.75203689e+18,\n",
        "         1.40734399e+14,   4.71754642e+13,   1.40735024e+14,\n",
        "         1.48284610e+07,  -4.18960707e+16,  -1.07674842e+13,\n",
        "        -6.08653160e+14,  -3.26417515e+11,   1.40735006e+14,\n",
        "         4.71749555e+13,  -2.81309900e+06,   4.71754618e+13,\n",
        "        -6.25000008e+08,   4.60267882e+18,   4.71717733e+13,\n",
        "        -1.73887040e+07,  -6.10135464e+08,   4.71754794e+13,\n",
        "         4.27757859e+09,  -1.40730729e+14,  -3.00000000e+00,\n",
        "        -3.00000000e+00,  -6.25000008e+08,  -1.61596220e+07,\n",
        "         4.15000920e+07,   1.16343741e+08,  -1.61854270e+07,\n",
        "         1.40735008e+14,   1.91856027e+13,   5.36854732e+11,\n",
        "         4.71704609e+13,   9.35593953e+13,   4.67959549e+18,\n",
        "        -8.06286132e+08,   9.35595627e+13,  -4.71756216e+13,\n",
        "         1.40735007e+14,   1.40735009e+14,   8.28758000e+05,\n",
        "        -1.67920240e+07,  -4.71754464e+13,   1.49969040e+07,\n",
        "        -1.39094868e+09,   2.00000000e+00,   1.84467441e+19,\n",
        "         4.71756285e+13,   4.71754644e+13,   4.71754794e+13,\n",
        "         4.71756136e+13,  -2.95237040e+18,   1.65227760e+07,\n",
        "        -4.71716093e+13,   4.71754451e+13,   4.66429034e+13,\n",
        "        -1.75820870e+07,  -4.71755632e+13,  -2.84750400e+06,\n",
        "         4.71755695e+13,  -4.71754615e+13,  -7.68000000e+02,\n",
        "        -9.35595497e+13,  -1.84466033e+19,   1.42256700e+06,\n",
        "        -4.71717261e+13,  -1.64711200e+06,   1.69418365e+19,\n",
        "        -1.84467441e+19,  -4.00266330e+09,  -4.71754479e+13,\n",
        "         4.75198971e+18,   4.71755797e+13,   4.71754794e+13,\n",
        "         3.32248700e+06,  -1.53058400e+06,   4.71754444e+13,\n",
        "         4.75203689e+18,   9.35595629e+13,   1.84467441e+19,\n",
        "        -4.71754642e+13,   4.71754444e+13,   4.71754448e+13,\n",
        "         4.71754642e+13,  -7.14677000e+05,   1.65219040e+07,\n",
        "        -4.71754610e+13,  -4.71754627e+13,   4.71754774e+13,\n",
        "         6.10135460e+08,   4.71754612e+13,  -1.61234880e+07,\n",
        "        -4.71748360e+13])"
       ]
      }
     ],
     "prompt_number": 41
    },
    {
     "cell_type": "code",
     "collapsed": false,
     "input": [
      "!samtools merge ../moleculo/LR6000017-DNA_A01-LRAAA-AllReads.galGal3.sorted.bam ../moleculo/*.galGal3.sorted.bam"
     ],
     "language": "python",
     "metadata": {},
     "outputs": []
    },
    {
     "cell_type": "code",
     "collapsed": false,
     "input": [
      "!bioinfo bwa_coverage galGal3.fa ../moleculo/LR6000017-DNA_A01-LRAAA-AllReads.galGal3.sorted.bam 200 ../moleculo/LR6000017-DNA_A01-LRAAA-AllReads.fastq --mapq=30"
     ],
     "language": "python",
     "metadata": {},
     "outputs": []
    },
    {
     "cell_type": "raw",
     "metadata": {},
     "source": []
    }
   ],
   "metadata": {}
  }
 ]
}