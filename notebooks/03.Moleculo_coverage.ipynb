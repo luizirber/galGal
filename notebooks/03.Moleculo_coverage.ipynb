{
 "metadata": {
  "name": "",
  "signature": "sha256:24a04050bddf88fe45fc9e0b71152ebb6943202755ecbce612cc7f79af7f8afa"
 },
 "nbformat": 3,
 "nbformat_minor": 0,
 "worksheets": [
  {
   "cells": [
    {
     "cell_type": "code",
     "collapsed": false,
     "input": [
      "%matplotlib inline\n",
      "from matplotlib import pyplot as plt"
     ],
     "language": "python",
     "metadata": {},
     "outputs": [],
     "prompt_number": 9
    },
    {
     "cell_type": "code",
     "collapsed": false,
     "input": [
      "import pandas as pd\n",
      "import seaborn"
     ],
     "language": "python",
     "metadata": {},
     "outputs": [],
     "prompt_number": 11
    },
    {
     "cell_type": "code",
     "collapsed": false,
     "input": [
      "%run ../scripts/count_reads_pd.py ../outputs/moleculo/LR6000017-DNA_A01-LRAAA-AllReads.fastq ../workdirs/cov_unmasked/output ../workdirs/cov_unmasked_90/output ../outputs/moleculo/pd_df.unmasked.csv\n",
      "%run ../scripts/count_reads_pd.py ../outputs/moleculo/LR6000017-DNA_A01-LRAAA-AllReads.fastq ../workdirs/workdir.len0.9/output_0.0 ../workdirs/workdir.len0.9/output_0.9 ../outputs/moleculo/pd_df.masked.csv"
     ],
     "language": "python",
     "metadata": {},
     "outputs": [
      {
       "output_type": "stream",
       "stream": "stdout",
       "text": [
        "\r",
        "0 [elapsed: 00:00, ? iters/sec]"
       ]
      },
      {
       "output_type": "stream",
       "stream": "stdout",
       "text": [
        "\r",
        "18909 [elapsed: 00:00, 37816.41 iters/sec]"
       ]
      },
      {
       "output_type": "stream",
       "stream": "stdout",
       "text": [
        "\r",
        "41642 [elapsed: 00:01, 41640.67 iters/sec]"
       ]
      },
      {
       "output_type": "stream",
       "stream": "stdout",
       "text": [
        "\r",
        "64684 [elapsed: 00:01, 43121.55 iters/sec]"
       ]
      },
      {
       "output_type": "stream",
       "stream": "stdout",
       "text": [
        "\r",
        "88114 [elapsed: 00:02, 44056.03 iters/sec]"
       ]
      },
      {
       "output_type": "stream",
       "stream": "stdout",
       "text": [
        "\r",
        "111596 [elapsed: 00:02, 44637.47 iters/sec]"
       ]
      },
      {
       "output_type": "stream",
       "stream": "stdout",
       "text": [
        "\r",
        "122542 [elapsed: 00:03, 40846.40 iters/sec]"
       ]
      },
      {
       "output_type": "stream",
       "stream": "stdout",
       "text": [
        "\r",
        "132238 [elapsed: 00:03, 37781.38 iters/sec]"
       ]
      },
      {
       "output_type": "stream",
       "stream": "stdout",
       "text": [
        "\r",
        "141717 [elapsed: 00:04, 35428.44 iters/sec]"
       ]
      },
      {
       "output_type": "stream",
       "stream": "stdout",
       "text": [
        "\r",
        "149828 [elapsed: 00:04, 33293.54 iters/sec]"
       ]
      },
      {
       "output_type": "stream",
       "stream": "stdout",
       "text": [
        "\r",
        "159591 [elapsed: 00:05, 31916.69 iters/sec]"
       ]
      },
      {
       "output_type": "stream",
       "stream": "stdout",
       "text": [
        "\r",
        "169720 [elapsed: 00:05, 30856.60 iters/sec]"
       ]
      },
      {
       "output_type": "stream",
       "stream": "stdout",
       "text": [
        "\r",
        "179384 [elapsed: 00:06, 29895.91 iters/sec]"
       ]
      },
      {
       "output_type": "stream",
       "stream": "stdout",
       "text": [
        "\r",
        "188923 [elapsed: 00:06, 29063.80 iters/sec]"
       ]
      },
      {
       "output_type": "stream",
       "stream": "stdout",
       "text": [
        "\r",
        "198347 [elapsed: 00:07, 28334.07 iters/sec]"
       ]
      },
      {
       "output_type": "stream",
       "stream": "stdout",
       "text": [
        "\r",
        "208028 [elapsed: 00:07, 27735.93 iters/sec]"
       ]
      },
      {
       "output_type": "stream",
       "stream": "stdout",
       "text": [
        "\r",
        "217617 [elapsed: 00:08, 27200.97 iters/sec]"
       ]
      },
      {
       "output_type": "stream",
       "stream": "stdout",
       "text": [
        "\r",
        "227640 [elapsed: 00:08, 26780.02 iters/sec]"
       ]
      },
      {
       "output_type": "stream",
       "stream": "stdout",
       "text": [
        "\r",
        "236999 [elapsed: 00:09, 26332.08 iters/sec]"
       ]
      },
      {
       "output_type": "stream",
       "stream": "stdout",
       "text": [
        "\r",
        "247037 [elapsed: 00:09, 26002.81 iters/sec]"
       ]
      },
      {
       "output_type": "stream",
       "stream": "stdout",
       "text": [
        "\r",
        "257327 [elapsed: 00:10, 25731.57 iters/sec]"
       ]
      },
      {
       "output_type": "stream",
       "stream": "stdout",
       "text": [
        "\r",
        "267424 [elapsed: 00:10, 25467.85 iters/sec]"
       ]
      },
      {
       "output_type": "stream",
       "stream": "stdout",
       "text": [
        "\r",
        "277481 [elapsed: 00:11, 25224.42 iters/sec]"
       ]
      },
      {
       "output_type": "stream",
       "stream": "stdout",
       "text": [
        "\r",
        "288041 [elapsed: 00:11, 25045.90 iters/sec]"
       ]
      },
      {
       "output_type": "stream",
       "stream": "stdout",
       "text": [
        "\r",
        "297914 [elapsed: 00:12, 24823.42 iters/sec]"
       ]
      },
      {
       "output_type": "stream",
       "stream": "stdout",
       "text": [
        "\r",
        "308067 [elapsed: 00:12, 24640.44 iters/sec]"
       ]
      },
      {
       "output_type": "stream",
       "stream": "stdout",
       "text": [
        "\r",
        "321003 [elapsed: 00:13, 24687.80 iters/sec]"
       ]
      },
      {
       "output_type": "stream",
       "stream": "stdout",
       "text": [
        "\r",
        "345003 [elapsed: 00:13, 25551.05 iters/sec]"
       ]
      },
      {
       "output_type": "stream",
       "stream": "stdout",
       "text": [
        "\r",
        "369081 [elapsed: 00:14, 26358.21 iters/sec]"
       ]
      },
      {
       "output_type": "stream",
       "stream": "stdout",
       "text": [
        "\r",
        "393180 [elapsed: 00:14, 27111.14 iters/sec]"
       ]
      },
      {
       "output_type": "stream",
       "stream": "stdout",
       "text": [
        "\r",
        "417543 [elapsed: 00:15, 27831.52 iters/sec]"
       ]
      },
      {
       "output_type": "stream",
       "stream": "stdout",
       "text": [
        "\r",
        "429907 [elapsed: 00:15, 27731.36 iters/sec]"
       ]
      },
      {
       "output_type": "stream",
       "stream": "stdout",
       "text": [
        "\r",
        "439750 [elapsed: 00:16, 27478.26 iters/sec]"
       ]
      },
      {
       "output_type": "stream",
       "stream": "stdout",
       "text": [
        "\r",
        "449903 [elapsed: 00:16, 27260.89 iters/sec]"
       ]
      },
      {
       "output_type": "stream",
       "stream": "stdout",
       "text": [
        "\r",
        "459386 [elapsed: 00:17, 27016.92 iters/sec]"
       ]
      },
      {
       "output_type": "stream",
       "stream": "stdout",
       "text": [
        "\r",
        "469041 [elapsed: 00:17, 26796.75 iters/sec]"
       ]
      },
      {
       "output_type": "stream",
       "stream": "stdout",
       "text": [
        "\r",
        "478724 [elapsed: 00:18, 26590.38 iters/sec]"
       ]
      },
      {
       "output_type": "stream",
       "stream": "stdout",
       "text": [
        "\r",
        "488088 [elapsed: 00:18, 26377.37 iters/sec]"
       ]
      },
      {
       "output_type": "stream",
       "stream": "stdout",
       "text": [
        "\r",
        "497995 [elapsed: 00:19, 26204.63 iters/sec]"
       ]
      },
      {
       "output_type": "stream",
       "stream": "stdout",
       "text": [
        "\r",
        "507625 [elapsed: 00:19, 26026.59 iters/sec]"
       ]
      },
      {
       "output_type": "stream",
       "stream": "stdout",
       "text": [
        "\r",
        "517029 [elapsed: 00:20, 25846.16 iters/sec]"
       ]
      },
      {
       "output_type": "stream",
       "stream": "stdout",
       "text": [
        "\r",
        "525849 [elapsed: 00:20, 25645.98 iters/sec]"
       ]
      },
      {
       "output_type": "stream",
       "stream": "stdout",
       "text": [
        "\r",
        "535229 [elapsed: 00:21, 25481.94 iters/sec]"
       ]
      },
      {
       "output_type": "stream",
       "stream": "stdout",
       "text": [
        "\r",
        "544816 [elapsed: 00:21, 25335.27 iters/sec]"
       ]
      },
      {
       "output_type": "stream",
       "stream": "stdout",
       "text": [
        "\r",
        "554332 [elapsed: 00:22, 25191.98 iters/sec]"
       ]
      },
      {
       "output_type": "stream",
       "stream": "stdout",
       "text": [
        "\r",
        "563661 [elapsed: 00:22, 25046.79 iters/sec]"
       ]
      },
      {
       "output_type": "stream",
       "stream": "stdout",
       "text": [
        "\r",
        "572658 [elapsed: 00:23, 24893.47 iters/sec]"
       ]
      },
      {
       "output_type": "stream",
       "stream": "stdout",
       "text": [
        "\r",
        "581950 [elapsed: 00:23, 24759.25 iters/sec]"
       ]
      },
      {
       "output_type": "stream",
       "stream": "stdout",
       "text": [
        "\r",
        "591743 [elapsed: 00:24, 24651.44 iters/sec]"
       ]
      },
      {
       "output_type": "stream",
       "stream": "stdout",
       "text": [
        "\r",
        "600594 [elapsed: 00:24, 24509.59 iters/sec]"
       ]
      },
      {
       "output_type": "stream",
       "stream": "stdout",
       "text": [
        "\r",
        "609970 [elapsed: 00:25, 24394.45 iters/sec]"
       ]
      },
      {
       "output_type": "stream",
       "stream": "stdout",
       "text": [
        "\r",
        "619169 [elapsed: 00:25, 24276.86 iters/sec]"
       ]
      },
      {
       "output_type": "stream",
       "stream": "stdout",
       "text": [
        "\r",
        "635196 [elapsed: 00:26, 24426.39 iters/sec]"
       ]
      },
      {
       "output_type": "stream",
       "stream": "stdout",
       "text": [
        "\r",
        "659212 [elapsed: 00:26, 24870.12 iters/sec]"
       ]
      },
      {
       "output_type": "stream",
       "stream": "stdout",
       "text": [
        "\r",
        "681523 [elapsed: 00:27, 25235.80 iters/sec]"
       ]
      },
      {
       "output_type": "stream",
       "stream": "stdout",
       "text": [
        "\r",
        "704275 [elapsed: 00:27, 25604.22 iters/sec]"
       ]
      },
      {
       "output_type": "stream",
       "stream": "stdout",
       "text": [
        "\r",
        "727790 [elapsed: 00:28, 25986.72 iters/sec]"
       ]
      },
      {
       "output_type": "stream",
       "stream": "stdout",
       "text": [
        "\r",
        "742691 [elapsed: 00:28, 26053.64 iters/sec]"
       ]
      },
      {
       "output_type": "stream",
       "stream": "stdout",
       "text": [
        "\r",
        "752672 [elapsed: 00:29, 25948.60 iters/sec]"
       ]
      },
      {
       "output_type": "stream",
       "stream": "stdout",
       "text": [
        "\r",
        "762253 [elapsed: 00:29, 25833.58 iters/sec]"
       ]
      },
      {
       "output_type": "stream",
       "stream": "stdout",
       "text": [
        "\r",
        "772482 [elapsed: 00:30, 25743.99 iters/sec]"
       ]
      },
      {
       "output_type": "stream",
       "stream": "stdout",
       "text": [
        "\r",
        "781627 [elapsed: 00:30, 25621.29 iters/sec]"
       ]
      },
      {
       "output_type": "stream",
       "stream": "stdout",
       "text": [
        "\r",
        "791134 [elapsed: 00:31, 25514.73 iters/sec]"
       ]
      },
      {
       "output_type": "stream",
       "stream": "stdout",
       "text": [
        "\r",
        "800858 [elapsed: 00:31, 25418.43 iters/sec]"
       ]
      },
      {
       "output_type": "stream",
       "stream": "stdout",
       "text": [
        "\r",
        "811182 [elapsed: 00:32, 25343.89 iters/sec]"
       ]
      },
      {
       "output_type": "stream",
       "stream": "stdout",
       "text": [
        "\r",
        "820839 [elapsed: 00:32, 25251.15 iters/sec]"
       ]
      },
      {
       "output_type": "stream",
       "stream": "stdout",
       "text": [
        "\r",
        "830714 [elapsed: 00:33, 25167.78 iters/sec]"
       ]
      },
      {
       "output_type": "stream",
       "stream": "stdout",
       "text": [
        "\r",
        "840622 [elapsed: 00:33, 25087.91 iters/sec]"
       ]
      },
      {
       "output_type": "stream",
       "stream": "stdout",
       "text": [
        "\r",
        "850598 [elapsed: 00:34, 25012.37 iters/sec]"
       ]
      },
      {
       "output_type": "stream",
       "stream": "stdout",
       "text": [
        "\r",
        "860681 [elapsed: 00:34, 24942.12 iters/sec]"
       ]
      },
      {
       "output_type": "stream",
       "stream": "stdout",
       "text": [
        "\r",
        "870880 [elapsed: 00:35, 24877.19 iters/sec]"
       ]
      },
      {
       "output_type": "stream",
       "stream": "stdout",
       "text": [
        "\r",
        "880636 [elapsed: 00:35, 24801.63 iters/sec]"
       ]
      },
      {
       "output_type": "stream",
       "stream": "stdout",
       "text": [
        "\r",
        "889870 [elapsed: 00:36, 24713.67 iters/sec]"
       ]
      },
      {
       "output_type": "stream",
       "stream": "stdout",
       "text": [
        "\r",
        "899456 [elapsed: 00:36, 24637.75 iters/sec]"
       ]
      },
      {
       "output_type": "stream",
       "stream": "stdout",
       "text": [
        "\r",
        "909192 [elapsed: 00:37, 24566.92 iters/sec]"
       ]
      },
      {
       "output_type": "stream",
       "stream": "stdout",
       "text": [
        "\r",
        "919051 [elapsed: 00:37, 24502.26 iters/sec]"
       ]
      },
      {
       "output_type": "stream",
       "stream": "stdout",
       "text": [
        "\r",
        "928793 [elapsed: 00:38, 24436.25 iters/sec]"
       ]
      },
      {
       "output_type": "stream",
       "stream": "stdout",
       "text": [
        "\r",
        "938408 [elapsed: 00:38, 24368.64 iters/sec]"
       ]
      },
      {
       "output_type": "stream",
       "stream": "stdout",
       "text": [
        "\r",
        "953710 [elapsed: 00:39, 24448.55 iters/sec]"
       ]
      },
      {
       "output_type": "stream",
       "stream": "stdout",
       "text": [
        "\r",
        "976667 [elapsed: 00:39, 24720.20 iters/sec]"
       ]
      },
      {
       "output_type": "stream",
       "stream": "stdout",
       "text": [
        "\r",
        "999691 [elapsed: 00:40, 24986.73 iters/sec]"
       ]
      },
      {
       "output_type": "stream",
       "stream": "stdout",
       "text": [
        "\r",
        "1022815 [elapsed: 00:40, 25249.15 iters/sec]"
       ]
      },
      {
       "output_type": "stream",
       "stream": "stdout",
       "text": [
        "\r",
        "1046318 [elapsed: 00:41, 25514.42 iters/sec]"
       ]
      },
      {
       "output_type": "stream",
       "stream": "stdout",
       "text": [
        "\r",
        "1059667 [elapsed: 00:41, 25528.65 iters/sec]"
       ]
      },
      {
       "output_type": "stream",
       "stream": "stdout",
       "text": [
        "\r",
        "1069016 [elapsed: 00:42, 25446.69 iters/sec]"
       ]
      },
      {
       "output_type": "stream",
       "stream": "stdout",
       "text": [
        "\r",
        "1078662 [elapsed: 00:42, 25374.30 iters/sec]"
       ]
      },
      {
       "output_type": "stream",
       "stream": "stdout",
       "text": [
        "\r",
        "1088129 [elapsed: 00:43, 25299.41 iters/sec]"
       ]
      },
      {
       "output_type": "stream",
       "stream": "stdout",
       "text": [
        "\r",
        "1097476 [elapsed: 00:43, 25223.49 iters/sec]"
       ]
      },
      {
       "output_type": "stream",
       "stream": "stdout",
       "text": [
        "\r",
        "1106919 [elapsed: 00:44, 25151.47 iters/sec]"
       ]
      },
      {
       "output_type": "stream",
       "stream": "stdout",
       "text": [
        "\r",
        "1116556 [elapsed: 00:44, 25085.44 iters/sec]"
       ]
      },
      {
       "output_type": "stream",
       "stream": "stdout",
       "text": [
        "\r",
        "1126267 [elapsed: 00:45, 25022.12 iters/sec]"
       ]
      },
      {
       "output_type": "stream",
       "stream": "stdout",
       "text": [
        "\r",
        "1135758 [elapsed: 00:45, 24955.37 iters/sec]"
       ]
      },
      {
       "output_type": "stream",
       "stream": "stdout",
       "text": [
        "\r",
        "1145292 [elapsed: 00:46, 24891.38 iters/sec]"
       ]
      },
      {
       "output_type": "stream",
       "stream": "stdout",
       "text": [
        "\r",
        "1155029 [elapsed: 00:46, 24833.14 iters/sec]"
       ]
      },
      {
       "output_type": "stream",
       "stream": "stdout",
       "text": [
        "\r",
        "1164496 [elapsed: 00:47, 24770.37 iters/sec]"
       ]
      },
      {
       "output_type": "stream",
       "stream": "stdout",
       "text": [
        "\r",
        "1174306 [elapsed: 00:47, 24715.54 iters/sec]"
       ]
      },
      {
       "output_type": "stream",
       "stream": "stdout",
       "text": [
        "\r",
        "1184003 [elapsed: 00:48, 24660.12 iters/sec]"
       ]
      },
      {
       "output_type": "stream",
       "stream": "stdout",
       "text": [
        "\r",
        "1193833 [elapsed: 00:48, 24608.58 iters/sec]"
       ]
      },
      {
       "output_type": "stream",
       "stream": "stdout",
       "text": [
        "\r",
        "1203472 [elapsed: 00:49, 24554.17 iters/sec]"
       ]
      },
      {
       "output_type": "stream",
       "stream": "stdout",
       "text": [
        "\r",
        "1213301 [elapsed: 00:49, 24504.72 iters/sec]"
       ]
      },
      {
       "output_type": "stream",
       "stream": "stdout",
       "text": [
        "\r",
        "1222807 [elapsed: 00:50, 24449.79 iters/sec]"
       ]
      },
      {
       "output_type": "stream",
       "stream": "stdout",
       "text": [
        "\r",
        "1227843 [elapsed: 00:50, 24291.47 iters/sec]"
       ]
      },
      {
       "output_type": "stream",
       "stream": "stdout",
       "text": [
        "\r",
        "1237210 [elapsed: 00:51, 24237.01 iters/sec]"
       ]
      },
      {
       "output_type": "stream",
       "stream": "stdout",
       "text": [
        "\r",
        "1246637 [elapsed: 00:51, 24184.79 iters/sec]"
       ]
      },
      {
       "output_type": "stream",
       "stream": "stdout",
       "text": [
        "\r",
        "1256338 [elapsed: 00:52, 24138.84 iters/sec]"
       ]
      },
      {
       "output_type": "stream",
       "stream": "stdout",
       "text": [
        "\r",
        "1270944 [elapsed: 00:52, 24187.11 iters/sec]"
       ]
      },
      {
       "output_type": "stream",
       "stream": "stdout",
       "text": [
        "\r",
        "1294922 [elapsed: 00:53, 24411.15 iters/sec]"
       ]
      },
      {
       "output_type": "stream",
       "stream": "stdout",
       "text": [
        "\r",
        "1319140 [elapsed: 00:53, 24635.48 iters/sec]"
       ]
      },
      {
       "output_type": "stream",
       "stream": "stdout",
       "text": [
        "\r",
        "1343188 [elapsed: 00:54, 24852.52 iters/sec]"
       ]
      },
      {
       "output_type": "stream",
       "stream": "stdout",
       "text": [
        "\r",
        "1367485 [elapsed: 00:54, 25070.15 iters/sec]"
       ]
      },
      {
       "output_type": "stream",
       "stream": "stdout",
       "text": [
        "\r",
        "1383809 [elapsed: 00:55, 25138.97 iters/sec]"
       ]
      },
      {
       "output_type": "stream",
       "stream": "stdout",
       "text": [
        "\r",
        "1393512 [elapsed: 00:55, 25087.34 iters/sec]"
       ]
      },
      {
       "output_type": "stream",
       "stream": "stdout",
       "text": [
        "\r",
        "1403229 [elapsed: 00:56, 25036.90 iters/sec]"
       ]
      },
      {
       "output_type": "stream",
       "stream": "stdout",
       "text": [
        "\r",
        "1413425 [elapsed: 00:56, 24995.82 iters/sec]"
       ]
      },
      {
       "output_type": "stream",
       "stream": "stdout",
       "text": [
        "\r",
        "1423246 [elapsed: 00:57, 24948.88 iters/sec]"
       ]
      },
      {
       "output_type": "stream",
       "stream": "stdout",
       "text": [
        "\r",
        "1432967 [elapsed: 00:57, 24901.02 iters/sec]"
       ]
      },
      {
       "output_type": "stream",
       "stream": "stdout",
       "text": [
        "\r",
        "1442303 [elapsed: 00:58, 24847.35 iters/sec]"
       ]
      },
      {
       "output_type": "stream",
       "stream": "stdout",
       "text": [
        "\r",
        "1451670 [elapsed: 00:58, 24795.12 iters/sec]"
       ]
      },
      {
       "output_type": "stream",
       "stream": "stdout",
       "text": [
        "\r",
        "1460707 [elapsed: 00:59, 24737.99 iters/sec]"
       ]
      },
      {
       "output_type": "stream",
       "stream": "stdout",
       "text": [
        "\r",
        "1470368 [elapsed: 00:59, 24692.29 iters/sec]"
       ]
      },
      {
       "output_type": "stream",
       "stream": "stdout",
       "text": [
        "\r",
        "1479775 [elapsed: 01:00, 24643.33 iters/sec]"
       ]
      },
      {
       "output_type": "stream",
       "stream": "stdout",
       "text": [
        "\r",
        "1489114 [elapsed: 01:00, 24593.93 iters/sec]"
       ]
      },
      {
       "output_type": "stream",
       "stream": "stdout",
       "text": [
        "\r",
        "1498488 [elapsed: 01:01, 24546.05 iters/sec]"
       ]
      },
      {
       "output_type": "stream",
       "stream": "stdout",
       "text": [
        "\r",
        "1508085 [elapsed: 01:01, 24502.57 iters/sec]"
       ]
      },
      {
       "output_type": "stream",
       "stream": "stdout",
       "text": [
        "\r",
        "1517694 [elapsed: 01:02, 24459.38 iters/sec]"
       ]
      },
      {
       "output_type": "stream",
       "stream": "stdout",
       "text": [
        "\r",
        "1526825 [elapsed: 01:02, 24409.84 iters/sec]"
       ]
      },
      {
       "output_type": "stream",
       "stream": "stdout",
       "text": [
        "\r",
        "1535716 [elapsed: 01:03, 24357.28 iters/sec]"
       ]
      },
      {
       "output_type": "stream",
       "stream": "stdout",
       "text": [
        "\r",
        "1544936 [elapsed: 01:03, 24310.71 iters/sec]"
       ]
      },
      {
       "output_type": "stream",
       "stream": "stdout",
       "text": [
        "\r",
        "1554175 [elapsed: 01:04, 24265.16 iters/sec]"
       ]
      },
      {
       "output_type": "stream",
       "stream": "stdout",
       "text": [
        "\r",
        "1564048 [elapsed: 01:04, 24230.14 iters/sec]"
       ]
      },
      {
       "output_type": "stream",
       "stream": "stdout",
       "text": [
        "\r",
        "1573256 [elapsed: 01:05, 24185.44 iters/sec]"
       ]
      },
      {
       "output_type": "stream",
       "stream": "stdout",
       "text": [
        "\r",
        "1579060 [elapsed: 01:05, 24166.27 iters/sec]"
       ]
      },
      {
       "output_type": "stream",
       "stream": "stdout",
       "text": [
        "\n",
        "\r",
        "0 [elapsed: 00:00, ? iters/sec]"
       ]
      },
      {
       "output_type": "stream",
       "stream": "stdout",
       "text": [
        "\r",
        "22629 [elapsed: 00:00, 45257.35 iters/sec]"
       ]
      },
      {
       "output_type": "stream",
       "stream": "stdout",
       "text": [
        "\r",
        "45972 [elapsed: 00:01, 45971.12 iters/sec]"
       ]
      },
      {
       "output_type": "stream",
       "stream": "stdout",
       "text": [
        "\r",
        "69600 [elapsed: 00:01, 46399.23 iters/sec]"
       ]
      },
      {
       "output_type": "stream",
       "stream": "stdout",
       "text": [
        "\r",
        "93448 [elapsed: 00:02, 46723.11 iters/sec]"
       ]
      },
      {
       "output_type": "stream",
       "stream": "stdout",
       "text": [
        "\r",
        "115223 [elapsed: 00:02, 46068.14 iters/sec]"
       ]
      },
      {
       "output_type": "stream",
       "stream": "stdout",
       "text": [
        "\r",
        "124861 [elapsed: 00:03, 41603.87 iters/sec]"
       ]
      },
      {
       "output_type": "stream",
       "stream": "stdout",
       "text": [
        "\r",
        "134470 [elapsed: 00:03, 38401.47 iters/sec]"
       ]
      },
      {
       "output_type": "stream",
       "stream": "stdout",
       "text": [
        "\r",
        "143883 [elapsed: 00:04, 35955.16 iters/sec]"
       ]
      },
      {
       "output_type": "stream",
       "stream": "stdout",
       "text": [
        "\r",
        "153132 [elapsed: 00:04, 34006.86 iters/sec]"
       ]
      },
      {
       "output_type": "stream",
       "stream": "stdout",
       "text": [
        "\r",
        "162729 [elapsed: 00:05, 32526.19 iters/sec]"
       ]
      },
      {
       "output_type": "stream",
       "stream": "stdout",
       "text": [
        "\r",
        "172662 [elapsed: 00:05, 31375.78 iters/sec]"
       ]
      },
      {
       "output_type": "stream",
       "stream": "stdout",
       "text": [
        "\r",
        "182392 [elapsed: 00:06, 30383.04 iters/sec]"
       ]
      },
      {
       "output_type": "stream",
       "stream": "stdout",
       "text": [
        "\r",
        "191823 [elapsed: 00:06, 29497.08 iters/sec]"
       ]
      },
      {
       "output_type": "stream",
       "stream": "stdout",
       "text": [
        "\r",
        "201516 [elapsed: 00:07, 28775.09 iters/sec]"
       ]
      },
      {
       "output_type": "stream",
       "stream": "stdout",
       "text": [
        "\r",
        "210741 [elapsed: 00:07, 28086.97 iters/sec]"
       ]
      },
      {
       "output_type": "stream",
       "stream": "stdout",
       "text": [
        "\r",
        "219992 [elapsed: 00:08, 27486.88 iters/sec]"
       ]
      },
      {
       "output_type": "stream",
       "stream": "stdout",
       "text": [
        "\r",
        "229329 [elapsed: 00:08, 26968.62 iters/sec]"
       ]
      },
      {
       "output_type": "stream",
       "stream": "stdout",
       "text": [
        "\r",
        "238676 [elapsed: 00:09, 26509.05 iters/sec]"
       ]
      },
      {
       "output_type": "stream",
       "stream": "stdout",
       "text": [
        "\r",
        "248241 [elapsed: 00:09, 26120.78 iters/sec]"
       ]
      },
      {
       "output_type": "stream",
       "stream": "stdout",
       "text": [
        "\r",
        "258067 [elapsed: 00:10, 25795.93 iters/sec]"
       ]
      },
      {
       "output_type": "stream",
       "stream": "stdout",
       "text": [
        "\r",
        "267843 [elapsed: 00:10, 25494.52 iters/sec]"
       ]
      },
      {
       "output_type": "stream",
       "stream": "stdout",
       "text": [
        "\r",
        "277672 [elapsed: 00:11, 25229.22 iters/sec]"
       ]
      },
      {
       "output_type": "stream",
       "stream": "stdout",
       "text": [
        "\r",
        "287869 [elapsed: 00:11, 25017.23 iters/sec]"
       ]
      },
      {
       "output_type": "stream",
       "stream": "stdout",
       "text": [
        "\r",
        "297385 [elapsed: 00:12, 24767.96 iters/sec]"
       ]
      },
      {
       "output_type": "stream",
       "stream": "stdout",
       "text": [
        "\r",
        "307191 [elapsed: 00:12, 24560.31 iters/sec]"
       ]
      },
      {
       "output_type": "stream",
       "stream": "stdout",
       "text": [
        "\r",
        "318666 [elapsed: 00:13, 24498.39 iters/sec]"
       ]
      },
      {
       "output_type": "stream",
       "stream": "stdout",
       "text": [
        "\r",
        "342905 [elapsed: 00:13, 25386.02 iters/sec]"
       ]
      },
      {
       "output_type": "stream",
       "stream": "stdout",
       "text": [
        "\r",
        "366982 [elapsed: 00:14, 26198.71 iters/sec]"
       ]
      },
      {
       "output_type": "stream",
       "stream": "stdout",
       "text": [
        "\r",
        "391157 [elapsed: 00:14, 26962.14 iters/sec]"
       ]
      },
      {
       "output_type": "stream",
       "stream": "stdout",
       "text": [
        "\r",
        "414919 [elapsed: 00:15, 27647.17 iters/sec]"
       ]
      },
      {
       "output_type": "stream",
       "stream": "stdout",
       "text": [
        "\r",
        "428856 [elapsed: 00:15, 27654.46 iters/sec]"
       ]
      },
      {
       "output_type": "stream",
       "stream": "stdout",
       "text": [
        "\r",
        "438604 [elapsed: 00:16, 27397.93 iters/sec]"
       ]
      },
      {
       "output_type": "stream",
       "stream": "stdout",
       "text": [
        "\r",
        "448732 [elapsed: 00:16, 27179.61 iters/sec]"
       ]
      },
      {
       "output_type": "stream",
       "stream": "stdout",
       "text": [
        "\r",
        "458254 [elapsed: 00:17, 26940.41 iters/sec]"
       ]
      },
      {
       "output_type": "stream",
       "stream": "stdout",
       "text": [
        "\r",
        "467808 [elapsed: 00:17, 26716.74 iters/sec]"
       ]
      },
      {
       "output_type": "stream",
       "stream": "stdout",
       "text": [
        "\r",
        "477301 [elapsed: 00:18, 26502.06 iters/sec]"
       ]
      },
      {
       "output_type": "stream",
       "stream": "stdout",
       "text": [
        "\r",
        "486313 [elapsed: 00:18, 26270.22 iters/sec]"
       ]
      },
      {
       "output_type": "stream",
       "stream": "stdout",
       "text": [
        "\r",
        "495980 [elapsed: 00:19, 26087.76 iters/sec]"
       ]
      },
      {
       "output_type": "stream",
       "stream": "stdout",
       "text": [
        "\r",
        "505431 [elapsed: 00:19, 25903.63 iters/sec]"
       ]
      },
      {
       "output_type": "stream",
       "stream": "stdout",
       "text": [
        "\r",
        "514332 [elapsed: 00:20, 25701.19 iters/sec]"
       ]
      },
      {
       "output_type": "stream",
       "stream": "stdout",
       "text": [
        "\r",
        "522831 [elapsed: 00:20, 25489.01 iters/sec]"
       ]
      },
      {
       "output_type": "stream",
       "stream": "stdout",
       "text": [
        "\r",
        "531873 [elapsed: 00:21, 25312.76 iters/sec]"
       ]
      },
      {
       "output_type": "stream",
       "stream": "stdout",
       "text": [
        "\r",
        "541422 [elapsed: 00:21, 25168.27 iters/sec]"
       ]
      },
      {
       "output_type": "stream",
       "stream": "stdout",
       "text": [
        "\r",
        "550797 [elapsed: 00:22, 25020.51 iters/sec]"
       ]
      },
      {
       "output_type": "stream",
       "stream": "stdout",
       "text": [
        "\r",
        "557777 [elapsed: 00:22, 24758.20 iters/sec]"
       ]
      },
      {
       "output_type": "stream",
       "stream": "stdout",
       "text": [
        "\r",
        "564527 [elapsed: 00:23, 24513.75 iters/sec]"
       ]
      },
      {
       "output_type": "stream",
       "stream": "stdout",
       "text": [
        "\r",
        "572970 [elapsed: 00:23, 24351.60 iters/sec]"
       ]
      },
      {
       "output_type": "stream",
       "stream": "stdout",
       "text": [
        "\r",
        "581613 [elapsed: 00:24, 24204.54 iters/sec]"
       ]
      },
      {
       "output_type": "stream",
       "stream": "stdout",
       "text": [
        "\r",
        "591018 [elapsed: 00:24, 24094.56 iters/sec]"
       ]
      },
      {
       "output_type": "stream",
       "stream": "stdout",
       "text": [
        "\r",
        "599836 [elapsed: 00:25, 23965.48 iters/sec]"
       ]
      },
      {
       "output_type": "stream",
       "stream": "stdout",
       "text": [
        "\r",
        "608634 [elapsed: 00:25, 23840.71 iters/sec]"
       ]
      },
      {
       "output_type": "stream",
       "stream": "stdout",
       "text": [
        "\r",
        "617337 [elapsed: 00:26, 23717.09 iters/sec]"
       ]
      },
      {
       "output_type": "stream",
       "stream": "stdout",
       "text": [
        "\r",
        "628413 [elapsed: 00:26, 23687.58 iters/sec]"
       ]
      },
      {
       "output_type": "stream",
       "stream": "stdout",
       "text": [
        "\r",
        "649145 [elapsed: 00:27, 24016.41 iters/sec]"
       ]
      },
      {
       "output_type": "stream",
       "stream": "stdout",
       "text": [
        "\r",
        "669399 [elapsed: 00:27, 24315.93 iters/sec]"
       ]
      },
      {
       "output_type": "stream",
       "stream": "stdout",
       "text": [
        "\r",
        "690974 [elapsed: 00:28, 24651.88 iters/sec]"
       ]
      },
      {
       "output_type": "stream",
       "stream": "stdout",
       "text": [
        "\r",
        "710750 [elapsed: 00:28, 24913.01 iters/sec]"
       ]
      },
      {
       "output_type": "stream",
       "stream": "stdout",
       "text": [
        "\r",
        "731558 [elapsed: 00:29, 25200.70 iters/sec]"
       ]
      },
      {
       "output_type": "stream",
       "stream": "stdout",
       "text": [
        "\r",
        "742778 [elapsed: 00:29, 25153.95 iters/sec]"
       ]
      },
      {
       "output_type": "stream",
       "stream": "stdout",
       "text": [
        "\r",
        "751766 [elapsed: 00:30, 25033.08 iters/sec]"
       ]
      },
      {
       "output_type": "stream",
       "stream": "stdout",
       "text": [
        "\r",
        "760766 [elapsed: 00:30, 24917.88 iters/sec]"
       ]
      },
      {
       "output_type": "stream",
       "stream": "stdout",
       "text": [
        "\r",
        "769379 [elapsed: 00:31, 24793.93 iters/sec]"
       ]
      },
      {
       "output_type": "stream",
       "stream": "stdout",
       "text": [
        "\r",
        "777971 [elapsed: 00:31, 24673.23 iters/sec]"
       ]
      },
      {
       "output_type": "stream",
       "stream": "stdout",
       "text": [
        "\r",
        "787458 [elapsed: 00:32, 24584.25 iters/sec]"
       ]
      },
      {
       "output_type": "stream",
       "stream": "stdout",
       "text": [
        "\r",
        "796543 [elapsed: 00:32, 24484.59 iters/sec]"
       ]
      },
      {
       "output_type": "stream",
       "stream": "stdout",
       "text": [
        "\r",
        "806203 [elapsed: 00:33, 24406.41 iters/sec]"
       ]
      },
      {
       "output_type": "stream",
       "stream": "stdout",
       "text": [
        "\r",
        "816113 [elapsed: 00:33, 24338.02 iters/sec]"
       ]
      },
      {
       "output_type": "stream",
       "stream": "stdout",
       "text": [
        "\r",
        "825925 [elapsed: 00:34, 24268.68 iters/sec]"
       ]
      },
      {
       "output_type": "stream",
       "stream": "stdout",
       "text": [
        "\r",
        "835275 [elapsed: 00:34, 24188.02 iters/sec]"
       ]
      },
      {
       "output_type": "stream",
       "stream": "stdout",
       "text": [
        "\r",
        "844089 [elapsed: 00:35, 24094.39 iters/sec]"
       ]
      },
      {
       "output_type": "stream",
       "stream": "stdout",
       "text": [
        "\r",
        "853266 [elapsed: 00:35, 24013.60 iters/sec]"
       ]
      },
      {
       "output_type": "stream",
       "stream": "stdout",
       "text": [
        "\r",
        "861393 [elapsed: 00:36, 23890.62 iters/sec]"
       ]
      },
      {
       "output_type": "stream",
       "stream": "stdout",
       "text": [
        "\r",
        "869764 [elapsed: 00:36, 23792.81 iters/sec]"
       ]
      },
      {
       "output_type": "stream",
       "stream": "stdout",
       "text": [
        "\r",
        "878292 [elapsed: 00:37, 23701.90 iters/sec]"
       ]
      },
      {
       "output_type": "stream",
       "stream": "stdout",
       "text": [
        "\r",
        "887582 [elapsed: 00:37, 23631.91 iters/sec]"
       ]
      },
      {
       "output_type": "stream",
       "stream": "stdout",
       "text": [
        "\r",
        "895810 [elapsed: 00:38, 23537.61 iters/sec]"
       ]
      },
      {
       "output_type": "stream",
       "stream": "stdout",
       "text": [
        "\r",
        "903377 [elapsed: 00:38, 23423.96 iters/sec]"
       ]
      },
      {
       "output_type": "stream",
       "stream": "stdout",
       "text": [
        "\r",
        "912316 [elapsed: 00:39, 23352.97 iters/sec]"
       ]
      },
      {
       "output_type": "stream",
       "stream": "stdout",
       "text": [
        "\r",
        "922392 [elapsed: 00:39, 23312.51 iters/sec]"
       ]
      },
      {
       "output_type": "stream",
       "stream": "stdout",
       "text": [
        "\r",
        "931124 [elapsed: 00:40, 23239.51 iters/sec]"
       ]
      },
      {
       "output_type": "stream",
       "stream": "stdout",
       "text": [
        "\r",
        "940753 [elapsed: 00:40, 23190.10 iters/sec]"
       ]
      },
      {
       "output_type": "stream",
       "stream": "stdout",
       "text": [
        "\r",
        "955601 [elapsed: 00:41, 23251.75 iters/sec]"
       ]
      },
      {
       "output_type": "stream",
       "stream": "stdout",
       "text": [
        "\r",
        "978931 [elapsed: 00:41, 23533.11 iters/sec]"
       ]
      },
      {
       "output_type": "stream",
       "stream": "stdout",
       "text": [
        "\r",
        "999183 [elapsed: 00:42, 23734.67 iters/sec]"
       ]
      },
      {
       "output_type": "stream",
       "stream": "stdout",
       "text": [
        "\r",
        "1021264 [elapsed: 00:42, 23974.26 iters/sec]"
       ]
      },
      {
       "output_type": "stream",
       "stream": "stdout",
       "text": [
        "\r",
        "1044319 [elapsed: 00:43, 24231.06 iters/sec]"
       ]
      },
      {
       "output_type": "stream",
       "stream": "stdout",
       "text": [
        "\r",
        "1058870 [elapsed: 00:43, 24286.81 iters/sec]"
       ]
      },
      {
       "output_type": "stream",
       "stream": "stdout",
       "text": [
        "\r",
        "1068430 [elapsed: 00:44, 24228.22 iters/sec]"
       ]
      },
      {
       "output_type": "stream",
       "stream": "stdout",
       "text": [
        "\r",
        "1077898 [elapsed: 00:44, 24168.60 iters/sec]"
       ]
      },
      {
       "output_type": "stream",
       "stream": "stdout",
       "text": [
        "\r",
        "1088369 [elapsed: 00:45, 24132.82 iters/sec]"
       ]
      },
      {
       "output_type": "stream",
       "stream": "stdout",
       "text": [
        "\r",
        "1098838 [elapsed: 00:45, 24096.97 iters/sec]"
       ]
      },
      {
       "output_type": "stream",
       "stream": "stdout",
       "text": [
        "\r",
        "1109311 [elapsed: 00:46, 24062.78 iters/sec]"
       ]
      },
      {
       "output_type": "stream",
       "stream": "stdout",
       "text": [
        "\r",
        "1119747 [elapsed: 00:46, 24028.54 iters/sec]"
       ]
      },
      {
       "output_type": "stream",
       "stream": "stdout",
       "text": [
        "\r",
        "1130327 [elapsed: 00:47, 23998.07 iters/sec]"
       ]
      },
      {
       "output_type": "stream",
       "stream": "stdout",
       "text": [
        "\r",
        "1140925 [elapsed: 00:47, 23968.63 iters/sec]"
       ]
      },
      {
       "output_type": "stream",
       "stream": "stdout",
       "text": [
        "\r",
        "1151353 [elapsed: 00:48, 23936.26 iters/sec]"
       ]
      },
      {
       "output_type": "stream",
       "stream": "stdout",
       "text": [
        "\r",
        "1161643 [elapsed: 00:48, 23901.73 iters/sec]"
       ]
      },
      {
       "output_type": "stream",
       "stream": "stdout",
       "text": [
        "\r",
        "1171854 [elapsed: 00:49, 23866.28 iters/sec]"
       ]
      },
      {
       "output_type": "stream",
       "stream": "stdout",
       "text": [
        "\r",
        "1181957 [elapsed: 00:49, 23829.38 iters/sec]"
       ]
      },
      {
       "output_type": "stream",
       "stream": "stdout",
       "text": [
        "\r",
        "1192230 [elapsed: 00:50, 23796.61 iters/sec]"
       ]
      },
      {
       "output_type": "stream",
       "stream": "stdout",
       "text": [
        "\r",
        "1202426 [elapsed: 00:50, 23762.94 iters/sec]"
       ]
      },
      {
       "output_type": "stream",
       "stream": "stdout",
       "text": [
        "\r",
        "1212778 [elapsed: 00:51, 23732.99 iters/sec]"
       ]
      },
      {
       "output_type": "stream",
       "stream": "stdout",
       "text": [
        "\r",
        "1222833 [elapsed: 00:51, 23697.86 iters/sec]"
       ]
      },
      {
       "output_type": "stream",
       "stream": "stdout",
       "text": [
        "\r",
        "1233301 [elapsed: 00:52, 23671.35 iters/sec]"
       ]
      },
      {
       "output_type": "stream",
       "stream": "stdout",
       "text": [
        "\r",
        "1243433 [elapsed: 00:52, 23638.95 iters/sec]"
       ]
      },
      {
       "output_type": "stream",
       "stream": "stdout",
       "text": [
        "\r",
        "1253671 [elapsed: 00:53, 23609.17 iters/sec]"
       ]
      },
      {
       "output_type": "stream",
       "stream": "stdout",
       "text": [
        "\r",
        "1266102 [elapsed: 00:53, 23620.86 iters/sec]"
       ]
      },
      {
       "output_type": "stream",
       "stream": "stdout",
       "text": [
        "\r",
        "1290385 [elapsed: 00:54, 23851.40 iters/sec]"
       ]
      },
      {
       "output_type": "stream",
       "stream": "stdout",
       "text": [
        "\r",
        "1314468 [elapsed: 00:54, 24074.05 iters/sec]"
       ]
      },
      {
       "output_type": "stream",
       "stream": "stdout",
       "text": [
        "\r",
        "1338581 [elapsed: 00:55, 24293.20 iters/sec]"
       ]
      },
      {
       "output_type": "stream",
       "stream": "stdout",
       "text": [
        "\r",
        "1362662 [elapsed: 00:55, 24507.84 iters/sec]"
       ]
      },
      {
       "output_type": "stream",
       "stream": "stdout",
       "text": [
        "\r",
        "1381925 [elapsed: 00:56, 24632.77 iters/sec]"
       ]
      },
      {
       "output_type": "stream",
       "stream": "stdout",
       "text": [
        "\r",
        "1392017 [elapsed: 00:56, 24593.46 iters/sec]"
       ]
      },
      {
       "output_type": "stream",
       "stream": "stdout",
       "text": [
        "\r",
        "1402299 [elapsed: 00:57, 24558.16 iters/sec]"
       ]
      },
      {
       "output_type": "stream",
       "stream": "stdout",
       "text": [
        "\r",
        "1412704 [elapsed: 00:57, 24525.23 iters/sec]"
       ]
      },
      {
       "output_type": "stream",
       "stream": "stdout",
       "text": [
        "\r",
        "1422764 [elapsed: 00:58, 24487.18 iters/sec]"
       ]
      },
      {
       "output_type": "stream",
       "stream": "stdout",
       "text": [
        "\r",
        "1432607 [elapsed: 00:58, 24445.53 iters/sec]"
       ]
      },
      {
       "output_type": "stream",
       "stream": "stdout",
       "text": [
        "\r",
        "1442424 [elapsed: 00:59, 24404.81 iters/sec]"
       ]
      },
      {
       "output_type": "stream",
       "stream": "stdout",
       "text": [
        "\r",
        "1451935 [elapsed: 00:59, 24359.24 iters/sec]"
       ]
      },
      {
       "output_type": "stream",
       "stream": "stdout",
       "text": [
        "\r",
        "1461452 [elapsed: 01:00, 24314.93 iters/sec]"
       ]
      },
      {
       "output_type": "stream",
       "stream": "stdout",
       "text": [
        "\r",
        "1471110 [elapsed: 01:00, 24273.68 iters/sec]"
       ]
      },
      {
       "output_type": "stream",
       "stream": "stdout",
       "text": [
        "\r",
        "1480623 [elapsed: 01:01, 24230.74 iters/sec]"
       ]
      },
      {
       "output_type": "stream",
       "stream": "stdout",
       "text": [
        "\r",
        "1490407 [elapsed: 01:01, 24192.72 iters/sec]"
       ]
      },
      {
       "output_type": "stream",
       "stream": "stdout",
       "text": [
        "\r",
        "1500052 [elapsed: 01:02, 24153.25 iters/sec]"
       ]
      },
      {
       "output_type": "stream",
       "stream": "stdout",
       "text": [
        "\r",
        "1510155 [elapsed: 01:02, 24121.72 iters/sec]"
       ]
      },
      {
       "output_type": "stream",
       "stream": "stdout",
       "text": [
        "\r",
        "1519810 [elapsed: 01:03, 24083.26 iters/sec]"
       ]
      },
      {
       "output_type": "stream",
       "stream": "stdout",
       "text": [
        "\r",
        "1529430 [elapsed: 01:03, 24045.18 iters/sec]"
       ]
      },
      {
       "output_type": "stream",
       "stream": "stdout",
       "text": [
        "\r",
        "1538918 [elapsed: 01:04, 24005.64 iters/sec]"
       ]
      },
      {
       "output_type": "stream",
       "stream": "stdout",
       "text": [
        "\r",
        "1548793 [elapsed: 01:04, 23972.49 iters/sec]"
       ]
      },
      {
       "output_type": "stream",
       "stream": "stdout",
       "text": [
        "\r",
        "1558824 [elapsed: 01:05, 23942.43 iters/sec]"
       ]
      },
      {
       "output_type": "stream",
       "stream": "stdout",
       "text": [
        "\r",
        "1568860 [elapsed: 01:05, 23912.94 iters/sec]"
       ]
      },
      {
       "output_type": "stream",
       "stream": "stdout",
       "text": [
        "\r",
        "1578722 [elapsed: 01:06, 23881.24 iters/sec]"
       ]
      },
      {
       "output_type": "stream",
       "stream": "stdout",
       "text": [
        "\r",
        "1579060 [elapsed: 01:06, 23879.92 iters/sec]"
       ]
      },
      {
       "output_type": "stream",
       "stream": "stdout",
       "text": [
        "\n"
       ]
      }
     ],
     "prompt_number": 126
    },
    {
     "cell_type": "code",
     "collapsed": false,
     "input": [
      "df_unmasked = pd.DataFrame.from_csv('../outputs/moleculo/pd_df.unmasked.csv')\n",
      "df_masked = pd.DataFrame.from_csv('../outputs/moleculo/pd_df.masked.csv')\n",
      "\n",
      "total_bases_in_reference = 1046932099\n",
      "df_unmasked['coverage'] = df_unmasked['total ref bases covered'] / total_bases_in_reference\n",
      "df_unmasked['coverage >= 90%'] = df_unmasked['total ref bases covered, alignment length > 90% read'] / total_bases_in_reference\n",
      "\n",
      "df_masked['coverage'] = df_masked['total ref bases covered'] / total_bases_in_reference\n",
      "df_masked['coverage >= 90%'] = df_masked['total ref bases covered, alignment length > 90% read'] / total_bases_in_reference"
     ],
     "language": "python",
     "metadata": {},
     "outputs": [],
     "prompt_number": 127
    },
    {
     "cell_type": "code",
     "collapsed": false,
     "input": [
      "df_masked['histogram'].plot(kind='bar')"
     ],
     "language": "python",
     "metadata": {},
     "outputs": [
      {
       "metadata": {},
       "output_type": "pyout",
       "prompt_number": 128,
       "text": [
        "<matplotlib.axes.AxesSubplot at 0xe28fd10>"
       ]
      },
      {
       "metadata": {},
       "output_type": "display_data",
       "png": "[encoded data removed]",
       "text": [
        "<matplotlib.figure.Figure at 0xdeaa0d0>"
       ]
      }
     ],
     "prompt_number": 128
    },
    {
     "cell_type": "code",
     "collapsed": false,
     "input": [
      "f = plt.figure(figsize=(8, 6))\n",
      "f.suptitle('Response curve', fontsize=15)\n",
      "plt.xlabel('Read length')\n",
      "plt.ylabel('# of bases covered in reference')\n",
      "    \n",
      "df_unmasked['total ref bases covered'].plot(label='unmasked, any length')\n",
      "df_unmasked['total ref bases covered, alignment length > 90% read'].plot(label='unmasked, alignment length > 90% read')\n",
      "\n",
      "df_masked['total ref bases covered'].plot(label='masked, any length')\n",
      "df_masked['total ref bases covered, alignment length > 90% read'].plot(label='masked, alignment length > 90% read')\n",
      "\n",
      "plt.legend(loc='lower left')"
     ],
     "language": "python",
     "metadata": {},
     "outputs": [
      {
       "metadata": {},
       "output_type": "pyout",
       "prompt_number": 129,
       "text": [
        "<matplotlib.legend.Legend at 0xe7033d0>"
       ]
      },
      {
       "metadata": {},
       "output_type": "display_data",
       "png": "[encoded data removed]",
       "text": [
        "<matplotlib.figure.Figure at 0xe5e1b10>"
       ]
      }
     ],
     "prompt_number": 129
    },
    {
     "cell_type": "code",
     "collapsed": false,
     "input": [
      "f = plt.figure(figsize=(8, 6))\n",
      "f.suptitle('Total bases per read length', fontsize=15)\n",
      "plt.xlabel('Read length')\n",
      "plt.ylabel('# of bases in reads longer than read length')\n",
      "\n",
      "df_unmasked['# bases in reads >= minimum'].plot()"
     ],
     "language": "python",
     "metadata": {},
     "outputs": [
      {
       "metadata": {},
       "output_type": "pyout",
       "prompt_number": 130,
       "text": [
        "<matplotlib.axes.AxesSubplot at 0xe5d6750>"
       ]
      },
      {
       "metadata": {},
       "output_type": "display_data",
       "png": "[encoded data removed]",
       "text": [
        "<matplotlib.figure.Figure at 0xe5f72d0>"
       ]
      }
     ],
     "prompt_number": 130
    },
    {
     "cell_type": "code",
     "collapsed": false,
     "input": [
      "plt.figure()\n",
      "(df_unmasked['total ref bases covered'] / df_unmasked['# bases in reads >= minimum']).plot(label=\"all alignments\")\n",
      "(df_unmasked['total ref bases covered, alignment length > 90% read'] / df_unmasked['# bases in reads >= minimum']).plot(label=\"alignment > 90% read\")\n",
      "plt.legend(loc=\"upper left\")\n",
      "plt.xlabel('Read length')\n",
      "\n",
      "plt.figure()\n",
      "(df_unmasked['# bases in reads >= minimum'] / df_unmasked['total ref bases covered']).plot(label=\"all alignments\")\n",
      "(df_unmasked['# bases in reads >= minimum'] / df_unmasked['total ref bases covered, alignment length > 90% read']).plot(label=\"alignment > 90% read\")\n",
      "plt.legend(loc=\"upper right\")\n",
      "plt.xlabel('Read length')"
     ],
     "language": "python",
     "metadata": {},
     "outputs": [
      {
       "metadata": {},
       "output_type": "pyout",
       "prompt_number": 139,
       "text": [
        "<matplotlib.text.Text at 0xfcedcd0>"
       ]
      },
      {
       "metadata": {},
       "output_type": "display_data",
       "png": "[encoded data removed]",
       "text": [
        "<matplotlib.figure.Figure at 0x9fe9650>"
       ]
      },
      {
       "metadata": {},
       "output_type": "display_data",
       "png": "[encoded data removed]",
       "text": [
        "<matplotlib.figure.Figure at 0xff8ec90>"
       ]
      }
     ],
     "prompt_number": 139
    },
    {
     "cell_type": "code",
     "collapsed": false,
     "input": [
      "df_unmasked"
     ],
     "language": "python",
     "metadata": {},
     "outputs": [
      {
       "html": [
        "<div style=\"max-height:1000px;max-width:1500px;overflow:auto;\">\n",
        "<table border=\"1\" class=\"dataframe\">\n",
        "  <thead>\n",
        "    <tr style=\"text-align: right;\">\n",
        "      <th></th>\n",
        "      <th># reads &gt;= minimum</th>\n",
        "      <th># bases in reads &gt;= minimum</th>\n",
        "      <th>histogram</th>\n",
        "      <th>total ref bases covered</th>\n",
        "      <th>total ref bases covered, alignment length &gt; 90% read</th>\n",
        "      <th>coverage</th>\n",
        "      <th>coverage &gt;= 90%</th>\n",
        "    </tr>\n",
        "  </thead>\n",
        "  <tbody>\n",
        "    <tr>\n",
        "      <th>500  </th>\n",
        "      <td> 1579060</td>\n",
        "      <td> 5979144764</td>\n",
        "      <td> 380562</td>\n",
        "      <td> 928127565</td>\n",
        "      <td> 926069574</td>\n",
        "      <td> 0.886521</td>\n",
        "      <td> 0.884556</td>\n",
        "    </tr>\n",
        "    <tr>\n",
        "      <th>1000 </th>\n",
        "      <td> 1198498</td>\n",
        "      <td> 5706510537</td>\n",
        "      <td> 177996</td>\n",
        "      <td> 921540654</td>\n",
        "      <td> 919227322</td>\n",
        "      <td> 0.880230</td>\n",
        "      <td> 0.878020</td>\n",
        "    </tr>\n",
        "    <tr>\n",
        "      <th>1500 </th>\n",
        "      <td> 1020502</td>\n",
        "      <td> 5487974694</td>\n",
        "      <td> 132078</td>\n",
        "      <td> 915760290</td>\n",
        "      <td> 913284507</td>\n",
        "      <td> 0.874708</td>\n",
        "      <td> 0.872344</td>\n",
        "    </tr>\n",
        "    <tr>\n",
        "      <th>2000 </th>\n",
        "      <td>  888424</td>\n",
        "      <td> 5258736875</td>\n",
        "      <td>  96460</td>\n",
        "      <td> 910702372</td>\n",
        "      <td> 908168597</td>\n",
        "      <td> 0.869877</td>\n",
        "      <td> 0.867457</td>\n",
        "    </tr>\n",
        "    <tr>\n",
        "      <th>2500 </th>\n",
        "      <td>  791964</td>\n",
        "      <td> 5042941128</td>\n",
        "      <td>  75044</td>\n",
        "      <td> 905471339</td>\n",
        "      <td> 902874039</td>\n",
        "      <td> 0.864881</td>\n",
        "      <td> 0.862400</td>\n",
        "    </tr>\n",
        "    <tr>\n",
        "      <th>3000 </th>\n",
        "      <td>  716920</td>\n",
        "      <td> 4837330130</td>\n",
        "      <td>  60860</td>\n",
        "      <td> 899770850</td>\n",
        "      <td> 897086258</td>\n",
        "      <td> 0.859436</td>\n",
        "      <td> 0.856871</td>\n",
        "    </tr>\n",
        "    <tr>\n",
        "      <th>3500 </th>\n",
        "      <td>  656060</td>\n",
        "      <td> 4640156299</td>\n",
        "      <td>  51165</td>\n",
        "      <td> 893713882</td>\n",
        "      <td> 890924908</td>\n",
        "      <td> 0.853650</td>\n",
        "      <td> 0.850986</td>\n",
        "    </tr>\n",
        "    <tr>\n",
        "      <th>4000 </th>\n",
        "      <td>  604895</td>\n",
        "      <td> 4448667417</td>\n",
        "      <td>  43718</td>\n",
        "      <td> 887281357</td>\n",
        "      <td> 884367026</td>\n",
        "      <td> 0.847506</td>\n",
        "      <td> 0.844722</td>\n",
        "    </tr>\n",
        "    <tr>\n",
        "      <th>4500 </th>\n",
        "      <td>  561177</td>\n",
        "      <td> 4263131768</td>\n",
        "      <td>  39481</td>\n",
        "      <td> 880527411</td>\n",
        "      <td> 877466186</td>\n",
        "      <td> 0.841055</td>\n",
        "      <td> 0.838131</td>\n",
        "    </tr>\n",
        "    <tr>\n",
        "      <th>5000 </th>\n",
        "      <td>  521696</td>\n",
        "      <td> 4075829221</td>\n",
        "      <td>  36230</td>\n",
        "      <td> 872562787</td>\n",
        "      <td> 869357035</td>\n",
        "      <td> 0.833447</td>\n",
        "      <td> 0.830385</td>\n",
        "    </tr>\n",
        "    <tr>\n",
        "      <th>5500 </th>\n",
        "      <td>  485466</td>\n",
        "      <td> 3885765099</td>\n",
        "      <td>  34768</td>\n",
        "      <td> 864187529</td>\n",
        "      <td> 860846350</td>\n",
        "      <td> 0.825448</td>\n",
        "      <td> 0.822256</td>\n",
        "    </tr>\n",
        "    <tr>\n",
        "      <th>6000 </th>\n",
        "      <td>  450698</td>\n",
        "      <td> 3685910766</td>\n",
        "      <td>  34063</td>\n",
        "      <td> 854643939</td>\n",
        "      <td> 851124944</td>\n",
        "      <td> 0.816332</td>\n",
        "      <td> 0.812971</td>\n",
        "    </tr>\n",
        "    <tr>\n",
        "      <th>6500 </th>\n",
        "      <td>  416635</td>\n",
        "      <td> 3473016287</td>\n",
        "      <td>  35228</td>\n",
        "      <td> 843021834</td>\n",
        "      <td> 839320302</td>\n",
        "      <td> 0.805231</td>\n",
        "      <td> 0.801695</td>\n",
        "    </tr>\n",
        "    <tr>\n",
        "      <th>7000 </th>\n",
        "      <td>  381407</td>\n",
        "      <td> 3235103366</td>\n",
        "      <td>  51526</td>\n",
        "      <td> 828329982</td>\n",
        "      <td> 824524986</td>\n",
        "      <td> 0.791197</td>\n",
        "      <td> 0.787563</td>\n",
        "    </tr>\n",
        "    <tr>\n",
        "      <th>7500 </th>\n",
        "      <td>  329881</td>\n",
        "      <td> 2859908483</td>\n",
        "      <td>  93426</td>\n",
        "      <td> 804833106</td>\n",
        "      <td> 800855941</td>\n",
        "      <td> 0.768754</td>\n",
        "      <td> 0.764955</td>\n",
        "    </tr>\n",
        "    <tr>\n",
        "      <th>8000 </th>\n",
        "      <td>  236455</td>\n",
        "      <td> 2135422172</td>\n",
        "      <td>  78923</td>\n",
        "      <td> 747838596</td>\n",
        "      <td> 743648851</td>\n",
        "      <td> 0.714314</td>\n",
        "      <td> 0.710312</td>\n",
        "    </tr>\n",
        "    <tr>\n",
        "      <th>8500 </th>\n",
        "      <td>  157532</td>\n",
        "      <td> 1485325024</td>\n",
        "      <td>  57626</td>\n",
        "      <td> 662861999</td>\n",
        "      <td> 658569068</td>\n",
        "      <td> 0.633147</td>\n",
        "      <td> 0.629047</td>\n",
        "    </tr>\n",
        "    <tr>\n",
        "      <th>9000 </th>\n",
        "      <td>   99906</td>\n",
        "      <td>  981945384</td>\n",
        "      <td>  40074</td>\n",
        "      <td> 552354897</td>\n",
        "      <td> 548166866</td>\n",
        "      <td> 0.527594</td>\n",
        "      <td> 0.523594</td>\n",
        "    </tr>\n",
        "    <tr>\n",
        "      <th>9500 </th>\n",
        "      <td>   59832</td>\n",
        "      <td>  611940150</td>\n",
        "      <td>  26485</td>\n",
        "      <td> 420904643</td>\n",
        "      <td> 417289383</td>\n",
        "      <td> 0.402036</td>\n",
        "      <td> 0.398583</td>\n",
        "    </tr>\n",
        "    <tr>\n",
        "      <th>10000</th>\n",
        "      <td>   33347</td>\n",
        "      <td>  354233242</td>\n",
        "      <td>  16539</td>\n",
        "      <td> 286923788</td>\n",
        "      <td> 284274054</td>\n",
        "      <td> 0.274062</td>\n",
        "      <td> 0.271531</td>\n",
        "    </tr>\n",
        "    <tr>\n",
        "      <th>10500</th>\n",
        "      <td>   16808</td>\n",
        "      <td>  185063470</td>\n",
        "      <td>   9709</td>\n",
        "      <td> 170081379</td>\n",
        "      <td> 168285960</td>\n",
        "      <td> 0.162457</td>\n",
        "      <td> 0.160742</td>\n",
        "    </tr>\n",
        "    <tr>\n",
        "      <th>11000</th>\n",
        "      <td>    7099</td>\n",
        "      <td>   80929655</td>\n",
        "      <td>   4960</td>\n",
        "      <td>  80978826</td>\n",
        "      <td>  79905051</td>\n",
        "      <td> 0.077349</td>\n",
        "      <td> 0.076323</td>\n",
        "    </tr>\n",
        "    <tr>\n",
        "      <th>11500</th>\n",
        "      <td>    2139</td>\n",
        "      <td>   25304661</td>\n",
        "      <td>   1749</td>\n",
        "      <td>  26497252</td>\n",
        "      <td>  26061505</td>\n",
        "      <td> 0.025309</td>\n",
        "      <td> 0.024893</td>\n",
        "    </tr>\n",
        "    <tr>\n",
        "      <th>12000</th>\n",
        "      <td>     390</td>\n",
        "      <td>    4846373</td>\n",
        "      <td>    327</td>\n",
        "      <td>   5119612</td>\n",
        "      <td>   4949056</td>\n",
        "      <td> 0.004890</td>\n",
        "      <td> 0.004727</td>\n",
        "    </tr>\n",
        "    <tr>\n",
        "      <th>12500</th>\n",
        "      <td>      63</td>\n",
        "      <td>     869385</td>\n",
        "      <td>     31</td>\n",
        "      <td>    935141</td>\n",
        "      <td>    827949</td>\n",
        "      <td> 0.000893</td>\n",
        "      <td> 0.000791</td>\n",
        "    </tr>\n",
        "    <tr>\n",
        "      <th>13000</th>\n",
        "      <td>      32</td>\n",
        "      <td>     476315</td>\n",
        "      <td>      3</td>\n",
        "      <td>    510230</td>\n",
        "      <td>    431938</td>\n",
        "      <td> 0.000487</td>\n",
        "      <td> 0.000413</td>\n",
        "    </tr>\n",
        "    <tr>\n",
        "      <th>13500</th>\n",
        "      <td>      29</td>\n",
        "      <td>     436517</td>\n",
        "      <td>      7</td>\n",
        "      <td>    470425</td>\n",
        "      <td>    392133</td>\n",
        "      <td> 0.000449</td>\n",
        "      <td> 0.000375</td>\n",
        "    </tr>\n",
        "    <tr>\n",
        "      <th>14000</th>\n",
        "      <td>      22</td>\n",
        "      <td>     340118</td>\n",
        "      <td>      5</td>\n",
        "      <td>    361770</td>\n",
        "      <td>    294107</td>\n",
        "      <td> 0.000346</td>\n",
        "      <td> 0.000281</td>\n",
        "    </tr>\n",
        "    <tr>\n",
        "      <th>14500</th>\n",
        "      <td>      17</td>\n",
        "      <td>     268354</td>\n",
        "      <td>      5</td>\n",
        "      <td>    288788</td>\n",
        "      <td>    246725</td>\n",
        "      <td> 0.000276</td>\n",
        "      <td> 0.000236</td>\n",
        "    </tr>\n",
        "    <tr>\n",
        "      <th>15000</th>\n",
        "      <td>      12</td>\n",
        "      <td>     194878</td>\n",
        "      <td>      3</td>\n",
        "      <td>    212010</td>\n",
        "      <td>    176186</td>\n",
        "      <td> 0.000203</td>\n",
        "      <td> 0.000168</td>\n",
        "    </tr>\n",
        "  </tbody>\n",
        "</table>\n",
        "<p>30 rows \u00d7 7 columns</p>\n",
        "</div>"
       ],
       "metadata": {},
       "output_type": "pyout",
       "prompt_number": 132,
       "text": [
        "       # reads >= minimum  # bases in reads >= minimum  histogram  \\\n",
        "500               1579060                   5979144764     380562   \n",
        "1000              1198498                   5706510537     177996   \n",
        "1500              1020502                   5487974694     132078   \n",
        "2000               888424                   5258736875      96460   \n",
        "2500               791964                   5042941128      75044   \n",
        "3000               716920                   4837330130      60860   \n",
        "3500               656060                   4640156299      51165   \n",
        "4000               604895                   4448667417      43718   \n",
        "4500               561177                   4263131768      39481   \n",
        "5000               521696                   4075829221      36230   \n",
        "5500               485466                   3885765099      34768   \n",
        "6000               450698                   3685910766      34063   \n",
        "6500               416635                   3473016287      35228   \n",
        "7000               381407                   3235103366      51526   \n",
        "7500               329881                   2859908483      93426   \n",
        "8000               236455                   2135422172      78923   \n",
        "8500               157532                   1485325024      57626   \n",
        "9000                99906                    981945384      40074   \n",
        "9500                59832                    611940150      26485   \n",
        "10000               33347                    354233242      16539   \n",
        "10500               16808                    185063470       9709   \n",
        "11000                7099                     80929655       4960   \n",
        "11500                2139                     25304661       1749   \n",
        "12000                 390                      4846373        327   \n",
        "12500                  63                       869385         31   \n",
        "13000                  32                       476315          3   \n",
        "13500                  29                       436517          7   \n",
        "14000                  22                       340118          5   \n",
        "14500                  17                       268354          5   \n",
        "15000                  12                       194878          3   \n",
        "\n",
        "       total ref bases covered  \\\n",
        "500                  928127565   \n",
        "1000                 921540654   \n",
        "1500                 915760290   \n",
        "2000                 910702372   \n",
        "2500                 905471339   \n",
        "3000                 899770850   \n",
        "3500                 893713882   \n",
        "4000                 887281357   \n",
        "4500                 880527411   \n",
        "5000                 872562787   \n",
        "5500                 864187529   \n",
        "6000                 854643939   \n",
        "6500                 843021834   \n",
        "7000                 828329982   \n",
        "7500                 804833106   \n",
        "8000                 747838596   \n",
        "8500                 662861999   \n",
        "9000                 552354897   \n",
        "9500                 420904643   \n",
        "10000                286923788   \n",
        "10500                170081379   \n",
        "11000                 80978826   \n",
        "11500                 26497252   \n",
        "12000                  5119612   \n",
        "12500                   935141   \n",
        "13000                   510230   \n",
        "13500                   470425   \n",
        "14000                   361770   \n",
        "14500                   288788   \n",
        "15000                   212010   \n",
        "\n",
        "       total ref bases covered, alignment length > 90% read  coverage  \\\n",
        "500                                            926069574     0.886521   \n",
        "1000                                           919227322     0.880230   \n",
        "1500                                           913284507     0.874708   \n",
        "2000                                           908168597     0.869877   \n",
        "2500                                           902874039     0.864881   \n",
        "3000                                           897086258     0.859436   \n",
        "3500                                           890924908     0.853650   \n",
        "4000                                           884367026     0.847506   \n",
        "4500                                           877466186     0.841055   \n",
        "5000                                           869357035     0.833447   \n",
        "5500                                           860846350     0.825448   \n",
        "6000                                           851124944     0.816332   \n",
        "6500                                           839320302     0.805231   \n",
        "7000                                           824524986     0.791197   \n",
        "7500                                           800855941     0.768754   \n",
        "8000                                           743648851     0.714314   \n",
        "8500                                           658569068     0.633147   \n",
        "9000                                           548166866     0.527594   \n",
        "9500                                           417289383     0.402036   \n",
        "10000                                          284274054     0.274062   \n",
        "10500                                          168285960     0.162457   \n",
        "11000                                           79905051     0.077349   \n",
        "11500                                           26061505     0.025309   \n",
        "12000                                            4949056     0.004890   \n",
        "12500                                             827949     0.000893   \n",
        "13000                                             431938     0.000487   \n",
        "13500                                             392133     0.000449   \n",
        "14000                                             294107     0.000346   \n",
        "14500                                             246725     0.000276   \n",
        "15000                                             176186     0.000203   \n",
        "\n",
        "       coverage >= 90%  \n",
        "500           0.884556  \n",
        "1000          0.878020  \n",
        "1500          0.872344  \n",
        "2000          0.867457  \n",
        "2500          0.862400  \n",
        "3000          0.856871  \n",
        "3500          0.850986  \n",
        "4000          0.844722  \n",
        "4500          0.838131  \n",
        "5000          0.830385  \n",
        "5500          0.822256  \n",
        "6000          0.812971  \n",
        "6500          0.801695  \n",
        "7000          0.787563  \n",
        "7500          0.764955  \n",
        "8000          0.710312  \n",
        "8500          0.629047  \n",
        "9000          0.523594  \n",
        "9500          0.398583  \n",
        "10000         0.271531  \n",
        "10500         0.160742  \n",
        "11000         0.076323  \n",
        "11500         0.024893  \n",
        "12000         0.004727  \n",
        "12500         0.000791  \n",
        "13000         0.000413  \n",
        "13500         0.000375  \n",
        "14000         0.000281  \n",
        "14500         0.000236  \n",
        "15000         0.000168  \n",
        "\n",
        "[30 rows x 7 columns]"
       ]
      }
     ],
     "prompt_number": 132
    },
    {
     "cell_type": "code",
     "collapsed": false,
     "input": [
      "df_masked"
     ],
     "language": "python",
     "metadata": {},
     "outputs": [
      {
       "html": [
        "<div style=\"max-height:1000px;max-width:1500px;overflow:auto;\">\n",
        "<table border=\"1\" class=\"dataframe\">\n",
        "  <thead>\n",
        "    <tr style=\"text-align: right;\">\n",
        "      <th></th>\n",
        "      <th># reads &gt;= minimum</th>\n",
        "      <th># bases in reads &gt;= minimum</th>\n",
        "      <th>histogram</th>\n",
        "      <th>total ref bases covered</th>\n",
        "      <th>total ref bases covered, alignment length &gt; 90% read</th>\n",
        "      <th>coverage</th>\n",
        "      <th>coverage &gt;= 90%</th>\n",
        "    </tr>\n",
        "  </thead>\n",
        "  <tbody>\n",
        "    <tr>\n",
        "      <th>500  </th>\n",
        "      <td> 1579060</td>\n",
        "      <td> 5979144764</td>\n",
        "      <td> 380562</td>\n",
        "      <td> 861340070</td>\n",
        "      <td> 822849049</td>\n",
        "      <td> 0.822728</td>\n",
        "      <td> 0.785962</td>\n",
        "    </tr>\n",
        "    <tr>\n",
        "      <th>1000 </th>\n",
        "      <td> 1198498</td>\n",
        "      <td> 5706510537</td>\n",
        "      <td> 177996</td>\n",
        "      <td> 856041875</td>\n",
        "      <td> 813355067</td>\n",
        "      <td> 0.817667</td>\n",
        "      <td> 0.776894</td>\n",
        "    </tr>\n",
        "    <tr>\n",
        "      <th>1500 </th>\n",
        "      <td> 1020502</td>\n",
        "      <td> 5487974694</td>\n",
        "      <td> 132078</td>\n",
        "      <td> 851206517</td>\n",
        "      <td> 804452160</td>\n",
        "      <td> 0.813048</td>\n",
        "      <td> 0.768390</td>\n",
        "    </tr>\n",
        "    <tr>\n",
        "      <th>2000 </th>\n",
        "      <td>  888424</td>\n",
        "      <td> 5258736875</td>\n",
        "      <td>  96460</td>\n",
        "      <td> 846848062</td>\n",
        "      <td> 795848482</td>\n",
        "      <td> 0.808885</td>\n",
        "      <td> 0.760172</td>\n",
        "    </tr>\n",
        "    <tr>\n",
        "      <th>2500 </th>\n",
        "      <td>  791964</td>\n",
        "      <td> 5042941128</td>\n",
        "      <td>  75044</td>\n",
        "      <td> 842270459</td>\n",
        "      <td> 786925399</td>\n",
        "      <td> 0.804513</td>\n",
        "      <td> 0.751649</td>\n",
        "    </tr>\n",
        "    <tr>\n",
        "      <th>3000 </th>\n",
        "      <td>  716920</td>\n",
        "      <td> 4837330130</td>\n",
        "      <td>  60860</td>\n",
        "      <td> 837297964</td>\n",
        "      <td> 777548083</td>\n",
        "      <td> 0.799763</td>\n",
        "      <td> 0.742692</td>\n",
        "    </tr>\n",
        "    <tr>\n",
        "      <th>3500 </th>\n",
        "      <td>  656060</td>\n",
        "      <td> 4640156299</td>\n",
        "      <td>  51165</td>\n",
        "      <td> 831939901</td>\n",
        "      <td> 767605790</td>\n",
        "      <td> 0.794646</td>\n",
        "      <td> 0.733195</td>\n",
        "    </tr>\n",
        "    <tr>\n",
        "      <th>4000 </th>\n",
        "      <td>  604895</td>\n",
        "      <td> 4448667417</td>\n",
        "      <td>  43718</td>\n",
        "      <td> 826275521</td>\n",
        "      <td> 757371322</td>\n",
        "      <td> 0.789235</td>\n",
        "      <td> 0.723420</td>\n",
        "    </tr>\n",
        "    <tr>\n",
        "      <th>4500 </th>\n",
        "      <td>  561177</td>\n",
        "      <td> 4263131768</td>\n",
        "      <td>  39481</td>\n",
        "      <td> 820383036</td>\n",
        "      <td> 746935144</td>\n",
        "      <td> 0.783607</td>\n",
        "      <td> 0.713451</td>\n",
        "    </tr>\n",
        "    <tr>\n",
        "      <th>5000 </th>\n",
        "      <td>  521696</td>\n",
        "      <td> 4075829221</td>\n",
        "      <td>  36230</td>\n",
        "      <td> 813324316</td>\n",
        "      <td> 735442127</td>\n",
        "      <td> 0.776864</td>\n",
        "      <td> 0.702474</td>\n",
        "    </tr>\n",
        "    <tr>\n",
        "      <th>5500 </th>\n",
        "      <td>  485466</td>\n",
        "      <td> 3885765099</td>\n",
        "      <td>  34768</td>\n",
        "      <td> 805880858</td>\n",
        "      <td> 723596727</td>\n",
        "      <td> 0.769755</td>\n",
        "      <td> 0.691159</td>\n",
        "    </tr>\n",
        "    <tr>\n",
        "      <th>6000 </th>\n",
        "      <td>  450698</td>\n",
        "      <td> 3685910766</td>\n",
        "      <td>  34063</td>\n",
        "      <td> 797349471</td>\n",
        "      <td> 710879582</td>\n",
        "      <td> 0.761606</td>\n",
        "      <td> 0.679012</td>\n",
        "    </tr>\n",
        "    <tr>\n",
        "      <th>6500 </th>\n",
        "      <td>  416635</td>\n",
        "      <td> 3473016287</td>\n",
        "      <td>  35228</td>\n",
        "      <td> 786997143</td>\n",
        "      <td> 696277887</td>\n",
        "      <td> 0.751717</td>\n",
        "      <td> 0.665065</td>\n",
        "    </tr>\n",
        "    <tr>\n",
        "      <th>7000 </th>\n",
        "      <td>  381407</td>\n",
        "      <td> 3235103366</td>\n",
        "      <td>  51526</td>\n",
        "      <td> 773834101</td>\n",
        "      <td> 679037408</td>\n",
        "      <td> 0.739144</td>\n",
        "      <td> 0.648597</td>\n",
        "    </tr>\n",
        "    <tr>\n",
        "      <th>7500 </th>\n",
        "      <td>  329881</td>\n",
        "      <td> 2859908483</td>\n",
        "      <td>  93426</td>\n",
        "      <td> 752631701</td>\n",
        "      <td> 651879672</td>\n",
        "      <td> 0.718893</td>\n",
        "      <td> 0.622657</td>\n",
        "    </tr>\n",
        "    <tr>\n",
        "      <th>8000 </th>\n",
        "      <td>  236455</td>\n",
        "      <td> 2135422172</td>\n",
        "      <td>  78923</td>\n",
        "      <td> 700732257</td>\n",
        "      <td> 587672522</td>\n",
        "      <td> 0.669320</td>\n",
        "      <td> 0.561328</td>\n",
        "    </tr>\n",
        "    <tr>\n",
        "      <th>8500 </th>\n",
        "      <td>  157532</td>\n",
        "      <td> 1485325024</td>\n",
        "      <td>  57626</td>\n",
        "      <td> 622487206</td>\n",
        "      <td> 501621674</td>\n",
        "      <td> 0.594582</td>\n",
        "      <td> 0.479135</td>\n",
        "    </tr>\n",
        "    <tr>\n",
        "      <th>9000 </th>\n",
        "      <td>   99906</td>\n",
        "      <td>  981945384</td>\n",
        "      <td>  40074</td>\n",
        "      <td> 519975737</td>\n",
        "      <td> 401902417</td>\n",
        "      <td> 0.496666</td>\n",
        "      <td> 0.383886</td>\n",
        "    </tr>\n",
        "    <tr>\n",
        "      <th>9500 </th>\n",
        "      <td>   59832</td>\n",
        "      <td>  611940150</td>\n",
        "      <td>  26485</td>\n",
        "      <td> 397122647</td>\n",
        "      <td> 295127743</td>\n",
        "      <td> 0.379320</td>\n",
        "      <td> 0.281898</td>\n",
        "    </tr>\n",
        "    <tr>\n",
        "      <th>10000</th>\n",
        "      <td>   33347</td>\n",
        "      <td>  354233242</td>\n",
        "      <td>  16539</td>\n",
        "      <td> 271267193</td>\n",
        "      <td> 194892528</td>\n",
        "      <td> 0.259107</td>\n",
        "      <td> 0.186156</td>\n",
        "    </tr>\n",
        "    <tr>\n",
        "      <th>10500</th>\n",
        "      <td>   16808</td>\n",
        "      <td>  185063470</td>\n",
        "      <td>   9709</td>\n",
        "      <td> 161094016</td>\n",
        "      <td> 112797988</td>\n",
        "      <td> 0.153872</td>\n",
        "      <td> 0.107741</td>\n",
        "    </tr>\n",
        "    <tr>\n",
        "      <th>11000</th>\n",
        "      <td>    7099</td>\n",
        "      <td>   80929655</td>\n",
        "      <td>   4960</td>\n",
        "      <td>  76707337</td>\n",
        "      <td>  52316978</td>\n",
        "      <td> 0.073269</td>\n",
        "      <td> 0.049972</td>\n",
        "    </tr>\n",
        "    <tr>\n",
        "      <th>11500</th>\n",
        "      <td>    2139</td>\n",
        "      <td>   25304661</td>\n",
        "      <td>   1749</td>\n",
        "      <td>  25066690</td>\n",
        "      <td>  16741243</td>\n",
        "      <td> 0.023943</td>\n",
        "      <td> 0.015991</td>\n",
        "    </tr>\n",
        "    <tr>\n",
        "      <th>12000</th>\n",
        "      <td>     390</td>\n",
        "      <td>    4846373</td>\n",
        "      <td>    327</td>\n",
        "      <td>   4830387</td>\n",
        "      <td>   3133169</td>\n",
        "      <td> 0.004614</td>\n",
        "      <td> 0.002993</td>\n",
        "    </tr>\n",
        "    <tr>\n",
        "      <th>12500</th>\n",
        "      <td>      63</td>\n",
        "      <td>     869385</td>\n",
        "      <td>     31</td>\n",
        "      <td>    856471</td>\n",
        "      <td>    510501</td>\n",
        "      <td> 0.000818</td>\n",
        "      <td> 0.000488</td>\n",
        "    </tr>\n",
        "    <tr>\n",
        "      <th>13000</th>\n",
        "      <td>      32</td>\n",
        "      <td>     476315</td>\n",
        "      <td>      3</td>\n",
        "      <td>    461040</td>\n",
        "      <td>    270244</td>\n",
        "      <td> 0.000440</td>\n",
        "      <td> 0.000258</td>\n",
        "    </tr>\n",
        "    <tr>\n",
        "      <th>13500</th>\n",
        "      <td>      29</td>\n",
        "      <td>     436517</td>\n",
        "      <td>      7</td>\n",
        "      <td>    421499</td>\n",
        "      <td>    230703</td>\n",
        "      <td> 0.000403</td>\n",
        "      <td> 0.000220</td>\n",
        "    </tr>\n",
        "    <tr>\n",
        "      <th>14000</th>\n",
        "      <td>      22</td>\n",
        "      <td>     340118</td>\n",
        "      <td>      5</td>\n",
        "      <td>    328581</td>\n",
        "      <td>    161312</td>\n",
        "      <td> 0.000314</td>\n",
        "      <td> 0.000154</td>\n",
        "    </tr>\n",
        "    <tr>\n",
        "      <th>14500</th>\n",
        "      <td>      17</td>\n",
        "      <td>     268354</td>\n",
        "      <td>      5</td>\n",
        "      <td>    260590</td>\n",
        "      <td>    125694</td>\n",
        "      <td> 0.000249</td>\n",
        "      <td> 0.000120</td>\n",
        "    </tr>\n",
        "    <tr>\n",
        "      <th>15000</th>\n",
        "      <td>      12</td>\n",
        "      <td>     194878</td>\n",
        "      <td>      3</td>\n",
        "      <td>    191072</td>\n",
        "      <td>     85222</td>\n",
        "      <td> 0.000183</td>\n",
        "      <td> 0.000081</td>\n",
        "    </tr>\n",
        "  </tbody>\n",
        "</table>\n",
        "<p>30 rows \u00d7 7 columns</p>\n",
        "</div>"
       ],
       "metadata": {},
       "output_type": "pyout",
       "prompt_number": 125,
       "text": [
        "       # reads >= minimum  # bases in reads >= minimum  histogram  \\\n",
        "500               1579060                   5979144764     380562   \n",
        "1000              1198498                   5706510537     177996   \n",
        "1500              1020502                   5487974694     132078   \n",
        "2000               888424                   5258736875      96460   \n",
        "2500               791964                   5042941128      75044   \n",
        "3000               716920                   4837330130      60860   \n",
        "3500               656060                   4640156299      51165   \n",
        "4000               604895                   4448667417      43718   \n",
        "4500               561177                   4263131768      39481   \n",
        "5000               521696                   4075829221      36230   \n",
        "5500               485466                   3885765099      34768   \n",
        "6000               450698                   3685910766      34063   \n",
        "6500               416635                   3473016287      35228   \n",
        "7000               381407                   3235103366      51526   \n",
        "7500               329881                   2859908483      93426   \n",
        "8000               236455                   2135422172      78923   \n",
        "8500               157532                   1485325024      57626   \n",
        "9000                99906                    981945384      40074   \n",
        "9500                59832                    611940150      26485   \n",
        "10000               33347                    354233242      16539   \n",
        "10500               16808                    185063470       9709   \n",
        "11000                7099                     80929655       4960   \n",
        "11500                2139                     25304661       1749   \n",
        "12000                 390                      4846373        327   \n",
        "12500                  63                       869385         31   \n",
        "13000                  32                       476315          3   \n",
        "13500                  29                       436517          7   \n",
        "14000                  22                       340118          5   \n",
        "14500                  17                       268354          5   \n",
        "15000                  12                       194878          3   \n",
        "\n",
        "       total ref bases covered  \\\n",
        "500                  861340070   \n",
        "1000                 856041875   \n",
        "1500                 851206517   \n",
        "2000                 846848062   \n",
        "2500                 842270459   \n",
        "3000                 837297964   \n",
        "3500                 831939901   \n",
        "4000                 826275521   \n",
        "4500                 820383036   \n",
        "5000                 813324316   \n",
        "5500                 805880858   \n",
        "6000                 797349471   \n",
        "6500                 786997143   \n",
        "7000                 773834101   \n",
        "7500                 752631701   \n",
        "8000                 700732257   \n",
        "8500                 622487206   \n",
        "9000                 519975737   \n",
        "9500                 397122647   \n",
        "10000                271267193   \n",
        "10500                161094016   \n",
        "11000                 76707337   \n",
        "11500                 25066690   \n",
        "12000                  4830387   \n",
        "12500                   856471   \n",
        "13000                   461040   \n",
        "13500                   421499   \n",
        "14000                   328581   \n",
        "14500                   260590   \n",
        "15000                   191072   \n",
        "\n",
        "       total ref bases covered, alignment length > 90% read  coverage  \\\n",
        "500                                            822849049     0.822728   \n",
        "1000                                           813355067     0.817667   \n",
        "1500                                           804452160     0.813048   \n",
        "2000                                           795848482     0.808885   \n",
        "2500                                           786925399     0.804513   \n",
        "3000                                           777548083     0.799763   \n",
        "3500                                           767605790     0.794646   \n",
        "4000                                           757371322     0.789235   \n",
        "4500                                           746935144     0.783607   \n",
        "5000                                           735442127     0.776864   \n",
        "5500                                           723596727     0.769755   \n",
        "6000                                           710879582     0.761606   \n",
        "6500                                           696277887     0.751717   \n",
        "7000                                           679037408     0.739144   \n",
        "7500                                           651879672     0.718893   \n",
        "8000                                           587672522     0.669320   \n",
        "8500                                           501621674     0.594582   \n",
        "9000                                           401902417     0.496666   \n",
        "9500                                           295127743     0.379320   \n",
        "10000                                          194892528     0.259107   \n",
        "10500                                          112797988     0.153872   \n",
        "11000                                           52316978     0.073269   \n",
        "11500                                           16741243     0.023943   \n",
        "12000                                            3133169     0.004614   \n",
        "12500                                             510501     0.000818   \n",
        "13000                                             270244     0.000440   \n",
        "13500                                             230703     0.000403   \n",
        "14000                                             161312     0.000314   \n",
        "14500                                             125694     0.000249   \n",
        "15000                                              85222     0.000183   \n",
        "\n",
        "       coverage >= 90%  \n",
        "500           0.785962  \n",
        "1000          0.776894  \n",
        "1500          0.768390  \n",
        "2000          0.760172  \n",
        "2500          0.751649  \n",
        "3000          0.742692  \n",
        "3500          0.733195  \n",
        "4000          0.723420  \n",
        "4500          0.713451  \n",
        "5000          0.702474  \n",
        "5500          0.691159  \n",
        "6000          0.679012  \n",
        "6500          0.665065  \n",
        "7000          0.648597  \n",
        "7500          0.622657  \n",
        "8000          0.561328  \n",
        "8500          0.479135  \n",
        "9000          0.383886  \n",
        "9500          0.281898  \n",
        "10000         0.186156  \n",
        "10500         0.107741  \n",
        "11000         0.049972  \n",
        "11500         0.015991  \n",
        "12000         0.002993  \n",
        "12500         0.000488  \n",
        "13000         0.000258  \n",
        "13500         0.000220  \n",
        "14000         0.000154  \n",
        "14500         0.000120  \n",
        "15000         0.000081  \n",
        "\n",
        "[30 rows x 7 columns]"
       ]
      }
     ],
     "prompt_number": 125
    }
   ],
   "metadata": {}
  }
 ]
}