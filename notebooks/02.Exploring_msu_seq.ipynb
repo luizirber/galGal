{
 "metadata": {
  "name": "",
  "signature": "sha256:4cd611c2ea0caacce707a105cb33aa1cd920d9a05c03868f92c7c9bfdfe63f94"
 },
 "nbformat": 3,
 "nbformat_minor": 0,
 "worksheets": [
  {
   "cells": [
    {
     "cell_type": "heading",
     "level": 1,
     "metadata": {},
     "source": [
      "Exploring msu seq"
     ]
    },
    {
     "cell_type": "markdown",
     "metadata": {},
     "source": [
      "msu seq reads were mapped to:\n",
      "  - the current version of the reference genome (galGal4)\n",
      "  - the previous version, galGal3\n",
      "  - the next version draft, galGal5\n",
      "\n",
      "Important details:\n",
      "  - All reference genomes are soft masked. At first it was inconclusive how BWA behaved in this case,\n",
      "    so I ran it with both soft masks and replacing 'agct' with 'AGCT'. The results were the same."
     ]
    },
    {
     "cell_type": "code",
     "collapsed": false,
     "input": [
      "%matplotlib inline\n",
      "from matplotlib import pyplot as plt\n",
      "from glob import glob\n",
      "import os"
     ],
     "language": "python",
     "metadata": {},
     "outputs": [],
     "prompt_number": 1
    },
    {
     "cell_type": "code",
     "collapsed": false,
     "input": [
      "!cd .. && make msu_galGal4 msu_galGal3 msu_galGal5"
     ],
     "language": "python",
     "metadata": {},
     "outputs": [
      {
       "output_type": "stream",
       "stream": "stdout",
       "text": [
        "make: Nothing to be done for `msu_galGal4'.\r\n",
        "make: Nothing to be done for `msu_galGal3'.\r\n"
       ]
      },
      {
       "output_type": "stream",
       "stream": "stdout",
       "text": [
        "make: Nothing to be done for `msu_galGal5'.\r\n"
       ]
      }
     ],
     "prompt_number": 2
    },
    {
     "cell_type": "heading",
     "level": 2,
     "metadata": {},
     "source": [
      "Counting unmapped reads"
     ]
    },
    {
     "cell_type": "markdown",
     "metadata": {},
     "source": [
      "There are 426,661 reads in the input files.\n",
      "\n",
      "There is a different number of **unmapped reads** for each reference genome:\n",
      "  - galGal4: 541 (0.13%)\n",
      "  - galGal3: 2351 (0.55%)\n",
      "  - galGal5: 4110 (0.96%)\n",
      "\n",
      "Reference for using samtools to count reads:\n",
      "  - http://picard.sourceforge.net/explain-flags.html\n",
      "  - http://left.subtree.org/2012/04/13/counting-the-number-of-reads-in-a-bam-file/"
     ]
    },
    {
     "cell_type": "heading",
     "level": 3,
     "metadata": {},
     "source": [
      "galGal4"
     ]
    },
    {
     "cell_type": "code",
     "collapsed": false,
     "input": [
      "! echo -n \"Total: \"\n",
      "! samtools view -c -f 4 ../outputs/msu/galGal4.msu.sorted.bam"
     ],
     "language": "python",
     "metadata": {},
     "outputs": [
      {
       "output_type": "stream",
       "stream": "stdout",
       "text": [
        "Total: "
       ]
      },
      {
       "output_type": "stream",
       "stream": "stdout",
       "text": [
        "541\r\n"
       ]
      }
     ],
     "prompt_number": 4
    },
    {
     "cell_type": "heading",
     "level": 3,
     "metadata": {},
     "source": [
      "galGal3"
     ]
    },
    {
     "cell_type": "code",
     "collapsed": false,
     "input": [
      "! echo -n \"Total: \"\n",
      "! samtools view -c -f 4 ../outputs/msu/galGal3.msu.sorted.bam"
     ],
     "language": "python",
     "metadata": {},
     "outputs": [
      {
       "output_type": "stream",
       "stream": "stdout",
       "text": [
        "Total: "
       ]
      },
      {
       "output_type": "stream",
       "stream": "stdout",
       "text": [
        "2351\r\n"
       ]
      }
     ],
     "prompt_number": 10
    },
    {
     "cell_type": "heading",
     "level": 3,
     "metadata": {},
     "source": [
      "galGal5"
     ]
    },
    {
     "cell_type": "code",
     "collapsed": false,
     "input": [
      "! echo -n \"Total: \"\n",
      "! samtools view -c -f 4 ../outputs/msu/galGal5.msu.sorted.bam"
     ],
     "language": "python",
     "metadata": {},
     "outputs": [
      {
       "output_type": "stream",
       "stream": "stdout",
       "text": [
        "Total: "
       ]
      },
      {
       "output_type": "stream",
       "stream": "stdout",
       "text": [
        "4110\r\n"
       ]
      }
     ],
     "prompt_number": 11
    },
    {
     "cell_type": "markdown",
     "metadata": {},
     "source": [
      "Notes:\n",
      " - 0.5% of the bases are N, meaning either unidentified or hard masked. For galGal4 this is ~1.4%"
     ]
    },
    {
     "cell_type": "code",
     "collapsed": false,
     "input": [
      "total_N = !grep -F -o N ../outputs/reference/galGal5.fa |wc -l\n",
      "total_bases = !grep -v \">\" ../outputs/reference/galGal5.fa |wc -c\n",
      "print float(total_N[0]) / float(total_nucleotides[0])"
     ],
     "language": "python",
     "metadata": {},
     "outputs": [
      {
       "output_type": "stream",
       "stream": "stdout",
       "text": [
        "0.00562306256509\n"
       ]
      }
     ],
     "prompt_number": 22
    },
    {
     "cell_type": "code",
     "collapsed": false,
     "input": [
      "total_N = !grep -F -o N ../outputs/reference/galGal4.fa |wc -l\n",
      "total_bases = !grep -v \">\" ../outputs/reference/galGal4.fa |wc -c\n",
      "print float(total_N[0]) / float(total_nucleotides[0])"
     ],
     "language": "python",
     "metadata": {},
     "outputs": [
      {
       "output_type": "stream",
       "stream": "stdout",
       "text": [
        "0.0138014789357\n"
       ]
      }
     ],
     "prompt_number": 77
    },
    {
     "cell_type": "heading",
     "level": 1,
     "metadata": {},
     "source": [
      "Checking unmapped reads"
     ]
    },
    {
     "cell_type": "code",
     "collapsed": false,
     "input": [
      "#! cd .. && make outputs/moleculo/galGal4.unmapped_reads"
     ],
     "language": "python",
     "metadata": {},
     "outputs": []
    },
    {
     "cell_type": "code",
     "collapsed": false,
     "input": [
      "from random import sample"
     ],
     "language": "python",
     "metadata": {},
     "outputs": [],
     "prompt_number": 24
    },
    {
     "cell_type": "code",
     "collapsed": false,
     "input": [
      "seqs = [line.strip() for line in open('../outputs/msu/galGal4.unmapped_reads').readlines() if not line.startswith('>')]\n",
      "sample(seqs, 5)"
     ],
     "language": "python",
     "metadata": {},
     "outputs": [
      {
       "metadata": {},
       "output_type": "pyout",
       "prompt_number": 27,
       "text": [
        "['TATTCAATAAGTCAATATCATGCCGTTAATATGTTGCCATCCGTGGCAATCATGCTGCTAACGTGTGACCGCATTCAAAATGTTGTCTGCGATTGACTCTTCTTTGTGGCATTGCACCACCAGAGCGTCATACAGCGGCTTAACAGTGCGTGACCAGGTGGGTTGGGTAAGGTTTGGGGTTAGCATCGTCACAGCGCGATATGCTGCGCTTGCTGGCATCCTTGAATAGCCGACGCCTTTGCATCTTCCGCACTCTTTCTCGACAACTCTCCCCCACAGCTCTGTTTTGGCAATATCAACCGCACGGCCTGTACCATGACAATCTCTGCATCTTGCCCCCGGCGTCGCGGCACTACGGCAATAATCCGCATAAGCGAATGTTGCGAGCACTTGCAGTACCTTTGCCTTAGTATTTCCTTCAAGCTTTGCCACACCACGGTATTTCCCCGATACCTTGTGTGCAAATTGCATCAGATAGTTGATAGCCTTTTGTTTGTCGTTCTGGCTGAGTTCGTGCTTACCGCAGAATGCAGCCATACCGAATCCG',\n",
        " 'AGTCGGTGTGAATCCCATCAGCGTTACCGTTTCGCGGTGCTTCTTCAGTACGCTACGGCAAATGTCATCGACGTTTTTATCCGGAAACTGCTGTCTGGCTTTTTTTGATTTCAGAATTAGCCTGACGGGCAATGCTGCGAAGGGCGTTTTCCTGCTGAGGTGTCATTGAACAAGTCCCATGTCGGCAAGCATAAGCACACAGAATATGAAGCCCGCTGCCAGAAAAATGCATTCCGTGGTTGTCATACCTGGTTTCTCTCATCTGCTTCTGCTTTCGCCACCATCATTTCCAGCTTTTGTGAAAGGGATGCGGCTAACGTATGAAATTCTTCGTCTGTTTCTACTGGTATTGGCACAAACCTGATTCCAATTTGAGCAAGGCTATGTGCCATCTCGATACTCATTCTTAACTCAACAGAAGATGCTTTGTGCATACAGCCCCTCGTTTATTATTTATCTCCTCAGCCAGCCGCTGTGCTTTCAGTGGATTTCGGATAACAGAAAGGCCGGGAAATACCCAGCCTCGCTCTGTAACGGAGTAGACGAAAGTGATTGCGCCTACCCGGATATTATCGTGAGGATGCGTCATCGCATTGCTCCCCAAATACAAAACCAATTTCAGCCAGTGCCTCGTCCATTTTTTCGATGAACTCCGGCACGATCTCGTCAAAACTCGCCATGTACTTTTCATCCCGCTCAATCACGACATAATGCAGGCCTTCACGCTTCATACGCGGGTCATAGTTGGCAAAGTACCAGGCATTTTTTCGCGTCACCCACATGCTGTACTGCACCTGGGCCATGTAAGCTGACTTTATGGCCTCGAAACCACCGAGCCGGAACTTCATGAAATCCCGGGAGGTAAACGGGCATTTCAGTTCAAGGCCGTTGCCGTCACTGCATAAACCATCGGGAGAGCAGGCGGTACGCATACTTTCGTCGCGATAGATGATCGGGGATTCAGTAACATTCACGCCGGAAGTGGATTCAAACAGGGTTCTGCTATCACGTCGTGAACTTCTGAAGCGGTGATGACGCCGAGCCGTAATTTGTGCCACGCATCATCCCCCTGTTCGACAGCTCTCACATCGATCCCGGTACGCTGCAGGATAATGTCCGGTGTCATGCTGCCACCTTCTGCTCTGCGGCTTTCTGTTTCAGGAATCCAAGAGCTTTTACTGCTTCGGCCTGTGTCAGTTCTGACGATGCACGAATGTCGCGGCGAAATACCTGGGAACAGAGCGGCAATAAGTCGTCATCCCATGTTTTATCCAGGGCGA',\n",
        " 'AGCATTCTTGAGTCCAATATAAAAGTATTGTGTACCTTTTGCTGGGTCAGGTTGTTCTTTAGGAGGAGTAAAAGGATCAAACGCACTAAACGAAACTGAAACAAGCGATCGAAAATATCCCTTTGGGATTCTTGACTCGATAAGTCTATTATTTTCAGAGAAAAAATATTCATTGTTTTCTGGGTTGGTGACTGCACCAATCATTCCATTCAAAATTGTTGTTTTACCACACCCATTCCGCCCGATAAAAGCATGAATGTTCGTGCTGGGCATAGAATTAACCGTCACCTCAAAGGGTATAGTTAAATCACTGAATCCGGGAGCACTTTTTCTATTAAATGAAAAGTGGAAATCTGACAATTCTGGCAAACCATTTAGCACACGTGCGAACTGTCCATGAATTTCTGAAAGAGTTACCCCTCTAAGTAATGAGGTGTTAAGGACGCTTTCATTTTCAATGTCGGCTAATCGATTTGGCCATACTACTAAATCCTGAATAGCTTTAAGATGGTTATGTTTAAAACCATCGCTTAATTTGCTGAGATTAACATAGTAGTCAATGCTTTCACCTAAGGAAAAAAACATTTCAGGGAGTTGACTGAATTTTTTATCTATTAATGAATAAGTGCTTACCTCTTCTTTTTGACCTACAAAACCAATTTTAACATTTCCGATAT',\n",
        " 'GCAGACATCATTGATTCAGCATCAGAAATAGAAGAATTACAGCGCAACACAGCAATAAAAATGCGCCGCCTGAACCACCAGGCTATATCTGCCACTCATTGTTGTGAGTGTGGCGATCCGATAGATGAACGAAGACGTCTGGTCGTTCAGGGTTGTCGGACTTGTGCAAGTTGCCAGGAGGATCTGGAACTTATCAGTAAACAGAGAGGTTCGAAGTGAGCGAAATTAACTCTCAGGCACTGCGTGAAGCGGCAGAGCAGGCAATGCATGACGACTGGGGATTTGACGCAGACCTTTTCCATGAATCGGTAACACCGTCGATTGTGCTGGAACTGCTGGATGAACGGGAAAGAAACCAGCAATACATCAAACGCCGCGACCAGGAGAACGAGGATATTGCGCTAACAGTAGGGAAACTGCGTGTTGAGCTTGAAACAGCAAAATCAAAACTCAACGAGCAGCGTGAGTATTACGAAGGTGTTATCTCGGATGGGAGTAAGCGTATTGCTAAACTGGAAAGCAACGAA',\n",
        " 'TTCTGCGGTAAGCACGAACTCAGCCAGAACGACAAACAAAAGGCTATCAACTATCTGATGCAATTTGCACACGAGGTATCGGGGAAATACCGTGGTGTGGCAAAGCTTGAAGGAAATACTAAGGCAAAGGTACTGCAAGTGCTCGCAACATTCGCTTATGCGGATTATTGCCGTAGTGCCGCGACGCCGGGGGCAAGATGCAGAGATTGCCATGGTACAGGCCGTGCGGTTGATATTGCCAAAACAGAGCTGTGGGGGAGAGTTGTCGAGAGAGAGTGCGGAAGATGCAAAGGCGTCGGCTATTCAAGGATGCCAGCAAGCGCAGCATATCGCGCTGTGACGATGCTAATCCCAAACCTTACCCAACCCACCTGGTCACGCACTGTTAAGCCGCTGTATGACGCTCTGGTGGTGCAATGCCACAAAGAAGAGTCAATCGCAGACAACATTTTGAATGCGGTCACACGTTAGCAGCATGATTGCCACGGATGGCGACATATTAACGGCATGATATTGACTTATTGAATAAAATTGGGTAAATT']"
       ]
      }
     ],
     "prompt_number": 27
    },
    {
     "cell_type": "heading",
     "level": 2,
     "metadata": {},
     "source": [
      "UCSC Genome Browser BLAT Results"
     ]
    },
    {
     "cell_type": "markdown",
     "metadata": {},
     "source": [
      "https://genome.ucsc.edu/cgi-bin/hgBlat?command=start\n",
      "\n",
      "All matches are very small (< 7%) compared to the query size."
     ]
    },
    {
     "cell_type": "markdown",
     "metadata": {},
     "source": [
      "```\n",
      "1)\n",
      "\n",
      "   ACTIONS      QUERY           SCORE START  END QSIZE IDENTITY CHRO STRAND  START    END      SPAN\n",
      "---------------------------------------------------------------------------------------------------\n",
      "browser details YourSeq           21   262   282   547 100.0%     4   -   11051873  11051893     21\n",
      "browser details YourSeq           21   416   436   547 100.0%     1   +   24132887  24132907     21\n",
      "\n",
      "\n",
      "2) \n",
      "\n",
      "   ACTIONS      QUERY           SCORE START  END QSIZE IDENTITY CHRO STRAND  START    END      SPAN\n",
      "---------------------------------------------------------------------------------------------------\n",
      "browser details YourSeq           26  1136  1169  1280  75.9%     2   -  120603081 120603109     29\n",
      "browser details YourSeq           23   270   293  1280 100.0%     2   -   27266445  27266476     32\n",
      "browser details YourSeq           20   415   434  1280 100.0%    20   -    9938886   9938905     20\n",
      "\n",
      "3) \n",
      "\n",
      "   ACTIONS      QUERY           SCORE START  END QSIZE IDENTITY CHRO STRAND  START    END      SPAN\n",
      "---------------------------------------------------------------------------------------------------\n",
      "browser details YourSeq           24   142   166   677 100.0%     1   -  102735789 102735825     37\n",
      "browser details YourSeq           23   642   668   677  96.2%     3   -  102342875 102342903     29\n",
      "browser details YourSeq           23   149   174   677  96.2%     2   -  106722750 106722791     42\n",
      "browser details YourSeq           21   328   348   677 100.0%     2   +   53633766  53633786     21\n",
      "browser details YourSeq           20   375   394   677 100.0%    22   -     819629    819648     20\n",
      "browser details YourSeq           20   394   413   677 100.0%     2   -   68978384  68978403     20\n",
      "browser details YourSeq           20   150   169   677 100.0%     2   -    5589621   5589640     20\n",
      "browser details YourSeq           20   575   596   677  95.5%     1   +  165085880 165085901     22\n",
      "\n",
      "4) \n",
      "\n",
      "   ACTIONS      QUERY           SCORE START  END QSIZE IDENTITY CHRO STRAND  START    END      SPAN\n",
      "---------------------------------------------------------------------------------------------------\n",
      "browser details YourSeq           22   321   344   527  95.9%    10   +   14635936  14635959     24\n",
      "browser details YourSeq           21    94   114   527 100.0%     8   -   17426718  17426738     21\n",
      "browser details YourSeq           20    12    31   527 100.0%     2   -  144504712 144504731     20\n",
      "browser details YourSeq           20    16    37   527  95.5%     4   +   51302011  51302032     22\n",
      "\n",
      "\n",
      "5) \n",
      "\n",
      "   ACTIONS      QUERY           SCORE START  END QSIZE IDENTITY CHRO STRAND  START    END      SPAN\n",
      "---------------------------------------------------------------------------------------------------\n",
      "browser details YourSeq           22    99   121   542 100.0%    11   -   18247134  18247158     25\n",
      "browser details YourSeq           21    93   113   542 100.0%     1   -   24132887  24132907     21\n",
      "browser details YourSeq           21   247   267   542 100.0%     4   +   11051873  11051893     21\n",
      "browser details YourSeq           20   513   532   542 100.0%     6   +   34444401  34444420     20\n",
      "```"
     ]
    },
    {
     "cell_type": "heading",
     "level": 2,
     "metadata": {},
     "source": [
      "ENA exonerate results"
     ]
    },
    {
     "cell_type": "markdown",
     "metadata": {},
     "source": [
      "Then I tried Jared's suggestion and use the same sequences in\n",
      "http://www.ebi.ac.uk/ena/\n",
      "\n",
      "All sequences have >99% identity to E.coli (and other organisms too). Is this some sort of contamination?"
     ]
    },
    {
     "cell_type": "heading",
     "level": 1,
     "metadata": {},
     "source": [
      "Kmer assembly stats"
     ]
    },
    {
     "cell_type": "code",
     "collapsed": false,
     "input": [
      "!python ~/khmer/sandbox/assemstats.py 100 ../outputs/msu/msu.fasta"
     ],
     "language": "python",
     "metadata": {},
     "outputs": [
      {
       "output_type": "stream",
       "stream": "stdout",
       "text": [
        "filename sum n trim_n min med mean max n50 n50_len n90 n90_len\r\n"
       ]
      },
      {
       "output_type": "stream",
       "stream": "stdout",
       "text": [
        "../outputs/msu/msu.fasta 397695267 426661 426657 126 637 932 6498 99131 1220 327577 455\r\n"
       ]
      }
     ],
     "prompt_number": 35
    }
   ],
   "metadata": {}
  }
 ]
}