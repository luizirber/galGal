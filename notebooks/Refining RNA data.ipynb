{
 "metadata": {
  "name": "",
  "signature": "sha256:826e520f2018b8a36ff8ce6bb23f962d34da6ecd5573f95260fc868733f39bc7"
 },
 "nbformat": 3,
 "nbformat_minor": 0,
 "worksheets": [
  {
   "cells": [
    {
     "cell_type": "markdown",
     "metadata": {},
     "source": [
      "## Testing ortho\n",
      "\n",
      "- First, see if Likit has putative ortholog assignments between the chick RNAseq and human proteins.  If not, the eel-pond protocol has some instructions on how to calculate this.  Might take a few days.  Then, we can recalculate the Venn diagram with a better curated set of mRNAseq transcripts, and also give people (Jerry in particular) the gene names that are in A, C, and D.\n",
      "\n",
      "  - Likit: I only have homologs of chick RNASeq and human proteins of differential-expressed genes, which total ~1000 genes as of now.\n",
      "\n",
      "  - Main goal right now: how many \"real\" mRNAseq genes, i.e. genes with orthology\n",
      "    to human, do/do not match in the genome?  Nic has done exactly this analysis\n",
      "    for fungus.\n",
      "\n",
      "- Second, let's figure out a sane-r y axis for the moleculo/90% plot.\n",
      "\n",
      "- Third, wait for Wes to convey the better assembly to us."
     ]
    },
    {
     "cell_type": "code",
     "collapsed": false,
     "input": [
      "!mkdir -p ../outputs/rna"
     ],
     "language": "python",
     "metadata": {},
     "outputs": [],
     "prompt_number": 1
    },
    {
     "cell_type": "code",
     "collapsed": false,
     "input": [
      "!mkdir -p ../{inputs,outputs}/uniprot\n",
      "!cd ../inputs/uniprot && wget -c ftp://ftp.uniprot.org/pub/databases/uniprot/current_release/knowledgebase/complete/uniprot_sprot.fasta.gz\n",
      "!cp ../inputs/uniprot/uniprot_sprot.fasta.gz ../outputs/uniprot/\n",
      "!gunzip -f ../outputs/uniprot/uniprot_sprot.fasta.gz"
     ],
     "language": "python",
     "metadata": {},
     "outputs": [
      {
       "output_type": "stream",
       "stream": "stdout",
       "text": [
        "--2014-04-15 15:29:40--  ftp://ftp.uniprot.org/pub/databases/uniprot/current_release/knowledgebase/complete/uniprot_sprot.fasta.gz\r\n",
        "           => \u201cuniprot_sprot.fasta.gz\u201d\r\n",
        "Resolving ftp.uniprot.org... 141.161.180.197\r\n",
        "Connecting to ftp.uniprot.org|141.161.180.197|:21... connected.\r\n",
        "Logging in as anonymous ... "
       ]
      },
      {
       "output_type": "stream",
       "stream": "stdout",
       "text": [
        "Logged in!\r\n",
        "==> SYST ... done.    ==> PWD ... "
       ]
      },
      {
       "output_type": "stream",
       "stream": "stdout",
       "text": [
        "done.\r\n",
        "==> TYPE I ... done.  ==> CWD (1) /pub/databases/uniprot/current_release/knowledgebase/complete ... "
       ]
      },
      {
       "output_type": "stream",
       "stream": "stdout",
       "text": [
        "done.\r\n",
        "==> SIZE uniprot_sprot.fasta.gz ... 81579509\r\n",
        "==> PASV ... "
       ]
      },
      {
       "output_type": "stream",
       "stream": "stdout",
       "text": [
        "done.    ==> REST 81579509 ... done.    \r\n",
        "==> RETR uniprot_sprot.fasta.gz ... "
       ]
      },
      {
       "output_type": "stream",
       "stream": "stdout",
       "text": [
        "done.\r\n",
        "Length: 81579509 (78M), 0 remaining (unauthoritative)\r\n",
        "\r\n",
        "\r",
        "100%[+++++++++++++++++++++++++++++++++++++++] 81,579,509  --.-K/s              \r",
        "100%[+++++++++++++++++++++++++++++++++++++++] 81,579,509  --.-K/s   in 0s      \r\n",
        "\r\n",
        "2014-04-15 15:29:40 (0.00 B/s) - \u201cuniprot_sprot.fasta.gz\u201d saved [81579509]\r\n",
        "\r\n"
       ]
      }
     ],
     "prompt_number": 5
    },
    {
     "cell_type": "code",
     "collapsed": false,
     "input": [
      "!cd ../outputs/uniprot && formatdb -i uniprot_sprot.fasta -o T -p T"
     ],
     "language": "python",
     "metadata": {},
     "outputs": [],
     "prompt_number": 29
    },
    {
     "cell_type": "code",
     "collapsed": false,
     "input": [
      "!cd ../outputs/rna/ && do-partition.py -x 1e10 -N 4 --threads 4 chick_rna only_rna.fa"
     ],
     "language": "python",
     "metadata": {},
     "outputs": [
      {
       "output_type": "stream",
       "stream": "stdout",
       "text": [
        "\r\n",
        "|| This is the script 'do-partition.py' in khmer.\r\n",
        "|| You are running khmer version 1.0-dirty\r\n",
        "|| You are also using screed version 0.7\r\n",
        "||\r\n",
        "|| If you use this script in a publication, please cite EACH of the following:\r\n",
        "||\r\n",
        "||   * MR Crusoe et al., 2014. doi: 10.6084/m9.figshare.979190\r\n",
        "||   * J Pell et al., PNAS, 2014 (PMID 22847406)\r\n",
        "||\r\n",
        "|| Please see the CITATION file for details.\r\n",
        "\r\n",
        "\r\n",
        "PARAMETERS:\r\n",
        " - kmer size =    32 \t\t(-k)\r\n",
        " - n tables =     4 \t\t(-N)\r\n",
        " - min tablesize = 1e+10 \t(-x)\r\n",
        "\r\n",
        "Estimated memory usage is 5e+09 bytes (n_tables x min_tablesize / 8)\r\n",
        "--------\r\n",
        "Saving k-mer presence table to chick_rna\r\n",
        "Loading kmers from sequences in ['only_rna.fa']\r\n",
        "--\r\n",
        "SUBSET SIZE 100000\r\n",
        "N THREADS 4\r\n",
        "--\r\n",
        "making k-mer presence table\r\n"
       ]
      },
      {
       "output_type": "stream",
       "stream": "stdout",
       "text": [
        "consuming input only_rna.fa\r\n"
       ]
      },
      {
       "output_type": "stream",
       "stream": "stdout",
       "text": [
        "fp rate estimated to be 0.000\r\n",
        "** Traverse all the things: stop_big_traversals is false.\r\n"
       ]
      },
      {
       "output_type": "stream",
       "stream": "stdout",
       "text": [
        "enqueued 5 subset tasks\r\n",
        "starting 5 threads\r\n",
        "---\r\n",
        "starting: chick_rna 0\r\n",
        "starting: chick_rna 1\r\n",
        "starting: chick_rna 2\r\n",
        "starting: chick_rna 3\r\n",
        "done starting threads\r\n",
        "starting: chick_rna 4\r\n"
       ]
      },
      {
       "output_type": "stream",
       "stream": "stdout",
       "text": [
        "saving: chick_rna 4\r\n"
       ]
      },
      {
       "output_type": "stream",
       "stream": "stdout",
       "text": [
        "exiting\r\n"
       ]
      },
      {
       "output_type": "stream",
       "stream": "stdout",
       "text": [
        "...subset-part 0-2158756723823735773: 100000 <- 61912\r\n",
        "saving: chick_rna 0\r\n"
       ]
      },
      {
       "output_type": "stream",
       "stream": "stdout",
       "text": [
        "exiting\r\n"
       ]
      },
      {
       "output_type": "stream",
       "stream": "stdout",
       "text": [
        "...subset-part 4689650774654918483-8188399981275226890: 100000 <- 64474\r\n",
        "saving: chick_rna 2\r\n"
       ]
      },
      {
       "output_type": "stream",
       "stream": "stdout",
       "text": [
        "exiting\r\n"
       ]
      },
      {
       "output_type": "stream",
       "stream": "stdout",
       "text": [
        "...subset-part 2158756723823735773-4689650774654918483: 100000 <- 64124\r\n",
        "saving: chick_rna 1\r\n"
       ]
      },
      {
       "output_type": "stream",
       "stream": "stdout",
       "text": [
        "exiting\r\n"
       ]
      },
      {
       "output_type": "stream",
       "stream": "stdout",
       "text": [
        "...subset-part 8188399981275226890-11857480345320340719: 100000 <- 61415\r\n",
        "saving: chick_rna 3\r\n"
       ]
      },
      {
       "output_type": "stream",
       "stream": "stdout",
       "text": [
        "exiting\r\n",
        "---\r\n",
        "done making subsets! see chick_rna.subset.*.pmap\r\n",
        "loading 5 pmap files (first one: chick_rna.subset.0.pmap)\r\n"
       ]
      },
      {
       "output_type": "stream",
       "stream": "stdout",
       "text": [
        "merging chick_rna.subset.0.pmap\r\n"
       ]
      },
      {
       "output_type": "stream",
       "stream": "stdout",
       "text": [
        "merging chick_rna.subset.2.pmap\r\n"
       ]
      },
      {
       "output_type": "stream",
       "stream": "stdout",
       "text": [
        "merging chick_rna.subset.1.pmap\r\n"
       ]
      },
      {
       "output_type": "stream",
       "stream": "stdout",
       "text": [
        "merging chick_rna.subset.4.pmap\r\n"
       ]
      },
      {
       "output_type": "stream",
       "stream": "stdout",
       "text": [
        "merging chick_rna.subset.3.pmap\r\n"
       ]
      },
      {
       "output_type": "stream",
       "stream": "stdout",
       "text": [
        "removing pmap files\r\n"
       ]
      },
      {
       "output_type": "stream",
       "stream": "stdout",
       "text": [
        "outputting partitions for only_rna.fa\r\n"
       ]
      },
      {
       "output_type": "stream",
       "stream": "stdout",
       "text": [
        "... output_partitions 100000 0\r\n"
       ]
      },
      {
       "output_type": "stream",
       "stream": "stdout",
       "text": [
        "output 58617 partitions for only_rna.fa\r\n",
        "partitions are in only_rna.fa.part\r\n"
       ]
      }
     ],
     "prompt_number": 13
    },
    {
     "cell_type": "code",
     "collapsed": false,
     "input": [
      "!cd ../outputs/rna && python ../../scripts/rename-with-partitions.py chick_rna only_rna.fa"
     ],
     "language": "python",
     "metadata": {},
     "outputs": [
      {
       "output_type": "stream",
       "stream": "stdout",
       "text": [
        "... 0\r\n"
       ]
      },
      {
       "output_type": "stream",
       "stream": "stdout",
       "text": [
        "... 10000\r\n"
       ]
      },
      {
       "output_type": "stream",
       "stream": "stdout",
       "text": [
        "... 20000\r\n"
       ]
      },
      {
       "output_type": "stream",
       "stream": "stdout",
       "text": [
        "... 30000\r\n"
       ]
      },
      {
       "output_type": "stream",
       "stream": "stdout",
       "text": [
        "... 40000\r\n"
       ]
      },
      {
       "output_type": "stream",
       "stream": "stdout",
       "text": [
        "... 50000\r\n"
       ]
      },
      {
       "output_type": "stream",
       "stream": "stdout",
       "text": [
        "... 60000\r\n"
       ]
      },
      {
       "output_type": "stream",
       "stream": "stdout",
       "text": [
        "... 70000\r\n"
       ]
      },
      {
       "output_type": "stream",
       "stream": "stdout",
       "text": [
        "... 80000\r\n"
       ]
      },
      {
       "output_type": "stream",
       "stream": "stdout",
       "text": [
        "... 90000\r\n"
       ]
      },
      {
       "output_type": "stream",
       "stream": "stdout",
       "text": [
        "... 100000\r\n"
       ]
      },
      {
       "output_type": "stream",
       "stream": "stdout",
       "text": [
        "... 110000\r\n"
       ]
      },
      {
       "output_type": "stream",
       "stream": "stdout",
       "text": [
        "... 120000\r\n"
       ]
      },
      {
       "output_type": "stream",
       "stream": "stdout",
       "text": [
        "---------------\r\n",
        "partition, size\r\n"
       ]
      },
      {
       "output_type": "stream",
       "stream": "stdout",
       "text": [
        "0 1\r\n",
        "1 1\r\n",
        "2 1\r\n",
        "3 1\r\n",
        "4 1\r\n",
        "5 1\r\n",
        "6 1\r\n",
        "7 1\r\n",
        "8 1\r\n",
        "9 1\r\n",
        "10 1\r\n",
        "---------------\r\n",
        "creating only_rna.fa.renamed.fasta.gz\r\n",
        "...writing 0\r\n"
       ]
      },
      {
       "output_type": "stream",
       "stream": "stdout",
       "text": [
        "...writing 10000\r\n"
       ]
      },
      {
       "output_type": "stream",
       "stream": "stdout",
       "text": [
        "...writing 20000\r\n"
       ]
      },
      {
       "output_type": "stream",
       "stream": "stdout",
       "text": [
        "...writing 30000\r\n"
       ]
      },
      {
       "output_type": "stream",
       "stream": "stdout",
       "text": [
        "...writing 40000\r\n"
       ]
      },
      {
       "output_type": "stream",
       "stream": "stdout",
       "text": [
        "...writing 50000\r\n"
       ]
      },
      {
       "output_type": "stream",
       "stream": "stdout",
       "text": [
        "...writing 60000\r\n"
       ]
      },
      {
       "output_type": "stream",
       "stream": "stdout",
       "text": [
        "...writing 70000\r\n"
       ]
      },
      {
       "output_type": "stream",
       "stream": "stdout",
       "text": [
        "...writing 80000\r\n"
       ]
      },
      {
       "output_type": "stream",
       "stream": "stdout",
       "text": [
        "...writing 90000\r\n"
       ]
      },
      {
       "output_type": "stream",
       "stream": "stdout",
       "text": [
        "...writing 100000\r\n"
       ]
      },
      {
       "output_type": "stream",
       "stream": "stdout",
       "text": [
        "...writing 110000\r\n"
       ]
      },
      {
       "output_type": "stream",
       "stream": "stdout",
       "text": [
        "...writing 120000\r\n"
       ]
      },
      {
       "output_type": "stream",
       "stream": "stdout",
       "text": [
        "total sequences: 121301\r\n",
        "total transcript families: 121301\r\n"
       ]
      }
     ],
     "prompt_number": 25
    },
    {
     "cell_type": "code",
     "collapsed": false,
     "input": [
      "!cd ../outputs/rna && gunzip -f only_rna.fa.renamed.fasta.gz"
     ],
     "language": "python",
     "metadata": {},
     "outputs": [],
     "prompt_number": 27
    },
    {
     "cell_type": "code",
     "collapsed": false,
     "input": [
      "!cd ../outputs/rna && formatdb -i only_rna.fa.renamed.fasta -o T -p F"
     ],
     "language": "python",
     "metadata": {},
     "outputs": [],
     "prompt_number": 30
    },
    {
     "cell_type": "code",
     "collapsed": false,
     "input": [
      "#!cd ../scripts && ./submit_blast_uniprot_chick.pbs\n",
      "#!cd ../scripts && ./submit_blast_chick_uniprot.pbs"
     ],
     "language": "python",
     "metadata": {},
     "outputs": [
      {
       "output_type": "stream",
       "stream": "stdout",
       "text": [
        "17569056.mgr-04.i\r\n"
       ]
      },
      {
       "output_type": "stream",
       "stream": "stdout",
       "text": [
        "17569057.mgr-04.i\r\n"
       ]
      }
     ],
     "prompt_number": 34
    },
    {
     "cell_type": "code",
     "collapsed": false,
     "input": [
      "#!cp ../workdir/results/uniprot.x.chick ../outputs/rna/uniprot.x.chick\n",
      "#!cp ../workdir/results/chick.x.uniprot ../outputs/rna/chick.x.uniprot"
     ],
     "language": "python",
     "metadata": {},
     "outputs": [],
     "prompt_number": 75
    },
    {
     "cell_type": "markdown",
     "metadata": {},
     "source": [
      "## TODO: rerun from here when jobs finish"
     ]
    },
    {
     "cell_type": "code",
     "collapsed": false,
     "input": [
      "!cd ../outputs/rna && python ../../scripts/make-uni-best-hits.py chick.x.uniprot chick.x.uniprot.homol"
     ],
     "language": "python",
     "metadata": {},
     "outputs": [
      {
       "output_type": "stream",
       "stream": "stdout",
       "text": [
        "collecting best hits\r\n",
        "... 0\r\n"
       ]
      },
      {
       "output_type": "stream",
       "stream": "stdout",
       "text": [
        "... 10000\r\n"
       ]
      },
      {
       "output_type": "stream",
       "stream": "stdout",
       "text": [
        "... 20000\r\n"
       ]
      },
      {
       "output_type": "stream",
       "stream": "stdout",
       "text": [
        "... 30000\r\n"
       ]
      }
     ],
     "prompt_number": 76
    },
    {
     "cell_type": "code",
     "collapsed": false,
     "input": [
      "!cd ../outputs/rna && python ../../scripts/make-reciprocal-best-hits.py chick.x.uniprot uniprot.x.chick chick.x.uniprot.ortho"
     ],
     "language": "python",
     "metadata": {},
     "outputs": [
      {
       "output_type": "stream",
       "stream": "stdout",
       "text": [
        "collecting best hits from: chick.x.uniprot\r\n",
        "... chick.x.uniprot 0\r\n"
       ]
      },
      {
       "output_type": "stream",
       "stream": "stdout",
       "text": [
        "... chick.x.uniprot 25000\r\n"
       ]
      },
      {
       "output_type": "stream",
       "stream": "stdout",
       "text": [
        "collecting best hits from: uniprot.x.chick\r\n",
        "... uniprot.x.chick 0\r\n"
       ]
      },
      {
       "output_type": "stream",
       "stream": "stdout",
       "text": [
        "... uniprot.x.chick 25000\r\n"
       ]
      },
      {
       "output_type": "stream",
       "stream": "stdout",
       "text": [
        "... uniprot.x.chick 50000\r\n"
       ]
      },
      {
       "output_type": "stream",
       "stream": "stdout",
       "text": [
        "... uniprot.x.chick 75000\r\n"
       ]
      },
      {
       "output_type": "stream",
       "stream": "stdout",
       "text": [
        "... uniprot.x.chick 100000\r\n"
       ]
      },
      {
       "output_type": "stream",
       "stream": "stdout",
       "text": [
        "... uniprot.x.chick 125000\r\n"
       ]
      },
      {
       "output_type": "stream",
       "stream": "stdout",
       "text": [
        "... uniprot.x.chick 150000\r\n"
       ]
      },
      {
       "output_type": "stream",
       "stream": "stdout",
       "text": [
        "... uniprot.x.chick 175000\r\n"
       ]
      },
      {
       "output_type": "stream",
       "stream": "stdout",
       "text": [
        "... uniprot.x.chick 200000\r\n"
       ]
      },
      {
       "output_type": "stream",
       "stream": "stdout",
       "text": [
        "... uniprot.x.chick 225000\r\n"
       ]
      },
      {
       "output_type": "stream",
       "stream": "stdout",
       "text": [
        "... uniprot.x.chick 250000\r\n"
       ]
      },
      {
       "output_type": "stream",
       "stream": "stdout",
       "text": [
        "... uniprot.x.chick 275000\r\n"
       ]
      },
      {
       "output_type": "stream",
       "stream": "stdout",
       "text": [
        "... uniprot.x.chick 300000\r\n"
       ]
      },
      {
       "output_type": "stream",
       "stream": "stdout",
       "text": [
        "... uniprot.x.chick 325000\r\n"
       ]
      },
      {
       "output_type": "stream",
       "stream": "stdout",
       "text": [
        "saving best hits result to chick.x.uniprot.ortho.cache\r\n"
       ]
      },
      {
       "output_type": "stream",
       "stream": "stdout",
       "text": [
        "calculating reciprocal best hits\r\n"
       ]
      },
      {
       "output_type": "stream",
       "stream": "stdout",
       "text": [
        "saving reciprocal best hits to chick.x.uniprot.ortho\r\n"
       ]
      }
     ],
     "prompt_number": 77
    },
    {
     "cell_type": "code",
     "collapsed": false,
     "input": [
      "!cd ../outputs/uniprot && python ../../scripts/make-namedb.py uniprot_sprot.fasta uniprot.namedb"
     ],
     "language": "python",
     "metadata": {},
     "outputs": [],
     "prompt_number": 78
    },
    {
     "cell_type": "code",
     "collapsed": false,
     "input": [
      "!cd ../outputs/uniprot && python -m screed.fadbm uniprot_sprot.fasta"
     ],
     "language": "python",
     "metadata": {},
     "outputs": [
      {
       "output_type": "stream",
       "stream": "stdout",
       "text": [
        "Database saved in uniprot_sprot.fasta_screed\r\n"
       ]
      }
     ],
     "prompt_number": 79
    },
    {
     "cell_type": "code",
     "collapsed": false,
     "input": [
      "!cd ../outputs/rna && python ../../scripts/annotate-seqs.py only_rna.fa.renamed.fasta chick.x.uniprot.ortho chick.x.uniprot.homol"
     ],
     "language": "python",
     "metadata": {},
     "outputs": [
      {
       "output_type": "stream",
       "stream": "stdout",
       "text": [
        "Scanning sequences -- first pass to gather info\r\n"
       ]
      },
      {
       "output_type": "stream",
       "stream": "stdout",
       "text": [
        "... 0\r\n"
       ]
      },
      {
       "output_type": "stream",
       "stream": "stdout",
       "text": [
        "... 25000\r\n"
       ]
      },
      {
       "output_type": "stream",
       "stream": "stdout",
       "text": [
        "... 50000\r\n"
       ]
      },
      {
       "output_type": "stream",
       "stream": "stdout",
       "text": [
        "... 75000\r\n"
       ]
      },
      {
       "output_type": "stream",
       "stream": "stdout",
       "text": [
        "... 100000\r\n"
       ]
      },
      {
       "output_type": "stream",
       "stream": "stdout",
       "text": [
        "second pass: annotating\r\n",
        "... x2 0\r\n"
       ]
      },
      {
       "output_type": "stream",
       "stream": "stdout",
       "text": [
        "... x2 25000\r\n"
       ]
      },
      {
       "output_type": "stream",
       "stream": "stdout",
       "text": [
        "... x2 50000\r\n"
       ]
      },
      {
       "output_type": "stream",
       "stream": "stdout",
       "text": [
        "... x2 75000\r\n"
       ]
      },
      {
       "output_type": "stream",
       "stream": "stdout",
       "text": [
        "... x2 100000\r\n"
       ]
      },
      {
       "output_type": "stream",
       "stream": "stdout",
       "text": [
        "----\r\n",
        "121300 sequences total\r\n",
        "8886 annotated / ortho\r\n",
        "29207 annotated / homol\r\n",
        "0 annotated / tr\r\n",
        "38093 total annotated\r\n",
        "\r\n",
        "annotated sequences in FASTA format: only_rna.fa.renamed.fasta.annot\r\n",
        "annotation spreadsheet in: only_rna.fa.renamed.fasta.annot.csv\r\n",
        "annotation spreadsheet with sequences (warning: LARGE): only_rna.fa.renamed.fasta.annot.large.csv\r\n"
       ]
      }
     ],
     "prompt_number": 80
    },
    {
     "cell_type": "code",
     "collapsed": false,
     "input": [],
     "language": "python",
     "metadata": {},
     "outputs": [],
     "prompt_number": 80
    }
   ],
   "metadata": {}
  }
 ]
}