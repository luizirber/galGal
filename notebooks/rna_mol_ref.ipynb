{
 "metadata": {
  "name": ""
 },
 "nbformat": 3,
 "nbformat_minor": 0,
 "worksheets": [
  {
   "cells": [
    {
     "cell_type": "code",
     "collapsed": false,
     "input": [
      "%matplotlib inline\n",
      "from matplotlib import pyplot as plt"
     ],
     "language": "python",
     "metadata": {},
     "outputs": [],
     "prompt_number": 1
    },
    {
     "cell_type": "code",
     "collapsed": false,
     "input": [
      "#!scp hpcc:/mnt/scratch/irberlui/biodata/galGal/scripts/minlen200.h5 ../outputs\n",
      "#!scp hpcc:/mnt/scratch/irberlui/biodata/galGal/inputs/chicken_transcripts/global_merged.fa.clean.nr_screed ../inputs/chicken_transcripts/\n",
      "#!scp hpcc:/mnt/scratch/irberlui/biodata/galGal/inputs/galGal4/galGal4.fa.masked_screed ../inputs/galGal4/\n",
      "#!scp hpcc:/mnt/scratch/irberlui/biodata/galGal/outputs/moleculo/unmapped_reads ../outputs/moleculo/\n",
      "#!scp hpcc:/mnt/scratch/irberlui/biodata/galGal/outputs/moleculo/only_mol_ref ../outputs/moleculo/"
     ],
     "language": "python",
     "metadata": {},
     "outputs": [
      {
       "output_type": "stream",
       "stream": "stdout",
       "text": [
        "/mnt/home/irberlui/.bashrc: line 18: virtualenvwrapper.sh: No such file or directory\r\n"
       ]
      },
      {
       "output_type": "stream",
       "stream": "stdout",
       "text": [
        "\r",
        "only_mol_ref                                    0%    0     0.0KB/s   --:-- ETA"
       ]
      },
      {
       "output_type": "stream",
       "stream": "stdout",
       "text": [
        "\r",
        "only_mol_ref                                    4% 8464KB   8.3MB/s   00:20 ETA"
       ]
      },
      {
       "output_type": "stream",
       "stream": "stdout",
       "text": [
        "\r",
        "only_mol_ref                                   11%   19MB   8.6MB/s   00:18 ETA"
       ]
      },
      {
       "output_type": "stream",
       "stream": "stdout",
       "text": [
        "\r",
        "only_mol_ref                                   17%   30MB   8.8MB/s   00:16 ETA"
       ]
      },
      {
       "output_type": "stream",
       "stream": "stdout",
       "text": [
        "\r",
        "only_mol_ref                                   23%   41MB   9.0MB/s   00:14 ETA"
       ]
      },
      {
       "output_type": "stream",
       "stream": "stdout",
       "text": [
        "\r",
        "only_mol_ref                                   29%   53MB   9.2MB/s   00:13 ETA"
       ]
      },
      {
       "output_type": "stream",
       "stream": "stdout",
       "text": [
        "\r",
        "only_mol_ref                                   36%   64MB   9.4MB/s   00:11 ETA"
       ]
      },
      {
       "output_type": "stream",
       "stream": "stdout",
       "text": [
        "\r",
        "only_mol_ref                                   42%   75MB   9.6MB/s   00:10 ETA"
       ]
      },
      {
       "output_type": "stream",
       "stream": "stdout",
       "text": [
        "\r",
        "only_mol_ref                                   49%   86MB   9.8MB/s   00:09 ETA"
       ]
      },
      {
       "output_type": "stream",
       "stream": "stdout",
       "text": [
        "\r",
        "only_mol_ref                                   55%   97MB   9.9MB/s   00:07 ETA"
       ]
      },
      {
       "output_type": "stream",
       "stream": "stdout",
       "text": [
        "\r",
        "only_mol_ref                                   61%  109MB  10.0MB/s   00:06 ETA"
       ]
      },
      {
       "output_type": "stream",
       "stream": "stdout",
       "text": [
        "\r",
        "only_mol_ref                                   68%  120MB  10.2MB/s   00:05 ETA"
       ]
      },
      {
       "output_type": "stream",
       "stream": "stdout",
       "text": [
        "\r",
        "only_mol_ref                                   74%  131MB  10.3MB/s   00:04 ETA"
       ]
      },
      {
       "output_type": "stream",
       "stream": "stdout",
       "text": [
        "\r",
        "only_mol_ref                                   80%  142MB  10.3MB/s   00:03 ETA"
       ]
      },
      {
       "output_type": "stream",
       "stream": "stdout",
       "text": [
        "\r",
        "only_mol_ref                                   87%  153MB  10.4MB/s   00:02 ETA"
       ]
      },
      {
       "output_type": "stream",
       "stream": "stdout",
       "text": [
        "\r",
        "only_mol_ref                                   93%  164MB  10.5MB/s   00:01 ETA"
       ]
      },
      {
       "output_type": "stream",
       "stream": "stdout",
       "text": [
        "\r",
        "only_mol_ref                                  100%  175MB  11.0MB/s   00:16    \r\n"
       ]
      }
     ],
     "prompt_number": 84
    },
    {
     "cell_type": "code",
     "collapsed": false,
     "input": [
      "import pandas as pd\n",
      "import tables\n",
      "import screed\n",
      "import numpy as np\n",
      "import seaborn\n",
      "from matplotlib_venn import venn3, venn3_circles"
     ],
     "language": "python",
     "metadata": {},
     "outputs": [],
     "prompt_number": 3
    },
    {
     "cell_type": "code",
     "collapsed": false,
     "input": [
      "with pd.get_store('../outputs/minlen200.h5', mode='r') as store:\n",
      "    print(store)"
     ],
     "language": "python",
     "metadata": {},
     "outputs": [
      {
       "output_type": "stream",
       "stream": "stdout",
       "text": [
        "<class 'pandas.io.pytables.HDFStore'>\n",
        "File path: ../outputs/minlen200.h5\n",
        "/1_LongRead                       frame        (shape->[1924965,13])\n",
        "/1_LongRead_500_1499nt            frame        (shape->[219885,13]) \n",
        "/2_LongRead                       frame        (shape->[1941357,13])\n",
        "/2_LongRead_500_1499nt            frame        (shape->[209420,13]) \n",
        "/3_LongRead                       frame        (shape->[1922250,13])\n",
        "/3_LongRead_500_1499nt            frame        (shape->[220515,13]) \n",
        "/4_LongRead                       frame        (shape->[1951840,13])\n",
        "/4_LongRead_500_1499nt            frame        (shape->[215055,13]) \n",
        "/5_LongRead                       frame        (shape->[1853730,13])\n",
        "/5_LongRead_500_1499nt            frame        (shape->[226370,13]) \n",
        "/reference                        frame        (shape->[726744,13]) \n"
       ]
      }
     ],
     "prompt_number": 4
    },
    {
     "cell_type": "markdown",
     "metadata": {},
     "source": [
      "## Making sense of the calculations, before starting!"
     ]
    },
    {
     "cell_type": "code",
     "collapsed": false,
     "input": [
      "v = venn3((1,1,1,1,1,1,1), set_labels=('Ref', 'Moleculo', 'RNA'))\n",
      "v.get_label_by_id('100').set_text('Only in ref')\n",
      "v.get_label_by_id('010').set_text('Only in mol')\n",
      "v.get_label_by_id('001').set_text('Only in RNA')\n",
      "\n",
      "v.get_label_by_id('011').set_text('*')\n",
      "v.get_label_by_id('101').set_text('A')\n",
      "v.get_label_by_id('110').set_text('B')\n",
      "\n",
      "v.get_label_by_id('111').set_text('C')"
     ],
     "language": "python",
     "metadata": {},
     "outputs": [
      {
       "metadata": {},
       "output_type": "display_data",
       "png": "[encoded data removed]",
       "text": [
        "<matplotlib.figure.Figure at 0x10ea8de10>"
       ]
      }
     ],
     "prompt_number": 5
    },
    {
     "cell_type": "markdown",
     "metadata": {},
     "source": [
      "Blat ref/rna $= A + C$ \n",
      "\n",
      "Blat mol/rna $= C + *$\n",
      "\n",
      "BWA mem ref/moleculo $= B + C$ \n",
      "\n",
      "$C = (A + C) \\cap (C + *)$\n",
      "\n",
      "$* = $ Blat mol/rna $ - C$\n",
      "\n",
      "$A = $ Blat ref/rna $-C$"
     ]
    },
    {
     "cell_type": "markdown",
     "metadata": {},
     "source": [
      "## Load all alignments for ref_rna"
     ]
    },
    {
     "cell_type": "code",
     "collapsed": false,
     "input": [
      "ref_rna = pd.read_hdf(\"../outputs/minlen200.h5\", \"/reference\", mode='r')\n",
      "ref_rna.head()"
     ],
     "language": "python",
     "metadata": {},
     "outputs": [
      {
       "html": [
        "<div style=\"max-height:1000px;max-width:1500px;overflow:auto;\">\n",
        "<table border=\"1\" class=\"dataframe\">\n",
        "  <thead>\n",
        "    <tr style=\"text-align: right;\">\n",
        "      <th></th>\n",
        "      <th>Query id</th>\n",
        "      <th>Subject id</th>\n",
        "      <th>% identity</th>\n",
        "      <th>alignment length</th>\n",
        "      <th>mismatches</th>\n",
        "      <th>gap openings</th>\n",
        "      <th>q. start</th>\n",
        "      <th>q. end</th>\n",
        "      <th>s. start</th>\n",
        "      <th>s. end</th>\n",
        "      <th>e-value</th>\n",
        "      <th>bit score</th>\n",
        "      <th>source</th>\n",
        "    </tr>\n",
        "  </thead>\n",
        "  <tbody>\n",
        "    <tr>\n",
        "      <th>0</th>\n",
        "      <td> global_global_21-4</td>\n",
        "      <td> chr1</td>\n",
        "      <td> 84.82</td>\n",
        "      <td> 955</td>\n",
        "      <td> 145</td>\n",
        "      <td> 0</td>\n",
        "      <td>  531</td>\n",
        "      <td> 1485</td>\n",
        "      <td> 131864020</td>\n",
        "      <td> 131863066</td>\n",
        "      <td>  0.000000e+00</td>\n",
        "      <td> 1564</td>\n",
        "      <td> reference</td>\n",
        "    </tr>\n",
        "    <tr>\n",
        "      <th>1</th>\n",
        "      <td> global_global_21-4</td>\n",
        "      <td> chr1</td>\n",
        "      <td> 89.66</td>\n",
        "      <td> 822</td>\n",
        "      <td>  84</td>\n",
        "      <td> 1</td>\n",
        "      <td> 1533</td>\n",
        "      <td> 2354</td>\n",
        "      <td> 131863021</td>\n",
        "      <td> 131862201</td>\n",
        "      <td>  0.000000e+00</td>\n",
        "      <td> 1412</td>\n",
        "      <td> reference</td>\n",
        "    </tr>\n",
        "    <tr>\n",
        "      <th>2</th>\n",
        "      <td> global_global_21-4</td>\n",
        "      <td> chr1</td>\n",
        "      <td> 93.20</td>\n",
        "      <td> 309</td>\n",
        "      <td>  21</td>\n",
        "      <td> 0</td>\n",
        "      <td>   21</td>\n",
        "      <td>  329</td>\n",
        "      <td> 131864503</td>\n",
        "      <td> 131864195</td>\n",
        "      <td> 1.700000e-158</td>\n",
        "      <td>  556</td>\n",
        "      <td> reference</td>\n",
        "    </tr>\n",
        "    <tr>\n",
        "      <th>6</th>\n",
        "      <td> global_global_21-5</td>\n",
        "      <td> chr1</td>\n",
        "      <td> 84.82</td>\n",
        "      <td> 955</td>\n",
        "      <td> 145</td>\n",
        "      <td> 0</td>\n",
        "      <td> 1813</td>\n",
        "      <td> 2767</td>\n",
        "      <td> 131864020</td>\n",
        "      <td> 131863066</td>\n",
        "      <td>  0.000000e+00</td>\n",
        "      <td> 1564</td>\n",
        "      <td> reference</td>\n",
        "    </tr>\n",
        "    <tr>\n",
        "      <th>7</th>\n",
        "      <td> global_global_21-5</td>\n",
        "      <td> chr1</td>\n",
        "      <td> 89.66</td>\n",
        "      <td> 822</td>\n",
        "      <td>  84</td>\n",
        "      <td> 1</td>\n",
        "      <td> 2815</td>\n",
        "      <td> 3636</td>\n",
        "      <td> 131863021</td>\n",
        "      <td> 131862201</td>\n",
        "      <td>  0.000000e+00</td>\n",
        "      <td> 1412</td>\n",
        "      <td> reference</td>\n",
        "    </tr>\n",
        "  </tbody>\n",
        "</table>\n",
        "<p>5 rows \u00d7 13 columns</p>\n",
        "</div>"
       ],
       "metadata": {},
       "output_type": "pyout",
       "prompt_number": 6,
       "text": [
        "             Query id Subject id  % identity  alignment length  mismatches  \\\n",
        "0  global_global_21-4       chr1       84.82               955         145   \n",
        "1  global_global_21-4       chr1       89.66               822          84   \n",
        "2  global_global_21-4       chr1       93.20               309          21   \n",
        "6  global_global_21-5       chr1       84.82               955         145   \n",
        "7  global_global_21-5       chr1       89.66               822          84   \n",
        "\n",
        "   gap openings  q. start  q. end   s. start     s. end        e-value  \\\n",
        "0             0       531    1485  131864020  131863066   0.000000e+00   \n",
        "1             1      1533    2354  131863021  131862201   0.000000e+00   \n",
        "2             0        21     329  131864503  131864195  1.700000e-158   \n",
        "6             0      1813    2767  131864020  131863066   0.000000e+00   \n",
        "7             1      2815    3636  131863021  131862201   0.000000e+00   \n",
        "\n",
        "   bit score     source  \n",
        "0       1564  reference  \n",
        "1       1412  reference  \n",
        "2        556  reference  \n",
        "6       1564  reference  \n",
        "7       1412  reference  \n",
        "\n",
        "[5 rows x 13 columns]"
       ]
      }
     ],
     "prompt_number": 6
    },
    {
     "cell_type": "markdown",
     "metadata": {},
     "source": [
      "## Select only alignments with % identity > 90"
     ]
    },
    {
     "cell_type": "code",
     "collapsed": false,
     "input": [
      "ref_rna_90 = ref_rna[ref_rna['% identity'] > 90]\n",
      "ref_rna_90.head()"
     ],
     "language": "python",
     "metadata": {},
     "outputs": [
      {
       "html": [
        "<div style=\"max-height:1000px;max-width:1500px;overflow:auto;\">\n",
        "<table border=\"1\" class=\"dataframe\">\n",
        "  <thead>\n",
        "    <tr style=\"text-align: right;\">\n",
        "      <th></th>\n",
        "      <th>Query id</th>\n",
        "      <th>Subject id</th>\n",
        "      <th>% identity</th>\n",
        "      <th>alignment length</th>\n",
        "      <th>mismatches</th>\n",
        "      <th>gap openings</th>\n",
        "      <th>q. start</th>\n",
        "      <th>q. end</th>\n",
        "      <th>s. start</th>\n",
        "      <th>s. end</th>\n",
        "      <th>e-value</th>\n",
        "      <th>bit score</th>\n",
        "      <th>source</th>\n",
        "    </tr>\n",
        "  </thead>\n",
        "  <tbody>\n",
        "    <tr>\n",
        "      <th>2 </th>\n",
        "      <td>  global_global_21-4</td>\n",
        "      <td> chr1</td>\n",
        "      <td> 93.20</td>\n",
        "      <td> 309</td>\n",
        "      <td> 21</td>\n",
        "      <td> 0</td>\n",
        "      <td>  21</td>\n",
        "      <td> 329</td>\n",
        "      <td> 131864503</td>\n",
        "      <td> 131864195</td>\n",
        "      <td> 1.700000e-158</td>\n",
        "      <td>  556</td>\n",
        "      <td> reference</td>\n",
        "    </tr>\n",
        "    <tr>\n",
        "      <th>22</th>\n",
        "      <td>  global_global_21-6</td>\n",
        "      <td> chr1</td>\n",
        "      <td> 91.10</td>\n",
        "      <td> 607</td>\n",
        "      <td> 54</td>\n",
        "      <td> 0</td>\n",
        "      <td>  83</td>\n",
        "      <td> 689</td>\n",
        "      <td> 131862807</td>\n",
        "      <td> 131862201</td>\n",
        "      <td> 3.100000e-313</td>\n",
        "      <td> 1070</td>\n",
        "      <td> reference</td>\n",
        "    </tr>\n",
        "    <tr>\n",
        "      <th>54</th>\n",
        "      <td> global_global_21-11</td>\n",
        "      <td> chr3</td>\n",
        "      <td> 96.44</td>\n",
        "      <td> 674</td>\n",
        "      <td> 24</td>\n",
        "      <td> 0</td>\n",
        "      <td>   1</td>\n",
        "      <td> 674</td>\n",
        "      <td> 104835724</td>\n",
        "      <td> 104836397</td>\n",
        "      <td>  0.000000e+00</td>\n",
        "      <td> 1287</td>\n",
        "      <td> reference</td>\n",
        "    </tr>\n",
        "    <tr>\n",
        "      <th>55</th>\n",
        "      <td> global_global_21-11</td>\n",
        "      <td> chr3</td>\n",
        "      <td> 91.08</td>\n",
        "      <td> 213</td>\n",
        "      <td> 19</td>\n",
        "      <td> 0</td>\n",
        "      <td> 785</td>\n",
        "      <td> 997</td>\n",
        "      <td> 104836840</td>\n",
        "      <td> 104837052</td>\n",
        "      <td> 1.100000e-106</td>\n",
        "      <td>  383</td>\n",
        "      <td> reference</td>\n",
        "    </tr>\n",
        "    <tr>\n",
        "      <th>76</th>\n",
        "      <td> global_global_21-27</td>\n",
        "      <td> chr4</td>\n",
        "      <td> 92.64</td>\n",
        "      <td> 258</td>\n",
        "      <td> 19</td>\n",
        "      <td> 0</td>\n",
        "      <td>   1</td>\n",
        "      <td> 258</td>\n",
        "      <td>  42635181</td>\n",
        "      <td>  42635438</td>\n",
        "      <td> 3.900000e-131</td>\n",
        "      <td>  465</td>\n",
        "      <td> reference</td>\n",
        "    </tr>\n",
        "  </tbody>\n",
        "</table>\n",
        "<p>5 rows \u00d7 13 columns</p>\n",
        "</div>"
       ],
       "metadata": {},
       "output_type": "pyout",
       "prompt_number": 7,
       "text": [
        "               Query id Subject id  % identity  alignment length  mismatches  \\\n",
        "2    global_global_21-4       chr1       93.20               309          21   \n",
        "22   global_global_21-6       chr1       91.10               607          54   \n",
        "54  global_global_21-11       chr3       96.44               674          24   \n",
        "55  global_global_21-11       chr3       91.08               213          19   \n",
        "76  global_global_21-27       chr4       92.64               258          19   \n",
        "\n",
        "    gap openings  q. start  q. end   s. start     s. end        e-value  \\\n",
        "2              0        21     329  131864503  131864195  1.700000e-158   \n",
        "22             0        83     689  131862807  131862201  3.100000e-313   \n",
        "54             0         1     674  104835724  104836397   0.000000e+00   \n",
        "55             0       785     997  104836840  104837052  1.100000e-106   \n",
        "76             0         1     258   42635181   42635438  3.900000e-131   \n",
        "\n",
        "    bit score     source  \n",
        "2         556  reference  \n",
        "22       1070  reference  \n",
        "54       1287  reference  \n",
        "55        383  reference  \n",
        "76        465  reference  \n",
        "\n",
        "[5 rows x 13 columns]"
       ]
      }
     ],
     "prompt_number": 7
    },
    {
     "cell_type": "markdown",
     "metadata": {},
     "source": [
      "## DANGER!\n",
      "\n",
      "Compare Out[6] and Out[7]. Alignments 0 and 1 were dropped, despite being way longer than alignment 2. Probably using % identity > 90 is not the best way. Select biggest score?"
     ]
    },
    {
     "cell_type": "markdown",
     "metadata": {},
     "source": [
      "## Load chick mRNA data from Likit"
     ]
    },
    {
     "cell_type": "code",
     "collapsed": false,
     "input": [
      "chick_rna = screed.ScreedDB('../inputs/chicken_transcripts/global_merged.fa.clean.nr_screed')\n",
      "rna = {chick_rna[seq]['name'] for seq in chick_rna}"
     ],
     "language": "python",
     "metadata": {},
     "outputs": [],
     "prompt_number": 8
    },
    {
     "cell_type": "markdown",
     "metadata": {},
     "source": [
      "## Load mRNA data to a DataFrame"
     ]
    },
    {
     "cell_type": "code",
     "collapsed": false,
     "input": [
      "chick_rna_df = pd.DataFrame(index=rna)\n",
      "chick_rna_df['sequence'] = pd.Series({seq: str(chick_rna[seq]['sequence']) for seq in chick_rna})"
     ],
     "language": "python",
     "metadata": {},
     "outputs": [],
     "prompt_number": 9
    },
    {
     "cell_type": "markdown",
     "metadata": {},
     "source": [
      "## Load chick ref data"
     ]
    },
    {
     "cell_type": "code",
     "collapsed": false,
     "input": [
      "chick_ref = screed.ScreedDB('../inputs/galGal4/galGal4.fa.masked_screed')\n",
      "ref = {chick_rna[seq]['name'] for seq in chick_rna}"
     ],
     "language": "python",
     "metadata": {},
     "outputs": [],
     "prompt_number": 66
    },
    {
     "cell_type": "markdown",
     "metadata": {},
     "source": [
      "## Load ref data to a DataFrame"
     ]
    },
    {
     "cell_type": "code",
     "collapsed": false,
     "input": [
      "chick_ref_df = pd.DataFrame(index=rna)\n",
      "chick_ref_df['sequence'] = pd.Series({seq: str(chick_rna[seq]['sequence']) for seq in chick_rna})"
     ],
     "language": "python",
     "metadata": {},
     "outputs": [],
     "prompt_number": 67
    },
    {
     "cell_type": "markdown",
     "metadata": {},
     "source": [
      "## Load unmapped moleculo reads (to reference)"
     ]
    },
    {
     "cell_type": "code",
     "collapsed": false,
     "input": [
      "with open('../outputs/moleculo/unmapped_reads', 'r') as f:\n",
      "    unmapped_reads = {line.strip() for line in f}"
     ],
     "language": "python",
     "metadata": {},
     "outputs": [],
     "prompt_number": 74
    },
    {
     "cell_type": "markdown",
     "metadata": {},
     "source": [
      "## Load mol/rna reads and calculate intersection (C)"
     ]
    },
    {
     "cell_type": "code",
     "collapsed": false,
     "input": [
      "outputs = pd.DataFrame()\n",
      "intersection = set()\n",
      "intersection_90 = set()\n",
      "ref_rna_set = set(ref_rna['Query id'])\n",
      "ref_rna_set_90 = set(ref_rna_90['Query id'])\n",
      "\n",
      "for f in range(1, 6):\n",
      "    for file_format in (\"/%d_LongRead_500_1499nt\", \"/%d_LongRead\"):\n",
      "        mol_reads = pd.read_hdf(\"../outputs/minlen200.h5\", file_format % f, mode='r')\n",
      "        intersection |= ref_rna_set & set(mol_reads['Query id'])\n",
      "        \n",
      "        mol_reads = mol_reads[mol_reads['% identity'] > 90]\n",
      "        intersection_90 |= ref_rna_set & set(mol_reads['Query id'])\n",
      "        \n",
      "        mol_reads = None"
     ],
     "language": "python",
     "metadata": {},
     "outputs": [],
     "prompt_number": 75
    },
    {
     "cell_type": "markdown",
     "metadata": {},
     "source": [
      "## $* = $ Blat mol/rna $- C = $ only_rna_mol"
     ]
    },
    {
     "cell_type": "code",
     "collapsed": false,
     "input": [
      "only_rna_mol = set()\n",
      "only_rna_mol_90 = set()\n",
      "\n",
      "only_in_mol = unmapped_reads.copy()\n",
      "only_in_mol_90 = unmapped_reads.copy()\n",
      "\n",
      "for f in range(1, 6):\n",
      "    for file_format in (\"/%d_LongRead_500_1499nt\", \"/%d_LongRead\"):\n",
      "        mol_reads = pd.read_hdf(\"../outputs/minlen200.h5\", file_format % f, mode='r')\n",
      "        only_rna_mol |= set(mol_reads['Query id']) - intersection\n",
      "        only_in_mol -= set(mol_reads['Subject id'])\n",
      "        \n",
      "        mol_reads = mol_reads[mol_reads['% identity'] > 90]\n",
      "        only_rna_mol_90 |= set(mol_reads['Query id']) - intersection_90\n",
      "        \n",
      "        mol_reads = None\n",
      "        #mol_matches = mol_reads[~(mol_reads['Query id'].isin(ref_matches['Query id']))]\n",
      "        #outputs = pd.concat([outputs, mol_matches])"
     ],
     "language": "python",
     "metadata": {},
     "outputs": [],
     "prompt_number": 76
    },
    {
     "cell_type": "markdown",
     "metadata": {},
     "source": [
      "## $A = $ Blat ref/rna $-C =$ only_rna_ref"
     ]
    },
    {
     "cell_type": "code",
     "collapsed": false,
     "input": [
      "only_rna_ref = ref_rna_set - intersection\n",
      "only_rna_ref_90 = ref_rna_set - intersection_90"
     ],
     "language": "python",
     "metadata": {},
     "outputs": [],
     "prompt_number": 77
    },
    {
     "cell_type": "code",
     "collapsed": false,
     "input": [
      "print len(rna)\n",
      "print len(ref_rna)\n",
      "\n",
      "print len(intersection)\n",
      "print len(intersection_90)\n",
      "\n",
      "print len(only_rna_mol)\n",
      "print len(only_rna_mol_90)\n",
      "\n",
      "print len(only_rna_ref)\n",
      "print len(only_rna_ref_90)\n",
      "\n",
      "print len(only_in_mol)\n",
      "print len(only_in_mol_90)"
     ],
     "language": "python",
     "metadata": {},
     "outputs": [
      {
       "output_type": "stream",
       "stream": "stdout",
       "text": [
        "419277\n",
        "726744\n",
        "248281\n",
        "247138\n",
        "14451\n",
        "13793\n",
        "35244\n",
        "36387\n",
        "5946\n",
        "7978\n"
       ]
      }
     ],
     "prompt_number": 78
    },
    {
     "cell_type": "markdown",
     "metadata": {},
     "source": [
      "## Create new DataFrames with only_rna_mol\\* sequences"
     ]
    },
    {
     "cell_type": "code",
     "collapsed": false,
     "input": [
      "only_rna_mol_90_df = chick_rna_df[chick_rna_df.index.isin(only_rna_mol_90)]\n",
      "only_rna_mol_df = chick_rna_df[chick_rna_df.index.isin(only_rna_mol)]"
     ],
     "language": "python",
     "metadata": {},
     "outputs": [],
     "prompt_number": 14
    },
    {
     "cell_type": "code",
     "collapsed": false,
     "input": [
      "only_rna_ref_90_df = chick_rna_df[chick_rna_df.index.isin(only_rna_ref_90)]\n",
      "only_rna_ref_df = chick_rna_df[chick_rna_df.index.isin(only_rna_ref)]"
     ],
     "language": "python",
     "metadata": {},
     "outputs": [],
     "prompt_number": 26
    },
    {
     "cell_type": "markdown",
     "metadata": {},
     "source": [
      "## Checking sequences lengths"
     ]
    },
    {
     "cell_type": "code",
     "collapsed": false,
     "input": [
      "lens_all = chick_rna_df['sequence'].apply(len)\n",
      "print 'Total RNA seqs:', lens_all.size\n",
      "print 'Mean len:', lens_all.mean()\n",
      "print 'Max len:', lens_all.max()\n",
      "print 'Min len:', lens_all.min()"
     ],
     "language": "python",
     "metadata": {},
     "outputs": [
      {
       "output_type": "stream",
       "stream": "stdout",
       "text": [
        "Total RNA seqs: 419277\n",
        "Mean len: 1766.04933254\n",
        "Max len: 29691\n",
        "Min len: 100\n"
       ]
      }
     ],
     "prompt_number": 16
    },
    {
     "cell_type": "code",
     "collapsed": false,
     "input": [
      "lens_only_rna_mol = only_rna_mol_df['sequence'].apply(len)\n",
      "print 'Total RNA seqs in moleculo and not in reference (min len >= 200):', lens_only_rna_mol.size\n",
      "print 'Mean len:', lens_only_rna_mol.mean()\n",
      "print 'Max len:', lens_only_rna_mol.max()\n",
      "print 'Min len:', lens_only_rna_mol.min()"
     ],
     "language": "python",
     "metadata": {},
     "outputs": [
      {
       "output_type": "stream",
       "stream": "stdout",
       "text": [
        "Total RNA seqs in moleculo and not in reference (min len >= 200): 14451\n",
        "Mean len: 763.966161511\n",
        "Max len: 10675\n",
        "Min len: 185\n"
       ]
      }
     ],
     "prompt_number": 17
    },
    {
     "cell_type": "code",
     "collapsed": false,
     "input": [
      "lens_only_rna_mol_90 = only_rna_mol_90_df['sequence'].apply(len)\n",
      "print 'Total RNA seqs in moleculo and not in reference (min len >= 200, min align size > 90% contig or moleculo read)'\n",
      "print '# seqs:', lens_only_rna_mol_90.size\n",
      "print 'Mean len:', lens_only_rna_mol_90.mean()\n",
      "print 'Max len:', lens_only_rna_mol_90.max()\n",
      "print 'Min len:', lens_only_rna_mol_90.min()"
     ],
     "language": "python",
     "metadata": {},
     "outputs": [
      {
       "output_type": "stream",
       "stream": "stdout",
       "text": [
        "Total RNA seqs in moleculo and not in reference (min len >= 200, min align size > 90% contig or moleculo read)\n",
        "# seqs: 13793\n",
        "Mean len: 760.650039875\n",
        "Max len: 10675\n",
        "Min len: 193\n"
       ]
      }
     ],
     "prompt_number": 18
    },
    {
     "cell_type": "code",
     "collapsed": false,
     "input": [
      "lens_only_rna_ref = only_rna_ref_df['sequence'].apply(len)\n",
      "print 'Total RNA seqs in reference and not in moleculo (min len >= 200):', lens_only_rna_ref.size\n",
      "print 'Mean len:', lens_only_rna_ref.mean()\n",
      "print 'Max len:', lens_only_rna_ref.max()\n",
      "print 'Min len:', lens_only_rna_ref.min()"
     ],
     "language": "python",
     "metadata": {},
     "outputs": [
      {
       "output_type": "stream",
       "stream": "stdout",
       "text": [
        "Total RNA seqs in reference and not in moleculo (min len >= 200): 35244\n",
        "Mean len: 1397.45122574\n",
        "Max len: 7754\n",
        "Min len: 200\n"
       ]
      }
     ],
     "prompt_number": 27
    },
    {
     "cell_type": "code",
     "collapsed": false,
     "input": [
      "lens_only_rna_ref_90 = only_rna_ref_90_df['sequence'].apply(len)\n",
      "print 'Total RNA seqs in reference and not in moleculo (min len >= 200, min align size > 90% contig or moleculo read)):'\n",
      "print '# seqs:', lens_only_rna_ref_90.size\n",
      "print 'Mean len:', lens_only_rna_ref_90.mean()\n",
      "print 'Max len:', lens_only_rna_ref_90.max()\n",
      "print 'Min len:', lens_only_rna_ref_90.min()"
     ],
     "language": "python",
     "metadata": {},
     "outputs": [
      {
       "output_type": "stream",
       "stream": "stdout",
       "text": [
        "Total RNA seqs in reference and not in moleculo (min len >= 200, min align size > 90% contig or moleculo read)):\n",
        "# seqs: 36387\n",
        "Mean len: 1408.27603265\n",
        "Max len: 7754\n",
        "Min len: 200\n"
       ]
      }
     ],
     "prompt_number": 28
    },
    {
     "cell_type": "code",
     "collapsed": false,
     "input": [
      "lens_all.hist(bins=range(0, 5000, 500), label='all')\n",
      "lens_only_rna_mol.hist(bins=range(0, 5000, 500), label='RNA seqs in moleculo and not in reference')\n",
      "lens_only_rna_mol_90.hist(bins=range(0, 5000, 500), label='RNA seqs in moleculo and not in reference > 90%')\n",
      "plt.legend()"
     ],
     "language": "python",
     "metadata": {},
     "outputs": [
      {
       "metadata": {},
       "output_type": "pyout",
       "prompt_number": 19,
       "text": [
        "<matplotlib.legend.Legend at 0x1280e9e50>"
       ]
      },
      {
       "metadata": {},
       "output_type": "display_data",
       "png": "[encoded data removed]",
       "text": [
        "<matplotlib.figure.Figure at 0x1280e9ed0>"
       ]
      }
     ],
     "prompt_number": 19
    },
    {
     "cell_type": "code",
     "collapsed": false,
     "input": [
      "lens_only_rna_mol.hist(bins=range(0, 5000, 500), label='RNA seqs in moleculo and not in reference')\n",
      "lens_only_rna_mol_90.hist(bins=range(0, 5000, 500), label='RNA seqs in moleculo and not in reference > 90%')\n",
      "plt.legend()"
     ],
     "language": "python",
     "metadata": {},
     "outputs": [
      {
       "metadata": {},
       "output_type": "pyout",
       "prompt_number": 20,
       "text": [
        "<matplotlib.legend.Legend at 0x14f40b850>"
       ]
      },
      {
       "metadata": {},
       "output_type": "display_data",
       "png": "[encoded data removed]",
       "text": [
        "<matplotlib.figure.Figure at 0x166c62710>"
       ]
      }
     ],
     "prompt_number": 20
    },
    {
     "cell_type": "code",
     "collapsed": false,
     "input": [
      "lens_all.hist(bins=range(0, 5000, 500), label='all')\n",
      "lens_only_rna_ref.hist(bins=range(0, 5000, 500), label='RNA seqs in reference and not in moleculo')\n",
      "lens_only_rna_ref_90.hist(bins=range(0, 5000, 500), label='RNA seqs in reference and not in moleculo > 90%')\n",
      "plt.legend()"
     ],
     "language": "python",
     "metadata": {},
     "outputs": [
      {
       "metadata": {},
       "output_type": "pyout",
       "prompt_number": 29,
       "text": [
        "<matplotlib.legend.Legend at 0x10ea8dd90>"
       ]
      },
      {
       "metadata": {},
       "output_type": "display_data",
       "png": "[encoded data removed]",
       "text": [
        "<matplotlib.figure.Figure at 0x10ea8df90>"
       ]
      }
     ],
     "prompt_number": 29
    },
    {
     "cell_type": "code",
     "collapsed": false,
     "input": [
      "lens_only_rna_mol.hist(bins=range(0, 5000, 500), label='RNA seqs in reference and not in moleculo')\n",
      "lens_only_rna_mol_90.hist(bins=range(0, 5000, 500), label='RNA seqs in reference and not in moleculo > 90%')\n",
      "plt.legend()"
     ],
     "language": "python",
     "metadata": {},
     "outputs": [
      {
       "metadata": {},
       "output_type": "pyout",
       "prompt_number": 30,
       "text": [
        "<matplotlib.legend.Legend at 0x116e2bb10>"
       ]
      },
      {
       "metadata": {},
       "output_type": "display_data",
       "png": "[encoded data removed]",
       "text": [
        "<matplotlib.figure.Figure at 0x10ecbd290>"
       ]
      }
     ],
     "prompt_number": 30
    },
    {
     "cell_type": "markdown",
     "metadata": {},
     "source": [
      "## Final considerations\n",
      "\n",
      "Filtering for %identity > 90 didn't make a big difference.\n",
      "\n",
      "### Bonus\n",
      "\n",
      "The longest mRNA not matching reference or moleculo:"
     ]
    },
    {
     "cell_type": "code",
     "collapsed": false,
     "input": [
      "lens_only_rna_mol_90.argmax()"
     ],
     "language": "python",
     "metadata": {},
     "outputs": [
      {
       "metadata": {},
       "output_type": "pyout",
       "prompt_number": 21,
       "text": [
        "'global_global_23-19516'"
       ]
      }
     ],
     "prompt_number": 21
    },
    {
     "cell_type": "code",
     "collapsed": false,
     "input": [
      "chick_rna_df['sequence']['global_global_23-19516']"
     ],
     "language": "python",
     "metadata": {},
     "outputs": [
      {
       "metadata": {},
       "output_type": "pyout",
       "prompt_number": 22,
       "text": [
        "'AGATAAATAACAGTATAAAATTTACTGCTGAGGAGCTGTATGAGTGTGTTTCACAAGAGTTATATCGGTAAGCTAGCTATTGATCATATCAAATGGGTTCTGAGACAGTGTTTCAGCATGTACTGTGTGAACCAGAGTGCAATAAGAGAACTTGTTCTGTTAGATGAAATAATTGCTGCTGTAGGAAGGGGATAGAGAAGATGAATGGGGAGAATTTTGTGATAGGTTATTAGACCAGAGTGGCTGAGGGCAGAACATGGCTTAGAGACCAGCCAACAGCACCAGCACAGTGCTGTCCAGCTGTCTGACATGAGGTGAGGTGTTGGTCCTGCTTTCCTGTTCTGGTTTTGCATTTCTGGTTTTGCAGTGGACTGGACCAGTGTAGTCAGCATCTATTCAAAGGAGGTTAGAACAAGGAAGACCATTTAAATTAATTTAATTGTAACGGCAGTTCTCTTTGCAATTGAGCTCATAATCACTGTGAAAACTTTGCTGAAGTCAGCAGAGGAAAAAACCCTGTGGTTCTCAAGCCCCATGGCACTGGAAACTGGGCATGTGTGCAGCTGCTGGGCTGCACTGTGGCCATTGTTCTTAAGGCCATAAATTACACAACTGTATGCTACTCTCTGGTTAGTAGTTACTGTGGAAAAAATGGAGAAGCCAACTTAAGATTTCAATTACTGTATCTATTTTAGGAGGGTTTTTATGGTTCAGTTGCAGGGAAATGTTCTGTTGTACAGCTGAGTCAAGAAATTTATTCTGTGTGTAAACCTATTATATGCAAAATATGAAAAAATAGTTTGGATTGTGCCCTCCATTGTAAAATCCATGTTCTGTCAAGAAAGCCAACTGATCTGACCTTTCAACACTGATTATTTCTTATAACTACATTTGCATGTTACAGTAGAAAGTCAAAAGTCAGAAAGCAGCTCTTCCACTTTGCTGATCTGCATTTTGGCTGTTTTAAGCTATATGAGTAAAATTCAAGTTATATAAGCTTTAAAGAAAAAGGTACTGCCACTTCTTACATTTTATGGAAATTGTCTTTTTGATTATGCAGATCCACAACTGCGTAGTTTGTCTTCTGCCATATCCATTTTTGGTTAAGCATTGTATTCAGCTATATTTTCTTTGAGTTGGGACAACAGGTTCCAAGCTCTGTAGCCACTGCTCAGGTGCAAAATTTGGCTGCAAATACCAGATTACCATGAACAGAACTTGCAGGAGCAGCTGCATCAATAACTTGTGTGCAGAGGTTTTTTTTTTAACCAATCAATTCCGAATTCAGATAGAAAATCAGAACAAGGTATTTTGGCAAGCATAGAGCAAGATTATCAGAAAAACAATGATGGCTGTCAAGCAAATATGAGAGCAGCAATGCTAATCATTGCAACTGCAAGGCTGAAGTCAGAGTTCTCACATGCTCCAAATCAGTCTGACTGCAGTGTATCTGAGGATGGATCTGTTTGCCTGCGGGACAGAAATGTAAAGAGCTGGCTTGCAGCTCATACACACCTGTGAGAAACAGCAGTGCTTTTAGCTGAAGACTGAGTTTTGTGTTGAGAAGAATGAAATCATGTTTGCTGTGTCCTCCAGGCCATTCCTTTTTAAAGTTTTCATTGCAGCATACAGCTGAAAGCGCATAATGATTAGCTCTCTCTGGATTAAACTTAGTCTTTTGCTTTGAAGATAAAAAAACATTCAGATTTCCAGAGATGCTAAGTATTCTTTGCTTTTGACAGCATTAGAGTGCAACATTGGAATTCCTTTGAATTTTAAAGCAGTATACTGAAATGTTCCCTTCTATAAAATGGGGTCTGTTGTGTCCTAATAACCATCTTTGTGCCTTTTCTTCTCTAGAGGAAGATTAGAGGTGGGTTGTTGTCAGCTGGCCGAGCTGGACCACAGCATCAAGCAGCGTCATGCATCTGTACACATGGAAGCAAAGAACAGGGGGTGGCTTTGACACCAGCAAGGTCTGGAACCACGGCACTCGCCCTTCGATTTTGGTGTCCAAATGAAGTCAGGGAAGTGGTGGGAGGGAATACTCAAGAAGCCAAAACTGCCTTTTTTTCTCAATGGTGCTGTTTTATAATTGAGTTTAAGGGAAAAAAAAAAAAAAAAACTTTTGACTCTAACTAGTAGCATTTCCTGTTTCAAGTGAAGATCTGCAGACTGATAAAAGTTTTGCAATATACCAAGTTGGAAGTTAGAGCTGTTACTAATGATTACATGGTTTATATAGAAAAATGAGTAAGTCTGTTTTTTTTCTGGATTTTTTTGGAAGTAAACTGTTGGGGGACAAAAGAAAAAACGAATGTTATGATATTCAAAGTTCTTGAAAGGACTGGAATGAGCACAGTTGAATGCAAAGCCTTAAAGCCATGACGCTTGCCACTCCTATGGGTAGGAAGAATTGAAACACAGATGCAACGTGTGTGGCCTGTATACTGCACTATGTAAGGCTAGAGAGAGAAGAAGTGGATTGATGTTTACTGTCATGTAGGTGTTTGTCCTCTTTAGTGCTTTTGTCGGAATATCCAGTATACCTTTTCCATTCAAAATTCAAATCTGTTAAAAGCATTGAAACCAGAAACGTGTATAATTAGGCATGTGAATTATACTTTAAAAAAAAAAAAAGCAAACGTGAAATGCTATCAAATTGAGATGAAAGTAAAGTAGTGTTTTTCCTTTTTTAAAATATCCACTTTATCTTCAAACAGTAGAAACTTGCTAGAAAAACTCTTCTGGTGAATTTCTCATTCTTCTCGTCTTTTCTTGTAAAGGCACAAGCATCTCTTTCCCTATGTGTTATACCTGTGATTTGTCTCATCTCCGCTTTCAGGTGACAACTCTATTTAAATCTATTACTTGTTGCTCTCCAAAACTGCTTTAAAGTAAGTCAACAAAACTTTCTAAAAGCCATTTTCAATGCTGCTGTGGCCTTTAAAGCTACCTCTTTTATGTATTTGTACTGAGATGAGATGACTGGTTAAGTCCTACAAGTGTTTATTTTGATATTAACTTTTGGATGCATTTGTAAAATGTTTATTGTAAACATTTAATATATTGTTACAATAAATGTCAGTTAATTTTCAGTGACAGCATTACCTTGACCAACTCCATTCTCAGTTTGCCTAATCCATGTGAGTTCAATCTAATGCAATTCTCCCCCTCCCTGACTGAAGTGAAGCTAATGGTAGAACGTGGCCTCTAAGTTATTTGTCAGGGCAAAATTAATTTGGTGGGATATTTTCATTGAAATTGTCCCACAGCTGTGTAAGTTGCTTACTTGATAGTCTGTACCATACAAGTAGGAAATTAGAGCAACTTAAGCACGTTATATCTGCCTTGCTTAACTCAGGATCAGAGCTTATAGCTCTGATAAACTTTGGAGGAAGACTGATCATGACAACTACTTTGGATTTTCTCATACAGACTCTACTTGTTAGAATGCACTCTGTTTTAGAGCTTGGTAAGCAATAATTCTCTTCAGTCTTGTTTTTCTGCTTCACTATATAGCCTTAGCATTCTGCTAACGAGTTATGGGGTGTGAAACAGAAGAACTGTAGCTGAAGCCTGTTCCTGGTAGTACTTGTACCTTGTAGAGATGTGAGTTAAAGCAATAAACTCAGAATGCGATGCCACCATAGGCATGGCTTTATTTCCCACAGTTACTTGACTTTGGAACATATCTAAATGTGCAAAATTTGTTACAACAGTTCAGTCCTGGGGCTGATTTCTCATCTCACCTTCTGTTCTAATCACCTCACTTCCATTTGCATGAAACATGAAACACAGAGAAGCAATTTTCTTGAGTTGAGCAAGTGCAGCAGCTGCATGTAGCAAGGAGCCAGCTCACAGCAGGTGCATCTCCCCAGGATAAGCACAGTGATTCTCCTTGAGCGAGGTGCTAATGCCATCAGCATGGTGGGAAGCACATGGGATACAACCCCTCACCCTTCTAGTTGCAGGTGCTACTTTGGCTGCCTAACGCCCCAGGACACCTGAAAATTCTAGTTTTAGTGCTGTAAACTGTCTCTCATTAAAGAAAACAACACAAGGACACCATGCAGCAACCCTGTGGTGCAAGGATTTCCCAAACAGTACCTTTAATGTGTTTGCATCAGCAGCAAGCTGTAAGTGCTGGTTTTGGCACCAGGAGTTAGATGTGTAGCAACTACACATTAGACACAAAGTCATCCAAGCCAACGTATTATCTGTATGAATAGAGGAAGTGAACTAAAACGCAGTACTACGAGCACATAAGAATCAAGTTATGTGTTATACCAGAGTTTAAGTTTGTAATATTAGAAAAATAAGACAGTTACTAATCAGGTCAGATGAATACATTTTCATCGCCAACTCAAAGTTGTTTAAAAACCATGAGAAAAACCCCACACTTTAAGTTGGTTTTACAAATGTTAGGTCAACCATAGTAACAAAAGTGCTGTACAGAAATCAACCTCTGCATTTTTGTCAAAATGTTTGGAGCCAAAATAATTTTCCCATACTGGAAAGTCACAGCTACATCATGTTCAGAAACTCCATTTCCATCTTATCAAAGTTCTGCATGCTAAGTTGCAATACTGTAGCAGAGGCAAAAGCTCAGAAGCTTATGTATAGTGGTACATCAGTTGTCCCACTCAGTCTCAGTGAATTCCAAGGTTGTCTCCTTGCTTCAATAACTGTTTATCTGCCATTTTTATTTCAACAGATAAAATACTCTGCTGAGTATATAAAAATGGTTATAAAAAGACAATCATAAAAGATAAGGTAGTGGCAGGCATATATATTTTTAATAAAAAAATAGCCATTATATCTGTTTAAATAAGGCTTATTACAGATTGTTTCAGTTACTGAAGAAAAACAAGGCCTGATGAGAAAACTATCCCCCACAATCCTTACACTTCCTGCCCCAAGAACACACTACCAGAAAAGAAAGTTACTTAATGTGCAAAGTGACAAAAACAAATGCTGGAGGAAGCTCCTGAAATTAGATGCCCAGTCTAGGTTCTCTTGCAGTATCTTTGAAGTCTTTTAAAAAAAAGTAAAATAAAGTTCTAAAATACACCAGAAACCCCTTCATCTCAATATTCTTTCCAAAACAAGTATGTACAGCACATTAATATGCAATATGCAAAAGCTTTGTGTTGCTGTTGGCAACATCTACACCTTCCCCAGTCCTATTCACATGTGTAGCTCTACTAAAACACAATTACATCACTAAGCCTGTTAGTTTGAAATGGGAATTTAATTGACTTAAAACTTGTAAATTTTTGTGTACGGGCTCCATTCGTTTGATTCTGAGTTGTAGACTTCAACTGTGTTCAGGAATTCATTGCCATCAAATCCCCCAACCGCATAAATAGTGTTTGCCACAGTTGTAATCCCAGCATTGCTTCTTGGAGTGGTCATATTTCCCATCATCTTCCACTCATTTTTAGCAGGGTCATACATCTCCATGCAGCTCACTGCGTGAGAACCATCAAATCCTCCTCCAACAAAGAGTTTTCCGTCATGCACAGCCACTCCAGCTCCCCTCCGAGCCACATTCATGGGTGCCATCAGGGTCCAGGTATTGTTCTCAGGATTGTAGCGCTCCACACTGCTTAGGCAGTTCCATGACTCTGCCCCACCAATGATGTACAGGTGGCCCCCCAGCTCGCACACTGCAGACTGATGTCTCCGGATATTGAGGGGAGCGCAGCTTGTCCAAGATTTTGTTATGGGATCAAACACATCACAGTTCTTAAGTCCCTTTTGGCCATAAGGATCTGAACCACCAACAATGTACAGTGTTTTCCATTCAGGGCACATACTCCTGCATTGCAACGATTGGTTCTCAGCTCCGGAACAGGAGTCCAGTCATCTATTTCTGGCTCGTACATTTCCCCACAGCTCAAGTCATCCGAGTGACCATTTGACCCACCCACAACATACAGCTGCCCCATTAAGACTGCCATTTGGAACCGAGCTCTGGGTGTTCTCATGGGTGCAATGAAAGTCCAAATGTCCCTCTGTGGATCATAGCATTCCACTGTACGCAAACACTCCTCTCTGTTATAGCCACCTGCAGCAATTAGCTTGCCATTAAGCTCAGCTGTGCCCAACCCTGATCGAGCATACTGCATGGGAGACATGGGCTTCTCTATTACATCGTTTGGCTGTAGTTCAAAACTCAGACTCTTCAGCAGGCGTGGCGTGCTGTAGGAGAGCTCTGAGGGCTGTTACGGCCATGCAGAAAGATCACACACAGCACACTGTCCAGAACAGCCAGACACAGGTAGGTGTTGCTTGAAGTCTTTTCTGAAGCAATGATTTTCCACTCATGTTTAGGACTCTGCACAGCAGCACTTGGAGAAAGACTTCCAGAGGAGCTGCTACTTATCTGCTTGTGGTCATTCTCACGTGGTGGCTTCTTCTGCACAAACTGAATGTGGTCATCATCACTGCCATACACCTCAGCCTGTCCATCTAGCAGATTTCCATCAAGCAGCTTGTGATCAGCTGAGTAGTACAGCGTTTGAACCTCTTCCATCAGATCTTCCAGGCTGTCTCCATTTTCCCAGATGCTGCGCTGTACCCAGTTGATTACCTTTGTGTATAATTTGCCATTGCTGGGTAGGCCAACATTGTCTTCAAGCATTACTTCAAGCTTTAACCGTGGAAGTTTCAGGAATTCCTCCTGTTCTGAAATCTGCAAAAGATGTTCCTGAATGTAGCCGTCAATCTTGCTCAACAAGCGTGAGTCTCCCATGCAGCTTACAAAGTTTCGGTAAGAGATGCAGCTCTGAACATCCATCTTGGAGAGCAAGTAGTCACCACAGACCTGCTTTACTCTTTCCATCTTCAACTTCTTTGCTGCAGAATATACATCTTTCACCAGTTCTTTATCAGCTTTCAACTGAGCAGTATAGGCATAATTCAAAAGAACTTCAACAGCATCTGGATTGAGATCATCAAATTTAACATGAGAAATTCCATGAGAATCACTATCACTATTGAAGATTTCAAACAGGTAGGGACTGCAGCAAGCTAGCACAGCTCTGTGCGCCAGCATCTCATGCCCACATACCTGGAGTCGGACATCACAGAACTGACCACTTTTACGTAAGGCGTTTAGTTTGGCAACAGATGACTCGATGAAATTTTCATCTTCAAACATCAAATATCCATTAGGAATCATTTTGGTGTTGGTCTGGCTAGCAAATATACGACCGCAAATTTGTAACTGGAAAATCTTACAGTATTTCAGTGGTATCCCTGTGGTTAAACAGAGCACTTTGGTATCTTCTAATAGGAAAGATGTTTATTTAAGTGCAAAAGGAAACTTGTCTTTGCAGCTGCAATATGGATTCCAAAACTATCTGGCTTGAAGATGATGTAATCAAGTCCTTAAAAGCTATAGACATGAATTTCTTCTGTGATAATCGTGCATCATAATCTTCTGTCTCTCAGCGCGAATGATGCAGCTCATACTGGGAGCCTCCAGGCTGCGGGAAAGCCGACGCGGAGAAGCAATCCGAGTCCGCCGGGAACAGGGTACGGGGGGAGAGCGCGGCTGCACGGCGACAGGCAGGCGACACGACTAGAGCAGGGAGAGCCCTCGGCTCGGGCGCAGCGCAGCCCCGTAGGCCTCCGGCGCGGAGGTGGAGCAGCCCGGGGTAGTCAGGCCTGCTACCGGGCGGAAAGCGGGAAGCCTCCCTCTCAGAAACCTCGCCCGGAACTGCGCTGACTCCGTGGGGATCCGGGGGCGGGAGAAGGGCCGCTCTCTCTGCGGCAGGCCCCGCCCCTGCCCTCTGCTGTCTTCGGCCTCTAGTTGTTCTGGCGGAGAAATGTGCCCCTGTTCCTCATGACAAATCCAGGTCTTCCTAGACAAAGTCGTTTTAAAACGTCGCTGCTGATAAATAAGGGTTGTTTGGAGCCTTGTCTGTTTATTATGTGTTTGTATGTGAGATGGCATGATGGGTTTCTGATTCATGGCTGGAGCCCTGAGTGCTCCTGCAGCATCACCGTAACGAAAACATGCAGTTGGATCTGGGCTGAGGTTCCCTGCTTGTTTCCTGATTAAAAGCGTAATAGTCATCTGGAAGGCAGGTGCATGCCCTCTGTGCAACTTCCCTTTGTACTTTCTCATGGTTCCAAGGCTGTTTGTGTTGGTCAGATCTAGGAAATCTATAGGAGATTAAGTTAGATGCAGCGCCAGCGTCTTAACTGTCAAATGTGTAAGACGTATATGATAGTGCTCCTTTCTCTAGCATTCTTCAAGAGTCCCATTATTTTAGAGCACGAGAGTTGGATAGCCATGAGGTCACCAGAAGAAAGCACTTCCTTATGCTGAAAATAATTGTCTAATGCGAAGTGAGCAGAGGCATTAAGCCACCAGTATGTTCCCCAGGTATGTGAATCCCACTGCTCTCTGGTGACGCACGTGGTAATGCAGTACTCATGCTGTGGCTGGGCCCTCTCTTAAGAGCCTTACATTGCCTGTAGCAAACATGACTGTTTTGGCTTCTCATATCCCTGCTCCTTTCAGTTCTTAAATTACCAGCCACAACTCAGTGCCTGCCTTTCTGCTCTTTTCTTTCTTTTTCAATGAAGCATCTTATTAATGGTGTGCTAATCAAAGGCACTTGTGGTAAAGCTGGGAGAGAGAGGGAGGTGAAGACAAGACATAAGTTATATGATCAAATAAGGCTGTCTTGGGGATGTTCCTTAGAATCTCAGTATTAGTCAAAATGCTGTTACAATATTGTCAGGAAAGGATTTGTCTTTATAATCACCATTACCTTTCATTATCAGCTATTGCTAGTGATGTCAAAAAGCAAGTATGGCATATTCTTTACAGCACAGAGTTAACAGATGGCTATCTCCCCTTGGTTTCACAGAGATCACTGTGACAAGGGATACTGGGCTTTTGCAAACTGGGGCTTAACTCTGAGTTCAGGCAGTGTCTTCTTGGGTCCAGTTGCATTTTGGTCACCAAAACTCACTGCCCAAAAGATTGCTTTCTAATTAATATGAAATTAGTTTACCTCATTAAAACACCATTGTTGCACCTAAGATGTGGCTATATGTCCTGTGAAGACTTCTGAAACATGCAAATAAGTTTATTACAGTGTGTTTCCTTCCACATGAAACTTGTGCTTAATGTTAAACACAATTATCATTCTTCTTACAAAAGAGAGCAGTGGAGTGAGAAACAAACTCTCCTCAGCTGTCATTTTTGTTCAAGAGAACAAAATCCTTACTTCAGAAAGACAAGGTGTTACTCTTCCGGTTTTCTAAATTGTTTGTTCTTTCATATCAAACTATCCAGTGGTAGAATTAACATAAAACTACCTAGTGGTAGAATTAACATTGCACATACAAATACATCTTTTGCTTGAGCTTTACTAGGATCCAAGTAGCTTAGCCAAAAGTGTGTCTAGAAATCAGCAGCAATTTTGCGTGAACATCATAATAATTTAAATGACCAATCCAAGGTGGCAGCTGCCCCATTCCCTTTGTTACTGAACACTAAAAACTGGTTGATATACATTAAAAACTGGTAGTTAAAACTTGACTGCTGGCAAGTACTGAAGTGTGTGAGATCACTCTATCTAGATGAGGTGCCTGGTTGAGAATATTTAGGTACAGTATGAGAGAACAGTGTTAGTAGCTGTGACCATAAATTTTACAAGCCAGTTTTATATCAAGTCTCTGTTCATCCTTCTTAAGTGATGCAAACAATTTTCCTTCTAAATTTTGTGAGACATCACAGTGACCTTTGAGATCACATAGTAGTGTGTTGGATGGAAAACCAGATTCCCACACCAAGACTATAAATTACATCTCATCTAATCTCCATGAAATAAACAGAAGTCTTTTTAATTAATTAAATTGGATTAGGTCCACAGGAAAAATGCTCATGATTCTGTCAGAGTCACTAGTTAAAGTCTTAAAAAAATACATTTTTCTAACTACCTGTCTTTGAAGAATCTAATCTCAAAAACACAGCCTTTAGGATGAAGTATCATGGGAATTCCAGTCTGACATGTGCCTTGCATAGAGAACATAGCTACAATTTTTGAAAAATTATAGCTCTTGCAACTCTTTCAAGACAATTTGCACCATCTGACTGCCAGCACATGCATTCAGTACATAGAGATACTGCTTTAATTTATGTTACAAGTTATCTTTACTTGCTTCTGACAGGTTTAACAGTATTTAACCAACATGTAACACCAATCTGAAAGAGTGGATGTGGATATGTAAACTGTGTAATAGCATGCACAAAGCAATATCTGCCATGCTACTGCTCTCTGGGGAGACAAATCAGAATTGGATGTGTAAGTCTGATTCCCCAGCAATGGTGATGGTATGTATAGAGGAGGCTTGCTTTAAGTCTGGTCCATTGAACTATGTGTGTTCAGAAGATTGGCCAGGAACCATCCTTCAAAAAATCTCCACTTTATGGCTTTCCTGTAGAACTTGGAATTTTGTTATTGGTTAAAATGAAATGAACTCCTACCTGCTTTCAAGTTGTATTAAATTATGGTTGCTAGGTGATGAAATTTGCAAATATGTTCTACTTGTCAATTATAAAAATGATGACCCATTCCATATACCTGCGTTGTATCTCTTTCTTGGCTTCATATGGACAATATTTTCTTAGGCAGAAGCATCCTGC'"
       ]
      }
     ],
     "prompt_number": 22
    },
    {
     "cell_type": "code",
     "collapsed": false,
     "input": [
      "only_rna = rna - only_rna_ref - only_rna_mol - intersection_90\n",
      "print len(only_rna)"
     ],
     "language": "python",
     "metadata": {},
     "outputs": [
      {
       "output_type": "stream",
       "stream": "stdout",
       "text": [
        "122444\n"
       ]
      }
     ],
     "prompt_number": 59
    },
    {
     "cell_type": "code",
     "collapsed": false,
     "input": [
      "only_ref = ref - only_rna_ref - intersection_90 # - only_mol_ref\n",
      "print len(only_ref)"
     ],
     "language": "python",
     "metadata": {},
     "outputs": [
      {
       "output_type": "stream",
       "stream": "stdout",
       "text": [
        "136895\n"
       ]
      }
     ],
     "prompt_number": 68
    },
    {
     "cell_type": "code",
     "collapsed": false,
     "input": [
      "v = venn3(\n",
      "  subsets=(len(only_ref),\n",
      "           len(only_in_mol),\n",
      "           2,\n",
      "           len(only_rna),\n",
      "           len(only_rna_ref),\n",
      "           len(only_rna_mol),\n",
      "           len(intersection)),\n",
      "  set_labels=('Ref', 'Moleculo', 'RNA'))\n",
      "\n",
      "#v = venn3(subsets=(2,2,2,2,2,2,2), set_labels=('Ref', 'Moleculo', 'RNA'))\n",
      "v.get_label_by_id('100').set_text('Only in ref')\n",
      "v.get_label_by_id('010').set_text('Only in mol')\n",
      "v.get_label_by_id('110').set_text('B')\n",
      "v.get_label_by_id('001').set_text('Only in RNA')\n",
      "v.get_label_by_id('101').set_text('A')\n",
      "v.get_label_by_id('011').set_text('*')\n",
      "v.get_label_by_id('111').set_text('C')\n",
      "\n",
      "#len(only_rna_mol)"
     ],
     "language": "python",
     "metadata": {},
     "outputs": [
      {
       "metadata": {},
       "output_type": "display_data",
       "png": "[encoded data removed]",
       "text": [
        "<matplotlib.figure.Figure at 0x140954ed0>"
       ]
      }
     ],
     "prompt_number": 82
    },
    {
     "cell_type": "code",
     "collapsed": false,
     "input": [],
     "language": "python",
     "metadata": {},
     "outputs": []
    }
   ],
   "metadata": {}
  }
 ]
}