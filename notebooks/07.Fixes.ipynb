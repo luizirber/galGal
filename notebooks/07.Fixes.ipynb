{
 "metadata": {
  "name": "",
  "signature": "sha256:82d53300102080f6a6ccc395d497fac9be3a5d45f27e44e35562af4899e5886f"
 },
 "nbformat": 3,
 "nbformat_minor": 0,
 "worksheets": [
  {
   "cells": [
    {
     "cell_type": "markdown",
     "metadata": {},
     "source": [
      "A.\n",
      "  - Align >= 90% length\n",
      "  - Align (less important)\n",
      "  - Don't align (more important)\n",
      "  \n",
      "B. Fix coverage figure\n",
      "  - Y axis: moleculo read length\n",
      "  - X axis:\n",
      "    - Cumulative bases in ref genome coverage\n",
      "    - Different comparisons:\n",
      "      - min length 1kb, 5kb, 9kb\n",
      "      - GalGal3, GalGal4, GalGal5-draft\n",
      "    \n",
      "C. RNAseq Venn diagrams"
     ]
    },
    {
     "cell_type": "code",
     "collapsed": false,
     "input": [],
     "language": "python",
     "metadata": {},
     "outputs": []
    }
   ],
   "metadata": {}
  }
 ]
}