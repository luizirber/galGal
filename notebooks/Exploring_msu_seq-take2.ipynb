{
 "metadata": {
  "name": "",
  "signature": "sha256:42f52202fe83071ef2f68d3abdaae1bc2b8fcd8957bf7265aa1cb801925c8ae9"
 },
 "nbformat": 3,
 "nbformat_minor": 0,
 "worksheets": [
  {
   "cells": [
    {
     "cell_type": "heading",
     "level": 1,
     "metadata": {},
     "source": [
      "Exploring msu seq"
     ]
    },
    {
     "cell_type": "markdown",
     "metadata": {},
     "source": [
      "msu seq reads were mapped to:\n",
      "  - the current version of the reference genome (galGal4)\n",
      "  - the previous version, galGal3\n",
      "  - the next version draft, galGal5\n",
      "\n",
      "Important details:\n",
      "  - All reference genomes are soft masked. At first it was inconclusive how BWA behaved in this case,\n",
      "    so I ran it with both soft masks and replacing 'agct' with 'AGCT'. The results were the same."
     ]
    },
    {
     "cell_type": "code",
     "collapsed": false,
     "input": [
      "%matplotlib inline\n",
      "from matplotlib import pyplot as plt\n",
      "from glob import glob\n",
      "import os"
     ],
     "language": "python",
     "metadata": {},
     "outputs": [],
     "prompt_number": 1
    },
    {
     "cell_type": "code",
     "collapsed": false,
     "input": [
      "!cd .. && make msu_latest_galGal4"
     ],
     "language": "python",
     "metadata": {},
     "outputs": [
      {
       "output_type": "stream",
       "stream": "stdout",
       "text": [
        "mkdir -p outputs/msu\r\n",
        "bwa mem outputs/reference/galGal4.fa outputs/msu/latest.fasta > outputs/msu/latest.fasta.sam.galGal4\r\n"
       ]
      },
      {
       "output_type": "stream",
       "stream": "stdout",
       "text": [
        "[M::bwa_idx_load_from_disk] read 0 ALT contigs\r\n"
       ]
      },
      {
       "output_type": "stream",
       "stream": "stdout",
       "text": [
        "[M::process] read 10462 sequences (10001506 bp)...\r\n"
       ]
      },
      {
       "output_type": "stream",
       "stream": "stdout",
       "text": [
        "[M::process] read 10482 sequences (10001981 bp)...\r\n"
       ]
      },
      {
       "output_type": "stream",
       "stream": "stdout",
       "text": [
        "[M::mem_process_seqs] Processed 10462 reads in 16.092 CPU sec, 16.092 real sec\r\n",
        "[M::process] read 10450 sequences (10000765 bp)...\r\n"
       ]
      },
      {
       "output_type": "stream",
       "stream": "stdout",
       "text": [
        "[M::mem_process_seqs] Processed 10482 reads in 16.613 CPU sec, 16.610 real sec\r\n"
       ]
      },
      {
       "output_type": "stream",
       "stream": "stdout",
       "text": [
        "[M::process] read 10470 sequences (10002319 bp)...\r\n"
       ]
      },
      {
       "output_type": "stream",
       "stream": "stdout",
       "text": [
        "[M::mem_process_seqs] Processed 10450 reads in 16.313 CPU sec, 16.306 real sec\r\n"
       ]
      },
      {
       "output_type": "stream",
       "stream": "stdout",
       "text": [
        "[M::process] read 10588 sequences (10001208 bp)...\r\n"
       ]
      },
      {
       "output_type": "stream",
       "stream": "stdout",
       "text": [
        "[M::mem_process_seqs] Processed 10470 reads in 15.887 CPU sec, 15.880 real sec\r\n"
       ]
      },
      {
       "output_type": "stream",
       "stream": "stdout",
       "text": [
        "[M::process] read 10432 sequences (10001564 bp)...\r\n"
       ]
      },
      {
       "output_type": "stream",
       "stream": "stdout",
       "text": [
        "[M::mem_process_seqs] Processed 10588 reads in 16.536 CPU sec, 16.529 real sec\r\n",
        "[M::process] read 10480 sequences (10001527 bp)...\r\n"
       ]
      },
      {
       "output_type": "stream",
       "stream": "stdout",
       "text": [
        "[M::mem_process_seqs] Processed 10432 reads in 16.167 CPU sec, 16.160 real sec\r\n"
       ]
      },
      {
       "output_type": "stream",
       "stream": "stdout",
       "text": [
        "[M::process] read 10488 sequences (10000831 bp)...\r\n"
       ]
      },
      {
       "output_type": "stream",
       "stream": "stdout",
       "text": [
        "[M::mem_process_seqs] Processed 10480 reads in 16.087 CPU sec, 16.077 real sec\r\n"
       ]
      },
      {
       "output_type": "stream",
       "stream": "stdout",
       "text": [
        "[M::process] read 10544 sequences (10001205 bp)...\r\n"
       ]
      },
      {
       "output_type": "stream",
       "stream": "stdout",
       "text": [
        "[M::mem_process_seqs] Processed 10488 reads in 15.795 CPU sec, 15.788 real sec\r\n",
        "[M::process] read 10650 sequences (10002036 bp)...\r\n"
       ]
      },
      {
       "output_type": "stream",
       "stream": "stdout",
       "text": [
        "[M::mem_process_seqs] Processed 10544 reads in 16.245 CPU sec, 16.236 real sec\r\n"
       ]
      },
      {
       "output_type": "stream",
       "stream": "stdout",
       "text": [
        "[M::process] read 10390 sequences (10001440 bp)...\r\n"
       ]
      },
      {
       "output_type": "stream",
       "stream": "stdout",
       "text": [
        "[M::mem_process_seqs] Processed 10650 reads in 16.151 CPU sec, 16.144 real sec\r\n",
        "[M::process] read 10428 sequences (10000684 bp)...\r\n"
       ]
      },
      {
       "output_type": "stream",
       "stream": "stdout",
       "text": [
        "[M::mem_process_seqs] Processed 10390 reads in 16.653 CPU sec, 16.643 real sec\r\n"
       ]
      },
      {
       "output_type": "stream",
       "stream": "stdout",
       "text": [
        "[M::process] read 10566 sequences (10002874 bp)...\r\n"
       ]
      },
      {
       "output_type": "stream",
       "stream": "stdout",
       "text": [
        "[M::mem_process_seqs] Processed 10428 reads in 15.624 CPU sec, 15.617 real sec\r\n"
       ]
      },
      {
       "output_type": "stream",
       "stream": "stdout",
       "text": [
        "[M::process] read 10394 sequences (10000127 bp)...\r\n"
       ]
      },
      {
       "output_type": "stream",
       "stream": "stdout",
       "text": [
        "[M::mem_process_seqs] Processed 10566 reads in 15.229 CPU sec, 15.218 real sec\r\n"
       ]
      },
      {
       "output_type": "stream",
       "stream": "stdout",
       "text": [
        "[M::process] read 10540 sequences (10001688 bp)...\r\n"
       ]
      },
      {
       "output_type": "stream",
       "stream": "stdout",
       "text": [
        "[M::mem_process_seqs] Processed 10394 reads in 16.694 CPU sec, 16.688 real sec\r\n"
       ]
      },
      {
       "output_type": "stream",
       "stream": "stdout",
       "text": [
        "[M::process] read 10380 sequences (10000744 bp)...\r\n"
       ]
      },
      {
       "output_type": "stream",
       "stream": "stdout",
       "text": [
        "[M::mem_process_seqs] Processed 10540 reads in 15.953 CPU sec, 15.942 real sec\r\n",
        "[M::process] read 10510 sequences (10000494 bp)...\r\n"
       ]
      },
      {
       "output_type": "stream",
       "stream": "stdout",
       "text": [
        "[M::mem_process_seqs] Processed 10380 reads in 16.299 CPU sec, 16.294 real sec\r\n"
       ]
      },
      {
       "output_type": "stream",
       "stream": "stdout",
       "text": [
        "[M::process] read 10596 sequences (10001121 bp)...\r\n"
       ]
      },
      {
       "output_type": "stream",
       "stream": "stdout",
       "text": [
        "[M::mem_process_seqs] Processed 10510 reads in 16.723 CPU sec, 16.715 real sec\r\n",
        "[M::process] read 10402 sequences (10000353 bp)...\r\n"
       ]
      },
      {
       "output_type": "stream",
       "stream": "stdout",
       "text": [
        "[M::mem_process_seqs] Processed 10596 reads in 16.751 CPU sec, 16.746 real sec\r\n",
        "[M::process] read 10442 sequences (10003079 bp)...\r\n"
       ]
      },
      {
       "output_type": "stream",
       "stream": "stdout",
       "text": [
        "[M::mem_process_seqs] Processed 10402 reads in 16.605 CPU sec, 16.595 real sec\r\n"
       ]
      },
      {
       "output_type": "stream",
       "stream": "stdout",
       "text": [
        "[M::process] read 10542 sequences (10000214 bp)...\r\n"
       ]
      },
      {
       "output_type": "stream",
       "stream": "stdout",
       "text": [
        "[M::mem_process_seqs] Processed 10442 reads in 16.335 CPU sec, 16.329 real sec\r\n",
        "[M::process] read 10412 sequences (10001168 bp)...\r\n"
       ]
      },
      {
       "output_type": "stream",
       "stream": "stdout",
       "text": [
        "[M::mem_process_seqs] Processed 10542 reads in 16.188 CPU sec, 16.177 real sec\r\n"
       ]
      },
      {
       "output_type": "stream",
       "stream": "stdout",
       "text": [
        "[M::process] read 10404 sequences (10000241 bp)...\r\n"
       ]
      },
      {
       "output_type": "stream",
       "stream": "stdout",
       "text": [
        "[M::mem_process_seqs] Processed 10412 reads in 16.451 CPU sec, 16.445 real sec\r\n",
        "[M::process] read 10446 sequences (10000554 bp)...\r\n"
       ]
      },
      {
       "output_type": "stream",
       "stream": "stdout",
       "text": [
        "[M::mem_process_seqs] Processed 10404 reads in 15.884 CPU sec, 15.871 real sec\r\n"
       ]
      },
      {
       "output_type": "stream",
       "stream": "stdout",
       "text": [
        "[M::process] read 10542 sequences (10003040 bp)...\r\n"
       ]
      },
      {
       "output_type": "stream",
       "stream": "stdout",
       "text": [
        "[M::mem_process_seqs] Processed 10446 reads in 16.322 CPU sec, 16.314 real sec\r\n"
       ]
      },
      {
       "output_type": "stream",
       "stream": "stdout",
       "text": [
        "[M::process] read 10508 sequences (10000545 bp)...\r\n"
       ]
      },
      {
       "output_type": "stream",
       "stream": "stdout",
       "text": [
        "[M::mem_process_seqs] Processed 10542 reads in 16.904 CPU sec, 16.896 real sec\r\n"
       ]
      },
      {
       "output_type": "stream",
       "stream": "stdout",
       "text": [
        "[M::process] read 10524 sequences (10003149 bp)...\r\n"
       ]
      },
      {
       "output_type": "stream",
       "stream": "stdout",
       "text": [
        "[M::mem_process_seqs] Processed 10508 reads in 15.994 CPU sec, 15.987 real sec\r\n",
        "[M::process] read 10426 sequences (10000497 bp)...\r\n"
       ]
      },
      {
       "output_type": "stream",
       "stream": "stdout",
       "text": [
        "[M::mem_process_seqs] Processed 10524 reads in 16.467 CPU sec, 16.461 real sec\r\n"
       ]
      },
      {
       "output_type": "stream",
       "stream": "stdout",
       "text": [
        "[M::process] read 10346 sequences (10000563 bp)...\r\n"
       ]
      },
      {
       "output_type": "stream",
       "stream": "stdout",
       "text": [
        "[M::mem_process_seqs] Processed 10426 reads in 16.571 CPU sec, 16.565 real sec\r\n"
       ]
      },
      {
       "output_type": "stream",
       "stream": "stdout",
       "text": [
        "[M::process] read 10358 sequences (10000818 bp)...\r\n"
       ]
      },
      {
       "output_type": "stream",
       "stream": "stdout",
       "text": [
        "[M::mem_process_seqs] Processed 10346 reads in 17.214 CPU sec, 17.206 real sec\r\n"
       ]
      },
      {
       "output_type": "stream",
       "stream": "stdout",
       "text": [
        "[M::process] read 10384 sequences (10000608 bp)...\r\n"
       ]
      },
      {
       "output_type": "stream",
       "stream": "stdout",
       "text": [
        "[M::mem_process_seqs] Processed 10358 reads in 16.096 CPU sec, 16.089 real sec\r\n"
       ]
      },
      {
       "output_type": "stream",
       "stream": "stdout",
       "text": [
        "[M::process] read 10538 sequences (10000811 bp)...\r\n"
       ]
      },
      {
       "output_type": "stream",
       "stream": "stdout",
       "text": [
        "[M::mem_process_seqs] Processed 10384 reads in 15.883 CPU sec, 15.869 real sec\r\n"
       ]
      },
      {
       "output_type": "stream",
       "stream": "stdout",
       "text": [
        "[M::process] read 10484 sequences (10001499 bp)...\r\n"
       ]
      },
      {
       "output_type": "stream",
       "stream": "stdout",
       "text": [
        "[M::mem_process_seqs] Processed 10538 reads in 16.284 CPU sec, 16.274 real sec\r\n"
       ]
      },
      {
       "output_type": "stream",
       "stream": "stdout",
       "text": [
        "[M::process] read 10436 sequences (10000075 bp)...\r\n"
       ]
      },
      {
       "output_type": "stream",
       "stream": "stdout",
       "text": [
        "[M::mem_process_seqs] Processed 10484 reads in 16.165 CPU sec, 16.155 real sec\r\n"
       ]
      },
      {
       "output_type": "stream",
       "stream": "stdout",
       "text": [
        "[M::process] read 10402 sequences (10001574 bp)...\r\n"
       ]
      },
      {
       "output_type": "stream",
       "stream": "stdout",
       "text": [
        "[M::mem_process_seqs] Processed 10436 reads in 16.386 CPU sec, 16.381 real sec\r\n"
       ]
      },
      {
       "output_type": "stream",
       "stream": "stdout",
       "text": [
        "[M::process] read 10544 sequences (10000681 bp)...\r\n"
       ]
      },
      {
       "output_type": "stream",
       "stream": "stdout",
       "text": [
        "[M::mem_process_seqs] Processed 10402 reads in 17.838 CPU sec, 17.832 real sec\r\n"
       ]
      },
      {
       "output_type": "stream",
       "stream": "stdout",
       "text": [
        "[M::process] read 10360 sequences (10002658 bp)...\r\n"
       ]
      },
      {
       "output_type": "stream",
       "stream": "stdout",
       "text": [
        "[M::mem_process_seqs] Processed 10544 reads in 15.003 CPU sec, 14.995 real sec\r\n",
        "[M::process] read 10466 sequences (10003204 bp)...\r\n"
       ]
      },
      {
       "output_type": "stream",
       "stream": "stdout",
       "text": [
        "[M::mem_process_seqs] Processed 10360 reads in 15.939 CPU sec, 15.929 real sec\r\n"
       ]
      },
      {
       "output_type": "stream",
       "stream": "stdout",
       "text": [
        "[M::process] read 10528 sequences (10002286 bp)...\r\n"
       ]
      },
      {
       "output_type": "stream",
       "stream": "stdout",
       "text": [
        "[M::mem_process_seqs] Processed 10466 reads in 15.655 CPU sec, 15.649 real sec\r\n",
        "[M::process] read 10506 sequences (10000374 bp)...\r\n"
       ]
      },
      {
       "output_type": "stream",
       "stream": "stdout",
       "text": [
        "[M::mem_process_seqs] Processed 10528 reads in 15.760 CPU sec, 15.750 real sec\r\n"
       ]
      },
      {
       "output_type": "stream",
       "stream": "stdout",
       "text": [
        "[M::process] read 10450 sequences (10000878 bp)...\r\n"
       ]
      },
      {
       "output_type": "stream",
       "stream": "stdout",
       "text": [
        "[M::mem_process_seqs] Processed 10506 reads in 16.571 CPU sec, 16.565 real sec\r\n"
       ]
      },
      {
       "output_type": "stream",
       "stream": "stdout",
       "text": [
        "[M::process] read 10432 sequences (10000044 bp)...\r\n"
       ]
      },
      {
       "output_type": "stream",
       "stream": "stdout",
       "text": [
        "[M::mem_process_seqs] Processed 10450 reads in 16.075 CPU sec, 16.065 real sec\r\n",
        "[M::process] read 10438 sequences (10000143 bp)...\r\n"
       ]
      },
      {
       "output_type": "stream",
       "stream": "stdout",
       "text": [
        "[M::mem_process_seqs] Processed 10432 reads in 15.820 CPU sec, 15.812 real sec\r\n",
        "[M::process] read 10440 sequences (10000016 bp)...\r\n"
       ]
      },
      {
       "output_type": "stream",
       "stream": "stdout",
       "text": [
        "[M::mem_process_seqs] Processed 10438 reads in 16.801 CPU sec, 16.794 real sec\r\n"
       ]
      },
      {
       "output_type": "stream",
       "stream": "stdout",
       "text": [
        "[M::process] read 10400 sequences (10000192 bp)...\r\n"
       ]
      },
      {
       "output_type": "stream",
       "stream": "stdout",
       "text": [
        "[M::mem_process_seqs] Processed 10440 reads in 15.541 CPU sec, 15.532 real sec\r\n",
        "[M::process] read 10618 sequences (10001031 bp)...\r\n"
       ]
      },
      {
       "output_type": "stream",
       "stream": "stdout",
       "text": [
        "[M::mem_process_seqs] Processed 10400 reads in 16.327 CPU sec, 16.316 real sec\r\n",
        "[M::process] read 10522 sequences (10000266 bp)...\r\n"
       ]
      },
      {
       "output_type": "stream",
       "stream": "stdout",
       "text": [
        "[M::mem_process_seqs] Processed 10618 reads in 16.461 CPU sec, 16.457 real sec\r\n"
       ]
      },
      {
       "output_type": "stream",
       "stream": "stdout",
       "text": [
        "[M::process] read 377 sequences (342590 bp)...\r\n"
       ]
      },
      {
       "output_type": "stream",
       "stream": "stdout",
       "text": [
        "[M::mem_process_seqs] Processed 10522 reads in 16.286 CPU sec, 16.298 real sec\r\n"
       ]
      },
      {
       "output_type": "stream",
       "stream": "stdout",
       "text": [
        "[M::mem_process_seqs] Processed 377 reads in 0.551 CPU sec, 0.539 real sec\r\n"
       ]
      },
      {
       "output_type": "stream",
       "stream": "stdout",
       "text": [
        "[main] Version: 0.7.12-r1039\r\n",
        "[main] CMD: bwa mem outputs/reference/galGal4.fa outputs/msu/latest.fasta\r\n",
        "[main] Real time: 806.363 sec; CPU: 794.331 sec\r\n",
        "samtools import outputs/reference/galGal4.fa.fai outputs/msu/latest.fasta.sam.galGal4 outputs/msu/galGal4.latest.bam\r\n"
       ]
      },
      {
       "output_type": "stream",
       "stream": "stdout",
       "text": [
        "[samopen] SAM header is present: 15932 sequences.\r\n"
       ]
      },
      {
       "output_type": "stream",
       "stream": "stdout",
       "text": [
        "samtools sort outputs/msu/galGal4.latest.bam outputs/msu/galGal4.latest.sorted \r\n"
       ]
      },
      {
       "output_type": "stream",
       "stream": "stdout",
       "text": [
        "[bam_sort_core] merging from 2 files...\r\n"
       ]
      },
      {
       "output_type": "stream",
       "stream": "stdout",
       "text": [
        "samtools index outputs/msu/galGal4.latest.sorted.bam\r\n"
       ]
      }
     ],
     "prompt_number": 3
    },
    {
     "cell_type": "heading",
     "level": 2,
     "metadata": {},
     "source": [
      "Counting unmapped reads"
     ]
    },
    {
     "cell_type": "markdown",
     "metadata": {},
     "source": [
      "There are 510,070 reads in the input files.\n",
      "\n",
      "There are 661 (0.13%) **unmapped reads** to galGal4.\n",
      "\n",
      "Reference for using samtools to count reads:\n",
      "  - http://picard.sourceforge.net/explain-flags.html\n",
      "  - http://left.subtree.org/2012/04/13/counting-the-number-of-reads-in-a-bam-file/"
     ]
    },
    {
     "cell_type": "heading",
     "level": 3,
     "metadata": {},
     "source": [
      "galGal4"
     ]
    },
    {
     "cell_type": "code",
     "collapsed": false,
     "input": [
      "print \"Total: \",\n",
      "! samtools view -c ../outputs/msu/galGal4.latest.sorted.bam"
     ],
     "language": "python",
     "metadata": {},
     "outputs": [
      {
       "output_type": "stream",
       "stream": "stdout",
       "text": [
        "Total: "
       ]
      },
      {
       "output_type": "stream",
       "stream": "stdout",
       "text": [
        "510070\r\n"
       ]
      },
      {
       "output_type": "stream",
       "stream": "stdout",
       "text": [
        "\n"
       ]
      }
     ],
     "prompt_number": 5
    },
    {
     "cell_type": "code",
     "collapsed": false,
     "input": [
      "print \"Unmapped: \",\n",
      "! samtools view -c -f 4 ../outputs/msu/galGal4.latest.sorted.bam"
     ],
     "language": "python",
     "metadata": {},
     "outputs": [
      {
       "output_type": "stream",
       "stream": "stdout",
       "text": [
        "Unmapped: "
       ]
      },
      {
       "output_type": "stream",
       "stream": "stdout",
       "text": [
        "661\r\n"
       ]
      },
      {
       "output_type": "stream",
       "stream": "stdout",
       "text": [
        "\n"
       ]
      }
     ],
     "prompt_number": 4
    },
    {
     "cell_type": "code",
     "collapsed": false,
     "input": [
      "661./510070"
     ],
     "language": "python",
     "metadata": {},
     "outputs": [
      {
       "metadata": {},
       "output_type": "pyout",
       "prompt_number": 6,
       "text": [
        "0.0012959005626678691"
       ]
      }
     ],
     "prompt_number": 6
    },
    {
     "cell_type": "heading",
     "level": 1,
     "metadata": {},
     "source": [
      "Checking unmapped reads"
     ]
    },
    {
     "cell_type": "code",
     "collapsed": false,
     "input": [
      "! cd .. && make outputs/msu/galGal4.latest.unmapped_reads"
     ],
     "language": "python",
     "metadata": {},
     "outputs": [
      {
       "output_type": "stream",
       "stream": "stdout",
       "text": [
        "scripts/extract_reads.sh outputs/msu/galGal4.latest.sorted.bam > outputs/msu/galGal4.latest.unmapped_reads\r\n"
       ]
      }
     ],
     "prompt_number": 8
    },
    {
     "cell_type": "code",
     "collapsed": false,
     "input": [
      "from random import sample"
     ],
     "language": "python",
     "metadata": {},
     "outputs": [],
     "prompt_number": 10
    },
    {
     "cell_type": "code",
     "collapsed": false,
     "input": [
      "seqs = [line.strip() for line in open('../outputs/msu/galGal4.latest.unmapped_reads').readlines() \n",
      "                     if not line.startswith('>')]\n",
      "sample(seqs, 5)"
     ],
     "language": "python",
     "metadata": {},
     "outputs": [
      {
       "metadata": {},
       "output_type": "pyout",
       "prompt_number": 13,
       "text": [
        "['CAATATTCAGTGTGCTGTTCCATGTGCACTGTTCCATGTTCACTATTCCATGTTCCCTGTTCCGTGTGCACTATTCCGTGTTCGCTATTCCATGTTCACTATTCCGTGTGCACTATTTCACATGTGCTATTCCGTGTGCTGTTGCATGTGCACTGTTCCATGTTCACCATTGCATGTTCCCTATTCCGTGTTCGCTATTCCATGTGCTGTTCCATGTGCACTGTTCCATGTTCACTATTCCATGTGCACTATTCCGTGTGCTATTCCATGTGCACTATTCCATGTTCACTATTCCATGTGCTGTTCCATGTGCACTATTCCATGTGCACTATTCCGTGTGCTGTTCCATGTGCACTGTTCCATGTTCACTATTCCATGTTCACTATTCCGTGTGCACTATTCCGTGTTCACTATTCCATGTTCACTATTCCGTGTGCACTATTTCACATG',\n",
        " 'CTTTAATTTTGCTCATGTAATTTATGAGTGTCTTCTGCTTGATTCCTCTGCTGGCCAGGATTTTTTCGTAGCGATCAAGCCATGAATGTAACGTAACGGAATTATCACTGTTGATTCTCGCTGTCAGAGGCTTGTGTTTGTGTCCTGAAAATAACTCAATGTTGGTCTGTATAGCTTCAGTGATTGCGATTCGCCTGTCTCTGCCTAATCCAAACTCTTTACCCGTCCTTGGGTCCCTGTAGCAGTAATATCCATTGTTTCTTATATAAAGGTTAGGGGGTAAATCCCGGCGCTCATGACTTCGCCTTCTTCCCATTTCTGATCCTCTTCAAAAGGCCACCTGTTACTGGTCGATTTAAGTCAACCTTTACCGCTGATTCGTGGATGGCCC',\n",
        " 'CTTACCTTTTATATCAGGGTGATGCTGTCTTTCATCTGGAGAGAAGATTCTCCTTGTGAGGTGTTTTGTGTAGAGGCACGTGCTTGTGTTTATGTTATTTTTGTTTCTGGTGCAGTTAGGTTATGGCTTTTCAGACCTTCTTCTGTTTCTTCTCCAGCATTACTCCTATATTCTCATGGTGCTGGCAGTGCTTCTCGGTTGGCCGTGTGTACCTTCACATAACACTAAAGGCGCAGAAGCGTTTTTTTCTAAGGCAAACCAGTGTGTATCCTGGAGCGTTTCTAATGTGGTTGTTGAGAACAATTTTGAAGGAGCCTGGCTTCTGGTCTGTGGCATGGGCTGCTGAGAAGGGTGGAAATTGTGTTTGAGCTTAATGGCATGGAAAGGAAAAATGTGGGAGAATGGTTTTCAATATGAGGGAGTTATAGAGTAGAGTTTGCATAGTTT',\n",
        " 'TGTCGAACAGGGGGATGATGCGTGGCACAAATTACGGCTCGGCGTCATCACCGCTTCAGAAGTTCACAACGCGATAGCAAAACCCCGCTCCGGAAAGAAGTGGCCTGACATGAAAATGTCCTACTTCCACACCCTGCTTGCTGAGGTTTGCACCGGTGTGGCTCCGGAAGTTAACGCTAAAGCACTGGCCTGGGGAAAACGGTACGAGAACGACGCCAGAACCCTGTTTGAATTCACTTCCGGCGTGAATGTTACTGAATCCCCGATCATCTATCGCGACGAAAGTATGCGTACCGCCTGCTCTCCCGATGGTTTATGCAGTGACGGCAACGGCCTTGAACTGAAATGCCCGTTTACCTCCCGGGATTTCATGAGGTTCCGGCTCGGTGGTTTCGAGGCCATAAAGTCAGCTTACATGGCCCAGGTGCAGTACAGCATGTGGGTGACGCGAAAAAATGCCTGGT',\n",
        " 'GTCAGCTCTGGACAGGTCTGGGGGGCCCACACAAGAAATATTTTTGAAGATGGGCACCTCTGGCAAAGATCAAACGCCTAATATAGCTAGGTGCCCTTGTCTGAGCTTATGAGAAGCCCACAAGCTGAGTGTGGGTCCATCTGGAGCTGGTCAGGGCCATTGGGCTCCTTCAGGGCACCTAGAGCTCTGTATGTAATATAAAAATGAATGTGAAGCCCACCTGTACCTAAAATCGTAAGAAATTCTAGGCCAATAAGAAGAAATGAATAGAAAAAGTAAAAATGAGAAATATTACTGTAATTGAAGTACAATGTCTACTCAGTGCACCTGGCTGGAATTACAGGAATTACTGTTACTGATGCCAAGGAACAGTGGAAAAGATTTTGACTACTGTGCTCTGTATTTGTAATAAGAATGTGCAATCATCTTGTGATAGATAGTAGGTCTTGTTCAGCAGTGTTTATGAAATGGCTGGGTTTTGACCACTCAGTTTGAGGGCTAAACACAGAAATACTCCTGAGTTCCAGAGAAATATTATGTACATACTCGGTCACTAGTTTAGAAAGTGAATAAGAAAAGAAACACTGTCAGCTTACAGCTGGATGCTTAAAATTCAAGAAAACTTTAAAAATAAATTTTCATATAAGCTAGCAATCAAAAAATGGGGTCCAGATGGGATCTCAGACGCCACTTATAACATTCACAAGGGTGAGAGGTCCTGTCAAATCTGAATACTATCTAGCAGAAGTCACGGCATTACAAGTCTCACAAGGACAGAAAGTAAATTTAAGCTGACAAATAGATTTGATGTCAGAGGGAAGAGATTTTAAAACAAAACATGAGAATACAACCAGGAAAAATTAACAAAAAAAAAAATTGCAAACTACATCTGTAGAAATGT']"
       ]
      }
     ],
     "prompt_number": 13
    },
    {
     "cell_type": "heading",
     "level": 2,
     "metadata": {},
     "source": [
      "UCSC Genome Browser BLAT Results"
     ]
    },
    {
     "cell_type": "markdown",
     "metadata": {},
     "source": [
      "https://genome.ucsc.edu/cgi-bin/hgBlat?command=start\n",
      "\n",
      "All matches are very small (< 7%) compared to the query size."
     ]
    },
    {
     "cell_type": "heading",
     "level": 2,
     "metadata": {},
     "source": [
      "ENA exonerate results"
     ]
    },
    {
     "cell_type": "markdown",
     "metadata": {},
     "source": [
      "Then I tried Jared's suggestion and use the same sequences in\n",
      "http://www.ebi.ac.uk/ena/\n",
      "\n",
      "1) No match.\n",
      "\n",
      "2) E.coli and gadus morhua\n",
      "\n",
      "3) No match. \n",
      "\n",
      "4) E.coli and taeniopygia_guttata\n",
      "\n",
      "5) 86% identity to Meleagris gallopavo"
     ]
    },
    {
     "cell_type": "heading",
     "level": 1,
     "metadata": {},
     "source": [
      "k-mer assembly stats"
     ]
    },
    {
     "cell_type": "code",
     "collapsed": false,
     "input": [
      "!python ~/khmer/sandbox/assemstats.py 100 ../outputs/msu/latest.fasta > ../outputs/msu/assemstats_output_latest"
     ],
     "language": "python",
     "metadata": {},
     "outputs": [],
     "prompt_number": 14
    },
    {
     "cell_type": "code",
     "collapsed": false,
     "input": [
      "import pandas as pd\n",
      "pd.read_table(\"../outputs/msu/assemstats_output_latest\", sep=\" \")"
     ],
     "language": "python",
     "metadata": {},
     "outputs": [
      {
       "html": [
        "<div style=\"max-height:1000px;max-width:1500px;overflow:auto;\">\n",
        "<table border=\"1\" class=\"dataframe\">\n",
        "  <thead>\n",
        "    <tr style=\"text-align: right;\">\n",
        "      <th></th>\n",
        "      <th>filename</th>\n",
        "      <th>sum</th>\n",
        "      <th>n</th>\n",
        "      <th>trim_n</th>\n",
        "      <th>min</th>\n",
        "      <th>med</th>\n",
        "      <th>mean</th>\n",
        "      <th>max</th>\n",
        "      <th>n50</th>\n",
        "      <th>n50_len</th>\n",
        "      <th>n90</th>\n",
        "      <th>n90_len</th>\n",
        "    </tr>\n",
        "  </thead>\n",
        "  <tbody>\n",
        "    <tr>\n",
        "      <th>0</th>\n",
        "      <td> ../outputs/msu/latest.fasta</td>\n",
        "      <td> 470397190</td>\n",
        "      <td> 492527</td>\n",
        "      <td> 492526</td>\n",
        "      <td> 128</td>\n",
        "      <td> 639</td>\n",
        "      <td> 955</td>\n",
        "      <td> 6607</td>\n",
        "      <td> 112009</td>\n",
        "      <td> 1273</td>\n",
        "      <td> 377893</td>\n",
        "      <td> 459</td>\n",
        "    </tr>\n",
        "  </tbody>\n",
        "</table>\n",
        "</div>"
       ],
       "metadata": {},
       "output_type": "pyout",
       "prompt_number": 15,
       "text": [
        "                      filename        sum       n  trim_n  min  med  mean  \\\n",
        "0  ../outputs/msu/latest.fasta  470397190  492527  492526  128  639   955   \n",
        "\n",
        "    max     n50  n50_len     n90  n90_len  \n",
        "0  6607  112009     1273  377893      459  "
       ]
      }
     ],
     "prompt_number": 15
    },
    {
     "cell_type": "code",
     "collapsed": false,
     "input": [
      "!cat ../outputs/msu/assemstats_output"
     ],
     "language": "python",
     "metadata": {},
     "outputs": [
      {
       "output_type": "stream",
       "stream": "stdout",
       "text": [
        "filename sum n trim_n min med mean max n50 n50_len n90 n90_len\r\n",
        "../outputs/msu/msu.fasta 397695267 426661 426657 126 637 932 6498 99131 1220 327577 455\r\n"
       ]
      }
     ],
     "prompt_number": 16
    },
    {
     "cell_type": "code",
     "collapsed": false,
     "input": [],
     "language": "python",
     "metadata": {},
     "outputs": []
    }
   ],
   "metadata": {}
  }
 ]
}