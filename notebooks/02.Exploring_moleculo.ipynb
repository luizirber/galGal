{
 "metadata": {
  "name": ""
 },
 "nbformat": 3,
 "nbformat_minor": 0,
 "worksheets": [
  {
   "cells": [
    {
     "cell_type": "raw",
     "metadata": {},
     "source": [
      "%pylab inline"
     ]
    },
    {
     "cell_type": "code",
     "collapsed": false,
     "input": [
      "cd galGal4/"
     ],
     "language": "python",
     "metadata": {},
     "outputs": [
      {
       "output_type": "stream",
       "stream": "stdout",
       "text": [
        "/Users/luizirber/biodata/galGal4\n"
       ]
      }
     ],
     "prompt_number": 46
    },
    {
     "cell_type": "code",
     "collapsed": false,
     "input": [
      "!wget -c ftp://hgdownload.cse.ucsc.edu/goldenPath/galGal4/bigZips/galGal4.fa.masked.gz"
     ],
     "language": "python",
     "metadata": {},
     "outputs": [
      {
       "output_type": "stream",
       "stream": "stdout",
       "text": [
        "--2014-01-17 12:52:00--  ftp://hgdownload.cse.ucsc.edu/goldenPath/galGal4/bigZips/galGal4.fa.masked.gz\r\n",
        "           => \u2018galGal4.fa.masked.gz\u2019\r\n",
        "Resolving hgdownload.cse.ucsc.edu... "
       ]
      },
      {
       "output_type": "stream",
       "stream": "stdout",
       "text": [
        "128.114.119.163\r\n",
        "Connecting to hgdownload.cse.ucsc.edu|128.114.119.163|:21... "
       ]
      },
      {
       "output_type": "stream",
       "stream": "stdout",
       "text": [
        "connected.\r\n",
        "Logging in as anonymous ... "
       ]
      },
      {
       "output_type": "stream",
       "stream": "stdout",
       "text": [
        "Logged in!\r\n",
        "==> SYST ... "
       ]
      },
      {
       "output_type": "stream",
       "stream": "stdout",
       "text": [
        "done.    ==> PWD ... "
       ]
      },
      {
       "output_type": "stream",
       "stream": "stdout",
       "text": [
        "done.\r\n",
        "==> TYPE I ... "
       ]
      },
      {
       "output_type": "stream",
       "stream": "stdout",
       "text": [
        "done.  ==> CWD (1) /goldenPath/galGal4/bigZips ... "
       ]
      },
      {
       "output_type": "stream",
       "stream": "stdout",
       "text": [
        "done.\r\n",
        "==> SIZE galGal4.fa.masked.gz ... "
       ]
      },
      {
       "output_type": "stream",
       "stream": "stdout",
       "text": [
        "286066796\r\n",
        "==> PASV ... "
       ]
      },
      {
       "output_type": "stream",
       "stream": "stdout",
       "text": [
        "done.    ==> RETR galGal4.fa.masked.gz ... "
       ]
      },
      {
       "output_type": "stream",
       "stream": "stdout",
       "text": [
        "done.\r\n",
        "Length: 286066796 (273M) (unauthoritative)\r\n",
        "\r\n",
        "\r",
        " 0% [                                       ] 0           --.-K/s              "
       ]
      },
      {
       "output_type": "stream",
       "stream": "stdout",
       "text": [
        "\r",
        " 0% [                                       ] 31,856       145KB/s             "
       ]
      },
      {
       "output_type": "stream",
       "stream": "stdout",
       "text": [
        "\r",
        " 0% [                                       ] 102,808      239KB/s             "
       ]
      },
      {
       "output_type": "stream",
       "stream": "stdout",
       "text": [
        "\r",
        " 0% [                                       ] 278,016      434KB/s             "
       ]
      },
      {
       "output_type": "stream",
       "stream": "stdout",
       "text": [
        "\r",
        " 0% [                                       ] 538,656      632KB/s             "
       ]
      },
      {
       "output_type": "stream",
       "stream": "stdout",
       "text": [
        "\r",
        " 0% [                                       ] 799,296      750KB/s             "
       ]
      },
      {
       "output_type": "stream",
       "stream": "stdout",
       "text": [
        "\r",
        " 0% [                                       ] 1,125,096    878KB/s             "
       ]
      },
      {
       "output_type": "stream",
       "stream": "stdout",
       "text": [
        "\r",
        " 0% [                                       ] 1,522,800   1015KB/s             "
       ]
      },
      {
       "output_type": "stream",
       "stream": "stdout",
       "text": [
        "\r",
        " 0% [                                       ] 1,935,976   1.10MB/s             "
       ]
      },
      {
       "output_type": "stream",
       "stream": "stdout",
       "text": [
        "\r",
        " 0% [                                       ] 2,404,632   1.22MB/s             "
       ]
      },
      {
       "output_type": "stream",
       "stream": "stdout",
       "text": [
        "\r",
        " 1% [                                       ] 2,890,208   1.32MB/s             "
       ]
      },
      {
       "output_type": "stream",
       "stream": "stdout",
       "text": [
        "\r",
        " 1% [                                       ] 3,407,144   1.41MB/s             "
       ]
      },
      {
       "output_type": "stream",
       "stream": "stdout",
       "text": [
        "\r",
        " 1% [                                       ] 3,945,800   1.50MB/s             "
       ]
      },
      {
       "output_type": "stream",
       "stream": "stdout",
       "text": [
        "\r",
        " 1% [                                       ] 4,385,992   1.54MB/s             "
       ]
      },
      {
       "output_type": "stream",
       "stream": "stdout",
       "text": [
        "\r",
        " 1% [                                       ] 4,969,536   1.62MB/s             "
       ]
      },
      {
       "output_type": "stream",
       "stream": "stdout",
       "text": [
        "\r",
        " 1% [                                       ] 5,624,032   1.71MB/s  eta 2m 37s "
       ]
      },
      {
       "output_type": "stream",
       "stream": "stdout",
       "text": [
        "\r",
        " 2% [                                       ] 6,339,344   1.80MB/s  eta 2m 37s "
       ]
      },
      {
       "output_type": "stream",
       "stream": "stdout",
       "text": [
        "\r",
        " 2% [                                       ] 7,124,160   1.90MB/s  eta 2m 37s "
       ]
      },
      {
       "output_type": "stream",
       "stream": "stdout",
       "text": [
        "\r",
        " 2% [>                                      ] 7,968,344   2.01MB/s  eta 2m 37s "
       ]
      },
      {
       "output_type": "stream",
       "stream": "stdout",
       "text": [
        "\r",
        " 2% [>                                      ] 8,401,752   1.97MB/s  eta 2m 37s "
       ]
      },
      {
       "output_type": "stream",
       "stream": "stdout",
       "text": [
        "\r",
        " 3% [>                                      ] 9,400,416   2.19MB/s  eta 2m 6s  "
       ]
      },
      {
       "output_type": "stream",
       "stream": "stdout",
       "text": [
        "\r",
        " 3% [>                                      ] 10,369,128  2.39MB/s  eta 2m 6s  "
       ]
      },
      {
       "output_type": "stream",
       "stream": "stdout",
       "text": [
        "\r",
        " 3% [>                                      ] 11,355,216  2.57MB/s  eta 2m 6s  "
       ]
      },
      {
       "output_type": "stream",
       "stream": "stdout",
       "text": [
        "\r",
        " 4% [>                                      ] 11,895,776  2.70MB/s  eta 2m 6s  "
       ]
      },
      {
       "output_type": "stream",
       "stream": "stdout",
       "text": [
        "\r",
        " 4% [>                                      ] 12,813,352  2.78MB/s  eta 2m 6s  "
       ]
      },
      {
       "output_type": "stream",
       "stream": "stdout",
       "text": [
        "\r",
        " 4% [>                                      ] 13,000,144  2.72MB/s  eta 1m 55s "
       ]
      },
      {
       "output_type": "stream",
       "stream": "stdout",
       "text": [
        "\r",
        " 4% [>                                      ] 13,015,576  2.62MB/s  eta 1m 55s "
       ]
      },
      {
       "output_type": "stream",
       "stream": "stdout",
       "text": [
        "\r",
        " 4% [>                                      ] 13,374,680  2.60MB/s  eta 1m 55s "
       ]
      },
      {
       "output_type": "stream",
       "stream": "stdout",
       "text": [
        "\r",
        " 4% [>                                      ] 13,411,376  2.49MB/s  eta 1m 55s "
       ]
      },
      {
       "output_type": "stream",
       "stream": "stdout",
       "text": [
        "\r",
        " 4% [>                                      ] 13,488,120  2.39MB/s  eta 1m 55s "
       ]
      },
      {
       "output_type": "stream",
       "stream": "stdout",
       "text": [
        "\r",
        " 4% [>                                      ] 13,676,360  2.31MB/s  eta 2m 10s "
       ]
      },
      {
       "output_type": "stream",
       "stream": "stdout",
       "text": [
        "\r",
        " 4% [>                                      ] 14,091,936  2.31MB/s  eta 2m 10s "
       ]
      },
      {
       "output_type": "stream",
       "stream": "stdout",
       "text": [
        "\r",
        " 5% [=>                                     ] 14,743,536  2.33MB/s  eta 2m 10s "
       ]
      },
      {
       "output_type": "stream",
       "stream": "stdout",
       "text": [
        "\r",
        " 5% [=>                                     ] 15,460,296  2.34MB/s  eta 2m 10s "
       ]
      },
      {
       "output_type": "stream",
       "stream": "stdout",
       "text": [
        "\r",
        " 5% [=>                                     ] 16,243,664  2.30MB/s  eta 2m 10s "
       ]
      },
      {
       "output_type": "stream",
       "stream": "stdout",
       "text": [
        "\r",
        " 5% [=>                                     ] 17,092,192  2.26MB/s  eta 1m 59s "
       ]
      },
      {
       "output_type": "stream",
       "stream": "stdout",
       "text": [
        "\r",
        " 6% [=>                                     ] 18,005,880  2.36MB/s  eta 1m 59s "
       ]
      },
      {
       "output_type": "stream",
       "stream": "stdout",
       "text": [
        "\r",
        " 6% [=>                                     ] 18,920,520  2.46MB/s  eta 1m 59s "
       ]
      },
      {
       "output_type": "stream",
       "stream": "stdout",
       "text": [
        "\r",
        " 6% [=>                                     ] 19,892,624  2.44MB/s  eta 1m 59s "
       ]
      },
      {
       "output_type": "stream",
       "stream": "stdout",
       "text": [
        "\r",
        " 7% [=>                                     ] 20,875,320  2.53MB/s  eta 1m 59s "
       ]
      },
      {
       "output_type": "stream",
       "stream": "stdout",
       "text": [
        "\r",
        " 7% [=>                                     ] 21,799,640  2.59MB/s  eta 1m 44s "
       ]
      },
      {
       "output_type": "stream",
       "stream": "stdout",
       "text": [
        "\r",
        " 7% [==>                                    ] 22,801,160  2.68MB/s  eta 1m 44s "
       ]
      },
      {
       "output_type": "stream",
       "stream": "stdout",
       "text": [
        "\r",
        " 8% [==>                                    ] 23,737,064  2.89MB/s  eta 1m 44s "
       ]
      },
      {
       "output_type": "stream",
       "stream": "stdout",
       "text": [
        "\r",
        " 8% [==>                                    ] 24,776,728  3.18MB/s  eta 1m 44s "
       ]
      },
      {
       "output_type": "stream",
       "stream": "stdout",
       "text": [
        "\r",
        " 8% [==>                                    ] 25,642,136  3.52MB/s  eta 1m 44s "
       ]
      },
      {
       "output_type": "stream",
       "stream": "stdout",
       "text": [
        "\r",
        " 9% [==>                                    ] 26,535,552  3.76MB/s  eta 94s    "
       ]
      },
      {
       "output_type": "stream",
       "stream": "stdout",
       "text": [
        "\r",
        " 9% [==>                                    ] 27,449,736  3.97MB/s  eta 94s    "
       ]
      },
      {
       "output_type": "stream",
       "stream": "stdout",
       "text": [
        "\r",
        " 9% [==>                                    ] 28,361,976  4.16MB/s  eta 94s    "
       ]
      },
      {
       "output_type": "stream",
       "stream": "stdout",
       "text": [
        "\r",
        "10% [==>                                    ] 29,299,784  4.23MB/s  eta 94s    "
       ]
      },
      {
       "output_type": "stream",
       "stream": "stdout",
       "text": [
        "\r",
        "10% [===>                                   ] 30,258,360  4.26MB/s  eta 94s    "
       ]
      },
      {
       "output_type": "stream",
       "stream": "stdout",
       "text": [
        "\r",
        "10% [===>                                   ] 31,230,464  4.35MB/s  eta 87s    "
       ]
      },
      {
       "output_type": "stream",
       "stream": "stdout",
       "text": [
        "\r",
        "11% [===>                                   ] 32,273,024  4.39MB/s  eta 87s    "
       ]
      },
      {
       "output_type": "stream",
       "stream": "stdout",
       "text": [
        "\r",
        "11% [===>                                   ] 33,213,728  4.39MB/s  eta 87s    "
       ]
      },
      {
       "output_type": "stream",
       "stream": "stdout",
       "text": [
        "\r",
        "11% [===>                                   ] 34,121,624  4.40MB/s  eta 87s    "
       ]
      },
      {
       "output_type": "stream",
       "stream": "stdout",
       "text": [
        "\r",
        "12% [===>                                   ] 35,047,392  4.41MB/s  eta 87s    "
       ]
      },
      {
       "output_type": "stream",
       "stream": "stdout",
       "text": [
        "\r",
        "12% [===>                                   ] 35,935,968  4.39MB/s  eta 81s    "
       ]
      },
      {
       "output_type": "stream",
       "stream": "stdout",
       "text": [
        "\r",
        "12% [====>                                  ] 36,893,592  4.41MB/s  eta 81s    "
       ]
      },
      {
       "output_type": "stream",
       "stream": "stdout",
       "text": [
        "\r",
        "13% [====>                                  ] 37,830,448  4.39MB/s  eta 81s    "
       ]
      },
      {
       "output_type": "stream",
       "stream": "stdout",
       "text": [
        "\r",
        "13% [====>                                  ] 38,786,128  4.41MB/s  eta 81s    "
       ]
      },
      {
       "output_type": "stream",
       "stream": "stdout",
       "text": [
        "\r",
        "13% [====>                                  ] 39,702,216  4.39MB/s  eta 81s    "
       ]
      },
      {
       "output_type": "stream",
       "stream": "stdout",
       "text": [
        "\r",
        "14% [====>                                  ] 40,628,936  4.35MB/s  eta 77s    "
       ]
      },
      {
       "output_type": "stream",
       "stream": "stdout",
       "text": [
        "\r",
        "14% [====>                                  ] 41,132,840  4.18MB/s  eta 77s    "
       ]
      },
      {
       "output_type": "stream",
       "stream": "stdout",
       "text": [
        "\r",
        "14% [====>                                  ] 41,567,736  4.05MB/s  eta 77s    "
       ]
      },
      {
       "output_type": "stream",
       "stream": "stdout",
       "text": [
        "\r",
        "14% [====>                                  ] 41,650,272  3.81MB/s  eta 77s    "
       ]
      },
      {
       "output_type": "stream",
       "stream": "stdout",
       "text": [
        "\r",
        "14% [====>                                  ] 41,661,856  3.57MB/s  eta 77s    "
       ]
      },
      {
       "output_type": "stream",
       "stream": "stdout",
       "text": [
        "\r",
        "14% [====>                                  ] 41,687,920  3.32MB/s  eta 81s    "
       ]
      },
      {
       "output_type": "stream",
       "stream": "stdout",
       "text": [
        "\r",
        "14% [====>                                  ] 41,747,288  3.11MB/s  eta 81s    "
       ]
      },
      {
       "output_type": "stream",
       "stream": "stdout",
       "text": [
        "\r",
        "14% [====>                                  ] 41,883,400  2.89MB/s  eta 81s    "
       ]
      },
      {
       "output_type": "stream",
       "stream": "stdout",
       "text": [
        "\r",
        "14% [====>                                  ] 42,175,896  2.74MB/s  eta 81s    "
       ]
      },
      {
       "output_type": "stream",
       "stream": "stdout",
       "text": [
        "\r",
        "14% [====>                                  ] 42,484,776  2.55MB/s  eta 81s    "
       ]
      },
      {
       "output_type": "stream",
       "stream": "stdout",
       "text": [
        "\r",
        "15% [====>                                  ] 43,355,520  2.54MB/s  eta 83s    "
       ]
      },
      {
       "output_type": "stream",
       "stream": "stdout",
       "text": [
        "\r",
        "15% [====>                                  ] 43,594,360  2.15MB/s  eta 83s    "
       ]
      },
      {
       "output_type": "stream",
       "stream": "stdout",
       "text": [
        "\r",
        "15% [=====>                                 ] 44,239,296  2.10MB/s  eta 83s    "
       ]
      },
      {
       "output_type": "stream",
       "stream": "stdout",
       "text": [
        "\r",
        "15% [=====>                                 ] 44,814,152  2.04MB/s  eta 83s    "
       ]
      },
      {
       "output_type": "stream",
       "stream": "stdout",
       "text": [
        "\r",
        "15% [=====>                                 ] 45,193,528  1.92MB/s  eta 85s    "
       ]
      },
      {
       "output_type": "stream",
       "stream": "stdout",
       "text": [
        "\r",
        "15% [=====>                                 ] 45,597,520  1.84MB/s  eta 85s    "
       ]
      },
      {
       "output_type": "stream",
       "stream": "stdout",
       "text": [
        "\r",
        "16% [=====>                                 ] 45,975,448  1.63MB/s  eta 85s    "
       ]
      },
      {
       "output_type": "stream",
       "stream": "stdout",
       "text": [
        "\r",
        "16% [=====>                                 ] 46,376,544  1.52MB/s  eta 85s    "
       ]
      },
      {
       "output_type": "stream",
       "stream": "stdout",
       "text": [
        "\r",
        "16% [=====>                                 ] 46,802,256  1.42MB/s  eta 85s    "
       ]
      },
      {
       "output_type": "stream",
       "stream": "stdout",
       "text": [
        "\r",
        "16% [=====>                                 ] 47,194,664  1.42MB/s  eta 86s    "
       ]
      },
      {
       "output_type": "stream",
       "stream": "stdout",
       "text": [
        "\r",
        "16% [=====>                                 ] 47,584,176  1.41MB/s  eta 86s    "
       ]
      },
      {
       "output_type": "stream",
       "stream": "stdout",
       "text": [
        "\r",
        "16% [=====>                                 ] 48,009,888  1.48MB/s  eta 86s    "
       ]
      },
      {
       "output_type": "stream",
       "stream": "stdout",
       "text": [
        "\r",
        "16% [=====>                                 ] 48,438,000  1.58MB/s  eta 86s    "
       ]
      },
      {
       "output_type": "stream",
       "stream": "stdout",
       "text": [
        "\r",
        "17% [=====>                                 ] 48,891,720  1.68MB/s  eta 86s    "
       ]
      },
      {
       "output_type": "stream",
       "stream": "stdout",
       "text": [
        "\r",
        "17% [=====>                                 ] 49,282,680  1.82MB/s  eta 87s    "
       ]
      },
      {
       "output_type": "stream",
       "stream": "stdout",
       "text": [
        "\r",
        "17% [=====>                                 ] 49,740,248  1.86MB/s  eta 87s    "
       ]
      },
      {
       "output_type": "stream",
       "stream": "stdout",
       "text": [
        "\r",
        "17% [=====>                                 ] 50,196,368  1.92MB/s  eta 87s    "
       ]
      },
      {
       "output_type": "stream",
       "stream": "stdout",
       "text": [
        "\r",
        "17% [=====>                                 ] 50,594,568  1.81MB/s  eta 87s    "
       ]
      },
      {
       "output_type": "stream",
       "stream": "stdout",
       "text": [
        "\r",
        "17% [=====>                                 ] 51,037,656  1.99MB/s  eta 87s    "
       ]
      },
      {
       "output_type": "stream",
       "stream": "stdout",
       "text": [
        "\r",
        "17% [======>                                ] 51,428,616  1.93MB/s  eta 87s    "
       ]
      },
      {
       "output_type": "stream",
       "stream": "stdout",
       "text": [
        "\r",
        "18% [======>                                ] 51,872,656  1.88MB/s  eta 87s    "
       ]
      },
      {
       "output_type": "stream",
       "stream": "stdout",
       "text": [
        "\r",
        "18% [======>                                ] 52,277,144  1.90MB/s  eta 87s    "
       ]
      },
      {
       "output_type": "stream",
       "stream": "stdout",
       "text": [
        "\r",
        "18% [======>                                ] 52,738,560  1.90MB/s  eta 87s    "
       ]
      },
      {
       "output_type": "stream",
       "stream": "stdout",
       "text": [
        "\r",
        "18% [======>                                ] 53,189,384  1.91MB/s  eta 87s    "
       ]
      },
      {
       "output_type": "stream",
       "stream": "stdout",
       "text": [
        "\r",
        "18% [======>                                ] 53,584,688  1.93MB/s  eta 88s    "
       ]
      },
      {
       "output_type": "stream",
       "stream": "stdout",
       "text": [
        "\r",
        "18% [======>                                ] 53,976,600  1.92MB/s  eta 88s    "
       ]
      },
      {
       "output_type": "stream",
       "stream": "stdout",
       "text": [
        "\r",
        "19% [======>                                ] 54,425,976  1.94MB/s  eta 88s    "
       ]
      },
      {
       "output_type": "stream",
       "stream": "stdout",
       "text": [
        "\r",
        "19% [======>                                ] 54,882,096  1.94MB/s  eta 88s    "
       ]
      },
      {
       "output_type": "stream",
       "stream": "stdout",
       "text": [
        "\r",
        "19% [======>                                ] 55,278,848  1.93MB/s  eta 88s    "
       ]
      },
      {
       "output_type": "stream",
       "stream": "stdout",
       "text": [
        "\r",
        "19% [======>                                ] 55,714,696  1.94MB/s  eta 88s    "
       ]
      },
      {
       "output_type": "stream",
       "stream": "stdout",
       "text": [
        "\r",
        "19% [======>                                ] 56,177,560  1.93MB/s  eta 88s    "
       ]
      },
      {
       "output_type": "stream",
       "stream": "stdout",
       "text": [
        "\r",
        "19% [======>                                ] 56,583,000  1.93MB/s  eta 88s    "
       ]
      },
      {
       "output_type": "stream",
       "stream": "stdout",
       "text": [
        "\r",
        "19% [======>                                ] 56,997,128  1.93MB/s  eta 88s    "
       ]
      },
      {
       "output_type": "stream",
       "stream": "stdout",
       "text": [
        "\r",
        "20% [======>                                ] 57,427,680  1.91MB/s  eta 88s    "
       ]
      },
      {
       "output_type": "stream",
       "stream": "stdout",
       "text": [
        "\r",
        "20% [======>                                ] 57,879,456  1.94MB/s  eta 88s    "
       ]
      },
      {
       "output_type": "stream",
       "stream": "stdout",
       "text": [
        "\r",
        "20% [======>                                ] 58,310,464  1.95MB/s  eta 88s    "
       ]
      },
      {
       "output_type": "stream",
       "stream": "stdout",
       "text": [
        "\r",
        "20% [=======>                               ] 58,739,568  1.93MB/s  eta 88s    "
       ]
      },
      {
       "output_type": "stream",
       "stream": "stdout",
       "text": [
        "\r",
        "20% [=======>                               ] 59,249,264  1.97MB/s  eta 88s    "
       ]
      },
      {
       "output_type": "stream",
       "stream": "stdout",
       "text": [
        "\r",
        "20% [=======>                               ] 59,765,704  1.99MB/s  eta 88s    "
       ]
      },
      {
       "output_type": "stream",
       "stream": "stdout",
       "text": [
        "\r",
        "21% [=======>                               ] 60,174,040  2.01MB/s  eta 88s    "
       ]
      },
      {
       "output_type": "stream",
       "stream": "stdout",
       "text": [
        "\r",
        "21% [=======>                               ] 60,646,088  2.02MB/s  eta 88s    "
       ]
      },
      {
       "output_type": "stream",
       "stream": "stdout",
       "text": [
        "\r",
        "21% [=======>                               ] 61,137,456  2.03MB/s  eta 88s    "
       ]
      },
      {
       "output_type": "stream",
       "stream": "stdout",
       "text": [
        "\r",
        "21% [=======>                               ] 61,663,080  2.07MB/s  eta 88s    "
       ]
      },
      {
       "output_type": "stream",
       "stream": "stdout",
       "text": [
        "\r",
        "21% [=======>                               ] 62,222,008  2.11MB/s  eta 88s    "
       ]
      },
      {
       "output_type": "stream",
       "stream": "stdout",
       "text": [
        "\r",
        "21% [=======>                               ] 62,766,456  2.14MB/s  eta 87s    "
       ]
      },
      {
       "output_type": "stream",
       "stream": "stdout",
       "text": [
        "\r",
        "22% [=======>                               ] 63,294,480  2.17MB/s  eta 87s    "
       ]
      },
      {
       "output_type": "stream",
       "stream": "stdout",
       "text": [
        "\r",
        "22% [=======>                               ] 63,809,016  2.19MB/s  eta 87s    "
       ]
      },
      {
       "output_type": "stream",
       "stream": "stdout",
       "text": [
        "\r",
        "22% [=======>                               ] 64,336,088  2.21MB/s  eta 87s    "
       ]
      },
      {
       "output_type": "stream",
       "stream": "stdout",
       "text": [
        "\r",
        "22% [=======>                               ] 64,934,112  2.29MB/s  eta 87s    "
       ]
      },
      {
       "output_type": "stream",
       "stream": "stdout",
       "text": [
        "\r",
        "22% [=======>                               ] 65,606,936  2.34MB/s  eta 85s    "
       ]
      },
      {
       "output_type": "stream",
       "stream": "stdout",
       "text": [
        "\r",
        "23% [========>                              ] 66,221,384  2.40MB/s  eta 85s    "
       ]
      },
      {
       "output_type": "stream",
       "stream": "stdout",
       "text": [
        "\r",
        "23% [========>                              ] 66,880,224  2.49MB/s  eta 85s    "
       ]
      },
      {
       "output_type": "stream",
       "stream": "stdout",
       "text": [
        "\r",
        "23% [========>                              ] 67,526,032  2.51MB/s  eta 85s    "
       ]
      },
      {
       "output_type": "stream",
       "stream": "stdout",
       "text": [
        "\r",
        "23% [========>                              ] 68,245,688  2.60MB/s  eta 85s    "
       ]
      },
      {
       "output_type": "stream",
       "stream": "stdout",
       "text": [
        "\r",
        "24% [========>                              ] 69,021,816  2.69MB/s  eta 83s    "
       ]
      },
      {
       "output_type": "stream",
       "stream": "stdout",
       "text": [
        "\r",
        "24% [========>                              ] 69,805,184  2.73MB/s  eta 83s    "
       ]
      },
      {
       "output_type": "stream",
       "stream": "stdout",
       "text": [
        "\r",
        "24% [========>                              ] 70,585,656  2.84MB/s  eta 83s    "
       ]
      },
      {
       "output_type": "stream",
       "stream": "stdout",
       "text": [
        "\r",
        "24% [========>                              ] 71,437,080  2.95MB/s  eta 83s    "
       ]
      },
      {
       "output_type": "stream",
       "stream": "stdout",
       "text": [
        "\r",
        "25% [========>                              ] 72,301,040  3.01MB/s  eta 83s    "
       ]
      },
      {
       "output_type": "stream",
       "stream": "stdout",
       "text": [
        "\r",
        "25% [========>                              ] 73,207,488  3.16MB/s  eta 80s    "
       ]
      },
      {
       "output_type": "stream",
       "stream": "stdout",
       "text": [
        "\r",
        "25% [=========>                             ] 74,055,064  3.29MB/s  eta 80s    "
       ]
      },
      {
       "output_type": "stream",
       "stream": "stdout",
       "text": [
        "\r",
        "26% [=========>                             ] 75,088,440  3.39MB/s  eta 80s    "
       ]
      },
      {
       "output_type": "stream",
       "stream": "stdout",
       "text": [
        "\r",
        "26% [=========>                             ] 76,035,432  3.53MB/s  eta 80s    "
       ]
      },
      {
       "output_type": "stream",
       "stream": "stdout",
       "text": [
        "\r",
        "26% [=========>                             ] 77,043,240  3.66MB/s  eta 80s    "
       ]
      },
      {
       "output_type": "stream",
       "stream": "stdout",
       "text": [
        "\r",
        "27% [=========>                             ] 78,064,080  3.74MB/s  eta 76s    "
       ]
      },
      {
       "output_type": "stream",
       "stream": "stdout",
       "text": [
        "\r",
        "27% [=========>                             ] 78,992,744  3.83MB/s  eta 76s    "
       ]
      },
      {
       "output_type": "stream",
       "stream": "stdout",
       "text": [
        "\r",
        "27% [=========>                             ] 80,036,752  3.97MB/s  eta 76s    "
       ]
      },
      {
       "output_type": "stream",
       "stream": "stdout",
       "text": [
        "\r",
        "28% [==========>                            ] 81,011,256  4.03MB/s  eta 76s    "
       ]
      },
      {
       "output_type": "stream",
       "stream": "stdout",
       "text": [
        "\r",
        "28% [==========>                            ] 81,985,264  4.11MB/s  eta 76s    "
       ]
      },
      {
       "output_type": "stream",
       "stream": "stdout",
       "text": [
        "\r",
        "28% [==========>                            ] 82,792,296  4.14MB/s  eta 73s    "
       ]
      },
      {
       "output_type": "stream",
       "stream": "stdout",
       "text": [
        "\r",
        "29% [==========>                            ] 83,814,584  4.23MB/s  eta 73s    "
       ]
      },
      {
       "output_type": "stream",
       "stream": "stdout",
       "text": [
        "\r",
        "29% [==========>                            ] 84,842,664  4.31MB/s  eta 73s    "
       ]
      },
      {
       "output_type": "stream",
       "stream": "stdout",
       "text": [
        "\r",
        "29% [==========>                            ] 85,789,160  4.33MB/s  eta 73s    "
       ]
      },
      {
       "output_type": "stream",
       "stream": "stdout",
       "text": [
        "\r",
        "30% [==========>                            ] 86,814,344  4.42MB/s  eta 73s    "
       ]
      },
      {
       "output_type": "stream",
       "stream": "stdout",
       "text": [
        "\r",
        "30% [==========>                            ] 87,644,544  4.42MB/s  eta 69s    "
       ]
      },
      {
       "output_type": "stream",
       "stream": "stdout",
       "text": [
        "\r",
        "30% [===========>                           ] 88,559,184  4.41MB/s  eta 69s    "
       ]
      },
      {
       "output_type": "stream",
       "stream": "stdout",
       "text": [
        "\r",
        "31% [===========>                           ] 89,553,008  4.42MB/s  eta 69s    "
       ]
      },
      {
       "output_type": "stream",
       "stream": "stdout",
       "text": [
        "\r",
        "31% [===========>                           ] 90,500,952  4.43MB/s  eta 69s    "
       ]
      },
      {
       "output_type": "stream",
       "stream": "stdout",
       "text": [
        "\r",
        "31% [===========>                           ] 91,506,360  4.45MB/s  eta 69s    "
       ]
      },
      {
       "output_type": "stream",
       "stream": "stdout",
       "text": [
        "\r",
        "32% [===========>                           ] 92,551,816  4.45MB/s  eta 66s    "
       ]
      },
      {
       "output_type": "stream",
       "stream": "stdout",
       "text": [
        "\r",
        "32% [===========>                           ] 93,588,584  4.48MB/s  eta 66s    "
       ]
      },
      {
       "output_type": "stream",
       "stream": "stdout",
       "text": [
        "\r",
        "33% [===========>                           ] 94,568,880  4.48MB/s  eta 66s    "
       ]
      },
      {
       "output_type": "stream",
       "stream": "stdout",
       "text": [
        "\r",
        "33% [============>                          ] 95,500,896  4.50MB/s  eta 66s    "
       ]
      },
      {
       "output_type": "stream",
       "stream": "stdout",
       "text": [
        "\r",
        "33% [============>                          ] 96,309,376  4.44MB/s  eta 66s    "
       ]
      },
      {
       "output_type": "stream",
       "stream": "stdout",
       "text": [
        "\r",
        "33% [============>                          ] 97,238,992  4.44MB/s  eta 63s    "
       ]
      },
      {
       "output_type": "stream",
       "stream": "stdout",
       "text": [
        "\r",
        "34% [============>                          ] 98,213,496  4.45MB/s  eta 63s    "
       ]
      },
      {
       "output_type": "stream",
       "stream": "stdout",
       "text": [
        "\r",
        "34% [============>                          ] 99,192,344  4.46MB/s  eta 63s    "
       ]
      },
      {
       "output_type": "stream",
       "stream": "stdout",
       "text": [
        "\r",
        "35% [============>                          ] 100,202,552 4.44MB/s  eta 63s    "
       ]
      },
      {
       "output_type": "stream",
       "stream": "stdout",
       "text": [
        "\r",
        "35% [============>                          ] 101,081,984 4.43MB/s  eta 63s    "
       ]
      },
      {
       "output_type": "stream",
       "stream": "stdout",
       "text": [
        "\r",
        "35% [============>                          ] 101,953,184 4.39MB/s  eta 61s    "
       ]
      },
      {
       "output_type": "stream",
       "stream": "stdout",
       "text": [
        "\r",
        "35% [=============>                         ] 102,811,848 4.40MB/s  eta 61s    "
       ]
      },
      {
       "output_type": "stream",
       "stream": "stdout",
       "text": [
        "\r",
        "36% [=============>                         ] 103,818,704 4.40MB/s  eta 61s    "
       ]
      },
      {
       "output_type": "stream",
       "stream": "stdout",
       "text": [
        "\r",
        "36% [=============>                         ] 104,794,656 4.41MB/s  eta 61s    "
       ]
      },
      {
       "output_type": "stream",
       "stream": "stdout",
       "text": [
        "\r",
        "36% [=============>                         ] 105,767,712 4.38MB/s  eta 61s    "
       ]
      },
      {
       "output_type": "stream",
       "stream": "stdout",
       "text": [
        "\r",
        "37% [=============>                         ] 106,685,744 4.37MB/s  eta 58s    "
       ]
      },
      {
       "output_type": "stream",
       "stream": "stdout",
       "text": [
        "\r",
        "37% [=============>                         ] 107,462,824 4.24MB/s  eta 58s    "
       ]
      },
      {
       "output_type": "stream",
       "stream": "stdout",
       "text": [
        "\r",
        "37% [=============>                         ] 108,048,312 4.13MB/s  eta 58s    "
       ]
      },
      {
       "output_type": "stream",
       "stream": "stdout",
       "text": [
        "\r",
        "37% [=============>                         ] 108,248,136 3.90MB/s  eta 58s    "
       ]
      },
      {
       "output_type": "stream",
       "stream": "stdout",
       "text": [
        "\r",
        "38% [=============>                         ] 108,770,864 3.79MB/s  eta 58s    "
       ]
      },
      {
       "output_type": "stream",
       "stream": "stdout",
       "text": [
        "\r",
        "38% [=============>                         ] 109,421,016 3.76MB/s  eta 58s    "
       ]
      },
      {
       "output_type": "stream",
       "stream": "stdout",
       "text": [
        "\r",
        "38% [==============>                        ] 110,072,616 3.65MB/s  eta 58s    "
       ]
      },
      {
       "output_type": "stream",
       "stream": "stdout",
       "text": [
        "\r",
        "38% [==============>                        ] 110,730,008 3.60MB/s  eta 58s    "
       ]
      },
      {
       "output_type": "stream",
       "stream": "stdout",
       "text": [
        "\r",
        "38% [==============>                        ] 111,443,872 3.50MB/s  eta 58s    "
       ]
      },
      {
       "output_type": "stream",
       "stream": "stdout",
       "text": [
        "\r",
        "39% [==============>                        ] 112,160,632 3.45MB/s  eta 58s    "
       ]
      },
      {
       "output_type": "stream",
       "stream": "stdout",
       "text": [
        "\r",
        "39% [==============>                        ] 112,941,104 3.40MB/s  eta 57s    "
       ]
      },
      {
       "output_type": "stream",
       "stream": "stdout",
       "text": [
        "\r",
        "39% [==============>                        ] 113,721,576 3.31MB/s  eta 57s    "
       ]
      },
      {
       "output_type": "stream",
       "stream": "stdout",
       "text": [
        "\r",
        "40% [==============>                        ] 114,507,840 3.32MB/s  eta 57s    "
       ]
      },
      {
       "output_type": "stream",
       "stream": "stdout",
       "text": [
        "\r",
        "40% [==============>                        ] 115,315,328 3.26MB/s  eta 57s    "
       ]
      },
      {
       "output_type": "stream",
       "stream": "stdout",
       "text": [
        "\r",
        "40% [==============>                        ] 116,101,592 3.26MB/s  eta 57s    "
       ]
      },
      {
       "output_type": "stream",
       "stream": "stdout",
       "text": [
        "\r",
        "40% [==============>                        ] 116,785,544 3.16MB/s  eta 55s    "
       ]
      },
      {
       "output_type": "stream",
       "stream": "stdout",
       "text": [
        "\r",
        "41% [===============>                       ] 117,564,072 3.12MB/s  eta 55s    "
       ]
      },
      {
       "output_type": "stream",
       "stream": "stdout",
       "text": [
        "\r",
        "41% [===============>                       ] 118,387,984 3.13MB/s  eta 55s    "
       ]
      },
      {
       "output_type": "stream",
       "stream": "stdout",
       "text": [
        "\r",
        "41% [===============>                       ] 119,201,760 3.21MB/s  eta 55s    "
       ]
      },
      {
       "output_type": "stream",
       "stream": "stdout",
       "text": [
        "\r",
        "41% [===============>                       ] 120,035,808 3.39MB/s  eta 55s    "
       ]
      },
      {
       "output_type": "stream",
       "stream": "stdout",
       "text": [
        "\r",
        "42% [===============>                       ] 120,865,512 3.49MB/s  eta 53s    "
       ]
      },
      {
       "output_type": "stream",
       "stream": "stdout",
       "text": [
        "\r",
        "42% [===============>                       ] 121,677,840 3.51MB/s  eta 53s    "
       ]
      },
      {
       "output_type": "stream",
       "stream": "stdout",
       "text": [
        "\r",
        "42% [===============>                       ] 122,589,128 3.63MB/s  eta 53s    "
       ]
      },
      {
       "output_type": "stream",
       "stream": "stdout",
       "text": [
        "\r",
        "43% [===============>                       ] 123,502,320 3.67MB/s  eta 53s    "
       ]
      },
      {
       "output_type": "stream",
       "stream": "stdout",
       "text": [
        "\r",
        "43% [===============>                       ] 124,376,912 3.76MB/s  eta 53s    "
       ]
      },
      {
       "output_type": "stream",
       "stream": "stdout",
       "text": [
        "\r",
        "43% [================>                      ] 125,221,096 3.79MB/s  eta 51s    "
       ]
      },
      {
       "output_type": "stream",
       "stream": "stdout",
       "text": [
        "\r",
        "44% [================>                      ] 126,110,664 3.86MB/s  eta 51s    "
       ]
      },
      {
       "output_type": "stream",
       "stream": "stdout",
       "text": [
        "\r",
        "44% [================>                      ] 127,025,304 3.91MB/s  eta 51s    "
       ]
      },
      {
       "output_type": "stream",
       "stream": "stdout",
       "text": [
        "\r",
        "44% [================>                      ] 127,941,888 3.92MB/s  eta 51s    "
       ]
      },
      {
       "output_type": "stream",
       "stream": "stdout",
       "text": [
        "\r",
        "45% [================>                      ] 128,774,984 3.96MB/s  eta 51s    "
       ]
      },
      {
       "output_type": "stream",
       "stream": "stdout",
       "text": [
        "\r",
        "45% [================>                      ] 129,655,368 3.95MB/s  eta 49s    "
       ]
      },
      {
       "output_type": "stream",
       "stream": "stdout",
       "text": [
        "\r",
        "45% [================>                      ] 130,520,776 4.01MB/s  eta 49s    "
       ]
      },
      {
       "output_type": "stream",
       "stream": "stdout",
       "text": [
        "\r",
        "45% [================>                      ] 131,386,680 4.03MB/s  eta 49s    "
       ]
      },
      {
       "output_type": "stream",
       "stream": "stdout",
       "text": [
        "\r",
        "46% [=================>                     ] 132,255,480 4.04MB/s  eta 49s    "
       ]
      },
      {
       "output_type": "stream",
       "stream": "stdout",
       "text": [
        "\r",
        "46% [=================>                     ] 133,127,176 4.08MB/s  eta 49s    "
       ]
      },
      {
       "output_type": "stream",
       "stream": "stdout",
       "text": [
        "\r",
        "46% [=================>                     ] 134,006,608 4.12MB/s  eta 48s    "
       ]
      },
      {
       "output_type": "stream",
       "stream": "stdout",
       "text": [
        "\r",
        "47% [=================>                     ] 134,856,584 4.12MB/s  eta 48s    "
       ]
      },
      {
       "output_type": "stream",
       "stream": "stdout",
       "text": [
        "\r",
        "47% [=================>                     ] 135,745,656 4.14MB/s  eta 48s    "
       ]
      },
      {
       "output_type": "stream",
       "stream": "stdout",
       "text": [
        "\r",
        "47% [=================>                     ] 136,654,504 4.16MB/s  eta 48s    "
       ]
      },
      {
       "output_type": "stream",
       "stream": "stdout",
       "text": [
        "\r",
        "48% [=================>                     ] 137,504,976 4.14MB/s  eta 48s    "
       ]
      },
      {
       "output_type": "stream",
       "stream": "stdout",
       "text": [
        "\r",
        "48% [=================>                     ] 138,380,520 4.14MB/s  eta 46s    "
       ]
      },
      {
       "output_type": "stream",
       "stream": "stdout",
       "text": [
        "\r",
        "48% [=================>                     ] 139,300,000 4.15MB/s  eta 46s    "
       ]
      },
      {
       "output_type": "stream",
       "stream": "stdout",
       "text": [
        "\r",
        "49% [==================>                    ] 140,182,328 4.15MB/s  eta 46s    "
       ]
      },
      {
       "output_type": "stream",
       "stream": "stdout",
       "text": [
        "\r",
        "49% [==================>                    ] 141,094,568 4.15MB/s  eta 46s    "
       ]
      },
      {
       "output_type": "stream",
       "stream": "stdout",
       "text": [
        "\r",
        "49% [==================>                    ] 142,018,392 4.13MB/s  eta 46s    "
       ]
      },
      {
       "output_type": "stream",
       "stream": "stdout",
       "text": [
        "\r",
        "49% [==================>                    ] 142,914,704 4.12MB/s  eta 44s    "
       ]
      },
      {
       "output_type": "stream",
       "stream": "stdout",
       "text": [
        "\r",
        "50% [==================>                    ] 143,828,392 4.13MB/s  eta 44s    "
       ]
      },
      {
       "output_type": "stream",
       "stream": "stdout",
       "text": [
        "\r",
        "50% [==================>                    ] 144,739,184 4.13MB/s  eta 44s    "
       ]
      },
      {
       "output_type": "stream",
       "stream": "stdout",
       "text": [
        "\r",
        "50% [==================>                    ] 145,651,424 4.12MB/s  eta 44s    "
       ]
      },
      {
       "output_type": "stream",
       "stream": "stdout",
       "text": [
        "\r",
        "51% [==================>                    ] 146,568,960 4.12MB/s  eta 44s    "
       ]
      },
      {
       "output_type": "stream",
       "stream": "stdout",
       "text": [
        "\r",
        "51% [===================>                   ] 147,486,040 4.13MB/s  eta 42s    "
       ]
      },
      {
       "output_type": "stream",
       "stream": "stdout",
       "text": [
        "\r",
        "51% [===================>                   ] 148,393,440 4.12MB/s  eta 42s    "
       ]
      },
      {
       "output_type": "stream",
       "stream": "stdout",
       "text": [
        "\r",
        "52% [===================>                   ] 149,304,728 4.12MB/s  eta 42s    "
       ]
      },
      {
       "output_type": "stream",
       "stream": "stdout",
       "text": [
        "\r",
        "52% [===================>                   ] 150,093,392 4.06MB/s  eta 42s    "
       ]
      },
      {
       "output_type": "stream",
       "stream": "stdout",
       "text": [
        "\r",
        "52% [===================>                   ] 151,121,968 4.09MB/s  eta 42s    "
       ]
      },
      {
       "output_type": "stream",
       "stream": "stdout",
       "text": [
        "\r",
        "53% [===================>                   ] 152,106,608 4.11MB/s  eta 41s    "
       ]
      },
      {
       "output_type": "stream",
       "stream": "stdout",
       "text": [
        "\r",
        "53% [===================>                   ] 153,014,504 4.10MB/s  eta 41s    "
       ]
      },
      {
       "output_type": "stream",
       "stream": "stdout",
       "text": [
        "\r",
        "53% [===================>                   ] 153,993,352 4.12MB/s  eta 41s    "
       ]
      },
      {
       "output_type": "stream",
       "stream": "stdout",
       "text": [
        "\r",
        "54% [====================>                  ] 154,974,600 4.13MB/s  eta 41s    "
       ]
      },
      {
       "output_type": "stream",
       "stream": "stdout",
       "text": [
        "\r",
        "54% [====================>                  ] 155,902,768 4.15MB/s  eta 41s    "
       ]
      },
      {
       "output_type": "stream",
       "stream": "stdout",
       "text": [
        "\r",
        "54% [====================>                  ] 156,924,104 4.20MB/s  eta 39s    "
       ]
      },
      {
       "output_type": "stream",
       "stream": "stdout",
       "text": [
        "\r",
        "55% [====================>                  ] 157,900,056 4.19MB/s  eta 39s    "
       ]
      },
      {
       "output_type": "stream",
       "stream": "stdout",
       "text": [
        "\r",
        "55% [====================>                  ] 158,881,800 4.21MB/s  eta 39s    "
       ]
      },
      {
       "output_type": "stream",
       "stream": "stdout",
       "text": [
        "\r",
        "55% [====================>                  ] 159,856,304 4.23MB/s  eta 39s    "
       ]
      },
      {
       "output_type": "stream",
       "stream": "stdout",
       "text": [
        "\r",
        "56% [====================>                  ] 160,839,000 4.23MB/s  eta 39s    "
       ]
      },
      {
       "output_type": "stream",
       "stream": "stdout",
       "text": [
        "\r",
        "56% [=====================>                 ] 161,876,264 4.29MB/s  eta 37s    "
       ]
      },
      {
       "output_type": "stream",
       "stream": "stdout",
       "text": [
        "\r",
        "56% [=====================>                 ] 162,827,104 4.29MB/s  eta 37s    "
       ]
      },
      {
       "output_type": "stream",
       "stream": "stdout",
       "text": [
        "\r",
        "57% [=====================>                 ] 163,836,360 4.29MB/s  eta 37s    "
       ]
      },
      {
       "output_type": "stream",
       "stream": "stdout",
       "text": [
        "\r",
        "57% [=====================>                 ] 164,873,624 4.36MB/s  eta 37s    "
       ]
      },
      {
       "output_type": "stream",
       "stream": "stdout",
       "text": [
        "\r",
        "57% [=====================>                 ] 165,790,208 4.39MB/s  eta 37s    "
       ]
      },
      {
       "output_type": "stream",
       "stream": "stdout",
       "text": [
        "\r",
        "58% [=====================>                 ] 166,784,984 4.37MB/s  eta 35s    "
       ]
      },
      {
       "output_type": "stream",
       "stream": "stdout",
       "text": [
        "\r",
        "58% [=====================>                 ] 167,797,136 4.43MB/s  eta 35s    "
       ]
      },
      {
       "output_type": "stream",
       "stream": "stdout",
       "text": [
        "\r",
        "58% [======================>                ] 168,719,512 4.43MB/s  eta 35s    "
       ]
      },
      {
       "output_type": "stream",
       "stream": "stdout",
       "text": [
        "\r",
        "59% [======================>                ] 169,727,320 4.37MB/s  eta 35s    "
       ]
      },
      {
       "output_type": "stream",
       "stream": "stdout",
       "text": [
        "\r",
        "59% [======================>                ] 170,738,024 4.42MB/s  eta 35s    "
       ]
      },
      {
       "output_type": "stream",
       "stream": "stdout",
       "text": [
        "\r",
        "60% [======================>                ] 171,650,264 4.39MB/s  eta 34s    "
       ]
      },
      {
       "output_type": "stream",
       "stream": "stdout",
       "text": [
        "\r",
        "60% [======================>                ] 172,692,824 4.41MB/s  eta 34s    "
       ]
      },
      {
       "output_type": "stream",
       "stream": "stdout",
       "text": [
        "\r",
        "60% [======================>                ] 173,603,616 4.41MB/s  eta 34s    "
       ]
      },
      {
       "output_type": "stream",
       "stream": "stdout",
       "text": [
        "\r",
        "61% [======================>                ] 174,525,992 4.40MB/s  eta 34s    "
       ]
      },
      {
       "output_type": "stream",
       "stream": "stdout",
       "text": [
        "\r",
        "61% [======================>                ] 175,559,864 4.37MB/s  eta 34s    "
       ]
      },
      {
       "output_type": "stream",
       "stream": "stdout",
       "text": [
        "\r",
        "61% [=======================>               ] 176,501,064 4.39MB/s  eta 32s    "
       ]
      },
      {
       "output_type": "stream",
       "stream": "stdout",
       "text": [
        "\r",
        "62% [=======================>               ] 177,449,504 4.40MB/s  eta 32s    "
       ]
      },
      {
       "output_type": "stream",
       "stream": "stdout",
       "text": [
        "\r",
        "62% [=======================>               ] 178,490,616 4.38MB/s  eta 32s    "
       ]
      },
      {
       "output_type": "stream",
       "stream": "stdout",
       "text": [
        "\r",
        "62% [=======================>               ] 179,432,768 4.37MB/s  eta 32s    "
       ]
      },
      {
       "output_type": "stream",
       "stream": "stdout",
       "text": [
        "\r",
        "63% [=======================>               ] 180,446,864 4.39MB/s  eta 32s    "
       ]
      },
      {
       "output_type": "stream",
       "stream": "stdout",
       "text": [
        "\r",
        "63% [=======================>               ] 181,436,800 4.38MB/s  eta 30s    "
       ]
      },
      {
       "output_type": "stream",
       "stream": "stdout",
       "text": [
        "\r",
        "63% [=======================>               ] 182,439,312 4.40MB/s  eta 30s    "
       ]
      },
      {
       "output_type": "stream",
       "stream": "stdout",
       "text": [
        "\r",
        "64% [========================>              ] 183,444,224 4.42MB/s  eta 30s    "
       ]
      },
      {
       "output_type": "stream",
       "stream": "stdout",
       "text": [
        "\r",
        "64% [========================>              ] 184,387,824 4.43MB/s  eta 30s    "
       ]
      },
      {
       "output_type": "stream",
       "stream": "stdout",
       "text": [
        "\r",
        "64% [========================>              ] 185,284,632 4.44MB/s  eta 30s    "
       ]
      },
      {
       "output_type": "stream",
       "stream": "stdout",
       "text": [
        "\r",
        "65% [========================>              ] 186,153,432 4.43MB/s  eta 29s    "
       ]
      },
      {
       "output_type": "stream",
       "stream": "stdout",
       "text": [
        "\r",
        "65% [========================>              ] 187,112,960 4.39MB/s  eta 29s    "
       ]
      },
      {
       "output_type": "stream",
       "stream": "stdout",
       "text": [
        "\r",
        "65% [========================>              ] 188,074,928 4.40MB/s  eta 29s    "
       ]
      },
      {
       "output_type": "stream",
       "stream": "stdout",
       "text": [
        "\r",
        "66% [========================>              ] 189,046,536 4.43MB/s  eta 29s    "
       ]
      },
      {
       "output_type": "stream",
       "stream": "stdout",
       "text": [
        "\r",
        "66% [========================>              ] 190,074,120 4.40MB/s  eta 29s    "
       ]
      },
      {
       "output_type": "stream",
       "stream": "stdout",
       "text": [
        "\r",
        "66% [=========================>             ] 191,061,656 4.43MB/s  eta 27s    "
       ]
      },
      {
       "output_type": "stream",
       "stream": "stdout",
       "text": [
        "\r",
        "67% [=========================>             ] 192,045,344 4.44MB/s  eta 27s    "
       ]
      },
      {
       "output_type": "stream",
       "stream": "stdout",
       "text": [
        "\r",
        "67% [=========================>             ] 192,956,136 4.38MB/s  eta 27s    "
       ]
      },
      {
       "output_type": "stream",
       "stream": "stdout",
       "text": [
        "\r",
        "67% [=========================>             ] 193,937,880 4.42MB/s  eta 27s    "
       ]
      },
      {
       "output_type": "stream",
       "stream": "stdout",
       "text": [
        "\r",
        "68% [=========================>             ] 194,977,544 4.43MB/s  eta 27s    "
       ]
      },
      {
       "output_type": "stream",
       "stream": "stdout",
       "text": [
        "\r",
        "68% [=========================>             ] 195,950,600 4.41MB/s  eta 26s    "
       ]
      },
      {
       "output_type": "stream",
       "stream": "stdout",
       "text": [
        "\r",
        "68% [=========================>             ] 196,872,480 4.39MB/s  eta 26s    "
       ]
      },
      {
       "output_type": "stream",
       "stream": "stdout",
       "text": [
        "\r",
        "69% [=========================>             ] 197,896,216 4.39MB/s  eta 26s    "
       ]
      },
      {
       "output_type": "stream",
       "stream": "stdout",
       "text": [
        "\r",
        "69% [==========================>            ] 198,768,408 4.40MB/s  eta 26s    "
       ]
      },
      {
       "output_type": "stream",
       "stream": "stdout",
       "text": [
        "\r",
        "69% [==========================>            ] 199,695,128 4.39MB/s  eta 26s    "
       ]
      },
      {
       "output_type": "stream",
       "stream": "stdout",
       "text": [
        "\r",
        "70% [==========================>            ] 200,628,592 4.41MB/s  eta 24s    "
       ]
      },
      {
       "output_type": "stream",
       "stream": "stdout",
       "text": [
        "\r",
        "70% [==========================>            ] 201,591,512 4.39MB/s  eta 24s    "
       ]
      },
      {
       "output_type": "stream",
       "stream": "stdout",
       "text": [
        "\r",
        "70% [==========================>            ] 202,537,552 4.42MB/s  eta 24s    "
       ]
      },
      {
       "output_type": "stream",
       "stream": "stdout",
       "text": [
        "\r",
        "71% [==========================>            ] 203,441,104 4.40MB/s  eta 24s    "
       ]
      },
      {
       "output_type": "stream",
       "stream": "stdout",
       "text": [
        "\r",
        "71% [==========================>            ] 204,331,624 4.40MB/s  eta 24s    "
       ]
      },
      {
       "output_type": "stream",
       "stream": "stdout",
       "text": [
        "\r",
        "71% [==========================>            ] 205,318,664 4.42MB/s  eta 23s    "
       ]
      },
      {
       "output_type": "stream",
       "stream": "stdout",
       "text": [
        "\r",
        "72% [===========================>           ] 206,193,752 4.41MB/s  eta 23s    "
       ]
      },
      {
       "output_type": "stream",
       "stream": "stdout",
       "text": [
        "\r",
        "72% [===========================>           ] 207,175,496 4.43MB/s  eta 23s    "
       ]
      },
      {
       "output_type": "stream",
       "stream": "stdout",
       "text": [
        "\r",
        "72% [===========================>           ] 207,985,880 4.38MB/s  eta 23s    "
       ]
      },
      {
       "output_type": "stream",
       "stream": "stdout",
       "text": [
        "\r",
        "72% [===========================>           ] 208,607,568 4.31MB/s  eta 23s    "
       ]
      },
      {
       "output_type": "stream",
       "stream": "stdout",
       "text": [
        "\r",
        "73% [===========================>           ] 209,268,808 4.20MB/s  eta 22s    "
       ]
      },
      {
       "output_type": "stream",
       "stream": "stdout",
       "text": [
        "\r",
        "73% [===========================>           ] 209,903,528 4.10MB/s  eta 22s    "
       ]
      },
      {
       "output_type": "stream",
       "stream": "stdout",
       "text": [
        "\r",
        "73% [===========================>           ] 210,617,392 4.07MB/s  eta 22s    "
       ]
      },
      {
       "output_type": "stream",
       "stream": "stdout",
       "text": [
        "\r",
        "73% [===========================>           ] 211,402,208 3.99MB/s  eta 22s    "
       ]
      },
      {
       "output_type": "stream",
       "stream": "stdout",
       "text": [
        "\r",
        "74% [===========================>           ] 212,185,080 3.94MB/s  eta 22s    "
       ]
      },
      {
       "output_type": "stream",
       "stream": "stdout",
       "text": [
        "\r",
        "74% [============================>          ] 212,964,600 3.89MB/s  eta 21s    "
       ]
      },
      {
       "output_type": "stream",
       "stream": "stdout",
       "text": [
        "\r",
        "74% [============================>          ] 213,748,920 3.85MB/s  eta 21s    "
       ]
      },
      {
       "output_type": "stream",
       "stream": "stdout",
       "text": [
        "\r",
        "74% [============================>          ] 214,530,840 3.75MB/s  eta 21s    "
       ]
      },
      {
       "output_type": "stream",
       "stream": "stdout",
       "text": [
        "\r",
        "75% [============================>          ] 215,330,632 3.72MB/s  eta 21s    "
       ]
      },
      {
       "output_type": "stream",
       "stream": "stdout",
       "text": [
        "\r",
        "75% [============================>          ] 216,089,384 3.67MB/s  eta 21s    "
       ]
      },
      {
       "output_type": "stream",
       "stream": "stdout",
       "text": [
        "\r",
        "75% [============================>          ] 216,939,360 3.60MB/s  eta 19s    "
       ]
      },
      {
       "output_type": "stream",
       "stream": "stdout",
       "text": [
        "\r",
        "76% [============================>          ] 217,788,840 3.60MB/s  eta 19s    "
       ]
      },
      {
       "output_type": "stream",
       "stream": "stdout",
       "text": [
        "\r",
        "76% [============================>          ] 218,648,000 3.51MB/s  eta 19s    "
       ]
      },
      {
       "output_type": "stream",
       "stream": "stdout",
       "text": [
        "\r",
        "76% [============================>          ] 219,548,160 3.54MB/s  eta 19s    "
       ]
      },
      {
       "output_type": "stream",
       "stream": "stdout",
       "text": [
        "\r",
        "77% [=============================>         ] 220,394,288 3.58MB/s  eta 19s    "
       ]
      },
      {
       "output_type": "stream",
       "stream": "stdout",
       "text": [
        "\r",
        "77% [=============================>         ] 221,303,632 3.67MB/s  eta 18s    "
       ]
      },
      {
       "output_type": "stream",
       "stream": "stdout",
       "text": [
        "\r",
        "77% [=============================>         ] 222,219,720 3.73MB/s  eta 18s    "
       ]
      },
      {
       "output_type": "stream",
       "stream": "stdout",
       "text": [
        "\r",
        "77% [=============================>         ] 223,128,112 3.78MB/s  eta 18s    "
       ]
      },
      {
       "output_type": "stream",
       "stream": "stdout",
       "text": [
        "\r",
        "78% [=============================>         ] 224,037,456 3.86MB/s  eta 18s    "
       ]
      },
      {
       "output_type": "stream",
       "stream": "stdout",
       "text": [
        "\r",
        "78% [=============================>         ] 224,937,616 3.88MB/s  eta 18s    "
       ]
      },
      {
       "output_type": "stream",
       "stream": "stdout",
       "text": [
        "\r",
        "78% [=============================>         ] 225,795,328 3.93MB/s  eta 17s    "
       ]
      },
      {
       "output_type": "stream",
       "stream": "stdout",
       "text": [
        "\r",
        "79% [=============================>         ] 226,585,440 3.94MB/s  eta 17s    "
       ]
      },
      {
       "output_type": "stream",
       "stream": "stdout",
       "text": [
        "\r",
        "79% [==============================>        ] 227,497,680 3.97MB/s  eta 17s    "
       ]
      },
      {
       "output_type": "stream",
       "stream": "stdout",
       "text": [
        "\r",
        "79% [==============================>        ] 228,409,920 3.99MB/s  eta 17s    "
       ]
      },
      {
       "output_type": "stream",
       "stream": "stdout",
       "text": [
        "\r",
        "80% [==============================>        ] 229,316,864 4.05MB/s  eta 17s    "
       ]
      },
      {
       "output_type": "stream",
       "stream": "stdout",
       "text": [
        "\r",
        "80% [==============================>        ] 230,200,144 4.05MB/s  eta 16s    "
       ]
      },
      {
       "output_type": "stream",
       "stream": "stdout",
       "text": [
        "\r",
        "80% [==============================>        ] 231,076,184 4.10MB/s  eta 16s    "
       ]
      },
      {
       "output_type": "stream",
       "stream": "stdout",
       "text": [
        "\r",
        "81% [==============================>        ] 231,985,528 4.13MB/s  eta 16s    "
       ]
      },
      {
       "output_type": "stream",
       "stream": "stdout",
       "text": [
        "\r",
        "81% [==============================>        ] 232,861,072 4.13MB/s  eta 16s    "
       ]
      },
      {
       "output_type": "stream",
       "stream": "stdout",
       "text": [
        "\r",
        "81% [==============================>        ] 233,753,040 4.15MB/s  eta 16s    "
       ]
      },
      {
       "output_type": "stream",
       "stream": "stdout",
       "text": [
        "\r",
        "82% [==============================>        ] 234,658,536 4.16MB/s  eta 14s    "
       ]
      },
      {
       "output_type": "stream",
       "stream": "stdout",
       "text": [
        "\r",
        "82% [===============================>       ] 235,552,904 4.16MB/s  eta 14s    "
       ]
      },
      {
       "output_type": "stream",
       "stream": "stdout",
       "text": [
        "\r",
        "82% [===============================>       ] 236,417,856 4.15MB/s  eta 14s    "
       ]
      },
      {
       "output_type": "stream",
       "stream": "stdout",
       "text": [
        "\r",
        "82% [===============================>       ] 237,285,208 4.14MB/s  eta 14s    "
       ]
      },
      {
       "output_type": "stream",
       "stream": "stdout",
       "text": [
        "\r",
        "83% [===============================>       ] 237,741,328 4.02MB/s  eta 14s    "
       ]
      },
      {
       "output_type": "stream",
       "stream": "stdout",
       "text": [
        "\r",
        "83% [===============================>       ] 238,332,112 3.91MB/s  eta 13s    "
       ]
      },
      {
       "output_type": "stream",
       "stream": "stdout",
       "text": [
        "\r",
        "83% [===============================>       ] 238,589,856 3.73MB/s  eta 13s    "
       ]
      },
      {
       "output_type": "stream",
       "stream": "stdout",
       "text": [
        "\r",
        "83% [===============================>       ] 239,154,576 3.66MB/s  eta 13s    "
       ]
      },
      {
       "output_type": "stream",
       "stream": "stdout",
       "text": [
        "\r",
        "83% [===============================>       ] 239,806,176 3.57MB/s  eta 13s    "
       ]
      },
      {
       "output_type": "stream",
       "stream": "stdout",
       "text": [
        "\r",
        "84% [===============================>       ] 240,459,224 3.53MB/s  eta 13s    "
       ]
      },
      {
       "output_type": "stream",
       "stream": "stdout",
       "text": [
        "\r",
        "84% [===============================>       ] 241,141,232 3.44MB/s  eta 12s    "
       ]
      },
      {
       "output_type": "stream",
       "stream": "stdout",
       "text": [
        "\r",
        "84% [===============================>       ] 241,826,136 3.37MB/s  eta 12s    "
       ]
      },
      {
       "output_type": "stream",
       "stream": "stdout",
       "text": [
        "\r",
        "84% [================================>      ] 242,477,736 3.33MB/s  eta 12s    "
       ]
      },
      {
       "output_type": "stream",
       "stream": "stdout",
       "text": [
        "\r",
        "85% [================================>      ] 243,200,288 3.25MB/s  eta 12s    "
       ]
      },
      {
       "output_type": "stream",
       "stream": "stdout",
       "text": [
        "\r",
        "85% [================================>      ] 243,853,336 3.19MB/s  eta 12s    "
       ]
      },
      {
       "output_type": "stream",
       "stream": "stdout",
       "text": [
        "\r",
        "85% [================================>      ] 244,562,856 3.15MB/s  eta 12s    "
       ]
      },
      {
       "output_type": "stream",
       "stream": "stdout",
       "text": [
        "\r",
        "85% [================================>      ] 245,237,128 3.05MB/s  eta 12s    "
       ]
      },
      {
       "output_type": "stream",
       "stream": "stdout",
       "text": [
        "\r",
        "85% [================================>      ] 245,931,216 3.02MB/s  eta 12s    "
       ]
      },
      {
       "output_type": "stream",
       "stream": "stdout",
       "text": [
        "\r",
        "86% [================================>      ] 246,650,872 2.97MB/s  eta 12s    "
       ]
      },
      {
       "output_type": "stream",
       "stream": "stdout",
       "text": [
        "\r",
        "86% [================================>      ] 247,370,528 2.88MB/s  eta 12s    "
       ]
      },
      {
       "output_type": "stream",
       "stream": "stdout",
       "text": [
        "\r",
        "86% [================================>      ] 248,087,288 2.96MB/s  eta 11s    "
       ]
      },
      {
       "output_type": "stream",
       "stream": "stdout",
       "text": [
        "\r",
        "86% [================================>      ] 248,870,160 3.01MB/s  eta 11s    "
       ]
      },
      {
       "output_type": "stream",
       "stream": "stdout",
       "text": [
        "\r",
        "87% [=================================>     ] 249,645,336 3.19MB/s  eta 11s    "
       ]
      },
      {
       "output_type": "stream",
       "stream": "stdout",
       "text": [
        "\r",
        "87% [=================================>     ] 250,364,992 3.16MB/s  eta 11s    "
       ]
      },
      {
       "output_type": "stream",
       "stream": "stdout",
       "text": [
        "\r",
        "87% [=================================>     ] 251,099,128 3.24MB/s  eta 11s    "
       ]
      },
      {
       "output_type": "stream",
       "stream": "stdout",
       "text": [
        "\r",
        "88% [=================================>     ] 251,875,256 3.27MB/s  eta 10s    "
       ]
      },
      {
       "output_type": "stream",
       "stream": "stdout",
       "text": [
        "\r",
        "88% [=================================>     ] 252,658,624 3.30MB/s  eta 10s    "
       ]
      },
      {
       "output_type": "stream",
       "stream": "stdout",
       "text": [
        "\r",
        "88% [=================================>     ] 253,443,440 3.32MB/s  eta 10s    "
       ]
      },
      {
       "output_type": "stream",
       "stream": "stdout",
       "text": [
        "\r",
        "88% [=================================>     ] 254,213,280 3.35MB/s  eta 10s    "
       ]
      },
      {
       "output_type": "stream",
       "stream": "stdout",
       "text": [
        "\r",
        "89% [=================================>     ] 254,992,800 3.38MB/s  eta 10s    "
       ]
      },
      {
       "output_type": "stream",
       "stream": "stdout",
       "text": [
        "\r",
        "89% [=================================>     ] 255,777,120 3.40MB/s  eta 8s     "
       ]
      },
      {
       "output_type": "stream",
       "stream": "stdout",
       "text": [
        "\r",
        "89% [=================================>     ] 256,553,744 3.44MB/s  eta 8s     "
       ]
      },
      {
       "output_type": "stream",
       "stream": "stdout",
       "text": [
        "\r",
        "89% [==================================>    ] 257,325,528 3.48MB/s  eta 8s     "
       ]
      },
      {
       "output_type": "stream",
       "stream": "stdout",
       "text": [
        "\r",
        "90% [==================================>    ] 258,065,456 3.49MB/s  eta 8s     "
       ]
      },
      {
       "output_type": "stream",
       "stream": "stdout",
       "text": [
        "\r",
        "90% [==================================>    ] 258,839,640 3.51MB/s  eta 8s     "
       ]
      },
      {
       "output_type": "stream",
       "stream": "stdout",
       "text": [
        "\r",
        "90% [==================================>    ] 259,621,560 3.53MB/s  eta 7s     "
       ]
      },
      {
       "output_type": "stream",
       "stream": "stdout",
       "text": [
        "\r",
        "91% [==================================>    ] 260,394,792 3.54MB/s  eta 7s     "
       ]
      },
      {
       "output_type": "stream",
       "stream": "stdout",
       "text": [
        "\r",
        "91% [==================================>    ] 261,120,240 3.52MB/s  eta 7s     "
       ]
      },
      {
       "output_type": "stream",
       "stream": "stdout",
       "text": [
        "\r",
        "91% [==================================>    ] 261,868,856 3.52MB/s  eta 7s     "
       ]
      },
      {
       "output_type": "stream",
       "stream": "stdout",
       "text": [
        "\r",
        "91% [==================================>    ] 262,548,464 3.52MB/s  eta 7s     "
       ]
      },
      {
       "output_type": "stream",
       "stream": "stdout",
       "text": [
        "\r",
        "92% [==================================>    ] 263,333,280 3.52MB/s  eta 6s     "
       ]
      },
      {
       "output_type": "stream",
       "stream": "stdout",
       "text": [
        "\r",
        "92% [===================================>   ] 264,117,600 3.52MB/s  eta 6s     "
       ]
      },
      {
       "output_type": "stream",
       "stream": "stdout",
       "text": [
        "\r",
        "92% [===================================>   ] 264,886,984 3.53MB/s  eta 6s     "
       ]
      },
      {
       "output_type": "stream",
       "stream": "stdout",
       "text": [
        "\r",
        "92% [===================================>   ] 265,609,536 3.53MB/s  eta 6s     "
       ]
      },
      {
       "output_type": "stream",
       "stream": "stdout",
       "text": [
        "\r",
        "93% [===================================>   ] 266,392,904 3.53MB/s  eta 6s     "
       ]
      },
      {
       "output_type": "stream",
       "stream": "stdout",
       "text": [
        "\r",
        "93% [===================================>   ] 267,190,752 3.52MB/s  eta 5s     "
       ]
      },
      {
       "output_type": "stream",
       "stream": "stdout",
       "text": [
        "\r",
        "93% [===================================>   ] 267,962,040 3.52MB/s  eta 5s     "
       ]
      },
      {
       "output_type": "stream",
       "stream": "stdout",
       "text": [
        "\r",
        "93% [===================================>   ] 268,740,112 3.53MB/s  eta 5s     "
       ]
      },
      {
       "output_type": "stream",
       "stream": "stdout",
       "text": [
        "\r",
        "94% [===================================>   ] 269,523,480 3.52MB/s  eta 5s     "
       ]
      },
      {
       "output_type": "stream",
       "stream": "stdout",
       "text": [
        "\r",
        "94% [===================================>   ] 270,362,824 3.54MB/s  eta 5s     "
       ]
      },
      {
       "output_type": "stream",
       "stream": "stdout",
       "text": [
        "\r",
        "94% [===================================>   ] 271,214,744 3.57MB/s  eta 4s     "
       ]
      },
      {
       "output_type": "stream",
       "stream": "stdout",
       "text": [
        "\r",
        "95% [====================================>  ] 272,009,696 3.55MB/s  eta 4s     "
       ]
      },
      {
       "output_type": "stream",
       "stream": "stdout",
       "text": [
        "\r",
        "95% [====================================>  ] 272,843,744 3.59MB/s  eta 4s     "
       ]
      },
      {
       "output_type": "stream",
       "stream": "stdout",
       "text": [
        "\r",
        "95% [====================================>  ] 273,754,536 3.62MB/s  eta 4s     "
       ]
      },
      {
       "output_type": "stream",
       "stream": "stdout",
       "text": [
        "\r",
        "96% [====================================>  ] 274,673,520 3.67MB/s  eta 4s     "
       ]
      },
      {
       "output_type": "stream",
       "stream": "stdout",
       "text": [
        "\r",
        "96% [====================================>  ] 275,564,040 3.73MB/s  eta 3s     "
       ]
      },
      {
       "output_type": "stream",
       "stream": "stdout",
       "text": [
        "\r",
        "96% [====================================>  ] 276,330,032 3.70MB/s  eta 3s     "
       ]
      },
      {
       "output_type": "stream",
       "stream": "stdout",
       "text": [
        "\r",
        "96% [====================================>  ] 277,158,784 3.74MB/s  eta 3s     "
       ]
      },
      {
       "output_type": "stream",
       "stream": "stdout",
       "text": [
        "\r",
        "97% [====================================>  ] 278,071,024 3.77MB/s  eta 3s     "
       ]
      },
      {
       "output_type": "stream",
       "stream": "stdout",
       "text": [
        "\r",
        "97% [=====================================> ] 279,031,048 3.84MB/s  eta 3s     "
       ]
      },
      {
       "output_type": "stream",
       "stream": "stdout",
       "text": [
        "\r",
        "97% [=====================================> ] 279,898,400 3.88MB/s  eta 2s     "
       ]
      },
      {
       "output_type": "stream",
       "stream": "stdout",
       "text": [
        "\r",
        "98% [=====================================> ] 280,791,816 3.90MB/s  eta 2s     "
       ]
      },
      {
       "output_type": "stream",
       "stream": "stdout",
       "text": [
        "\r",
        "98% [=====================================> ] 281,664,464 3.87MB/s  eta 2s     "
       ]
      },
      {
       "output_type": "stream",
       "stream": "stdout",
       "text": [
        "\r",
        "98% [=====================================> ] 281,682,336 3.67MB/s  eta 2s     "
       ]
      },
      {
       "output_type": "stream",
       "stream": "stdout",
       "text": [
        "\r",
        "98% [=====================================> ] 281,728,672 3.42MB/s  eta 2s     "
       ]
      },
      {
       "output_type": "stream",
       "stream": "stdout",
       "text": [
        "\r",
        "98% [=====================================> ] 281,866,232 3.26MB/s  eta 1s     "
       ]
      },
      {
       "output_type": "stream",
       "stream": "stdout",
       "text": [
        "\r",
        "98% [=====================================> ] 282,095,016 3.09MB/s  eta 1s     "
       ]
      },
      {
       "output_type": "stream",
       "stream": "stdout",
       "text": [
        "\r",
        "98% [=====================================> ] 282,681,456 3.05MB/s  eta 1s     "
       ]
      },
      {
       "output_type": "stream",
       "stream": "stdout",
       "text": [
        "\r",
        "99% [=====================================> ] 283,398,216 3.03MB/s  eta 1s     "
       ]
      },
      {
       "output_type": "stream",
       "stream": "stdout",
       "text": [
        "\r",
        "99% [=====================================> ] 284,121,720 3.02MB/s  eta 1s     "
       ]
      },
      {
       "output_type": "stream",
       "stream": "stdout",
       "text": [
        "\r",
        "99% [=====================================> ] 284,901,240 2.95MB/s  eta 0s     "
       ]
      },
      {
       "output_type": "stream",
       "stream": "stdout",
       "text": [
        "\r",
        "99% [=====================================> ] 285,681,712 2.95MB/s  eta 0s     "
       ]
      },
      {
       "output_type": "stream",
       "stream": "stdout",
       "text": [
        "\r",
        "100%[======================================>] 286,066,796 3.00MB/s   in 80s    \r\n",
        "\r\n"
       ]
      },
      {
       "output_type": "stream",
       "stream": "stdout",
       "text": [
        "2014-01-17 12:53:21 (3.42 MB/s) - \u2018galGal4.fa.masked.gz\u2019 saved [286066796]\r\n",
        "\r\n"
       ]
      }
     ],
     "prompt_number": 16
    },
    {
     "cell_type": "code",
     "collapsed": false,
     "input": [
      "#!bwa index galGal4.fa.masked.gz"
     ],
     "language": "python",
     "metadata": {},
     "outputs": [
      {
       "output_type": "stream",
       "stream": "stdout",
       "text": [
        "[bwa_index] Pack FASTA... "
       ]
      },
      {
       "output_type": "stream",
       "stream": "stdout",
       "text": [
        "16.33 sec\r\n",
        "[bwa_index] Construct BWT for the packed sequence...\r\n",
        "[BWTIncCreate] textLength=2093864198, availableWord=159331856\r\n"
       ]
      },
      {
       "output_type": "stream",
       "stream": "stdout",
       "text": [
        "[BWTIncConstructFromPacked] 10 iterations done. 99999990 characters processed.\r\n"
       ]
      },
      {
       "output_type": "stream",
       "stream": "stdout",
       "text": [
        "[BWTIncConstructFromPacked] 20 iterations done. 199999990 characters processed.\r\n"
       ]
      },
      {
       "output_type": "stream",
       "stream": "stdout",
       "text": [
        "[BWTIncConstructFromPacked] 30 iterations done. 299999990 characters processed.\r\n"
       ]
      },
      {
       "output_type": "stream",
       "stream": "stdout",
       "text": [
        "[BWTIncConstructFromPacked] 40 iterations done. 399999990 characters processed.\r\n"
       ]
      },
      {
       "output_type": "stream",
       "stream": "stdout",
       "text": [
        "[BWTIncConstructFromPacked] 50 iterations done. 499999990 characters processed.\r\n"
       ]
      },
      {
       "output_type": "stream",
       "stream": "stdout",
       "text": [
        "[BWTIncConstructFromPacked] 60 iterations done. 599999990 characters processed.\r\n"
       ]
      },
      {
       "output_type": "stream",
       "stream": "stdout",
       "text": [
        "[BWTIncConstructFromPacked] 70 iterations done. 699999990 characters processed.\r\n"
       ]
      },
      {
       "output_type": "stream",
       "stream": "stdout",
       "text": [
        "[BWTIncConstructFromPacked] 80 iterations done. 799999990 characters processed.\r\n"
       ]
      },
      {
       "output_type": "stream",
       "stream": "stdout",
       "text": [
        "[BWTIncConstructFromPacked] 90 iterations done. 899999990 characters processed.\r\n"
       ]
      },
      {
       "output_type": "stream",
       "stream": "stdout",
       "text": [
        "[BWTIncConstructFromPacked] 100 iterations done. 999999990 characters processed.\r\n"
       ]
      },
      {
       "output_type": "stream",
       "stream": "stdout",
       "text": [
        "[BWTIncConstructFromPacked] 110 iterations done. 1099999990 characters processed.\r\n"
       ]
      },
      {
       "output_type": "stream",
       "stream": "stdout",
       "text": [
        "[BWTIncConstructFromPacked] 120 iterations done. 1199999990 characters processed.\r\n"
       ]
      },
      {
       "output_type": "stream",
       "stream": "stdout",
       "text": [
        "[BWTIncConstructFromPacked] 130 iterations done. 1299999990 characters processed.\r\n"
       ]
      },
      {
       "output_type": "stream",
       "stream": "stdout",
       "text": [
        "[BWTIncConstructFromPacked] 140 iterations done. 1399999990 characters processed.\r\n"
       ]
      },
      {
       "output_type": "stream",
       "stream": "stdout",
       "text": [
        "[BWTIncConstructFromPacked] 150 iterations done. 1496091894 characters processed.\r\n"
       ]
      },
      {
       "output_type": "stream",
       "stream": "stdout",
       "text": [
        "[BWTIncConstructFromPacked] 160 iterations done. 1581646902 characters processed.\r\n"
       ]
      },
      {
       "output_type": "stream",
       "stream": "stdout",
       "text": [
        "[BWTIncConstructFromPacked] 170 iterations done. 1657684406 characters processed.\r\n"
       ]
      },
      {
       "output_type": "stream",
       "stream": "stdout",
       "text": [
        "[BWTIncConstructFromPacked] 180 iterations done. 1725262710 characters processed.\r\n"
       ]
      },
      {
       "output_type": "stream",
       "stream": "stdout",
       "text": [
        "[BWTIncConstructFromPacked] 190 iterations done. 1785322486 characters processed.\r\n"
       ]
      },
      {
       "output_type": "stream",
       "stream": "stdout",
       "text": [
        "[BWTIncConstructFromPacked] 200 iterations done. 1838699750 characters processed.\r\n"
       ]
      },
      {
       "output_type": "stream",
       "stream": "stdout",
       "text": [
        "[BWTIncConstructFromPacked] 210 iterations done. 1886137606 characters processed.\r\n"
       ]
      },
      {
       "output_type": "stream",
       "stream": "stdout",
       "text": [
        "[BWTIncConstructFromPacked] 220 iterations done. 1928296470 characters processed.\r\n"
       ]
      },
      {
       "output_type": "stream",
       "stream": "stdout",
       "text": [
        "[BWTIncConstructFromPacked] 230 iterations done. 1965763350 characters processed.\r\n"
       ]
      },
      {
       "output_type": "stream",
       "stream": "stdout",
       "text": [
        "[BWTIncConstructFromPacked] 240 iterations done. 1999059942 characters processed.\r\n"
       ]
      },
      {
       "output_type": "stream",
       "stream": "stdout",
       "text": [
        "[BWTIncConstructFromPacked] 250 iterations done. 2028650038 characters processed.\r\n"
       ]
      },
      {
       "output_type": "stream",
       "stream": "stdout",
       "text": [
        "[BWTIncConstructFromPacked] 260 iterations done. 2054945718 characters processed.\r\n"
       ]
      },
      {
       "output_type": "stream",
       "stream": "stdout",
       "text": [
        "[BWTIncConstructFromPacked] 270 iterations done. 2078313366 characters processed.\r\n"
       ]
      },
      {
       "output_type": "stream",
       "stream": "stdout",
       "text": [
        "[bwt_gen] Finished constructing BWT in 278 iterations.\r\n"
       ]
      },
      {
       "output_type": "stream",
       "stream": "stdout",
       "text": [
        "[bwa_index] 682.85 seconds elapse.\r\n",
        "[bwa_index] Update BWT... "
       ]
      },
      {
       "output_type": "stream",
       "stream": "stdout",
       "text": [
        "9.51 sec\r\n",
        "[bwa_index] Pack forward-only FASTA... "
       ]
      },
      {
       "output_type": "stream",
       "stream": "stdout",
       "text": [
        "13.33 sec\r\n",
        "[bwa_index] Construct SA from BWT and Occ... "
       ]
      },
      {
       "output_type": "stream",
       "stream": "stdout",
       "text": [
        "269.31 sec\r\n",
        "[main] Version: 0.7.5a-r405\r\n",
        "[main] CMD: bwa index galGal4.fa.masked.gz\r\n",
        "[main] Real time: 1031.427 sec; CPU: 991.337 sec\r\n"
       ]
      }
     ],
     "prompt_number": 17
    },
    {
     "cell_type": "code",
     "collapsed": false,
     "input": [
      "!gunzip -c galGal4.fa.masked.gz > galGal4.fa.masked"
     ],
     "language": "python",
     "metadata": {},
     "outputs": [],
     "prompt_number": 18
    },
    {
     "cell_type": "code",
     "collapsed": false,
     "input": [
      "!samtools faidx galGal4.fa.masked"
     ],
     "language": "python",
     "metadata": {},
     "outputs": [],
     "prompt_number": 19
    },
    {
     "cell_type": "raw",
     "metadata": {},
     "source": [
      "%%bash \n",
      "for f in ../moleculo/LR6000017-DNA_A01-LRAAA-*_LongRead_500_1499nt.fastq\n",
      "do\n",
      "  bwa mem galGal4.fa.masked.gz $f > $f.sam\n",
      "  samtools import galGal4.fa.masked.fai $f.sam $f.bam\n",
      "  samtools sort $f.bam $f.sorted\n",
      "  samtools index $f.sorted.bam\n",
      "  samtools tview $f.sorted.bam galGal4.fa.masked\n",
      "done"
     ]
    },
    {
     "cell_type": "code",
     "collapsed": false,
     "input": [
      "!ls"
     ],
     "language": "python",
     "metadata": {},
     "outputs": [
      {
       "output_type": "stream",
       "stream": "stdout",
       "text": [
        "galGal4.fa.masked        galGal4.fa.masked.gz     galGal4.fa.masked.gz.ann galGal4.fa.masked.gz.pac\r\n",
        "galGal4.fa.masked.fai    galGal4.fa.masked.gz.amb galGal4.fa.masked.gz.bwt galGal4.fa.masked.gz.sa\r\n"
       ]
      }
     ],
     "prompt_number": 8
    },
    {
     "cell_type": "code",
     "collapsed": false,
     "input": [
      "%%bash\n",
      "for f in ../moleculo/*sorted*.bam\n",
      "do\n",
      "  echo $(basename $f)\n",
      "  samtools flagstat $f | grep \"mapped (\"\n",
      "  echo\n",
      "done"
     ],
     "language": "python",
     "metadata": {},
     "outputs": [
      {
       "output_type": "stream",
       "stream": "stdout",
       "text": [
        "../moleculo/LR6000017-DNA_A01-LRAAA-1_LongRead.fastq.sorted.bam\n",
        "***********\n",
        "678540 + 0 mapped (99.98%:nan%)\n",
        "\n",
        "../moleculo/LR6000017-DNA_A01-LRAAA-1_LongRead_500_1499nt.fastq.sorted.bam\n",
        "***********\n",
        "198271 + 0 mapped (99.34%:nan%)\n",
        "\n",
        "../moleculo/LR6000017-DNA_A01-LRAAA-2_LongRead.fastq.sorted.bam\n",
        "***********\n",
        "687033 + 0 mapped (99.98%:nan%)\n",
        "\n",
        "../moleculo/LR6000017-DNA_A01-LRAAA-2_LongRead_500_1499nt.fastq.sorted.bam\n",
        "***********\n",
        "184889 + 0 mapped (99.22%:nan%)\n",
        "\n",
        "../moleculo/LR6000017-DNA_A01-LRAAA-3_LongRead.fastq.sorted.bam\n",
        "***********\n",
        "691977 + 0 mapped (99.97%:nan%)\n",
        "\n",
        "../moleculo/LR6000017-DNA_A01-LRAAA-3_LongRead_500_1499nt.fastq.sorted.bam\n",
        "***********\n",
        "196101 + 0 mapped (99.22%:nan%)\n",
        "\n",
        "../moleculo/LR6000017-DNA_A01-LRAAA-4_LongRead.fastq.sorted.bam\n",
        "***********\n",
        "708416 + 0 mapped (99.98%:nan%)\n",
        "\n",
        "../moleculo/LR6000017-DNA_A01-LRAAA-4_LongRead_500_1499nt.fastq.sorted.bam\n",
        "***********\n",
        "188902 + 0 mapped (99.22%:nan%)\n",
        "\n",
        "../moleculo/LR6000017-DNA_A01-LRAAA-5_LongRead.fastq.sorted.bam\n",
        "***********\n",
        "667695 + 0 mapped (99.97%:nan%)\n",
        "\n",
        "../moleculo/LR6000017-DNA_A01-LRAAA-5_LongRead_500_1499nt.fastq.sorted.bam\n",
        "***********\n",
        "201571 + 0 mapped (99.32%:nan%)\n",
        "\n"
       ]
      }
     ],
     "prompt_number": 9
    },
    {
     "cell_type": "code",
     "collapsed": false,
     "input": [
      "%%bash\n",
      "grep \">\" galGal4.fa.masked|uniq -u|wc -l"
     ],
     "language": "python",
     "metadata": {},
     "outputs": [
      {
       "output_type": "stream",
       "stream": "stdout",
       "text": [
        "   15932\n"
       ]
      }
     ],
     "prompt_number": 14
    },
    {
     "cell_type": "code",
     "collapsed": false,
     "input": [
      "%%bash\n",
      "for f in ../moleculo/LR6000017-DNA_A01-LRAAA-*.sam\n",
      "do\n",
      "  echo -n \"$f: \"\n",
      "  #grep \"Read_\" $f | cut -f3 | grep chr | sort -u > $f.unique\n",
      "  wc -l $f.unique | sed 's/^ *//g' | cut -d \" \" -f1\n",
      "done"
     ],
     "language": "python",
     "metadata": {},
     "outputs": [
      {
       "output_type": "stream",
       "stream": "stdout",
       "text": [
        "../moleculo/LR6000017-DNA_A01-LRAAA-1_LongRead.fastq.sam: 4346\n",
        "../moleculo/LR6000017-DNA_A01-LRAAA-1_LongRead_500_1499nt.fastq.sam: 2814\n",
        "../moleculo/LR6000017-DNA_A01-LRAAA-2_LongRead.fastq.sam: 4279\n",
        "../moleculo/LR6000017-DNA_A01-LRAAA-2_LongRead_500_1499nt.fastq.sam: 2841\n",
        "../moleculo/LR6000017-DNA_A01-LRAAA-3_LongRead.fastq.sam: 4269\n",
        "../moleculo/LR6000017-DNA_A01-LRAAA-3_LongRead_500_1499nt.fastq.sam: 2911\n",
        "../moleculo/LR6000017-DNA_A01-LRAAA-4_LongRead.fastq.sam: 4230\n",
        "../moleculo/LR6000017-DNA_A01-LRAAA-4_LongRead_500_1499nt.fastq.sam: 2909\n",
        "../moleculo/LR6000017-DNA_A01-LRAAA-5_LongRead.fastq.sam: 4188\n",
        "../moleculo/LR6000017-DNA_A01-LRAAA-5_LongRead_500_1499nt.fastq.sam: 2811\n"
       ]
      }
     ],
     "prompt_number": 21
    },
    {
     "cell_type": "code",
     "collapsed": false,
     "input": [
      "%%bash\n",
      "cat ../moleculo/*.unique|sort -u|wc -l"
     ],
     "language": "python",
     "metadata": {},
     "outputs": [
      {
       "output_type": "stream",
       "stream": "stdout",
       "text": [
        "    8425\n"
       ]
      }
     ],
     "prompt_number": 20
    },
    {
     "cell_type": "code",
     "collapsed": false,
     "input": [
      "# unique reads mapped with bwa to the reference\n",
      "8425./15932"
     ],
     "language": "python",
     "metadata": {},
     "outputs": [
      {
       "metadata": {},
       "output_type": "pyout",
       "prompt_number": 32,
       "text": [
        "0.528809942254582"
       ]
      }
     ],
     "prompt_number": 32
    },
    {
     "cell_type": "code",
     "collapsed": false,
     "input": [
      "%%bash\n",
      "# http://picard.sourceforge.net/explain-flags.html\n",
      "# http://left.subtree.org/2012/04/13/counting-the-number-of-reads-in-a-bam-file/\n",
      "for bam in ../moleculo/LR6000017-DNA_A01-LRAAA-*.sorted.bam\n",
      "do\n",
      "  echo -n \"$bam: \"\n",
      "  samtools view -c -f 4 $bam\n",
      "done"
     ],
     "language": "python",
     "metadata": {},
     "outputs": [
      {
       "output_type": "stream",
       "stream": "stdout",
       "text": [
        "../moleculo/LR6000017-DNA_A01-LRAAA-1_LongRead.fastq.sorted.bam: 167\n",
        "../moleculo/LR6000017-DNA_A01-LRAAA-1_LongRead_500_1499nt.fastq.sorted.bam: 1320\n",
        "../moleculo/LR6000017-DNA_A01-LRAAA-2_LongRead.fastq.sorted.bam: 151\n",
        "../moleculo/LR6000017-DNA_A01-LRAAA-2_LongRead_500_1499nt.fastq.sorted.bam: 1446\n",
        "../moleculo/LR6000017-DNA_A01-LRAAA-3_LongRead.fastq.sorted.bam: 180\n",
        "../moleculo/LR6000017-DNA_A01-LRAAA-3_LongRead_500_1499nt.fastq.sorted.bam: 1535\n",
        "../moleculo/LR6000017-DNA_A01-LRAAA-4_LongRead.fastq.sorted.bam: 157\n",
        "../moleculo/LR6000017-DNA_A01-LRAAA-4_LongRead_500_1499nt.fastq.sorted.bam: 1476\n",
        "../moleculo/LR6000017-DNA_A01-LRAAA-5_LongRead.fastq.sorted.bam: 167\n",
        "../moleculo/LR6000017-DNA_A01-LRAAA-5_LongRead_500_1499nt.fastq.sorted.bam: 1386\n"
       ]
      }
     ],
     "prompt_number": 33
    },
    {
     "cell_type": "raw",
     "metadata": {},
     "source": [
      "Removing -c samtools output the reads, and so I took 25 from LR6000017-DNA_A01-LRAAA-1_LongRead"
     ]
    },
    {
     "cell_type": "code",
     "collapsed": false,
     "input": [
      "%%bash\n",
      "\n",
      "samtools view -f 4 ../moleculo/LR6000017-DNA_A01-LRAAA-1_LongRead.fastq.sorted.bam | head -25 | cut -f10 > reads"
     ],
     "language": "python",
     "metadata": {},
     "outputs": [],
     "prompt_number": 35
    },
    {
     "cell_type": "raw",
     "metadata": {},
     "source": [
      "And thrown in BLAT first 5 lines:\n",
      "\n",
      "GGTCAGGCAATGCCAGGCAAAGACAGGCCAGGCCAGGCCCAACTAGGCCAGTCTTTGCCAAGTCAGGCCAGGCCAGCCCAGGCCAGGCACGGCCTGGCCAGACAAGACCAGGTCAGGCCAGGCAAGGCCAGGCAAGGACAGGCCAGACAAGACAAGGCAAGACAAGTCAAGGCCAGGAAAGGCAAGGCCAGGCCAAGGCAGGACAGGTGAGGCAAGACTGTGCCAGCAAGGACAGGGCAGGCCAGACCAGGCCAGGGCAGACCAGGGAGTCCAGGGGAGTTTAGGCAAGTCACAGCAAGGCCACGCCAGGCCAGGCCAGGGAGGCCAGGCAGAGCCAGGGCAGGCCAGGTGAGACGAGGCGAGGCCTGGCCAGGGCAGGCCAGGCTAGACGAGACGGGTCCAGGACAGGCCAGGTGAGGCCAGGCCAGGCCAGGCAAGGCAAGGCATGCAAGACCTAGCCAGGCCATGCCAGGCCAGGCTAAGCCAGGACAGGTGAGGCAATGCCAGGCCAGGCAAGGACAAGCCTGGCCAGGCCAAGCAGGGACAAGGCCACGCCAGGAAAGGCCAGGCAAGACCAGGCCAAGCCAGGCCAGAGCAGGAAAGGCCAGGCAAGGCCAGGCCAGAGAATGCAAGGCCAGGGAAGGCCAGTACAGGCCAGGCAATGCAAGGCAAGGCAAGGCACGGCCAGGACAGGTCAGTGCAGTCCAGGCCAGGCATGGCAATGATAGGCCAGGCCAGGCCAGGCCAGGCAAGTCAAGGCAATGCAAAGCAAGGCAAGGCAAGGCAAGGCAAGGCAAGGCAAGGCAAGGCAAACCAGGCCAGGCTAATGAAGGCCAGGCAAGGTAAGGCCAGGCTGGGCAAGGCAAGGCAAGGCAAGGCAAGGCAAGGCCAGGGCAGTCCAGGCCATGCAAGGAAAGGCAAGGCCAGGCCATGAAAGGCCAGGCCAGGCCAGGCCAGGCAAGACCAGGCAAAGCCAGAAAAGGCAAGGCATGGTAAGGCCAGGCCAGGCCAGGCCAGGCCAGGGCAGGTAAGACAAGGCAATGCCAGGGAAGGCAAGGAAAGGCAAGGAAAGGCAAGGAAAGGCAAGGAAATGCAAGGCAAGACCAGGCCAGGCCTGGCCAGGCCAGGTCAGGAAAGAGCAGGCCAGGCACGGCAAGGCAGGCCAGGCAAGACAAGGCGAGGCCAGGCCAGGCCATGCTTGGCAAGGAAAGGCAAGGCCAGGTCAGGCAATGCCAGGCAAAGACAGGCCAGACAAGGCAAGGCAAGACAAGTCAAGGCCAGGAAAAGCAAGACCAGGTCAAGCCAGGACAGGTGAGGCAAGACCGTGCCAGCAAGGCCAGGGAAGGCCAGTACAGGCCAGGCAATGCAAGGCCAGGCAAGGCCAAGGAAGGCAAGGCAAGGTAAGGTAAGGCCAGGCCAGGCTAGCCAAGGATAGGCCAGGCCAGGCCAGGCTAATGAAGGCCAGGCAAGGCCAGGCCGGGCAAGGCAAGGCATGGAAAGGCAAGGCAAGGCAAAGCAAGGCAAGGCAAGGAAAAGGCAAGGCCAGGACAGGACAGGCAAGGAAAGGCCAGGGCAGGAAAGTCAAGGAAAGACAAGGCAAGGCCAGGCAAGGCAAGGCAAGGGAAGGCCAGGGAAGGCAATGCAAGCGAAGGCCAGGAAATGCCAGGCAAGGCAAGGCAAGTCATGGCAAGGCAAAGCCAGGCCACACAAGGCAAGGAATGGCAACGCATGGCCAGGAAAGGCCAGGCCAGGCCAGGCAAGGCGAGCCCAGGCATGACAAGGCAAGGCAAAGCAAGGGCAGGCAAGGCAAGACAAGGCAAGATATGGTAAGGCAAAACAAGGCCAGACAAGGCCAGGCCAGCAATGCGAGGCAAGGCAAAGCCAGGCAAAGCAAGGCCAGGCCAGGCCAGGCCAGGCCATGCCAGGCAAGACCAGGTCAGGCAAAGCCAGGCAAGGCAAGGCAAGGCAAGTCCAGGCAAGGCCAGGCCAGGCCAGGCCAGTCCAGGCACAGATGGGCAAGGGAAGGCCAGTCACGGCCAGGAAGGCCAGGCAATGAAGTCCAGGCCAGGCCAGGCCAGGCCACAGCAGGCAAAAAAAGGCAAGACCAGGAAGGCCATGGAAGGAAAGGCAAGGCCAGGCCAGACCAGGCAGGGCCTGGCAAGGCAAGGCCCGGCAAGGCAAAGCTTGGCAAGGCAAGCAGGGCAAGGCCAGGAAAGGCTAGGCTAGTCCAGGCATAGCCAGGCCAGGCAAGGCAAAGCCAGCACAGGAGAGGAAAGGCCAGGCACGGCTAGGCAAGGCAAAGCAAAGCAAGGCTGGGCAAGGCAAGGCAAGGCAAAGCCAGGCCAGGCCAGGCAAGGCGAGGCAAGGCAAGGCTGGGCCAGGAAAGGGAAGGAAGGCAAGGCAAGGCAAGGCAAGGCAGGGCCGTGCCAGGCCTGGCAAGGCCAGGCCAGGCCATGCAAGACACGACAAGGAAAGGCCAGGCAAGACAAGTCAAGGCTAGGCCAGTCCAGGCATAGCCAGGCCAGGCAAGGCAAAGCCAGGAGAGGAGAGGCAAGGCCAGGCACGGCAAGGCACGTCTTGGCAAGAATAGGCCAGGCCAGGCCAGGCAAGGCAAGGCAAGGCAAGGCAAGGCCAGACAAGGCAAGGCAAAGCAAAGCAAGGCTGGGCAAGGCAAGGCAAGGAAAGGCCAGGCAAGGCAAGAAGTGCATGTCAAGTCAAGTCAAGTCAAGGCCAGGTCAGGCCAGGCAAGGCAAGGCCAGGCCATGTCAGGCAAGGCCAGGCCAGGCCATGCAAGGCACAACAAGGAAAGGCATGGCCTGGCCAGGCAAGGA\n",
      "AGAGGCAAGGCCAGGGATGGCTAGGTACAGCATGGCAGGGCCAAGCCAGGCTAGCAACGCAAGGCAAGGCAAGGCAAGGCAAGGCCAGACAAGGCAAGGCCAAGCAAGGCAAGGCAAAGCAAAGCAAGGCTAGGCAAGGCAAGGCCAGACAAGGCCAGGCAAGTCAAGCAGGGCATGTCTAGTCAAGTCAAGGTCAGGCCAGGCAAGGCAACGCAAAGCCAGGCCAGGCTAGGCAAGGAAAGGCAAGGAAAGGCAAGTGTTGGACAGGCCAGGCTAGGCCAGGCAAGGCAATTCACGGTAACTCACAGCAACTCATGGCAAGGCAAAGCCAGGCAAGACAAGGAAAGGCAAGGCCAGGCAAGGTAAGGCCAGGCCAGGCCAGGCCCGGCAAGGCAATGCAAGGGATGGCCAGGCAAGGCCAGGGAAGGCAAGGCCAGGCAAGGCAAAGCAAGGCAAGTCATGGCAAGGCAAAGCCCAACTAAGCAAGGCAAGGCAAGTCCAGGAAAGGCCAGGCCAGGCCAGGCCACGTCAGGCAAGGCAAGGCTATGCCATGCAAGGCTAGGCAAGGCCAGACAAGACCAGGCAAGGCAAGGCAAGAGAAGGCCAGGCCAGGAAAGTCCAGGCAAGACAAGGACCGGACAGGCAAGGCAAGGAAAAGCAAGGCAAGGCCAGGCAAGGCCAGGCCAGGCACGGATGGACAAGGGAAGTCAAGGCAAGGCCTGGCAAGGCAAGGCAAGGCAAGTAAAAACCAGGCAAGGGTAGGCGAGTCAAGATGAGGAAGGCCATTCAAGGAAAGGCATGGCCAGGCCAGGCCAGGCCAGGCAAGGCAAGGCAAGGCAAAGACAGAAAAATCCAGGCCAGGCCAGGCCATGCCAGGCCATGCCAGGCAAGGCCAGGTCAGGCAAAGCAAAGCAAGTCCAGGCAAGGCAAGTCCAGGCAAGGCCAGGCCAGGCAAGGCCAGGCCAGGCCAGGCACAGATGGGCAAGGGAAGGCAAGTCACAGCCAGGAAAGCCAGACAAGGAAGCCCAGGCCAGGCCATGCCAGACAAAAAAAGGCAAGACCAGGAAGGCCATGGAAGGAAAGGCAAGGTCAGGCCAGGCCATGCAAGGAAAGGCAAGGACAGGGTAGGCCAGGCAAGGCAAAACAAGGCAAGGCAAGGCAAGGCAAGGCAAGGCTGGGCCAGGAAAGACAAGGCAGGCAAGGCAAGGCAAGGCAGGGCCATGCCAGGCCAGGTAAGGCCAGGCCTGGCCATGCAAGGCACGGCAAGGAAAGGCCAGGCAAGACAAGCAGGGCAAGGCAAGTCAAAGTTAGACCAATCCAGGTATAGCCAGGCCAGTAAAGGCAAAGCCAGGAGAGGAGAGGCAAGGCCAGGCACGGCTAGGCACAGCTTGGCAGGGCCAAGCCAGGCCAGCAATGCAAGGCAAGGCAAAGCAAGGCCAGACAAGGCAAGGGCAAGCAAGGCAAGGGCAAGCAAGGTCAAGCAACGCCAGTCTAGGCAACGTCAGGCAAGCAAGGCCAGGCATGGTCAGGCAAGGCAAGGCCAAACAAGGCAAGGAAAAGTAAGGCCAGTCAGGGCAAGGAAAGGAAAACAAGGCAAGGCCAGGCAAGGCAAGGCAAGGCCAGATGGGCAAAGCCATGCCAGTAAACCAAGGAAAGTCTAGGCCAGGCCAGGAAAGGCCAGGCAATGCAAGGCAAGGCCAGGCAAGGTCAGGCCAGGCAAAGCAAGGCCAGGCCAGGCCAGGCACAGCAACACCAGTCTAGGCAAGGCCAGGAAAGGTCATGCAACACCAGTCTAGGCAAGGTCAGGCAGGGCAAGGCCAGGCAAGGTCAGGCAAAGCAAGACCAGTCCAGGCCAGGTAAGGCAAGGACAGTTAAGGTGAGGAAAGGCAAGGCAAGGTAAGGCATGGCAAGGCATGGCAAGCACAGGTCAGGCCAAACTAGGCAAGGCGAGGCAAGCAAAGGCCAGGAAGACCCAGGCCATACAAGGCCAGGCCAGGCCAAGCCAGACAAGGCAAGGCCAGGCAAGGCAAGGCAGGGCAGGGCAAGGCAAGGCAAGAAATATTCCGTCAAGGCCAGGCCAGACAAGGCAATCCCAGGCAAGGCCATGTCAGGCCAGGCAAGGCCAGGCAAAGCCAGGCCAGGCCAGGCCAAACAACTCAAGGCAAAGGAAGGACAGGCAAGGCCAGGCATTGCAAAAAAGGCAAGGCAAGGCAAGGCAAGGCAAGGCCAGGCAGAGCAAGGCAAGGCCAAGCAAGGCAAGGCAAGGCAAGGCAAGGCAAAGCCAAGCAAGGCAAGGA\n",
      "AATTACCCTCTGATATCAAACGAAAATCTCACTCCTTTTATTTTAAAGCCATCCCACCTTGTCTTCTGACAATCCGTCCGTGCAAGAACTTGGTCTCCCTCCCATTTATAAGCTCCCCTTAAGTACATGAAGGCTGAAAACAGTACTGAAAATGCATGGCCAGGCCCAATTACCGCTCCTAAATCATTATGAGAGAGCACACGGCTGCTGTTCAACTGGATTTCCTTGTTCTGTAAAAATGGCAATCAGCAGGTGATGGTAGGCTGAACATAATAAAATTTCTCTCTGGCTACTTTCTAGGGCTCTTAAATACTACCAATCCCTTAAAAATCAAATAAACAAACAACAACACAAAATACATGGAAGTGCTCAAATATTTGCACTATGGGTTTACATGAGAAGATTCAAGAACTCAGAACTGCAGTCATCCATTATTTTTGTTATTGCTTTCATACTTCGAATGTAATTACTCAAAGGAAAAAAAAAACATTCACAAGCCATTTTTAAAATAAATATTTTTTGGGACTGTAAATTAACATCTGCCAAATATTGGTTAATAATCACTCTTTTCAACATTTTCTATTTTCTTGTACCCATACGTATCCCCCAACTAAAACTCCTGCATAGGATTATGCCTTTATTTTCATCAGCCACGTCAAAAGATGACACAATAGATATATAAATCTTTGTAATGCATTTTGCTTCTAGGAAAAGCTTTCAGGAAAGCACACATGCTCACCCCATGCATATTCAAAACTCAGCAGATGTATCATGATGAGTTGCCTTGATTTGGCTCCAGAATGACAAATTATAGCCATCAGCACACATCCTGCCAAGAACAGAGAATGAAACTCTGTTTAGTCCAATGATCTTGCTTTAGTTGCAGGCAGAATTTTGTGTCCATCATAGAAATATGTGCTTCTAAATGTACTCCACTAGCATTTGTTCATGTAGCTATTTTGAAATTACAAAGTAGGCCTTTTGTTTCCTCACAGTGCTTCCATCTCTCCCCAGATCTGATCATGCTGTTTATTACAGCAGATTGGAACTGAACTGATGAAACGACATTTCACTGTAGAAGGCAGGTTTCTGAGCCCAAAGGGTTTCACTGGAAATATCTGTGCTTGAAACGCCTCCACCAAATCCAAGGGATGGCTCCAATCTGACTGAACAAGGATTCCTGGCTAGTCTAATTCTAGATCTGGGAATGCAGGGAATGCAGCGGTTCACAGTGCAGGGTGATCCTGCCTCCTGACATTTTTTTCTTCTTTTCCTGAAATCATTAATCTGCAGTTCAATCTGTCCTACAGTTAAAATTTTCTTAAAGGCATGGAGCGAAAGTCCATCGATGAACTGGGAATGTTGATTTTAGGTGTTTATTGGAGCAATCTCTGTAAAGAAAGTTTAGTTCTTGAAGGTTCTTGAGTGGAAAAAATTATGAAGGCAATCTCTATGTAACATTTCATTTTGTTGTTTCCTTCCTGGAATGTAGCTAGAGATTTAGTTAGATGCCATAATGCAGGAATAAATGGCACAGACTTCTGAAAGACACTGATTTCATAAGATTGTTCTCCATCTGTATGAAAATCTGCAAAAAAAAAAAAAAACAAAAAACAAAAACAAAAAAACAAAAAACAAAAAAACCACCCAAACCCCAAACAAAACAAAAAACAAAACAACAACAACAACAGAAAAAACCCAAAACCAAAAACCCCAAAAAAGAAAACACCCACAGAAAAGGAGAAAAACCCAGAACAAACCCCCACACAGGAAACATGTTTGCAAGGTAATTTCAGAATAAAACTTGTTAGACTTCAATATATCAACTACCAATGGCATGACAAAGACAATGCTGTACTGCGGACCATTGTACTCTTTTTTTTTCTCAAAGTAAAGAATATTTTTTGATCATTTACTTCAGTAGATTTATCCCCAACTATTCTGTGAGTTTGGGATTTCCCCACTCAGATGACTAGAGTGTGGAAGGAACAGATCAGCATGGTTTCCTCTGAAGGAATCCTACTGCCCTTCTGTCCTTTTGTGTTCTCCTACAGCTGAAAGGAGGACTCCACATCATCAAAATTAAGCCAGCTCTCAGCACACTTCCATTCAAGAGATTAACAAGGAAACTGACTAATGGAAAGATAAAACGCAAGACAACATCATAGTTATAAAACCATCAACAATGCAGAAAATAGGGCAGAAAGCTGTAATCAGTGTAAAATTAAAGACACAGAGCAGTGAGTGTCTGCAGGACTCTGCTGTCTCAAGGGCCTCCTAGAAGGAAGCTCATGCCACAGTCACCCCTCCTTGAAGCAACCTTTGGATGGTATAGGCAATATGAAGCTGTTGGACTGGATCTTTTCCAACCTTGATGATTCTATGATTTTGCCAAGCAGCTCTGAGTACACAATGGTGCACACCAGCCTCAGCAAAGTTTCCATGTGTTTCAGGATTTTTTGGTGTTATGTGATCGCAATTAGGTCTTACTTATTTTTCCTGCCAAGATGCTCAGCATCCATTTCTACTAGGACTTCAGAAAAATATCTGCCAGGGCATTTGGATGCAACATATTGCACAAATGCCCTTAACAAGTTCATAATCAGACACGGCTTTGAAATTTTTGACAAGGTTCTATCTCCTTTCAGACTCACATTTATTTCAGTCACCTACCATTTTTGGTGCTGTTTGATGGCCCTTCAGGTATATGTGCAAAAACCTTGTATTTGATGCTGCTTTGACTCACTGACAGACATTCTCAGTGTATATAGTTATCAACTTTCTTCTTCCTGAAGAGTCCTTGTTCATAGGTAATAAATAAAATGTTTTCACTGGAAAGGATGCTTTGCCCTTTTTCAATATACTTTGCAGGATGAATGTTAACATATTAGCAAGGAAGATTCTGCCTATCCTTTACCAGACAAAGTGGGGAGTGATGGACAGGCAAAAGAAACCATTTCCCTACATGATCCCTACATTTTACTCTTAGGCAAGCCAATAGATTTAACTCAGTGTACTATTTTGGAACTTTCATGTTCTGGTTGAATGCAAGAAAAAGTAGGACAAGAGAGCACTTGTTTAAGGTGGAAATCAGGCTCCTACCATACAACTGGTTAGAAATACAATGCTGTATGTTTACTATTGCTATAATGTACTTTTCAATGAATCGTCTAGCCAGCATCCTACCATTGAGCAAATGACTGCAGTTTCATTTTGTGTGGCAATCGAAACCATTCAGTTTCAAAGAATGATTGAAGTCTAATAAAGCATTCCACTGTTAACCACCAAACAGTGTCAGATTTCCACCGGCAGGTTTAGACAAGAAAAACTCTTGCTTTTTCAAGACTAACTGAATCAGGGATGTGTCATCAAGAAGCAGCCTTTTTGTTTTAGCTTTACAGTCACTCTGTAACTGACTTGGAATGGCAGGTTGAATGTTCGTAAAGCAAACGGGTATTCAAATGCTGCTTACCATGGAAGGATTAGATCAACTTTCCAGAAGTGCGGCATGCAACCAAACCTTGTGTTTGTGAGATATTGGGACCTCAATGCATGTGTTTACACCATGCAAAAAAACCAAACAAACAAACAAAAAAAACCCCACCAACAACAAAACACCCAGAAGCTATGGAAGATTAGAACATGCACAGAGCCAAATGCCATGGGGTGTATTTGATTCACTGCCAGAGCAGATCCTAGGTTATAACCCTGAGTGGCACAGTCGACTCTGTTATACCTTCTACTGAGAAATACACAGATAGAAAGCAATGGTCATACAGTGGTCATGGCCCAACAGTCCTCTGGACTGCCTTCGACAACAAGCACCAGTAGGGTTAACATGGAGCCCAATCTAGATCATAACATCACTCTCCTCCGTGTCAAACTGTGGTGATAGGCTGATGGTTGGACTAGATGATCTTAGAGATCTTTGCCAACCTTAATGATTCTATGATTCTATGAAATGTAACTGAAAACAGATCGTGTTTCCATTTGTGCACCATCCTTAGAGCATGAGAGCTCACTGCAACACACAGACAGAAGTCTTCTGTCATAAATTCAGCTCAACACTGCAATTCATGCTTCTGGAGCTGGGGAGCATAGATCTTCAAACTCGTTCTCTAATGGACTGACATTACACAATAACAGATTTTTTTCACTTGAGAGTATGTGCTCCAAGTTCTCAGTAGAAGAACAAAGCAGTGTTTGGTGGATGGAACAGTTTACATACAATTCAAACAAAACCTAAGTAGCTGATGACTAACTTACAAAGCATAAAGATTCCAGTTTTGTGTTGCTGAAAAATGTAAAAACAAAACTGTTCTTGCTTGCTCCCCCAGGAATACATCACTGCCAGAAGCCAATTCAGAGGTTGGGAAAACTAAGGTCCATTTCAAAGTTAATTCTGGGGTTGCCCAGTGTAAATCTTATGAAACATACTGGAAAAAATCAAGATATGAGTCATTCACACCAATCTGTCAAGACATTGTGGGAATCTACTGCAACTGCCCTTTGGGCTAAATGACTTTGTGGAGAAATTCTATTGAAAGCAAAGCACAAGAGACTAATTTAGTCCTCTGTAGCTAGTTCTTTCCTTTTCTTCCTTTTCTATCTTGCTTGCTTTCTTG\n",
      "TGCTCACTCTCTCTCCATCTCTTCCTCCTTCCCCTTTTTCTTGTTCAATTGATTTTCAGTGCAATAGGAACAAAGGGCCCAGTCAAGGTCAGGGCACTGGTCTGAGTCTGCAACATGCCTTTAGAGGGGAGCAGTGACAAATATAATCAGTGGAGCAATAGACAGTGAGTGGCAGTGGTGGACTTAGGGAGCTTATGACATGCTTTACACAAAGCTGAGTAGAAAGGCATGTTGTAAGTCAATGAAGTGACAATTTCAGCATTTTTATCCTACCTTACAATTGAAGGATCAGACACAGAGTTTGTAGTCATGGAATCAAGCTGTAAGCATAATTACTCCATTTTCCATTCTCTCATCTCTGCCACCAGTTCTGTGCCACATACTGCCATTCCCCACCTTTCCAGTCTTTCTACCCTGGTTTTCTACCCTGAAAAAATGTGTTTTAAGAACGTCACAACAACACCACAATATACGAGTATCTTTAGCTTTTATGAGGATTGACAGAAAAATATTGATGGAAAGTATCTGAGGAGAAATTTGACCTCCAAATTTTATTTCTGCTCCCCAGACAACCTGATTACTTTCCATAGAAGTATTAATATTTTCTTCATGAGAATCTGATGCTTTGACGGTTCCATGACATCCACATAGGAGCCATAATATGTCTCTTTCCTTCTCCTGAAAAATAAGAAAGTGGTGTTTGCTGGATGCTTTGGCCCAAGAATGGGATCCAGACTGAACTGAAAAATGAGCGGGTCAGGAACTCAATTCTCCGGAAGGTTTTCACAAACACATTTCAGAACAAGATTTTTAATTTATCAATCTTTTCTAGGGGGAAAAATATTTTTTAAAAAAGATTTTATTAACATTTCTACAGTAACTTAGATTTTACGCTAGGGGGAATTCTGAGATGAGTAACAAAATAAAGAGCATCAGACATCTTCATTTTTTCAGTAACTGCCACTTAAAAGATGCAGAAAAACATTTATATGCATCAGTATATTACATTCAATAAGCATCCTCCTGAGAAGAAGAGGAGGGTAAAATCTCTGCAATCCTTCTCGTATTTCAAAACAAAACAGAAGGAAGCCTGCACTTGGTTTGTTGCTCTGATAAACAAACAAGTCTTACATCATCAACTTTGTGTATTCATCATATACAGCTAAAGATTGCTAAACACCAGATCTAAATTAATTATAAGCTATAATTTATTTATCTAGGAGTTAAGTCCTATTCCCCTATCACCCCACTGTTTCTGTCATCAGGAGCAATTCCTCCACAGATGAAATCTTTGTTCAGGGACCTCTTATAAGTTGTGGCAGCAGAGCTGGGCTTCCTCTGCTTGGACAAGCCAGTAGTGCTCCCCCTCTAGCCCTTACAGCACCTTCATACTCCTTCCATTCCCCTTCACCTCAAAGACAAATCTTTTCTTATGATGTAGGTGAATGCTACTTGAATGCTCTGATGACATGAGAGAGCTTGACTTTTTATTCTGCAGTTACAAGGTTTTAGAGAAAGAAGTCACTGTGAGTGAGTTCACACCTCACACTATACTAAGTTCCACTGCAAGGGAGATTTTAGGGAGGTCTCTCTCTAATACCTCCTGAAAGCTGCACAAGGCTTCAGATTACATCTGGTCTGCACATATGACAAAAGGACCTTCTATTTCAGCATGGCAATAGTCAGCAGTTTAAATTCTGCTCTCTGATAGATGTTTAGTCTGAAAATGTGGACTGAAAGGTACCATCATGCTCTTCTTCAGAAACTAAATCACATGAGGCCTCACCTGTAGATCCACCTGCAAAAGAAAACAGAAATCCTAGGGGACACAGGAGATTGGAGATGATTTTTTCTGTCACTGCAGAGTTTGGTTTTCTCAATCCAAACTGCAATGCTCTTTGAGTGACACTGTCTTTTAAATAATAAATACTTTATCACTTAACATTATCAAATAGATTTTTGTCACTTTACTGATGCTATGAAAGTTTCTTAACCACTAGAAATCAGATACATTTTAATAATTTGGATTTGTATTCACCTGCCAGAAAGGCAATTTGCCTAATACTTTTGTAATATTACCATAATTCACTGCTCCCAAAATTTTGGACTTTCTGTATTAACATCAACTTTCTGTCCTAACAATTGTCACAGACCATGTATGTTAGTACTTAGAGTGAGCTCATGATCCCAAAACACACATTTTCATTCCAAGACCTACATTTTACAGTCCAGAATGCTACTTCTATATGATGTGACTTCAGATTTGGTCTTCTTTCAGCCCTCTTTTGTGTCAAAAGCTTGTGTGACTTCTAATCCTCTGAAAAACAAAGGTGACATGCTACAGAAACTTACATTAGCCTACACCAAATGAGAGTTACAGACATTAGCTTCTCCCTCACTTCTACTTTTCAGGGCAGTTCATTGAGACTTCATGCATAGTGTGCTCCTCTGTGGTTACTAAGGAGGGGGTTCATATTTTCAGCATATCTTTAGTATATATTCTGCCTAGTGTGCTTCATCTGATAAGAATTCCAATGATTACAAAAAAAAAAAAATCTACAAACACTAATTGATTTTGGATTATTAAGACAACAGTTGAATGCCACGACTGCCACGGTGTGATGGGAAACATTACTGTCTGATGAGAGCAATTTCAAGATGGGGCTGGGGAAACTCAAAGAAGATAGGGCATAACTTGTTATTAAATACAACCAGTGAGATATGACATTCAGCTTAGGAAATTCCTAACCAACTGGCCATAAAAAATAGGAAGAGCAGAGTGGCTGGAGCATTTTGCAGTGCTTGTTCTCATTCTGACGTCCTTTGCCCACACATTTGCTGGTGGTCAGTGCAGGAGGAAAGATGTTATCTGGCCACTTCCAGCTATTCCTTTTTTCTTAGTGGCTCACTGAAACCACTTTCCTTTGTGAACTGCGTTTGTACTTGTTCTGAAGAGGTTAAAGTTATGACTGCCATAAAAACCCCACAACATAGTTGCTTCCTCCTTCCTGATTTTCTTAGAGCACTTCAGCAGAAGTAATGTACGGGGAGTGAGATTCTTATCTAAGTCATACTCCCTGAGTCTATCTCAAGTTCCTTGTTTTACAAGAGTTTTTGTAAGTGACTGAGAACAGCATGTAACC\n",
      "ACAGCTAAGAGGGAGGATCAGAAAGCAGCGGCACAGCCATCACAGTTCTGGGGGAGGTGCCGCACATCTCTCAGCCTTGCTTATTCGAACCACTGGAAAAAGAGGAGGTCAAAACCCTTTCATCAAGCTTCACCTGCATGCAAAACATCACCATGACAGGGACGGTTTTCTCATGCTCAACTTTGGGCTTGGACATTCTCCGCATCCAGCCACAGAGGATGCCATATTCTCACCTAAGCCCACAAATCAGTTGGCCCCTCGATAGCAAAAGCATATCTCAACAATCCTGGAGAAGGCCTGCATTTGATCAAGGTGTCTCATCAAGACAAAGCTCATGCAGGAAGACGCTCACCTGCTCCATCTCCGATGCATGACGTGGAGCGGGAGCAGAAGAGGACGTCGGTGTGGTTGATCAGGAACTCCACCACATCCGACTGCCTCTGAAGTTCCACGCAGGCAGCTCTTCCGCTGGCACAGGCAGCCTCGTTCTGCTGGGATCTGTAGAAAAGGCAGATTGGAGAAGTCATTGACCCGAGATCGTTTCCCCACGTTTGGGCATTTGGGCAGCCAAAGGCTGTCCAATTGGGCTCTGGAGACTTCCGCAGTGGGCAAGCAGTGATGCCACTGAAGACATTCTCCCGGGTGATCAAGGACACACCAGCCCCATCTGACAAAACCAAGAGAGCACAAATTGTCCTCCTCTCCAAAGTGTGCCCGTGGGGAGAACAGATCTAAGCCTTGTGCTGAGACGGAAAAAGAAGTTTACCTGAAGAGGTTGGGAGCCCACACAATTGCTAAGTTCTTAGCGGGCATGTTTGTGACGGAGCATCTCCCAGCGAGACAAGCCAAGTGTCTCATGAGGTACTCCAGCGTCCTGGAAATCAAGAGCCAAACCTTCAGCACCACTGAGCACGCCGTGCTCACATTCACCAAAAAAACCTCACTTCATGCCACTGCTTGTTCTTGCTACGGAATAGCAAGTAGATCACGCTTTCCCAAGTGCCACGCTGCCGCACCAAGCCCCAGCACAGCACAGCTGCAGCCATCAGCTGCACCAGCCGTGCCCCCGTGCCCAGGAGCTGACCCAATCCATTCACCCCACGCAGCCATCAACCACTTCAACACACACAGGCATCACGTAGCCAGTGTGAGACAAAGCCTGCCATCGCATCATCGCCCTCTGAAATGCAGCAGGGCTGAGCTCCCCAGACTGAGGGCAGCAGTTTTCTGACCTGTAGTGAGGTGCAGGCAGCTGCTGGATGACCTCCTGCACTCGGAGCAACCGCTCCTCATCTGTACCGGCACAAACAGCGTCCTGGAAGAAAGCAGAAAGGGAATGAGACACACATCATGCGAGTCAAGCGCATGGGGCTAACAGAAAAAGGGCCTCAGAGCTGCAGAGGGCACTGCTGCTCCCATCTCCCACATTTCCAATGGCAGGATGCACACACCAGGTGTTGTGGTGCACCCGGTGTGCAGGAAGCATGAGCTGCTTGTTGTACAGAGACACCCACTGGATGTCCATCAAAACCCCAAGTTCAACAGAAAAAAGACCAAAAAAAGGTGCGCAGGCGTGTGTGTGGATGGGACAGGGAAGAGGGACATGAAGGCCATTGCCTTGTGCTTACCGAGAACTTGCCATGCAGCTGCTCGGGCAGCAGAGGGCTCGGGAGCTCCCTGAAGTACATC"
     ]
    },
    {
     "cell_type": "markdown",
     "metadata": {},
     "source": [
      "Results (best score):\n",
      "\n",
      "1) http://genome.ucsc.edu/cgi-bin/hgTracks?db=galGal4&position=chr19%3A36756-37830\n",
      "\n",
      "2) http://genome.ucsc.edu/cgi-bin/hgTracks?db=galGal4&position=chr13%3A1121775-1124136\n",
      "\n",
      "3) http://genome.ucsc.edu/cgi-bin/hgTracks?db=galGal4&position=chr3%3A107513520-107513621\n",
      "\n",
      "4) http://genome.ucsc.edu/cgi-bin/hgTracks?db=galGal4&position=chr2%3A24098595-24098686\n",
      "\n",
      "5) http://genome.ucsc.edu/cgi-bin/hgTracks?db=galGal4&position=chrZ%3A78251989-78253677\n",
      "\n",
      "1, 3 and 5 looks normal, 2 and 4 are curious. But they seem to match.\n",
      "\n",
      "Then I tried Jared's suggestion and use the same sequences in\n",
      "http://www.ebi.ac.uk/ena/\n",
      "\n",
      "1) http://www.ebi.ac.uk/ena/data/view/AADN03007702&range=5653-6727\n",
      "\n",
      "2) http://www.ebi.ac.uk/ena/data/view/AADN03021613&range=1-1236\n",
      "\n",
      "3) http://www.ebi.ac.uk/ena/data/view/AC187113&range=18832-21204\n",
      "\n",
      "4) http://www.ebi.ac.uk/ena/data/view/AC187113&range=15651-18794\n",
      "\n",
      "5) Can't even choose one, lots of matches"
     ]
    },
    {
     "cell_type": "raw",
     "metadata": {},
     "source": [
      "%%bash\n",
      "for f in ../moleculo/LR6000017-DNA_A01-LRAAA-*.sorted.bam\n",
      "do\n",
      "  ORIGINAL=${f%.sorted.bam}\n",
      "  for read in $(samtools view -f 4 $f | cut -f1)\n",
      "  do\n",
      "    LINENUM=$(grep -m1 -n $read $ORIGINAL | cut -d\":\" -f1)\n",
      "    sed -n \"${LINENUM},$(( $LINENUM+3 ))p;$(( $LINENUM+3 ))q;\" ${ORIGINAL} >> ${ORIGINAL}.bwa_missed\n",
      "  done\n",
      "done"
     ]
    },
    {
     "cell_type": "code",
     "collapsed": false,
     "input": [
      "!python ~/work/khmer/sandbox/assemstats3.py 500 ../moleculo/*_LongRead_500_1499nt.fastq.gz ../moleculo/*Read.fastq.gz"
     ],
     "language": "python",
     "metadata": {},
     "outputs": [
      {
       "output_type": "stream",
       "stream": "stdout",
       "text": [
        "** cutoff: 500\r\n",
        "N\tsum\tmax\tfilename\r\n"
       ]
      },
      {
       "output_type": "stream",
       "stream": "stdout",
       "text": [
        "113891\t99849719\t1499\t../moleculo/LR6000017-DNA_A01-LRAAA-1_LongRead_500_1499nt.fastq.gz\r\n"
       ]
      },
      {
       "output_type": "stream",
       "stream": "stdout",
       "text": [
        "106123\t92951953\t1499\t../moleculo/LR6000017-DNA_A01-LRAAA-2_LongRead_500_1499nt.fastq.gz\r\n"
       ]
      },
      {
       "output_type": "stream",
       "stream": "stdout",
       "text": [
        "113180\t99945845\t1499\t../moleculo/LR6000017-DNA_A01-LRAAA-3_LongRead_500_1499nt.fastq.gz\r\n"
       ]
      },
      {
       "output_type": "stream",
       "stream": "stdout",
       "text": [
        "109141\t95940629\t1499\t../moleculo/LR6000017-DNA_A01-LRAAA-4_LongRead_500_1499nt.fastq.gz\r\n"
       ]
      },
      {
       "output_type": "stream",
       "stream": "stdout",
       "text": [
        "116223\t102481924\t1499\t../moleculo/LR6000017-DNA_A01-LRAAA-5_LongRead_500_1499nt.fastq.gz\r\n"
       ]
      },
      {
       "output_type": "stream",
       "stream": "stdout",
       "text": [
        "201746\t1076145062\t16667\t../moleculo/LR6000017-DNA_A01-LRAAA-1_LongRead.fastq.gz\r\n"
       ]
      },
      {
       "output_type": "stream",
       "stream": "stdout",
       "text": [
        "201798\t1098839146\t13962\t../moleculo/LR6000017-DNA_A01-LRAAA-2_LongRead.fastq.gz\r\n"
       ]
      },
      {
       "output_type": "stream",
       "stream": "stdout",
       "text": [
        "206979\t1108546510\t15889\t../moleculo/LR6000017-DNA_A01-LRAAA-3_LongRead.fastq.gz\r\n"
       ]
      },
      {
       "output_type": "stream",
       "stream": "stdout",
       "text": [
        "209393\t1140559896\t17521\t../moleculo/LR6000017-DNA_A01-LRAAA-4_LongRead.fastq.gz\r\n"
       ]
      },
      {
       "output_type": "stream",
       "stream": "stdout",
       "text": [
        "200586\t1063884080\t17401\t../moleculo/LR6000017-DNA_A01-LRAAA-5_LongRead.fastq.gz\r\n",
        "--\r\n"
       ]
      },
      {
       "output_type": "stream",
       "stream": "stdout",
       "text": [
        "TOTAL: 5.97914e+09 in 1579060 contigs (mean size 3787)\r\n"
       ]
      }
     ],
     "prompt_number": 10
    },
    {
     "cell_type": "code",
     "collapsed": false,
     "input": [
      "#!load-into-counting.py -x 1e9 -N 4 -k 32 galGal4.fa.masked.kh galGal4.fa.masked.gz"
     ],
     "language": "python",
     "metadata": {},
     "outputs": [
      {
       "output_type": "stream",
       "stream": "stdout",
       "text": [
        "galGal4.fa.masked        galGal4.fa.masked.gz     galGal4.fa.masked.gz.ann galGal4.fa.masked.gz.pac reads\r\n",
        "galGal4.fa.masked.fai    galGal4.fa.masked.gz.amb galGal4.fa.masked.gz.bwt galGal4.fa.masked.gz.sa\r\n"
       ]
      }
     ],
     "prompt_number": 8
    },
    {
     "cell_type": "code",
     "collapsed": false,
     "input": [
      "#!load-into-counting.py -x 1e9 -N 4 -k 32 ../moleculo/LR6000017-DNA_A01-LRAAA-AllReads.kh ../moleculo/*.fastq.gz"
     ],
     "language": "python",
     "metadata": {},
     "outputs": [],
     "prompt_number": 12
    },
    {
     "cell_type": "raw",
     "metadata": {},
     "source": []
    },
    {
     "cell_type": "code",
     "collapsed": false,
     "input": [
      "#!python ~/repos/khmer/scripts/count-overlap.py -k 32 -N 4 -x 1e9 moleculo/LR6000017-DNA_A01-LRAAA-AllReads.kh galGal4/galGal4.fa.masked overlap_report"
     ],
     "language": "python",
     "metadata": {},
     "outputs": [],
     "prompt_number": 13
    },
    {
     "cell_type": "code",
     "collapsed": false,
     "input": [
      "curve = np.loadtxt('../overlap_report.curve')"
     ],
     "language": "python",
     "metadata": {},
     "outputs": [],
     "prompt_number": 20
    },
    {
     "cell_type": "code",
     "collapsed": false,
     "input": [
      "figure()\n",
      "#title('Overlap')\n",
      "#plot(curve)"
     ],
     "language": "python",
     "metadata": {},
     "outputs": [
      {
       "metadata": {},
       "output_type": "pyout",
       "prompt_number": 34,
       "text": [
        "<matplotlib.figure.Figure at 0x1066cf950>"
       ]
      },
      {
       "metadata": {},
       "output_type": "display_data",
       "text": [
        "<matplotlib.figure.Figure at 0x1066cf950>"
       ]
      }
     ],
     "prompt_number": 34
    },
    {
     "cell_type": "code",
     "collapsed": false,
     "input": [
      "curve[:,1] - curve[:,0]"
     ],
     "language": "python",
     "metadata": {},
     "outputs": [
      {
       "metadata": {},
       "output_type": "pyout",
       "prompt_number": 41,
       "text": [
        "array([  4.67924001e+18,  -3.05695600e+06,  -4.71728458e+13,\n",
        "         4.84136960e+18,  -1.56116890e+07,  -4.71754615e+13,\n",
        "         4.60267882e+18,  -9.76562500e+06,   4.75203689e+18,\n",
        "         1.40734399e+14,   4.71754642e+13,   1.40735024e+14,\n",
        "         1.48284610e+07,  -4.18960707e+16,  -1.07674842e+13,\n",
        "        -6.08653160e+14,  -3.26417515e+11,   1.40735006e+14,\n",
        "         4.71749555e+13,  -2.81309900e+06,   4.71754618e+13,\n",
        "        -6.25000008e+08,   4.60267882e+18,   4.71717733e+13,\n",
        "        -1.73887040e+07,  -6.10135464e+08,   4.71754794e+13,\n",
        "         4.27757859e+09,  -1.40730729e+14,  -3.00000000e+00,\n",
        "        -3.00000000e+00,  -6.25000008e+08,  -1.61596220e+07,\n",
        "         4.15000920e+07,   1.16343741e+08,  -1.61854270e+07,\n",
        "         1.40735008e+14,   1.91856027e+13,   5.36854732e+11,\n",
        "         4.71704609e+13,   9.35593953e+13,   4.67959549e+18,\n",
        "        -8.06286132e+08,   9.35595627e+13,  -4.71756216e+13,\n",
        "         1.40735007e+14,   1.40735009e+14,   8.28758000e+05,\n",
        "        -1.67920240e+07,  -4.71754464e+13,   1.49969040e+07,\n",
        "        -1.39094868e+09,   2.00000000e+00,   1.84467441e+19,\n",
        "         4.71756285e+13,   4.71754644e+13,   4.71754794e+13,\n",
        "         4.71756136e+13,  -2.95237040e+18,   1.65227760e+07,\n",
        "        -4.71716093e+13,   4.71754451e+13,   4.66429034e+13,\n",
        "        -1.75820870e+07,  -4.71755632e+13,  -2.84750400e+06,\n",
        "         4.71755695e+13,  -4.71754615e+13,  -7.68000000e+02,\n",
        "        -9.35595497e+13,  -1.84466033e+19,   1.42256700e+06,\n",
        "        -4.71717261e+13,  -1.64711200e+06,   1.69418365e+19,\n",
        "        -1.84467441e+19,  -4.00266330e+09,  -4.71754479e+13,\n",
        "         4.75198971e+18,   4.71755797e+13,   4.71754794e+13,\n",
        "         3.32248700e+06,  -1.53058400e+06,   4.71754444e+13,\n",
        "         4.75203689e+18,   9.35595629e+13,   1.84467441e+19,\n",
        "        -4.71754642e+13,   4.71754444e+13,   4.71754448e+13,\n",
        "         4.71754642e+13,  -7.14677000e+05,   1.65219040e+07,\n",
        "        -4.71754610e+13,  -4.71754627e+13,   4.71754774e+13,\n",
        "         6.10135460e+08,   4.71754612e+13,  -1.61234880e+07,\n",
        "        -4.71748360e+13])"
       ]
      }
     ],
     "prompt_number": 41
    },
    {
     "cell_type": "code",
     "collapsed": false,
     "input": [
      "!samtools merge ../moleculo/LR6000017-DNA_A01-LRAAA-AllReads.sorted.bam ../moleculo/*.sorted.bam"
     ],
     "language": "python",
     "metadata": {},
     "outputs": []
    },
    {
     "cell_type": "code",
     "collapsed": false,
     "input": [
      "!bioinfo bwa_coverage galGal4.fa.masked ../moleculo/LR6000017-DNA_A01-LRAAA-AllReads.sorted.bam 200 ../moleculo/LR6000017-DNA_A01-LRAAA-AllReads.fastq --mapq=30"
     ],
     "language": "python",
     "metadata": {},
     "outputs": []
    },
    {
     "cell_type": "raw",
     "metadata": {},
     "source": [
      "$ bioinfo bwa_coverage galGal4.fa.masked ../moleculo/LR6000017-DNA_A01-LRAAA-AllReads.sorted.bam 200 ../moleculo/LR6000017-DNA_A01-LRAAA-AllReads.fastq --mapq=30\n",
      "reading query\n",
      "1579060 [elapsed: 01:16, 20721.82 iters/sec]\n",
      "creating empty lists\n",
      "15932 [elapsed: 01:08, 232.67 iters/sec]\n",
      "building coverage\n",
      "4411380 [elapsed: 34:36, 2123.96 iters/sec]\n",
      "Summing stats\n",
      "|##########| 15932/15932 100% [elapsed: 00:07 left: 00:00, 2008.90 iters/sec]\n",
      "\n",
      "total bases in reference: 1046932099\n",
      "total ref bases covered : 861340070\n",
      "fraction                : 0.822727730693\n",
      "reference               : galGal4.fa.masked\n",
      "bwa alignment file      : ../moleculo/LR6000017-DNA_A01-LRAAA-AllReads.sorted.bam\n",
      "query sequences         : ../moleculo/LR6000017-DNA_A01-LRAAA-AllReads.fastq"
     ]
    }
   ],
   "metadata": {}
  }
 ]
}