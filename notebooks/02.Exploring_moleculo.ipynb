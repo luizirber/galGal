{
 "metadata": {
  "name": "",
  "signature": "sha256:86ee87c1f6af1640e8165dd06540f9a88152929da831fb0ed651d01d2625ad05"
 },
 "nbformat": 3,
 "nbformat_minor": 0,
 "worksheets": [
  {
   "cells": [
    {
     "cell_type": "code",
     "collapsed": false,
     "input": [
      "%matplotlib inline\n",
      "from matplotlib import pyplot as plt"
     ],
     "language": "python",
     "metadata": {},
     "outputs": []
    },
    {
     "cell_type": "code",
     "collapsed": false,
     "input": [
      "!mkdir -p ../{inputs,outputs}/galGal4"
     ],
     "language": "python",
     "metadata": {},
     "outputs": [],
     "prompt_number": 12
    },
    {
     "cell_type": "code",
     "collapsed": false,
     "input": [
      "!cd ../inputs/galGal4 && wget -c ftp://hgdownload.cse.ucsc.edu/goldenPath/galGal4/bigZips/galGal4.fa.masked.gz\n",
      "!cp ../{inputs,outputs}/galGal4/galGal4.fa.masked.gz\n",
      "\n",
      "!cd ../inputs/galGal4 && wget -c ftp://hgdownload.cse.ucsc.edu/goldenPath/galGal4/bigZips/galGal4.fa.gz\n",
      "!cp ../{inputs,outputs}/galGal4/galGal4.fa.gz"
     ],
     "language": "python",
     "metadata": {},
     "outputs": [
      {
       "output_type": "stream",
       "stream": "stdout",
       "text": [
        "--2014-04-20 20:38:30--  ftp://hgdownload.cse.ucsc.edu/goldenPath/galGal4/bigZips/galGal4.fa.masked.gz\r\n",
        "           => \u201cgalGal4.fa.masked.gz\u201d\r\n",
        "Resolving hgdownload.cse.ucsc.edu... 128.114.119.163\r\n",
        "Connecting to hgdownload.cse.ucsc.edu|128.114.119.163|:21... "
       ]
      },
      {
       "output_type": "stream",
       "stream": "stdout",
       "text": [
        "connected.\r\n",
        "Logging in as anonymous ... "
       ]
      },
      {
       "output_type": "stream",
       "stream": "stdout",
       "text": [
        "Logged in!\r\n",
        "==> SYST ... "
       ]
      },
      {
       "output_type": "stream",
       "stream": "stdout",
       "text": [
        "done.    ==> PWD ... "
       ]
      },
      {
       "output_type": "stream",
       "stream": "stdout",
       "text": [
        "done.\r\n",
        "==> TYPE I ... "
       ]
      },
      {
       "output_type": "stream",
       "stream": "stdout",
       "text": [
        "done.  ==> CWD (1) /goldenPath/galGal4/bigZips ... "
       ]
      },
      {
       "output_type": "stream",
       "stream": "stdout",
       "text": [
        "done.\r\n",
        "==> SIZE galGal4.fa.masked.gz ... "
       ]
      },
      {
       "output_type": "stream",
       "stream": "stdout",
       "text": [
        "286066796\r\n",
        "==> PASV ... "
       ]
      },
      {
       "output_type": "stream",
       "stream": "stdout",
       "text": [
        "done.    ==> REST 286066814 ... "
       ]
      },
      {
       "output_type": "stream",
       "stream": "stdout",
       "text": [
        "done.    \r\n",
        "==> RETR galGal4.fa.masked.gz ... "
       ]
      },
      {
       "output_type": "stream",
       "stream": "stdout",
       "text": [
        "\r\n",
        "No such file \u201cgalGal4.fa.masked.gz\u201d.\r\n",
        "\r\n"
       ]
      },
      {
       "output_type": "stream",
       "stream": "stdout",
       "text": [
        "--2014-04-20 20:38:33--  ftp://hgdownload.cse.ucsc.edu/goldenPath/galGal4/bigZips/galGal4.fa.gz\r\n",
        "           => \u201cgalGal4.fa.gz\u201d\r\n",
        "Resolving hgdownload.cse.ucsc.edu... 128.114.119.163\r\n",
        "Connecting to hgdownload.cse.ucsc.edu|128.114.119.163|:21... "
       ]
      },
      {
       "output_type": "stream",
       "stream": "stdout",
       "text": [
        "connected.\r\n",
        "Logging in as anonymous ... "
       ]
      },
      {
       "output_type": "stream",
       "stream": "stdout",
       "text": [
        "Logged in!\r\n",
        "==> SYST ... "
       ]
      },
      {
       "output_type": "stream",
       "stream": "stdout",
       "text": [
        "done.    ==> PWD ... "
       ]
      },
      {
       "output_type": "stream",
       "stream": "stdout",
       "text": [
        "done.\r\n",
        "==> TYPE I ... "
       ]
      },
      {
       "output_type": "stream",
       "stream": "stdout",
       "text": [
        "done.  ==> CWD (1) /goldenPath/galGal4/bigZips ... "
       ]
      },
      {
       "output_type": "stream",
       "stream": "stdout",
       "text": [
        "done.\r\n",
        "==> SIZE galGal4.fa.gz ... "
       ]
      },
      {
       "output_type": "stream",
       "stream": "stdout",
       "text": [
        "345776391\r\n",
        "==> PASV ... "
       ]
      },
      {
       "output_type": "stream",
       "stream": "stdout",
       "text": [
        "done.    ==> RETR galGal4.fa.gz ... "
       ]
      },
      {
       "output_type": "stream",
       "stream": "stdout",
       "text": [
        "done.\r\n",
        "Length: 345776391 (330M) (unauthoritative)\r\n",
        "\r\n",
        "\r",
        " 0% [                                       ] 0           --.-K/s              "
       ]
      },
      {
       "output_type": "stream",
       "stream": "stdout",
       "text": [
        "\r",
        " 0% [                                       ] 78,192       294K/s              "
       ]
      },
      {
       "output_type": "stream",
       "stream": "stdout",
       "text": [
        "\r",
        " 0% [                                       ] 286,704      595K/s              "
       ]
      },
      {
       "output_type": "stream",
       "stream": "stdout",
       "text": [
        "\r",
        " 0% [                                       ] 644,360      926K/s              "
       ]
      },
      {
       "output_type": "stream",
       "stream": "stdout",
       "text": [
        "\r",
        " 0% [                                       ] 1,397,320   1.49M/s              "
       ]
      },
      {
       "output_type": "stream",
       "stream": "stdout",
       "text": [
        "\r",
        " 0% [                                       ] 2,215,440   1.91M/s              "
       ]
      },
      {
       "output_type": "stream",
       "stream": "stdout",
       "text": [
        "\r",
        " 1% [                                       ] 4,086,256   2.98M/s              "
       ]
      },
      {
       "output_type": "stream",
       "stream": "stdout",
       "text": [
        "\r",
        " 1% [                                       ] 5,078,136   3.19M/s              "
       ]
      },
      {
       "output_type": "stream",
       "stream": "stdout",
       "text": [
        "\r",
        " 1% [                                       ] 6,885,240   3.83M/s              "
       ]
      },
      {
       "output_type": "stream",
       "stream": "stdout",
       "text": [
        "\r",
        " 2% [                                       ] 7,457,200   3.71M/s              "
       ]
      },
      {
       "output_type": "stream",
       "stream": "stdout",
       "text": [
        "\r",
        " 2% [>                                      ] 8,934,160   4.02M/s              "
       ]
      },
      {
       "output_type": "stream",
       "stream": "stdout",
       "text": [
        "\r",
        " 3% [>                                      ] 11,139,464  4.58M/s              "
       ]
      },
      {
       "output_type": "stream",
       "stream": "stdout",
       "text": [
        "\r",
        " 3% [>                                      ] 13,407,032  5.08M/s              "
       ]
      },
      {
       "output_type": "stream",
       "stream": "stdout",
       "text": [
        "\r",
        " 4% [>                                      ] 15,645,640  5.49M/s              "
       ]
      },
      {
       "output_type": "stream",
       "stream": "stdout",
       "text": [
        "\r",
        " 5% [>                                      ] 17,716,280  5.79M/s              "
       ]
      },
      {
       "output_type": "stream",
       "stream": "stdout",
       "text": [
        "\r",
        " 5% [=>                                     ] 19,262,744  5.89M/s  eta 53s     "
       ]
      },
      {
       "output_type": "stream",
       "stream": "stdout",
       "text": [
        "\r",
        " 6% [=>                                     ] 21,051,024  6.05M/s  eta 53s     "
       ]
      },
      {
       "output_type": "stream",
       "stream": "stdout",
       "text": [
        "\r",
        " 6% [=>                                     ] 22,834,960  6.80M/s  eta 53s     "
       ]
      },
      {
       "output_type": "stream",
       "stream": "stdout",
       "text": [
        "\r",
        " 7% [=>                                     ] 24,702,880  7.24M/s  eta 53s     "
       ]
      },
      {
       "output_type": "stream",
       "stream": "stdout",
       "text": [
        "\r",
        " 7% [=>                                     ] 26,562,112  7.61M/s  eta 53s     "
       ]
      },
      {
       "output_type": "stream",
       "stream": "stdout",
       "text": [
        "\r",
        " 8% [==>                                    ] 28,524,152  8.21M/s  eta 46s     "
       ]
      },
      {
       "output_type": "stream",
       "stream": "stdout",
       "text": [
        "\r",
        " 8% [==>                                    ] 30,523,840  8.38M/s  eta 46s     "
       ]
      },
      {
       "output_type": "stream",
       "stream": "stdout",
       "text": [
        "\r",
        " 9% [==>                                    ] 32,500,360  8.36M/s  eta 46s     "
       ]
      },
      {
       "output_type": "stream",
       "stream": "stdout",
       "text": [
        "\r",
        " 9% [==>                                    ] 34,469,640  8.61M/s  eta 46s     "
       ]
      },
      {
       "output_type": "stream",
       "stream": "stdout",
       "text": [
        "\r",
        "10% [===>                                   ] 36,388,240  8.98M/s  eta 46s     "
       ]
      },
      {
       "output_type": "stream",
       "stream": "stdout",
       "text": [
        "\r",
        "11% [===>                                   ] 38,398,064  9.23M/s  eta 41s     "
       ]
      },
      {
       "output_type": "stream",
       "stream": "stdout",
       "text": [
        "\r",
        "11% [===>                                   ] 40,428,160  9.26M/s  eta 41s     "
       ]
      },
      {
       "output_type": "stream",
       "stream": "stdout",
       "text": [
        "\r",
        "12% [===>                                   ] 42,417,712  9.21M/s  eta 41s     "
       ]
      },
      {
       "output_type": "stream",
       "stream": "stdout",
       "text": [
        "\r",
        "12% [====>                                  ] 44,439,120  9.17M/s  eta 41s     "
       ]
      },
      {
       "output_type": "stream",
       "stream": "stdout",
       "text": [
        "\r",
        "13% [====>                                  ] 46,488,040  9.42M/s  eta 41s     "
       ]
      },
      {
       "output_type": "stream",
       "stream": "stdout",
       "text": [
        "\r",
        "14% [====>                                  ] 48,565,920  9.24M/s  eta 38s     "
       ]
      },
      {
       "output_type": "stream",
       "stream": "stdout",
       "text": [
        "\r",
        "14% [====>                                  ] 50,658,280  9.34M/s  eta 38s     "
       ]
      },
      {
       "output_type": "stream",
       "stream": "stdout",
       "text": [
        "\r",
        "15% [====>                                  ] 52,781,048  9.45M/s  eta 38s     "
       ]
      },
      {
       "output_type": "stream",
       "stream": "stdout",
       "text": [
        "\r",
        "15% [=====>                                 ] 54,893,680  9.53M/s  eta 38s     "
       ]
      },
      {
       "output_type": "stream",
       "stream": "stdout",
       "text": [
        "\r",
        "16% [=====>                                 ] 56,978,800  9.62M/s  eta 38s     "
       ]
      },
      {
       "output_type": "stream",
       "stream": "stdout",
       "text": [
        "\r",
        "17% [=====>                                 ] 59,071,160  9.68M/s  eta 35s     "
       ]
      },
      {
       "output_type": "stream",
       "stream": "stdout",
       "text": [
        "\r",
        "17% [=====>                                 ] 61,182,344  9.71M/s  eta 35s     "
       ]
      },
      {
       "output_type": "stream",
       "stream": "stdout",
       "text": [
        "\r",
        "18% [======>                                ] 63,281,944  9.75M/s  eta 35s     "
       ]
      },
      {
       "output_type": "stream",
       "stream": "stdout",
       "text": [
        "\r",
        "18% [======>                                ] 65,378,648  9.81M/s  eta 35s     "
       ]
      },
      {
       "output_type": "stream",
       "stream": "stdout",
       "text": [
        "\r",
        "19% [======>                                ] 67,456,528  9.84M/s  eta 35s     "
       ]
      },
      {
       "output_type": "stream",
       "stream": "stdout",
       "text": [
        "\r",
        "20% [======>                                ] 69,554,680  9.87M/s  eta 32s     "
       ]
      },
      {
       "output_type": "stream",
       "stream": "stdout",
       "text": [
        "\r",
        "20% [=======>                               ] 71,686,136  9.92M/s  eta 32s     "
       ]
      },
      {
       "output_type": "stream",
       "stream": "stdout",
       "text": [
        "\r",
        "21% [=======>                               ] 73,785,736  9.94M/s  eta 32s     "
       ]
      },
      {
       "output_type": "stream",
       "stream": "stdout",
       "text": [
        "\r",
        "21% [=======>                               ] 75,840,448  9.95M/s  eta 32s     "
       ]
      },
      {
       "output_type": "stream",
       "stream": "stdout",
       "text": [
        "\r",
        "22% [=======>                               ] 77,942,944  9.99M/s  eta 32s     "
       ]
      },
      {
       "output_type": "stream",
       "stream": "stdout",
       "text": [
        "\r",
        "23% [========>                              ] 80,046,888  10.0M/s  eta 30s     "
       ]
      },
      {
       "output_type": "stream",
       "stream": "stdout",
       "text": [
        "\r",
        "23% [========>                              ] 82,163,864  9.99M/s  eta 30s     "
       ]
      },
      {
       "output_type": "stream",
       "stream": "stdout",
       "text": [
        "\r",
        "24% [========>                              ] 84,277,944  10.0M/s  eta 30s     "
       ]
      },
      {
       "output_type": "stream",
       "stream": "stdout",
       "text": [
        "\r",
        "24% [========>                              ] 86,319,624  9.98M/s  eta 30s     "
       ]
      },
      {
       "output_type": "stream",
       "stream": "stdout",
       "text": [
        "\r",
        "25% [========>                              ] 88,432,256  9.99M/s  eta 30s     "
       ]
      },
      {
       "output_type": "stream",
       "stream": "stdout",
       "text": [
        "\r",
        "26% [=========>                             ] 90,536,200  9.98M/s  eta 29s     "
       ]
      },
      {
       "output_type": "stream",
       "stream": "stdout",
       "text": [
        "\r",
        "26% [=========>                             ] 92,666,208  9.99M/s  eta 29s     "
       ]
      },
      {
       "output_type": "stream",
       "stream": "stdout",
       "text": [
        "\r",
        "27% [=========>                             ] 94,720,920  9.99M/s  eta 29s     "
       ]
      },
      {
       "output_type": "stream",
       "stream": "stdout",
       "text": [
        "\r",
        "28% [=========>                             ] 96,835,000  9.99M/s  eta 29s     "
       ]
      },
      {
       "output_type": "stream",
       "stream": "stdout",
       "text": [
        "\r",
        "28% [==========>                            ] 98,941,840  9.99M/s  eta 29s     "
       ]
      },
      {
       "output_type": "stream",
       "stream": "stdout",
       "text": [
        "\r",
        "29% [==========>                            ] 100,612,832 9.86M/s  eta 27s     "
       ]
      },
      {
       "output_type": "stream",
       "stream": "stdout",
       "text": [
        "\r",
        "29% [==========>                            ] 102,170,880 9.70M/s  eta 27s     "
       ]
      },
      {
       "output_type": "stream",
       "stream": "stdout",
       "text": [
        "\r",
        "29% [==========>                            ] 103,698,520 9.49M/s  eta 27s     "
       ]
      },
      {
       "output_type": "stream",
       "stream": "stdout",
       "text": [
        "\r",
        "30% [==========>                            ] 105,301,456 9.36M/s  eta 27s     "
       ]
      },
      {
       "output_type": "stream",
       "stream": "stdout",
       "text": [
        "\r",
        "30% [===========>                           ] 106,834,888 9.20M/s  eta 27s     "
       ]
      },
      {
       "output_type": "stream",
       "stream": "stdout",
       "text": [
        "\r",
        "31% [===========>                           ] 108,159,808 8.92M/s  eta 27s     "
       ]
      },
      {
       "output_type": "stream",
       "stream": "stdout",
       "text": [
        "\r",
        "31% [===========>                           ] 109,339,928 8.66M/s  eta 27s     "
       ]
      },
      {
       "output_type": "stream",
       "stream": "stdout",
       "text": [
        "\r",
        "31% [===========>                           ] 110,483,848 8.39M/s  eta 27s     "
       ]
      },
      {
       "output_type": "stream",
       "stream": "stdout",
       "text": [
        "\r",
        "32% [===========>                           ] 111,623,424 8.06M/s  eta 27s     "
       ]
      },
      {
       "output_type": "stream",
       "stream": "stdout",
       "text": [
        "\r",
        "32% [===========>                           ] 112,873,048 7.82M/s  eta 27s     "
       ]
      },
      {
       "output_type": "stream",
       "stream": "stdout",
       "text": [
        "\r",
        "33% [===========>                           ] 114,184,936 7.63M/s  eta 27s     "
       ]
      },
      {
       "output_type": "stream",
       "stream": "stdout",
       "text": [
        "\r",
        "33% [============>                          ] 115,330,304 7.26M/s  eta 27s     "
       ]
      },
      {
       "output_type": "stream",
       "stream": "stdout",
       "text": [
        "\r",
        "33% [============>                          ] 116,601,648 7.04M/s  eta 27s     "
       ]
      },
      {
       "output_type": "stream",
       "stream": "stdout",
       "text": [
        "\r",
        "34% [============>                          ] 117,838,240 6.83M/s  eta 27s     "
       ]
      },
      {
       "output_type": "stream",
       "stream": "stdout",
       "text": [
        "\r",
        "34% [============>                          ] 119,076,280 6.45M/s  eta 27s     "
       ]
      },
      {
       "output_type": "stream",
       "stream": "stdout",
       "text": [
        "\r",
        "34% [============>                          ] 120,314,320 6.47M/s  eta 27s     "
       ]
      },
      {
       "output_type": "stream",
       "stream": "stdout",
       "text": [
        "\r",
        "35% [============>                          ] 121,659,512 6.20M/s  eta 27s     "
       ]
      },
      {
       "output_type": "stream",
       "stream": "stdout",
       "text": [
        "\r",
        "35% [============>                          ] 123,014,840 6.11M/s  eta 27s     "
       ]
      },
      {
       "output_type": "stream",
       "stream": "stdout",
       "text": [
        "\r",
        "35% [=============>                         ] 124,258,672 6.02M/s  eta 27s     "
       ]
      },
      {
       "output_type": "stream",
       "stream": "stdout",
       "text": [
        "\r",
        "36% [=============>                         ] 125,651,648 6.03M/s  eta 27s     "
       ]
      },
      {
       "output_type": "stream",
       "stream": "stdout",
       "text": [
        "\r",
        "36% [=============>                         ] 126,975,120 5.94M/s  eta 26s     "
       ]
      },
      {
       "output_type": "stream",
       "stream": "stdout",
       "text": [
        "\r",
        "37% [=============>                         ] 128,394,160 6.01M/s  eta 26s     "
       ]
      },
      {
       "output_type": "stream",
       "stream": "stdout",
       "text": [
        "\r",
        "37% [=============>                         ] 129,774,104 6.08M/s  eta 26s     "
       ]
      },
      {
       "output_type": "stream",
       "stream": "stdout",
       "text": [
        "\r",
        "37% [=============>                         ] 131,130,880 6.13M/s  eta 26s     "
       ]
      },
      {
       "output_type": "stream",
       "stream": "stdout",
       "text": [
        "\r",
        "38% [=============>                         ] 132,549,920 6.19M/s  eta 26s     "
       ]
      },
      {
       "output_type": "stream",
       "stream": "stdout",
       "text": [
        "\r",
        "38% [==============>                        ] 133,932,760 6.23M/s  eta 26s     "
       ]
      },
      {
       "output_type": "stream",
       "stream": "stdout",
       "text": [
        "\r",
        "39% [==============>                        ] 135,331,528 6.28M/s  eta 26s     "
       ]
      },
      {
       "output_type": "stream",
       "stream": "stdout",
       "text": [
        "\r",
        "39% [==============>                        ] 136,759,256 6.34M/s  eta 26s     "
       ]
      },
      {
       "output_type": "stream",
       "stream": "stdout",
       "text": [
        "\r",
        "39% [==============>                        ] 138,103,000 6.36M/s  eta 26s     "
       ]
      },
      {
       "output_type": "stream",
       "stream": "stdout",
       "text": [
        "\r",
        "40% [==============>                        ] 139,471,360 6.40M/s  eta 26s     "
       ]
      },
      {
       "output_type": "stream",
       "stream": "stdout",
       "text": [
        "\r",
        "40% [==============>                        ] 140,904,880 6.45M/s  eta 25s     "
       ]
      },
      {
       "output_type": "stream",
       "stream": "stdout",
       "text": [
        "\r",
        "41% [===============>                       ] 142,338,400 6.48M/s  eta 25s     "
       ]
      },
      {
       "output_type": "stream",
       "stream": "stdout",
       "text": [
        "\r",
        "41% [===============>                       ] 143,744,408 6.53M/s  eta 25s     "
       ]
      },
      {
       "output_type": "stream",
       "stream": "stdout",
       "text": [
        "\r",
        "41% [===============>                       ] 145,130,144 6.53M/s  eta 25s     "
       ]
      },
      {
       "output_type": "stream",
       "stream": "stdout",
       "text": [
        "\r",
        "42% [===============>                       ] 146,508,640 6.53M/s  eta 25s     "
       ]
      },
      {
       "output_type": "stream",
       "stream": "stdout",
       "text": [
        "\r",
        "42% [===============>                       ] 147,942,160 6.55M/s  eta 24s     "
       ]
      },
      {
       "output_type": "stream",
       "stream": "stdout",
       "text": [
        "\r",
        "43% [===============>                       ] 149,375,680 6.55M/s  eta 24s     "
       ]
      },
      {
       "output_type": "stream",
       "stream": "stdout",
       "text": [
        "\r",
        "43% [================>                      ] 150,744,040 6.54M/s  eta 24s     "
       ]
      },
      {
       "output_type": "stream",
       "stream": "stdout",
       "text": [
        "\r",
        "44% [================>                      ] 152,158,736 6.57M/s  eta 24s     "
       ]
      },
      {
       "output_type": "stream",
       "stream": "stdout",
       "text": [
        "\r",
        "44% [================>                      ] 153,534,336 6.56M/s  eta 24s     "
       ]
      },
      {
       "output_type": "stream",
       "stream": "stdout",
       "text": [
        "\r",
        "44% [================>                      ] 154,849,120 6.55M/s  eta 24s     "
       ]
      },
      {
       "output_type": "stream",
       "stream": "stdout",
       "text": [
        "\r",
        "45% [================>                      ] 156,307,256 6.56M/s  eta 24s     "
       ]
      },
      {
       "output_type": "stream",
       "stream": "stdout",
       "text": [
        "\r",
        "45% [================>                      ] 157,656,792 6.55M/s  eta 24s     "
       ]
      },
      {
       "output_type": "stream",
       "stream": "stdout",
       "text": [
        "\r",
        "45% [================>                      ] 159,019,360 6.55M/s  eta 24s     "
       ]
      },
      {
       "output_type": "stream",
       "stream": "stdout",
       "text": [
        "\r",
        "46% [=================>                     ] 160,447,088 6.57M/s  eta 24s     "
       ]
      },
      {
       "output_type": "stream",
       "stream": "stdout",
       "text": [
        "\r",
        "46% [=================>                     ] 161,515,712 6.45M/s  eta 23s     "
       ]
      },
      {
       "output_type": "stream",
       "stream": "stdout",
       "text": [
        "\r",
        "46% [=================>                     ] 162,448,224 6.32M/s  eta 23s     "
       ]
      },
      {
       "output_type": "stream",
       "stream": "stdout",
       "text": [
        "\r",
        "47% [=================>                     ] 163,390,872 6.18M/s  eta 23s     "
       ]
      },
      {
       "output_type": "stream",
       "stream": "stdout",
       "text": [
        "\r",
        "47% [=================>                     ] 164,356,688 6.06M/s  eta 23s     "
       ]
      },
      {
       "output_type": "stream",
       "stream": "stdout",
       "text": [
        "\r",
        "47% [=================>                     ] 165,405,040 5.96M/s  eta 23s     "
       ]
      },
      {
       "output_type": "stream",
       "stream": "stdout",
       "text": [
        "\r",
        "48% [=================>                     ] 166,407,056 5.81M/s  eta 23s     "
       ]
      },
      {
       "output_type": "stream",
       "stream": "stdout",
       "text": [
        "\r",
        "48% [=================>                     ] 167,423,552 5.72M/s  eta 23s     "
       ]
      },
      {
       "output_type": "stream",
       "stream": "stdout",
       "text": [
        "\r",
        "48% [==================>                    ] 168,532,720 5.65M/s  eta 23s     "
       ]
      },
      {
       "output_type": "stream",
       "stream": "stdout",
       "text": [
        "\r",
        "49% [==================>                    ] 169,675,192 5.53M/s  eta 23s     "
       ]
      },
      {
       "output_type": "stream",
       "stream": "stdout",
       "text": [
        "\r",
        "49% [==================>                    ] 170,748,160 5.45M/s  eta 23s     "
       ]
      },
      {
       "output_type": "stream",
       "stream": "stdout",
       "text": [
        "\r",
        "49% [==================>                    ] 171,874,704 5.39M/s  eta 23s     "
       ]
      },
      {
       "output_type": "stream",
       "stream": "stdout",
       "text": [
        "\r",
        "49% [==================>                    ] 172,883,960 5.25M/s  eta 23s     "
       ]
      },
      {
       "output_type": "stream",
       "stream": "stdout",
       "text": [
        "\r",
        "50% [==================>                    ] 173,994,576 5.18M/s  eta 23s     "
       ]
      },
      {
       "output_type": "stream",
       "stream": "stdout",
       "text": [
        "\r",
        "50% [==================>                    ] 175,048,720 5.10M/s  eta 23s     "
       ]
      },
      {
       "output_type": "stream",
       "stream": "stdout",
       "text": [
        "\r",
        "50% [==================>                    ] 176,086,936 4.97M/s  eta 23s     "
       ]
      },
      {
       "output_type": "stream",
       "stream": "stdout",
       "text": [
        "\r",
        "51% [==================>                    ] 177,161,352 4.89M/s  eta 22s     "
       ]
      },
      {
       "output_type": "stream",
       "stream": "stdout",
       "text": [
        "\r",
        "51% [===================>                   ] 178,241,560 4.94M/s  eta 22s     "
       ]
      },
      {
       "output_type": "stream",
       "stream": "stdout",
       "text": [
        "\r",
        "51% [===================>                   ] 179,218,960 4.97M/s  eta 22s     "
       ]
      },
      {
       "output_type": "stream",
       "stream": "stdout",
       "text": [
        "\r",
        "52% [===================>                   ] 180,333,920 5.03M/s  eta 22s     "
       ]
      },
      {
       "output_type": "stream",
       "stream": "stdout",
       "text": [
        "\r",
        "52% [===================>                   ] 181,393,856 5.04M/s  eta 22s     "
       ]
      },
      {
       "output_type": "stream",
       "stream": "stdout",
       "text": [
        "\r",
        "52% [===================>                   ] 182,411,800 5.04M/s  eta 22s     "
       ]
      },
      {
       "output_type": "stream",
       "stream": "stdout",
       "text": [
        "\r",
        "53% [===================>                   ] 183,512,280 5.03M/s  eta 22s     "
       ]
      },
      {
       "output_type": "stream",
       "stream": "stdout",
       "text": [
        "\r",
        "53% [===================>                   ] 184,443,344 4.92M/s  eta 22s     "
       ]
      },
      {
       "output_type": "stream",
       "stream": "stdout",
       "text": [
        "\r",
        "53% [===================>                   ] 185,685,728 4.97M/s  eta 22s     "
       ]
      },
      {
       "output_type": "stream",
       "stream": "stdout",
       "text": [
        "\r",
        "53% [====================>                  ] 186,406,832 4.84M/s  eta 22s     "
       ]
      },
      {
       "output_type": "stream",
       "stream": "stdout",
       "text": [
        "\r",
        "54% [====================>                  ] 187,284,320 4.79M/s  eta 21s     "
       ]
      },
      {
       "output_type": "stream",
       "stream": "stdout",
       "text": [
        "\r",
        "54% [====================>                  ] 188,085,064 4.68M/s  eta 21s     "
       ]
      },
      {
       "output_type": "stream",
       "stream": "stdout",
       "text": [
        "\r",
        "54% [====================>                  ] 188,654,128 4.54M/s  eta 21s     "
       ]
      },
      {
       "output_type": "stream",
       "stream": "stdout",
       "text": [
        "\r",
        "54% [====================>                  ] 189,466,456 4.41M/s  eta 21s     "
       ]
      },
      {
       "output_type": "stream",
       "stream": "stdout",
       "text": [
        "\r",
        "54% [====================>                  ] 190,057,240 4.29M/s  eta 21s     "
       ]
      },
      {
       "output_type": "stream",
       "stream": "stdout",
       "text": [
        "\r",
        "55% [====================>                  ] 190,584,312 4.14M/s  eta 22s     "
       ]
      },
      {
       "output_type": "stream",
       "stream": "stdout",
       "text": [
        "\r",
        "55% [====================>                  ] 191,150,480 4.00M/s  eta 22s     "
       ]
      },
      {
       "output_type": "stream",
       "stream": "stdout",
       "text": [
        "\r",
        "55% [====================>                  ] 191,860,000 3.86M/s  eta 22s     "
       ]
      },
      {
       "output_type": "stream",
       "stream": "stdout",
       "text": [
        "\r",
        "55% [====================>                  ] 192,446,440 3.75M/s  eta 22s     "
       ]
      },
      {
       "output_type": "stream",
       "stream": "stdout",
       "text": [
        "\r",
        "55% [====================>                  ] 193,118,312 3.65M/s  eta 22s     "
       ]
      },
      {
       "output_type": "stream",
       "stream": "stdout",
       "text": [
        "\r",
        "56% [====================>                  ] 193,726,472 3.53M/s  eta 22s     "
       ]
      },
      {
       "output_type": "stream",
       "stream": "stdout",
       "text": [
        "\r",
        "56% [====================>                  ] 194,346,216 3.32M/s  eta 22s     "
       ]
      },
      {
       "output_type": "stream",
       "stream": "stdout",
       "text": [
        "\r",
        "56% [====================>                  ] 194,987,680 3.24M/s  eta 22s     "
       ]
      },
      {
       "output_type": "stream",
       "stream": "stdout",
       "text": [
        "\r",
        "56% [=====================>                 ] 195,605,976 3.15M/s  eta 22s     "
       ]
      },
      {
       "output_type": "stream",
       "stream": "stdout",
       "text": [
        "\r",
        "56% [=====================>                 ] 196,259,024 3.07M/s  eta 22s     "
       ]
      },
      {
       "output_type": "stream",
       "stream": "stdout",
       "text": [
        "\r",
        "56% [=====================>                 ] 196,942,480 3.03M/s  eta 22s     "
       ]
      },
      {
       "output_type": "stream",
       "stream": "stdout",
       "text": [
        "\r",
        "57% [=====================>                 ] 197,595,528 3.01M/s  eta 22s     "
       ]
      },
      {
       "output_type": "stream",
       "stream": "stdout",
       "text": [
        "\r",
        "57% [=====================>                 ] 198,299,256 2.91M/s  eta 22s     "
       ]
      },
      {
       "output_type": "stream",
       "stream": "stdout",
       "text": [
        "\r",
        "57% [=====================>                 ] 198,962,440 2.90M/s  eta 22s     "
       ]
      },
      {
       "output_type": "stream",
       "stream": "stdout",
       "text": [
        "\r",
        "57% [=====================>                 ] 199,615,488 2.94M/s  eta 22s     "
       ]
      },
      {
       "output_type": "stream",
       "stream": "stdout",
       "text": [
        "\r",
        "57% [=====================>                 ] 200,274,328 3.00M/s  eta 21s     "
       ]
      },
      {
       "output_type": "stream",
       "stream": "stdout",
       "text": [
        "\r",
        "58% [=====================>                 ] 200,917,240 3.01M/s  eta 21s     "
       ]
      },
      {
       "output_type": "stream",
       "stream": "stdout",
       "text": [
        "\r",
        "58% [=====================>                 ] 201,542,776 3.01M/s  eta 21s     "
       ]
      },
      {
       "output_type": "stream",
       "stream": "stdout",
       "text": [
        "\r",
        "58% [=====================>                 ] 202,220,440 3.02M/s  eta 21s     "
       ]
      },
      {
       "output_type": "stream",
       "stream": "stdout",
       "text": [
        "\r",
        "58% [=====================>                 ] 202,848,872 3.02M/s  eta 21s     "
       ]
      },
      {
       "output_type": "stream",
       "stream": "stdout",
       "text": [
        "\r",
        "58% [=====================>                 ] 203,526,536 3.04M/s  eta 21s     "
       ]
      },
      {
       "output_type": "stream",
       "stream": "stdout",
       "text": [
        "\r",
        "59% [======================>                ] 204,175,240 3.05M/s  eta 21s     "
       ]
      },
      {
       "output_type": "stream",
       "stream": "stdout",
       "text": [
        "\r",
        "59% [======================>                ] 204,774,712 3.04M/s  eta 21s     "
       ]
      },
      {
       "output_type": "stream",
       "stream": "stdout",
       "text": [
        "\r",
        "59% [======================>                ] 205,478,440 3.05M/s  eta 21s     "
       ]
      },
      {
       "output_type": "stream",
       "stream": "stdout",
       "text": [
        "\r",
        "59% [======================>                ] 206,088,048 3.03M/s  eta 21s     "
       ]
      },
      {
       "output_type": "stream",
       "stream": "stdout",
       "text": [
        "\r",
        "59% [======================>                ] 206,781,640 3.06M/s  eta 21s     "
       ]
      },
      {
       "output_type": "stream",
       "stream": "stdout",
       "text": [
        "\r",
        "59% [======================>                ] 207,408,624 3.04M/s  eta 21s     "
       ]
      },
      {
       "output_type": "stream",
       "stream": "stdout",
       "text": [
        "\r",
        "60% [======================>                ] 208,019,680 3.04M/s  eta 21s     "
       ]
      },
      {
       "output_type": "stream",
       "stream": "stdout",
       "text": [
        "\r",
        "60% [======================>                ] 208,671,280 3.04M/s  eta 21s     "
       ]
      },
      {
       "output_type": "stream",
       "stream": "stdout",
       "text": [
        "\r",
        "60% [======================>                ] 209,388,040 3.03M/s  eta 21s     "
       ]
      },
      {
       "output_type": "stream",
       "stream": "stdout",
       "text": [
        "\r",
        "60% [======================>                ] 210,039,640 3.02M/s  eta 21s     "
       ]
      },
      {
       "output_type": "stream",
       "stream": "stdout",
       "text": [
        "\r",
        "60% [======================>                ] 210,670,968 3.03M/s  eta 21s     "
       ]
      },
      {
       "output_type": "stream",
       "stream": "stdout",
       "text": [
        "\r",
        "61% [======================>                ] 211,290,712 3.02M/s  eta 21s     "
       ]
      },
      {
       "output_type": "stream",
       "stream": "stdout",
       "text": [
        "\r",
        "61% [======================>                ] 211,929,280 3.00M/s  eta 21s     "
       ]
      },
      {
       "output_type": "stream",
       "stream": "stdout",
       "text": [
        "\r",
        "61% [======================>                ] 212,580,880 3.01M/s  eta 21s     "
       ]
      },
      {
       "output_type": "stream",
       "stream": "stdout",
       "text": [
        "\r",
        "61% [=======================>               ] 213,232,480 3.00M/s  eta 21s     "
       ]
      },
      {
       "output_type": "stream",
       "stream": "stdout",
       "text": [
        "\r",
        "61% [=======================>               ] 214,014,400 3.03M/s  eta 21s     "
       ]
      },
      {
       "output_type": "stream",
       "stream": "stdout",
       "text": [
        "\r",
        "62% [=======================>               ] 214,666,000 3.02M/s  eta 21s     "
       ]
      },
      {
       "output_type": "stream",
       "stream": "stdout",
       "text": [
        "\r",
        "62% [=======================>               ] 215,349,456 3.05M/s  eta 21s     "
       ]
      },
      {
       "output_type": "stream",
       "stream": "stdout",
       "text": [
        "\r",
        "62% [=======================>               ] 216,119,792 3.08M/s  eta 21s     "
       ]
      },
      {
       "output_type": "stream",
       "stream": "stdout",
       "text": [
        "\r",
        "62% [=======================>               ] 216,881,440 3.12M/s  eta 21s     "
       ]
      },
      {
       "output_type": "stream",
       "stream": "stdout",
       "text": [
        "\r",
        "62% [=======================>               ] 217,673,496 3.16M/s  eta 21s     "
       ]
      },
      {
       "output_type": "stream",
       "stream": "stdout",
       "text": [
        "\r",
        "63% [=======================>               ] 218,488,720 3.20M/s  eta 21s     "
       ]
      },
      {
       "output_type": "stream",
       "stream": "stdout",
       "text": [
        "\r",
        "63% [=======================>               ] 219,264,848 3.27M/s  eta 21s     "
       ]
      },
      {
       "output_type": "stream",
       "stream": "stdout",
       "text": [
        "\r",
        "63% [=======================>               ] 220,074,280 3.29M/s  eta 21s     "
       ]
      },
      {
       "output_type": "stream",
       "stream": "stdout",
       "text": [
        "\r",
        "63% [=======================>               ] 220,921,360 3.35M/s  eta 20s     "
       ]
      },
      {
       "output_type": "stream",
       "stream": "stdout",
       "text": [
        "\r",
        "64% [========================>              ] 221,717,760 3.42M/s  eta 20s     "
       ]
      },
      {
       "output_type": "stream",
       "stream": "stdout",
       "text": [
        "\r",
        "64% [========================>              ] 222,548,912 3.49M/s  eta 20s     "
       ]
      },
      {
       "output_type": "stream",
       "stream": "stdout",
       "text": [
        "\r",
        "64% [========================>              ] 223,397,440 3.52M/s  eta 20s     "
       ]
      },
      {
       "output_type": "stream",
       "stream": "stdout",
       "text": [
        "\r",
        "64% [========================>              ] 224,406,696 3.68M/s  eta 20s     "
       ]
      },
      {
       "output_type": "stream",
       "stream": "stdout",
       "text": [
        "\r",
        "65% [========================>              ] 225,339,208 3.75M/s  eta 20s     "
       ]
      },
      {
       "output_type": "stream",
       "stream": "stdout",
       "text": [
        "\r",
        "65% [========================>              ] 226,264,480 3.82M/s  eta 20s     "
       ]
      },
      {
       "output_type": "stream",
       "stream": "stdout",
       "text": [
        "\r",
        "65% [========================>              ] 227,227,400 3.93M/s  eta 20s     "
       ]
      },
      {
       "output_type": "stream",
       "stream": "stdout",
       "text": [
        "\r",
        "66% [========================>              ] 228,252,584 4.04M/s  eta 20s     "
       ]
      },
      {
       "output_type": "stream",
       "stream": "stdout",
       "text": [
        "\r",
        "66% [========================>              ] 229,392,160 4.14M/s  eta 20s     "
       ]
      },
      {
       "output_type": "stream",
       "stream": "stdout",
       "text": [
        "\r",
        "66% [========================>              ] 230,459,336 4.26M/s  eta 19s     "
       ]
      },
      {
       "output_type": "stream",
       "stream": "stdout",
       "text": [
        "\r",
        "66% [=========================>             ] 231,645,248 4.38M/s  eta 19s     "
       ]
      },
      {
       "output_type": "stream",
       "stream": "stdout",
       "text": [
        "\r",
        "67% [=========================>             ] 232,845,640 4.50M/s  eta 19s     "
       ]
      },
      {
       "output_type": "stream",
       "stream": "stdout",
       "text": [
        "\r",
        "67% [=========================>             ] 233,912,816 4.52M/s  eta 19s     "
       ]
      },
      {
       "output_type": "stream",
       "stream": "stdout",
       "text": [
        "\r",
        "68% [=========================>             ] 235,218,912 4.67M/s  eta 19s     "
       ]
      },
      {
       "output_type": "stream",
       "stream": "stdout",
       "text": [
        "\r",
        "68% [=========================>             ] 236,168,800 4.70M/s  eta 18s     "
       ]
      },
      {
       "output_type": "stream",
       "stream": "stdout",
       "text": [
        "\r",
        "68% [=========================>             ] 237,146,200 4.78M/s  eta 18s     "
       ]
      },
      {
       "output_type": "stream",
       "stream": "stdout",
       "text": [
        "\r",
        "68% [=========================>             ] 238,175,728 4.82M/s  eta 18s     "
       ]
      },
      {
       "output_type": "stream",
       "stream": "stdout",
       "text": [
        "\r",
        "69% [=========================>             ] 239,173,400 4.85M/s  eta 18s     "
       ]
      },
      {
       "output_type": "stream",
       "stream": "stdout",
       "text": [
        "\r",
        "69% [==========================>            ] 240,078,400 4.86M/s  eta 18s     "
       ]
      },
      {
       "output_type": "stream",
       "stream": "stdout",
       "text": [
        "\r",
        "69% [==========================>            ] 241,186,120 4.92M/s  eta 17s     "
       ]
      },
      {
       "output_type": "stream",
       "stream": "stdout",
       "text": [
        "\r",
        "70% [==========================>            ] 242,289,496 4.94M/s  eta 17s     "
       ]
      },
      {
       "output_type": "stream",
       "stream": "stdout",
       "text": [
        "\r",
        "70% [==========================>            ] 243,336,400 4.98M/s  eta 17s     "
       ]
      },
      {
       "output_type": "stream",
       "stream": "stdout",
       "text": [
        "\r",
        "70% [==========================>            ] 244,454,256 4.98M/s  eta 17s     "
       ]
      },
      {
       "output_type": "stream",
       "stream": "stdout",
       "text": [
        "\r",
        "71% [==========================>            ] 245,589,488 5.01M/s  eta 17s     "
       ]
      },
      {
       "output_type": "stream",
       "stream": "stdout",
       "text": [
        "\r",
        "71% [==========================>            ] 246,727,616 5.01M/s  eta 16s     "
       ]
      },
      {
       "output_type": "stream",
       "stream": "stdout",
       "text": [
        "\r",
        "71% [==========================>            ] 247,984,480 5.04M/s  eta 16s     "
       ]
      },
      {
       "output_type": "stream",
       "stream": "stdout",
       "text": [
        "\r",
        "72% [===========================>           ] 249,225,416 5.07M/s  eta 16s     "
       ]
      },
      {
       "output_type": "stream",
       "stream": "stdout",
       "text": [
        "\r",
        "72% [===========================>           ] 250,383,816 5.06M/s  eta 16s     "
       ]
      },
      {
       "output_type": "stream",
       "stream": "stdout",
       "text": [
        "\r",
        "72% [===========================>           ] 251,639,232 5.11M/s  eta 16s     "
       ]
      },
      {
       "output_type": "stream",
       "stream": "stdout",
       "text": [
        "\r",
        "73% [===========================>           ] 252,914,920 5.21M/s  eta 15s     "
       ]
      },
      {
       "output_type": "stream",
       "stream": "stdout",
       "text": [
        "\r",
        "73% [===========================>           ] 254,113,864 5.27M/s  eta 15s     "
       ]
      },
      {
       "output_type": "stream",
       "stream": "stdout",
       "text": [
        "\r",
        "73% [===========================>           ] 255,380,864 5.39M/s  eta 15s     "
       ]
      },
      {
       "output_type": "stream",
       "stream": "stdout",
       "text": [
        "\r",
        "74% [===========================>           ] 256,578,360 5.46M/s  eta 15s     "
       ]
      },
      {
       "output_type": "stream",
       "stream": "stdout",
       "text": [
        "\r",
        "74% [============================>          ] 257,787,440 5.53M/s  eta 15s     "
       ]
      },
      {
       "output_type": "stream",
       "stream": "stdout",
       "text": [
        "\r",
        "74% [============================>          ] 259,039,960 5.58M/s  eta 14s     "
       ]
      },
      {
       "output_type": "stream",
       "stream": "stdout",
       "text": [
        "\r",
        "75% [============================>          ] 260,259,176 5.61M/s  eta 14s     "
       ]
      },
      {
       "output_type": "stream",
       "stream": "stdout",
       "text": [
        "\r",
        "75% [============================>          ] 261,450,880 5.66M/s  eta 14s     "
       ]
      },
      {
       "output_type": "stream",
       "stream": "stdout",
       "text": [
        "\r",
        "75% [============================>          ] 262,754,080 5.73M/s  eta 14s     "
       ]
      },
      {
       "output_type": "stream",
       "stream": "stdout",
       "text": [
        "\r",
        "76% [============================>          ] 263,926,960 5.73M/s  eta 14s     "
       ]
      },
      {
       "output_type": "stream",
       "stream": "stdout",
       "text": [
        "\r",
        "76% [============================>          ] 265,230,160 5.80M/s  eta 13s     "
       ]
      },
      {
       "output_type": "stream",
       "stream": "stdout",
       "text": [
        "\r",
        "77% [=============================>         ] 266,403,040 5.79M/s  eta 13s     "
       ]
      },
      {
       "output_type": "stream",
       "stream": "stdout",
       "text": [
        "\r",
        "77% [=============================>         ] 267,575,920 5.74M/s  eta 13s     "
       ]
      },
      {
       "output_type": "stream",
       "stream": "stdout",
       "text": [
        "\r",
        "77% [=============================>         ] 268,884,912 5.77M/s  eta 13s     "
       ]
      },
      {
       "output_type": "stream",
       "stream": "stdout",
       "text": [
        "\r",
        "78% [=============================>         ] 270,069,376 5.78M/s  eta 13s     "
       ]
      },
      {
       "output_type": "stream",
       "stream": "stdout",
       "text": [
        "\r",
        "78% [=============================>         ] 271,224,880 5.74M/s  eta 12s     "
       ]
      },
      {
       "output_type": "stream",
       "stream": "stdout",
       "text": [
        "\r",
        "78% [=============================>         ] 272,510,704 5.75M/s  eta 12s     "
       ]
      },
      {
       "output_type": "stream",
       "stream": "stdout",
       "text": [
        "\r",
        "79% [=============================>         ] 273,700,960 5.75M/s  eta 12s     "
       ]
      },
      {
       "output_type": "stream",
       "stream": "stdout",
       "text": [
        "\r",
        "79% [==============================>        ] 274,883,976 5.74M/s  eta 12s     "
       ]
      },
      {
       "output_type": "stream",
       "stream": "stdout",
       "text": [
        "\r",
        "79% [==============================>        ] 276,181,384 5.75M/s  eta 12s     "
       ]
      },
      {
       "output_type": "stream",
       "stream": "stdout",
       "text": [
        "\r",
        "80% [==============================>        ] 277,384,672 5.73M/s  eta 11s     "
       ]
      },
      {
       "output_type": "stream",
       "stream": "stdout",
       "text": [
        "\r",
        "80% [==============================>        ] 278,522,800 5.72M/s  eta 11s     "
       ]
      },
      {
       "output_type": "stream",
       "stream": "stdout",
       "text": [
        "\r",
        "80% [==============================>        ] 279,826,000 5.74M/s  eta 11s     "
       ]
      },
      {
       "output_type": "stream",
       "stream": "stdout",
       "text": [
        "\r",
        "81% [==============================>        ] 281,036,528 5.73M/s  eta 11s     "
       ]
      },
      {
       "output_type": "stream",
       "stream": "stdout",
       "text": [
        "\r",
        "81% [==============================>        ] 282,171,760 5.71M/s  eta 11s     "
       ]
      },
      {
       "output_type": "stream",
       "stream": "stdout",
       "text": [
        "\r",
        "81% [==============================>        ] 283,474,960 5.72M/s  eta 10s     "
       ]
      },
      {
       "output_type": "stream",
       "stream": "stdout",
       "text": [
        "\r",
        "82% [===============================>       ] 284,688,384 5.73M/s  eta 10s     "
       ]
      },
      {
       "output_type": "stream",
       "stream": "stdout",
       "text": [
        "\r",
        "82% [===============================>       ] 285,822,168 5.70M/s  eta 10s     "
       ]
      },
      {
       "output_type": "stream",
       "stream": "stdout",
       "text": [
        "\r",
        "83% [===============================>       ] 287,123,920 5.75M/s  eta 10s     "
       ]
      },
      {
       "output_type": "stream",
       "stream": "stdout",
       "text": [
        "\r",
        "83% [===============================>       ] 288,379,336 5.74M/s  eta 10s     "
       ]
      },
      {
       "output_type": "stream",
       "stream": "stdout",
       "text": [
        "\r",
        "83% [===============================>       ] 289,604,344 5.75M/s  eta 9s      "
       ]
      },
      {
       "output_type": "stream",
       "stream": "stdout",
       "text": [
        "\r",
        "84% [===============================>       ] 290,868,448 5.78M/s  eta 9s      "
       ]
      },
      {
       "output_type": "stream",
       "stream": "stdout",
       "text": [
        "\r",
        "84% [===============================>       ] 292,267,216 5.85M/s  eta 9s      "
       ]
      },
      {
       "output_type": "stream",
       "stream": "stdout",
       "text": [
        "\r",
        "84% [================================>      ] 293,603,720 5.87M/s  eta 9s      "
       ]
      },
      {
       "output_type": "stream",
       "stream": "stdout",
       "text": [
        "\r",
        "85% [================================>      ] 294,943,120 5.90M/s  eta 9s      "
       ]
      },
      {
       "output_type": "stream",
       "stream": "stdout",
       "text": [
        "\r",
        "85% [================================>      ] 296,330,304 5.96M/s  eta 8s      "
       ]
      },
      {
       "output_type": "stream",
       "stream": "stdout",
       "text": [
        "\r",
        "86% [================================>      ] 297,701,560 6.03M/s  eta 8s      "
       ]
      },
      {
       "output_type": "stream",
       "stream": "stdout",
       "text": [
        "\r",
        "86% [================================>      ] 299,122,048 6.07M/s  eta 8s      "
       ]
      },
      {
       "output_type": "stream",
       "stream": "stdout",
       "text": [
        "\r",
        "86% [================================>      ] 300,481,720 6.12M/s  eta 8s      "
       ]
      },
      {
       "output_type": "stream",
       "stream": "stdout",
       "text": [
        "\r",
        "87% [=================================>     ] 301,850,080 6.18M/s  eta 8s      "
       ]
      },
      {
       "output_type": "stream",
       "stream": "stdout",
       "text": [
        "\r",
        "87% [=================================>     ] 303,283,600 6.25M/s  eta 7s      "
       ]
      },
      {
       "output_type": "stream",
       "stream": "stdout",
       "text": [
        "\r",
        "88% [=================================>     ] 304,750,424 6.33M/s  eta 7s      "
       ]
      },
      {
       "output_type": "stream",
       "stream": "stdout",
       "text": [
        "\r",
        "88% [=================================>     ] 306,150,640 6.37M/s  eta 7s      "
       ]
      },
      {
       "output_type": "stream",
       "stream": "stdout",
       "text": [
        "\r",
        "88% [=================================>     ] 307,530,584 6.45M/s  eta 7s      "
       ]
      },
      {
       "output_type": "stream",
       "stream": "stdout",
       "text": [
        "\r",
        "89% [=================================>     ] 309,036,504 6.53M/s  eta 7s      "
       ]
      },
      {
       "output_type": "stream",
       "stream": "stdout",
       "text": [
        "\r",
        "89% [==================================>    ] 310,587,312 6.60M/s  eta 6s      "
       ]
      },
      {
       "output_type": "stream",
       "stream": "stdout",
       "text": [
        "\r",
        "90% [==================================>    ] 312,080,200 6.69M/s  eta 6s      "
       ]
      },
      {
       "output_type": "stream",
       "stream": "stdout",
       "text": [
        "\r",
        "90% [==================================>    ] 313,688,928 6.75M/s  eta 6s      "
       ]
      },
      {
       "output_type": "stream",
       "stream": "stdout",
       "text": [
        "\r",
        "91% [==================================>    ] 315,281,728 6.81M/s  eta 6s      "
       ]
      },
      {
       "output_type": "stream",
       "stream": "stdout",
       "text": [
        "\r",
        "91% [==================================>    ] 316,865,840 6.88M/s  eta 6s      "
       ]
      },
      {
       "output_type": "stream",
       "stream": "stdout",
       "text": [
        "\r",
        "92% [==================================>    ] 318,539,728 6.97M/s  eta 4s      "
       ]
      },
      {
       "output_type": "stream",
       "stream": "stdout",
       "text": [
        "\r",
        "92% [===================================>   ] 320,217,960 7.07M/s  eta 4s      "
       ]
      },
      {
       "output_type": "stream",
       "stream": "stdout",
       "text": [
        "\r",
        "93% [===================================>   ] 321,983,072 7.20M/s  eta 4s      "
       ]
      },
      {
       "output_type": "stream",
       "stream": "stdout",
       "text": [
        "\r",
        "93% [===================================>   ] 323,743,840 7.29M/s  eta 4s      "
       ]
      },
      {
       "output_type": "stream",
       "stream": "stdout",
       "text": [
        "\r",
        "94% [===================================>   ] 325,574,112 7.41M/s  eta 4s      "
       ]
      },
      {
       "output_type": "stream",
       "stream": "stdout",
       "text": [
        "\r",
        "94% [===================================>   ] 327,410,176 7.59M/s  eta 3s      "
       ]
      },
      {
       "output_type": "stream",
       "stream": "stdout",
       "text": [
        "\r",
        "95% [====================================>  ] 329,353,392 7.70M/s  eta 3s      "
       ]
      },
      {
       "output_type": "stream",
       "stream": "stdout",
       "text": [
        "\r",
        "95% [====================================>  ] 331,334,256 7.89M/s  eta 3s      "
       ]
      },
      {
       "output_type": "stream",
       "stream": "stdout",
       "text": [
        "\r",
        "96% [====================================>  ] 333,310,776 8.09M/s  eta 3s      "
       ]
      },
      {
       "output_type": "stream",
       "stream": "stdout",
       "text": [
        "\r",
        "96% [====================================>  ] 335,356,800 8.26M/s  eta 3s      "
       ]
      },
      {
       "output_type": "stream",
       "stream": "stdout",
       "text": [
        "\r",
        "97% [=====================================> ] 337,476,672 8.44M/s  eta 1s      "
       ]
      },
      {
       "output_type": "stream",
       "stream": "stdout",
       "text": [
        "\r",
        "98% [=====================================> ] 339,638,536 8.66M/s  eta 1s      "
       ]
      },
      {
       "output_type": "stream",
       "stream": "stdout",
       "text": [
        "\r",
        "98% [=====================================> ] 341,793,160 8.85M/s  eta 1s      "
       ]
      },
      {
       "output_type": "stream",
       "stream": "stdout",
       "text": [
        "\r",
        "99% [=====================================> ] 344,007,152 9.04M/s  eta 1s      "
       ]
      },
      {
       "output_type": "stream",
       "stream": "stdout",
       "text": [
        "\r",
        "100%[======================================>] 345,776,391 9.21M/s   in 55s     \r\n",
        "\r\n"
       ]
      },
      {
       "output_type": "stream",
       "stream": "stdout",
       "text": [
        "2014-04-20 20:39:28 (6.03 MB/s) - \u201cgalGal4.fa.gz\u201d saved [345776391]\r\n",
        "\r\n"
       ]
      }
     ],
     "prompt_number": 1
    },
    {
     "cell_type": "code",
     "collapsed": false,
     "input": [
      "%%bash\n",
      "module load bwa\n",
      "#cd ../outputs/galGal4 && bwa index galGal4.fa.gz\n",
      "\n",
      "#cd ../outputs/galGal4 && bwa index galGal4.fa.masked.gz"
     ],
     "language": "python",
     "metadata": {},
     "outputs": [
      {
       "output_type": "stream",
       "stream": "stdout",
       "text": [
        "[bwt_gen] Finished constructing BWT in 278 iterations.\n"
       ]
      },
      {
       "output_type": "stream",
       "stream": "stderr",
       "text": [
        "application-specific initialization failed: Can't find a usable init.tcl in the following directories: \n",
        "    /opt/anaconda1anaconda2anaconda3/lib/tcl8.5 /usr/lib/tcl8.5 /lib/tcl8.5 /usr/library /library /tcl8.5.13/library /tcl8.5.13/library\n",
        "\n",
        "\n",
        "\n",
        "This probably means that Tcl wasn't installed properly.\n",
        "\n",
        "application-specific initialization failed: Can't find a usable init.tcl in the following directories: \n",
        "    /opt/anaconda1anaconda2anaconda3/lib/tcl8.5 /usr/lib/tcl8.5 /lib/tcl8.5 /usr/library /library /tcl8.5.13/library /tcl8.5.13/library\n",
        "\n",
        "\n",
        "\n",
        "This probably means that Tcl wasn't installed properly.\n",
        "\n",
        "[bwa_index] Pack FASTA... 13.33 sec\n",
        "[bwa_index] Construct BWT for the packed sequence...\n",
        "[BWTIncCreate] textLength=2093864198, availableWord=159331856\n",
        "[BWTIncConstructFromPacked] 10 iterations done. 99999990 characters processed.\n",
        "[BWTIncConstructFromPacked] 20 iterations done. 199999990 characters processed.\n",
        "[BWTIncConstructFromPacked] 30 iterations done. 299999990 characters processed.\n",
        "[BWTIncConstructFromPacked] 40 iterations done. 399999990 characters processed.\n",
        "[BWTIncConstructFromPacked] 50 iterations done. 499999990 characters processed.\n",
        "[BWTIncConstructFromPacked] 60 iterations done. 599999990 characters processed.\n",
        "[BWTIncConstructFromPacked] 70 iterations done. 699999990 characters processed.\n",
        "[BWTIncConstructFromPacked] 80 iterations done. 799999990 characters processed.\n",
        "[BWTIncConstructFromPacked] 90 iterations done. 899999990 characters processed.\n",
        "[BWTIncConstructFromPacked] 100 iterations done. 999999990 characters processed.\n",
        "[BWTIncConstructFromPacked] 110 iterations done. 1099999990 characters processed.\n",
        "[BWTIncConstructFromPacked] 120 iterations done. 1199999990 characters processed.\n",
        "[BWTIncConstructFromPacked] 130 iterations done. 1299999990 characters processed.\n",
        "[BWTIncConstructFromPacked] 140 iterations done. 1399999990 characters processed.\n",
        "[BWTIncConstructFromPacked] 150 iterations done. 1496091894 characters processed.\n",
        "[BWTIncConstructFromPacked] 160 iterations done. 1581646902 characters processed.\n",
        "[BWTIncConstructFromPacked] 170 iterations done. 1657684406 characters processed.\n",
        "[BWTIncConstructFromPacked] 180 iterations done. 1725262710 characters processed.\n",
        "[BWTIncConstructFromPacked] 190 iterations done. 1785322486 characters processed.\n",
        "[BWTIncConstructFromPacked] 200 iterations done. 1838699750 characters processed.\n",
        "[BWTIncConstructFromPacked] 210 iterations done. 1886137606 characters processed.\n",
        "[BWTIncConstructFromPacked] 220 iterations done. 1928296470 characters processed.\n",
        "[BWTIncConstructFromPacked] 230 iterations done. 1965763350 characters processed.\n",
        "[BWTIncConstructFromPacked] 240 iterations done. 1999059942 characters processed.\n",
        "[BWTIncConstructFromPacked] 250 iterations done. 2028650038 characters processed.\n",
        "[BWTIncConstructFromPacked] 260 iterations done. 2054945718 characters processed.\n",
        "[BWTIncConstructFromPacked] 270 iterations done. 2078313366 characters processed.\n",
        "[bwa_index] 873.24 seconds elapse.\n",
        "[bwa_index] Update BWT... 6.16 sec\n",
        "[bwa_index] Pack forward-only FASTA... 10.45 sec\n",
        "[bwa_index] Construct SA from BWT and Occ... 262.97 sec\n",
        "[main] Version: 0.7.7-r441\n",
        "[main] CMD: bwa index galGal4.fa.gz\n",
        "[main] Real time: 1178.764 sec; CPU: 1166.156 sec\n"
       ]
      }
     ],
     "prompt_number": 4
    },
    {
     "cell_type": "code",
     "collapsed": false,
     "input": [
      "#!cd ../outputs/galGal4 && gunzip -c galGal4.fa.masked.gz > galGal4.fa.masked\n",
      "#!cd ../outputs/galGal4 && gunzip -c galGal4.fa.gz > galGal4.fa"
     ],
     "language": "python",
     "metadata": {},
     "outputs": [],
     "prompt_number": 7
    },
    {
     "cell_type": "code",
     "collapsed": false,
     "input": [
      "%%bash\n",
      "\n",
      "module load samtools\n",
      "\n",
      "#cd ../outputs/galGal4 && samtools faidx galGal4.fa.masked\n",
      "#cd ../outputs/galGal4 && samtools faidx galGal4.fa"
     ],
     "language": "python",
     "metadata": {},
     "outputs": [
      {
       "output_type": "stream",
       "stream": "stderr",
       "text": [
        "application-specific initialization failed: Can't find a usable init.tcl in the following directories: \n",
        "    /opt/anaconda1anaconda2anaconda3/lib/tcl8.5 /usr/lib/tcl8.5 /lib/tcl8.5 /usr/library /library /tcl8.5.13/library /tcl8.5.13/library\n",
        "\n",
        "\n",
        "\n",
        "This probably means that Tcl wasn't installed properly.\n",
        "\n",
        "\n",
        "Lmod Warning: samtools not found, loading: SAMTools/0.1.19\n"
       ]
      }
     ],
     "prompt_number": 8
    },
    {
     "cell_type": "raw",
     "metadata": {},
     "source": [
      "%%bash \n",
      "for f in ../outputs/moleculo/LR6000017-DNA_A01-LRAAA-*_LongRead_500_1499nt.fastq\n",
      "do\n",
      "  bwa mem ../outputs/galGal4/galGal4.fa.masked.gz $f > $f.sam\n",
      "  samtools import ../outputs/galGal4/galGal4.fa.masked.fai $f.sam $f.bam\n",
      "  samtools sort $f.bam $f.sorted\n",
      "  samtools index $f.sorted.bam\n",
      "  #samtools tview $f.sorted.bam ../outputs/galGal4/galGal4.fa.masked\n",
      "done"
     ]
    },
    {
     "cell_type": "code",
     "collapsed": false,
     "input": [
      "%%bash \n",
      "module load samtools\n",
      "module load bwa\n",
      "for f in ../outputs/moleculo/LR6000017-DNA_A01-LRAAA-*LongRead*.fastq\n",
      "do\n",
      "  bwa mem ../outputs/galGal4/galGal4.fa.gz $f > $f.unmasked.sam\n",
      "  samtools import ../outputs/galGal4/galGal4.fa.fai $f.unmasked.sam $f.unmasked.bam\n",
      "  samtools sort $f.unmasked.bam $f.unmasked.sorted\n",
      "  samtools index $f.unmasked.sorted.bam\n",
      "  #samtools tview $f.unmasked.sorted.bam ../outputs/galGal4/galGal4.fa\n",
      "done"
     ],
     "language": "python",
     "metadata": {},
     "outputs": []
    },
    {
     "cell_type": "code",
     "collapsed": false,
     "input": [
      "!ls ../outputs/galGal4"
     ],
     "language": "python",
     "metadata": {},
     "outputs": [
      {
       "output_type": "stream",
       "stream": "stdout",
       "text": [
        "galGal4.fa\t   galGal4.fa.gz.pac\t     galGal4.fa.masked.gz.fai\r\n",
        "galGal4.fa.fai\t   galGal4.fa.gz.sa\t     galGal4.fa.masked.gz.pac\r\n",
        "galGal4.fa.gz\t   galGal4.fa.masked.gz      galGal4.fa.masked.gz.sa\r\n",
        "galGal4.fa.gz.amb  galGal4.fa.masked.gz.amb  galGal4.fa.masked.kh\r\n",
        "galGal4.fa.gz.ann  galGal4.fa.masked.gz.ann  galGal4.fa.masked.kh.info\r\n",
        "galGal4.fa.gz.bwt  galGal4.fa.masked.gz.bwt\r\n"
       ]
      }
     ],
     "prompt_number": 18
    },
    {
     "cell_type": "code",
     "collapsed": false,
     "input": [
      "%%bash\n",
      "module load samtools\n",
      "for f in ../outputs/moleculo/*sorted*.bam\n",
      "do\n",
      "  echo $(basename $f)\n",
      "  samtools flagstat $f | grep \"mapped (\"\n",
      "  echo\n",
      "done"
     ],
     "language": "python",
     "metadata": {},
     "outputs": [
      {
       "output_type": "stream",
       "stream": "stdout",
       "text": [
        "../moleculo/LR6000017-DNA_A01-LRAAA-1_LongRead.fastq.sorted.bam\n",
        "***********\n",
        "678540 + 0 mapped (99.98%:nan%)\n",
        "\n",
        "../moleculo/LR6000017-DNA_A01-LRAAA-1_LongRead_500_1499nt.fastq.sorted.bam\n",
        "***********\n",
        "198271 + 0 mapped (99.34%:nan%)\n",
        "\n",
        "../moleculo/LR6000017-DNA_A01-LRAAA-2_LongRead.fastq.sorted.bam\n",
        "***********\n",
        "687033 + 0 mapped (99.98%:nan%)\n",
        "\n",
        "../moleculo/LR6000017-DNA_A01-LRAAA-2_LongRead_500_1499nt.fastq.sorted.bam\n",
        "***********\n",
        "184889 + 0 mapped (99.22%:nan%)\n",
        "\n",
        "../moleculo/LR6000017-DNA_A01-LRAAA-3_LongRead.fastq.sorted.bam\n",
        "***********\n",
        "691977 + 0 mapped (99.97%:nan%)\n",
        "\n",
        "../moleculo/LR6000017-DNA_A01-LRAAA-3_LongRead_500_1499nt.fastq.sorted.bam\n",
        "***********\n",
        "196101 + 0 mapped (99.22%:nan%)\n",
        "\n",
        "../moleculo/LR6000017-DNA_A01-LRAAA-4_LongRead.fastq.sorted.bam\n",
        "***********\n",
        "708416 + 0 mapped (99.98%:nan%)\n",
        "\n",
        "../moleculo/LR6000017-DNA_A01-LRAAA-4_LongRead_500_1499nt.fastq.sorted.bam\n",
        "***********\n",
        "188902 + 0 mapped (99.22%:nan%)\n",
        "\n",
        "../moleculo/LR6000017-DNA_A01-LRAAA-5_LongRead.fastq.sorted.bam\n",
        "***********\n",
        "667695 + 0 mapped (99.97%:nan%)\n",
        "\n",
        "../moleculo/LR6000017-DNA_A01-LRAAA-5_LongRead_500_1499nt.fastq.sorted.bam\n",
        "***********\n",
        "201571 + 0 mapped (99.32%:nan%)\n",
        "\n"
       ]
      }
     ],
     "prompt_number": 9
    },
    {
     "cell_type": "code",
     "collapsed": false,
     "input": [
      "%%bash\n",
      "grep \">\" galGal4.fa.masked|uniq -u|wc -l"
     ],
     "language": "python",
     "metadata": {},
     "outputs": [
      {
       "output_type": "stream",
       "stream": "stdout",
       "text": [
        "   15932\n"
       ]
      }
     ],
     "prompt_number": 14
    },
    {
     "cell_type": "code",
     "collapsed": false,
     "input": [
      "%%bash\n",
      "for f in ../moleculo/LR6000017-DNA_A01-LRAAA-*.sam\n",
      "do\n",
      "  echo -n \"$f: \"\n",
      "  #grep \"Read_\" $f | cut -f3 | grep chr | sort -u > $f.unique\n",
      "  wc -l $f.unique | sed 's/^ *//g' | cut -d \" \" -f1\n",
      "done"
     ],
     "language": "python",
     "metadata": {},
     "outputs": [
      {
       "output_type": "stream",
       "stream": "stdout",
       "text": [
        "../moleculo/LR6000017-DNA_A01-LRAAA-1_LongRead.fastq.sam: 4346\n",
        "../moleculo/LR6000017-DNA_A01-LRAAA-1_LongRead_500_1499nt.fastq.sam: 2814\n",
        "../moleculo/LR6000017-DNA_A01-LRAAA-2_LongRead.fastq.sam: 4279\n",
        "../moleculo/LR6000017-DNA_A01-LRAAA-2_LongRead_500_1499nt.fastq.sam: 2841\n",
        "../moleculo/LR6000017-DNA_A01-LRAAA-3_LongRead.fastq.sam: 4269\n",
        "../moleculo/LR6000017-DNA_A01-LRAAA-3_LongRead_500_1499nt.fastq.sam: 2911\n",
        "../moleculo/LR6000017-DNA_A01-LRAAA-4_LongRead.fastq.sam: 4230\n",
        "../moleculo/LR6000017-DNA_A01-LRAAA-4_LongRead_500_1499nt.fastq.sam: 2909\n",
        "../moleculo/LR6000017-DNA_A01-LRAAA-5_LongRead.fastq.sam: 4188\n",
        "../moleculo/LR6000017-DNA_A01-LRAAA-5_LongRead_500_1499nt.fastq.sam: 2811\n"
       ]
      }
     ],
     "prompt_number": 21
    },
    {
     "cell_type": "code",
     "collapsed": false,
     "input": [
      "%%bash\n",
      "cat ../moleculo/*.unique|sort -u|wc -l"
     ],
     "language": "python",
     "metadata": {},
     "outputs": [
      {
       "output_type": "stream",
       "stream": "stdout",
       "text": [
        "    8425\n"
       ]
      }
     ],
     "prompt_number": 20
    },
    {
     "cell_type": "code",
     "collapsed": false,
     "input": [
      "# unique reads mapped with bwa to the reference\n",
      "8425./15932"
     ],
     "language": "python",
     "metadata": {},
     "outputs": [
      {
       "metadata": {},
       "output_type": "pyout",
       "prompt_number": 32,
       "text": [
        "0.528809942254582"
       ]
      }
     ],
     "prompt_number": 32
    },
    {
     "cell_type": "code",
     "collapsed": false,
     "input": [
      "%%bash\n",
      "# http://picard.sourceforge.net/explain-flags.html\n",
      "# http://left.subtree.org/2012/04/13/counting-the-number-of-reads-in-a-bam-file/\n",
      "module load samtools\n",
      "for bam in ../outputs/moleculo/*fastq.unmasked.sorted.bam\n",
      "do\n",
      "  echo -n \"$(basename $bam): \"\n",
      "  samtools view -c -f 4 $bam\n",
      "done"
     ],
     "language": "python",
     "metadata": {},
     "outputs": [
      {
       "output_type": "stream",
       "stream": "stdout",
       "text": [
        "LR6000017-DNA_A01-LRAAA-1_LongRead_500_1499nt.fastq.unmasked.sorted.bam: 53\n",
        "LR6000017-DNA_A01-LRAAA-1_LongRead.fastq.unmasked.sorted.bam: 16\n",
        "LR6000017-DNA_A01-LRAAA-2_LongRead_500_1499nt.fastq.unmasked.sorted.bam: 34\n",
        "LR6000017-DNA_A01-LRAAA-2_LongRead.fastq.unmasked.sorted.bam: 12\n",
        "LR6000017-DNA_A01-LRAAA-3_LongRead_500_1499nt.fastq.unmasked.sorted.bam: 62\n",
        "LR6000017-DNA_A01-LRAAA-3_LongRead.fastq.unmasked.sorted.bam: 22\n",
        "LR6000017-DNA_A01-LRAAA-4_LongRead_500_1499nt.fastq.unmasked.sorted.bam: 47\n",
        "LR6000017-DNA_A01-LRAAA-4_LongRead.fastq.unmasked.sorted.bam: 18\n",
        "LR6000017-DNA_A01-LRAAA-5_LongRead_500_1499nt.fastq.unmasked.sorted.bam: 49\n",
        "LR6000017-DNA_A01-LRAAA-5_LongRead.fastq.unmasked.sorted.bam: 13\n"
       ]
      },
      {
       "output_type": "stream",
       "stream": "stderr",
       "text": [
        "application-specific initialization failed: Can't find a usable init.tcl in the following directories: \n",
        "    /opt/anaconda1anaconda2anaconda3/lib/tcl8.5 /usr/lib/tcl8.5 /lib/tcl8.5 /usr/library /library /tcl8.5.13/library /tcl8.5.13/library\n",
        "\n",
        "\n",
        "\n",
        "This probably means that Tcl wasn't installed properly.\n",
        "\n",
        "\n",
        "Lmod Warning: samtools not found, loading: SAMTools/0.1.19\n"
       ]
      }
     ],
     "prompt_number": 23
    },
    {
     "cell_type": "code",
     "collapsed": false,
     "input": [
      "%%bash\n",
      "# http://picard.sourceforge.net/explain-flags.html\n",
      "# http://left.subtree.org/2012/04/13/counting-the-number-of-reads-in-a-bam-file/\n",
      "module load samtools\n",
      "for bam in ../outputs/moleculo/*fastq.sorted.bam\n",
      "do\n",
      "  echo -n \"$(basename $bam): \"\n",
      "  samtools view -c -f 4 $bam\n",
      "done"
     ],
     "language": "python",
     "metadata": {},
     "outputs": [
      {
       "output_type": "stream",
       "stream": "stdout",
       "text": [
        "LR6000017-DNA_A01-LRAAA-1_LongRead_500_1499nt.fastq.sorted.bam: 1320\n",
        "LR6000017-DNA_A01-LRAAA-1_LongRead.fastq.sorted.bam: 167\n",
        "LR6000017-DNA_A01-LRAAA-2_LongRead_500_1499nt.fastq.sorted.bam: 1446\n",
        "LR6000017-DNA_A01-LRAAA-2_LongRead.fastq.sorted.bam: 151\n",
        "LR6000017-DNA_A01-LRAAA-3_LongRead_500_1499nt.fastq.sorted.bam: 1535\n",
        "LR6000017-DNA_A01-LRAAA-3_LongRead.fastq.sorted.bam: 180\n",
        "LR6000017-DNA_A01-LRAAA-4_LongRead_500_1499nt.fastq.sorted.bam: 1476\n",
        "LR6000017-DNA_A01-LRAAA-4_LongRead.fastq.sorted.bam: 157\n",
        "LR6000017-DNA_A01-LRAAA-5_LongRead_500_1499nt.fastq.sorted.bam: 1386\n",
        "LR6000017-DNA_A01-LRAAA-5_LongRead.fastq.sorted.bam: 167\n"
       ]
      },
      {
       "output_type": "stream",
       "stream": "stderr",
       "text": [
        "application-specific initialization failed: Can't find a usable init.tcl in the following directories: \n",
        "    /opt/anaconda1anaconda2anaconda3/lib/tcl8.5 /usr/lib/tcl8.5 /lib/tcl8.5 /usr/library /library /tcl8.5.13/library /tcl8.5.13/library\n",
        "\n",
        "\n",
        "\n",
        "This probably means that Tcl wasn't installed properly.\n",
        "\n",
        "\n",
        "Lmod Warning: samtools not found, loading: SAMTools/0.1.19\n"
       ]
      }
     ],
     "prompt_number": 24
    },
    {
     "cell_type": "raw",
     "metadata": {},
     "source": [
      "Removing -c samtools output the reads, and so I took 25 from LR6000017-DNA_A01-LRAAA-1_LongRead"
     ]
    },
    {
     "cell_type": "code",
     "collapsed": false,
     "input": [
      "%%bash\n",
      "\n",
      "samtools view -f 4 ../moleculo/LR6000017-DNA_A01-LRAAA-1_LongRead.fastq.sorted.bam | head -25 | cut -f10 > reads"
     ],
     "language": "python",
     "metadata": {},
     "outputs": [],
     "prompt_number": 35
    },
    {
     "cell_type": "raw",
     "metadata": {},
     "source": [
      "And thrown in BLAT first 5 lines:\n",
      "\n",
      "GGTCAGGCAATGCCAGGCAAAGACAGGCCAGGCCAGGCCCAACTAGGCCAGTCTTTGCCAAGTCAGGCCAGGCCAGCCCAGGCCAGGCACGGCCTGGCCAGACAAGACCAGGTCAGGCCAGGCAAGGCCAGGCAAGGACAGGCCAGACAAGACAAGGCAAGACAAGTCAAGGCCAGGAAAGGCAAGGCCAGGCCAAGGCAGGACAGGTGAGGCAAGACTGTGCCAGCAAGGACAGGGCAGGCCAGACCAGGCCAGGGCAGACCAGGGAGTCCAGGGGAGTTTAGGCAAGTCACAGCAAGGCCACGCCAGGCCAGGCCAGGGAGGCCAGGCAGAGCCAGGGCAGGCCAGGTGAGACGAGGCGAGGCCTGGCCAGGGCAGGCCAGGCTAGACGAGACGGGTCCAGGACAGGCCAGGTGAGGCCAGGCCAGGCCAGGCAAGGCAAGGCATGCAAGACCTAGCCAGGCCATGCCAGGCCAGGCTAAGCCAGGACAGGTGAGGCAATGCCAGGCCAGGCAAGGACAAGCCTGGCCAGGCCAAGCAGGGACAAGGCCACGCCAGGAAAGGCCAGGCAAGACCAGGCCAAGCCAGGCCAGAGCAGGAAAGGCCAGGCAAGGCCAGGCCAGAGAATGCAAGGCCAGGGAAGGCCAGTACAGGCCAGGCAATGCAAGGCAAGGCAAGGCACGGCCAGGACAGGTCAGTGCAGTCCAGGCCAGGCATGGCAATGATAGGCCAGGCCAGGCCAGGCCAGGCAAGTCAAGGCAATGCAAAGCAAGGCAAGGCAAGGCAAGGCAAGGCAAGGCAAGGCAAGGCAAACCAGGCCAGGCTAATGAAGGCCAGGCAAGGTAAGGCCAGGCTGGGCAAGGCAAGGCAAGGCAAGGCAAGGCAAGGCCAGGGCAGTCCAGGCCATGCAAGGAAAGGCAAGGCCAGGCCATGAAAGGCCAGGCCAGGCCAGGCCAGGCAAGACCAGGCAAAGCCAGAAAAGGCAAGGCATGGTAAGGCCAGGCCAGGCCAGGCCAGGCCAGGGCAGGTAAGACAAGGCAATGCCAGGGAAGGCAAGGAAAGGCAAGGAAAGGCAAGGAAAGGCAAGGAAATGCAAGGCAAGACCAGGCCAGGCCTGGCCAGGCCAGGTCAGGAAAGAGCAGGCCAGGCACGGCAAGGCAGGCCAGGCAAGACAAGGCGAGGCCAGGCCAGGCCATGCTTGGCAAGGAAAGGCAAGGCCAGGTCAGGCAATGCCAGGCAAAGACAGGCCAGACAAGGCAAGGCAAGACAAGTCAAGGCCAGGAAAAGCAAGACCAGGTCAAGCCAGGACAGGTGAGGCAAGACCGTGCCAGCAAGGCCAGGGAAGGCCAGTACAGGCCAGGCAATGCAAGGCCAGGCAAGGCCAAGGAAGGCAAGGCAAGGTAAGGTAAGGCCAGGCCAGGCTAGCCAAGGATAGGCCAGGCCAGGCCAGGCTAATGAAGGCCAGGCAAGGCCAGGCCGGGCAAGGCAAGGCATGGAAAGGCAAGGCAAGGCAAAGCAAGGCAAGGCAAGGAAAAGGCAAGGCCAGGACAGGACAGGCAAGGAAAGGCCAGGGCAGGAAAGTCAAGGAAAGACAAGGCAAGGCCAGGCAAGGCAAGGCAAGGGAAGGCCAGGGAAGGCAATGCAAGCGAAGGCCAGGAAATGCCAGGCAAGGCAAGGCAAGTCATGGCAAGGCAAAGCCAGGCCACACAAGGCAAGGAATGGCAACGCATGGCCAGGAAAGGCCAGGCCAGGCCAGGCAAGGCGAGCCCAGGCATGACAAGGCAAGGCAAAGCAAGGGCAGGCAAGGCAAGACAAGGCAAGATATGGTAAGGCAAAACAAGGCCAGACAAGGCCAGGCCAGCAATGCGAGGCAAGGCAAAGCCAGGCAAAGCAAGGCCAGGCCAGGCCAGGCCAGGCCATGCCAGGCAAGACCAGGTCAGGCAAAGCCAGGCAAGGCAAGGCAAGGCAAGTCCAGGCAAGGCCAGGCCAGGCCAGGCCAGTCCAGGCACAGATGGGCAAGGGAAGGCCAGTCACGGCCAGGAAGGCCAGGCAATGAAGTCCAGGCCAGGCCAGGCCAGGCCACAGCAGGCAAAAAAAGGCAAGACCAGGAAGGCCATGGAAGGAAAGGCAAGGCCAGGCCAGACCAGGCAGGGCCTGGCAAGGCAAGGCCCGGCAAGGCAAAGCTTGGCAAGGCAAGCAGGGCAAGGCCAGGAAAGGCTAGGCTAGTCCAGGCATAGCCAGGCCAGGCAAGGCAAAGCCAGCACAGGAGAGGAAAGGCCAGGCACGGCTAGGCAAGGCAAAGCAAAGCAAGGCTGGGCAAGGCAAGGCAAGGCAAAGCCAGGCCAGGCCAGGCAAGGCGAGGCAAGGCAAGGCTGGGCCAGGAAAGGGAAGGAAGGCAAGGCAAGGCAAGGCAAGGCAGGGCCGTGCCAGGCCTGGCAAGGCCAGGCCAGGCCATGCAAGACACGACAAGGAAAGGCCAGGCAAGACAAGTCAAGGCTAGGCCAGTCCAGGCATAGCCAGGCCAGGCAAGGCAAAGCCAGGAGAGGAGAGGCAAGGCCAGGCACGGCAAGGCACGTCTTGGCAAGAATAGGCCAGGCCAGGCCAGGCAAGGCAAGGCAAGGCAAGGCAAGGCCAGACAAGGCAAGGCAAAGCAAAGCAAGGCTGGGCAAGGCAAGGCAAGGAAAGGCCAGGCAAGGCAAGAAGTGCATGTCAAGTCAAGTCAAGTCAAGGCCAGGTCAGGCCAGGCAAGGCAAGGCCAGGCCATGTCAGGCAAGGCCAGGCCAGGCCATGCAAGGCACAACAAGGAAAGGCATGGCCTGGCCAGGCAAGGA\n",
      "AGAGGCAAGGCCAGGGATGGCTAGGTACAGCATGGCAGGGCCAAGCCAGGCTAGCAACGCAAGGCAAGGCAAGGCAAGGCAAGGCCAGACAAGGCAAGGCCAAGCAAGGCAAGGCAAAGCAAAGCAAGGCTAGGCAAGGCAAGGCCAGACAAGGCCAGGCAAGTCAAGCAGGGCATGTCTAGTCAAGTCAAGGTCAGGCCAGGCAAGGCAACGCAAAGCCAGGCCAGGCTAGGCAAGGAAAGGCAAGGAAAGGCAAGTGTTGGACAGGCCAGGCTAGGCCAGGCAAGGCAATTCACGGTAACTCACAGCAACTCATGGCAAGGCAAAGCCAGGCAAGACAAGGAAAGGCAAGGCCAGGCAAGGTAAGGCCAGGCCAGGCCAGGCCCGGCAAGGCAATGCAAGGGATGGCCAGGCAAGGCCAGGGAAGGCAAGGCCAGGCAAGGCAAAGCAAGGCAAGTCATGGCAAGGCAAAGCCCAACTAAGCAAGGCAAGGCAAGTCCAGGAAAGGCCAGGCCAGGCCAGGCCACGTCAGGCAAGGCAAGGCTATGCCATGCAAGGCTAGGCAAGGCCAGACAAGACCAGGCAAGGCAAGGCAAGAGAAGGCCAGGCCAGGAAAGTCCAGGCAAGACAAGGACCGGACAGGCAAGGCAAGGAAAAGCAAGGCAAGGCCAGGCAAGGCCAGGCCAGGCACGGATGGACAAGGGAAGTCAAGGCAAGGCCTGGCAAGGCAAGGCAAGGCAAGTAAAAACCAGGCAAGGGTAGGCGAGTCAAGATGAGGAAGGCCATTCAAGGAAAGGCATGGCCAGGCCAGGCCAGGCCAGGCAAGGCAAGGCAAGGCAAAGACAGAAAAATCCAGGCCAGGCCAGGCCATGCCAGGCCATGCCAGGCAAGGCCAGGTCAGGCAAAGCAAAGCAAGTCCAGGCAAGGCAAGTCCAGGCAAGGCCAGGCCAGGCAAGGCCAGGCCAGGCCAGGCACAGATGGGCAAGGGAAGGCAAGTCACAGCCAGGAAAGCCAGACAAGGAAGCCCAGGCCAGGCCATGCCAGACAAAAAAAGGCAAGACCAGGAAGGCCATGGAAGGAAAGGCAAGGTCAGGCCAGGCCATGCAAGGAAAGGCAAGGACAGGGTAGGCCAGGCAAGGCAAAACAAGGCAAGGCAAGGCAAGGCAAGGCAAGGCTGGGCCAGGAAAGACAAGGCAGGCAAGGCAAGGCAAGGCAGGGCCATGCCAGGCCAGGTAAGGCCAGGCCTGGCCATGCAAGGCACGGCAAGGAAAGGCCAGGCAAGACAAGCAGGGCAAGGCAAGTCAAAGTTAGACCAATCCAGGTATAGCCAGGCCAGTAAAGGCAAAGCCAGGAGAGGAGAGGCAAGGCCAGGCACGGCTAGGCACAGCTTGGCAGGGCCAAGCCAGGCCAGCAATGCAAGGCAAGGCAAAGCAAGGCCAGACAAGGCAAGGGCAAGCAAGGCAAGGGCAAGCAAGGTCAAGCAACGCCAGTCTAGGCAACGTCAGGCAAGCAAGGCCAGGCATGGTCAGGCAAGGCAAGGCCAAACAAGGCAAGGAAAAGTAAGGCCAGTCAGGGCAAGGAAAGGAAAACAAGGCAAGGCCAGGCAAGGCAAGGCAAGGCCAGATGGGCAAAGCCATGCCAGTAAACCAAGGAAAGTCTAGGCCAGGCCAGGAAAGGCCAGGCAATGCAAGGCAAGGCCAGGCAAGGTCAGGCCAGGCAAAGCAAGGCCAGGCCAGGCCAGGCACAGCAACACCAGTCTAGGCAAGGCCAGGAAAGGTCATGCAACACCAGTCTAGGCAAGGTCAGGCAGGGCAAGGCCAGGCAAGGTCAGGCAAAGCAAGACCAGTCCAGGCCAGGTAAGGCAAGGACAGTTAAGGTGAGGAAAGGCAAGGCAAGGTAAGGCATGGCAAGGCATGGCAAGCACAGGTCAGGCCAAACTAGGCAAGGCGAGGCAAGCAAAGGCCAGGAAGACCCAGGCCATACAAGGCCAGGCCAGGCCAAGCCAGACAAGGCAAGGCCAGGCAAGGCAAGGCAGGGCAGGGCAAGGCAAGGCAAGAAATATTCCGTCAAGGCCAGGCCAGACAAGGCAATCCCAGGCAAGGCCATGTCAGGCCAGGCAAGGCCAGGCAAAGCCAGGCCAGGCCAGGCCAAACAACTCAAGGCAAAGGAAGGACAGGCAAGGCCAGGCATTGCAAAAAAGGCAAGGCAAGGCAAGGCAAGGCAAGGCCAGGCAGAGCAAGGCAAGGCCAAGCAAGGCAAGGCAAGGCAAGGCAAGGCAAAGCCAAGCAAGGCAAGGA\n",
      "AATTACCCTCTGATATCAAACGAAAATCTCACTCCTTTTATTTTAAAGCCATCCCACCTTGTCTTCTGACAATCCGTCCGTGCAAGAACTTGGTCTCCCTCCCATTTATAAGCTCCCCTTAAGTACATGAAGGCTGAAAACAGTACTGAAAATGCATGGCCAGGCCCAATTACCGCTCCTAAATCATTATGAGAGAGCACACGGCTGCTGTTCAACTGGATTTCCTTGTTCTGTAAAAATGGCAATCAGCAGGTGATGGTAGGCTGAACATAATAAAATTTCTCTCTGGCTACTTTCTAGGGCTCTTAAATACTACCAATCCCTTAAAAATCAAATAAACAAACAACAACACAAAATACATGGAAGTGCTCAAATATTTGCACTATGGGTTTACATGAGAAGATTCAAGAACTCAGAACTGCAGTCATCCATTATTTTTGTTATTGCTTTCATACTTCGAATGTAATTACTCAAAGGAAAAAAAAAACATTCACAAGCCATTTTTAAAATAAATATTTTTTGGGACTGTAAATTAACATCTGCCAAATATTGGTTAATAATCACTCTTTTCAACATTTTCTATTTTCTTGTACCCATACGTATCCCCCAACTAAAACTCCTGCATAGGATTATGCCTTTATTTTCATCAGCCACGTCAAAAGATGACACAATAGATATATAAATCTTTGTAATGCATTTTGCTTCTAGGAAAAGCTTTCAGGAAAGCACACATGCTCACCCCATGCATATTCAAAACTCAGCAGATGTATCATGATGAGTTGCCTTGATTTGGCTCCAGAATGACAAATTATAGCCATCAGCACACATCCTGCCAAGAACAGAGAATGAAACTCTGTTTAGTCCAATGATCTTGCTTTAGTTGCAGGCAGAATTTTGTGTCCATCATAGAAATATGTGCTTCTAAATGTACTCCACTAGCATTTGTTCATGTAGCTATTTTGAAATTACAAAGTAGGCCTTTTGTTTCCTCACAGTGCTTCCATCTCTCCCCAGATCTGATCATGCTGTTTATTACAGCAGATTGGAACTGAACTGATGAAACGACATTTCACTGTAGAAGGCAGGTTTCTGAGCCCAAAGGGTTTCACTGGAAATATCTGTGCTTGAAACGCCTCCACCAAATCCAAGGGATGGCTCCAATCTGACTGAACAAGGATTCCTGGCTAGTCTAATTCTAGATCTGGGAATGCAGGGAATGCAGCGGTTCACAGTGCAGGGTGATCCTGCCTCCTGACATTTTTTTCTTCTTTTCCTGAAATCATTAATCTGCAGTTCAATCTGTCCTACAGTTAAAATTTTCTTAAAGGCATGGAGCGAAAGTCCATCGATGAACTGGGAATGTTGATTTTAGGTGTTTATTGGAGCAATCTCTGTAAAGAAAGTTTAGTTCTTGAAGGTTCTTGAGTGGAAAAAATTATGAAGGCAATCTCTATGTAACATTTCATTTTGTTGTTTCCTTCCTGGAATGTAGCTAGAGATTTAGTTAGATGCCATAATGCAGGAATAAATGGCACAGACTTCTGAAAGACACTGATTTCATAAGATTGTTCTCCATCTGTATGAAAATCTGCAAAAAAAAAAAAAAACAAAAAACAAAAACAAAAAAACAAAAAACAAAAAAACCACCCAAACCCCAAACAAAACAAAAAACAAAACAACAACAACAACAGAAAAAACCCAAAACCAAAAACCCCAAAAAAGAAAACACCCACAGAAAAGGAGAAAAACCCAGAACAAACCCCCACACAGGAAACATGTTTGCAAGGTAATTTCAGAATAAAACTTGTTAGACTTCAATATATCAACTACCAATGGCATGACAAAGACAATGCTGTACTGCGGACCATTGTACTCTTTTTTTTTCTCAAAGTAAAGAATATTTTTTGATCATTTACTTCAGTAGATTTATCCCCAACTATTCTGTGAGTTTGGGATTTCCCCACTCAGATGACTAGAGTGTGGAAGGAACAGATCAGCATGGTTTCCTCTGAAGGAATCCTACTGCCCTTCTGTCCTTTTGTGTTCTCCTACAGCTGAAAGGAGGACTCCACATCATCAAAATTAAGCCAGCTCTCAGCACACTTCCATTCAAGAGATTAACAAGGAAACTGACTAATGGAAAGATAAAACGCAAGACAACATCATAGTTATAAAACCATCAACAATGCAGAAAATAGGGCAGAAAGCTGTAATCAGTGTAAAATTAAAGACACAGAGCAGTGAGTGTCTGCAGGACTCTGCTGTCTCAAGGGCCTCCTAGAAGGAAGCTCATGCCACAGTCACCCCTCCTTGAAGCAACCTTTGGATGGTATAGGCAATATGAAGCTGTTGGACTGGATCTTTTCCAACCTTGATGATTCTATGATTTTGCCAAGCAGCTCTGAGTACACAATGGTGCACACCAGCCTCAGCAAAGTTTCCATGTGTTTCAGGATTTTTTGGTGTTATGTGATCGCAATTAGGTCTTACTTATTTTTCCTGCCAAGATGCTCAGCATCCATTTCTACTAGGACTTCAGAAAAATATCTGCCAGGGCATTTGGATGCAACATATTGCACAAATGCCCTTAACAAGTTCATAATCAGACACGGCTTTGAAATTTTTGACAAGGTTCTATCTCCTTTCAGACTCACATTTATTTCAGTCACCTACCATTTTTGGTGCTGTTTGATGGCCCTTCAGGTATATGTGCAAAAACCTTGTATTTGATGCTGCTTTGACTCACTGACAGACATTCTCAGTGTATATAGTTATCAACTTTCTTCTTCCTGAAGAGTCCTTGTTCATAGGTAATAAATAAAATGTTTTCACTGGAAAGGATGCTTTGCCCTTTTTCAATATACTTTGCAGGATGAATGTTAACATATTAGCAAGGAAGATTCTGCCTATCCTTTACCAGACAAAGTGGGGAGTGATGGACAGGCAAAAGAAACCATTTCCCTACATGATCCCTACATTTTACTCTTAGGCAAGCCAATAGATTTAACTCAGTGTACTATTTTGGAACTTTCATGTTCTGGTTGAATGCAAGAAAAAGTAGGACAAGAGAGCACTTGTTTAAGGTGGAAATCAGGCTCCTACCATACAACTGGTTAGAAATACAATGCTGTATGTTTACTATTGCTATAATGTACTTTTCAATGAATCGTCTAGCCAGCATCCTACCATTGAGCAAATGACTGCAGTTTCATTTTGTGTGGCAATCGAAACCATTCAGTTTCAAAGAATGATTGAAGTCTAATAAAGCATTCCACTGTTAACCACCAAACAGTGTCAGATTTCCACCGGCAGGTTTAGACAAGAAAAACTCTTGCTTTTTCAAGACTAACTGAATCAGGGATGTGTCATCAAGAAGCAGCCTTTTTGTTTTAGCTTTACAGTCACTCTGTAACTGACTTGGAATGGCAGGTTGAATGTTCGTAAAGCAAACGGGTATTCAAATGCTGCTTACCATGGAAGGATTAGATCAACTTTCCAGAAGTGCGGCATGCAACCAAACCTTGTGTTTGTGAGATATTGGGACCTCAATGCATGTGTTTACACCATGCAAAAAAACCAAACAAACAAACAAAAAAAACCCCACCAACAACAAAACACCCAGAAGCTATGGAAGATTAGAACATGCACAGAGCCAAATGCCATGGGGTGTATTTGATTCACTGCCAGAGCAGATCCTAGGTTATAACCCTGAGTGGCACAGTCGACTCTGTTATACCTTCTACTGAGAAATACACAGATAGAAAGCAATGGTCATACAGTGGTCATGGCCCAACAGTCCTCTGGACTGCCTTCGACAACAAGCACCAGTAGGGTTAACATGGAGCCCAATCTAGATCATAACATCACTCTCCTCCGTGTCAAACTGTGGTGATAGGCTGATGGTTGGACTAGATGATCTTAGAGATCTTTGCCAACCTTAATGATTCTATGATTCTATGAAATGTAACTGAAAACAGATCGTGTTTCCATTTGTGCACCATCCTTAGAGCATGAGAGCTCACTGCAACACACAGACAGAAGTCTTCTGTCATAAATTCAGCTCAACACTGCAATTCATGCTTCTGGAGCTGGGGAGCATAGATCTTCAAACTCGTTCTCTAATGGACTGACATTACACAATAACAGATTTTTTTCACTTGAGAGTATGTGCTCCAAGTTCTCAGTAGAAGAACAAAGCAGTGTTTGGTGGATGGAACAGTTTACATACAATTCAAACAAAACCTAAGTAGCTGATGACTAACTTACAAAGCATAAAGATTCCAGTTTTGTGTTGCTGAAAAATGTAAAAACAAAACTGTTCTTGCTTGCTCCCCCAGGAATACATCACTGCCAGAAGCCAATTCAGAGGTTGGGAAAACTAAGGTCCATTTCAAAGTTAATTCTGGGGTTGCCCAGTGTAAATCTTATGAAACATACTGGAAAAAATCAAGATATGAGTCATTCACACCAATCTGTCAAGACATTGTGGGAATCTACTGCAACTGCCCTTTGGGCTAAATGACTTTGTGGAGAAATTCTATTGAAAGCAAAGCACAAGAGACTAATTTAGTCCTCTGTAGCTAGTTCTTTCCTTTTCTTCCTTTTCTATCTTGCTTGCTTTCTTG\n",
      "TGCTCACTCTCTCTCCATCTCTTCCTCCTTCCCCTTTTTCTTGTTCAATTGATTTTCAGTGCAATAGGAACAAAGGGCCCAGTCAAGGTCAGGGCACTGGTCTGAGTCTGCAACATGCCTTTAGAGGGGAGCAGTGACAAATATAATCAGTGGAGCAATAGACAGTGAGTGGCAGTGGTGGACTTAGGGAGCTTATGACATGCTTTACACAAAGCTGAGTAGAAAGGCATGTTGTAAGTCAATGAAGTGACAATTTCAGCATTTTTATCCTACCTTACAATTGAAGGATCAGACACAGAGTTTGTAGTCATGGAATCAAGCTGTAAGCATAATTACTCCATTTTCCATTCTCTCATCTCTGCCACCAGTTCTGTGCCACATACTGCCATTCCCCACCTTTCCAGTCTTTCTACCCTGGTTTTCTACCCTGAAAAAATGTGTTTTAAGAACGTCACAACAACACCACAATATACGAGTATCTTTAGCTTTTATGAGGATTGACAGAAAAATATTGATGGAAAGTATCTGAGGAGAAATTTGACCTCCAAATTTTATTTCTGCTCCCCAGACAACCTGATTACTTTCCATAGAAGTATTAATATTTTCTTCATGAGAATCTGATGCTTTGACGGTTCCATGACATCCACATAGGAGCCATAATATGTCTCTTTCCTTCTCCTGAAAAATAAGAAAGTGGTGTTTGCTGGATGCTTTGGCCCAAGAATGGGATCCAGACTGAACTGAAAAATGAGCGGGTCAGGAACTCAATTCTCCGGAAGGTTTTCACAAACACATTTCAGAACAAGATTTTTAATTTATCAATCTTTTCTAGGGGGAAAAATATTTTTTAAAAAAGATTTTATTAACATTTCTACAGTAACTTAGATTTTACGCTAGGGGGAATTCTGAGATGAGTAACAAAATAAAGAGCATCAGACATCTTCATTTTTTCAGTAACTGCCACTTAAAAGATGCAGAAAAACATTTATATGCATCAGTATATTACATTCAATAAGCATCCTCCTGAGAAGAAGAGGAGGGTAAAATCTCTGCAATCCTTCTCGTATTTCAAAACAAAACAGAAGGAAGCCTGCACTTGGTTTGTTGCTCTGATAAACAAACAAGTCTTACATCATCAACTTTGTGTATTCATCATATACAGCTAAAGATTGCTAAACACCAGATCTAAATTAATTATAAGCTATAATTTATTTATCTAGGAGTTAAGTCCTATTCCCCTATCACCCCACTGTTTCTGTCATCAGGAGCAATTCCTCCACAGATGAAATCTTTGTTCAGGGACCTCTTATAAGTTGTGGCAGCAGAGCTGGGCTTCCTCTGCTTGGACAAGCCAGTAGTGCTCCCCCTCTAGCCCTTACAGCACCTTCATACTCCTTCCATTCCCCTTCACCTCAAAGACAAATCTTTTCTTATGATGTAGGTGAATGCTACTTGAATGCTCTGATGACATGAGAGAGCTTGACTTTTTATTCTGCAGTTACAAGGTTTTAGAGAAAGAAGTCACTGTGAGTGAGTTCACACCTCACACTATACTAAGTTCCACTGCAAGGGAGATTTTAGGGAGGTCTCTCTCTAATACCTCCTGAAAGCTGCACAAGGCTTCAGATTACATCTGGTCTGCACATATGACAAAAGGACCTTCTATTTCAGCATGGCAATAGTCAGCAGTTTAAATTCTGCTCTCTGATAGATGTTTAGTCTGAAAATGTGGACTGAAAGGTACCATCATGCTCTTCTTCAGAAACTAAATCACATGAGGCCTCACCTGTAGATCCACCTGCAAAAGAAAACAGAAATCCTAGGGGACACAGGAGATTGGAGATGATTTTTTCTGTCACTGCAGAGTTTGGTTTTCTCAATCCAAACTGCAATGCTCTTTGAGTGACACTGTCTTTTAAATAATAAATACTTTATCACTTAACATTATCAAATAGATTTTTGTCACTTTACTGATGCTATGAAAGTTTCTTAACCACTAGAAATCAGATACATTTTAATAATTTGGATTTGTATTCACCTGCCAGAAAGGCAATTTGCCTAATACTTTTGTAATATTACCATAATTCACTGCTCCCAAAATTTTGGACTTTCTGTATTAACATCAACTTTCTGTCCTAACAATTGTCACAGACCATGTATGTTAGTACTTAGAGTGAGCTCATGATCCCAAAACACACATTTTCATTCCAAGACCTACATTTTACAGTCCAGAATGCTACTTCTATATGATGTGACTTCAGATTTGGTCTTCTTTCAGCCCTCTTTTGTGTCAAAAGCTTGTGTGACTTCTAATCCTCTGAAAAACAAAGGTGACATGCTACAGAAACTTACATTAGCCTACACCAAATGAGAGTTACAGACATTAGCTTCTCCCTCACTTCTACTTTTCAGGGCAGTTCATTGAGACTTCATGCATAGTGTGCTCCTCTGTGGTTACTAAGGAGGGGGTTCATATTTTCAGCATATCTTTAGTATATATTCTGCCTAGTGTGCTTCATCTGATAAGAATTCCAATGATTACAAAAAAAAAAAAATCTACAAACACTAATTGATTTTGGATTATTAAGACAACAGTTGAATGCCACGACTGCCACGGTGTGATGGGAAACATTACTGTCTGATGAGAGCAATTTCAAGATGGGGCTGGGGAAACTCAAAGAAGATAGGGCATAACTTGTTATTAAATACAACCAGTGAGATATGACATTCAGCTTAGGAAATTCCTAACCAACTGGCCATAAAAAATAGGAAGAGCAGAGTGGCTGGAGCATTTTGCAGTGCTTGTTCTCATTCTGACGTCCTTTGCCCACACATTTGCTGGTGGTCAGTGCAGGAGGAAAGATGTTATCTGGCCACTTCCAGCTATTCCTTTTTTCTTAGTGGCTCACTGAAACCACTTTCCTTTGTGAACTGCGTTTGTACTTGTTCTGAAGAGGTTAAAGTTATGACTGCCATAAAAACCCCACAACATAGTTGCTTCCTCCTTCCTGATTTTCTTAGAGCACTTCAGCAGAAGTAATGTACGGGGAGTGAGATTCTTATCTAAGTCATACTCCCTGAGTCTATCTCAAGTTCCTTGTTTTACAAGAGTTTTTGTAAGTGACTGAGAACAGCATGTAACC\n",
      "ACAGCTAAGAGGGAGGATCAGAAAGCAGCGGCACAGCCATCACAGTTCTGGGGGAGGTGCCGCACATCTCTCAGCCTTGCTTATTCGAACCACTGGAAAAAGAGGAGGTCAAAACCCTTTCATCAAGCTTCACCTGCATGCAAAACATCACCATGACAGGGACGGTTTTCTCATGCTCAACTTTGGGCTTGGACATTCTCCGCATCCAGCCACAGAGGATGCCATATTCTCACCTAAGCCCACAAATCAGTTGGCCCCTCGATAGCAAAAGCATATCTCAACAATCCTGGAGAAGGCCTGCATTTGATCAAGGTGTCTCATCAAGACAAAGCTCATGCAGGAAGACGCTCACCTGCTCCATCTCCGATGCATGACGTGGAGCGGGAGCAGAAGAGGACGTCGGTGTGGTTGATCAGGAACTCCACCACATCCGACTGCCTCTGAAGTTCCACGCAGGCAGCTCTTCCGCTGGCACAGGCAGCCTCGTTCTGCTGGGATCTGTAGAAAAGGCAGATTGGAGAAGTCATTGACCCGAGATCGTTTCCCCACGTTTGGGCATTTGGGCAGCCAAAGGCTGTCCAATTGGGCTCTGGAGACTTCCGCAGTGGGCAAGCAGTGATGCCACTGAAGACATTCTCCCGGGTGATCAAGGACACACCAGCCCCATCTGACAAAACCAAGAGAGCACAAATTGTCCTCCTCTCCAAAGTGTGCCCGTGGGGAGAACAGATCTAAGCCTTGTGCTGAGACGGAAAAAGAAGTTTACCTGAAGAGGTTGGGAGCCCACACAATTGCTAAGTTCTTAGCGGGCATGTTTGTGACGGAGCATCTCCCAGCGAGACAAGCCAAGTGTCTCATGAGGTACTCCAGCGTCCTGGAAATCAAGAGCCAAACCTTCAGCACCACTGAGCACGCCGTGCTCACATTCACCAAAAAAACCTCACTTCATGCCACTGCTTGTTCTTGCTACGGAATAGCAAGTAGATCACGCTTTCCCAAGTGCCACGCTGCCGCACCAAGCCCCAGCACAGCACAGCTGCAGCCATCAGCTGCACCAGCCGTGCCCCCGTGCCCAGGAGCTGACCCAATCCATTCACCCCACGCAGCCATCAACCACTTCAACACACACAGGCATCACGTAGCCAGTGTGAGACAAAGCCTGCCATCGCATCATCGCCCTCTGAAATGCAGCAGGGCTGAGCTCCCCAGACTGAGGGCAGCAGTTTTCTGACCTGTAGTGAGGTGCAGGCAGCTGCTGGATGACCTCCTGCACTCGGAGCAACCGCTCCTCATCTGTACCGGCACAAACAGCGTCCTGGAAGAAAGCAGAAAGGGAATGAGACACACATCATGCGAGTCAAGCGCATGGGGCTAACAGAAAAAGGGCCTCAGAGCTGCAGAGGGCACTGCTGCTCCCATCTCCCACATTTCCAATGGCAGGATGCACACACCAGGTGTTGTGGTGCACCCGGTGTGCAGGAAGCATGAGCTGCTTGTTGTACAGAGACACCCACTGGATGTCCATCAAAACCCCAAGTTCAACAGAAAAAAGACCAAAAAAAGGTGCGCAGGCGTGTGTGTGGATGGGACAGGGAAGAGGGACATGAAGGCCATTGCCTTGTGCTTACCGAGAACTTGCCATGCAGCTGCTCGGGCAGCAGAGGGCTCGGGAGCTCCCTGAAGTACATC"
     ]
    },
    {
     "cell_type": "markdown",
     "metadata": {},
     "source": [
      "Results (best score):\n",
      "\n",
      "1) http://genome.ucsc.edu/cgi-bin/hgTracks?db=galGal4&position=chr19%3A36756-37830\n",
      "\n",
      "2) http://genome.ucsc.edu/cgi-bin/hgTracks?db=galGal4&position=chr13%3A1121775-1124136\n",
      "\n",
      "3) http://genome.ucsc.edu/cgi-bin/hgTracks?db=galGal4&position=chr3%3A107513520-107513621\n",
      "\n",
      "4) http://genome.ucsc.edu/cgi-bin/hgTracks?db=galGal4&position=chr2%3A24098595-24098686\n",
      "\n",
      "5) http://genome.ucsc.edu/cgi-bin/hgTracks?db=galGal4&position=chrZ%3A78251989-78253677\n",
      "\n",
      "1, 3 and 5 looks normal, 2 and 4 are curious. But they seem to match.\n",
      "\n",
      "Then I tried Jared's suggestion and use the same sequences in\n",
      "http://www.ebi.ac.uk/ena/\n",
      "\n",
      "1) http://www.ebi.ac.uk/ena/data/view/AADN03007702&range=5653-6727\n",
      "\n",
      "2) http://www.ebi.ac.uk/ena/data/view/AADN03021613&range=1-1236\n",
      "\n",
      "3) http://www.ebi.ac.uk/ena/data/view/AC187113&range=18832-21204\n",
      "\n",
      "4) http://www.ebi.ac.uk/ena/data/view/AC187113&range=15651-18794\n",
      "\n",
      "5) Can't even choose one, lots of matches"
     ]
    },
    {
     "cell_type": "raw",
     "metadata": {},
     "source": [
      "%%bash\n",
      "for f in ../moleculo/LR6000017-DNA_A01-LRAAA-*.sorted.bam\n",
      "do\n",
      "  ORIGINAL=${f%.sorted.bam}\n",
      "  for read in $(samtools view -f 4 $f | cut -f1)\n",
      "  do\n",
      "    LINENUM=$(grep -m1 -n $read $ORIGINAL | cut -d\":\" -f1)\n",
      "    sed -n \"${LINENUM},$(( $LINENUM+3 ))p;$(( $LINENUM+3 ))q;\" ${ORIGINAL} >> ${ORIGINAL}.bwa_missed\n",
      "  done\n",
      "done"
     ]
    },
    {
     "cell_type": "code",
     "collapsed": false,
     "input": [
      "!python ~/work/khmer/sandbox/assemstats3.py 500 ../moleculo/*_LongRead_500_1499nt.fastq.gz ../moleculo/*Read.fastq.gz"
     ],
     "language": "python",
     "metadata": {},
     "outputs": [
      {
       "output_type": "stream",
       "stream": "stdout",
       "text": [
        "** cutoff: 500\r\n",
        "N\tsum\tmax\tfilename\r\n"
       ]
      },
      {
       "output_type": "stream",
       "stream": "stdout",
       "text": [
        "113891\t99849719\t1499\t../moleculo/LR6000017-DNA_A01-LRAAA-1_LongRead_500_1499nt.fastq.gz\r\n"
       ]
      },
      {
       "output_type": "stream",
       "stream": "stdout",
       "text": [
        "106123\t92951953\t1499\t../moleculo/LR6000017-DNA_A01-LRAAA-2_LongRead_500_1499nt.fastq.gz\r\n"
       ]
      },
      {
       "output_type": "stream",
       "stream": "stdout",
       "text": [
        "113180\t99945845\t1499\t../moleculo/LR6000017-DNA_A01-LRAAA-3_LongRead_500_1499nt.fastq.gz\r\n"
       ]
      },
      {
       "output_type": "stream",
       "stream": "stdout",
       "text": [
        "109141\t95940629\t1499\t../moleculo/LR6000017-DNA_A01-LRAAA-4_LongRead_500_1499nt.fastq.gz\r\n"
       ]
      },
      {
       "output_type": "stream",
       "stream": "stdout",
       "text": [
        "116223\t102481924\t1499\t../moleculo/LR6000017-DNA_A01-LRAAA-5_LongRead_500_1499nt.fastq.gz\r\n"
       ]
      },
      {
       "output_type": "stream",
       "stream": "stdout",
       "text": [
        "201746\t1076145062\t16667\t../moleculo/LR6000017-DNA_A01-LRAAA-1_LongRead.fastq.gz\r\n"
       ]
      },
      {
       "output_type": "stream",
       "stream": "stdout",
       "text": [
        "201798\t1098839146\t13962\t../moleculo/LR6000017-DNA_A01-LRAAA-2_LongRead.fastq.gz\r\n"
       ]
      },
      {
       "output_type": "stream",
       "stream": "stdout",
       "text": [
        "206979\t1108546510\t15889\t../moleculo/LR6000017-DNA_A01-LRAAA-3_LongRead.fastq.gz\r\n"
       ]
      },
      {
       "output_type": "stream",
       "stream": "stdout",
       "text": [
        "209393\t1140559896\t17521\t../moleculo/LR6000017-DNA_A01-LRAAA-4_LongRead.fastq.gz\r\n"
       ]
      },
      {
       "output_type": "stream",
       "stream": "stdout",
       "text": [
        "200586\t1063884080\t17401\t../moleculo/LR6000017-DNA_A01-LRAAA-5_LongRead.fastq.gz\r\n",
        "--\r\n"
       ]
      },
      {
       "output_type": "stream",
       "stream": "stdout",
       "text": [
        "TOTAL: 5.97914e+09 in 1579060 contigs (mean size 3787)\r\n"
       ]
      }
     ],
     "prompt_number": 10
    },
    {
     "cell_type": "code",
     "collapsed": false,
     "input": [
      "#!load-into-counting.py -x 1e9 -N 4 -k 32 galGal4.fa.masked.kh galGal4.fa.masked.gz"
     ],
     "language": "python",
     "metadata": {},
     "outputs": [
      {
       "output_type": "stream",
       "stream": "stdout",
       "text": [
        "galGal4.fa.masked        galGal4.fa.masked.gz     galGal4.fa.masked.gz.ann galGal4.fa.masked.gz.pac reads\r\n",
        "galGal4.fa.masked.fai    galGal4.fa.masked.gz.amb galGal4.fa.masked.gz.bwt galGal4.fa.masked.gz.sa\r\n"
       ]
      }
     ],
     "prompt_number": 8
    },
    {
     "cell_type": "code",
     "collapsed": false,
     "input": [
      "#!load-into-counting.py -x 1e9 -N 4 -k 32 ../moleculo/LR6000017-DNA_A01-LRAAA-AllReads.kh ../moleculo/*.fastq.gz"
     ],
     "language": "python",
     "metadata": {},
     "outputs": [],
     "prompt_number": 12
    },
    {
     "cell_type": "raw",
     "metadata": {},
     "source": []
    },
    {
     "cell_type": "code",
     "collapsed": false,
     "input": [
      "#!python ~/repos/khmer/scripts/count-overlap.py -k 32 -N 4 -x 1e9 moleculo/LR6000017-DNA_A01-LRAAA-AllReads.kh galGal4/galGal4.fa.masked overlap_report"
     ],
     "language": "python",
     "metadata": {},
     "outputs": [],
     "prompt_number": 13
    },
    {
     "cell_type": "code",
     "collapsed": false,
     "input": [
      "curve = np.loadtxt('../overlap_report.curve')"
     ],
     "language": "python",
     "metadata": {},
     "outputs": [],
     "prompt_number": 20
    },
    {
     "cell_type": "code",
     "collapsed": false,
     "input": [
      "figure()\n",
      "#title('Overlap')\n",
      "#plot(curve)"
     ],
     "language": "python",
     "metadata": {},
     "outputs": [
      {
       "metadata": {},
       "output_type": "pyout",
       "prompt_number": 34,
       "text": [
        "<matplotlib.figure.Figure at 0x1066cf950>"
       ]
      },
      {
       "metadata": {},
       "output_type": "display_data",
       "text": [
        "<matplotlib.figure.Figure at 0x1066cf950>"
       ]
      }
     ],
     "prompt_number": 34
    },
    {
     "cell_type": "code",
     "collapsed": false,
     "input": [
      "curve[:,1] - curve[:,0]"
     ],
     "language": "python",
     "metadata": {},
     "outputs": [
      {
       "metadata": {},
       "output_type": "pyout",
       "prompt_number": 41,
       "text": [
        "array([  4.67924001e+18,  -3.05695600e+06,  -4.71728458e+13,\n",
        "         4.84136960e+18,  -1.56116890e+07,  -4.71754615e+13,\n",
        "         4.60267882e+18,  -9.76562500e+06,   4.75203689e+18,\n",
        "         1.40734399e+14,   4.71754642e+13,   1.40735024e+14,\n",
        "         1.48284610e+07,  -4.18960707e+16,  -1.07674842e+13,\n",
        "        -6.08653160e+14,  -3.26417515e+11,   1.40735006e+14,\n",
        "         4.71749555e+13,  -2.81309900e+06,   4.71754618e+13,\n",
        "        -6.25000008e+08,   4.60267882e+18,   4.71717733e+13,\n",
        "        -1.73887040e+07,  -6.10135464e+08,   4.71754794e+13,\n",
        "         4.27757859e+09,  -1.40730729e+14,  -3.00000000e+00,\n",
        "        -3.00000000e+00,  -6.25000008e+08,  -1.61596220e+07,\n",
        "         4.15000920e+07,   1.16343741e+08,  -1.61854270e+07,\n",
        "         1.40735008e+14,   1.91856027e+13,   5.36854732e+11,\n",
        "         4.71704609e+13,   9.35593953e+13,   4.67959549e+18,\n",
        "        -8.06286132e+08,   9.35595627e+13,  -4.71756216e+13,\n",
        "         1.40735007e+14,   1.40735009e+14,   8.28758000e+05,\n",
        "        -1.67920240e+07,  -4.71754464e+13,   1.49969040e+07,\n",
        "        -1.39094868e+09,   2.00000000e+00,   1.84467441e+19,\n",
        "         4.71756285e+13,   4.71754644e+13,   4.71754794e+13,\n",
        "         4.71756136e+13,  -2.95237040e+18,   1.65227760e+07,\n",
        "        -4.71716093e+13,   4.71754451e+13,   4.66429034e+13,\n",
        "        -1.75820870e+07,  -4.71755632e+13,  -2.84750400e+06,\n",
        "         4.71755695e+13,  -4.71754615e+13,  -7.68000000e+02,\n",
        "        -9.35595497e+13,  -1.84466033e+19,   1.42256700e+06,\n",
        "        -4.71717261e+13,  -1.64711200e+06,   1.69418365e+19,\n",
        "        -1.84467441e+19,  -4.00266330e+09,  -4.71754479e+13,\n",
        "         4.75198971e+18,   4.71755797e+13,   4.71754794e+13,\n",
        "         3.32248700e+06,  -1.53058400e+06,   4.71754444e+13,\n",
        "         4.75203689e+18,   9.35595629e+13,   1.84467441e+19,\n",
        "        -4.71754642e+13,   4.71754444e+13,   4.71754448e+13,\n",
        "         4.71754642e+13,  -7.14677000e+05,   1.65219040e+07,\n",
        "        -4.71754610e+13,  -4.71754627e+13,   4.71754774e+13,\n",
        "         6.10135460e+08,   4.71754612e+13,  -1.61234880e+07,\n",
        "        -4.71748360e+13])"
       ]
      }
     ],
     "prompt_number": 41
    },
    {
     "cell_type": "code",
     "collapsed": false,
     "input": [
      "%%bash\n",
      "module load samtools\n",
      "samtools merge ../outputs/moleculo/LR6000017-DNA_A01-LRAAA-AllReads.unmasked.sorted.bam ../outputs/moleculo/*.unmasked.sorted.bam"
     ],
     "language": "python",
     "metadata": {},
     "outputs": [
      {
       "output_type": "stream",
       "stream": "stderr",
       "text": [
        "application-specific initialization failed: Can't find a usable init.tcl in the following directories: \n",
        "    /opt/anaconda1anaconda2anaconda3/lib/tcl8.5 /usr/lib/tcl8.5 /lib/tcl8.5 /usr/library /library /tcl8.5.13/library /tcl8.5.13/library\n",
        "\n",
        "\n",
        "\n",
        "This probably means that Tcl wasn't installed properly.\n",
        "\n",
        "\n",
        "Lmod Warning: samtools not found, loading: SAMTools/0.1.19\n"
       ]
      }
     ],
     "prompt_number": 25
    }
   ],
   "metadata": {}
  }
 ]
}