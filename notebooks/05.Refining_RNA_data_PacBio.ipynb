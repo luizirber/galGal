{
 "metadata": {
  "name": "",
  "signature": "sha256:4913c1cd777e4e423e5a59019ae19474beff87291174a53344d1ecc0080190a1"
 },
 "nbformat": 3,
 "nbformat_minor": 0,
 "worksheets": [
  {
   "cells": [
    {
     "cell_type": "heading",
     "level": 1,
     "metadata": {},
     "source": [
      "Testing ortho"
     ]
    },
    {
     "cell_type": "markdown",
     "metadata": {},
     "source": [
      "- First, see if Likit has putative ortholog assignments between the chick RNAseq and human proteins.  If not, the eel-pond protocol has some instructions on how to calculate this.  Might take a few days.  Then, we can recalculate the Venn diagram with a better curated set of mRNAseq transcripts, and also give people (Jerry in particular) the gene names that are in A, C, and D.\n",
      "\n",
      "  - Likit: I only have homologs of chick RNASeq and human proteins of differential-expressed genes, which total ~1000 genes as of now.\n",
      "\n",
      "  - Main goal right now: how many \"real\" mRNAseq genes, i.e. genes with orthology\n",
      "    to human, do/do not match in the genome?  Nic has done exactly this analysis\n",
      "    for fungus."
     ]
    },
    {
     "cell_type": "code",
     "collapsed": false,
     "input": [
      "%matplotlib inline\n",
      "from matplotlib import pyplot as plt\n",
      "from matplotlib_venn import venn3, venn3_circles"
     ],
     "language": "python",
     "metadata": {},
     "outputs": [],
     "prompt_number": 98
    },
    {
     "cell_type": "heading",
     "level": 2,
     "metadata": {},
     "source": [
      "Preparing all RNA data"
     ]
    },
    {
     "cell_type": "code",
     "collapsed": false,
     "input": [
      "!cd .. && make outputs/chicken_transcripts/global_merged.fa.clean.nr.renamed.fasta.nsq"
     ],
     "language": "python",
     "metadata": {},
     "outputs": [
      {
       "output_type": "stream",
       "stream": "stdout",
       "text": [
        "make: `outputs/chicken_transcripts/global_merged.fa.clean.nr.renamed.fasta.nsq' is up to date.\r\n"
       ]
      }
     ],
     "prompt_number": 1
    },
    {
     "cell_type": "heading",
     "level": 2,
     "metadata": {},
     "source": [
      "Preparing 'only in RNA' data"
     ]
    },
    {
     "cell_type": "code",
     "collapsed": false,
     "input": [
      "!cd .. && make outputs/rna/pacbio/galGal4/only_rna.fa.renamed.fasta.nsq"
     ],
     "language": "python",
     "metadata": {},
     "outputs": [
      {
       "output_type": "stream",
       "stream": "stdout",
       "text": [
        "make: `outputs/rna/pacbio/galGal4/only_rna.fa.renamed.fasta.nsq' is up to date.\r\n"
       ]
      }
     ],
     "prompt_number": 21
    },
    {
     "cell_type": "heading",
     "level": 2,
     "metadata": {},
     "source": [
      "Preparing Uniprot"
     ]
    },
    {
     "cell_type": "code",
     "collapsed": false,
     "input": [
      "!cd .. && make outputs/uniprot/uniprot_sprot.fasta.nsq"
     ],
     "language": "python",
     "metadata": {},
     "outputs": [
      {
       "output_type": "stream",
       "stream": "stdout",
       "text": [
        "cd outputs/uniprot && \\\r\n",
        "\tformatdb -i uniprot_sprot.fasta -o T -p T\r\n"
       ]
      }
     ],
     "prompt_number": 23
    },
    {
     "cell_type": "code",
     "collapsed": false,
     "input": [
      "!cd .. && make outputs/uniprot/uniprot_sprot.namedb"
     ],
     "language": "python",
     "metadata": {},
     "outputs": [
      {
       "output_type": "stream",
       "stream": "stdout",
       "text": [
        "make: `outputs/uniprot/uniprot_sprot.namedb' is up to date.\r\n"
       ]
      }
     ],
     "prompt_number": 24
    },
    {
     "cell_type": "code",
     "collapsed": false,
     "input": [
      "!cd .. && make outputs/uniprot/uniprot_sprot.fasta_screed"
     ],
     "language": "python",
     "metadata": {},
     "outputs": [
      {
       "output_type": "stream",
       "stream": "stdout",
       "text": [
        "make: `outputs/uniprot/uniprot_sprot.fasta_screed' is up to date.\r\n"
       ]
      }
     ],
     "prompt_number": 25
    },
    {
     "cell_type": "heading",
     "level": 3,
     "metadata": {},
     "source": [
      "Uniprot ortho"
     ]
    },
    {
     "cell_type": "code",
     "collapsed": false,
     "input": [
      "!cd .. && make -j2 outputs/rna/pacbio/galGal4/chick.x.uniprot.pbs outputs/rna/pacbio/galGal4/uniprot.x.chick.pbs"
     ],
     "language": "python",
     "metadata": {},
     "outputs": [
      {
       "output_type": "stream",
       "stream": "stdout",
       "text": [
        "mkdir -p outputs/rna/pacbio/galGal4\r\n",
        "JOBID=`echo make outputs/rna/pacbio/galGal4/chick.x.uniprot | cat pbs/header.sub - pbs/footer.sub | \\\r\n",
        "\t  qsub -l walltime=20:00:00,nodes=1:ppn=8,mem=400mb -A ged -N blast.chick.x.uniprot.pbs -o outputs/rna/pacbio/galGal4/chick.x.uniprot.pbs -e outputs/rna/pacbio/galGal4/chick.x.uniprot.pbs.err | cut -d\".\" -f1` ; \\\r\n",
        "\twhile [ -n \"$(qstat -a |grep ${JOBID})\" ]; do sleep 600; done\r\n"
       ]
      },
      {
       "output_type": "stream",
       "stream": "stdout",
       "text": [
        "^Cmake: *** [outputs/rna/pacbio/galGal4/chick.x.uniprot.pbs] Interrupt\r\n"
       ]
      },
      {
       "output_type": "stream",
       "stream": "stdout",
       "text": [
        "mkdir -p outputs/rna/pacbio/galGal4\r\n",
        "JOBID=`echo make outputs/rna/pacbio/galGal4/uniprot.x.chick | cat pbs/header.sub - pbs/footer.sub | \\\r\n",
        "\t  qsub -l walltime=20:00:00,nodes=1:ppn=8,mem=400mb -A ged -N blast.uniprot.x.chick.pbs -o outputs/rna/pacbio/galGal4/uniprot.x.chick.pbs -e outputs/rna/pacbio/galGal4/uniprot.x.chick.pbs.err | cut -d\".\" -f1` ; \\\r\n",
        "\twhile [ -n \"$(qstat -a |grep ${JOBID})\" ]; do sleep 600; done\r\n"
       ]
      },
      {
       "output_type": "stream",
       "stream": "stdout",
       "text": [
        "^Cmake: *** [outputs/rna/pacbio/galGal4/uniprot.x.chick.pbs] Interrupt\r\n"
       ]
      }
     ],
     "prompt_number": 30
    },
    {
     "cell_type": "code",
     "collapsed": false,
     "input": [
      "!cd .. && make outputs/rna/pacbio/galGal4/global_merged.fa.clean.nr.renamed.fasta.annot"
     ],
     "language": "python",
     "metadata": {},
     "outputs": [
      {
       "output_type": "stream",
       "stream": "stdout",
       "text": [
        "cd outputs/rna/pacbio/galGal4 && \\\r\n",
        "\tpython /mnt/research/ged/irberlui/biodata/galGal/scripts/annotate-seqs.py /mnt/research/ged/irberlui/biodata/galGal/outputs/chicken_transcripts/global_merged.fa.clean.nr.renamed.fasta chick.x.uniprot.ortho chick.x.uniprot.homol\r\n"
       ]
      },
      {
       "output_type": "stream",
       "stream": "stdout",
       "text": [
        "Scanning sequences -- first pass to gather info\r\n",
        "... 0\r\n"
       ]
      },
      {
       "output_type": "stream",
       "stream": "stdout",
       "text": [
        "... 25000\r\n"
       ]
      },
      {
       "output_type": "stream",
       "stream": "stdout",
       "text": [
        "... 50000\r\n"
       ]
      },
      {
       "output_type": "stream",
       "stream": "stdout",
       "text": [
        "... 75000\r\n"
       ]
      },
      {
       "output_type": "stream",
       "stream": "stdout",
       "text": [
        "... 100000\r\n"
       ]
      },
      {
       "output_type": "stream",
       "stream": "stdout",
       "text": [
        "... 125000\r\n"
       ]
      },
      {
       "output_type": "stream",
       "stream": "stdout",
       "text": [
        "... 150000\r\n"
       ]
      },
      {
       "output_type": "stream",
       "stream": "stdout",
       "text": [
        "... 175000\r\n"
       ]
      },
      {
       "output_type": "stream",
       "stream": "stdout",
       "text": [
        "... 200000\r\n"
       ]
      },
      {
       "output_type": "stream",
       "stream": "stdout",
       "text": [
        "... 225000\r\n"
       ]
      },
      {
       "output_type": "stream",
       "stream": "stdout",
       "text": [
        "... 250000\r\n"
       ]
      },
      {
       "output_type": "stream",
       "stream": "stdout",
       "text": [
        "... 275000\r\n"
       ]
      },
      {
       "output_type": "stream",
       "stream": "stdout",
       "text": [
        "... 300000\r\n"
       ]
      },
      {
       "output_type": "stream",
       "stream": "stdout",
       "text": [
        "... 325000\r\n"
       ]
      },
      {
       "output_type": "stream",
       "stream": "stdout",
       "text": [
        "... 350000\r\n"
       ]
      },
      {
       "output_type": "stream",
       "stream": "stdout",
       "text": [
        "... 375000\r\n"
       ]
      },
      {
       "output_type": "stream",
       "stream": "stdout",
       "text": [
        "... 400000\r\n"
       ]
      },
      {
       "output_type": "stream",
       "stream": "stdout",
       "text": [
        "second pass: annotating\r\n",
        "... x2 0\r\n"
       ]
      },
      {
       "output_type": "stream",
       "stream": "stdout",
       "text": [
        "... x2 25000\r\n"
       ]
      },
      {
       "output_type": "stream",
       "stream": "stdout",
       "text": [
        "... x2 50000\r\n"
       ]
      },
      {
       "output_type": "stream",
       "stream": "stdout",
       "text": [
        "... x2 75000\r\n"
       ]
      },
      {
       "output_type": "stream",
       "stream": "stdout",
       "text": [
        "... x2 100000\r\n"
       ]
      },
      {
       "output_type": "stream",
       "stream": "stdout",
       "text": [
        "... x2 125000\r\n"
       ]
      },
      {
       "output_type": "stream",
       "stream": "stdout",
       "text": [
        "... x2 150000\r\n"
       ]
      },
      {
       "output_type": "stream",
       "stream": "stdout",
       "text": [
        "... x2 175000\r\n"
       ]
      },
      {
       "output_type": "stream",
       "stream": "stdout",
       "text": [
        "... x2 200000\r\n"
       ]
      },
      {
       "output_type": "stream",
       "stream": "stdout",
       "text": [
        "... x2 225000\r\n"
       ]
      },
      {
       "output_type": "stream",
       "stream": "stdout",
       "text": [
        "... x2 250000\r\n"
       ]
      },
      {
       "output_type": "stream",
       "stream": "stdout",
       "text": [
        "... x2 275000\r\n"
       ]
      },
      {
       "output_type": "stream",
       "stream": "stdout",
       "text": [
        "... x2 300000\r\n"
       ]
      },
      {
       "output_type": "stream",
       "stream": "stdout",
       "text": [
        "... x2 325000\r\n"
       ]
      },
      {
       "output_type": "stream",
       "stream": "stdout",
       "text": [
        "... x2 350000\r\n"
       ]
      },
      {
       "output_type": "stream",
       "stream": "stdout",
       "text": [
        "... x2 375000\r\n"
       ]
      },
      {
       "output_type": "stream",
       "stream": "stdout",
       "text": [
        "... x2 400000\r\n"
       ]
      },
      {
       "output_type": "stream",
       "stream": "stdout",
       "text": [
        "----\r\n",
        "419276 sequences total\r\n",
        "30421 annotated / ortho\r\n",
        "182213 annotated / homol\r\n",
        "0 annotated / tr\r\n",
        "212634 total annotated\r\n",
        "\r\n",
        "annotated sequences in FASTA format: global_merged.fa.clean.nr.renamed.fasta.annot\r\n",
        "annotation spreadsheet in: global_merged.fa.clean.nr.renamed.fasta.annot.csv\r\n",
        "annotation spreadsheet with sequences (warning: LARGE): global_merged.fa.clean.nr.renamed.fasta.annot.large.csv\r\n"
       ]
      }
     ],
     "prompt_number": 86
    },
    {
     "cell_type": "heading",
     "level": 2,
     "metadata": {},
     "source": [
      "Recalculating Venn diagram with ortho"
     ]
    },
    {
     "cell_type": "code",
     "collapsed": false,
     "input": [
      "!cd .. && make outputs/rna/pacbio/galGal4/ortho.fa"
     ],
     "language": "python",
     "metadata": {},
     "outputs": [
      {
       "output_type": "stream",
       "stream": "stdout",
       "text": [
        "python /mnt/research/ged/irberlui/biodata/galGal/scripts/extract.py outputs/rna/pacbio/galGal4/global_merged.fa.clean.nr.renamed.fasta.annot outputs/rna/pacbio/galGal4/ortho.fa ortho\r\n"
       ]
      }
     ],
     "prompt_number": 87
    },
    {
     "cell_type": "code",
     "collapsed": false,
     "input": [
      "!cd .. && make outputs/reference/galGal4.fa.nsq"
     ],
     "language": "python",
     "metadata": {},
     "outputs": [
      {
       "output_type": "stream",
       "stream": "stdout",
       "text": [
        "make: `outputs/reference/galGal4.fa.nsq' is up to date.\r\n"
       ]
      }
     ],
     "prompt_number": 38
    },
    {
     "cell_type": "code",
     "collapsed": false,
     "input": [
      "!cd .. && make outputs/pacbio_unmapped/chicken_unmapped.fasta.nsq"
     ],
     "language": "python",
     "metadata": {},
     "outputs": [
      {
       "output_type": "stream",
       "stream": "stdout",
       "text": [
        "makeblastdb -in outputs/pacbio_unmapped/chicken_unmapped.fasta -out outputs/pacbio_unmapped/chicken_unmapped.fasta -dbtype nucl\r\n"
       ]
      },
      {
       "output_type": "stream",
       "stream": "stdout",
       "text": [
        "\r\n",
        "\r\n",
        "Building a new DB, current time: 03/29/2015 18:30:33\r\n",
        "New DB name:   outputs/pacbio_unmapped/chicken_unmapped.fasta\r\n",
        "New DB title:  outputs/pacbio_unmapped/chicken_unmapped.fasta\r\n",
        "Sequence type: Nucleotide\r\n",
        "Keep Linkouts: T\r\n",
        "Keep MBits: T\r\n",
        "Maximum file size: 1000000000B\r\n"
       ]
      },
      {
       "output_type": "stream",
       "stream": "stdout",
       "text": [
        "Adding sequences from FASTA; added 42508 sequences in 2.63234 seconds.\r\n"
       ]
      }
     ],
     "prompt_number": 41
    },
    {
     "cell_type": "code",
     "collapsed": false,
     "input": [
      "!cd .. && make -j2 outputs/rna/pacbio/galGal4/Chick_RNA_BLAST.txt.pbs outputs/rna/pacbio/galGal4/seq_RNA_BLAST.txt.pbs"
     ],
     "language": "python",
     "metadata": {},
     "outputs": [
      {
       "output_type": "stream",
       "stream": "stdout",
       "text": [
        "make: `outputs/rna/pacbio/galGal4/Chick_RNA_BLAST.txt.pbs' is up to date.\r\n",
        "make: `outputs/rna/pacbio/galGal4/seq_RNA_BLAST.txt.pbs' is up to date.\r\n"
       ]
      }
     ],
     "prompt_number": 63
    },
    {
     "cell_type": "code",
     "collapsed": false,
     "input": [
      "!cd .. && make outputs/rna/pacbio/galGal4/match_ortho.rna.ref.txt"
     ],
     "language": "python",
     "metadata": {},
     "outputs": [
      {
       "output_type": "stream",
       "stream": "stdout",
       "text": [
        "cd outputs/rna/pacbio/galGal4 && \\\r\n",
        "\tpython /mnt/research/ged/irberlui/biodata/galGal/scripts/find_match_2.py ortho.fa Chick_RNA_BLAST.txt ortho.rna.ref\r\n"
       ]
      },
      {
       "output_type": "stream",
       "stream": "stdout",
       "text": [
        "Number of matches: 26766\r\n",
        "Number of no matches: 3655\r\n"
       ]
      }
     ],
     "prompt_number": 88
    },
    {
     "cell_type": "code",
     "collapsed": false,
     "input": [
      "!cd .. && make outputs/rna/pacbio/galGal4/match_ortho.rna.seq.txt"
     ],
     "language": "python",
     "metadata": {},
     "outputs": [
      {
       "output_type": "stream",
       "stream": "stdout",
       "text": [
        "cd outputs/rna/pacbio/galGal4 && \\\r\n",
        "\tpython /mnt/research/ged/irberlui/biodata/galGal/scripts/find_match_2.py ortho.fa seq_RNA_BLAST.txt ortho.rna.seq\r\n"
       ]
      },
      {
       "output_type": "stream",
       "stream": "stdout",
       "text": [
        "Number of matches: 825\r\n",
        "Number of no matches: 29596\r\n"
       ]
      }
     ],
     "prompt_number": 89
    },
    {
     "cell_type": "code",
     "collapsed": false,
     "input": [
      "with open(\"../outputs/rna/pacbio/galGal4/match_ortho.rna.seq.txt\") as rna_seq_match:\n",
      "    rna_seq_set = set([line.split(' ')[0] for line in rna_seq_match if line.strip()])\n",
      "\n",
      "with open(\"../outputs/rna/pacbio/galGal4/match_ortho.rna.ref.txt\") as rna_ref_match:\n",
      "    rna_ref_set = set([line.split(' ')[0] for line in rna_ref_match if line.strip()])"
     ],
     "language": "python",
     "metadata": {},
     "outputs": [],
     "prompt_number": 94
    },
    {
     "cell_type": "code",
     "collapsed": false,
     "input": [
      "B_set = rna_seq_set & rna_ref_set\n",
      "len(B_set)"
     ],
     "language": "python",
     "metadata": {},
     "outputs": [
      {
       "metadata": {},
       "output_type": "pyout",
       "prompt_number": 95,
       "text": [
        "337"
       ]
      }
     ],
     "prompt_number": 95
    },
    {
     "cell_type": "code",
     "collapsed": false,
     "input": [
      "B = len(rna_seq_set & rna_ref_set)\n",
      "A = len(rna_ref_set) - B\n",
      "C = len(rna_seq_set) - B\n",
      "E = 30421\n",
      "D = E - A - C - B\n",
      "\n",
      "print A, B, C, D, E"
     ],
     "language": "python",
     "metadata": {},
     "outputs": [
      {
       "output_type": "stream",
       "stream": "stdout",
       "text": [
        "26429 337 488 3167 30421\n"
       ]
      }
     ],
     "prompt_number": 96
    },
    {
     "cell_type": "code",
     "collapsed": false,
     "input": [
      "#scale = float(max([A, B, C, D]))\n",
      "#v = venn3((1, 1, 1, D / scale, A / scale, C / scale, B / scale), set_labels=('Ref', 'Moleculo', 'RNA'))\n",
      "\n",
      "v = venn3((1, 1, 1, 1, 1, 1, 1), set_labels=('Ref', 'PacBio', 'RNA'))\n",
      "\n",
      "v.get_label_by_id('100').set_text('')\n",
      "v.get_label_by_id('010').set_text('')\n",
      "v.get_label_by_id('001').set_text('D\\n%d' % D)\n",
      "\n",
      "v.get_label_by_id('011').set_text('C\\n%d' % C)\n",
      "v.get_label_by_id('101').set_text('A\\n%d' % A)\n",
      "v.get_label_by_id('110').set_text('')\n",
      "\n",
      "v.get_label_by_id('111').set_text('B\\n%d' % B)\n",
      "plt.title('Filtered mRNAseq\\n(only genes with orthology to UniProt genes)')"
     ],
     "language": "python",
     "metadata": {},
     "outputs": [
      {
       "metadata": {},
       "output_type": "pyout",
       "prompt_number": 99,
       "text": [
        "<matplotlib.text.Text at 0x2acbab7bf990>"
       ]
      },
      {
       "metadata": {},
       "output_type": "display_data",
       "png": "[encoded data removed]",
       "text": [
        "<matplotlib.figure.Figure at 0x2acbab752f50>"
       ]
      }
     ],
     "prompt_number": 99
    },
    {
     "cell_type": "code",
     "collapsed": false,
     "input": [
      "rna_seq_set - B_set"
     ],
     "language": "python",
     "metadata": {},
     "outputs": [
      {
       "metadata": {},
       "output_type": "pyout",
       "prompt_number": 100,
       "text": [
        "{'chick_rna.id101387.trglobal_global_21-179648',\n",
        " 'chick_rna.id104166.trglobal_global_21-183648',\n",
        " 'chick_rna.id104777.trglobal_global_21-184527',\n",
        " 'chick_rna.id105158.trglobal_global_21-185073',\n",
        " 'chick_rna.id105623.trglobal_global_21-185800',\n",
        " 'chick_rna.id106613.trglobal_global_21-187215',\n",
        " 'chick_rna.id107022.trglobal_global_21-187835',\n",
        " 'chick_rna.id109738.trglobal_global_21-191692',\n",
        " 'chick_rna.id111015.trglobal_global_21-193470',\n",
        " 'chick_rna.id112552.trglobal_global_21-195429',\n",
        " 'chick_rna.id112594.trglobal_global_21-195479',\n",
        " 'chick_rna.id112647.trglobal_global_21-195537',\n",
        " 'chick_rna.id112650.trglobal_global_21-195540',\n",
        " 'chick_rna.id112651.trglobal_global_21-195541',\n",
        " 'chick_rna.id112677.trglobal_global_21-195567',\n",
        " 'chick_rna.id112696.trglobal_global_21-195586',\n",
        " 'chick_rna.id112722.trglobal_global_21-195613',\n",
        " 'chick_rna.id112747.trglobal_global_21-195640',\n",
        " 'chick_rna.id112840.trglobal_global_21-195740',\n",
        " 'chick_rna.id112878.trglobal_global_21-195778',\n",
        " 'chick_rna.id112920.trglobal_global_21-195824',\n",
        " 'chick_rna.id112928.trglobal_global_21-195832',\n",
        " 'chick_rna.id112931.trglobal_global_21-195835',\n",
        " 'chick_rna.id112980.trglobal_global_21-195886',\n",
        " 'chick_rna.id112996.trglobal_global_21-195902',\n",
        " 'chick_rna.id113051.trglobal_global_21-195959',\n",
        " 'chick_rna.id113080.trglobal_global_21-195990',\n",
        " 'chick_rna.id113103.trglobal_global_21-196016',\n",
        " 'chick_rna.id113112.trglobal_global_21-196025',\n",
        " 'chick_rna.id113139.trglobal_global_21-196054',\n",
        " 'chick_rna.id113140.trglobal_global_21-196055',\n",
        " 'chick_rna.id113167.trglobal_global_21-196085',\n",
        " 'chick_rna.id113208.trglobal_global_21-196129',\n",
        " 'chick_rna.id113228.trglobal_global_21-196151',\n",
        " 'chick_rna.id113263.trglobal_global_21-196188',\n",
        " 'chick_rna.id113303.trglobal_global_21-196230',\n",
        " 'chick_rna.id113308.trglobal_global_21-196235',\n",
        " 'chick_rna.id113408.trglobal_global_21-196344',\n",
        " 'chick_rna.id113451.trglobal_global_21-196389',\n",
        " 'chick_rna.id113459.trglobal_global_21-196397',\n",
        " 'chick_rna.id113462.trglobal_global_21-196400',\n",
        " 'chick_rna.id113502.trglobal_global_21-196440',\n",
        " 'chick_rna.id113508.trglobal_global_21-196446',\n",
        " 'chick_rna.id113546.trglobal_global_21-196486',\n",
        " 'chick_rna.id113547.trglobal_global_21-196488',\n",
        " 'chick_rna.id113554.trglobal_global_21-196495',\n",
        " 'chick_rna.id113596.trglobal_global_21-196538',\n",
        " 'chick_rna.id113653.trglobal_global_21-196600',\n",
        " 'chick_rna.id113689.trglobal_global_21-196642',\n",
        " 'chick_rna.id113743.trglobal_global_21-196698',\n",
        " 'chick_rna.id113795.trglobal_global_21-196754',\n",
        " 'chick_rna.id113827.trglobal_global_21-196787',\n",
        " 'chick_rna.id113964.trglobal_global_21-196934',\n",
        " 'chick_rna.id114004.trglobal_global_21-196977',\n",
        " 'chick_rna.id114016.trglobal_global_21-196989',\n",
        " 'chick_rna.id114021.trglobal_global_21-196994',\n",
        " 'chick_rna.id114048.trglobal_global_21-197024',\n",
        " 'chick_rna.id114067.trglobal_global_21-197045',\n",
        " 'chick_rna.id114141.trglobal_global_21-197124',\n",
        " 'chick_rna.id114164.trglobal_global_21-197150',\n",
        " 'chick_rna.id114188.trglobal_global_21-197178',\n",
        " 'chick_rna.id114200.trglobal_global_21-197191',\n",
        " 'chick_rna.id114217.trglobal_global_21-197209',\n",
        " 'chick_rna.id114270.trglobal_global_21-197266',\n",
        " 'chick_rna.id114302.trglobal_global_21-197301',\n",
        " 'chick_rna.id114326.trglobal_global_21-197326',\n",
        " 'chick_rna.id114367.trglobal_global_21-197370',\n",
        " 'chick_rna.id114398.trglobal_global_21-197406',\n",
        " 'chick_rna.id114400.trglobal_global_21-197408',\n",
        " 'chick_rna.id114443.trglobal_global_21-197453',\n",
        " 'chick_rna.id114492.trglobal_global_21-197505',\n",
        " 'chick_rna.id114500.trglobal_global_21-197513',\n",
        " 'chick_rna.id114509.trglobal_global_21-197522',\n",
        " 'chick_rna.id114535.trglobal_global_21-197550',\n",
        " 'chick_rna.id114549.trglobal_global_21-197566',\n",
        " 'chick_rna.id114555.trglobal_global_21-197572',\n",
        " 'chick_rna.id114576.trglobal_global_21-197594',\n",
        " 'chick_rna.id114664.trglobal_global_21-197685',\n",
        " 'chick_rna.id114681.trglobal_global_21-197705',\n",
        " 'chick_rna.id114747.trglobal_global_21-197775',\n",
        " 'chick_rna.id114763.trglobal_global_21-197794',\n",
        " 'chick_rna.id114815.trglobal_global_21-197851',\n",
        " 'chick_rna.id114838.trglobal_global_21-197875',\n",
        " 'chick_rna.id114862.trglobal_global_21-197900',\n",
        " 'chick_rna.id114932.trglobal_global_21-197976',\n",
        " 'chick_rna.id114947.trglobal_global_21-197991',\n",
        " 'chick_rna.id115033.trglobal_global_21-198081',\n",
        " 'chick_rna.id115034.trglobal_global_21-198083',\n",
        " 'chick_rna.id115066.trglobal_global_21-198116',\n",
        " 'chick_rna.id115127.trglobal_global_21-198179',\n",
        " 'chick_rna.id115160.trglobal_global_21-198214',\n",
        " 'chick_rna.id115189.trglobal_global_21-198245',\n",
        " 'chick_rna.id115333.trglobal_global_21-198401',\n",
        " 'chick_rna.id115337.trglobal_global_21-198405',\n",
        " 'chick_rna.id115379.trglobal_global_21-198449',\n",
        " 'chick_rna.id115403.trglobal_global_21-198476',\n",
        " 'chick_rna.id115437.trglobal_global_21-198516',\n",
        " 'chick_rna.id115440.trglobal_global_21-198519',\n",
        " 'chick_rna.id115550.trglobal_global_21-198640',\n",
        " 'chick_rna.id115582.trglobal_global_21-198676',\n",
        " 'chick_rna.id115606.trglobal_global_21-198700',\n",
        " 'chick_rna.id115614.trglobal_global_21-198708',\n",
        " 'chick_rna.id115662.trglobal_global_21-198762',\n",
        " 'chick_rna.id115724.trglobal_global_21-198827',\n",
        " 'chick_rna.id115733.trglobal_global_21-198836',\n",
        " 'chick_rna.id115753.trglobal_global_21-198857',\n",
        " 'chick_rna.id115784.trglobal_global_21-198889',\n",
        " 'chick_rna.id115838.trglobal_global_21-198946',\n",
        " 'chick_rna.id115845.trglobal_global_21-198954',\n",
        " 'chick_rna.id115886.trglobal_global_21-198997',\n",
        " 'chick_rna.id115910.trglobal_global_21-199023',\n",
        " 'chick_rna.id115930.trglobal_global_21-199045',\n",
        " 'chick_rna.id115957.trglobal_global_21-199074',\n",
        " 'chick_rna.id116022.trglobal_global_21-199141',\n",
        " 'chick_rna.id116042.trglobal_global_21-199163',\n",
        " 'chick_rna.id116066.trglobal_global_21-199190',\n",
        " 'chick_rna.id116087.trglobal_global_21-199213',\n",
        " 'chick_rna.id116092.trglobal_global_21-199218',\n",
        " 'chick_rna.id116127.trglobal_global_21-199259',\n",
        " 'chick_rna.id116160.trglobal_global_21-199295',\n",
        " 'chick_rna.id116190.trglobal_global_21-199327',\n",
        " 'chick_rna.id116235.trglobal_global_21-199376',\n",
        " 'chick_rna.id116237.trglobal_global_21-199378',\n",
        " 'chick_rna.id116238.trglobal_global_21-199379',\n",
        " 'chick_rna.id116305.trglobal_global_21-199453',\n",
        " 'chick_rna.id116331.trglobal_global_21-199479',\n",
        " 'chick_rna.id116338.trglobal_global_21-199487',\n",
        " 'chick_rna.id116361.trglobal_global_21-199513',\n",
        " 'chick_rna.id116402.trglobal_global_21-199557',\n",
        " 'chick_rna.id116416.trglobal_global_21-199573',\n",
        " 'chick_rna.id116457.trglobal_global_21-199619',\n",
        " 'chick_rna.id116467.trglobal_global_21-199629',\n",
        " 'chick_rna.id116496.trglobal_global_21-199658',\n",
        " 'chick_rna.id116649.trglobal_global_21-199831',\n",
        " 'chick_rna.id116681.trglobal_global_21-199864',\n",
        " 'chick_rna.id116703.trglobal_global_21-199889',\n",
        " 'chick_rna.id116746.trglobal_global_21-199938',\n",
        " 'chick_rna.id116949.trglobal_global_21-200154',\n",
        " 'chick_rna.id117045.trglobal_global_21-200255',\n",
        " 'chick_rna.id117054.trglobal_global_21-200264',\n",
        " 'chick_rna.id117092.trglobal_global_21-200304',\n",
        " 'chick_rna.id117113.trglobal_global_21-200325',\n",
        " 'chick_rna.id117180.trglobal_global_21-200397',\n",
        " 'chick_rna.id117187.trglobal_global_21-200405',\n",
        " 'chick_rna.id117210.trglobal_global_21-200429',\n",
        " 'chick_rna.id117226.trglobal_global_21-200445',\n",
        " 'chick_rna.id117227.trglobal_global_21-200446',\n",
        " 'chick_rna.id117230.trglobal_global_21-200449',\n",
        " 'chick_rna.id117266.trglobal_global_21-200487',\n",
        " 'chick_rna.id117299.trglobal_global_21-200524',\n",
        " 'chick_rna.id117380.trglobal_global_21-200612',\n",
        " 'chick_rna.id117411.trglobal_global_21-200644',\n",
        " 'chick_rna.id117419.trglobal_global_21-200652',\n",
        " 'chick_rna.id117439.trglobal_global_21-200675',\n",
        " 'chick_rna.id117446.trglobal_global_21-200682',\n",
        " 'chick_rna.id117486.trglobal_global_21-200725',\n",
        " 'chick_rna.id117557.trglobal_global_21-200800',\n",
        " 'chick_rna.id117558.trglobal_global_21-200801',\n",
        " 'chick_rna.id117582.trglobal_global_21-200828',\n",
        " 'chick_rna.id117588.trglobal_global_21-200834',\n",
        " 'chick_rna.id117591.trglobal_global_21-200837',\n",
        " 'chick_rna.id117612.trglobal_global_21-200860',\n",
        " 'chick_rna.id117749.trglobal_global_21-201005',\n",
        " 'chick_rna.id117830.trglobal_global_21-201088',\n",
        " 'chick_rna.id117844.trglobal_global_21-201104',\n",
        " 'chick_rna.id117883.trglobal_global_21-201147',\n",
        " 'chick_rna.id117884.trglobal_global_21-201148',\n",
        " 'chick_rna.id118035.trglobal_global_21-201313',\n",
        " 'chick_rna.id118087.trglobal_global_21-201372',\n",
        " 'chick_rna.id118130.trglobal_global_21-201419',\n",
        " 'chick_rna.id118218.trglobal_global_21-201516',\n",
        " 'chick_rna.id118231.trglobal_global_21-201529',\n",
        " 'chick_rna.id118236.trglobal_global_21-201536',\n",
        " 'chick_rna.id118259.trglobal_global_21-201561',\n",
        " 'chick_rna.id118266.trglobal_global_21-201568',\n",
        " 'chick_rna.id118273.trglobal_global_21-201575',\n",
        " 'chick_rna.id118287.trglobal_global_21-201590',\n",
        " 'chick_rna.id118305.trglobal_global_21-201611',\n",
        " 'chick_rna.id118366.trglobal_global_21-201675',\n",
        " 'chick_rna.id118427.trglobal_global_21-201736',\n",
        " 'chick_rna.id118476.trglobal_global_21-201789',\n",
        " 'chick_rna.id118499.trglobal_global_21-201814',\n",
        " 'chick_rna.id118502.trglobal_global_21-201817',\n",
        " 'chick_rna.id118542.trglobal_global_21-201862',\n",
        " 'chick_rna.id118631.trglobal_global_21-201959',\n",
        " 'chick_rna.id118647.trglobal_global_21-201976',\n",
        " 'chick_rna.id118665.trglobal_global_21-201994',\n",
        " 'chick_rna.id118729.trglobal_global_21-202063',\n",
        " 'chick_rna.id119186.trglobal_global_21-202542',\n",
        " 'chick_rna.id119194.trglobal_global_21-202550',\n",
        " 'chick_rna.id119283.trglobal_global_21-202646',\n",
        " 'chick_rna.id119487.trglobal_global_21-202863',\n",
        " 'chick_rna.id119519.trglobal_global_21-202897',\n",
        " 'chick_rna.id119667.trglobal_global_21-203053',\n",
        " 'chick_rna.id119677.trglobal_global_21-203063',\n",
        " 'chick_rna.id119914.trglobal_global_21-203312',\n",
        " 'chick_rna.id120067.trglobal_global_21-203471',\n",
        " 'chick_rna.id120073.trglobal_global_21-203478',\n",
        " 'chick_rna.id120144.trglobal_global_21-203554',\n",
        " 'chick_rna.id120184.trglobal_global_21-203596',\n",
        " 'chick_rna.id137946.trglobal_global_23-31094',\n",
        " 'chick_rna.id139025.trglobal_global_23-32617',\n",
        " 'chick_rna.id144283.trglobal_global_23-40321',\n",
        " 'chick_rna.id145711.trglobal_global_23-42352',\n",
        " 'chick_rna.id147019.trglobal_global_23-44238',\n",
        " 'chick_rna.id147189.trglobal_global_23-44493',\n",
        " 'chick_rna.id149158.trglobal_global_23-47480',\n",
        " 'chick_rna.id151578.trglobal_global_23-51142',\n",
        " 'chick_rna.id156464.trglobal_global_23-58676',\n",
        " 'chick_rna.id157357.trglobal_global_23-60081',\n",
        " 'chick_rna.id157886.trglobal_global_23-60935',\n",
        " 'chick_rna.id159118.trglobal_global_23-62971',\n",
        " 'chick_rna.id161875.trglobal_global_23-67805',\n",
        " 'chick_rna.id162107.trglobal_global_23-68228',\n",
        " 'chick_rna.id163033.trglobal_global_23-69926',\n",
        " 'chick_rna.id163930.trglobal_global_23-71509',\n",
        " 'chick_rna.id164927.trglobal_global_23-73302',\n",
        " 'chick_rna.id165706.trglobal_global_23-74649',\n",
        " 'chick_rna.id165765.trglobal_global_23-74744',\n",
        " 'chick_rna.id165949.trglobal_global_23-75040',\n",
        " 'chick_rna.id165981.trglobal_global_23-75107',\n",
        " 'chick_rna.id167132.trglobal_global_23-77297',\n",
        " 'chick_rna.id167300.trglobal_global_23-77599',\n",
        " 'chick_rna.id168989.trglobal_global_23-80916',\n",
        " 'chick_rna.id169154.trglobal_global_23-81269',\n",
        " 'chick_rna.id169829.trglobal_global_23-82625',\n",
        " 'chick_rna.id170659.trglobal_global_23-84288',\n",
        " 'chick_rna.id172233.trglobal_global_23-87738',\n",
        " 'chick_rna.id172234.trglobal_global_23-87739',\n",
        " 'chick_rna.id172773.trglobal_global_23-88851',\n",
        " 'chick_rna.id172774.trglobal_global_23-88856',\n",
        " 'chick_rna.id175637.trglobal_global_23-95295',\n",
        " 'chick_rna.id175674.trglobal_global_23-95389',\n",
        " 'chick_rna.id175675.trglobal_global_23-95391',\n",
        " 'chick_rna.id175676.trglobal_global_23-95392',\n",
        " 'chick_rna.id177554.trglobal_global_23-100025',\n",
        " 'chick_rna.id177659.trglobal_global_23-100270',\n",
        " 'chick_rna.id178083.trglobal_global_23-101300',\n",
        " 'chick_rna.id179037.trglobal_global_23-103705',\n",
        " 'chick_rna.id179833.trglobal_global_23-105818',\n",
        " 'chick_rna.id179834.trglobal_global_23-105819',\n",
        " 'chick_rna.id180236.trglobal_global_23-106914',\n",
        " 'chick_rna.id181248.trglobal_global_23-109610',\n",
        " 'chick_rna.id182132.trglobal_global_23-112101',\n",
        " 'chick_rna.id182875.trglobal_global_23-114255',\n",
        " 'chick_rna.id190133.trglobal_global_23-136305',\n",
        " 'chick_rna.id195180.trglobal_global_23-153422',\n",
        " 'chick_rna.id197196.trglobal_global_23-160740',\n",
        " 'chick_rna.id197235.trglobal_global_23-161078',\n",
        " 'chick_rna.id197241.trglobal_global_23-161172',\n",
        " 'chick_rna.id197242.trglobal_global_23-161173',\n",
        " 'chick_rna.id197243.trglobal_global_23-161174',\n",
        " 'chick_rna.id197244.trglobal_global_23-161175',\n",
        " 'chick_rna.id197262.trglobal_global_23-161414',\n",
        " 'chick_rna.id197310.trglobal_global_23-161855',\n",
        " 'chick_rna.id197311.trglobal_global_23-161856',\n",
        " 'chick_rna.id197355.trglobal_global_23-162272',\n",
        " 'chick_rna.id197456.trglobal_global_23-163244',\n",
        " 'chick_rna.id197548.trglobal_global_23-164439',\n",
        " 'chick_rna.id197586.trglobal_global_23-164766',\n",
        " 'chick_rna.id197626.trglobal_global_23-165103',\n",
        " 'chick_rna.id197661.trglobal_global_23-165546',\n",
        " 'chick_rna.id197800.trglobal_global_23-166827',\n",
        " 'chick_rna.id206033.trglobal_global_25-14418',\n",
        " 'chick_rna.id209787.trglobal_global_25-20079',\n",
        " 'chick_rna.id214075.trglobal_global_25-26599',\n",
        " 'chick_rna.id221375.trglobal_global_25-38126',\n",
        " 'chick_rna.id222211.trglobal_global_25-39458',\n",
        " 'chick_rna.id22406.trglobal_global_21-58008',\n",
        " 'chick_rna.id224178.trglobal_global_25-42616',\n",
        " 'chick_rna.id224474.trglobal_global_25-43114',\n",
        " 'chick_rna.id226651.trglobal_global_25-46666',\n",
        " 'chick_rna.id227504.trglobal_global_25-48074',\n",
        " 'chick_rna.id228269.trglobal_global_25-49358',\n",
        " 'chick_rna.id232376.trglobal_global_25-56840',\n",
        " 'chick_rna.id233024.trglobal_global_25-58067',\n",
        " 'chick_rna.id233726.trglobal_global_25-59495',\n",
        " 'chick_rna.id233769.trglobal_global_25-59584',\n",
        " 'chick_rna.id234569.trglobal_global_25-61088',\n",
        " 'chick_rna.id234673.trglobal_global_25-61318',\n",
        " 'chick_rna.id236049.trglobal_global_25-64158',\n",
        " 'chick_rna.id236383.trglobal_global_25-64807',\n",
        " 'chick_rna.id236384.trglobal_global_25-64808',\n",
        " 'chick_rna.id236385.trglobal_global_25-64809',\n",
        " 'chick_rna.id236431.trglobal_global_25-64886',\n",
        " 'chick_rna.id236434.trglobal_global_25-64889',\n",
        " 'chick_rna.id236478.trglobal_global_25-64980',\n",
        " 'chick_rna.id236480.trglobal_global_25-64982',\n",
        " 'chick_rna.id236979.trglobal_global_25-66124',\n",
        " 'chick_rna.id237079.trglobal_global_25-66339',\n",
        " 'chick_rna.id238364.trglobal_global_25-69216',\n",
        " 'chick_rna.id239804.trglobal_global_25-72553',\n",
        " 'chick_rna.id240974.trglobal_global_25-75353',\n",
        " 'chick_rna.id241085.trglobal_global_25-75624',\n",
        " 'chick_rna.id242470.trglobal_global_25-79036',\n",
        " 'chick_rna.id243831.trglobal_global_25-82693',\n",
        " 'chick_rna.id243832.trglobal_global_25-82694',\n",
        " 'chick_rna.id244111.trglobal_global_25-83490',\n",
        " 'chick_rna.id247837.trglobal_global_25-94827',\n",
        " 'chick_rna.id248890.trglobal_global_25-98509',\n",
        " 'chick_rna.id249248.trglobal_global_25-99844',\n",
        " 'chick_rna.id252364.trglobal_global_25-111188',\n",
        " 'chick_rna.id258024.trglobal_global_25-135942',\n",
        " 'chick_rna.id259990.trglobal_global_25-145771',\n",
        " 'chick_rna.id259991.trglobal_global_25-145772',\n",
        " 'chick_rna.id260122.trglobal_global_25-147972',\n",
        " 'chick_rna.id260158.trglobal_global_25-148706',\n",
        " 'chick_rna.id260224.trglobal_global_25-149954',\n",
        " 'chick_rna.id260310.trglobal_global_25-151685',\n",
        " 'chick_rna.id260378.trglobal_global_25-152834',\n",
        " 'chick_rna.id261337.trglobal_global_27-4515',\n",
        " 'chick_rna.id26389.trglobal_global_21-63558',\n",
        " 'chick_rna.id26390.trglobal_global_21-63559',\n",
        " 'chick_rna.id26391.trglobal_global_21-63560',\n",
        " 'chick_rna.id274427.trglobal_global_27-24100',\n",
        " 'chick_rna.id280968.trglobal_global_27-34268',\n",
        " 'chick_rna.id280992.trglobal_global_27-34334',\n",
        " 'chick_rna.id282246.trglobal_global_27-36531',\n",
        " 'chick_rna.id282847.trglobal_global_27-37525',\n",
        " 'chick_rna.id28352.trglobal_global_21-66253',\n",
        " 'chick_rna.id284781.trglobal_global_27-40755',\n",
        " 'chick_rna.id285391.trglobal_global_27-41774',\n",
        " 'chick_rna.id285392.trglobal_global_27-41775',\n",
        " 'chick_rna.id285613.trglobal_global_27-42205',\n",
        " 'chick_rna.id285615.trglobal_global_27-42207',\n",
        " 'chick_rna.id285851.trglobal_global_27-42619',\n",
        " 'chick_rna.id287200.trglobal_global_27-45133',\n",
        " 'chick_rna.id287845.trglobal_global_27-46381',\n",
        " 'chick_rna.id287987.trglobal_global_27-46636',\n",
        " 'chick_rna.id287991.trglobal_global_27-46640',\n",
        " 'chick_rna.id288309.trglobal_global_27-47230',\n",
        " 'chick_rna.id290484.trglobal_global_27-51453',\n",
        " 'chick_rna.id290852.trglobal_global_27-52241',\n",
        " 'chick_rna.id291539.trglobal_global_27-53682',\n",
        " 'chick_rna.id291941.trglobal_global_27-54447',\n",
        " 'chick_rna.id291984.trglobal_global_27-54528',\n",
        " 'chick_rna.id291985.trglobal_global_27-54529',\n",
        " 'chick_rna.id292984.trglobal_global_27-56453',\n",
        " 'chick_rna.id293474.trglobal_global_27-57542',\n",
        " 'chick_rna.id293937.trglobal_global_27-58500',\n",
        " 'chick_rna.id293940.trglobal_global_27-58503',\n",
        " 'chick_rna.id293949.trglobal_global_27-58516',\n",
        " 'chick_rna.id294352.trglobal_global_27-59369',\n",
        " 'chick_rna.id296440.trglobal_global_27-64048',\n",
        " 'chick_rna.id297261.trglobal_global_27-65996',\n",
        " 'chick_rna.id297881.trglobal_global_27-67435',\n",
        " 'chick_rna.id298641.trglobal_global_27-69340',\n",
        " 'chick_rna.id298688.trglobal_global_27-69451',\n",
        " 'chick_rna.id298758.trglobal_global_27-69608',\n",
        " 'chick_rna.id300353.trglobal_global_27-73903',\n",
        " 'chick_rna.id302450.trglobal_global_27-80719',\n",
        " 'chick_rna.id303885.trglobal_global_27-85543',\n",
        " 'chick_rna.id30655.trglobal_global_21-69481',\n",
        " 'chick_rna.id308198.trglobal_global_27-102973',\n",
        " 'chick_rna.id314596.trglobal_global_27-136424',\n",
        " 'chick_rna.id314645.trglobal_global_27-137480',\n",
        " 'chick_rna.id314744.trglobal_global_27-139553',\n",
        " 'chick_rna.id319336.trglobal_global_29-9087',\n",
        " 'chick_rna.id325273.trglobal_global_29-17888',\n",
        " 'chick_rna.id325725.trglobal_global_29-18601',\n",
        " 'chick_rna.id326616.trglobal_global_29-19931',\n",
        " 'chick_rna.id327566.trglobal_global_29-21436',\n",
        " 'chick_rna.id328935.trglobal_global_29-23531',\n",
        " 'chick_rna.id329227.trglobal_global_29-23952',\n",
        " 'chick_rna.id329881.trglobal_global_29-24987',\n",
        " 'chick_rna.id331055.trglobal_global_29-26950',\n",
        " 'chick_rna.id333896.trglobal_global_29-31829',\n",
        " 'chick_rna.id334085.trglobal_global_29-32156',\n",
        " 'chick_rna.id334415.trglobal_global_29-32685',\n",
        " 'chick_rna.id335046.trglobal_global_29-33808',\n",
        " 'chick_rna.id337352.trglobal_global_29-37821',\n",
        " 'chick_rna.id3376.trglobal_global_21-19888',\n",
        " 'chick_rna.id338811.trglobal_global_29-40558',\n",
        " 'chick_rna.id338813.trglobal_global_29-40560',\n",
        " 'chick_rna.id340005.trglobal_global_29-42945',\n",
        " 'chick_rna.id342417.trglobal_global_29-47761',\n",
        " 'chick_rna.id342779.trglobal_global_29-48525',\n",
        " 'chick_rna.id342978.trglobal_global_29-48965',\n",
        " 'chick_rna.id343464.trglobal_global_29-49957',\n",
        " 'chick_rna.id343868.trglobal_global_29-50820',\n",
        " 'chick_rna.id344529.trglobal_global_29-52194',\n",
        " 'chick_rna.id344817.trglobal_global_29-52859',\n",
        " 'chick_rna.id344917.trglobal_global_29-53060',\n",
        " 'chick_rna.id344928.trglobal_global_29-53086',\n",
        " 'chick_rna.id345660.trglobal_global_29-54770',\n",
        " 'chick_rna.id345760.trglobal_global_29-54976',\n",
        " 'chick_rna.id345844.trglobal_global_29-55136',\n",
        " 'chick_rna.id347321.trglobal_global_29-58718',\n",
        " 'chick_rna.id347981.trglobal_global_29-60359',\n",
        " 'chick_rna.id349040.trglobal_global_29-63208',\n",
        " 'chick_rna.id349041.trglobal_global_29-63209',\n",
        " 'chick_rna.id349042.trglobal_global_29-63210',\n",
        " 'chick_rna.id349640.trglobal_global_29-64740',\n",
        " 'chick_rna.id35095.trglobal_global_21-75866',\n",
        " 'chick_rna.id353697.trglobal_global_29-77641',\n",
        " 'chick_rna.id355518.trglobal_global_29-84586',\n",
        " 'chick_rna.id357552.trglobal_global_29-93285',\n",
        " 'chick_rna.id35953.trglobal_global_21-77157',\n",
        " 'chick_rna.id36023.trglobal_global_21-77271',\n",
        " 'chick_rna.id362768.trglobal_global_29-121624',\n",
        " 'chick_rna.id364053.trglobal_global_29-130514',\n",
        " 'chick_rna.id364121.trglobal_global_29-132822',\n",
        " 'chick_rna.id364568.trglobal_global_31-511',\n",
        " 'chick_rna.id364887.trglobal_global_31-1083',\n",
        " 'chick_rna.id365645.trglobal_global_31-3156',\n",
        " 'chick_rna.id365818.trglobal_global_31-3761',\n",
        " 'chick_rna.id365997.trglobal_global_31-4540',\n",
        " 'chick_rna.id366165.trglobal_global_31-5456',\n",
        " 'chick_rna.id371694.trglobal_global_31-12943',\n",
        " 'chick_rna.id374467.trglobal_global_31-16649',\n",
        " 'chick_rna.id375582.trglobal_global_31-18167',\n",
        " 'chick_rna.id377242.trglobal_global_31-20423',\n",
        " 'chick_rna.id377854.trglobal_global_31-21332',\n",
        " 'chick_rna.id381337.trglobal_global_31-26274',\n",
        " 'chick_rna.id384309.trglobal_global_31-30707',\n",
        " 'chick_rna.id385002.trglobal_global_31-31760',\n",
        " 'chick_rna.id385659.trglobal_global_31-32797',\n",
        " 'chick_rna.id386186.trglobal_global_31-33610',\n",
        " 'chick_rna.id386225.trglobal_global_31-33672',\n",
        " 'chick_rna.id388584.trglobal_global_31-37485',\n",
        " 'chick_rna.id390686.trglobal_global_31-40890',\n",
        " 'chick_rna.id391325.trglobal_global_31-41862',\n",
        " 'chick_rna.id392235.trglobal_global_31-43388',\n",
        " 'chick_rna.id393393.trglobal_global_31-45297',\n",
        " 'chick_rna.id393394.trglobal_global_31-45298',\n",
        " 'chick_rna.id394518.trglobal_global_31-47307',\n",
        " 'chick_rna.id395182.trglobal_global_31-48524',\n",
        " 'chick_rna.id395920.trglobal_global_31-49921',\n",
        " 'chick_rna.id395922.trglobal_global_31-49923',\n",
        " 'chick_rna.id395948.trglobal_global_31-49983',\n",
        " 'chick_rna.id395951.trglobal_global_31-49991',\n",
        " 'chick_rna.id396065.trglobal_global_31-50200',\n",
        " 'chick_rna.id396075.trglobal_global_31-50219',\n",
        " 'chick_rna.id396394.trglobal_global_31-50845',\n",
        " 'chick_rna.id398984.trglobal_global_31-55973',\n",
        " 'chick_rna.id400392.trglobal_global_31-58909',\n",
        " 'chick_rna.id400561.trglobal_global_31-59278',\n",
        " 'chick_rna.id400731.trglobal_global_31-59673',\n",
        " 'chick_rna.id400734.trglobal_global_31-59676',\n",
        " 'chick_rna.id400810.trglobal_global_31-59851',\n",
        " 'chick_rna.id401411.trglobal_global_31-61161',\n",
        " 'chick_rna.id404780.trglobal_global_31-69134',\n",
        " 'chick_rna.id408097.trglobal_global_31-78602',\n",
        " 'chick_rna.id408315.trglobal_global_31-79305',\n",
        " 'chick_rna.id408775.trglobal_global_31-80762',\n",
        " 'chick_rna.id409757.trglobal_global_31-84154',\n",
        " 'chick_rna.id413158.trglobal_global_31-96910',\n",
        " 'chick_rna.id413406.trglobal_global_31-97872',\n",
        " 'chick_rna.id41709.trglobal_global_21-85517',\n",
        " 'chick_rna.id419087.trglobal_global_31-125701',\n",
        " 'chick_rna.id419088.trglobal_global_31-125703',\n",
        " 'chick_rna.id419089.trglobal_global_31-125705',\n",
        " 'chick_rna.id419147.trglobal_global_31-127251',\n",
        " 'chick_rna.id419213.trglobal_global_31-130004',\n",
        " 'chick_rna.id41982.trglobal_global_21-85959',\n",
        " 'chick_rna.id52407.trglobal_global_21-102026',\n",
        " 'chick_rna.id53591.trglobal_global_21-103914',\n",
        " 'chick_rna.id53875.trglobal_global_21-104333',\n",
        " 'chick_rna.id54338.trglobal_global_21-105119',\n",
        " 'chick_rna.id54390.trglobal_global_21-105199',\n",
        " 'chick_rna.id54391.trglobal_global_21-105200',\n",
        " 'chick_rna.id54483.trglobal_global_21-105337',\n",
        " 'chick_rna.id55488.trglobal_global_21-106941',\n",
        " 'chick_rna.id56134.trglobal_global_21-107953',\n",
        " 'chick_rna.id57690.trglobal_global_21-110612',\n",
        " 'chick_rna.id57784.trglobal_global_21-110800',\n",
        " 'chick_rna.id59312.trglobal_global_21-113277',\n",
        " 'chick_rna.id62744.trglobal_global_21-118903',\n",
        " 'chick_rna.id62745.trglobal_global_21-118904',\n",
        " 'chick_rna.id63685.trglobal_global_21-120469',\n",
        " 'chick_rna.id66571.trglobal_global_21-125151',\n",
        " 'chick_rna.id66881.trglobal_global_21-125695',\n",
        " 'chick_rna.id67611.trglobal_global_21-126888',\n",
        " 'chick_rna.id68567.trglobal_global_21-128477',\n",
        " 'chick_rna.id69211.trglobal_global_21-129511',\n",
        " 'chick_rna.id72831.trglobal_global_21-135365',\n",
        " 'chick_rna.id74853.trglobal_global_21-138688',\n",
        " 'chick_rna.id74854.trglobal_global_21-138689',\n",
        " 'chick_rna.id76306.trglobal_global_21-140950',\n",
        " 'chick_rna.id77390.trglobal_global_21-142706',\n",
        " 'chick_rna.id79010.trglobal_global_21-145303',\n",
        " 'chick_rna.id79011.trglobal_global_21-145304',\n",
        " 'chick_rna.id82140.trglobal_global_21-150340',\n",
        " 'chick_rna.id84421.trglobal_global_21-153909',\n",
        " 'chick_rna.id88961.trglobal_global_21-160970',\n",
        " 'chick_rna.id91067.trglobal_global_21-164227',\n",
        " 'chick_rna.id94427.trglobal_global_21-169284',\n",
        " 'chick_rna.id97874.trglobal_global_21-174398'}"
       ]
      }
     ],
     "prompt_number": 100
    },
    {
     "cell_type": "code",
     "collapsed": false,
     "input": [],
     "language": "python",
     "metadata": {},
     "outputs": []
    }
   ],
   "metadata": {}
  }
 ]
}