{
 "metadata": {
  "name": "",
  "signature": "sha256:906e8b0f8a65296a918a1d0eb338a487c65b101875631b701068049d13e8fce3"
 },
 "nbformat": 3,
 "nbformat_minor": 0,
 "worksheets": [
  {
   "cells": [
    {
     "cell_type": "heading",
     "level": 1,
     "metadata": {},
     "source": [
      "Testing ortho"
     ]
    },
    {
     "cell_type": "markdown",
     "metadata": {},
     "source": [
      "- First, see if Likit has putative ortholog assignments between the chick RNAseq and human proteins.  If not, the eel-pond protocol has some instructions on how to calculate this.  Might take a few days.  Then, we can recalculate the Venn diagram with a better curated set of mRNAseq transcripts, and also give people (Jerry in particular) the gene names that are in A, C, and D.\n",
      "\n",
      "  - Likit: I only have homologs of chick RNASeq and human proteins of differential-expressed genes, which total ~1000 genes as of now.\n",
      "\n",
      "  - Main goal right now: how many \"real\" mRNAseq genes, i.e. genes with orthology\n",
      "    to human, do/do not match in the genome?  Nic has done exactly this analysis\n",
      "    for fungus."
     ]
    },
    {
     "cell_type": "code",
     "collapsed": false,
     "input": [
      "%matplotlib inline\n",
      "from matplotlib import pyplot as plt\n",
      "from matplotlib_venn import venn3, venn3_circles"
     ],
     "language": "python",
     "metadata": {},
     "outputs": [],
     "prompt_number": 98
    },
    {
     "cell_type": "heading",
     "level": 2,
     "metadata": {},
     "source": [
      "Preparing all RNA data"
     ]
    },
    {
     "cell_type": "code",
     "collapsed": false,
     "input": [
      "!cd .. && make outputs/chicken_transcripts/global_merged.fa.clean.nr.renamed.fasta.nsq"
     ],
     "language": "python",
     "metadata": {},
     "outputs": [
      {
       "output_type": "stream",
       "stream": "stdout",
       "text": [
        "make: `outputs/chicken_transcripts/global_merged.fa.clean.nr.renamed.fasta.nsq' is up to date.\r\n"
       ]
      }
     ],
     "prompt_number": 1
    },
    {
     "cell_type": "heading",
     "level": 2,
     "metadata": {},
     "source": [
      "Preparing 'only in RNA' data"
     ]
    },
    {
     "cell_type": "code",
     "collapsed": false,
     "input": [
      "!cd .. && make outputs/rna/pacbio/galGal4/only_rna.fa.renamed.fasta.nsq"
     ],
     "language": "python",
     "metadata": {},
     "outputs": [
      {
       "output_type": "stream",
       "stream": "stdout",
       "text": [
        "make: `outputs/rna/pacbio/galGal4/only_rna.fa.renamed.fasta.nsq' is up to date.\r\n"
       ]
      }
     ],
     "prompt_number": 21
    },
    {
     "cell_type": "heading",
     "level": 2,
     "metadata": {},
     "source": [
      "Preparing Uniprot"
     ]
    },
    {
     "cell_type": "code",
     "collapsed": false,
     "input": [
      "!cd .. && make outputs/uniprot/uniprot_sprot.fasta.nsq"
     ],
     "language": "python",
     "metadata": {},
     "outputs": [
      {
       "output_type": "stream",
       "stream": "stdout",
       "text": [
        "cd outputs/uniprot && \\\r\n",
        "\tformatdb -i uniprot_sprot.fasta -o T -p T\r\n"
       ]
      }
     ],
     "prompt_number": 23
    },
    {
     "cell_type": "code",
     "collapsed": false,
     "input": [
      "!cd .. && make outputs/uniprot/uniprot_sprot.namedb"
     ],
     "language": "python",
     "metadata": {},
     "outputs": [
      {
       "output_type": "stream",
       "stream": "stdout",
       "text": [
        "make: `outputs/uniprot/uniprot_sprot.namedb' is up to date.\r\n"
       ]
      }
     ],
     "prompt_number": 24
    },
    {
     "cell_type": "code",
     "collapsed": false,
     "input": [
      "!cd .. && make outputs/uniprot/uniprot_sprot.fasta_screed"
     ],
     "language": "python",
     "metadata": {},
     "outputs": [
      {
       "output_type": "stream",
       "stream": "stdout",
       "text": [
        "make: `outputs/uniprot/uniprot_sprot.fasta_screed' is up to date.\r\n"
       ]
      }
     ],
     "prompt_number": 25
    },
    {
     "cell_type": "heading",
     "level": 3,
     "metadata": {},
     "source": [
      "Uniprot ortho"
     ]
    },
    {
     "cell_type": "code",
     "collapsed": false,
     "input": [
      "!cd .. && make -j2 outputs/rna/pacbio/galGal4/chick.x.uniprot.pbs outputs/rna/pacbio/galGal4/uniprot.x.chick.pbs"
     ],
     "language": "python",
     "metadata": {},
     "outputs": [
      {
       "output_type": "stream",
       "stream": "stdout",
       "text": [
        "mkdir -p outputs/rna/pacbio/galGal4\r\n",
        "JOBID=`echo make outputs/rna/pacbio/galGal4/chick.x.uniprot | cat pbs/header.sub - pbs/footer.sub | \\\r\n",
        "\t  qsub -l walltime=20:00:00,nodes=1:ppn=8,mem=400mb -A ged -N blast.chick.x.uniprot.pbs -o outputs/rna/pacbio/galGal4/chick.x.uniprot.pbs -e outputs/rna/pacbio/galGal4/chick.x.uniprot.pbs.err | cut -d\".\" -f1` ; \\\r\n",
        "\twhile [ -n \"$(qstat -a |grep ${JOBID})\" ]; do sleep 600; done\r\n"
       ]
      },
      {
       "output_type": "stream",
       "stream": "stdout",
       "text": [
        "^Cmake: *** [outputs/rna/pacbio/galGal4/chick.x.uniprot.pbs] Interrupt\r\n"
       ]
      },
      {
       "output_type": "stream",
       "stream": "stdout",
       "text": [
        "mkdir -p outputs/rna/pacbio/galGal4\r\n",
        "JOBID=`echo make outputs/rna/pacbio/galGal4/uniprot.x.chick | cat pbs/header.sub - pbs/footer.sub | \\\r\n",
        "\t  qsub -l walltime=20:00:00,nodes=1:ppn=8,mem=400mb -A ged -N blast.uniprot.x.chick.pbs -o outputs/rna/pacbio/galGal4/uniprot.x.chick.pbs -e outputs/rna/pacbio/galGal4/uniprot.x.chick.pbs.err | cut -d\".\" -f1` ; \\\r\n",
        "\twhile [ -n \"$(qstat -a |grep ${JOBID})\" ]; do sleep 600; done\r\n"
       ]
      },
      {
       "output_type": "stream",
       "stream": "stdout",
       "text": [
        "^Cmake: *** [outputs/rna/pacbio/galGal4/uniprot.x.chick.pbs] Interrupt\r\n"
       ]
      }
     ],
     "prompt_number": 30
    },
    {
     "cell_type": "code",
     "collapsed": false,
     "input": [
      "!cd .. && make outputs/rna/pacbio/galGal4/global_merged.fa.clean.nr.renamed.fasta.annot"
     ],
     "language": "python",
     "metadata": {},
     "outputs": [
      {
       "output_type": "stream",
       "stream": "stdout",
       "text": [
        "cd outputs/rna/pacbio/galGal4 && \\\r\n",
        "\tpython /mnt/research/ged/irberlui/biodata/galGal/scripts/annotate-seqs.py /mnt/research/ged/irberlui/biodata/galGal/outputs/chicken_transcripts/global_merged.fa.clean.nr.renamed.fasta chick.x.uniprot.ortho chick.x.uniprot.homol\r\n"
       ]
      },
      {
       "output_type": "stream",
       "stream": "stdout",
       "text": [
        "Scanning sequences -- first pass to gather info\r\n",
        "... 0\r\n"
       ]
      },
      {
       "output_type": "stream",
       "stream": "stdout",
       "text": [
        "... 25000\r\n"
       ]
      },
      {
       "output_type": "stream",
       "stream": "stdout",
       "text": [
        "... 50000\r\n"
       ]
      },
      {
       "output_type": "stream",
       "stream": "stdout",
       "text": [
        "... 75000\r\n"
       ]
      },
      {
       "output_type": "stream",
       "stream": "stdout",
       "text": [
        "... 100000\r\n"
       ]
      },
      {
       "output_type": "stream",
       "stream": "stdout",
       "text": [
        "... 125000\r\n"
       ]
      },
      {
       "output_type": "stream",
       "stream": "stdout",
       "text": [
        "... 150000\r\n"
       ]
      },
      {
       "output_type": "stream",
       "stream": "stdout",
       "text": [
        "... 175000\r\n"
       ]
      },
      {
       "output_type": "stream",
       "stream": "stdout",
       "text": [
        "... 200000\r\n"
       ]
      },
      {
       "output_type": "stream",
       "stream": "stdout",
       "text": [
        "... 225000\r\n"
       ]
      },
      {
       "output_type": "stream",
       "stream": "stdout",
       "text": [
        "... 250000\r\n"
       ]
      },
      {
       "output_type": "stream",
       "stream": "stdout",
       "text": [
        "... 275000\r\n"
       ]
      },
      {
       "output_type": "stream",
       "stream": "stdout",
       "text": [
        "... 300000\r\n"
       ]
      },
      {
       "output_type": "stream",
       "stream": "stdout",
       "text": [
        "... 325000\r\n"
       ]
      },
      {
       "output_type": "stream",
       "stream": "stdout",
       "text": [
        "... 350000\r\n"
       ]
      },
      {
       "output_type": "stream",
       "stream": "stdout",
       "text": [
        "... 375000\r\n"
       ]
      },
      {
       "output_type": "stream",
       "stream": "stdout",
       "text": [
        "... 400000\r\n"
       ]
      },
      {
       "output_type": "stream",
       "stream": "stdout",
       "text": [
        "second pass: annotating\r\n",
        "... x2 0\r\n"
       ]
      },
      {
       "output_type": "stream",
       "stream": "stdout",
       "text": [
        "... x2 25000\r\n"
       ]
      },
      {
       "output_type": "stream",
       "stream": "stdout",
       "text": [
        "... x2 50000\r\n"
       ]
      },
      {
       "output_type": "stream",
       "stream": "stdout",
       "text": [
        "... x2 75000\r\n"
       ]
      },
      {
       "output_type": "stream",
       "stream": "stdout",
       "text": [
        "... x2 100000\r\n"
       ]
      },
      {
       "output_type": "stream",
       "stream": "stdout",
       "text": [
        "... x2 125000\r\n"
       ]
      },
      {
       "output_type": "stream",
       "stream": "stdout",
       "text": [
        "... x2 150000\r\n"
       ]
      },
      {
       "output_type": "stream",
       "stream": "stdout",
       "text": [
        "... x2 175000\r\n"
       ]
      },
      {
       "output_type": "stream",
       "stream": "stdout",
       "text": [
        "... x2 200000\r\n"
       ]
      },
      {
       "output_type": "stream",
       "stream": "stdout",
       "text": [
        "... x2 225000\r\n"
       ]
      },
      {
       "output_type": "stream",
       "stream": "stdout",
       "text": [
        "... x2 250000\r\n"
       ]
      },
      {
       "output_type": "stream",
       "stream": "stdout",
       "text": [
        "... x2 275000\r\n"
       ]
      },
      {
       "output_type": "stream",
       "stream": "stdout",
       "text": [
        "... x2 300000\r\n"
       ]
      },
      {
       "output_type": "stream",
       "stream": "stdout",
       "text": [
        "... x2 325000\r\n"
       ]
      },
      {
       "output_type": "stream",
       "stream": "stdout",
       "text": [
        "... x2 350000\r\n"
       ]
      },
      {
       "output_type": "stream",
       "stream": "stdout",
       "text": [
        "... x2 375000\r\n"
       ]
      },
      {
       "output_type": "stream",
       "stream": "stdout",
       "text": [
        "... x2 400000\r\n"
       ]
      },
      {
       "output_type": "stream",
       "stream": "stdout",
       "text": [
        "----\r\n",
        "419276 sequences total\r\n",
        "30421 annotated / ortho\r\n",
        "182213 annotated / homol\r\n",
        "0 annotated / tr\r\n",
        "212634 total annotated\r\n",
        "\r\n",
        "annotated sequences in FASTA format: global_merged.fa.clean.nr.renamed.fasta.annot\r\n",
        "annotation spreadsheet in: global_merged.fa.clean.nr.renamed.fasta.annot.csv\r\n",
        "annotation spreadsheet with sequences (warning: LARGE): global_merged.fa.clean.nr.renamed.fasta.annot.large.csv\r\n"
       ]
      }
     ],
     "prompt_number": 86
    },
    {
     "cell_type": "heading",
     "level": 2,
     "metadata": {},
     "source": [
      "Recalculating Venn diagram with ortho"
     ]
    },
    {
     "cell_type": "code",
     "collapsed": false,
     "input": [
      "!cd .. && make outputs/rna/pacbio/galGal4/ortho.fa"
     ],
     "language": "python",
     "metadata": {},
     "outputs": [
      {
       "output_type": "stream",
       "stream": "stdout",
       "text": [
        "python /mnt/research/ged/irberlui/biodata/galGal/scripts/extract.py outputs/rna/pacbio/galGal4/global_merged.fa.clean.nr.renamed.fasta.annot outputs/rna/pacbio/galGal4/ortho.fa ortho\r\n"
       ]
      }
     ],
     "prompt_number": 87
    },
    {
     "cell_type": "code",
     "collapsed": false,
     "input": [
      "!cd .. && make outputs/reference/galGal4.fa.nsq"
     ],
     "language": "python",
     "metadata": {},
     "outputs": [
      {
       "output_type": "stream",
       "stream": "stdout",
       "text": [
        "make: `outputs/reference/galGal4.fa.nsq' is up to date.\r\n"
       ]
      }
     ],
     "prompt_number": 38
    },
    {
     "cell_type": "code",
     "collapsed": false,
     "input": [
      "!cd .. && make outputs/pacbio_unmapped/chicken_unmapped.fasta.nsq"
     ],
     "language": "python",
     "metadata": {},
     "outputs": [
      {
       "output_type": "stream",
       "stream": "stdout",
       "text": [
        "makeblastdb -in outputs/pacbio_unmapped/chicken_unmapped.fasta -out outputs/pacbio_unmapped/chicken_unmapped.fasta -dbtype nucl\r\n"
       ]
      },
      {
       "output_type": "stream",
       "stream": "stdout",
       "text": [
        "\r\n",
        "\r\n",
        "Building a new DB, current time: 03/29/2015 18:30:33\r\n",
        "New DB name:   outputs/pacbio_unmapped/chicken_unmapped.fasta\r\n",
        "New DB title:  outputs/pacbio_unmapped/chicken_unmapped.fasta\r\n",
        "Sequence type: Nucleotide\r\n",
        "Keep Linkouts: T\r\n",
        "Keep MBits: T\r\n",
        "Maximum file size: 1000000000B\r\n"
       ]
      },
      {
       "output_type": "stream",
       "stream": "stdout",
       "text": [
        "Adding sequences from FASTA; added 42508 sequences in 2.63234 seconds.\r\n"
       ]
      }
     ],
     "prompt_number": 41
    },
    {
     "cell_type": "code",
     "collapsed": false,
     "input": [
      "!cd .. && make -j2 outputs/rna/pacbio/galGal4/Chick_RNA_BLAST.txt.pbs outputs/rna/pacbio/galGal4/seq_RNA_BLAST.txt.pbs"
     ],
     "language": "python",
     "metadata": {},
     "outputs": [
      {
       "output_type": "stream",
       "stream": "stdout",
       "text": [
        "make: `outputs/rna/pacbio/galGal4/Chick_RNA_BLAST.txt.pbs' is up to date.\r\n",
        "make: `outputs/rna/pacbio/galGal4/seq_RNA_BLAST.txt.pbs' is up to date.\r\n"
       ]
      }
     ],
     "prompt_number": 63
    },
    {
     "cell_type": "code",
     "collapsed": false,
     "input": [
      "!cd .. && make outputs/rna/pacbio/galGal4/match_ortho.rna.ref.txt"
     ],
     "language": "python",
     "metadata": {},
     "outputs": [
      {
       "output_type": "stream",
       "stream": "stdout",
       "text": [
        "cd outputs/rna/pacbio/galGal4 && \\\r\n",
        "\tpython /mnt/research/ged/irberlui/biodata/galGal/scripts/find_match_2.py ortho.fa Chick_RNA_BLAST.txt ortho.rna.ref\r\n"
       ]
      },
      {
       "output_type": "stream",
       "stream": "stdout",
       "text": [
        "Number of matches: 26766\r\n",
        "Number of no matches: 3655\r\n"
       ]
      }
     ],
     "prompt_number": 88
    },
    {
     "cell_type": "code",
     "collapsed": false,
     "input": [
      "!cd .. && make outputs/rna/pacbio/galGal4/match_ortho.rna.seq.txt"
     ],
     "language": "python",
     "metadata": {},
     "outputs": [
      {
       "output_type": "stream",
       "stream": "stdout",
       "text": [
        "cd outputs/rna/pacbio/galGal4 && \\\r\n",
        "\tpython /mnt/research/ged/irberlui/biodata/galGal/scripts/find_match_2.py ortho.fa seq_RNA_BLAST.txt ortho.rna.seq\r\n"
       ]
      },
      {
       "output_type": "stream",
       "stream": "stdout",
       "text": [
        "Number of matches: 825\r\n",
        "Number of no matches: 29596\r\n"
       ]
      }
     ],
     "prompt_number": 89
    },
    {
     "cell_type": "code",
     "collapsed": false,
     "input": [
      "with open(\"../outputs/rna/pacbio/galGal4/match_ortho.rna.seq.txt\") as rna_seq_match:\n",
      "    rna_seq_set = set([line.split(' ')[0] for line in rna_seq_match if line.strip()])\n",
      "\n",
      "with open(\"../outputs/rna/pacbio/galGal4/match_ortho.rna.ref.txt\") as rna_ref_match:\n",
      "    rna_ref_set = set([line.split(' ')[0] for line in rna_ref_match if line.strip()])"
     ],
     "language": "python",
     "metadata": {},
     "outputs": [],
     "prompt_number": 94
    },
    {
     "cell_type": "code",
     "collapsed": false,
     "input": [
      "B_set = rna_seq_set & rna_ref_set\n",
      "len(B_set)"
     ],
     "language": "python",
     "metadata": {},
     "outputs": [
      {
       "metadata": {},
       "output_type": "pyout",
       "prompt_number": 95,
       "text": [
        "337"
       ]
      }
     ],
     "prompt_number": 95
    },
    {
     "cell_type": "code",
     "collapsed": false,
     "input": [
      "B = len(rna_seq_set & rna_ref_set)\n",
      "A = len(rna_ref_set) - B\n",
      "C = len(rna_seq_set) - B\n",
      "E = 30421\n",
      "D = E - A - C - B\n",
      "\n",
      "print A, B, C, D, E"
     ],
     "language": "python",
     "metadata": {},
     "outputs": [
      {
       "output_type": "stream",
       "stream": "stdout",
       "text": [
        "26429 337 488 3167 30421\n"
       ]
      }
     ],
     "prompt_number": 96
    },
    {
     "cell_type": "heading",
     "level": 3,
     "metadata": {},
     "source": [
      "Diagram"
     ]
    },
    {
     "cell_type": "code",
     "collapsed": false,
     "input": [
      "#scale = float(max([A, B, C, D]))\n",
      "#v = venn3((1, 1, 1, D / scale, A / scale, C / scale, B / scale), set_labels=('Ref', 'Moleculo', 'RNA'))\n",
      "\n",
      "v = venn3((1, 1, 1, 1, 1, 1, 1), set_labels=('Ref', 'PacBio', 'RNA'))\n",
      "\n",
      "v.get_label_by_id('100').set_text('')\n",
      "v.get_label_by_id('010').set_text('')\n",
      "v.get_label_by_id('001').set_text('D\\n%d' % D)\n",
      "\n",
      "v.get_label_by_id('011').set_text('C\\n%d' % C)\n",
      "v.get_label_by_id('101').set_text('A\\n%d' % A)\n",
      "v.get_label_by_id('110').set_text('')\n",
      "\n",
      "v.get_label_by_id('111').set_text('B\\n%d' % B)\n",
      "plt.title('Filtered mRNAseq\\n(only genes with orthology to UniProt genes)')"
     ],
     "language": "python",
     "metadata": {},
     "outputs": [
      {
       "metadata": {},
       "output_type": "pyout",
       "prompt_number": 99,
       "text": [
        "<matplotlib.text.Text at 0x2acbab7bf990>"
       ]
      },
      {
       "metadata": {},
       "output_type": "display_data",
       "png": "[encoded data removed]",
       "text": [
        "<matplotlib.figure.Figure at 0x2acbab752f50>"
       ]
      }
     ],
     "prompt_number": 99
    },
    {
     "cell_type": "code",
     "collapsed": false,
     "input": [
      "from screed.fasta import fasta_iter\n",
      "\n",
      "missing_genes = rna_seq_set - B_set\n",
      "with open('../outputs/rna/pacbio/galGal4/global_merged.fa.clean.nr.renamed.fasta.annot') as rna_seqs:\n",
      "    with open('../outputs/rna/pacbio/galGal4/missing.fa', 'w') as f:\n",
      "        for seq in fasta_iter(rna_seqs):\n",
      "            if seq['name'] in missing_genes:\n",
      "                f.write(\">%s %s\\n%s\\n\" % (seq['name'], seq['description'], seq['sequence']))"
     ],
     "language": "python",
     "metadata": {},
     "outputs": [],
     "prompt_number": 104
    }
   ],
   "metadata": {}
  }
 ]
}