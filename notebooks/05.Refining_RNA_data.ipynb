{
 "metadata": {
  "name": "",
  "signature": "sha256:d8db8923709007dcac53f2f55b0bcef9bde441a3ff0270a33ff81fd98de5ac0b"
 },
 "nbformat": 3,
 "nbformat_minor": 0,
 "worksheets": [
  {
   "cells": [
    {
     "cell_type": "heading",
     "level": 1,
     "metadata": {},
     "source": [
      "Testing ortho"
     ]
    },
    {
     "cell_type": "markdown",
     "metadata": {},
     "source": [
      "- First, see if Likit has putative ortholog assignments between the chick RNAseq and human proteins.  If not, the eel-pond protocol has some instructions on how to calculate this.  Might take a few days.  Then, we can recalculate the Venn diagram with a better curated set of mRNAseq transcripts, and also give people (Jerry in particular) the gene names that are in A, C, and D.\n",
      "\n",
      "  - Likit: I only have homologs of chick RNASeq and human proteins of differential-expressed genes, which total ~1000 genes as of now.\n",
      "\n",
      "  - Main goal right now: how many \"real\" mRNAseq genes, i.e. genes with orthology\n",
      "    to human, do/do not match in the genome?  Nic has done exactly this analysis\n",
      "    for fungus."
     ]
    },
    {
     "cell_type": "code",
     "collapsed": false,
     "input": [
      "%matplotlib inline\n",
      "from matplotlib import pyplot as plt\n",
      "from matplotlib_venn import venn3, venn3_circles"
     ],
     "language": "python",
     "metadata": {},
     "outputs": [],
     "prompt_number": 1
    },
    {
     "cell_type": "heading",
     "level": 2,
     "metadata": {},
     "source": [
      "Preparing all RNA data"
     ]
    },
    {
     "cell_type": "code",
     "collapsed": false,
     "input": [
      "!ls ../inputs/chicken_transcripts/"
     ],
     "language": "python",
     "metadata": {},
     "outputs": [
      {
       "output_type": "stream",
       "stream": "stdout",
       "text": [
        "global_merged.fa  global_merged.fa.clean.nr  global_merged.fa.clean.nr_screed\r\n"
       ]
      }
     ],
     "prompt_number": 1
    },
    {
     "cell_type": "code",
     "collapsed": false,
     "input": [
      "!mkdir -p ../outputs/chicken_transcripts\n",
      "!cp ../{inputs,outputs}/chicken_transcripts/global_merged.fa.clean.nr"
     ],
     "language": "python",
     "metadata": {},
     "outputs": [],
     "prompt_number": 3
    },
    {
     "cell_type": "code",
     "collapsed": false,
     "input": [
      "!cd ../outputs/chicken_transcripts && do-partition.py -x 1e10 -N 4 --threads 4 chick_rna global_merged.fa.clean.nr"
     ],
     "language": "python",
     "metadata": {},
     "outputs": [
      {
       "output_type": "stream",
       "stream": "stdout",
       "text": [
        "\r\n",
        "|| This is the script 'do-partition.py' in khmer.\r\n",
        "|| You are running khmer version 1.0-dirty\r\n",
        "|| You are also using screed version 0.7\r\n",
        "||\r\n",
        "|| If you use this script in a publication, please cite EACH of the following:\r\n",
        "||\r\n",
        "||   * MR Crusoe et al., 2014. doi: 10.6084/m9.figshare.979190\r\n",
        "||   * J Pell et al., PNAS, 2014 (PMID 22847406)\r\n",
        "||\r\n",
        "|| Please see the CITATION file for details.\r\n",
        "\r\n",
        "\r\n",
        "PARAMETERS:\r\n",
        " - kmer size =    32 \t\t(-k)\r\n",
        " - n tables =     4 \t\t(-N)\r\n",
        " - min tablesize = 1e+10 \t(-x)\r\n",
        "\r\n",
        "Estimated memory usage is 5e+09 bytes (n_tables x min_tablesize / 8)\r\n",
        "--------\r\n",
        "Saving k-mer presence table to chick_rna\r\n",
        "Loading kmers from sequences in ['global_merged.fa.clean.nr']\r\n",
        "--\r\n",
        "SUBSET SIZE 100000\r\n",
        "N THREADS 4\r\n",
        "--\r\n",
        "making k-mer presence table\r\n"
       ]
      },
      {
       "output_type": "stream",
       "stream": "stdout",
       "text": [
        "consuming input global_merged.fa.clean.nr\r\n"
       ]
      },
      {
       "output_type": "stream",
       "stream": "stdout",
       "text": [
        "fp rate estimated to be 0.000\r\n",
        "** Traverse all the things: stop_big_traversals is false.\r\n"
       ]
      },
      {
       "output_type": "stream",
       "stream": "stdout",
       "text": [
        "enqueued 24 subset tasks\r\n",
        "starting 24 threads\r\n",
        "---\r\n"
       ]
      },
      {
       "output_type": "stream",
       "stream": "stdout",
       "text": [
        "starting: chick_rna 0\r\n",
        "starting: chick_rnastarting: starting: starting: starting: starting: starting: chick_rnastarting: chick_rnachick_rnastarting:  1starting:  chick_rna9chick_rna 6chick_rna\r\n",
        "  4\r\n",
        "chick_rna 7\r\n",
        "5\r\n",
        "\r\n",
        "\r\n",
        " starting: chick_rna10  3 \r\n",
        "chick_rnachick_rna \r\n",
        " 82\r\n",
        "\r\n",
        "11\r\n",
        "starting: chick_rna 12\r\n",
        "starting: chick_rna 13\r\n",
        "starting: chick_rna 14\r\n",
        "starting: chick_rna 15\r\n",
        "starting: chick_rna 16\r\n",
        "starting: chick_rna 17\r\n",
        "starting: chick_rna 18\r\n"
       ]
      },
      {
       "output_type": "stream",
       "stream": "stdout",
       "text": [
        "starting: chick_rna 19\r\n",
        "starting: chick_rna 20\r\n",
        "starting: chick_rna 21\r\n",
        "starting: chick_rna 22\r\n",
        "done starting threads\r\n",
        "starting: chick_rna 23\r\n"
       ]
      },
      {
       "output_type": "stream",
       "stream": "stdout",
       "text": [
        "saving: chick_rna 23\r\n"
       ]
      },
      {
       "output_type": "stream",
       "stream": "stdout",
       "text": [
        "exiting\r\n"
       ]
      },
      {
       "output_type": "stream",
       "stream": "stdout",
       "text": [
        "...subset-part 11387458923063776822-12365781638151502618: 100000 <- 82162\r\n",
        "saving: chick_rna 21\r\n"
       ]
      },
      {
       "output_type": "stream",
       "stream": "stdout",
       "text": [
        "exiting\r\n"
       ]
      },
      {
       "output_type": "stream",
       "stream": "stdout",
       "text": [
        "...subset-part 12365781638151502618-14952903455444444558: 100000 <- 82308\r\n",
        "saving: chick_rna 22\r\n"
       ]
      },
      {
       "output_type": "stream",
       "stream": "stdout",
       "text": [
        "exiting\r\n"
       ]
      },
      {
       "output_type": "stream",
       "stream": "stdout",
       "text": [
        "...subset-part 9623407754336171674-10346220413045743106: 100000 <- 85598\r\n",
        "saving: chick_rna 19\r\n"
       ]
      },
      {
       "output_type": "stream",
       "stream": "stdout",
       "text": [
        "...subset-part 7469112752205571742-8293951506219918730: 100000 <- 85826\r\n",
        "saving: chick_rna 16\r\n"
       ]
      },
      {
       "output_type": "stream",
       "stream": "stdout",
       "text": [
        "exiting\r\n"
       ]
      },
      {
       "output_type": "stream",
       "stream": "stdout",
       "text": [
        "exiting\r\n"
       ]
      },
      {
       "output_type": "stream",
       "stream": "stdout",
       "text": [
        "...subset-part 1658844840242791984-2144438498467839238: 100000 <- 85688\r\n",
        "saving: chick_rna 5\r\n"
       ]
      },
      {
       "output_type": "stream",
       "stream": "stdout",
       "text": [
        "exiting\r\n"
       ]
      },
      {
       "output_type": "stream",
       "stream": "stdout",
       "text": [
        "...subset-part 10346220413045743106-11387458923063776822: 100000 <- 86825\r\n",
        "saving: chick_rna 20\r\n"
       ]
      },
      {
       "output_type": "stream",
       "stream": "stdout",
       "text": [
        "...subset-part 4100357578492272937-4568666954935214814: 100000 <- 85498\r\n"
       ]
      },
      {
       "output_type": "stream",
       "stream": "stdout",
       "text": [
        "exiting\r\n",
        " saving: chick_rna 10\r\n"
       ]
      },
      {
       "output_type": "stream",
       "stream": "stdout",
       "text": [
        "exiting\r\n"
       ]
      },
      {
       "output_type": "stream",
       "stream": "stdout",
       "text": [
        "...subset-part 3651522090524221891-4100357578492272937: 100000 <- 87085\r\n",
        "saving: chick_rna 9\r\n"
       ]
      },
      {
       "output_type": "stream",
       "stream": "stdout",
       "text": [
        "exiting\r\n"
       ]
      },
      {
       "output_type": "stream",
       "stream": "stdout",
       "text": [
        "...subset-part 8838167936561326947-9623407754336171674: 100000 <- 85888\r\n",
        "saving: chick_rna 18\r\n"
       ]
      },
      {
       "output_type": "stream",
       "stream": "stdout",
       "text": [
        "exiting\r\n"
       ]
      },
      {
       "output_type": "stream",
       "stream": "stdout",
       "text": [
        "...subset-part 2540677669633971824-2998780665272668775: 100000 <- 87064\r\n",
        "saving: chick_rna 7\r\n"
       ]
      },
      {
       "output_type": "stream",
       "stream": "stdout",
       "text": [
        "exiting\r\n"
       ]
      },
      {
       "output_type": "stream",
       "stream": "stdout",
       "text": [
        "...subset-part 8293951506219918730-8838167936561326947: 100000 <- 86258\r\n",
        "saving: chick_rna 17\r\n"
       ]
      },
      {
       "output_type": "stream",
       "stream": "stdout",
       "text": [
        "exiting\r\n"
       ]
      },
      {
       "output_type": "stream",
       "stream": "stdout",
       "text": [
        "...subset-part 6924533334413435836-7469112752205571742: 100000 <- 86253\r\n",
        "saving: chick_rna 15\r\n"
       ]
      },
      {
       "output_type": "stream",
       "stream": "stdout",
       "text": [
        "exiting\r\n"
       ]
      },
      {
       "output_type": "stream",
       "stream": "stdout",
       "text": [
        "...subset-part 6372967790940774418-6924533334413435836: 100000 <- 86498\r\n",
        "saving: chick_rna 14\r\n"
       ]
      },
      {
       "output_type": "stream",
       "stream": "stdout",
       "text": [
        "...subset-part 1217101929279536231-1658844840242791984: 100000 <- 85102\r\n",
        "saving: chick_rna 4\r\n"
       ]
      },
      {
       "output_type": "stream",
       "stream": "stdout",
       "text": [
        "exiting\r\n"
       ]
      },
      {
       "output_type": "stream",
       "stream": "stdout",
       "text": [
        " exiting\r\n"
       ]
      },
      {
       "output_type": "stream",
       "stream": "stdout",
       "text": [
        "...subset-part 2998780665272668775-3651522090524221891: 100000 <- 86140\r\n",
        "saving: chick_rna 8\r\n"
       ]
      },
      {
       "output_type": "stream",
       "stream": "stdout",
       "text": [
        "exiting\r\n"
       ]
      },
      {
       "output_type": "stream",
       "stream": "stdout",
       "text": [
        "...subset-part 2144438498467839238-2540677669633971824: 100000 <- 86171\r\n",
        "saving: chick_rna 6\r\n"
       ]
      },
      {
       "output_type": "stream",
       "stream": "stdout",
       "text": [
        "exiting\r\n"
       ]
      },
      {
       "output_type": "stream",
       "stream": "stdout",
       "text": [
        "...subset-part 5188519471860631576-5980847930645956818: 100000 <- 86462\r\n",
        "saving: chick_rna 12\r\n"
       ]
      },
      {
       "output_type": "stream",
       "stream": "stdout",
       "text": [
        "exiting\r\n"
       ]
      },
      {
       "output_type": "stream",
       "stream": "stdout",
       "text": [
        "...subset-part 870696019245508114-1217101929279536231: 100000 <- 86146\r\n",
        "saving: chick_rna 3\r\n"
       ]
      },
      {
       "output_type": "stream",
       "stream": "stdout",
       "text": [
        "exiting\r\n"
       ]
      },
      {
       "output_type": "stream",
       "stream": "stdout",
       "text": [
        "...subset-part 4568666954935214814-5188519471860631576: 100000 <- 85670\r\n",
        "saving: chick_rna 11\r\n"
       ]
      },
      {
       "output_type": "stream",
       "stream": "stdout",
       "text": [
        "exiting\r\n"
       ]
      },
      {
       "output_type": "stream",
       "stream": "stdout",
       "text": [
        "...subset-part 471252599398885518-870696019245508114: 100000 <- 86147\r\n",
        "saving: chick_rna 2\r\n"
       ]
      },
      {
       "output_type": "stream",
       "stream": "stdout",
       "text": [
        "exiting\r\n"
       ]
      },
      {
       "output_type": "stream",
       "stream": "stdout",
       "text": [
        "...subset-part 161003717381596016-471252599398885518: 100000 <- 85471\r\n",
        "saving: chick_rna 1\r\n"
       ]
      },
      {
       "output_type": "stream",
       "stream": "stdout",
       "text": [
        "exiting\r\n"
       ]
      },
      {
       "output_type": "stream",
       "stream": "stdout",
       "text": [
        "...subset-part 5980847930645956818-6372967790940774418: 100000 <- 84400\r\n",
        "saving: chick_rna 13\r\n"
       ]
      },
      {
       "output_type": "stream",
       "stream": "stdout",
       "text": [
        "exiting\r\n"
       ]
      },
      {
       "output_type": "stream",
       "stream": "stdout",
       "text": [
        "...subset-part 0-161003717381596016: 100000 <- 78749\r\n",
        "saving: chick_rna 0\r\n"
       ]
      },
      {
       "output_type": "stream",
       "stream": "stdout",
       "text": [
        "exiting\r\n",
        "---\r\n",
        "done making subsets! see chick_rna.subset.*.pmap\r\n"
       ]
      },
      {
       "output_type": "stream",
       "stream": "stdout",
       "text": [
        "loading 24 pmap files (first one: chick_rna.subset.9.pmap)\r\n"
       ]
      },
      {
       "output_type": "stream",
       "stream": "stdout",
       "text": [
        "merging chick_rna.subset.9.pmap\r\n"
       ]
      },
      {
       "output_type": "stream",
       "stream": "stdout",
       "text": [
        "merging chick_rna.subset.21.pmap\r\n"
       ]
      },
      {
       "output_type": "stream",
       "stream": "stdout",
       "text": [
        "merging chick_rna.subset.10.pmap\r\n"
       ]
      },
      {
       "output_type": "stream",
       "stream": "stdout",
       "text": [
        "merging chick_rna.subset.0.pmap\r\n"
       ]
      },
      {
       "output_type": "stream",
       "stream": "stdout",
       "text": [
        "merging chick_rna.subset.7.pmap\r\n"
       ]
      },
      {
       "output_type": "stream",
       "stream": "stdout",
       "text": [
        "merging chick_rna.subset.2.pmap\r\n"
       ]
      },
      {
       "output_type": "stream",
       "stream": "stdout",
       "text": [
        "merging chick_rna.subset.18.pmap\r\n"
       ]
      },
      {
       "output_type": "stream",
       "stream": "stdout",
       "text": [
        "merging chick_rna.subset.1.pmap\r\n"
       ]
      },
      {
       "output_type": "stream",
       "stream": "stdout",
       "text": [
        "merging chick_rna.subset.6.pmap\r\n"
       ]
      },
      {
       "output_type": "stream",
       "stream": "stdout",
       "text": [
        "merging chick_rna.subset.5.pmap\r\n"
       ]
      },
      {
       "output_type": "stream",
       "stream": "stdout",
       "text": [
        "merging chick_rna.subset.14.pmap\r\n"
       ]
      },
      {
       "output_type": "stream",
       "stream": "stdout",
       "text": [
        "merging chick_rna.subset.12.pmap\r\n"
       ]
      },
      {
       "output_type": "stream",
       "stream": "stdout",
       "text": [
        "merging chick_rna.subset.4.pmap\r\n"
       ]
      },
      {
       "output_type": "stream",
       "stream": "stdout",
       "text": [
        "merging chick_rna.subset.3.pmap\r\n"
       ]
      },
      {
       "output_type": "stream",
       "stream": "stdout",
       "text": [
        "merging chick_rna.subset.16.pmap\r\n"
       ]
      },
      {
       "output_type": "stream",
       "stream": "stdout",
       "text": [
        "merging chick_rna.subset.22.pmap\r\n"
       ]
      },
      {
       "output_type": "stream",
       "stream": "stdout",
       "text": [
        "merging chick_rna.subset.11.pmap\r\n"
       ]
      },
      {
       "output_type": "stream",
       "stream": "stdout",
       "text": [
        "merging chick_rna.subset.15.pmap\r\n"
       ]
      },
      {
       "output_type": "stream",
       "stream": "stdout",
       "text": [
        "merging chick_rna.subset.23.pmap\r\n"
       ]
      },
      {
       "output_type": "stream",
       "stream": "stdout",
       "text": [
        "merging chick_rna.subset.8.pmap\r\n"
       ]
      },
      {
       "output_type": "stream",
       "stream": "stdout",
       "text": [
        "merging chick_rna.subset.17.pmap\r\n"
       ]
      },
      {
       "output_type": "stream",
       "stream": "stdout",
       "text": [
        "merging chick_rna.subset.13.pmap\r\n"
       ]
      },
      {
       "output_type": "stream",
       "stream": "stdout",
       "text": [
        "merging chick_rna.subset.20.pmap\r\n"
       ]
      },
      {
       "output_type": "stream",
       "stream": "stdout",
       "text": [
        "merging chick_rna.subset.19.pmap\r\n"
       ]
      },
      {
       "output_type": "stream",
       "stream": "stdout",
       "text": [
        "removing pmap files\r\n"
       ]
      },
      {
       "output_type": "stream",
       "stream": "stdout",
       "text": [
        "outputting partitions for global_merged.fa.clean.nr\r\n"
       ]
      },
      {
       "output_type": "stream",
       "stream": "stdout",
       "text": [
        "... output_partitions 100000 0\r\n"
       ]
      },
      {
       "output_type": "stream",
       "stream": "stdout",
       "text": [
        "... output_partitions 200000 0\r\n"
       ]
      },
      {
       "output_type": "stream",
       "stream": "stdout",
       "text": [
        "... output_partitions 300000 0\r\n"
       ]
      },
      {
       "output_type": "stream",
       "stream": "stdout",
       "text": [
        "output 79967 partitions for global_merged.fa.clean.nr\r\n",
        "partitions are in global_merged.fa.clean.nr.part\r\n"
       ]
      }
     ],
     "prompt_number": 4
    },
    {
     "cell_type": "code",
     "collapsed": false,
     "input": [
      "!cd ../outputs/chicken_transcripts && python ../../scripts/rename-with-partitions.py chick_rna global_merged.fa.clean.nr"
     ],
     "language": "python",
     "metadata": {},
     "outputs": [
      {
       "output_type": "stream",
       "stream": "stdout",
       "text": [
        "... 0\r\n"
       ]
      },
      {
       "output_type": "stream",
       "stream": "stdout",
       "text": [
        "... 10000\r\n"
       ]
      },
      {
       "output_type": "stream",
       "stream": "stdout",
       "text": [
        "... 20000\r\n"
       ]
      },
      {
       "output_type": "stream",
       "stream": "stdout",
       "text": [
        "... 30000\r\n"
       ]
      },
      {
       "output_type": "stream",
       "stream": "stdout",
       "text": [
        "... 40000\r\n"
       ]
      },
      {
       "output_type": "stream",
       "stream": "stdout",
       "text": [
        "... 50000\r\n"
       ]
      },
      {
       "output_type": "stream",
       "stream": "stdout",
       "text": [
        "... 60000\r\n"
       ]
      },
      {
       "output_type": "stream",
       "stream": "stdout",
       "text": [
        "... 70000\r\n"
       ]
      },
      {
       "output_type": "stream",
       "stream": "stdout",
       "text": [
        "... 80000\r\n"
       ]
      },
      {
       "output_type": "stream",
       "stream": "stdout",
       "text": [
        "... 90000\r\n"
       ]
      },
      {
       "output_type": "stream",
       "stream": "stdout",
       "text": [
        "... 100000\r\n"
       ]
      },
      {
       "output_type": "stream",
       "stream": "stdout",
       "text": [
        "... 110000\r\n"
       ]
      },
      {
       "output_type": "stream",
       "stream": "stdout",
       "text": [
        "... 120000\r\n"
       ]
      },
      {
       "output_type": "stream",
       "stream": "stdout",
       "text": [
        "... 130000\r\n"
       ]
      },
      {
       "output_type": "stream",
       "stream": "stdout",
       "text": [
        "... 140000\r\n"
       ]
      },
      {
       "output_type": "stream",
       "stream": "stdout",
       "text": [
        "... 150000\r\n"
       ]
      },
      {
       "output_type": "stream",
       "stream": "stdout",
       "text": [
        "... 160000\r\n"
       ]
      },
      {
       "output_type": "stream",
       "stream": "stdout",
       "text": [
        "... 170000\r\n"
       ]
      },
      {
       "output_type": "stream",
       "stream": "stdout",
       "text": [
        "... 180000\r\n"
       ]
      },
      {
       "output_type": "stream",
       "stream": "stdout",
       "text": [
        "... 190000\r\n"
       ]
      },
      {
       "output_type": "stream",
       "stream": "stdout",
       "text": [
        "... 200000\r\n"
       ]
      },
      {
       "output_type": "stream",
       "stream": "stdout",
       "text": [
        "... 210000\r\n"
       ]
      },
      {
       "output_type": "stream",
       "stream": "stdout",
       "text": [
        "... 220000\r\n"
       ]
      },
      {
       "output_type": "stream",
       "stream": "stdout",
       "text": [
        "... 230000\r\n"
       ]
      },
      {
       "output_type": "stream",
       "stream": "stdout",
       "text": [
        "... 240000\r\n"
       ]
      },
      {
       "output_type": "stream",
       "stream": "stdout",
       "text": [
        "... 250000\r\n"
       ]
      },
      {
       "output_type": "stream",
       "stream": "stdout",
       "text": [
        "... 260000\r\n"
       ]
      },
      {
       "output_type": "stream",
       "stream": "stdout",
       "text": [
        "... 270000\r\n"
       ]
      },
      {
       "output_type": "stream",
       "stream": "stdout",
       "text": [
        "... 280000\r\n"
       ]
      },
      {
       "output_type": "stream",
       "stream": "stdout",
       "text": [
        "... 290000\r\n"
       ]
      },
      {
       "output_type": "stream",
       "stream": "stdout",
       "text": [
        "... 300000\r\n"
       ]
      },
      {
       "output_type": "stream",
       "stream": "stdout",
       "text": [
        "... 310000\r\n"
       ]
      },
      {
       "output_type": "stream",
       "stream": "stdout",
       "text": [
        "... 320000\r\n"
       ]
      },
      {
       "output_type": "stream",
       "stream": "stdout",
       "text": [
        "... 330000\r\n"
       ]
      },
      {
       "output_type": "stream",
       "stream": "stdout",
       "text": [
        "... 340000\r\n"
       ]
      },
      {
       "output_type": "stream",
       "stream": "stdout",
       "text": [
        "... 350000\r\n"
       ]
      },
      {
       "output_type": "stream",
       "stream": "stdout",
       "text": [
        "... 360000\r\n"
       ]
      },
      {
       "output_type": "stream",
       "stream": "stdout",
       "text": [
        "... 370000\r\n"
       ]
      },
      {
       "output_type": "stream",
       "stream": "stdout",
       "text": [
        "... 380000\r\n"
       ]
      },
      {
       "output_type": "stream",
       "stream": "stdout",
       "text": [
        "... 390000\r\n"
       ]
      },
      {
       "output_type": "stream",
       "stream": "stdout",
       "text": [
        "... 400000\r\n"
       ]
      },
      {
       "output_type": "stream",
       "stream": "stdout",
       "text": [
        "... 410000\r\n"
       ]
      },
      {
       "output_type": "stream",
       "stream": "stdout",
       "text": [
        "---------------\r\n",
        "partition, size\r\n"
       ]
      },
      {
       "output_type": "stream",
       "stream": "stdout",
       "text": [
        "0 1\r\n",
        "1 1\r\n",
        "2 1\r\n",
        "3 1\r\n",
        "4 1\r\n",
        "5 1\r\n",
        "6 1\r\n",
        "7 1\r\n",
        "8 1\r\n",
        "9 1\r\n",
        "10 1\r\n"
       ]
      },
      {
       "output_type": "stream",
       "stream": "stdout",
       "text": [
        "---------------\r\n",
        "creating global_merged.fa.clean.nr.renamed.fasta.gz\r\n",
        "...writing 0\r\n"
       ]
      },
      {
       "output_type": "stream",
       "stream": "stdout",
       "text": [
        "...writing 10000\r\n"
       ]
      },
      {
       "output_type": "stream",
       "stream": "stdout",
       "text": [
        "...writing 20000\r\n"
       ]
      },
      {
       "output_type": "stream",
       "stream": "stdout",
       "text": [
        "...writing 30000\r\n"
       ]
      },
      {
       "output_type": "stream",
       "stream": "stdout",
       "text": [
        "...writing 40000\r\n"
       ]
      },
      {
       "output_type": "stream",
       "stream": "stdout",
       "text": [
        "...writing 50000\r\n"
       ]
      },
      {
       "output_type": "stream",
       "stream": "stdout",
       "text": [
        "...writing 60000\r\n"
       ]
      },
      {
       "output_type": "stream",
       "stream": "stdout",
       "text": [
        "...writing 70000\r\n"
       ]
      },
      {
       "output_type": "stream",
       "stream": "stdout",
       "text": [
        "...writing 80000\r\n"
       ]
      },
      {
       "output_type": "stream",
       "stream": "stdout",
       "text": [
        "...writing 90000\r\n"
       ]
      },
      {
       "output_type": "stream",
       "stream": "stdout",
       "text": [
        "...writing 100000\r\n"
       ]
      },
      {
       "output_type": "stream",
       "stream": "stdout",
       "text": [
        "...writing 110000\r\n"
       ]
      },
      {
       "output_type": "stream",
       "stream": "stdout",
       "text": [
        "...writing 120000\r\n"
       ]
      },
      {
       "output_type": "stream",
       "stream": "stdout",
       "text": [
        "...writing 130000\r\n"
       ]
      },
      {
       "output_type": "stream",
       "stream": "stdout",
       "text": [
        "...writing 140000\r\n"
       ]
      },
      {
       "output_type": "stream",
       "stream": "stdout",
       "text": [
        "...writing 150000\r\n"
       ]
      },
      {
       "output_type": "stream",
       "stream": "stdout",
       "text": [
        "...writing 160000\r\n"
       ]
      },
      {
       "output_type": "stream",
       "stream": "stdout",
       "text": [
        "...writing 170000\r\n"
       ]
      },
      {
       "output_type": "stream",
       "stream": "stdout",
       "text": [
        "...writing 180000\r\n"
       ]
      },
      {
       "output_type": "stream",
       "stream": "stdout",
       "text": [
        "...writing 190000\r\n"
       ]
      },
      {
       "output_type": "stream",
       "stream": "stdout",
       "text": [
        "...writing 200000\r\n"
       ]
      },
      {
       "output_type": "stream",
       "stream": "stdout",
       "text": [
        "...writing 210000\r\n"
       ]
      },
      {
       "output_type": "stream",
       "stream": "stdout",
       "text": [
        "...writing 220000\r\n"
       ]
      },
      {
       "output_type": "stream",
       "stream": "stdout",
       "text": [
        "...writing 230000\r\n"
       ]
      },
      {
       "output_type": "stream",
       "stream": "stdout",
       "text": [
        "...writing 240000\r\n"
       ]
      },
      {
       "output_type": "stream",
       "stream": "stdout",
       "text": [
        "...writing 250000\r\n"
       ]
      },
      {
       "output_type": "stream",
       "stream": "stdout",
       "text": [
        "...writing 260000\r\n"
       ]
      },
      {
       "output_type": "stream",
       "stream": "stdout",
       "text": [
        "...writing 270000\r\n"
       ]
      },
      {
       "output_type": "stream",
       "stream": "stdout",
       "text": [
        "...writing 280000\r\n"
       ]
      },
      {
       "output_type": "stream",
       "stream": "stdout",
       "text": [
        "...writing 290000\r\n"
       ]
      },
      {
       "output_type": "stream",
       "stream": "stdout",
       "text": [
        "...writing 300000\r\n"
       ]
      },
      {
       "output_type": "stream",
       "stream": "stdout",
       "text": [
        "...writing 310000\r\n"
       ]
      },
      {
       "output_type": "stream",
       "stream": "stdout",
       "text": [
        "...writing 320000\r\n"
       ]
      },
      {
       "output_type": "stream",
       "stream": "stdout",
       "text": [
        "...writing 330000\r\n"
       ]
      },
      {
       "output_type": "stream",
       "stream": "stdout",
       "text": [
        "...writing 340000\r\n"
       ]
      },
      {
       "output_type": "stream",
       "stream": "stdout",
       "text": [
        "...writing 350000\r\n"
       ]
      },
      {
       "output_type": "stream",
       "stream": "stdout",
       "text": [
        "...writing 360000\r\n"
       ]
      },
      {
       "output_type": "stream",
       "stream": "stdout",
       "text": [
        "...writing 370000\r\n"
       ]
      },
      {
       "output_type": "stream",
       "stream": "stdout",
       "text": [
        "...writing 380000\r\n"
       ]
      },
      {
       "output_type": "stream",
       "stream": "stdout",
       "text": [
        "...writing 390000\r\n"
       ]
      },
      {
       "output_type": "stream",
       "stream": "stdout",
       "text": [
        "...writing 400000\r\n"
       ]
      },
      {
       "output_type": "stream",
       "stream": "stdout",
       "text": [
        "...writing 410000\r\n"
       ]
      },
      {
       "output_type": "stream",
       "stream": "stdout",
       "text": [
        "total sequences: 419277\r\n",
        "total transcript families: 419277\r\n"
       ]
      }
     ],
     "prompt_number": 5
    },
    {
     "cell_type": "code",
     "collapsed": false,
     "input": [
      "!cd ../outputs/chicken_transcripts && gunzip -f global_merged.fa.clean.nr.renamed.fasta.gz"
     ],
     "language": "python",
     "metadata": {},
     "outputs": [],
     "prompt_number": 6
    },
    {
     "cell_type": "code",
     "collapsed": false,
     "input": [
      "!cd ../outputs/chicken_transcripts && formatdb -i global_merged.fa.clean.nr.renamed.fasta -o T -p F"
     ],
     "language": "python",
     "metadata": {},
     "outputs": [],
     "prompt_number": 2
    },
    {
     "cell_type": "heading",
     "level": 2,
     "metadata": {},
     "source": [
      "Preparing 'only in RNA' data"
     ]
    },
    {
     "cell_type": "code",
     "collapsed": false,
     "input": [
      "!mkdir -p ../outputs/rna"
     ],
     "language": "python",
     "metadata": {},
     "outputs": [],
     "prompt_number": 1
    },
    {
     "cell_type": "code",
     "collapsed": false,
     "input": [
      "!cd ../outputs/rna/ && do-partition.py -x 1e10 -N 4 --threads 4 chick_rna only_rna.fa"
     ],
     "language": "python",
     "metadata": {},
     "outputs": [
      {
       "output_type": "stream",
       "stream": "stdout",
       "text": [
        "\r\n",
        "|| This is the script 'do-partition.py' in khmer.\r\n",
        "|| You are running khmer version 1.0-dirty\r\n",
        "|| You are also using screed version 0.7\r\n",
        "||\r\n",
        "|| If you use this script in a publication, please cite EACH of the following:\r\n",
        "||\r\n",
        "||   * MR Crusoe et al., 2014. doi: 10.6084/m9.figshare.979190\r\n",
        "||   * J Pell et al., PNAS, 2014 (PMID 22847406)\r\n",
        "||\r\n",
        "|| Please see the CITATION file for details.\r\n",
        "\r\n",
        "\r\n",
        "PARAMETERS:\r\n",
        " - kmer size =    32 \t\t(-k)\r\n",
        " - n tables =     4 \t\t(-N)\r\n",
        " - min tablesize = 1e+10 \t(-x)\r\n",
        "\r\n",
        "Estimated memory usage is 5e+09 bytes (n_tables x min_tablesize / 8)\r\n",
        "--------\r\n",
        "Saving k-mer presence table to chick_rna\r\n",
        "Loading kmers from sequences in ['only_rna.fa']\r\n",
        "--\r\n",
        "SUBSET SIZE 100000\r\n",
        "N THREADS 4\r\n",
        "--\r\n",
        "making k-mer presence table\r\n"
       ]
      },
      {
       "output_type": "stream",
       "stream": "stdout",
       "text": [
        "consuming input only_rna.fa\r\n"
       ]
      },
      {
       "output_type": "stream",
       "stream": "stdout",
       "text": [
        "fp rate estimated to be 0.000\r\n",
        "** Traverse all the things: stop_big_traversals is false.\r\n"
       ]
      },
      {
       "output_type": "stream",
       "stream": "stdout",
       "text": [
        "enqueued 5 subset tasks\r\n",
        "starting 5 threads\r\n",
        "---\r\n",
        "starting: chick_rna 0\r\n",
        "starting: chick_rna 1\r\n",
        "starting: chick_rna 2\r\n",
        "starting: chick_rna 3\r\n",
        "done starting threads\r\n",
        "starting: chick_rna 4\r\n"
       ]
      },
      {
       "output_type": "stream",
       "stream": "stdout",
       "text": [
        "saving: chick_rna 4\r\n"
       ]
      },
      {
       "output_type": "stream",
       "stream": "stdout",
       "text": [
        "exiting\r\n"
       ]
      },
      {
       "output_type": "stream",
       "stream": "stdout",
       "text": [
        "...subset-part 0-2158756723823735773: 100000 <- 61912\r\n",
        "saving: chick_rna 0\r\n"
       ]
      },
      {
       "output_type": "stream",
       "stream": "stdout",
       "text": [
        "exiting\r\n"
       ]
      },
      {
       "output_type": "stream",
       "stream": "stdout",
       "text": [
        "...subset-part 4689650774654918483-8188399981275226890: 100000 <- 64474\r\n",
        "saving: chick_rna 2\r\n"
       ]
      },
      {
       "output_type": "stream",
       "stream": "stdout",
       "text": [
        "exiting\r\n"
       ]
      },
      {
       "output_type": "stream",
       "stream": "stdout",
       "text": [
        "...subset-part 2158756723823735773-4689650774654918483: 100000 <- 64124\r\n",
        "saving: chick_rna 1\r\n"
       ]
      },
      {
       "output_type": "stream",
       "stream": "stdout",
       "text": [
        "exiting\r\n"
       ]
      },
      {
       "output_type": "stream",
       "stream": "stdout",
       "text": [
        "...subset-part 8188399981275226890-11857480345320340719: 100000 <- 61415\r\n",
        "saving: chick_rna 3\r\n"
       ]
      },
      {
       "output_type": "stream",
       "stream": "stdout",
       "text": [
        "exiting\r\n",
        "---\r\n",
        "done making subsets! see chick_rna.subset.*.pmap\r\n",
        "loading 5 pmap files (first one: chick_rna.subset.0.pmap)\r\n"
       ]
      },
      {
       "output_type": "stream",
       "stream": "stdout",
       "text": [
        "merging chick_rna.subset.0.pmap\r\n"
       ]
      },
      {
       "output_type": "stream",
       "stream": "stdout",
       "text": [
        "merging chick_rna.subset.2.pmap\r\n"
       ]
      },
      {
       "output_type": "stream",
       "stream": "stdout",
       "text": [
        "merging chick_rna.subset.1.pmap\r\n"
       ]
      },
      {
       "output_type": "stream",
       "stream": "stdout",
       "text": [
        "merging chick_rna.subset.4.pmap\r\n"
       ]
      },
      {
       "output_type": "stream",
       "stream": "stdout",
       "text": [
        "merging chick_rna.subset.3.pmap\r\n"
       ]
      },
      {
       "output_type": "stream",
       "stream": "stdout",
       "text": [
        "removing pmap files\r\n"
       ]
      },
      {
       "output_type": "stream",
       "stream": "stdout",
       "text": [
        "outputting partitions for only_rna.fa\r\n"
       ]
      },
      {
       "output_type": "stream",
       "stream": "stdout",
       "text": [
        "... output_partitions 100000 0\r\n"
       ]
      },
      {
       "output_type": "stream",
       "stream": "stdout",
       "text": [
        "output 58617 partitions for only_rna.fa\r\n",
        "partitions are in only_rna.fa.part\r\n"
       ]
      }
     ],
     "prompt_number": 13
    },
    {
     "cell_type": "code",
     "collapsed": false,
     "input": [
      "!cd ../outputs/rna && python ../../scripts/rename-with-partitions.py chick_rna only_rna.fa"
     ],
     "language": "python",
     "metadata": {},
     "outputs": [
      {
       "output_type": "stream",
       "stream": "stdout",
       "text": [
        "... 0\r\n"
       ]
      },
      {
       "output_type": "stream",
       "stream": "stdout",
       "text": [
        "... 10000\r\n"
       ]
      },
      {
       "output_type": "stream",
       "stream": "stdout",
       "text": [
        "... 20000\r\n"
       ]
      },
      {
       "output_type": "stream",
       "stream": "stdout",
       "text": [
        "... 30000\r\n"
       ]
      },
      {
       "output_type": "stream",
       "stream": "stdout",
       "text": [
        "... 40000\r\n"
       ]
      },
      {
       "output_type": "stream",
       "stream": "stdout",
       "text": [
        "... 50000\r\n"
       ]
      },
      {
       "output_type": "stream",
       "stream": "stdout",
       "text": [
        "... 60000\r\n"
       ]
      },
      {
       "output_type": "stream",
       "stream": "stdout",
       "text": [
        "... 70000\r\n"
       ]
      },
      {
       "output_type": "stream",
       "stream": "stdout",
       "text": [
        "... 80000\r\n"
       ]
      },
      {
       "output_type": "stream",
       "stream": "stdout",
       "text": [
        "... 90000\r\n"
       ]
      },
      {
       "output_type": "stream",
       "stream": "stdout",
       "text": [
        "... 100000\r\n"
       ]
      },
      {
       "output_type": "stream",
       "stream": "stdout",
       "text": [
        "... 110000\r\n"
       ]
      },
      {
       "output_type": "stream",
       "stream": "stdout",
       "text": [
        "... 120000\r\n"
       ]
      },
      {
       "output_type": "stream",
       "stream": "stdout",
       "text": [
        "---------------\r\n",
        "partition, size\r\n"
       ]
      },
      {
       "output_type": "stream",
       "stream": "stdout",
       "text": [
        "0 1\r\n",
        "1 1\r\n",
        "2 1\r\n",
        "3 1\r\n",
        "4 1\r\n",
        "5 1\r\n",
        "6 1\r\n",
        "7 1\r\n",
        "8 1\r\n",
        "9 1\r\n",
        "10 1\r\n",
        "---------------\r\n",
        "creating only_rna.fa.renamed.fasta.gz\r\n",
        "...writing 0\r\n"
       ]
      },
      {
       "output_type": "stream",
       "stream": "stdout",
       "text": [
        "...writing 10000\r\n"
       ]
      },
      {
       "output_type": "stream",
       "stream": "stdout",
       "text": [
        "...writing 20000\r\n"
       ]
      },
      {
       "output_type": "stream",
       "stream": "stdout",
       "text": [
        "...writing 30000\r\n"
       ]
      },
      {
       "output_type": "stream",
       "stream": "stdout",
       "text": [
        "...writing 40000\r\n"
       ]
      },
      {
       "output_type": "stream",
       "stream": "stdout",
       "text": [
        "...writing 50000\r\n"
       ]
      },
      {
       "output_type": "stream",
       "stream": "stdout",
       "text": [
        "...writing 60000\r\n"
       ]
      },
      {
       "output_type": "stream",
       "stream": "stdout",
       "text": [
        "...writing 70000\r\n"
       ]
      },
      {
       "output_type": "stream",
       "stream": "stdout",
       "text": [
        "...writing 80000\r\n"
       ]
      },
      {
       "output_type": "stream",
       "stream": "stdout",
       "text": [
        "...writing 90000\r\n"
       ]
      },
      {
       "output_type": "stream",
       "stream": "stdout",
       "text": [
        "...writing 100000\r\n"
       ]
      },
      {
       "output_type": "stream",
       "stream": "stdout",
       "text": [
        "...writing 110000\r\n"
       ]
      },
      {
       "output_type": "stream",
       "stream": "stdout",
       "text": [
        "...writing 120000\r\n"
       ]
      },
      {
       "output_type": "stream",
       "stream": "stdout",
       "text": [
        "total sequences: 121301\r\n",
        "total transcript families: 121301\r\n"
       ]
      }
     ],
     "prompt_number": 25
    },
    {
     "cell_type": "code",
     "collapsed": false,
     "input": [
      "!cd ../outputs/rna && gunzip -f only_rna.fa.renamed.fasta.gz"
     ],
     "language": "python",
     "metadata": {},
     "outputs": [],
     "prompt_number": 27
    },
    {
     "cell_type": "code",
     "collapsed": false,
     "input": [
      "!cd ../outputs/rna && formatdb -i only_rna.fa.renamed.fasta -o T -p F"
     ],
     "language": "python",
     "metadata": {},
     "outputs": [],
     "prompt_number": 1
    },
    {
     "cell_type": "heading",
     "level": 2,
     "metadata": {},
     "source": [
      "Preparing Uniprot"
     ]
    },
    {
     "cell_type": "code",
     "collapsed": false,
     "input": [
      "!mkdir -p ../{inputs,outputs}/uniprot\n",
      "!cd ../inputs/uniprot && wget -c ftp://ftp.uniprot.org/pub/databases/uniprot/current_release/knowledgebase/complete/uniprot_sprot.fasta.gz\n",
      "!cp ../inputs/uniprot/uniprot_sprot.fasta.gz ../outputs/uniprot/\n",
      "!gunzip -f ../outputs/uniprot/uniprot_sprot.fasta.gz"
     ],
     "language": "python",
     "metadata": {},
     "outputs": [
      {
       "output_type": "stream",
       "stream": "stdout",
       "text": [
        "--2014-04-15 15:29:40--  ftp://ftp.uniprot.org/pub/databases/uniprot/current_release/knowledgebase/complete/uniprot_sprot.fasta.gz\r\n",
        "           => \u201cuniprot_sprot.fasta.gz\u201d\r\n",
        "Resolving ftp.uniprot.org... 141.161.180.197\r\n",
        "Connecting to ftp.uniprot.org|141.161.180.197|:21... connected.\r\n",
        "Logging in as anonymous ... "
       ]
      },
      {
       "output_type": "stream",
       "stream": "stdout",
       "text": [
        "Logged in!\r\n",
        "==> SYST ... done.    ==> PWD ... "
       ]
      },
      {
       "output_type": "stream",
       "stream": "stdout",
       "text": [
        "done.\r\n",
        "==> TYPE I ... done.  ==> CWD (1) /pub/databases/uniprot/current_release/knowledgebase/complete ... "
       ]
      },
      {
       "output_type": "stream",
       "stream": "stdout",
       "text": [
        "done.\r\n",
        "==> SIZE uniprot_sprot.fasta.gz ... 81579509\r\n",
        "==> PASV ... "
       ]
      },
      {
       "output_type": "stream",
       "stream": "stdout",
       "text": [
        "done.    ==> REST 81579509 ... done.    \r\n",
        "==> RETR uniprot_sprot.fasta.gz ... "
       ]
      },
      {
       "output_type": "stream",
       "stream": "stdout",
       "text": [
        "done.\r\n",
        "Length: 81579509 (78M), 0 remaining (unauthoritative)\r\n",
        "\r\n",
        "\r",
        "100%[+++++++++++++++++++++++++++++++++++++++] 81,579,509  --.-K/s              \r",
        "100%[+++++++++++++++++++++++++++++++++++++++] 81,579,509  --.-K/s   in 0s      \r\n",
        "\r\n",
        "2014-04-15 15:29:40 (0.00 B/s) - \u201cuniprot_sprot.fasta.gz\u201d saved [81579509]\r\n",
        "\r\n"
       ]
      }
     ],
     "prompt_number": 5
    },
    {
     "cell_type": "code",
     "collapsed": false,
     "input": [
      "!cd ../outputs/uniprot && formatdb -i uniprot_sprot.fasta -o T -p T"
     ],
     "language": "python",
     "metadata": {},
     "outputs": [],
     "prompt_number": 1
    },
    {
     "cell_type": "code",
     "collapsed": false,
     "input": [
      "!cd ../outputs/uniprot && python ../../scripts/make-namedb.py uniprot_sprot.fasta uniprot.namedb"
     ],
     "language": "python",
     "metadata": {},
     "outputs": [],
     "prompt_number": 2
    },
    {
     "cell_type": "code",
     "collapsed": false,
     "input": [
      "!cd ../outputs/uniprot && python -m screed.fadbm uniprot_sprot.fasta"
     ],
     "language": "python",
     "metadata": {},
     "outputs": [
      {
       "output_type": "stream",
       "stream": "stdout",
       "text": [
        "Database saved in uniprot_sprot.fasta_screed\r\n"
       ]
      }
     ],
     "prompt_number": 3
    },
    {
     "cell_type": "heading",
     "level": 3,
     "metadata": {},
     "source": [
      "Uniprot ortho"
     ]
    },
    {
     "cell_type": "code",
     "collapsed": false,
     "input": [
      "#!cd ../scripts && ./submit_blast_uniprot_chick.pbs\n",
      "#!cd ../scripts && ./submit_blast_chick_uniprot.pbs"
     ],
     "language": "python",
     "metadata": {},
     "outputs": [],
     "prompt_number": 4
    },
    {
     "cell_type": "code",
     "collapsed": false,
     "input": [
      "!cp ../workdir/results/uniprot.x.chick ../outputs/rna/uniprot.x.chick\n",
      "!cp ../workdir/results/chick.x.uniprot ../outputs/rna/chick.x.uniprot"
     ],
     "language": "python",
     "metadata": {},
     "outputs": [],
     "prompt_number": 8
    },
    {
     "cell_type": "code",
     "collapsed": false,
     "input": [
      "!cd ../outputs/rna && python ../../scripts/make-uni-best-hits.py chick.x.uniprot chick.x.uniprot.homol"
     ],
     "language": "python",
     "metadata": {},
     "outputs": [
      {
       "output_type": "stream",
       "stream": "stdout",
       "text": [
        "collecting best hits\r\n",
        "... 0\r\n"
       ]
      },
      {
       "output_type": "stream",
       "stream": "stdout",
       "text": [
        "... 10000\r\n"
       ]
      },
      {
       "output_type": "stream",
       "stream": "stdout",
       "text": [
        "... 20000\r\n"
       ]
      },
      {
       "output_type": "stream",
       "stream": "stdout",
       "text": [
        "... 30000\r\n"
       ]
      },
      {
       "output_type": "stream",
       "stream": "stdout",
       "text": [
        "... 40000\r\n"
       ]
      },
      {
       "output_type": "stream",
       "stream": "stdout",
       "text": [
        "... 50000\r\n"
       ]
      },
      {
       "output_type": "stream",
       "stream": "stdout",
       "text": [
        "... 60000\r\n"
       ]
      },
      {
       "output_type": "stream",
       "stream": "stdout",
       "text": [
        "... 70000\r\n"
       ]
      },
      {
       "output_type": "stream",
       "stream": "stdout",
       "text": [
        "... 80000\r\n"
       ]
      },
      {
       "output_type": "stream",
       "stream": "stdout",
       "text": [
        "... 90000\r\n"
       ]
      },
      {
       "output_type": "stream",
       "stream": "stdout",
       "text": [
        "... 100000\r\n"
       ]
      },
      {
       "output_type": "stream",
       "stream": "stdout",
       "text": [
        "... 110000\r\n"
       ]
      },
      {
       "output_type": "stream",
       "stream": "stdout",
       "text": [
        "... 120000\r\n"
       ]
      },
      {
       "output_type": "stream",
       "stream": "stdout",
       "text": [
        "... 130000\r\n"
       ]
      },
      {
       "output_type": "stream",
       "stream": "stdout",
       "text": [
        "... 140000\r\n"
       ]
      },
      {
       "output_type": "stream",
       "stream": "stdout",
       "text": [
        "... 150000\r\n"
       ]
      },
      {
       "output_type": "stream",
       "stream": "stdout",
       "text": [
        "... 160000\r\n"
       ]
      },
      {
       "output_type": "stream",
       "stream": "stdout",
       "text": [
        "... 170000\r\n"
       ]
      },
      {
       "output_type": "stream",
       "stream": "stdout",
       "text": [
        "... 180000\r\n"
       ]
      },
      {
       "output_type": "stream",
       "stream": "stdout",
       "text": [
        "... 190000\r\n"
       ]
      },
      {
       "output_type": "stream",
       "stream": "stdout",
       "text": [
        "... 200000\r\n"
       ]
      },
      {
       "output_type": "stream",
       "stream": "stdout",
       "text": [
        "... 210000\r\n"
       ]
      }
     ],
     "prompt_number": 9
    },
    {
     "cell_type": "code",
     "collapsed": false,
     "input": [
      "!cd ../outputs/rna && python ../../scripts/make-reciprocal-best-hits.py chick.x.uniprot uniprot.x.chick chick.x.uniprot.ortho"
     ],
     "language": "python",
     "metadata": {},
     "outputs": [
      {
       "output_type": "stream",
       "stream": "stdout",
       "text": [
        "collecting best hits from: chick.x.uniprot\r\n",
        "... chick.x.uniprot 0\r\n"
       ]
      },
      {
       "output_type": "stream",
       "stream": "stdout",
       "text": [
        "... chick.x.uniprot 25000\r\n"
       ]
      },
      {
       "output_type": "stream",
       "stream": "stdout",
       "text": [
        "... chick.x.uniprot 50000\r\n"
       ]
      },
      {
       "output_type": "stream",
       "stream": "stdout",
       "text": [
        "... chick.x.uniprot 75000\r\n"
       ]
      },
      {
       "output_type": "stream",
       "stream": "stdout",
       "text": [
        "... chick.x.uniprot 100000\r\n"
       ]
      },
      {
       "output_type": "stream",
       "stream": "stdout",
       "text": [
        "... chick.x.uniprot 125000\r\n"
       ]
      },
      {
       "output_type": "stream",
       "stream": "stdout",
       "text": [
        "... chick.x.uniprot 150000\r\n"
       ]
      },
      {
       "output_type": "stream",
       "stream": "stdout",
       "text": [
        "... chick.x.uniprot 175000\r\n"
       ]
      },
      {
       "output_type": "stream",
       "stream": "stdout",
       "text": [
        "... chick.x.uniprot 200000\r\n"
       ]
      },
      {
       "output_type": "stream",
       "stream": "stdout",
       "text": [
        "collecting best hits from: uniprot.x.chick\r\n"
       ]
      },
      {
       "output_type": "stream",
       "stream": "stdout",
       "text": [
        "... uniprot.x.chick 0\r\n"
       ]
      },
      {
       "output_type": "stream",
       "stream": "stdout",
       "text": [
        "... uniprot.x.chick 25000\r\n"
       ]
      },
      {
       "output_type": "stream",
       "stream": "stdout",
       "text": [
        "... uniprot.x.chick 50000\r\n"
       ]
      },
      {
       "output_type": "stream",
       "stream": "stdout",
       "text": [
        "... uniprot.x.chick 75000\r\n"
       ]
      },
      {
       "output_type": "stream",
       "stream": "stdout",
       "text": [
        "... uniprot.x.chick 100000\r\n"
       ]
      },
      {
       "output_type": "stream",
       "stream": "stdout",
       "text": [
        "... uniprot.x.chick 125000\r\n"
       ]
      },
      {
       "output_type": "stream",
       "stream": "stdout",
       "text": [
        "... uniprot.x.chick 150000\r\n"
       ]
      },
      {
       "output_type": "stream",
       "stream": "stdout",
       "text": [
        "... uniprot.x.chick 175000\r\n"
       ]
      },
      {
       "output_type": "stream",
       "stream": "stdout",
       "text": [
        "... uniprot.x.chick 200000\r\n"
       ]
      },
      {
       "output_type": "stream",
       "stream": "stdout",
       "text": [
        "... uniprot.x.chick 225000\r\n"
       ]
      },
      {
       "output_type": "stream",
       "stream": "stdout",
       "text": [
        "... uniprot.x.chick 250000\r\n"
       ]
      },
      {
       "output_type": "stream",
       "stream": "stdout",
       "text": [
        "... uniprot.x.chick 275000\r\n"
       ]
      },
      {
       "output_type": "stream",
       "stream": "stdout",
       "text": [
        "... uniprot.x.chick 300000\r\n"
       ]
      },
      {
       "output_type": "stream",
       "stream": "stdout",
       "text": [
        "... uniprot.x.chick 325000\r\n"
       ]
      },
      {
       "output_type": "stream",
       "stream": "stdout",
       "text": [
        "... uniprot.x.chick 350000\r\n"
       ]
      },
      {
       "output_type": "stream",
       "stream": "stdout",
       "text": [
        "... uniprot.x.chick 375000\r\n"
       ]
      },
      {
       "output_type": "stream",
       "stream": "stdout",
       "text": [
        "saving best hits result to chick.x.uniprot.ortho.cache\r\n"
       ]
      },
      {
       "output_type": "stream",
       "stream": "stdout",
       "text": [
        "calculating reciprocal best hits\r\n"
       ]
      },
      {
       "output_type": "stream",
       "stream": "stdout",
       "text": [
        "saving reciprocal best hits to chick.x.uniprot.ortho\r\n"
       ]
      }
     ],
     "prompt_number": 10
    },
    {
     "cell_type": "code",
     "collapsed": false,
     "input": [
      "!cd ../outputs/rna && python ../../scripts/annotate-seqs.py ../chicken_transcripts/global_merged.fa.clean.nr.renamed.fasta chick.x.uniprot.ortho chick.x.uniprot.homol"
     ],
     "language": "python",
     "metadata": {},
     "outputs": [
      {
       "output_type": "stream",
       "stream": "stdout",
       "text": [
        "Scanning sequences -- first pass to gather info\r\n"
       ]
      },
      {
       "output_type": "stream",
       "stream": "stdout",
       "text": [
        "... 0\r\n"
       ]
      },
      {
       "output_type": "stream",
       "stream": "stdout",
       "text": [
        "... 25000\r\n"
       ]
      },
      {
       "output_type": "stream",
       "stream": "stdout",
       "text": [
        "... 50000\r\n"
       ]
      },
      {
       "output_type": "stream",
       "stream": "stdout",
       "text": [
        "... 75000\r\n"
       ]
      },
      {
       "output_type": "stream",
       "stream": "stdout",
       "text": [
        "... 100000\r\n"
       ]
      },
      {
       "output_type": "stream",
       "stream": "stdout",
       "text": [
        "... 125000\r\n"
       ]
      },
      {
       "output_type": "stream",
       "stream": "stdout",
       "text": [
        "... 150000\r\n"
       ]
      },
      {
       "output_type": "stream",
       "stream": "stdout",
       "text": [
        "... 175000\r\n"
       ]
      },
      {
       "output_type": "stream",
       "stream": "stdout",
       "text": [
        "... 200000\r\n"
       ]
      },
      {
       "output_type": "stream",
       "stream": "stdout",
       "text": [
        "... 225000\r\n"
       ]
      },
      {
       "output_type": "stream",
       "stream": "stdout",
       "text": [
        "... 250000\r\n"
       ]
      },
      {
       "output_type": "stream",
       "stream": "stdout",
       "text": [
        "... 275000\r\n"
       ]
      },
      {
       "output_type": "stream",
       "stream": "stdout",
       "text": [
        "... 300000\r\n"
       ]
      },
      {
       "output_type": "stream",
       "stream": "stdout",
       "text": [
        "... 325000\r\n"
       ]
      },
      {
       "output_type": "stream",
       "stream": "stdout",
       "text": [
        "... 350000\r\n"
       ]
      },
      {
       "output_type": "stream",
       "stream": "stdout",
       "text": [
        "... 375000\r\n"
       ]
      },
      {
       "output_type": "stream",
       "stream": "stdout",
       "text": [
        "... 400000\r\n"
       ]
      },
      {
       "output_type": "stream",
       "stream": "stdout",
       "text": [
        "second pass: annotating\r\n",
        "... x2 0\r\n"
       ]
      },
      {
       "output_type": "stream",
       "stream": "stdout",
       "text": [
        "... x2 25000\r\n"
       ]
      },
      {
       "output_type": "stream",
       "stream": "stdout",
       "text": [
        "... x2 50000\r\n"
       ]
      },
      {
       "output_type": "stream",
       "stream": "stdout",
       "text": [
        "... x2 75000\r\n"
       ]
      },
      {
       "output_type": "stream",
       "stream": "stdout",
       "text": [
        "... x2 100000\r\n"
       ]
      },
      {
       "output_type": "stream",
       "stream": "stdout",
       "text": [
        "... x2 125000\r\n"
       ]
      },
      {
       "output_type": "stream",
       "stream": "stdout",
       "text": [
        "... x2 150000\r\n"
       ]
      },
      {
       "output_type": "stream",
       "stream": "stdout",
       "text": [
        "... x2 175000\r\n"
       ]
      },
      {
       "output_type": "stream",
       "stream": "stdout",
       "text": [
        "... x2 200000\r\n"
       ]
      },
      {
       "output_type": "stream",
       "stream": "stdout",
       "text": [
        "... x2 225000\r\n"
       ]
      },
      {
       "output_type": "stream",
       "stream": "stdout",
       "text": [
        "... x2 250000\r\n"
       ]
      },
      {
       "output_type": "stream",
       "stream": "stdout",
       "text": [
        "... x2 275000\r\n"
       ]
      },
      {
       "output_type": "stream",
       "stream": "stdout",
       "text": [
        "... x2 300000\r\n"
       ]
      },
      {
       "output_type": "stream",
       "stream": "stdout",
       "text": [
        "... x2 325000\r\n"
       ]
      },
      {
       "output_type": "stream",
       "stream": "stdout",
       "text": [
        "... x2 350000\r\n"
       ]
      },
      {
       "output_type": "stream",
       "stream": "stdout",
       "text": [
        "... x2 375000\r\n"
       ]
      },
      {
       "output_type": "stream",
       "stream": "stdout",
       "text": [
        "... x2 400000\r\n"
       ]
      },
      {
       "output_type": "stream",
       "stream": "stdout",
       "text": [
        "----\r\n",
        "419276 sequences total\r\n",
        "30515 annotated / ortho\r\n",
        "182561 annotated / homol\r\n",
        "0 annotated / tr\r\n",
        "213076 total annotated\r\n",
        "\r\n",
        "annotated sequences in FASTA format: global_merged.fa.clean.nr.renamed.fasta.annot\r\n",
        "annotation spreadsheet in: global_merged.fa.clean.nr.renamed.fasta.annot.csv\r\n",
        "annotation spreadsheet with sequences (warning: LARGE): global_merged.fa.clean.nr.renamed.fasta.annot.large.csv\r\n"
       ]
      }
     ],
     "prompt_number": 11
    },
    {
     "cell_type": "heading",
     "level": 2,
     "metadata": {},
     "source": [
      "Recalculating Venn diagram with ortho"
     ]
    },
    {
     "cell_type": "code",
     "collapsed": false,
     "input": [
      "!cd ../outputs/rna && python ../../scripts/extract.py global_merged.fa.clean.nr.renamed.fasta.annot ortho.fa ortho"
     ],
     "language": "python",
     "metadata": {},
     "outputs": [],
     "prompt_number": 24
    },
    {
     "cell_type": "code",
     "collapsed": false,
     "input": [
      "%%bash\n",
      "module load BLAST+\n",
      "#cd ../outputs/galGal4 && makeblastdb -in galGal4.fa -out galGal4_db -dbtype nucl\n",
      "cd ../outputs/moleculo && makeblastdb -in LR6000017-DNA_A01-LRAAA-AllReads.fasta -out moleculo_db -dbtype nucl"
     ],
     "language": "python",
     "metadata": {},
     "outputs": [
      {
       "output_type": "stream",
       "stream": "stdout",
       "text": [
        "\n",
        "\n",
        "Building a new DB, current time: 04/29/2014 09:14:28\n",
        "New DB name:   moleculo_db\n",
        "New DB title:  LR6000017-DNA_A01-LRAAA-AllReads.fasta\n",
        "Sequence type: Nucleotide\n",
        "Keep Linkouts: T\n",
        "Keep MBits: T\n",
        "Maximum file size: 1000000000B\n",
        "Adding sequences from FASTA; added 1579060 sequences in 480.157 seconds.\n"
       ]
      },
      {
       "output_type": "stream",
       "stream": "stderr",
       "text": [
        "application-specific initialization failed: Can't find a usable init.tcl in the following directories: \n",
        "    /opt/anaconda1anaconda2anaconda3/lib/tcl8.5 /usr/lib/tcl8.5 /lib/tcl8.5 /usr/library /library /tcl8.5.13/library /tcl8.5.13/library\n",
        "\n",
        "\n",
        "\n",
        "This probably means that Tcl wasn't installed properly.\n",
        "\n"
       ]
      }
     ],
     "prompt_number": 38
    },
    {
     "cell_type": "code",
     "collapsed": false,
     "input": [
      "#!cd ../scripts && ./submit_blast_ortho_ref.pbs\n",
      "#!cp ../workdir/results/Chick_RNA_BLAST.txt ../outputs/rna/Chick_RNA_BLAST.txt\n",
      "#!mv ../workdir/ ../workdirs/ortho_blast_ref"
     ],
     "language": "python",
     "metadata": {},
     "outputs": [
      {
       "output_type": "stream",
       "stream": "stdout",
       "text": [
        "17729447.mgr-04.i\r\n"
       ]
      }
     ],
     "prompt_number": 39
    },
    {
     "cell_type": "code",
     "collapsed": false,
     "input": [
      "!cd ../outputs/rna/ && python ../../scripts/find_match_2.py ortho.fa Chick_RNA_BLAST.txt ortho.rna.ref"
     ],
     "language": "python",
     "metadata": {},
     "outputs": [
      {
       "output_type": "stream",
       "stream": "stdout",
       "text": [
        "Number of matches: 26830\r\n",
        "Number of no matches: 3685\r\n"
       ]
      }
     ],
     "prompt_number": 42
    },
    {
     "cell_type": "code",
     "collapsed": false,
     "input": [
      "#!cd ../scripts && ./submit_blast_ortho_moleculo.pbs\n",
      "#!cp ../workdir/results/Moleculo_RNA_BLAST.txt ../outputs/rna/Moleculo_RNA_BLAST.txt\n",
      "#!mv ../workdir/ ../workdirs/ortho_blast_moleculo"
     ],
     "language": "python",
     "metadata": {},
     "outputs": [],
     "prompt_number": 48
    },
    {
     "cell_type": "code",
     "collapsed": false,
     "input": [
      "!cd ../outputs/rna/ && python ../../scripts/find_match_2.py ortho.fa Moleculo_RNA_BLAST.txt ortho.rna.moleculo"
     ],
     "language": "python",
     "metadata": {},
     "outputs": [
      {
       "output_type": "stream",
       "stream": "stdout",
       "text": [
        "Number of matches: 23183\r\n",
        "Number of no matches: 7332\r\n"
       ]
      }
     ],
     "prompt_number": 49
    },
    {
     "cell_type": "code",
     "collapsed": false,
     "input": [
      "with open(\"../outputs/rna/match_ortho.rna.moleculo.txt\") as rna_mol_match:\n",
      "    rna_mol_set = set([line.split(' ')[0] for line in rna_mol_match if line.strip()])\n",
      "\n",
      "with open(\"../outputs/rna/match_ortho.rna.ref.txt\") as rna_ref_match:\n",
      "    rna_ref_set = set([line.split(' ')[0] for line in rna_ref_match if line.strip()])"
     ],
     "language": "python",
     "metadata": {},
     "outputs": [],
     "prompt_number": 3
    },
    {
     "cell_type": "code",
     "collapsed": false,
     "input": [
      "B = len(rna_mol_set & rna_ref_set)\n",
      "A = 26830 - B\n",
      "C = 23183 - B\n",
      "E = 30515\n",
      "D = E - A - C - B\n",
      "\n",
      "print A, B, C, D, E"
     ],
     "language": "python",
     "metadata": {},
     "outputs": [
      {
       "output_type": "stream",
       "stream": "stdout",
       "text": [
        "3650 23180 3 3682 30515\n"
       ]
      }
     ],
     "prompt_number": 14
    },
    {
     "cell_type": "code",
     "collapsed": false,
     "input": [
      "#scale = float(max([A, B, C, D]))\n",
      "#v = venn3((1, 1, 1, D / scale, A / scale, C / scale, B / scale), set_labels=('Ref', 'Moleculo', 'RNA'))\n",
      "\n",
      "v = venn3((1, 1, 1, 1, 1, 1, 1), set_labels=('Ref', 'Moleculo', 'RNA'))\n",
      "\n",
      "v.get_label_by_id('100').set_text('')\n",
      "v.get_label_by_id('010').set_text('')\n",
      "v.get_label_by_id('001').set_text('D\\n%d' % D)\n",
      "\n",
      "v.get_label_by_id('011').set_text('C\\n%d' % C)\n",
      "v.get_label_by_id('101').set_text('A\\n%d' % A)\n",
      "v.get_label_by_id('110').set_text('')\n",
      "\n",
      "v.get_label_by_id('111').set_text('B\\n%d' % B)\n",
      "plt.title('Filtered mRNAseq\\n(only genes with orthology to Uniprot Genes)')"
     ],
     "language": "python",
     "metadata": {},
     "outputs": [
      {
       "metadata": {},
       "output_type": "pyout",
       "prompt_number": 23,
       "text": [
        "<matplotlib.text.Text at 0x2ab821e6b710>"
       ]
      },
      {
       "metadata": {},
       "output_type": "display_data",
       "png": "[encoded data removed]",
       "text": [
        "<matplotlib.figure.Figure at 0x2ab821d96690>"
       ]
      }
     ],
     "prompt_number": 23
    },
    {
     "cell_type": "heading",
     "level": 2,
     "metadata": {},
     "source": [
      "Preparing Human"
     ]
    },
    {
     "cell_type": "code",
     "collapsed": false,
     "input": [
      "!mkdir -p ../{inputs,outputs}/human\n",
      "!cd ../inputs/human && wget -c ftp://ftp.ncbi.nih.gov/refseq/H_sapiens/mRNA_Prot/human.protein.faa.gz\n",
      "!cp ../inputs/human/human.protein.faa.gz ../outputs/human/\n",
      "!gunzip -f ../outputs/human/human.protein.faa.gz"
     ],
     "language": "python",
     "metadata": {},
     "outputs": [
      {
       "output_type": "stream",
       "stream": "stdout",
       "text": [
        "--2014-04-17 15:45:15--  ftp://ftp.ncbi.nih.gov/refseq/H_sapiens/mRNA_Prot/human.protein.faa.gz\r\n",
        "           => \u201chuman.protein.faa.gz\u201d\r\n",
        "Resolving ftp.ncbi.nih.gov... "
       ]
      },
      {
       "output_type": "stream",
       "stream": "stdout",
       "text": [
        "130.14.250.10, 2607:f220:41e:250::11\r\n",
        "Connecting to ftp.ncbi.nih.gov|130.14.250.10|:21... "
       ]
      },
      {
       "output_type": "stream",
       "stream": "stdout",
       "text": [
        "connected.\r\n",
        "Logging in as anonymous ... "
       ]
      },
      {
       "output_type": "stream",
       "stream": "stdout",
       "text": [
        "Logged in!\r\n",
        "==> SYST ... done.    ==> PWD ... done.\r\n",
        "==> TYPE I ... "
       ]
      },
      {
       "output_type": "stream",
       "stream": "stdout",
       "text": [
        "done.  ==> CWD (1) /refseq/H_sapiens/mRNA_Prot ... done.\r\n",
        "==> SIZE human.protein.faa.gz ... "
       ]
      },
      {
       "output_type": "stream",
       "stream": "stdout",
       "text": [
        "18881310\r\n",
        "==> PASV ... "
       ]
      },
      {
       "output_type": "stream",
       "stream": "stdout",
       "text": [
        "done.    ==> RETR human.protein.faa.gz ... done.\r\n",
        "Length: 18881310 (18M) (unauthoritative)\r\n",
        "\r\n",
        "\r",
        " 0% [                                       ] 0           --.-K/s              "
       ]
      },
      {
       "output_type": "stream",
       "stream": "stdout",
       "text": [
        "\r",
        " 3% [>                                      ] 748,616     3.56M/s              "
       ]
      },
      {
       "output_type": "stream",
       "stream": "stdout",
       "text": [
        "\r",
        "14% [====>                                  ] 2,822,152   6.72M/s              "
       ]
      },
      {
       "output_type": "stream",
       "stream": "stdout",
       "text": [
        "\r",
        "26% [=========>                             ] 4,911,616   7.80M/s              "
       ]
      },
      {
       "output_type": "stream",
       "stream": "stdout",
       "text": [
        "\r",
        "36% [=============>                         ] 6,875,104   7.75M/s              "
       ]
      },
      {
       "output_type": "stream",
       "stream": "stdout",
       "text": [
        "\r",
        "48% [==================>                    ] 9,217,968   8.40M/s              "
       ]
      },
      {
       "output_type": "stream",
       "stream": "stdout",
       "text": [
        "\r",
        "59% [======================>                ] 11,319,016  8.66M/s              "
       ]
      },
      {
       "output_type": "stream",
       "stream": "stdout",
       "text": [
        "\r",
        "71% [==========================>            ] 13,441,784  8.86M/s              "
       ]
      },
      {
       "output_type": "stream",
       "stream": "stdout",
       "text": [
        "\r",
        "82% [===============================>       ] 15,554,416  9.01M/s              "
       ]
      },
      {
       "output_type": "stream",
       "stream": "stdout",
       "text": [
        "\r",
        "93% [===================================>   ] 17,648,224  9.11M/s              "
       ]
      },
      {
       "output_type": "stream",
       "stream": "stdout",
       "text": [
        "\r",
        "100%[======================================>] 18,881,310  9.18M/s   in 2.0s    \r\n",
        "\r\n",
        "2014-04-17 15:45:17 (9.18 MB/s) - \u201chuman.protein.faa.gz\u201d saved [18881310]\r\n",
        "\r\n"
       ]
      }
     ],
     "prompt_number": 1
    },
    {
     "cell_type": "code",
     "collapsed": false,
     "input": [
      "!cd ../outputs/human && formatdb -i human.protein.faa -o T -p T"
     ],
     "language": "python",
     "metadata": {},
     "outputs": [],
     "prompt_number": 80
    },
    {
     "cell_type": "code",
     "collapsed": false,
     "input": [
      "!cd ../outputs/human && python ../../scripts/make-namedb.py human.protein.faa human.namedb"
     ],
     "language": "python",
     "metadata": {},
     "outputs": [],
     "prompt_number": 7
    },
    {
     "cell_type": "code",
     "collapsed": false,
     "input": [
      "!cd ../outputs/human && python -m screed.fadbm human.protein.faa"
     ],
     "language": "python",
     "metadata": {},
     "outputs": [
      {
       "output_type": "stream",
       "stream": "stdout",
       "text": [
        "Database saved in human.protein.faa_screed\r\n"
       ]
      }
     ],
     "prompt_number": 8
    },
    {
     "cell_type": "heading",
     "level": 3,
     "metadata": {},
     "source": [
      "Human ortho"
     ]
    },
    {
     "cell_type": "code",
     "collapsed": false,
     "input": [
      "#!cd ../scripts && ./submit_blast_human_chick.pbs\n",
      "#!cd ../scripts && ./submit_blast_chick_human.pbs"
     ],
     "language": "python",
     "metadata": {},
     "outputs": []
    },
    {
     "cell_type": "code",
     "collapsed": false,
     "input": [
      "#!cp ../workdir/results/human.x.chick ../outputs/rna/human.x.chick\n",
      "#!cp ../workdir/results/chick.x.human ../outputs/rna/chick.x.human"
     ],
     "language": "python",
     "metadata": {},
     "outputs": [],
     "prompt_number": 9
    },
    {
     "cell_type": "code",
     "collapsed": false,
     "input": [
      "!cd ../outputs/rna && python ../../scripts/make-uni-best-hits.py chick.x.human chick.x.human.homol"
     ],
     "language": "python",
     "metadata": {},
     "outputs": [
      {
       "output_type": "stream",
       "stream": "stdout",
       "text": [
        "collecting best hits\r\n"
       ]
      },
      {
       "output_type": "stream",
       "stream": "stdout",
       "text": [
        "... 0\r\n"
       ]
      },
      {
       "output_type": "stream",
       "stream": "stdout",
       "text": [
        "... 10000\r\n"
       ]
      },
      {
       "output_type": "stream",
       "stream": "stdout",
       "text": [
        "... 20000\r\n"
       ]
      }
     ],
     "prompt_number": 10
    },
    {
     "cell_type": "code",
     "collapsed": false,
     "input": [
      "!cd ../outputs/rna && python ../../scripts/make-reciprocal-best-hits.py chick.x.human human.x.chick chick.x.human.ortho"
     ],
     "language": "python",
     "metadata": {},
     "outputs": [
      {
       "output_type": "stream",
       "stream": "stdout",
       "text": [
        "collecting best hits from: chick.x.human\r\n"
       ]
      },
      {
       "output_type": "stream",
       "stream": "stdout",
       "text": [
        "... chick.x.human 0\r\n"
       ]
      },
      {
       "output_type": "stream",
       "stream": "stdout",
       "text": [
        "... chick.x.human 25000\r\n"
       ]
      },
      {
       "output_type": "stream",
       "stream": "stdout",
       "text": [
        "collecting best hits from: human.x.chick\r\n"
       ]
      },
      {
       "output_type": "stream",
       "stream": "stdout",
       "text": [
        "... human.x.chick 0\r\n"
       ]
      },
      {
       "output_type": "stream",
       "stream": "stdout",
       "text": [
        "... human.x.chick 25000\r\n"
       ]
      },
      {
       "output_type": "stream",
       "stream": "stdout",
       "text": [
        "saving best hits result to chick.x.human.ortho.cache\r\n"
       ]
      },
      {
       "output_type": "stream",
       "stream": "stdout",
       "text": [
        "calculating reciprocal best hits\r\n"
       ]
      },
      {
       "output_type": "stream",
       "stream": "stdout",
       "text": [
        "saving reciprocal best hits to chick.x.human.ortho\r\n"
       ]
      }
     ],
     "prompt_number": 11
    },
    {
     "cell_type": "code",
     "collapsed": false,
     "input": [
      "!cd ../outputs/rna && python ../../scripts/annotate-seqs.py only_rna.fa.renamed.fasta chick.x.human.ortho chick.x.human.homol"
     ],
     "language": "python",
     "metadata": {},
     "outputs": [
      {
       "output_type": "stream",
       "stream": "stdout",
       "text": [
        "Scanning sequences -- first pass to gather info\r\n"
       ]
      },
      {
       "output_type": "stream",
       "stream": "stdout",
       "text": [
        "... 0\r\n"
       ]
      },
      {
       "output_type": "stream",
       "stream": "stdout",
       "text": [
        "... 25000\r\n"
       ]
      },
      {
       "output_type": "stream",
       "stream": "stdout",
       "text": [
        "... 50000\r\n"
       ]
      },
      {
       "output_type": "stream",
       "stream": "stdout",
       "text": [
        "... 75000\r\n"
       ]
      },
      {
       "output_type": "stream",
       "stream": "stdout",
       "text": [
        "... 100000\r\n"
       ]
      },
      {
       "output_type": "stream",
       "stream": "stdout",
       "text": [
        "second pass: annotating\r\n",
        "... x2 0\r\n"
       ]
      },
      {
       "output_type": "stream",
       "stream": "stdout",
       "text": [
        "... x2 25000\r\n"
       ]
      },
      {
       "output_type": "stream",
       "stream": "stdout",
       "text": [
        "... x2 50000\r\n"
       ]
      },
      {
       "output_type": "stream",
       "stream": "stdout",
       "text": [
        "... x2 75000\r\n"
       ]
      },
      {
       "output_type": "stream",
       "stream": "stdout",
       "text": [
        "... x2 100000\r\n"
       ]
      },
      {
       "output_type": "stream",
       "stream": "stdout",
       "text": [
        "----\r\n",
        "121300 sequences total\r\n",
        "0 annotated / ortho\r\n",
        "0 annotated / homol\r\n",
        "0 annotated / tr\r\n",
        "0 total annotated\r\n",
        "\r\n",
        "annotated sequences in FASTA format: only_rna.fa.renamed.fasta.annot\r\n",
        "annotation spreadsheet in: only_rna.fa.renamed.fasta.annot.csv\r\n",
        "annotation spreadsheet with sequences (warning: LARGE): only_rna.fa.renamed.fasta.annot.large.csv\r\n"
       ]
      }
     ],
     "prompt_number": 12
    },
    {
     "cell_type": "code",
     "collapsed": false,
     "input": [],
     "language": "python",
     "metadata": {},
     "outputs": []
    }
   ],
   "metadata": {}
  }
 ]
}